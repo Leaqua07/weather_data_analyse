{
 "cells": [
  {
   "source": [
    "*von Benedikt Funke*\n",
    "\n",
    "### Einfügen von Stationsdaten in die MongoDB\n",
    "\n",
    "Eine entscheidende Datengrundlage bilden die Stationsdaten der einzelnen Wetterstationen. Anhand derer Koordinaten wird in einem späteren Schritt die Projektion auf eine Deutschlandkarte vorgenommen. Außerdem wird über die `STATION_ID` die Zuordnung der Temperaturen zu den richtigen Station vorgenommen.\n",
    "\n",
    "Um eine möglichst einheitliche und zuverlässige Datenquelle zu verwenden, werden die offiziellen Wetterdaten des Deutschen Wetterdienstes verwendet. Dieser stellt unter seiner OpenData-Strategie eine Vielzahl von aktuellen und historischen Wetterdaten zur Verfügung. Diese Daten können in python mithilfe der `wetterdienst`-Bibliothek (siehe [github](https://github.com/earthobservations/wetterdienst)) abgerufen werden.\n",
    "\n",
    "Alle Stationen, die für die Auswertung der Temperaturen genutzt werden, müssen in dem Zeitraum vom 01.07.2020 bis zum 31.08.2020 stündlich Daten geliefert haben. Dies wird durch die verschiedenen Parametern beim Aufrufen der `DWDObservationSites`-Klasse erreicht. (siehe unten)\n",
    "\n",
    "Die erhaltenen Daten befinden sich in einem `pandas Dataframe` und werden für die Speicherung in der Datenbank in ein `Dictionary` umgewandelt. Dieses wird anschließend direkt mithilfe der `pymongo`-Bibliothek in die Datenbank importiert. Vorher werden jedoch noch eventuell vorhandene alte Daten gelöscht."
   ],
   "cell_type": "markdown",
   "metadata": {}
  },
  {
   "cell_type": "code",
   "execution_count": null,
   "metadata": {},
   "outputs": [],
   "source": [
    "from wetterdienst.dwd.observations import DWDObservationSites, DWDObservationParameterSet, DWDObservationPeriod, DWDObservationResolution\n",
    "from pymongo import MongoClient\n",
    "\n",
    "sites = DWDObservationSites(\n",
    "    parameter_set=DWDObservationParameterSet.TEMPERATURE_AIR,\n",
    "    resolution=DWDObservationResolution.HOURLY,\n",
    "    start_date=\"2020-07-01\",\n",
    "    end_date=\"2020_08-31\",\n",
    "    period=DWDObservationPeriod.HISTORICAL\n",
    ")\n",
    "df = sites.all()\n",
    "df.head()\n",
    "df_dict = df.to_dict(\"records\")\n",
    "\n",
    "client = MongoClient('mongodb://localhost:27017/')\n",
    "stations = client.bda.stations\n",
    "stations.delete_many({})\n",
    "\n",
    "stations.insert_many(df_dict)\n",
    "client.close()"
   ]
  }
 ],
 "metadata": {
  "kernelspec": {
   "name": "Python 3.8.6 64-bit",
   "display_name": "Python 3.8.6 64-bit",
   "metadata": {
    "interpreter": {
     "hash": "2db524e06e9f5f4ffedc911c917cb75e12dbc923643829bf417064a77eb14d37"
    }
   }
  },
  "language_info": {
   "codemirror_mode": {
    "name": "ipython",
    "version": 3
   },
   "file_extension": ".py",
   "mimetype": "text/x-python",
   "name": "python",
   "nbconvert_exporter": "python",
   "pygments_lexer": "ipython3",
   "version": "3.8.6-final"
  }
 },
 "nbformat": 4,
 "nbformat_minor": 2
}