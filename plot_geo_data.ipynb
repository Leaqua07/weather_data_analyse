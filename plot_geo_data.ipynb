{
 "cells": [
  {
   "cell_type": "code",
   "execution_count": null,
   "metadata": {},
   "outputs": [],
   "source": [
    "import numpy as np\n",
    "import pandas as pd\n",
    "import plotly.express as px\n",
    "from pymongo import MongoClient"
   ]
  },
  {
   "cell_type": "code",
   "execution_count": null,
   "metadata": {},
   "outputs": [],
   "source": [
    "client = MongoClient('mongodb://localhost:27017/')\n",
    "stations = client.bda.stations\n",
    "weather = client.bda.weather"
   ]
  },
  {
   "cell_type": "code",
   "execution_count": null,
   "metadata": {},
   "outputs": [],
   "source": [
    "def get_collection(collection):\n",
    "    documents = []\n",
    "    cursor = collection.find({})\n",
    "    for document in cursor:\n",
    "        documents.append(document)\n",
    "    return documents"
   ]
  },
  {
   "cell_type": "code",
   "execution_count": null,
   "metadata": {},
   "outputs": [],
   "source": [
    "stations_df = pd.DataFrame(get_collection(stations))\n",
    "stations_df = stations_df.rename(columns={\"STATION_ID\": \"station_id\"})"
   ]
  },
  {
   "cell_type": "code",
   "execution_count": null,
   "metadata": {},
   "outputs": [],
   "source": [
    "weather_df = pd.DataFrame(get_collection(weather))"
   ]
  },
  {
   "cell_type": "code",
   "execution_count": null,
   "metadata": {},
   "outputs": [],
   "source": [
    "weather_stations = pd.merge(weather_df,stations_df, on=\"station_id\", how=\"left\")\n",
    "weather_stations"
   ]
  },
  {
   "cell_type": "code",
   "execution_count": null,
   "metadata": {},
   "outputs": [],
   "source": [
    "def get_temp_between_dates(data, date1, date2):\n",
    "    result = data.loc[data['date']>date1]\n",
    "    result = result.loc[result['date']<date2]\n",
    "    result = result.astype({'date': 'string'})\n",
    "    return result"
   ]
  },
  {
   "cell_type": "code",
   "execution_count": null,
   "metadata": {},
   "outputs": [],
   "source": [
    "plot_data = get_temp_between_dates(weather_stations, '2020-08-20 00:00:00', '2020-08-31 00:00:00')\n",
    "plot_data"
   ]
  },
  {
   "cell_type": "code",
   "execution_count": null,
   "metadata": {},
   "outputs": [],
   "source": [
    "fig = px.scatter_mapbox(\n",
    "    plot_data, lat=\"LAT\", lon=\"LON\", size_max=50,\n",
    "    color=\"temperature\", color_continuous_scale=px.colors.sequential.Pinkyl,\n",
    "    hover_name=\"STATION_NAME\", \n",
    "    hover_data=[\"station_id\", \"temperature\", \"STATE\", \"STATION_HEIGHT\"],\n",
    "    mapbox_style=\"open-street-map\",\n",
    "    zoom=4,\n",
    "    height=500,\n",
    "    width =500,\n",
    "    animation_frame=\"date\", animation_group=\"station_id\",\n",
    "    title = \"Temperatur in Deutschland\"\n",
    ")"
   ]
  },
  {
   "cell_type": "code",
   "execution_count": null,
   "metadata": {},
   "outputs": [],
   "source": [
    "fig.layout.updatemenus[0].buttons[0].args[1][\"frame\"][\"duration\"] = 50\n",
    "fig.layout.updatemenus[0].buttons[0].args[1][\"transition\"][\"duration\"] = 50\n",
    "fig.layout.coloraxis.showscale = True\n",
    "fig.layout.coloraxis.colorbar.len = 0.8\n",
    "fig.layout.coloraxis.cmin = -10\n",
    "fig.layout.coloraxis.cmax = 40\n",
    "fig.layout.sliders[0].pad.t = 10\n",
    "fig.layout.updatemenus[0].pad.t= 10"
   ]
  },
  {
   "cell_type": "code",
   "execution_count": null,
   "metadata": {},
   "outputs": [],
   "source": [
    "fig.show()"
   ]
  },
  {
   "cell_type": "code",
   "execution_count": null,
   "metadata": {},
   "outputs": [],
   "source": []
  }
 ],
 "metadata": {
  "kernelspec": {
   "display_name": "Python 3",
   "language": "python",
   "name": "python3"
  },
  "language_info": {
   "codemirror_mode": {
    "name": "ipython",
    "version": 3
   },
   "file_extension": ".py",
   "mimetype": "text/x-python",
   "name": "python",
   "nbconvert_exporter": "python",
   "pygments_lexer": "ipython3",
   "version": "3.7.6"
  }
 },
 "nbformat": 4,
 "nbformat_minor": 4
}
