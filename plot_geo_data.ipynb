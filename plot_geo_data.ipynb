{
 "cells": [
  {
   "cell_type": "code",
   "execution_count": 2,
   "metadata": {},
   "outputs": [],
   "source": [
    "import numpy as np\n",
    "import pandas as pd\n",
    "import plotly.express as px\n",
    "from pymongo import MongoClient"
   ]
  },
  {
   "cell_type": "code",
   "execution_count": 34,
   "metadata": {},
   "outputs": [],
   "source": [
    "client = MongoClient('mongodb://localhost:27017/')\n",
    "stations = client.bda.stations\n",
    "weather = client.bda.weather"
   ]
  },
  {
   "cell_type": "code",
   "execution_count": 35,
   "metadata": {},
   "outputs": [],
   "source": [
    "def get_collection(collection):\n",
    "    documents = []\n",
    "    cursor = collection.find({})\n",
    "    for document in cursor:\n",
    "        documents.append(document)\n",
    "    return documents"
   ]
  },
  {
   "cell_type": "code",
   "execution_count": 36,
   "metadata": {},
   "outputs": [
    {
     "data": {
      "text/html": [
       "<div>\n",
       "<style scoped>\n",
       "    .dataframe tbody tr th:only-of-type {\n",
       "        vertical-align: middle;\n",
       "    }\n",
       "\n",
       "    .dataframe tbody tr th {\n",
       "        vertical-align: top;\n",
       "    }\n",
       "\n",
       "    .dataframe thead th {\n",
       "        text-align: right;\n",
       "    }\n",
       "</style>\n",
       "<table border=\"1\" class=\"dataframe\">\n",
       "  <thead>\n",
       "    <tr style=\"text-align: right;\">\n",
       "      <th></th>\n",
       "      <th>_id</th>\n",
       "      <th>STATION_ID</th>\n",
       "      <th>FROM_DATE</th>\n",
       "      <th>TO_DATE</th>\n",
       "      <th>STATION_HEIGHT</th>\n",
       "      <th>LAT</th>\n",
       "      <th>LON</th>\n",
       "      <th>STATION_NAME</th>\n",
       "      <th>STATE</th>\n",
       "    </tr>\n",
       "  </thead>\n",
       "  <tbody>\n",
       "    <tr>\n",
       "      <th>0</th>\n",
       "      <td>5faab6bb7bf7787ae27726aa</td>\n",
       "      <td>44</td>\n",
       "      <td>2007-04-01</td>\n",
       "      <td>2020-11-09</td>\n",
       "      <td>44.0</td>\n",
       "      <td>52.9336</td>\n",
       "      <td>8.2370</td>\n",
       "      <td>Großenkneten</td>\n",
       "      <td>Niedersachsen</td>\n",
       "    </tr>\n",
       "    <tr>\n",
       "      <th>1</th>\n",
       "      <td>5faab6bb7bf7787ae27726ab</td>\n",
       "      <td>73</td>\n",
       "      <td>2007-04-01</td>\n",
       "      <td>2020-11-09</td>\n",
       "      <td>340.0</td>\n",
       "      <td>48.6159</td>\n",
       "      <td>13.0506</td>\n",
       "      <td>Aldersbach-Kriestorf</td>\n",
       "      <td>Bayern</td>\n",
       "    </tr>\n",
       "    <tr>\n",
       "      <th>2</th>\n",
       "      <td>5faab6bb7bf7787ae27726ac</td>\n",
       "      <td>78</td>\n",
       "      <td>2004-11-01</td>\n",
       "      <td>2020-11-09</td>\n",
       "      <td>65.0</td>\n",
       "      <td>52.4853</td>\n",
       "      <td>7.9126</td>\n",
       "      <td>Alfhausen</td>\n",
       "      <td>Niedersachsen</td>\n",
       "    </tr>\n",
       "    <tr>\n",
       "      <th>3</th>\n",
       "      <td>5faab6bb7bf7787ae27726ad</td>\n",
       "      <td>91</td>\n",
       "      <td>2004-09-01</td>\n",
       "      <td>2020-11-09</td>\n",
       "      <td>300.0</td>\n",
       "      <td>50.7446</td>\n",
       "      <td>9.3450</td>\n",
       "      <td>Alsfeld-Eifa</td>\n",
       "      <td>Hessen</td>\n",
       "    </tr>\n",
       "    <tr>\n",
       "      <th>4</th>\n",
       "      <td>5faab6bb7bf7787ae27726ae</td>\n",
       "      <td>96</td>\n",
       "      <td>2019-04-09</td>\n",
       "      <td>2020-11-09</td>\n",
       "      <td>50.0</td>\n",
       "      <td>52.9437</td>\n",
       "      <td>12.8518</td>\n",
       "      <td>Neuruppin-Alt Ruppin</td>\n",
       "      <td>Brandenburg</td>\n",
       "    </tr>\n",
       "    <tr>\n",
       "      <th>...</th>\n",
       "      <td>...</td>\n",
       "      <td>...</td>\n",
       "      <td>...</td>\n",
       "      <td>...</td>\n",
       "      <td>...</td>\n",
       "      <td>...</td>\n",
       "      <td>...</td>\n",
       "      <td>...</td>\n",
       "      <td>...</td>\n",
       "    </tr>\n",
       "    <tr>\n",
       "      <th>489</th>\n",
       "      <td>5faab6bb7bf7787ae2772893</td>\n",
       "      <td>13965</td>\n",
       "      <td>2008-12-01</td>\n",
       "      <td>2020-11-09</td>\n",
       "      <td>619.0</td>\n",
       "      <td>48.2639</td>\n",
       "      <td>8.8134</td>\n",
       "      <td>Balingen-Bronnhaupten</td>\n",
       "      <td>Baden-Württemberg</td>\n",
       "    </tr>\n",
       "    <tr>\n",
       "      <th>490</th>\n",
       "      <td>5faab6bb7bf7787ae2772894</td>\n",
       "      <td>15000</td>\n",
       "      <td>2011-04-01</td>\n",
       "      <td>2020-11-09</td>\n",
       "      <td>231.0</td>\n",
       "      <td>50.7983</td>\n",
       "      <td>6.0244</td>\n",
       "      <td>Aachen-Orsbach</td>\n",
       "      <td>Nordrhein-Westfalen</td>\n",
       "    </tr>\n",
       "    <tr>\n",
       "      <th>491</th>\n",
       "      <td>5faab6bb7bf7787ae2772895</td>\n",
       "      <td>15207</td>\n",
       "      <td>2013-11-01</td>\n",
       "      <td>2020-11-09</td>\n",
       "      <td>317.0</td>\n",
       "      <td>51.2835</td>\n",
       "      <td>9.3590</td>\n",
       "      <td>Schauenburg-Elgershausen</td>\n",
       "      <td>Hessen</td>\n",
       "    </tr>\n",
       "    <tr>\n",
       "      <th>492</th>\n",
       "      <td>5faab6bb7bf7787ae2772896</td>\n",
       "      <td>15444</td>\n",
       "      <td>2014-09-01</td>\n",
       "      <td>2020-11-09</td>\n",
       "      <td>593.0</td>\n",
       "      <td>48.4418</td>\n",
       "      <td>9.9216</td>\n",
       "      <td>Ulm-Mähringen</td>\n",
       "      <td>Baden-Württemberg</td>\n",
       "    </tr>\n",
       "    <tr>\n",
       "      <th>493</th>\n",
       "      <td>5faab6bb7bf7787ae2772897</td>\n",
       "      <td>15555</td>\n",
       "      <td>2016-05-01</td>\n",
       "      <td>2020-11-09</td>\n",
       "      <td>815.0</td>\n",
       "      <td>47.8761</td>\n",
       "      <td>10.5849</td>\n",
       "      <td>Kaufbeuren-Oberbeuren</td>\n",
       "      <td>Bayern</td>\n",
       "    </tr>\n",
       "  </tbody>\n",
       "</table>\n",
       "<p>494 rows × 9 columns</p>\n",
       "</div>"
      ],
      "text/plain": [
       "                          _id  STATION_ID  FROM_DATE    TO_DATE  \\\n",
       "0    5faab6bb7bf7787ae27726aa          44 2007-04-01 2020-11-09   \n",
       "1    5faab6bb7bf7787ae27726ab          73 2007-04-01 2020-11-09   \n",
       "2    5faab6bb7bf7787ae27726ac          78 2004-11-01 2020-11-09   \n",
       "3    5faab6bb7bf7787ae27726ad          91 2004-09-01 2020-11-09   \n",
       "4    5faab6bb7bf7787ae27726ae          96 2019-04-09 2020-11-09   \n",
       "..                        ...         ...        ...        ...   \n",
       "489  5faab6bb7bf7787ae2772893       13965 2008-12-01 2020-11-09   \n",
       "490  5faab6bb7bf7787ae2772894       15000 2011-04-01 2020-11-09   \n",
       "491  5faab6bb7bf7787ae2772895       15207 2013-11-01 2020-11-09   \n",
       "492  5faab6bb7bf7787ae2772896       15444 2014-09-01 2020-11-09   \n",
       "493  5faab6bb7bf7787ae2772897       15555 2016-05-01 2020-11-09   \n",
       "\n",
       "     STATION_HEIGHT      LAT      LON              STATION_NAME  \\\n",
       "0              44.0  52.9336   8.2370              Großenkneten   \n",
       "1             340.0  48.6159  13.0506      Aldersbach-Kriestorf   \n",
       "2              65.0  52.4853   7.9126                 Alfhausen   \n",
       "3             300.0  50.7446   9.3450              Alsfeld-Eifa   \n",
       "4              50.0  52.9437  12.8518      Neuruppin-Alt Ruppin   \n",
       "..              ...      ...      ...                       ...   \n",
       "489           619.0  48.2639   8.8134     Balingen-Bronnhaupten   \n",
       "490           231.0  50.7983   6.0244            Aachen-Orsbach   \n",
       "491           317.0  51.2835   9.3590  Schauenburg-Elgershausen   \n",
       "492           593.0  48.4418   9.9216             Ulm-Mähringen   \n",
       "493           815.0  47.8761  10.5849     Kaufbeuren-Oberbeuren   \n",
       "\n",
       "                   STATE  \n",
       "0          Niedersachsen  \n",
       "1                 Bayern  \n",
       "2          Niedersachsen  \n",
       "3                 Hessen  \n",
       "4            Brandenburg  \n",
       "..                   ...  \n",
       "489    Baden-Württemberg  \n",
       "490  Nordrhein-Westfalen  \n",
       "491               Hessen  \n",
       "492    Baden-Württemberg  \n",
       "493               Bayern  \n",
       "\n",
       "[494 rows x 9 columns]"
      ]
     },
     "execution_count": 36,
     "metadata": {},
     "output_type": "execute_result"
    }
   ],
   "source": [
    "stations_df = pd.DataFrame(get_collection(stations))\n",
    "stations_df"
   ]
  },
  {
   "cell_type": "code",
   "execution_count": 37,
   "metadata": {},
   "outputs": [
    {
     "data": {
      "application/vnd.plotly.v1+json": {
       "config": {
        "plotlyServerURL": "https://plot.ly"
       },
       "data": [
        {
         "customdata": [
          [
           44,
           "Niedersachsen",
           44
          ],
          [
           73,
           "Bayern",
           340
          ],
          [
           78,
           "Niedersachsen",
           65
          ],
          [
           91,
           "Hessen",
           300
          ],
          [
           96,
           "Brandenburg",
           50
          ],
          [
           102,
           "Niedersachsen",
           32
          ],
          [
           125,
           "Bayern",
           756
          ],
          [
           131,
           "Sachsen",
           296
          ],
          [
           142,
           "Bayern",
           511
          ],
          [
           150,
           "Rheinland-Pfalz",
           215
          ],
          [
           151,
           "Bayern",
           382
          ],
          [
           154,
           "Bayern",
           516
          ],
          [
           161,
           "Rheinland-Pfalz",
           75
          ],
          [
           164,
           "Brandenburg",
           54
          ],
          [
           167,
           "Mecklenburg-Vorpommern",
           9
          ],
          [
           183,
           "Mecklenburg-Vorpommern",
           42
          ],
          [
           191,
           "Bayern",
           217
          ],
          [
           198,
           "Thüringen",
           164
          ],
          [
           217,
           "Bayern",
           670
          ],
          [
           222,
           "Sachsen",
           393
          ],
          [
           232,
           "Bayern",
           462
          ],
          [
           257,
           "Baden-Württemberg",
           240
          ],
          [
           259,
           "Baden-Württemberg",
           273
          ],
          [
           282,
           "Bayern",
           240
          ],
          [
           294,
           "Niedersachsen",
           110
          ],
          [
           298,
           "Mecklenburg-Vorpommern",
           3
          ],
          [
           303,
           "Brandenburg",
           55
          ],
          [
           314,
           "Sachsen",
           234
          ],
          [
           320,
           "Bayern",
           350
          ],
          [
           330,
           "Hessen",
           455
          ],
          [
           342,
           "Niedersachsen",
           103
          ],
          [
           368,
           "Niedersachsen",
           70
          ],
          [
           377,
           "Rheinland-Pfalz",
           210
          ],
          [
           379,
           "Thüringen",
           303
          ],
          [
           390,
           "Nordrhein-Westfalen",
           610
          ],
          [
           400,
           "Berlin",
           60
          ],
          [
           403,
           "Berlin",
           51
          ],
          [
           420,
           "Berlin",
           60
          ],
          [
           427,
           "Brandenburg",
           46
          ],
          [
           430,
           "Berlin",
           36
          ],
          [
           433,
           "Berlin",
           48
          ],
          [
           445,
           "Sachsen-Anhalt",
           85
          ],
          [
           460,
           "Saarland",
           363
          ],
          [
           535,
           "Rheinland-Pfalz",
           417
          ],
          [
           591,
           "Mecklenburg-Vorpommern",
           45
          ],
          [
           596,
           "Mecklenburg-Vorpommern",
           15
          ],
          [
           603,
           "Nordrhein-Westfalen",
           147
          ],
          [
           617,
           "Nordrhein-Westfalen",
           47
          ],
          [
           656,
           "Niedersachsen",
           607
          ],
          [
           662,
           "Niedersachsen",
           81
          ],
          [
           691,
           "Bremen",
           4
          ],
          [
           701,
           "Bremen",
           7
          ],
          [
           704,
           "Niedersachsen",
           11
          ],
          [
           722,
           "Sachsen-Anhalt",
           1134
          ],
          [
           755,
           "Baden-Württemberg",
           340
          ],
          [
           757,
           "Baden-Württemberg",
           445
          ],
          [
           760,
           "Niedersachsen",
           82
          ],
          [
           766,
           "Rheinland-Pfalz",
           477
          ],
          [
           769,
           "Niedersachsen",
           68
          ],
          [
           817,
           "Hessen",
           293
          ],
          [
           840,
           "Sachsen",
           897
          ],
          [
           850,
           "Niedersachsen",
           39
          ],
          [
           853,
           "Sachsen",
           418
          ],
          [
           856,
           "Bayern",
           551
          ],
          [
           867,
           "Bayern",
           344
          ],
          [
           880,
           "Brandenburg",
           69
          ],
          [
           891,
           "Niedersachsen",
           5
          ],
          [
           896,
           "Thüringen",
           170
          ],
          [
           917,
           "Hessen",
           162
          ],
          [
           953,
           "Rheinland-Pfalz",
           481
          ],
          [
           954,
           "Hamburg",
           0
          ],
          [
           963,
           "Niedersachsen",
           38
          ],
          [
           979,
           "Hessen",
           314
          ],
          [
           983,
           "Bayern",
           419
          ],
          [
           991,
           "Sachsen",
           359
          ],
          [
           1001,
           "Brandenburg",
           97
          ],
          [
           1048,
           "Sachsen",
           227
          ],
          [
           1050,
           "Sachsen",
           114
          ],
          [
           1051,
           "Sachsen",
           120
          ],
          [
           1052,
           "Sachsen-Anhalt",
           80
          ],
          [
           1072,
           "Rheinland-Pfalz",
           107
          ],
          [
           1078,
           "Nordrhein-Westfalen",
           37
          ],
          [
           1103,
           "Bayern",
           592
          ],
          [
           1107,
           "Bayern",
           346
          ],
          [
           1161,
           "Bayern",
           384
          ],
          [
           1197,
           "Baden-Württemberg",
           460
          ],
          [
           1200,
           "Schleswig-Holstein",
           3
          ],
          [
           1207,
           "Sachsen",
           558
          ],
          [
           1214,
           "Baden-Württemberg",
           431
          ],
          [
           1224,
           "Baden-Württemberg",
           201
          ],
          [
           1228,
           "Hamburg",
           0
          ],
          [
           1246,
           "Nordrhein-Westfalen",
           104
          ],
          [
           1262,
           "Bayern",
           446
          ],
          [
           1266,
           "Schleswig-Holstein",
           18
          ],
          [
           1270,
           "Thüringen",
           316
          ],
          [
           1279,
           "Bayern",
           268
          ],
          [
           1297,
           "Hessen",
           156
          ],
          [
           1300,
           "Nordrhein-Westfalen",
           351
          ],
          [
           1303,
           "Nordrhein-Westfalen",
           150
          ],
          [
           1327,
           "Nordrhein-Westfalen",
           147
          ],
          [
           1332,
           "Bayern",
           471
          ],
          [
           1339,
           "Niedersachsen",
           73
          ],
          [
           1346,
           "Baden-Württemberg",
           1490
          ],
          [
           1357,
           "Bayern",
           654
          ],
          [
           1358,
           "Sachsen",
           1213
          ],
          [
           1411,
           "Thüringen",
           745
          ],
          [
           1420,
           "Hessen",
           100
          ],
          [
           1424,
           "Hessen",
           124
          ],
          [
           1443,
           "Baden-Württemberg",
           237
          ],
          [
           1451,
           "Niedersachsen",
           2
          ],
          [
           1468,
           "Baden-Württemberg",
           797
          ],
          [
           1503,
           "Niedersachsen",
           6
          ],
          [
           1504,
           "Hessen",
           172
          ],
          [
           1526,
           "Hessen",
           242
          ],
          [
           1544,
           "Sachsen-Anhalt",
           47
          ],
          [
           1550,
           "Bayern",
           719
          ],
          [
           1580,
           "Hessen",
           110
          ],
          [
           1584,
           "Baden-Württemberg",
           672
          ],
          [
           1587,
           "Bayern",
           536
          ],
          [
           1590,
           "Nordrhein-Westfalen",
           37
          ],
          [
           1602,
           "Baden-Württemberg",
           177
          ],
          [
           1605,
           "Sachsen-Anhalt",
           35
          ],
          [
           1612,
           "Thüringen",
           311
          ],
          [
           1639,
           "Hessen",
           203
          ],
          [
           1645,
           "Hessen",
           340
          ],
          [
           1666,
           "Schleswig-Holstein",
           12
          ],
          [
           1684,
           "Sachsen",
           238
          ],
          [
           1691,
           "Niedersachsen",
           167
          ],
          [
           1694,
           "Mecklenburg-Vorpommern",
           58
          ],
          [
           1721,
           "Bayern",
           506
          ],
          [
           1735,
           "Bayern",
           628
          ],
          [
           1736,
           "Schleswig-Holstein",
           27
          ],
          [
           1757,
           "Mecklenburg-Vorpommern",
           2
          ],
          [
           1759,
           "Mecklenburg-Vorpommern",
           12
          ],
          [
           1766,
           "Nordrhein-Westfalen",
           48
          ],
          [
           1803,
           "Mecklenburg-Vorpommern",
           34
          ],
          [
           1832,
           "Bayern",
           1436
          ],
          [
           1863,
           "Hessen",
           258
          ],
          [
           1869,
           "Brandenburg",
           56
          ],
          [
           1886,
           "Bayern",
           444
          ],
          [
           1964,
           "Rheinland-Pfalz",
           328
          ],
          [
           1975,
           "Hamburg",
           14
          ],
          [
           1981,
           "Hamburg",
           3
          ],
          [
           2014,
           "Niedersachsen",
           59
          ],
          [
           2023,
           "Bayern",
           501
          ],
          [
           2039,
           "Niedersachsen",
           201
          ],
          [
           2044,
           "Sachsen-Anhalt",
           404
          ],
          [
           2074,
           "Baden-Württemberg",
           518
          ],
          [
           2110,
           "Nordrhein-Westfalen",
           57
          ],
          [
           2115,
           "Schleswig-Holstein",
           4
          ],
          [
           2171,
           "Hessen",
           272
          ],
          [
           2174,
           "Niedersachsen",
           238
          ],
          [
           2201,
           "Mecklenburg-Vorpommern",
           1
          ],
          [
           2211,
           "Rheinland-Pfalz",
           295
          ],
          [
           2252,
           "Sachsen",
           270
          ],
          [
           2261,
           "Bayern",
           565
          ],
          [
           2290,
           "Bayern",
           977
          ],
          [
           2303,
           "Schleswig-Holstein",
           10
          ],
          [
           2306,
           "Schleswig-Holstein",
           8
          ],
          [
           2315,
           "Sachsen-Anhalt",
           81
          ],
          [
           2319,
           "Bayern",
           685
          ],
          [
           2323,
           "Niedersachsen",
           110
          ],
          [
           2362,
           "Rheinland-Pfalz",
           328
          ],
          [
           2385,
           "Rheinland-Pfalz",
           376
          ],
          [
           2410,
           "Bayern",
           364
          ],
          [
           2429,
           "Schleswig-Holstein",
           21
          ],
          [
           2437,
           "Schleswig-Holstein",
           21
          ],
          [
           2444,
           "Thüringen",
           155
          ],
          [
           2480,
           "Bayern",
           108
          ],
          [
           2483,
           "Nordrhein-Westfalen",
           839
          ],
          [
           2485,
           "Baden-Württemberg",
           489
          ],
          [
           2486,
           "Rheinland-Pfalz",
           271
          ],
          [
           2497,
           "Nordrhein-Westfalen",
           505
          ],
          [
           2559,
           "Bayern",
           705
          ],
          [
           2564,
           "Schleswig-Holstein",
           28
          ],
          [
           2575,
           "Baden-Württemberg",
           426
          ],
          [
           2578,
           "Mecklenburg-Vorpommern",
           12
          ],
          [
           2597,
           "Bayern",
           282
          ],
          [
           2600,
           "Bayern",
           193
          ],
          [
           2601,
           "Hessen",
           826
          ],
          [
           2618,
           "Thüringen",
           732
          ],
          [
           2627,
           "Brandenburg",
           128
          ],
          [
           2629,
           "Nordrhein-Westfalen",
           46
          ],
          [
           2638,
           "Baden-Württemberg",
           974
          ],
          [
           2641,
           "Sachsen",
           85
          ],
          [
           2667,
           "Nordrhein-Westfalen",
           92
          ],
          [
           2680,
           "Bayern",
           289
          ],
          [
           2700,
           "Bayern",
           416
          ],
          [
           2704,
           "Sachsen-Anhalt",
           76
          ],
          [
           2708,
           "Bayern",
           742
          ],
          [
           2712,
           "Baden-Württemberg",
           428
          ],
          [
           2750,
           "Bayern",
           312
          ],
          [
           2773,
           "Bayern",
           417
          ],
          [
           2794,
           "Brandenburg",
           40
          ],
          [
           2796,
           "Mecklenburg-Vorpommern",
           40
          ],
          [
           2812,
           "Baden-Württemberg",
           156
          ],
          [
           2814,
           "Baden-Württemberg",
           685
          ],
          [
           2856,
           "Brandenburg",
           91
          ],
          [
           2878,
           "Sachsen-Anhalt",
           117
          ],
          [
           2886,
           "Baden-Württemberg",
           539
          ],
          [
           2905,
           "Bayern",
           550
          ],
          [
           2907,
           "Schleswig-Holstein",
           7
          ],
          [
           2925,
           "Thüringen",
           356
          ],
          [
           2928,
           "Sachsen",
           138
          ],
          [
           2932,
           "Sachsen",
           131
          ],
          [
           2947,
           "Nordrhein-Westfalen",
           286
          ],
          [
           2951,
           "Brandenburg",
           20
          ],
          [
           2953,
           "Baden-Württemberg",
           852
          ],
          [
           2961,
           "Schleswig-Holstein",
           31
          ],
          [
           2968,
           "Nordrhein-Westfalen",
           43
          ],
          [
           2985,
           "Sachsen",
           321
          ],
          [
           3015,
           "Brandenburg",
           98
          ],
          [
           3028,
           "Nordrhein-Westfalen",
           157
          ],
          [
           3031,
           "Nordrhein-Westfalen",
           92
          ],
          [
           3032,
           "Schleswig-Holstein",
           25
          ],
          [
           3034,
           "Thüringen",
           496
          ],
          [
           3042,
           "Hessen",
           230
          ],
          [
           3083,
           "Brandenburg",
           57
          ],
          [
           3086,
           "Schleswig-Holstein",
           15
          ],
          [
           3093,
           "Niedersachsen",
           16
          ],
          [
           3098,
           "Nordrhein-Westfalen",
           387
          ],
          [
           3126,
           "Sachsen-Anhalt",
           79
          ],
          [
           3137,
           "Rheinland-Pfalz",
           195
          ],
          [
           3155,
           "Rheinland-Pfalz",
           413
          ],
          [
           3158,
           "Brandenburg",
           12
          ],
          [
           3164,
           "Hessen",
           187
          ],
          [
           3166,
           "Sachsen",
           639
          ],
          [
           3167,
           "Rheinland-Pfalz",
           547
          ],
          [
           3196,
           "Mecklenburg-Vorpommern",
           81
          ],
          [
           3204,
           "Thüringen",
           429
          ],
          [
           3226,
           "Sachsen-Anhalt",
           107
          ],
          [
           3231,
           "Thüringen",
           450
          ],
          [
           3234,
           "Sachsen",
           158
          ],
          [
           3244,
           "Bayern",
           615
          ],
          [
           3254,
           "Niedersachsen",
           19
          ],
          [
           3257,
           "Baden-Württemberg",
           250
          ],
          [
           3268,
           "Baden-Württemberg",
           900
          ],
          [
           3271,
           "Bayern",
           314
          ],
          [
           3278,
           "Baden-Württemberg",
           354
          ],
          [
           3284,
           "Hessen",
           240
          ],
          [
           3287,
           "Hessen",
           453
          ],
          [
           3289,
           "Thüringen",
           356
          ],
          [
           3307,
           "Bayern",
           984
          ],
          [
           3319,
           "Bayern",
           239
          ],
          [
           3340,
           "Rheinland-Pfalz",
           265
          ],
          [
           3348,
           "Niedersachsen",
           240
          ],
          [
           3362,
           "Baden-Württemberg",
           244
          ],
          [
           3366,
           "Bayern",
           406
          ],
          [
           3376,
           "Brandenburg",
           63
          ],
          [
           3379,
           "Bayern",
           515
          ],
          [
           3402,
           "Baden-Württemberg",
           750
          ],
          [
           3426,
           "Sachsen",
           127
          ],
          [
           3442,
           "Hessen",
           149
          ],
          [
           3484,
           "Bayern",
           380
          ],
          [
           3485,
           "Bayern",
           486
          ],
          [
           3490,
           "Rheinland-Pfalz",
           111
          ],
          [
           3509,
           "Brandenburg",
           77
          ],
          [
           3513,
           "Thüringen",
           845
          ],
          [
           3527,
           "Hessen",
           500
          ],
          [
           3540,
           "Nordrhein-Westfalen",
           195
          ],
          [
           3545,
           "Saarland",
           236
          ],
          [
           3571,
           "Bayern",
           452
          ],
          [
           3591,
           "Nordrhein-Westfalen",
           350
          ],
          [
           3603,
           "Baden-Württemberg",
           459
          ],
          [
           3612,
           "Niedersachsen",
           25
          ],
          [
           3621,
           "Bayern",
           435
          ],
          [
           3623,
           "Nordrhein-Westfalen",
           111
          ],
          [
           3631,
           "Niedersachsen",
           12
          ],
          [
           3639,
           "Niedersachsen",
           25
          ],
          [
           3660,
           "Rheinland-Pfalz",
           485
          ],
          [
           3667,
           "Bayern",
           368
          ],
          [
           3668,
           "Bayern",
           314
          ],
          [
           3679,
           "Bayern",
           518
          ],
          [
           3730,
           "Bayern",
           806
          ],
          [
           3734,
           "Baden-Württemberg",
           230
          ],
          [
           3739,
           "Bayern",
           596
          ],
          [
           3761,
           "Baden-Württemberg",
           276
          ],
          [
           3811,
           "Sachsen",
           150
          ],
          [
           3821,
           "Sachsen-Anhalt",
           246
          ],
          [
           3836,
           "Bayern",
           314
          ],
          [
           3857,
           "Bayern",
           886
          ],
          [
           3875,
           "Bayern",
           549
          ],
          [
           3897,
           "Schleswig-Holstein",
           2
          ],
          [
           3904,
           "Saarland",
           152
          ],
          [
           3925,
           "Baden-Württemberg",
           332
          ],
          [
           3927,
           "Baden-Württemberg",
           630
          ],
          [
           3939,
           "Rheinland-Pfalz",
           385
          ],
          [
           3946,
           "Sachsen",
           386
          ],
          [
           3975,
           "Bayern",
           522
          ],
          [
           3987,
           "Brandenburg",
           81
          ],
          [
           4024,
           "Mecklenburg-Vorpommern",
           40
          ],
          [
           4032,
           "Sachsen-Anhalt",
           142
          ],
          [
           4036,
           "Sachsen-Anhalt",
           204
          ],
          [
           4039,
           "Schleswig-Holstein",
           11
          ],
          [
           4063,
           "Nordrhein-Westfalen",
           41
          ],
          [
           4094,
           "Baden-Württemberg",
           440
          ],
          [
           4104,
           "Bayern",
           365
          ],
          [
           4127,
           "Nordrhein-Westfalen",
           347
          ],
          [
           4160,
           "Baden-Württemberg",
           478
          ],
          [
           4169,
           "Baden-Württemberg",
           131
          ],
          [
           4175,
           "Baden-Württemberg",
           282
          ],
          [
           4177,
           "Baden-Württemberg",
           116
          ],
          [
           4189,
           "Baden-Württemberg",
           533
          ],
          [
           4261,
           "Bayern",
           442
          ],
          [
           4271,
           "Mecklenburg-Vorpommern",
           4
          ],
          [
           4275,
           "Niedersachsen",
           32
          ],
          [
           4280,
           "Bayern",
           386
          ],
          [
           4287,
           "Bayern",
           415
          ],
          [
           4300,
           "Baden-Württemberg",
           588
          ],
          [
           4301,
           "Rheinland-Pfalz",
           102
          ],
          [
           4323,
           "Rheinland-Pfalz",
           461
          ],
          [
           4336,
           "Saarland",
           320
          ],
          [
           4349,
           "Baden-Württemberg",
           248
          ],
          [
           4354,
           "Bayern",
           457
          ],
          [
           4371,
           "Nordrhein-Westfalen",
           135
          ],
          [
           4377,
           "Bayern",
           518
          ],
          [
           4393,
           "Schleswig-Holstein",
           5
          ],
          [
           4411,
           "Hessen",
           155
          ],
          [
           4445,
           "Sachsen-Anhalt",
           609
          ],
          [
           4464,
           "Thüringen",
           501
          ],
          [
           4466,
           "Schleswig-Holstein",
           43
          ],
          [
           4480,
           "Hessen",
           230
          ],
          [
           4501,
           "Thüringen",
           937
          ],
          [
           4508,
           "Rheinland-Pfalz",
           649
          ],
          [
           4548,
           "Bayern",
           608
          ],
          [
           4559,
           "Bayern",
           398
          ],
          [
           4560,
           "Hessen",
           265
          ],
          [
           4592,
           "Bayern",
           356
          ],
          [
           4605,
           "Thüringen",
           277
          ],
          [
           4625,
           "Mecklenburg-Vorpommern",
           59
          ],
          [
           4642,
           "Sachsen-Anhalt",
           21
          ],
          [
           4651,
           "Niedersachsen",
           186
          ],
          [
           4703,
           "Baden-Württemberg",
           581
          ],
          [
           4704,
           "Bayern",
           507
          ],
          [
           4706,
           "Bayern",
           358
          ],
          [
           4709,
           "Rheinland-Pfalz",
           445
          ],
          [
           4745,
           "Niedersachsen",
           75
          ],
          [
           4763,
           "Hessen",
           265
          ],
          [
           4841,
           "Niedersachsen",
           1
          ],
          [
           4857,
           "Niedersachsen",
           1
          ],
          [
           4878,
           "Sachsen-Anhalt",
           504
          ],
          [
           4887,
           "Baden-Württemberg",
           734
          ],
          [
           4896,
           "Schleswig-Holstein",
           40
          ],
          [
           4911,
           "Bayern",
           351
          ],
          [
           4928,
           "Baden-Württemberg",
           314
          ],
          [
           4931,
           "Baden-Württemberg",
           371
          ],
          [
           4978,
           "Hessen",
           395
          ],
          [
           4997,
           "Thüringen",
           196
          ],
          [
           5009,
           "Mecklenburg-Vorpommern",
           38
          ],
          [
           5014,
           "Niedersachsen",
           7
          ],
          [
           5017,
           "Bayern",
           633
          ],
          [
           5029,
           "Saarland",
           386
          ],
          [
           5046,
           "Bayern",
           501
          ],
          [
           5064,
           "Nordrhein-Westfalen",
           37
          ],
          [
           5097,
           "Mecklenburg-Vorpommern",
           10
          ],
          [
           5099,
           "Rheinland-Pfalz",
           132
          ],
          [
           5100,
           "Rheinland-Pfalz",
           265
          ],
          [
           5109,
           "Mecklenburg-Vorpommern",
           69
          ],
          [
           5111,
           "Bayern",
           560
          ],
          [
           5133,
           "Hessen",
           295
          ],
          [
           5142,
           "Mecklenburg-Vorpommern",
           1
          ],
          [
           5146,
           "Niedersachsen",
           50
          ],
          [
           5149,
           "Bayern",
           306
          ],
          [
           5158,
           "Sachsen-Anhalt",
           162
          ],
          [
           5229,
           "Baden-Württemberg",
           719
          ],
          [
           5275,
           "Baden-Württemberg",
           105
          ],
          [
           5279,
           "Hessen",
           176
          ],
          [
           5280,
           "Schleswig-Holstein",
           35
          ],
          [
           5300,
           "Hessen",
           380
          ],
          [
           5335,
           "Thüringen",
           348
          ],
          [
           5347,
           "Nordrhein-Westfalen",
           236
          ],
          [
           5349,
           "Mecklenburg-Vorpommern",
           73
          ],
          [
           5371,
           "Hessen",
           921
          ],
          [
           5397,
           "Bayern",
           440
          ],
          [
           5404,
           "Bayern",
           477
          ],
          [
           5424,
           "Thüringen",
           328
          ],
          [
           5426,
           "Rheinland-Pfalz",
           553
          ],
          [
           5433,
           "Saarland",
           380
          ],
          [
           5440,
           "Bayern",
           439
          ],
          [
           5480,
           "Nordrhein-Westfalen",
           85
          ],
          [
           5490,
           "Sachsen-Anhalt",
           233
          ],
          [
           5516,
           "Schleswig-Holstein",
           3
          ],
          [
           5538,
           "Bayern",
           551
          ],
          [
           5541,
           "Hessen",
           263
          ],
          [
           5546,
           "Brandenburg",
           187
          ],
          [
           5562,
           "Baden-Württemberg",
           570
          ],
          [
           5629,
           "Sachsen-Anhalt",
           105
          ],
          [
           5640,
           "Niedersachsen",
           8
          ],
          [
           5643,
           "Brandenburg",
           66
          ],
          [
           5664,
           "Baden-Württemberg",
           296
          ],
          [
           5676,
           "Niedersachsen",
           82
          ],
          [
           5688,
           "Baden-Württemberg",
           880
          ],
          [
           5692,
           "Rheinland-Pfalz",
           88
          ],
          [
           5705,
           "Bayern",
           268
          ],
          [
           5715,
           "Niedersachsen",
           57
          ],
          [
           5717,
           "Nordrhein-Westfalen",
           134
          ],
          [
           5731,
           "Baden-Württemberg",
           398
          ],
          [
           5745,
           "Brandenburg",
           51
          ],
          [
           5750,
           "Sachsen-Anhalt",
           264
          ],
          [
           5779,
           "Sachsen",
           877
          ],
          [
           5792,
           "Bayern",
           2965
          ],
          [
           5797,
           "Sachsen",
           349
          ],
          [
           5800,
           "Bayern",
           615
          ],
          [
           5822,
           "Niedersachsen",
           40
          ],
          [
           5825,
           "Brandenburg",
           40
          ],
          [
           5839,
           "Niedersachsen",
           0
          ],
          [
           5856,
           "Bayern",
           476
          ],
          [
           5871,
           "Rheinland-Pfalz",
           497
          ],
          [
           5906,
           "Baden-Württemberg",
           98
          ],
          [
           5930,
           "Schleswig-Holstein",
           1
          ],
          [
           5941,
           "Bayern",
           686
          ],
          [
           6093,
           "Niedersachsen",
           62
          ],
          [
           6105,
           "Schleswig-Holstein",
           14
          ],
          [
           6109,
           "Mecklenburg-Vorpommern",
           50
          ],
          [
           6129,
           "Sachsen",
           290
          ],
          [
           6157,
           "Niedersachsen",
           8
          ],
          [
           6158,
           "Bayern",
           455
          ],
          [
           6159,
           "Niedersachsen",
           8
          ],
          [
           6163,
           "Schleswig-Holstein",
           27
          ],
          [
           6170,
           "Brandenburg",
           40
          ],
          [
           6197,
           "Nordrhein-Westfalen",
           258
          ],
          [
           6199,
           "Mecklenburg-Vorpommern",
           16
          ],
          [
           6217,
           "Saarland",
           190
          ],
          [
           6258,
           "Baden-Württemberg",
           461
          ],
          [
           6259,
           "Baden-Württemberg",
           524
          ],
          [
           6260,
           "Baden-Württemberg",
           385
          ],
          [
           6262,
           "Baden-Württemberg",
           413
          ],
          [
           6263,
           "Baden-Württemberg",
           445
          ],
          [
           6264,
           "Nordrhein-Westfalen",
           457
          ],
          [
           6265,
           "Brandenburg",
           36
          ],
          [
           6266,
           "Sachsen-Anhalt",
           112
          ],
          [
           6272,
           "Thüringen",
           283
          ],
          [
           6273,
           "Sachsen-Anhalt",
           36
          ],
          [
           6275,
           "Baden-Württemberg",
           325
          ],
          [
           6305,
           "Thüringen",
           193
          ],
          [
           6310,
           "Mecklenburg-Vorpommern",
           1
          ],
          [
           6312,
           "Bayern",
           362
          ],
          [
           6314,
           "Sachsen",
           308
          ],
          [
           6336,
           "Bayern",
           288
          ],
          [
           6337,
           "Nordrhein-Westfalen",
           59
          ],
          [
           6344,
           "Hessen",
           168
          ],
          [
           6346,
           "Bayern",
           531
          ],
          [
           6347,
           "Bayern",
           304
          ],
          [
           7075,
           "Bayern",
           429
          ],
          [
           7099,
           "Niedersachsen",
           187
          ],
          [
           7105,
           "Bayern",
           719
          ],
          [
           7106,
           "Nordrhein-Westfalen",
           105
          ],
          [
           7187,
           "Baden-Württemberg",
           193
          ],
          [
           7298,
           "Schleswig-Holstein",
           5
          ],
          [
           7319,
           "Bayern",
           435
          ],
          [
           7321,
           "Thüringen",
           160
          ],
          [
           7329,
           "Sachsen",
           465
          ],
          [
           7330,
           "Nordrhein-Westfalen",
           159
          ],
          [
           7331,
           "Baden-Württemberg",
           468
          ],
          [
           7341,
           "Hessen",
           119
          ],
          [
           7343,
           "Sachsen",
           688
          ],
          [
           7350,
           "Bayern",
           585
          ],
          [
           7351,
           "Mecklenburg-Vorpommern",
           116
          ],
          [
           7364,
           "Sachsen-Anhalt",
           74
          ],
          [
           7367,
           "Niedersachsen",
           144
          ],
          [
           7368,
           "Thüringen",
           312
          ],
          [
           7369,
           "Bayern",
           475
          ],
          [
           7370,
           "Bayern",
           499
          ],
          [
           7373,
           "Niedersachsen",
           3
          ],
          [
           7374,
           "Nordrhein-Westfalen",
           46
          ],
          [
           7389,
           "Brandenburg",
           82
          ],
          [
           7393,
           "Sachsen",
           116
          ],
          [
           7394,
           "Bayern",
           622
          ],
          [
           7395,
           "Bayern",
           351
          ],
          [
           7396,
           "Hessen",
           743
          ],
          [
           7403,
           "Baden-Württemberg",
           672
          ],
          [
           7410,
           "Hessen",
           350
          ],
          [
           7412,
           "Bayern",
           340
          ],
          [
           7419,
           "Thüringen",
           389
          ],
          [
           7420,
           "Sachsen-Anhalt",
           246
          ],
          [
           7424,
           "Bayern",
           457
          ],
          [
           7427,
           "Schleswig-Holstein",
           17
          ],
          [
           7428,
           "Thüringen",
           397
          ],
          [
           7431,
           "Bayern",
           604
          ],
          [
           7432,
           "Niedersachsen",
           72
          ],
          [
           13670,
           "Nordrhein-Westfalen",
           24
          ],
          [
           13674,
           "Baden-Württemberg",
           237
          ],
          [
           13675,
           "Niedersachsen",
           77
          ],
          [
           13696,
           "Nordrhein-Westfalen",
           60
          ],
          [
           13700,
           "Nordrhein-Westfalen",
           205
          ],
          [
           13710,
           "Bayern",
           490
          ],
          [
           13711,
           "Thüringen",
           289
          ],
          [
           13713,
           "Nordrhein-Westfalen",
           386
          ],
          [
           13777,
           "Niedersachsen",
           110
          ],
          [
           13965,
           "Baden-Württemberg",
           619
          ],
          [
           15000,
           "Nordrhein-Westfalen",
           231
          ],
          [
           15207,
           "Hessen",
           317
          ],
          [
           15444,
           "Baden-Württemberg",
           593
          ],
          [
           15555,
           "Bayern",
           815
          ]
         ],
         "hovertemplate": "<b>%{hovertext}</b><br><br>LAT=%{lat}<br>LON=%{lon}<br>STATION_ID=%{customdata[0]}<br>STATE=%{customdata[1]}<br>STATION_HEIGHT=%{marker.color}<extra></extra>",
         "hovertext": [
          "Großenkneten",
          "Aldersbach-Kriestorf",
          "Alfhausen",
          "Alsfeld-Eifa",
          "Neuruppin-Alt Ruppin",
          "Leuchtturm Alte Weser",
          "Altenstadt",
          "Geringswalde-Altgeringswalde",
          "Altomünster-Maisbrunn",
          "Alzey",
          "Amberg-Unterammersricht",
          "Amerang-Pfaffing",
          "Andernach",
          "Angermünde",
          "Anklam",
          "Arkona",
          "Arnstein-Müdesheim",
          "Artern",
          "Attenkam",
          "Aue",
          "Augsburg",
          "Baden-Baden-Geroldsau",
          "Müllheim",
          "Bamberg",
          "Barsinghausen-Hohenbostel",
          "Barth",
          "Baruth",
          "Kubschütz, Kr. Bautzen",
          "Heinersreuth-Vollhof",
          "Oberzent-Beerfelden",
          "Belm",
          "Bergen",
          "Bergzabern, Bad",
          "Berka, Bad (Flugplatz)",
          "Berleburg, Bad-Stünzel",
          "Berlin-Buch",
          "Berlin-Dahlem (FU)",
          "Berlin-Marzahn",
          "Berlin Brandenburg",
          "Berlin-Tegel",
          "Berlin-Tempelhof",
          "Bernburg/Saale (Nord)",
          "Berus",
          "Blankenrath",
          "Boizenburg",
          "Boltenhagen",
          "Königswinter-Heiderhof",
          "Borken in Westfalen",
          "Braunlage",
          "Braunschweig",
          "Bremen",
          "Bremerhaven",
          "Bremervörde",
          "Brocken",
          "Buchen, Kr. Neckar-Odenwald",
          "Buchenbach",
          "Rosengarten-Klecken",
          "Büchel (Flugplatz)",
          "Bückeburg",
          "Burgwald-Bottendorf",
          "Carlsfeld",
          "Celle",
          "Chemnitz",
          "Chieming",
          "Lautertal-Oberlauter",
          "Cottbus",
          "Cuxhaven",
          "Dachwig",
          "Darmstadt",
          "Deuselbach",
          "UFS Deutsche Bucht",
          "Diepholz",
          "Dillenburg",
          "Dillingen/Donau-Fristingen",
          "Dippoldiswalde-Reinberg",
          "Doberlug-Kirchhain",
          "Dresden-Klotzsche",
          "Dresden-Hosterwitz",
          "Dresden-Strehlen",
          "Drewitz bei Burg",
          "Dürkheim, Bad",
          "Düsseldorf",
          "Ebersberg-Halbing",
          "Ebrach",
          "Eichstätt-Landershofen",
          "Ellwangen-Rindelbach",
          "Elpersbüttel",
          "Elster, Bad-Sohl",
          "Elzach-Fisnacht",
          "Emmendingen-Mundingen",
          "UFS TW Ems",
          "Ennigerloh-Ostenfelde",
          "München-Flughafen",
          "Erfde",
          "Erfurt-Weimar",
          "Möhrendorf-Kleinseebach",
          "Eschwege",
          "Eslohe",
          "Essen-Bredeney",
          "Weilerswist-Lommersum",
          "Falkenberg,Kr.Rottal-Inn",
          "Faßberg",
          "Feldberg/Schwarzwald",
          "Fichtelberg/Oberfranken-Hüttstadl",
          "Fichtelberg",
          "Birx/Rhön",
          "Frankfurt/Main",
          "Frankfurt/Main-Westend",
          "Freiburg",
          "Freiburg/Elbe",
          "Freudenstadt",
          "Friesoythe-Altenoythe",
          "Fritzlar (Flugplatz)",
          "Fulda-Horas",
          "Gardelegen",
          "Garmisch-Partenkirchen",
          "Geisenheim",
          "Geisingen",
          "Gelbelsee",
          "Geldern-Walbeck",
          "Ohlsbach",
          "Genthin",
          "Gera-Leumnitz",
          "Gießen/Wettenberg",
          "Gilserberg-Moischeid",
          "Glücksburg-Meierwik",
          "Görlitz",
          "Göttingen",
          "Goldberg",
          "Gräfenberg-Kasberg",
          "Grainet-Rehberg",
          "Grambek",
          "Greifswald",
          "Greifswalder Oie",
          "Münster/Osnabrück",
          "Groß Lüsewitz",
          "Großer Arber",
          "Gründau-Breitenborn",
          "Grünow",
          "Günzburg",
          "Olsdorf",
          "Hamburg-Fuhlsbüttel",
          "Hamburg-Neuwiedenthal",
          "Hannover",
          "Harburg",
          "Harzburg, Bad",
          "Harzgerode",
          "Hechingen",
          "Heinsberg-Schleiden",
          "Helgoland",
          "Hersfeld, Bad",
          "Herzberg",
          "Hiddensee-Vitte",
          "Hilgenroth",
          "Bertsdorf-Hörnitz",
          "Hof",
          "Hohenpeißenberg",
          "Hohn",
          "Hohwacht",
          "Holzdorf (Flugplatz)",
          "Holzkirchen",
          "Bevern, Kr. Holzminden",
          "Hümmerich",
          "Idar-Oberstein",
          "Ingolstadt (Flugplatz)",
          "Itzehoe",
          "Schleswig-Jagel",
          "Jena (Sternwarte)",
          "Kahl/Main",
          "Kahler Asten",
          "Kaisersbach-Cronhütte",
          "Kaiserslautern",
          "Kall-Sistig",
          "Kempten",
          "Kiel-Holtenau",
          "Kirchberg/Jagst-Herboldshausen",
          "Kirchdorf/Poel",
          "Kissingen, Bad",
          "Kitzingen",
          "Kleiner Feldberg/Taunus",
          "Kleiner Inselsberg",
          "Klettwitz",
          "Kleve",
          "Klippeneck",
          "Klitzschen bei Torgau",
          "Köln-Bonn",
          "Königshofen, Bad",
          "Kösching",
          "Köthen (Anhalt)",
          "Kohlgrub, Bad (Rosshof)",
          "Konstanz",
          "Kronach",
          "Kümmersbruck",
          "Kyritz",
          "Laage (Flugplatz)",
          "Lahr",
          "Merklingen",
          "Langenlipsdorf",
          "Lauchstädt, Bad",
          "Laupheim",
          "Lechfeld",
          "Leck",
          "Leinefelde",
          "Leipzig-Holzhausen",
          "Leipzig/Halle",
          "Lennestadt-Theten",
          "Lenzen/Elbe",
          "Lenzkirch-Ruhbühl",
          "Leuchtturm Kiel",
          "Köln-Stammheim",
          "Lichtenhain-Mittelndorf",
          "Lindenberg",
          "Lippspringe, Bad",
          "Lippstadt-Bökenförde",
          "List auf Sylt",
          "Lobenstein, Bad",
          "Löhnberg-Obershausen",
          "Lübben-Blumenfelde",
          "Lübeck-Blankensee",
          "Lüchow",
          "Lüdenscheid",
          "Magdeburg",
          "Mainz-Lerchenberg (ZDF)",
          "Manderscheid-Sonnenhof",
          "Manschnow",
          "Cölbe, Kr. Marburg-Biedenkopf",
          "Marienberg",
          "Marienberg, Bad",
          "Marnitz",
          "Martinroda",
          "Aschersleben-Mehringen",
          "Meiningen",
          "Garsebach bei Meißen",
          "Memmingen",
          "Meppen",
          "Mergentheim, Bad-Neunkirchen",
          "Meßstetten-Appental",
          "Metten",
          "Metzingen",
          "Michelstadt",
          "Michelstadt-Vielbrunn",
          "Schmieritz-Weltwitz",
          "Mittenwald-Buckelwiesen",
          "Röllbach",
          "Montabaur",
          "Moringen-Lutterbeck",
          "Mühlacker",
          "Mühldorf",
          "Müncheberg",
          "München-Stadt",
          "Münsingen-Apfelstetten",
          "Muskau, Bad",
          "Nauheim, Bad",
          "Neuburg/Donau (Flugplatz)",
          "Neuburg/Kammel-Langenhaslach",
          "Neuenahr, Bad-Ahrweiler",
          "Menz",
          "Neuhaus am Rennweg",
          "Neukirchen-Hauptschwenda",
          "Neunkirchen-Seelscheid-Krawinkel",
          "Neunkirchen-Wellesweiler",
          "Neustadt am Kulm-Filchendorf",
          "Nideggen-Schmidt",
          "Niederstetten",
          "Nienburg",
          "Reimlingen",
          "Nörvenich (Flugplatz)",
          "Norderney",
          "Nordholz (Flugplatz)",
          "Nürburg-Barweiler",
          "Nürnberg-Netzstall",
          "Nürnberg",
          "Kiefersfelden-Gach",
          "Oberstdorf",
          "Obersulm-Willsbach",
          "Oberviechtach",
          "Öhringen",
          "Oschatz",
          "Osterfeld",
          "Ostheim v.d. Rhön",
          "Oy-Mittelberg-Petersthal",
          "Parsberg/Oberpfalz-Eglwang",
          "Pelzerhaken",
          "Perl-Nennig",
          "Pforzheim-Ispringen",
          "Pfullendorf",
          "Pirmasens",
          "Plauen",
          "Pommelsbrunn-Mittelburg",
          "Potsdam",
          "Putbus",
          "Quedlinburg",
          "Querfurt-Mühle Lodersleben",
          "Quickborn",
          "Rahden-Kleinendorf",
          "Weingarten, Kr. Ravensburg",
          "Regensburg",
          "Reichshof-Eckenhagen",
          "Renningen-Ihinger Hof",
          "Rheinau-Memprechtshofen",
          "Rheinfelden",
          "Rheinstetten",
          "Altheim, Kreis Biberach",
          "Rosenheim",
          "Rostock-Warnemünde",
          "Rotenburg (Wümme)",
          "Roth",
          "Rothenburg ob der Tauber",
          "Rottweil",
          "Kreuznach, Bad",
          "Ruppertsecken",
          "Saarbrücken-Ensheim",
          "Sachsenheim",
          "Saldenburg-Entschenreuth",
          "Salzuflen, Bad",
          "Sandberg",
          "Sankt Peter-Ording",
          "Schaafheim-Schlierbach",
          "Wernigerode-Schierke",
          "Schleiz",
          "Schleswig",
          "Schlüchtern-Herolz",
          "Schmücke",
          "Schneifelforsthaus",
          "Schönwald/Ofr.-Brunn",
          "Schorndorf-Knöbling",
          "Schotten",
          "Schwandorf",
          "Schwarzburg",
          "Schwerin",
          "Seehausen",
          "Seesen",
          "Sigmaringen-Laiz",
          "Sigmarszell-Zeisertsweiler",
          "Simbach/Inn",
          "Simmern-Wahlbach",
          "Soltau",
          "Sontra",
          "Steinau, Kr. Cuxhaven",
          "Mittelnkirchen-Hohenfelde",
          "Oberharz am Brocken-Stiege",
          "Stötten",
          "Wagersrott",
          "Straubing",
          "Stuttgart (Schnarrenberg)",
          "Stuttgart-Echterdingen",
          "Tann/Rhön",
          "Starkenberg-Tegkwitz",
          "Teterow",
          "Worpswede-Hüttenbusch",
          "Teuschnitz",
          "Tholey",
          "Tirschenreuth-Lodermühl",
          "Tönisvorst",
          "Tribsees",
          "Trier-Zewen",
          "Trier-Petrisberg",
          "Trollenhagen",
          "Trostberg",
          "Twistetal-Mühlhausen",
          "Ueckermünde",
          "Uelzen",
          "Gollhofen",
          "Ummendorf",
          "Villingen-Schwenningen",
          "Waghäusel-Kirrlach",
          "Wesertal-Lippoldsberg",
          "Wittenborn",
          "Waldems-Reinborn",
          "Waltershausen",
          "Warburg",
          "Waren (Müritz)",
          "Wasserkuppe",
          "Weiden",
          "Weihenstephan-Dürnast",
          "Weimar-Schöndorf",
          "Weinbiet",
          "Weiskirchen/Saar",
          "Weißenburg-Emetzheim",
          "Werl",
          "Wernigerode",
          "Fehmarn",
          "Wielenbach (Demollstr.)",
          "Wiesbaden-Auringen",
          "Wiesenburg",
          "Neubulach-Oberhaugstett",
          "Wittenberg",
          "Wittmundhafen",
          "Wittstock-Rote Mühle",
          "Wolfach",
          "Wolfsburg (Südwest)",
          "Dachsberg-Wolpadingen",
          "Worms",
          "Würzburg",
          "Wunstorf",
          "Wuppertal-Buchenhofen",
          "Wutöschingen-Ofteringen",
          "Zehdenick",
          "Zeitz",
          "Zinnwald-Georgenfeld",
          "Zugspitze",
          "Lichtentanne",
          "Zwiesel",
          "Bassum",
          "Berge",
          "Emden",
          "Fürstenzell",
          "Hahn",
          "Mannheim",
          "Schönhagen (Ostseebad)",
          "Reit im Winkl",
          "Wendisch Evern",
          "Ostenfeld (Rendsburg)",
          "Grambow-Schwennenz",
          "Sohland/Spree",
          "Wangerland-Hooksiel",
          "Weidenbach-Weiherschneidbach",
          "Dörpen",
          "Dörnick",
          "Coschen",
          "Lügde-Paenbruch",
          "Steinhagen-Negast",
          "Saarbrücken-Burbach",
          "Friedrichshafen-Unterraderach",
          "Großerlach-Mannenweiler",
          "Ingelfingen-Stachenhausen",
          "Schwäbisch Gmünd-Weiler",
          "Singen",
          "Brilon-Thülen",
          "Wusterwitz",
          "Huy-Pabstorf",
          "Moorgrund Gräfen-Nitzendorf",
          "Demker",
          "Notzingen",
          "Mühlhausen/Thüringen-Görmar",
          "Karlshagen",
          "Markt Erlbach-Mosbach",
          "Nossen",
          "Lohr/Main-Halsbach",
          "Lüdinghausen-Brochtrup",
          "Runkel-Ennerich",
          "Maisach-Galgen",
          "Schonungen-Mainberg",
          "Elsendorf-Horneck",
          "Liebenburg-Othfresen",
          "Siegsdorf-Höll",
          "Bielefeld-Deppendorf",
          "Freudenberg/Main-Boxtal",
          "Hattstedt",
          "Donauwörth-Osterweiler",
          "Olbersleben",
          "Treuen",
          "Arnsberg-Neheim",
          "Hermaringen-Allewind",
          "Offenbach-Wetterpark",
          "Deutschneudorf-Brüderwiese",
          "Prackenbach-Neuhäusl",
          "Feldberg/Mecklenburg",
          "Jeßnitz",
          "Alfeld",
          "Eisenach",
          "Feuchtwangen-Heilbronn",
          "Waldmünchen",
          "Borkum-Flugplatz",
          "Ahaus",
          "Heckelberg",
          "Hoyerswerda",
          "Wunsiedel-Schönbrunn",
          "Gottfrieding",
          "Hoherodskopf/Vogelsberg",
          "Leutkirch-Herlazhofen",
          "Neu-Ulrichstein",
          "Neuhütten/Spessart",
          "Langenwetzendorf-Göttendorf",
          "Naumburg/Saale-Kreipitzsch",
          "Piding",
          "Padenstedt (Pony-Park)",
          "Veilsdorf",
          "Oberhaching-Laufzorn",
          "Wittingen-Vorhop",
          "Duisburg-Baerl",
          "Waibstadt",
          "Hameln-Hastenbeck",
          "Waltrop-Abdinghof",
          "Gevelsberg-Oberbröking",
          "Landshut-Reithof",
          "Krölpa-Rockendorf",
          "Meinerzhagen-Redlendorf",
          "Helmstedt-Emmerstedt",
          "Balingen-Bronnhaupten",
          "Aachen-Orsbach",
          "Schauenburg-Elgershausen",
          "Ulm-Mähringen",
          "Kaufbeuren-Oberbeuren"
         ],
         "lat": [
          52.9336,
          48.6159,
          52.4853,
          50.7446,
          52.9437,
          53.8633,
          47.8342,
          51.0881,
          48.406,
          49.7273,
          49.4691,
          48.0197,
          50.4237,
          53.0316,
          53.8412,
          54.6792,
          49.9694,
          51.3745,
          47.8774,
          50.5908,
          48.4253,
          48.727,
          47.8064,
          49.8743,
          52.3199,
          54.3406,
          52.0614,
          51.1604,
          49.9667,
          49.5617,
          52.317,
          52.8152,
          49.107,
          50.9074,
          50.9837,
          52.6309,
          52.4537,
          52.5447,
          52.3807,
          52.5644,
          52.4675,
          51.8218,
          49.2641,
          50.0372,
          53.3911,
          54.0028,
          50.7293,
          51.873,
          51.7234,
          52.2915,
          53.045,
          53.5332,
          53.4451,
          51.7986,
          49.5182,
          47.9625,
          53.3629,
          50.1746,
          52.2817,
          51.0306,
          50.4313,
          52.5959,
          50.7913,
          47.8843,
          50.3066,
          51.776,
          53.8713,
          51.0778,
          49.8809,
          49.7619,
          54.1796,
          52.5881,
          50.7364,
          48.5562,
          50.9116,
          51.6451,
          51.128,
          51.0221,
          51.0248,
          52.2174,
          49.4719,
          51.296,
          48.1003,
          49.852,
          48.8777,
          48.9895,
          54.0691,
          50.2705,
          48.2012,
          48.1378,
          54.1651,
          51.8418,
          48.3477,
          54.2992,
          50.9829,
          49.6497,
          51.2041,
          51.254,
          51.4041,
          50.7119,
          48.4832,
          52.9157,
          47.8749,
          49.9807,
          50.4283,
          50.5309,
          50.0259,
          50.1269,
          48.0232,
          53.8277,
          48.4538,
          53.0643,
          51.119,
          50.5668,
          52.5129,
          47.483,
          49.9859,
          47.9242,
          48.9481,
          51.4942,
          48.433,
          52.3875,
          50.8813,
          50.6017,
          50.9656,
          54.8273,
          51.1622,
          51.5002,
          53.606,
          49.664,
          48.7894,
          53.5731,
          54.0967,
          54.2437,
          52.1344,
          54.0714,
          49.1129,
          50.2667,
          53.3153,
          48.4878,
          49.9445,
          53.6332,
          53.4777,
          52.4644,
          48.7918,
          51.9002,
          51.652,
          48.3752,
          51.0411,
          54.175,
          50.852,
          51.6255,
          54.575,
          50.7371,
          50.899,
          50.3123,
          47.8009,
          54.3146,
          54.3194,
          51.7657,
          47.8823,
          51.8529,
          50.5651,
          49.6927,
          48.7112,
          53.9897,
          54.457,
          50.9251,
          50.0643,
          51.1803,
          48.917,
          49.4262,
          50.5014,
          47.7233,
          54.3776,
          49.1804,
          53.9995,
          50.224,
          49.7363,
          50.2218,
          50.8458,
          51.5554,
          51.7612,
          48.1054,
          51.5185,
          50.8646,
          50.284,
          48.8302,
          51.7511,
          47.6652,
          47.6952,
          50.2523,
          49.4283,
          52.9363,
          53.9156,
          48.3647,
          48.5121,
          51.9173,
          51.3909,
          48.2176,
          48.1849,
          54.7903,
          51.3933,
          51.3151,
          51.4348,
          51.1333,
          53.1007,
          47.8597,
          54.4996,
          50.9894,
          50.9383,
          52.2085,
          51.7854,
          51.6336,
          55.011,
          50.4505,
          50.5617,
          51.9267,
          53.8025,
          52.9724,
          51.2452,
          52.1029,
          49.9656,
          50.1015,
          52.5468,
          50.8492,
          50.651,
          50.6621,
          53.3223,
          50.7335,
          51.7259,
          50.5612,
          51.1294,
          47.982,
          52.7156,
          49.4773,
          48.1694,
          48.8548,
          48.5377,
          49.6691,
          49.7176,
          50.7281,
          47.4779,
          49.7644,
          50.4383,
          51.7209,
          48.9721,
          48.279,
          52.5176,
          48.1632,
          48.3851,
          51.566,
          50.3574,
          48.7086,
          48.3115,
          50.5346,
          53.102,
          50.5002,
          50.8923,
          50.8446,
          49.344,
          49.8174,
          50.6743,
          49.3895,
          52.6711,
          48.8253,
          50.8294,
          53.7123,
          53.7647,
          50.3602,
          49.4258,
          49.503,
          47.6187,
          47.3984,
          49.128,
          49.4521,
          49.207,
          51.296,
          51.0873,
          50.4538,
          47.6362,
          49.151,
          54.0893,
          49.5354,
          48.9329,
          47.9345,
          49.1912,
          50.4819,
          49.4777,
          52.3813,
          54.3643,
          51.7953,
          51.3895,
          53.7331,
          52.4461,
          47.8062,
          49.0425,
          50.9906,
          48.7425,
          48.6703,
          47.559,
          48.9726,
          48.1479,
          47.8753,
          54.1803,
          53.1288,
          49.2162,
          49.3848,
          48.1814,
          49.8502,
          49.6468,
          49.2128,
          48.9569,
          48.7832,
          52.1042,
          50.3518,
          54.3279,
          49.9195,
          51.7658,
          50.5679,
          54.5275,
          50.3447,
          50.6546,
          50.2968,
          50.1847,
          49.1644,
          50.4925,
          49.3278,
          50.6441,
          53.6425,
          52.8911,
          51.904,
          48.0719,
          47.5776,
          48.2718,
          49.9996,
          52.9604,
          51.0607,
          53.6946,
          53.5534,
          51.6646,
          48.6656,
          54.6654,
          48.8275,
          48.8281,
          48.6883,
          50.639,
          50.9771,
          53.761,
          53.2758,
          50.4002,
          49.4737,
          49.8576,
          51.2897,
          54.0661,
          49.7326,
          49.7479,
          53.5997,
          48.0311,
          51.3344,
          53.7444,
          52.9414,
          49.5741,
          52.1601,
          48.0453,
          49.2445,
          51.6194,
          53.9224,
          50.2596,
          50.8963,
          51.5039,
          53.5196,
          50.4973,
          49.6663,
          48.4024,
          51.0177,
          49.3758,
          49.5534,
          49.0115,
          51.5763,
          51.8454,
          54.5283,
          47.8827,
          50.132,
          52.1207,
          48.6516,
          51.8892,
          53.5504,
          53.1864,
          48.2953,
          52.3962,
          47.7003,
          49.6051,
          49.7704,
          52.4605,
          51.2256,
          47.6783,
          52.9664,
          51.0314,
          50.7314,
          47.421,
          50.6879,
          49.028,
          52.863,
          52.6198,
          53.3881,
          48.5451,
          49.9462,
          49.5062,
          54.641,
          47.6754,
          53.2139,
          54.3194,
          53.3837,
          51.0593,
          53.641,
          49.2247,
          52.9542,
          54.1654,
          52.0192,
          51.8664,
          54.2484,
          49.2406,
          47.6845,
          49.021,
          49.3328,
          48.7695,
          47.7738,
          51.414,
          52.3613,
          52.0304,
          50.8426,
          52.5075,
          48.6705,
          51.2061,
          54.1049,
          49.5314,
          51.0507,
          50.0132,
          51.7663,
          50.394,
          48.207,
          50.0579,
          48.702,
          52.0111,
          47.835,
          52.0714,
          49.7636,
          54.5268,
          48.7374,
          51.1507,
          50.5467,
          51.4633,
          48.6099,
          50.09,
          50.6199,
          49.1088,
          53.3175,
          51.682,
          51.9643,
          51.0007,
          49.1623,
          49.391,
          53.5984,
          52.0813,
          52.7461,
          51.4493,
          50.0315,
          48.6595,
          50.5084,
          47.7955,
          50.7513,
          50.0083,
          50.661,
          51.1044,
          47.7724,
          54.0188,
          50.4167,
          48.013,
          52.6423,
          51.5088,
          49.2943,
          52.0818,
          51.5966,
          51.3329,
          48.5734,
          50.682,
          51.0899,
          52.2467,
          48.2639,
          50.7983,
          51.2835,
          48.4418,
          47.8761
         ],
         "legendgroup": "",
         "lon": [
          8.237,
          13.0506,
          7.9126,
          9.345,
          12.8518,
          8.1275,
          10.8667,
          12.9326,
          11.3117,
          8.1164,
          11.8546,
          12.2925,
          7.4202,
          13.9908,
          13.6846,
          13.4343,
          9.9114,
          11.292,
          11.3643,
          12.7139,
          10.9417,
          8.2457,
          7.6387,
          10.9206,
          9.43,
          12.7108,
          13.4996,
          14.5042,
          11.5197,
          8.9673,
          8.1694,
          9.9248,
          7.9967,
          11.2665,
          8.3683,
          13.5022,
          13.3017,
          13.5598,
          13.5306,
          13.3088,
          13.4021,
          11.711,
          6.6868,
          7.3079,
          10.6878,
          11.1908,
          7.204,
          6.8863,
          10.6021,
          10.4464,
          8.7979,
          8.5761,
          9.139,
          10.6183,
          9.3213,
          7.9983,
          9.9435,
          7.0595,
          9.0889,
          8.8146,
          12.6114,
          10.0296,
          12.872,
          12.5404,
          10.9679,
          14.3168,
          8.7058,
          10.8619,
          8.6779,
          7.0542,
          7.4587,
          8.3424,
          8.2672,
          10.5599,
          13.7087,
          13.5747,
          13.7543,
          13.847,
          13.775,
          12.1641,
          8.1929,
          6.7686,
          11.9872,
          10.4991,
          11.2349,
          10.1312,
          9.0105,
          12.2742,
          8.1088,
          7.8351,
          6.346,
          8.0607,
          11.8134,
          9.3162,
          10.9608,
          11.0074,
          10.0138,
          8.1565,
          6.9677,
          6.7905,
          12.7241,
          10.1885,
          8.0038,
          11.8376,
          12.9535,
          10.048,
          8.5213,
          8.6694,
          7.8343,
          9.2493,
          8.409,
          7.9022,
          9.2799,
          9.6533,
          11.3941,
          11.0621,
          7.9548,
          8.6473,
          11.4289,
          6.2463,
          7.993,
          12.1601,
          12.1289,
          8.6439,
          9.05,
          9.5058,
          14.9506,
          9.9507,
          12.1033,
          11.2239,
          13.629,
          10.6797,
          13.4056,
          13.9102,
          7.6969,
          12.3238,
          13.1338,
          9.1854,
          13.9338,
          10.2607,
          6.3821,
          9.9881,
          9.8957,
          9.6779,
          10.7062,
          10.5699,
          11.1367,
          8.98,
          6.1042,
          7.892,
          9.7377,
          10.3695,
          13.1044,
          7.6528,
          14.7457,
          11.876,
          11.0108,
          9.539,
          10.6732,
          13.1666,
          11.6961,
          9.4953,
          7.4843,
          7.3264,
          11.5362,
          9.5696,
          9.5203,
          11.583,
          8.993,
          8.4891,
          9.6871,
          7.7557,
          6.5264,
          10.3348,
          10.1424,
          9.98,
          11.4341,
          10.0792,
          10.1781,
          8.4469,
          10.4803,
          13.8845,
          6.0954,
          8.7548,
          12.9065,
          7.1575,
          10.4456,
          11.4872,
          12.0094,
          11.0805,
          9.1307,
          11.3209,
          11.9016,
          12.4093,
          12.279,
          7.828,
          9.7645,
          13.0878,
          11.8786,
          9.9097,
          10.8507,
          8.9514,
          10.3123,
          12.4462,
          12.2396,
          8.0348,
          11.4864,
          8.2308,
          10.2737,
          6.9777,
          14.2093,
          14.118,
          8.8388,
          8.3945,
          8.4125,
          11.635,
          8.2386,
          13.8797,
          10.6989,
          11.1374,
          7.6425,
          11.5827,
          8.2139,
          6.8009,
          14.5452,
          8.7746,
          13.1469,
          7.9603,
          11.9319,
          10.8815,
          11.5109,
          10.3771,
          13.4328,
          10.1384,
          7.3176,
          9.7622,
          8.9433,
          12.9189,
          9.2734,
          9.0085,
          9.0997,
          11.7838,
          11.2653,
          9.253,
          7.8061,
          9.8352,
          8.8734,
          12.5024,
          14.1232,
          11.5429,
          9.4837,
          14.7008,
          8.7506,
          11.2147,
          10.3773,
          7.0853,
          13.0421,
          11.1344,
          9.405,
          7.372,
          7.2297,
          11.8638,
          6.424,
          9.9667,
          9.2229,
          10.5067,
          6.6602,
          7.1519,
          8.6583,
          6.8697,
          11.2538,
          11.0549,
          12.1665,
          10.2759,
          9.3525,
          12.4365,
          9.5176,
          13.0928,
          11.9292,
          10.2211,
          10.3892,
          11.6896,
          10.8773,
          6.3789,
          8.6973,
          9.2869,
          7.5879,
          12.13,
          11.5357,
          13.0622,
          13.4771,
          11.132,
          11.5412,
          9.8776,
          8.5906,
          9.6206,
          12.1019,
          7.6958,
          8.924,
          7.9939,
          7.7721,
          8.3301,
          9.4596,
          12.128,
          12.0808,
          9.3398,
          11.1035,
          10.1732,
          8.6356,
          7.871,
          7.8837,
          7.1077,
          9.071,
          13.3146,
          8.7521,
          10.0034,
          8.6031,
          8.9671,
          10.6533,
          11.8041,
          9.5487,
          9.5534,
          10.7693,
          6.4194,
          12.0791,
          12.6175,
          9.1226,
          12.0871,
          11.1936,
          11.3872,
          11.7297,
          10.1885,
          9.1943,
          9.7404,
          13.0273,
          7.5981,
          9.793,
          9.9266,
          8.8735,
          9.6097,
          10.8811,
          9.8648,
          9.805,
          12.5597,
          9.2,
          9.2235,
          10.0228,
          12.3419,
          12.5574,
          8.9857,
          11.3889,
          7.0385,
          12.3542,
          6.4437,
          12.7675,
          6.6131,
          6.6583,
          13.3039,
          12.5396,
          8.9132,
          14.0697,
          10.5289,
          10.1915,
          11.1759,
          8.4608,
          8.5374,
          9.5749,
          10.2267,
          8.3607,
          10.5484,
          9.1118,
          12.6654,
          9.9427,
          12.1845,
          11.6946,
          11.3544,
          8.1213,
          6.812,
          10.9308,
          7.8879,
          10.7686,
          11.0606,
          11.1576,
          8.317,
          12.4585,
          8.6801,
          12.6445,
          7.6672,
          12.4949,
          8.2391,
          10.6892,
          8.1057,
          8.3659,
          9.9576,
          9.4311,
          7.1052,
          8.3801,
          13.3268,
          12.1495,
          13.7516,
          10.9848,
          12.4329,
          13.2385,
          8.6988,
          12.7867,
          7.2287,
          13.3532,
          7.2645,
          8.5585,
          10.0238,
          12.4698,
          10.4704,
          9.8051,
          14.3728,
          14.4266,
          8.0808,
          10.6084,
          7.3196,
          10.3519,
          14.7254,
          9.271,
          13.0418,
          6.9351,
          9.4409,
          9.6033,
          9.704,
          9.8737,
          8.8219,
          8.65,
          12.3867,
          10.9626,
          10.2518,
          11.8551,
          9.4627,
          10.4978,
          13.8239,
          10.6418,
          13.3003,
          9.654,
          7.5194,
          8.1423,
          11.2035,
          10.2972,
          11.8493,
          10.3966,
          12.6548,
          8.4565,
          9.4063,
          9.0425,
          10.7393,
          11.3321,
          12.2863,
          7.978,
          10.2674,
          8.7862,
          13.4816,
          12.8231,
          13.4175,
          12.3042,
          9.8072,
          10.3621,
          10.3661,
          12.6838,
          6.7024,
          6.9409,
          13.8427,
          14.2533,
          11.9745,
          12.5388,
          9.2247,
          10.0324,
          9.0224,
          9.4238,
          12.0756,
          11.7112,
          12.9073,
          9.9255,
          10.8156,
          11.5524,
          10.6627,
          6.7018,
          8.9053,
          9.4077,
          7.4048,
          7.3411,
          12.2576,
          11.515,
          7.6289,
          10.9592,
          8.8134,
          6.0244,
          9.359,
          9.9216,
          10.5849
         ],
         "marker": {
          "color": [
           44,
           340,
           65,
           300,
           50,
           32,
           756,
           296,
           511,
           215,
           382,
           516,
           75,
           54,
           9,
           42,
           217,
           164,
           670,
           393,
           462,
           240,
           273,
           240,
           110,
           3,
           55,
           234,
           350,
           455,
           103,
           70,
           210,
           303,
           610,
           60,
           51,
           60,
           46,
           36,
           48,
           85,
           363,
           417,
           45,
           15,
           147,
           47,
           607,
           81,
           4,
           7,
           11,
           1134,
           340,
           445,
           82,
           477,
           68,
           293,
           897,
           39,
           418,
           551,
           344,
           69,
           5,
           170,
           162,
           481,
           0,
           38,
           314,
           419,
           359,
           97,
           227,
           114,
           120,
           80,
           107,
           37,
           592,
           346,
           384,
           460,
           3,
           558,
           431,
           201,
           0,
           104,
           446,
           18,
           316,
           268,
           156,
           351,
           150,
           147,
           471,
           73,
           1490,
           654,
           1213,
           745,
           100,
           124,
           237,
           2,
           797,
           6,
           172,
           242,
           47,
           719,
           110,
           672,
           536,
           37,
           177,
           35,
           311,
           203,
           340,
           12,
           238,
           167,
           58,
           506,
           628,
           27,
           2,
           12,
           48,
           34,
           1436,
           258,
           56,
           444,
           328,
           14,
           3,
           59,
           501,
           201,
           404,
           518,
           57,
           4,
           272,
           238,
           1,
           295,
           270,
           565,
           977,
           10,
           8,
           81,
           685,
           110,
           328,
           376,
           364,
           21,
           21,
           155,
           108,
           839,
           489,
           271,
           505,
           705,
           28,
           426,
           12,
           282,
           193,
           826,
           732,
           128,
           46,
           974,
           85,
           92,
           289,
           416,
           76,
           742,
           428,
           312,
           417,
           40,
           40,
           156,
           685,
           91,
           117,
           539,
           550,
           7,
           356,
           138,
           131,
           286,
           20,
           852,
           31,
           43,
           321,
           98,
           157,
           92,
           25,
           496,
           230,
           57,
           15,
           16,
           387,
           79,
           195,
           413,
           12,
           187,
           639,
           547,
           81,
           429,
           107,
           450,
           158,
           615,
           19,
           250,
           900,
           314,
           354,
           240,
           453,
           356,
           984,
           239,
           265,
           240,
           244,
           406,
           63,
           515,
           750,
           127,
           149,
           380,
           486,
           111,
           77,
           845,
           500,
           195,
           236,
           452,
           350,
           459,
           25,
           435,
           111,
           12,
           25,
           485,
           368,
           314,
           518,
           806,
           230,
           596,
           276,
           150,
           246,
           314,
           886,
           549,
           2,
           152,
           332,
           630,
           385,
           386,
           522,
           81,
           40,
           142,
           204,
           11,
           41,
           440,
           365,
           347,
           478,
           131,
           282,
           116,
           533,
           442,
           4,
           32,
           386,
           415,
           588,
           102,
           461,
           320,
           248,
           457,
           135,
           518,
           5,
           155,
           609,
           501,
           43,
           230,
           937,
           649,
           608,
           398,
           265,
           356,
           277,
           59,
           21,
           186,
           581,
           507,
           358,
           445,
           75,
           265,
           1,
           1,
           504,
           734,
           40,
           351,
           314,
           371,
           395,
           196,
           38,
           7,
           633,
           386,
           501,
           37,
           10,
           132,
           265,
           69,
           560,
           295,
           1,
           50,
           306,
           162,
           719,
           105,
           176,
           35,
           380,
           348,
           236,
           73,
           921,
           440,
           477,
           328,
           553,
           380,
           439,
           85,
           233,
           3,
           551,
           263,
           187,
           570,
           105,
           8,
           66,
           296,
           82,
           880,
           88,
           268,
           57,
           134,
           398,
           51,
           264,
           877,
           2965,
           349,
           615,
           40,
           40,
           0,
           476,
           497,
           98,
           1,
           686,
           62,
           14,
           50,
           290,
           8,
           455,
           8,
           27,
           40,
           258,
           16,
           190,
           461,
           524,
           385,
           413,
           445,
           457,
           36,
           112,
           283,
           36,
           325,
           193,
           1,
           362,
           308,
           288,
           59,
           168,
           531,
           304,
           429,
           187,
           719,
           105,
           193,
           5,
           435,
           160,
           465,
           159,
           468,
           119,
           688,
           585,
           116,
           74,
           144,
           312,
           475,
           499,
           3,
           46,
           82,
           116,
           622,
           351,
           743,
           672,
           350,
           340,
           389,
           246,
           457,
           17,
           397,
           604,
           72,
           24,
           237,
           77,
           60,
           205,
           490,
           289,
           386,
           110,
           619,
           231,
           317,
           593,
           815
          ],
          "coloraxis": "coloraxis"
         },
         "mode": "markers",
         "name": "",
         "showlegend": false,
         "subplot": "mapbox",
         "type": "scattermapbox"
        }
       ],
       "layout": {
        "coloraxis": {
         "colorbar": {
          "title": {
           "text": "STATION_HEIGHT"
          }
         },
         "colorscale": [
          [
           0,
           "#0d0887"
          ],
          [
           0.1111111111111111,
           "#46039f"
          ],
          [
           0.2222222222222222,
           "#7201a8"
          ],
          [
           0.3333333333333333,
           "#9c179e"
          ],
          [
           0.4444444444444444,
           "#bd3786"
          ],
          [
           0.5555555555555556,
           "#d8576b"
          ],
          [
           0.6666666666666666,
           "#ed7953"
          ],
          [
           0.7777777777777778,
           "#fb9f3a"
          ],
          [
           0.8888888888888888,
           "#fdca26"
          ],
          [
           1,
           "#f0f921"
          ]
         ]
        },
        "height": 300,
        "legend": {
         "tracegroupgap": 0
        },
        "mapbox": {
         "center": {
          "lat": 50.810584412955485,
          "lon": 10.267947975708493
         },
         "domain": {
          "x": [
           0,
           1
          ],
          "y": [
           0,
           1
          ]
         },
         "style": "open-street-map",
         "zoom": 4
        },
        "margin": {
         "b": 0,
         "l": 0,
         "r": 0,
         "t": 0
        },
        "template": {
         "data": {
          "bar": [
           {
            "error_x": {
             "color": "#2a3f5f"
            },
            "error_y": {
             "color": "#2a3f5f"
            },
            "marker": {
             "line": {
              "color": "#E5ECF6",
              "width": 0.5
             }
            },
            "type": "bar"
           }
          ],
          "barpolar": [
           {
            "marker": {
             "line": {
              "color": "#E5ECF6",
              "width": 0.5
             }
            },
            "type": "barpolar"
           }
          ],
          "carpet": [
           {
            "aaxis": {
             "endlinecolor": "#2a3f5f",
             "gridcolor": "white",
             "linecolor": "white",
             "minorgridcolor": "white",
             "startlinecolor": "#2a3f5f"
            },
            "baxis": {
             "endlinecolor": "#2a3f5f",
             "gridcolor": "white",
             "linecolor": "white",
             "minorgridcolor": "white",
             "startlinecolor": "#2a3f5f"
            },
            "type": "carpet"
           }
          ],
          "choropleth": [
           {
            "colorbar": {
             "outlinewidth": 0,
             "ticks": ""
            },
            "type": "choropleth"
           }
          ],
          "contour": [
           {
            "colorbar": {
             "outlinewidth": 0,
             "ticks": ""
            },
            "colorscale": [
             [
              0,
              "#0d0887"
             ],
             [
              0.1111111111111111,
              "#46039f"
             ],
             [
              0.2222222222222222,
              "#7201a8"
             ],
             [
              0.3333333333333333,
              "#9c179e"
             ],
             [
              0.4444444444444444,
              "#bd3786"
             ],
             [
              0.5555555555555556,
              "#d8576b"
             ],
             [
              0.6666666666666666,
              "#ed7953"
             ],
             [
              0.7777777777777778,
              "#fb9f3a"
             ],
             [
              0.8888888888888888,
              "#fdca26"
             ],
             [
              1,
              "#f0f921"
             ]
            ],
            "type": "contour"
           }
          ],
          "contourcarpet": [
           {
            "colorbar": {
             "outlinewidth": 0,
             "ticks": ""
            },
            "type": "contourcarpet"
           }
          ],
          "heatmap": [
           {
            "colorbar": {
             "outlinewidth": 0,
             "ticks": ""
            },
            "colorscale": [
             [
              0,
              "#0d0887"
             ],
             [
              0.1111111111111111,
              "#46039f"
             ],
             [
              0.2222222222222222,
              "#7201a8"
             ],
             [
              0.3333333333333333,
              "#9c179e"
             ],
             [
              0.4444444444444444,
              "#bd3786"
             ],
             [
              0.5555555555555556,
              "#d8576b"
             ],
             [
              0.6666666666666666,
              "#ed7953"
             ],
             [
              0.7777777777777778,
              "#fb9f3a"
             ],
             [
              0.8888888888888888,
              "#fdca26"
             ],
             [
              1,
              "#f0f921"
             ]
            ],
            "type": "heatmap"
           }
          ],
          "heatmapgl": [
           {
            "colorbar": {
             "outlinewidth": 0,
             "ticks": ""
            },
            "colorscale": [
             [
              0,
              "#0d0887"
             ],
             [
              0.1111111111111111,
              "#46039f"
             ],
             [
              0.2222222222222222,
              "#7201a8"
             ],
             [
              0.3333333333333333,
              "#9c179e"
             ],
             [
              0.4444444444444444,
              "#bd3786"
             ],
             [
              0.5555555555555556,
              "#d8576b"
             ],
             [
              0.6666666666666666,
              "#ed7953"
             ],
             [
              0.7777777777777778,
              "#fb9f3a"
             ],
             [
              0.8888888888888888,
              "#fdca26"
             ],
             [
              1,
              "#f0f921"
             ]
            ],
            "type": "heatmapgl"
           }
          ],
          "histogram": [
           {
            "marker": {
             "colorbar": {
              "outlinewidth": 0,
              "ticks": ""
             }
            },
            "type": "histogram"
           }
          ],
          "histogram2d": [
           {
            "colorbar": {
             "outlinewidth": 0,
             "ticks": ""
            },
            "colorscale": [
             [
              0,
              "#0d0887"
             ],
             [
              0.1111111111111111,
              "#46039f"
             ],
             [
              0.2222222222222222,
              "#7201a8"
             ],
             [
              0.3333333333333333,
              "#9c179e"
             ],
             [
              0.4444444444444444,
              "#bd3786"
             ],
             [
              0.5555555555555556,
              "#d8576b"
             ],
             [
              0.6666666666666666,
              "#ed7953"
             ],
             [
              0.7777777777777778,
              "#fb9f3a"
             ],
             [
              0.8888888888888888,
              "#fdca26"
             ],
             [
              1,
              "#f0f921"
             ]
            ],
            "type": "histogram2d"
           }
          ],
          "histogram2dcontour": [
           {
            "colorbar": {
             "outlinewidth": 0,
             "ticks": ""
            },
            "colorscale": [
             [
              0,
              "#0d0887"
             ],
             [
              0.1111111111111111,
              "#46039f"
             ],
             [
              0.2222222222222222,
              "#7201a8"
             ],
             [
              0.3333333333333333,
              "#9c179e"
             ],
             [
              0.4444444444444444,
              "#bd3786"
             ],
             [
              0.5555555555555556,
              "#d8576b"
             ],
             [
              0.6666666666666666,
              "#ed7953"
             ],
             [
              0.7777777777777778,
              "#fb9f3a"
             ],
             [
              0.8888888888888888,
              "#fdca26"
             ],
             [
              1,
              "#f0f921"
             ]
            ],
            "type": "histogram2dcontour"
           }
          ],
          "mesh3d": [
           {
            "colorbar": {
             "outlinewidth": 0,
             "ticks": ""
            },
            "type": "mesh3d"
           }
          ],
          "parcoords": [
           {
            "line": {
             "colorbar": {
              "outlinewidth": 0,
              "ticks": ""
             }
            },
            "type": "parcoords"
           }
          ],
          "pie": [
           {
            "automargin": true,
            "type": "pie"
           }
          ],
          "scatter": [
           {
            "marker": {
             "colorbar": {
              "outlinewidth": 0,
              "ticks": ""
             }
            },
            "type": "scatter"
           }
          ],
          "scatter3d": [
           {
            "line": {
             "colorbar": {
              "outlinewidth": 0,
              "ticks": ""
             }
            },
            "marker": {
             "colorbar": {
              "outlinewidth": 0,
              "ticks": ""
             }
            },
            "type": "scatter3d"
           }
          ],
          "scattercarpet": [
           {
            "marker": {
             "colorbar": {
              "outlinewidth": 0,
              "ticks": ""
             }
            },
            "type": "scattercarpet"
           }
          ],
          "scattergeo": [
           {
            "marker": {
             "colorbar": {
              "outlinewidth": 0,
              "ticks": ""
             }
            },
            "type": "scattergeo"
           }
          ],
          "scattergl": [
           {
            "marker": {
             "colorbar": {
              "outlinewidth": 0,
              "ticks": ""
             }
            },
            "type": "scattergl"
           }
          ],
          "scattermapbox": [
           {
            "marker": {
             "colorbar": {
              "outlinewidth": 0,
              "ticks": ""
             }
            },
            "type": "scattermapbox"
           }
          ],
          "scatterpolar": [
           {
            "marker": {
             "colorbar": {
              "outlinewidth": 0,
              "ticks": ""
             }
            },
            "type": "scatterpolar"
           }
          ],
          "scatterpolargl": [
           {
            "marker": {
             "colorbar": {
              "outlinewidth": 0,
              "ticks": ""
             }
            },
            "type": "scatterpolargl"
           }
          ],
          "scatterternary": [
           {
            "marker": {
             "colorbar": {
              "outlinewidth": 0,
              "ticks": ""
             }
            },
            "type": "scatterternary"
           }
          ],
          "surface": [
           {
            "colorbar": {
             "outlinewidth": 0,
             "ticks": ""
            },
            "colorscale": [
             [
              0,
              "#0d0887"
             ],
             [
              0.1111111111111111,
              "#46039f"
             ],
             [
              0.2222222222222222,
              "#7201a8"
             ],
             [
              0.3333333333333333,
              "#9c179e"
             ],
             [
              0.4444444444444444,
              "#bd3786"
             ],
             [
              0.5555555555555556,
              "#d8576b"
             ],
             [
              0.6666666666666666,
              "#ed7953"
             ],
             [
              0.7777777777777778,
              "#fb9f3a"
             ],
             [
              0.8888888888888888,
              "#fdca26"
             ],
             [
              1,
              "#f0f921"
             ]
            ],
            "type": "surface"
           }
          ],
          "table": [
           {
            "cells": {
             "fill": {
              "color": "#EBF0F8"
             },
             "line": {
              "color": "white"
             }
            },
            "header": {
             "fill": {
              "color": "#C8D4E3"
             },
             "line": {
              "color": "white"
             }
            },
            "type": "table"
           }
          ]
         },
         "layout": {
          "annotationdefaults": {
           "arrowcolor": "#2a3f5f",
           "arrowhead": 0,
           "arrowwidth": 1
          },
          "coloraxis": {
           "colorbar": {
            "outlinewidth": 0,
            "ticks": ""
           }
          },
          "colorscale": {
           "diverging": [
            [
             0,
             "#8e0152"
            ],
            [
             0.1,
             "#c51b7d"
            ],
            [
             0.2,
             "#de77ae"
            ],
            [
             0.3,
             "#f1b6da"
            ],
            [
             0.4,
             "#fde0ef"
            ],
            [
             0.5,
             "#f7f7f7"
            ],
            [
             0.6,
             "#e6f5d0"
            ],
            [
             0.7,
             "#b8e186"
            ],
            [
             0.8,
             "#7fbc41"
            ],
            [
             0.9,
             "#4d9221"
            ],
            [
             1,
             "#276419"
            ]
           ],
           "sequential": [
            [
             0,
             "#0d0887"
            ],
            [
             0.1111111111111111,
             "#46039f"
            ],
            [
             0.2222222222222222,
             "#7201a8"
            ],
            [
             0.3333333333333333,
             "#9c179e"
            ],
            [
             0.4444444444444444,
             "#bd3786"
            ],
            [
             0.5555555555555556,
             "#d8576b"
            ],
            [
             0.6666666666666666,
             "#ed7953"
            ],
            [
             0.7777777777777778,
             "#fb9f3a"
            ],
            [
             0.8888888888888888,
             "#fdca26"
            ],
            [
             1,
             "#f0f921"
            ]
           ],
           "sequentialminus": [
            [
             0,
             "#0d0887"
            ],
            [
             0.1111111111111111,
             "#46039f"
            ],
            [
             0.2222222222222222,
             "#7201a8"
            ],
            [
             0.3333333333333333,
             "#9c179e"
            ],
            [
             0.4444444444444444,
             "#bd3786"
            ],
            [
             0.5555555555555556,
             "#d8576b"
            ],
            [
             0.6666666666666666,
             "#ed7953"
            ],
            [
             0.7777777777777778,
             "#fb9f3a"
            ],
            [
             0.8888888888888888,
             "#fdca26"
            ],
            [
             1,
             "#f0f921"
            ]
           ]
          },
          "colorway": [
           "#636efa",
           "#EF553B",
           "#00cc96",
           "#ab63fa",
           "#FFA15A",
           "#19d3f3",
           "#FF6692",
           "#B6E880",
           "#FF97FF",
           "#FECB52"
          ],
          "font": {
           "color": "#2a3f5f"
          },
          "geo": {
           "bgcolor": "white",
           "lakecolor": "white",
           "landcolor": "#E5ECF6",
           "showlakes": true,
           "showland": true,
           "subunitcolor": "white"
          },
          "hoverlabel": {
           "align": "left"
          },
          "hovermode": "closest",
          "mapbox": {
           "style": "light"
          },
          "paper_bgcolor": "white",
          "plot_bgcolor": "#E5ECF6",
          "polar": {
           "angularaxis": {
            "gridcolor": "white",
            "linecolor": "white",
            "ticks": ""
           },
           "bgcolor": "#E5ECF6",
           "radialaxis": {
            "gridcolor": "white",
            "linecolor": "white",
            "ticks": ""
           }
          },
          "scene": {
           "xaxis": {
            "backgroundcolor": "#E5ECF6",
            "gridcolor": "white",
            "gridwidth": 2,
            "linecolor": "white",
            "showbackground": true,
            "ticks": "",
            "zerolinecolor": "white"
           },
           "yaxis": {
            "backgroundcolor": "#E5ECF6",
            "gridcolor": "white",
            "gridwidth": 2,
            "linecolor": "white",
            "showbackground": true,
            "ticks": "",
            "zerolinecolor": "white"
           },
           "zaxis": {
            "backgroundcolor": "#E5ECF6",
            "gridcolor": "white",
            "gridwidth": 2,
            "linecolor": "white",
            "showbackground": true,
            "ticks": "",
            "zerolinecolor": "white"
           }
          },
          "shapedefaults": {
           "line": {
            "color": "#2a3f5f"
           }
          },
          "ternary": {
           "aaxis": {
            "gridcolor": "white",
            "linecolor": "white",
            "ticks": ""
           },
           "baxis": {
            "gridcolor": "white",
            "linecolor": "white",
            "ticks": ""
           },
           "bgcolor": "#E5ECF6",
           "caxis": {
            "gridcolor": "white",
            "linecolor": "white",
            "ticks": ""
           }
          },
          "title": {
           "x": 0.05
          },
          "xaxis": {
           "automargin": true,
           "gridcolor": "white",
           "linecolor": "white",
           "ticks": "",
           "title": {
            "standoff": 15
           },
           "zerolinecolor": "white",
           "zerolinewidth": 2
          },
          "yaxis": {
           "automargin": true,
           "gridcolor": "white",
           "linecolor": "white",
           "ticks": "",
           "title": {
            "standoff": 15
           },
           "zerolinecolor": "white",
           "zerolinewidth": 2
          }
         }
        }
       }
      },
      "text/html": [
       "<div>                            <div id=\"a6b30616-2c5d-47bb-866e-c8583b7d24b7\" class=\"plotly-graph-div\" style=\"height:300px; width:100%;\"></div>            <script type=\"text/javascript\">                require([\"plotly\"], function(Plotly) {                    window.PLOTLYENV=window.PLOTLYENV || {};                                    if (document.getElementById(\"a6b30616-2c5d-47bb-866e-c8583b7d24b7\")) {                    Plotly.newPlot(                        \"a6b30616-2c5d-47bb-866e-c8583b7d24b7\",                        [{\"customdata\": [[44, \"Niedersachsen\", 44.0], [73, \"Bayern\", 340.0], [78, \"Niedersachsen\", 65.0], [91, \"Hessen\", 300.0], [96, \"Brandenburg\", 50.0], [102, \"Niedersachsen\", 32.0], [125, \"Bayern\", 756.0], [131, \"Sachsen\", 296.0], [142, \"Bayern\", 511.0], [150, \"Rheinland-Pfalz\", 215.0], [151, \"Bayern\", 382.0], [154, \"Bayern\", 516.0], [161, \"Rheinland-Pfalz\", 75.0], [164, \"Brandenburg\", 54.0], [167, \"Mecklenburg-Vorpommern\", 9.0], [183, \"Mecklenburg-Vorpommern\", 42.0], [191, \"Bayern\", 217.0], [198, \"Th\\u00fcringen\", 164.0], [217, \"Bayern\", 670.0], [222, \"Sachsen\", 393.0], [232, \"Bayern\", 462.0], [257, \"Baden-W\\u00fcrttemberg\", 240.0], [259, \"Baden-W\\u00fcrttemberg\", 273.0], [282, \"Bayern\", 240.0], [294, \"Niedersachsen\", 110.0], [298, \"Mecklenburg-Vorpommern\", 3.0], [303, \"Brandenburg\", 55.0], [314, \"Sachsen\", 234.0], [320, \"Bayern\", 350.0], [330, \"Hessen\", 455.0], [342, \"Niedersachsen\", 103.0], [368, \"Niedersachsen\", 70.0], [377, \"Rheinland-Pfalz\", 210.0], [379, \"Th\\u00fcringen\", 303.0], [390, \"Nordrhein-Westfalen\", 610.0], [400, \"Berlin\", 60.0], [403, \"Berlin\", 51.0], [420, \"Berlin\", 60.0], [427, \"Brandenburg\", 46.0], [430, \"Berlin\", 36.0], [433, \"Berlin\", 48.0], [445, \"Sachsen-Anhalt\", 85.0], [460, \"Saarland\", 363.0], [535, \"Rheinland-Pfalz\", 417.0], [591, \"Mecklenburg-Vorpommern\", 45.0], [596, \"Mecklenburg-Vorpommern\", 15.0], [603, \"Nordrhein-Westfalen\", 147.0], [617, \"Nordrhein-Westfalen\", 47.0], [656, \"Niedersachsen\", 607.0], [662, \"Niedersachsen\", 81.0], [691, \"Bremen\", 4.0], [701, \"Bremen\", 7.0], [704, \"Niedersachsen\", 11.0], [722, \"Sachsen-Anhalt\", 1134.0], [755, \"Baden-W\\u00fcrttemberg\", 340.0], [757, \"Baden-W\\u00fcrttemberg\", 445.0], [760, \"Niedersachsen\", 82.0], [766, \"Rheinland-Pfalz\", 477.0], [769, \"Niedersachsen\", 68.0], [817, \"Hessen\", 293.0], [840, \"Sachsen\", 897.0], [850, \"Niedersachsen\", 39.0], [853, \"Sachsen\", 418.0], [856, \"Bayern\", 551.0], [867, \"Bayern\", 344.0], [880, \"Brandenburg\", 69.0], [891, \"Niedersachsen\", 5.0], [896, \"Th\\u00fcringen\", 170.0], [917, \"Hessen\", 162.0], [953, \"Rheinland-Pfalz\", 481.0], [954, \"Hamburg\", 0.0], [963, \"Niedersachsen\", 38.0], [979, \"Hessen\", 314.0], [983, \"Bayern\", 419.0], [991, \"Sachsen\", 359.0], [1001, \"Brandenburg\", 97.0], [1048, \"Sachsen\", 227.0], [1050, \"Sachsen\", 114.0], [1051, \"Sachsen\", 120.0], [1052, \"Sachsen-Anhalt\", 80.0], [1072, \"Rheinland-Pfalz\", 107.0], [1078, \"Nordrhein-Westfalen\", 37.0], [1103, \"Bayern\", 592.0], [1107, \"Bayern\", 346.0], [1161, \"Bayern\", 384.0], [1197, \"Baden-W\\u00fcrttemberg\", 460.0], [1200, \"Schleswig-Holstein\", 3.0], [1207, \"Sachsen\", 558.0], [1214, \"Baden-W\\u00fcrttemberg\", 431.0], [1224, \"Baden-W\\u00fcrttemberg\", 201.0], [1228, \"Hamburg\", 0.0], [1246, \"Nordrhein-Westfalen\", 104.0], [1262, \"Bayern\", 446.0], [1266, \"Schleswig-Holstein\", 18.0], [1270, \"Th\\u00fcringen\", 316.0], [1279, \"Bayern\", 268.0], [1297, \"Hessen\", 156.0], [1300, \"Nordrhein-Westfalen\", 351.0], [1303, \"Nordrhein-Westfalen\", 150.0], [1327, \"Nordrhein-Westfalen\", 147.0], [1332, \"Bayern\", 471.0], [1339, \"Niedersachsen\", 73.0], [1346, \"Baden-W\\u00fcrttemberg\", 1490.0], [1357, \"Bayern\", 654.0], [1358, \"Sachsen\", 1213.0], [1411, \"Th\\u00fcringen\", 745.0], [1420, \"Hessen\", 100.0], [1424, \"Hessen\", 124.0], [1443, \"Baden-W\\u00fcrttemberg\", 237.0], [1451, \"Niedersachsen\", 2.0], [1468, \"Baden-W\\u00fcrttemberg\", 797.0], [1503, \"Niedersachsen\", 6.0], [1504, \"Hessen\", 172.0], [1526, \"Hessen\", 242.0], [1544, \"Sachsen-Anhalt\", 47.0], [1550, \"Bayern\", 719.0], [1580, \"Hessen\", 110.0], [1584, \"Baden-W\\u00fcrttemberg\", 672.0], [1587, \"Bayern\", 536.0], [1590, \"Nordrhein-Westfalen\", 37.0], [1602, \"Baden-W\\u00fcrttemberg\", 177.0], [1605, \"Sachsen-Anhalt\", 35.0], [1612, \"Th\\u00fcringen\", 311.0], [1639, \"Hessen\", 203.0], [1645, \"Hessen\", 340.0], [1666, \"Schleswig-Holstein\", 12.0], [1684, \"Sachsen\", 238.0], [1691, \"Niedersachsen\", 167.0], [1694, \"Mecklenburg-Vorpommern\", 58.0], [1721, \"Bayern\", 506.0], [1735, \"Bayern\", 628.0], [1736, \"Schleswig-Holstein\", 27.0], [1757, \"Mecklenburg-Vorpommern\", 2.0], [1759, \"Mecklenburg-Vorpommern\", 12.0], [1766, \"Nordrhein-Westfalen\", 48.0], [1803, \"Mecklenburg-Vorpommern\", 34.0], [1832, \"Bayern\", 1436.0], [1863, \"Hessen\", 258.0], [1869, \"Brandenburg\", 56.0], [1886, \"Bayern\", 444.0], [1964, \"Rheinland-Pfalz\", 328.0], [1975, \"Hamburg\", 14.0], [1981, \"Hamburg\", 3.0], [2014, \"Niedersachsen\", 59.0], [2023, \"Bayern\", 501.0], [2039, \"Niedersachsen\", 201.0], [2044, \"Sachsen-Anhalt\", 404.0], [2074, \"Baden-W\\u00fcrttemberg\", 518.0], [2110, \"Nordrhein-Westfalen\", 57.0], [2115, \"Schleswig-Holstein\", 4.0], [2171, \"Hessen\", 272.0], [2174, \"Niedersachsen\", 238.0], [2201, \"Mecklenburg-Vorpommern\", 1.0], [2211, \"Rheinland-Pfalz\", 295.0], [2252, \"Sachsen\", 270.0], [2261, \"Bayern\", 565.0], [2290, \"Bayern\", 977.0], [2303, \"Schleswig-Holstein\", 10.0], [2306, \"Schleswig-Holstein\", 8.0], [2315, \"Sachsen-Anhalt\", 81.0], [2319, \"Bayern\", 685.0], [2323, \"Niedersachsen\", 110.0], [2362, \"Rheinland-Pfalz\", 328.0], [2385, \"Rheinland-Pfalz\", 376.0], [2410, \"Bayern\", 364.0], [2429, \"Schleswig-Holstein\", 21.0], [2437, \"Schleswig-Holstein\", 21.0], [2444, \"Th\\u00fcringen\", 155.0], [2480, \"Bayern\", 108.0], [2483, \"Nordrhein-Westfalen\", 839.0], [2485, \"Baden-W\\u00fcrttemberg\", 489.0], [2486, \"Rheinland-Pfalz\", 271.0], [2497, \"Nordrhein-Westfalen\", 505.0], [2559, \"Bayern\", 705.0], [2564, \"Schleswig-Holstein\", 28.0], [2575, \"Baden-W\\u00fcrttemberg\", 426.0], [2578, \"Mecklenburg-Vorpommern\", 12.0], [2597, \"Bayern\", 282.0], [2600, \"Bayern\", 193.0], [2601, \"Hessen\", 826.0], [2618, \"Th\\u00fcringen\", 732.0], [2627, \"Brandenburg\", 128.0], [2629, \"Nordrhein-Westfalen\", 46.0], [2638, \"Baden-W\\u00fcrttemberg\", 974.0], [2641, \"Sachsen\", 85.0], [2667, \"Nordrhein-Westfalen\", 92.0], [2680, \"Bayern\", 289.0], [2700, \"Bayern\", 416.0], [2704, \"Sachsen-Anhalt\", 76.0], [2708, \"Bayern\", 742.0], [2712, \"Baden-W\\u00fcrttemberg\", 428.0], [2750, \"Bayern\", 312.0], [2773, \"Bayern\", 417.0], [2794, \"Brandenburg\", 40.0], [2796, \"Mecklenburg-Vorpommern\", 40.0], [2812, \"Baden-W\\u00fcrttemberg\", 156.0], [2814, \"Baden-W\\u00fcrttemberg\", 685.0], [2856, \"Brandenburg\", 91.0], [2878, \"Sachsen-Anhalt\", 117.0], [2886, \"Baden-W\\u00fcrttemberg\", 539.0], [2905, \"Bayern\", 550.0], [2907, \"Schleswig-Holstein\", 7.0], [2925, \"Th\\u00fcringen\", 356.0], [2928, \"Sachsen\", 138.0], [2932, \"Sachsen\", 131.0], [2947, \"Nordrhein-Westfalen\", 286.0], [2951, \"Brandenburg\", 20.0], [2953, \"Baden-W\\u00fcrttemberg\", 852.0], [2961, \"Schleswig-Holstein\", 31.0], [2968, \"Nordrhein-Westfalen\", 43.0], [2985, \"Sachsen\", 321.0], [3015, \"Brandenburg\", 98.0], [3028, \"Nordrhein-Westfalen\", 157.0], [3031, \"Nordrhein-Westfalen\", 92.0], [3032, \"Schleswig-Holstein\", 25.0], [3034, \"Th\\u00fcringen\", 496.0], [3042, \"Hessen\", 230.0], [3083, \"Brandenburg\", 57.0], [3086, \"Schleswig-Holstein\", 15.0], [3093, \"Niedersachsen\", 16.0], [3098, \"Nordrhein-Westfalen\", 387.0], [3126, \"Sachsen-Anhalt\", 79.0], [3137, \"Rheinland-Pfalz\", 195.0], [3155, \"Rheinland-Pfalz\", 413.0], [3158, \"Brandenburg\", 12.0], [3164, \"Hessen\", 187.0], [3166, \"Sachsen\", 639.0], [3167, \"Rheinland-Pfalz\", 547.0], [3196, \"Mecklenburg-Vorpommern\", 81.0], [3204, \"Th\\u00fcringen\", 429.0], [3226, \"Sachsen-Anhalt\", 107.0], [3231, \"Th\\u00fcringen\", 450.0], [3234, \"Sachsen\", 158.0], [3244, \"Bayern\", 615.0], [3254, \"Niedersachsen\", 19.0], [3257, \"Baden-W\\u00fcrttemberg\", 250.0], [3268, \"Baden-W\\u00fcrttemberg\", 900.0], [3271, \"Bayern\", 314.0], [3278, \"Baden-W\\u00fcrttemberg\", 354.0], [3284, \"Hessen\", 240.0], [3287, \"Hessen\", 453.0], [3289, \"Th\\u00fcringen\", 356.0], [3307, \"Bayern\", 984.0], [3319, \"Bayern\", 239.0], [3340, \"Rheinland-Pfalz\", 265.0], [3348, \"Niedersachsen\", 240.0], [3362, \"Baden-W\\u00fcrttemberg\", 244.0], [3366, \"Bayern\", 406.0], [3376, \"Brandenburg\", 63.0], [3379, \"Bayern\", 515.0], [3402, \"Baden-W\\u00fcrttemberg\", 750.0], [3426, \"Sachsen\", 127.0], [3442, \"Hessen\", 149.0], [3484, \"Bayern\", 380.0], [3485, \"Bayern\", 486.0], [3490, \"Rheinland-Pfalz\", 111.0], [3509, \"Brandenburg\", 77.0], [3513, \"Th\\u00fcringen\", 845.0], [3527, \"Hessen\", 500.0], [3540, \"Nordrhein-Westfalen\", 195.0], [3545, \"Saarland\", 236.0], [3571, \"Bayern\", 452.0], [3591, \"Nordrhein-Westfalen\", 350.0], [3603, \"Baden-W\\u00fcrttemberg\", 459.0], [3612, \"Niedersachsen\", 25.0], [3621, \"Bayern\", 435.0], [3623, \"Nordrhein-Westfalen\", 111.0], [3631, \"Niedersachsen\", 12.0], [3639, \"Niedersachsen\", 25.0], [3660, \"Rheinland-Pfalz\", 485.0], [3667, \"Bayern\", 368.0], [3668, \"Bayern\", 314.0], [3679, \"Bayern\", 518.0], [3730, \"Bayern\", 806.0], [3734, \"Baden-W\\u00fcrttemberg\", 230.0], [3739, \"Bayern\", 596.0], [3761, \"Baden-W\\u00fcrttemberg\", 276.0], [3811, \"Sachsen\", 150.0], [3821, \"Sachsen-Anhalt\", 246.0], [3836, \"Bayern\", 314.0], [3857, \"Bayern\", 886.0], [3875, \"Bayern\", 549.0], [3897, \"Schleswig-Holstein\", 2.0], [3904, \"Saarland\", 152.0], [3925, \"Baden-W\\u00fcrttemberg\", 332.0], [3927, \"Baden-W\\u00fcrttemberg\", 630.0], [3939, \"Rheinland-Pfalz\", 385.0], [3946, \"Sachsen\", 386.0], [3975, \"Bayern\", 522.0], [3987, \"Brandenburg\", 81.0], [4024, \"Mecklenburg-Vorpommern\", 40.0], [4032, \"Sachsen-Anhalt\", 142.0], [4036, \"Sachsen-Anhalt\", 204.0], [4039, \"Schleswig-Holstein\", 11.0], [4063, \"Nordrhein-Westfalen\", 41.0], [4094, \"Baden-W\\u00fcrttemberg\", 440.0], [4104, \"Bayern\", 365.0], [4127, \"Nordrhein-Westfalen\", 347.0], [4160, \"Baden-W\\u00fcrttemberg\", 478.0], [4169, \"Baden-W\\u00fcrttemberg\", 131.0], [4175, \"Baden-W\\u00fcrttemberg\", 282.0], [4177, \"Baden-W\\u00fcrttemberg\", 116.0], [4189, \"Baden-W\\u00fcrttemberg\", 533.0], [4261, \"Bayern\", 442.0], [4271, \"Mecklenburg-Vorpommern\", 4.0], [4275, \"Niedersachsen\", 32.0], [4280, \"Bayern\", 386.0], [4287, \"Bayern\", 415.0], [4300, \"Baden-W\\u00fcrttemberg\", 588.0], [4301, \"Rheinland-Pfalz\", 102.0], [4323, \"Rheinland-Pfalz\", 461.0], [4336, \"Saarland\", 320.0], [4349, \"Baden-W\\u00fcrttemberg\", 248.0], [4354, \"Bayern\", 457.0], [4371, \"Nordrhein-Westfalen\", 135.0], [4377, \"Bayern\", 518.0], [4393, \"Schleswig-Holstein\", 5.0], [4411, \"Hessen\", 155.0], [4445, \"Sachsen-Anhalt\", 609.0], [4464, \"Th\\u00fcringen\", 501.0], [4466, \"Schleswig-Holstein\", 43.0], [4480, \"Hessen\", 230.0], [4501, \"Th\\u00fcringen\", 937.0], [4508, \"Rheinland-Pfalz\", 649.0], [4548, \"Bayern\", 608.0], [4559, \"Bayern\", 398.0], [4560, \"Hessen\", 265.0], [4592, \"Bayern\", 356.0], [4605, \"Th\\u00fcringen\", 277.0], [4625, \"Mecklenburg-Vorpommern\", 59.0], [4642, \"Sachsen-Anhalt\", 21.0], [4651, \"Niedersachsen\", 186.0], [4703, \"Baden-W\\u00fcrttemberg\", 581.0], [4704, \"Bayern\", 507.0], [4706, \"Bayern\", 358.0], [4709, \"Rheinland-Pfalz\", 445.0], [4745, \"Niedersachsen\", 75.0], [4763, \"Hessen\", 265.0], [4841, \"Niedersachsen\", 1.0], [4857, \"Niedersachsen\", 1.0], [4878, \"Sachsen-Anhalt\", 504.0], [4887, \"Baden-W\\u00fcrttemberg\", 734.0], [4896, \"Schleswig-Holstein\", 40.0], [4911, \"Bayern\", 351.0], [4928, \"Baden-W\\u00fcrttemberg\", 314.0], [4931, \"Baden-W\\u00fcrttemberg\", 371.0], [4978, \"Hessen\", 395.0], [4997, \"Th\\u00fcringen\", 196.0], [5009, \"Mecklenburg-Vorpommern\", 38.0], [5014, \"Niedersachsen\", 7.0], [5017, \"Bayern\", 633.0], [5029, \"Saarland\", 386.0], [5046, \"Bayern\", 501.0], [5064, \"Nordrhein-Westfalen\", 37.0], [5097, \"Mecklenburg-Vorpommern\", 10.0], [5099, \"Rheinland-Pfalz\", 132.0], [5100, \"Rheinland-Pfalz\", 265.0], [5109, \"Mecklenburg-Vorpommern\", 69.0], [5111, \"Bayern\", 560.0], [5133, \"Hessen\", 295.0], [5142, \"Mecklenburg-Vorpommern\", 1.0], [5146, \"Niedersachsen\", 50.0], [5149, \"Bayern\", 306.0], [5158, \"Sachsen-Anhalt\", 162.0], [5229, \"Baden-W\\u00fcrttemberg\", 719.0], [5275, \"Baden-W\\u00fcrttemberg\", 105.0], [5279, \"Hessen\", 176.0], [5280, \"Schleswig-Holstein\", 35.0], [5300, \"Hessen\", 380.0], [5335, \"Th\\u00fcringen\", 348.0], [5347, \"Nordrhein-Westfalen\", 236.0], [5349, \"Mecklenburg-Vorpommern\", 73.0], [5371, \"Hessen\", 921.0], [5397, \"Bayern\", 440.0], [5404, \"Bayern\", 477.0], [5424, \"Th\\u00fcringen\", 328.0], [5426, \"Rheinland-Pfalz\", 553.0], [5433, \"Saarland\", 380.0], [5440, \"Bayern\", 439.0], [5480, \"Nordrhein-Westfalen\", 85.0], [5490, \"Sachsen-Anhalt\", 233.0], [5516, \"Schleswig-Holstein\", 3.0], [5538, \"Bayern\", 551.0], [5541, \"Hessen\", 263.0], [5546, \"Brandenburg\", 187.0], [5562, \"Baden-W\\u00fcrttemberg\", 570.0], [5629, \"Sachsen-Anhalt\", 105.0], [5640, \"Niedersachsen\", 8.0], [5643, \"Brandenburg\", 66.0], [5664, \"Baden-W\\u00fcrttemberg\", 296.0], [5676, \"Niedersachsen\", 82.0], [5688, \"Baden-W\\u00fcrttemberg\", 880.0], [5692, \"Rheinland-Pfalz\", 88.0], [5705, \"Bayern\", 268.0], [5715, \"Niedersachsen\", 57.0], [5717, \"Nordrhein-Westfalen\", 134.0], [5731, \"Baden-W\\u00fcrttemberg\", 398.0], [5745, \"Brandenburg\", 51.0], [5750, \"Sachsen-Anhalt\", 264.0], [5779, \"Sachsen\", 877.0], [5792, \"Bayern\", 2965.0], [5797, \"Sachsen\", 349.0], [5800, \"Bayern\", 615.0], [5822, \"Niedersachsen\", 40.0], [5825, \"Brandenburg\", 40.0], [5839, \"Niedersachsen\", -0.0], [5856, \"Bayern\", 476.0], [5871, \"Rheinland-Pfalz\", 497.0], [5906, \"Baden-W\\u00fcrttemberg\", 98.0], [5930, \"Schleswig-Holstein\", 1.0], [5941, \"Bayern\", 686.0], [6093, \"Niedersachsen\", 62.0], [6105, \"Schleswig-Holstein\", 14.0], [6109, \"Mecklenburg-Vorpommern\", 50.0], [6129, \"Sachsen\", 290.0], [6157, \"Niedersachsen\", 8.0], [6158, \"Bayern\", 455.0], [6159, \"Niedersachsen\", 8.0], [6163, \"Schleswig-Holstein\", 27.0], [6170, \"Brandenburg\", 40.0], [6197, \"Nordrhein-Westfalen\", 258.0], [6199, \"Mecklenburg-Vorpommern\", 16.0], [6217, \"Saarland\", 190.0], [6258, \"Baden-W\\u00fcrttemberg\", 461.0], [6259, \"Baden-W\\u00fcrttemberg\", 524.0], [6260, \"Baden-W\\u00fcrttemberg\", 385.0], [6262, \"Baden-W\\u00fcrttemberg\", 413.0], [6263, \"Baden-W\\u00fcrttemberg\", 445.0], [6264, \"Nordrhein-Westfalen\", 457.0], [6265, \"Brandenburg\", 36.0], [6266, \"Sachsen-Anhalt\", 112.0], [6272, \"Th\\u00fcringen\", 283.0], [6273, \"Sachsen-Anhalt\", 36.0], [6275, \"Baden-W\\u00fcrttemberg\", 325.0], [6305, \"Th\\u00fcringen\", 193.0], [6310, \"Mecklenburg-Vorpommern\", 1.0], [6312, \"Bayern\", 362.0], [6314, \"Sachsen\", 308.0], [6336, \"Bayern\", 288.0], [6337, \"Nordrhein-Westfalen\", 59.0], [6344, \"Hessen\", 168.0], [6346, \"Bayern\", 531.0], [6347, \"Bayern\", 304.0], [7075, \"Bayern\", 429.0], [7099, \"Niedersachsen\", 187.0], [7105, \"Bayern\", 719.0], [7106, \"Nordrhein-Westfalen\", 105.0], [7187, \"Baden-W\\u00fcrttemberg\", 193.0], [7298, \"Schleswig-Holstein\", 5.0], [7319, \"Bayern\", 435.0], [7321, \"Th\\u00fcringen\", 160.0], [7329, \"Sachsen\", 465.0], [7330, \"Nordrhein-Westfalen\", 159.0], [7331, \"Baden-W\\u00fcrttemberg\", 468.0], [7341, \"Hessen\", 119.0], [7343, \"Sachsen\", 688.0], [7350, \"Bayern\", 585.0], [7351, \"Mecklenburg-Vorpommern\", 116.0], [7364, \"Sachsen-Anhalt\", 74.0], [7367, \"Niedersachsen\", 144.0], [7368, \"Th\\u00fcringen\", 312.0], [7369, \"Bayern\", 475.0], [7370, \"Bayern\", 499.0], [7373, \"Niedersachsen\", 3.0], [7374, \"Nordrhein-Westfalen\", 46.0], [7389, \"Brandenburg\", 82.0], [7393, \"Sachsen\", 116.0], [7394, \"Bayern\", 622.0], [7395, \"Bayern\", 351.0], [7396, \"Hessen\", 743.0], [7403, \"Baden-W\\u00fcrttemberg\", 672.0], [7410, \"Hessen\", 350.0], [7412, \"Bayern\", 340.0], [7419, \"Th\\u00fcringen\", 389.0], [7420, \"Sachsen-Anhalt\", 246.0], [7424, \"Bayern\", 457.0], [7427, \"Schleswig-Holstein\", 17.0], [7428, \"Th\\u00fcringen\", 397.0], [7431, \"Bayern\", 604.0], [7432, \"Niedersachsen\", 72.0], [13670, \"Nordrhein-Westfalen\", 24.0], [13674, \"Baden-W\\u00fcrttemberg\", 237.0], [13675, \"Niedersachsen\", 77.0], [13696, \"Nordrhein-Westfalen\", 60.0], [13700, \"Nordrhein-Westfalen\", 205.0], [13710, \"Bayern\", 490.0], [13711, \"Th\\u00fcringen\", 289.0], [13713, \"Nordrhein-Westfalen\", 386.0], [13777, \"Niedersachsen\", 110.0], [13965, \"Baden-W\\u00fcrttemberg\", 619.0], [15000, \"Nordrhein-Westfalen\", 231.0], [15207, \"Hessen\", 317.0], [15444, \"Baden-W\\u00fcrttemberg\", 593.0], [15555, \"Bayern\", 815.0]], \"hovertemplate\": \"<b>%{hovertext}</b><br><br>LAT=%{lat}<br>LON=%{lon}<br>STATION_ID=%{customdata[0]}<br>STATE=%{customdata[1]}<br>STATION_HEIGHT=%{marker.color}<extra></extra>\", \"hovertext\": [\"Gro\\u00dfenkneten\", \"Aldersbach-Kriestorf\", \"Alfhausen\", \"Alsfeld-Eifa\", \"Neuruppin-Alt Ruppin\", \"Leuchtturm Alte Weser\", \"Altenstadt\", \"Geringswalde-Altgeringswalde\", \"Altom\\u00fcnster-Maisbrunn\", \"Alzey\", \"Amberg-Unterammersricht\", \"Amerang-Pfaffing\", \"Andernach\", \"Angerm\\u00fcnde\", \"Anklam\", \"Arkona\", \"Arnstein-M\\u00fcdesheim\", \"Artern\", \"Attenkam\", \"Aue\", \"Augsburg\", \"Baden-Baden-Geroldsau\", \"M\\u00fcllheim\", \"Bamberg\", \"Barsinghausen-Hohenbostel\", \"Barth\", \"Baruth\", \"Kubsch\\u00fctz, Kr. Bautzen\", \"Heinersreuth-Vollhof\", \"Oberzent-Beerfelden\", \"Belm\", \"Bergen\", \"Bergzabern, Bad\", \"Berka, Bad (Flugplatz)\", \"Berleburg, Bad-St\\u00fcnzel\", \"Berlin-Buch\", \"Berlin-Dahlem (FU)\", \"Berlin-Marzahn\", \"Berlin Brandenburg\", \"Berlin-Tegel\", \"Berlin-Tempelhof\", \"Bernburg/Saale (Nord)\", \"Berus\", \"Blankenrath\", \"Boizenburg\", \"Boltenhagen\", \"K\\u00f6nigswinter-Heiderhof\", \"Borken in Westfalen\", \"Braunlage\", \"Braunschweig\", \"Bremen\", \"Bremerhaven\", \"Bremerv\\u00f6rde\", \"Brocken\", \"Buchen, Kr. Neckar-Odenwald\", \"Buchenbach\", \"Rosengarten-Klecken\", \"B\\u00fcchel (Flugplatz)\", \"B\\u00fcckeburg\", \"Burgwald-Bottendorf\", \"Carlsfeld\", \"Celle\", \"Chemnitz\", \"Chieming\", \"Lautertal-Oberlauter\", \"Cottbus\", \"Cuxhaven\", \"Dachwig\", \"Darmstadt\", \"Deuselbach\", \"UFS Deutsche Bucht\", \"Diepholz\", \"Dillenburg\", \"Dillingen/Donau-Fristingen\", \"Dippoldiswalde-Reinberg\", \"Doberlug-Kirchhain\", \"Dresden-Klotzsche\", \"Dresden-Hosterwitz\", \"Dresden-Strehlen\", \"Drewitz bei Burg\", \"D\\u00fcrkheim, Bad\", \"D\\u00fcsseldorf\", \"Ebersberg-Halbing\", \"Ebrach\", \"Eichst\\u00e4tt-Landershofen\", \"Ellwangen-Rindelbach\", \"Elpersb\\u00fcttel\", \"Elster, Bad-Sohl\", \"Elzach-Fisnacht\", \"Emmendingen-Mundingen\", \"UFS TW Ems\", \"Ennigerloh-Ostenfelde\", \"M\\u00fcnchen-Flughafen\", \"Erfde\", \"Erfurt-Weimar\", \"M\\u00f6hrendorf-Kleinseebach\", \"Eschwege\", \"Eslohe\", \"Essen-Bredeney\", \"Weilerswist-Lommersum\", \"Falkenberg,Kr.Rottal-Inn\", \"Fa\\u00dfberg\", \"Feldberg/Schwarzwald\", \"Fichtelberg/Oberfranken-H\\u00fcttstadl\", \"Fichtelberg\", \"Birx/Rh\\u00f6n\", \"Frankfurt/Main\", \"Frankfurt/Main-Westend\", \"Freiburg\", \"Freiburg/Elbe\", \"Freudenstadt\", \"Friesoythe-Altenoythe\", \"Fritzlar (Flugplatz)\", \"Fulda-Horas\", \"Gardelegen\", \"Garmisch-Partenkirchen\", \"Geisenheim\", \"Geisingen\", \"Gelbelsee\", \"Geldern-Walbeck\", \"Ohlsbach\", \"Genthin\", \"Gera-Leumnitz\", \"Gie\\u00dfen/Wettenberg\", \"Gilserberg-Moischeid\", \"Gl\\u00fccksburg-Meierwik\", \"G\\u00f6rlitz\", \"G\\u00f6ttingen\", \"Goldberg\", \"Gr\\u00e4fenberg-Kasberg\", \"Grainet-Rehberg\", \"Grambek\", \"Greifswald\", \"Greifswalder Oie\", \"M\\u00fcnster/Osnabr\\u00fcck\", \"Gro\\u00df L\\u00fcsewitz\", \"Gro\\u00dfer Arber\", \"Gr\\u00fcndau-Breitenborn\", \"Gr\\u00fcnow\", \"G\\u00fcnzburg\", \"Olsdorf\", \"Hamburg-Fuhlsb\\u00fcttel\", \"Hamburg-Neuwiedenthal\", \"Hannover\", \"Harburg\", \"Harzburg, Bad\", \"Harzgerode\", \"Hechingen\", \"Heinsberg-Schleiden\", \"Helgoland\", \"Hersfeld, Bad\", \"Herzberg\", \"Hiddensee-Vitte\", \"Hilgenroth\", \"Bertsdorf-H\\u00f6rnitz\", \"Hof\", \"Hohenpei\\u00dfenberg\", \"Hohn\", \"Hohwacht\", \"Holzdorf (Flugplatz)\", \"Holzkirchen\", \"Bevern, Kr. Holzminden\", \"H\\u00fcmmerich\", \"Idar-Oberstein\", \"Ingolstadt (Flugplatz)\", \"Itzehoe\", \"Schleswig-Jagel\", \"Jena (Sternwarte)\", \"Kahl/Main\", \"Kahler Asten\", \"Kaisersbach-Cronh\\u00fctte\", \"Kaiserslautern\", \"Kall-Sistig\", \"Kempten\", \"Kiel-Holtenau\", \"Kirchberg/Jagst-Herboldshausen\", \"Kirchdorf/Poel\", \"Kissingen, Bad\", \"Kitzingen\", \"Kleiner Feldberg/Taunus\", \"Kleiner Inselsberg\", \"Klettwitz\", \"Kleve\", \"Klippeneck\", \"Klitzschen bei Torgau\", \"K\\u00f6ln-Bonn\", \"K\\u00f6nigshofen, Bad\", \"K\\u00f6sching\", \"K\\u00f6then (Anhalt)\", \"Kohlgrub, Bad (Rosshof)\", \"Konstanz\", \"Kronach\", \"K\\u00fcmmersbruck\", \"Kyritz\", \"Laage (Flugplatz)\", \"Lahr\", \"Merklingen\", \"Langenlipsdorf\", \"Lauchst\\u00e4dt, Bad\", \"Laupheim\", \"Lechfeld\", \"Leck\", \"Leinefelde\", \"Leipzig-Holzhausen\", \"Leipzig/Halle\", \"Lennestadt-Theten\", \"Lenzen/Elbe\", \"Lenzkirch-Ruhb\\u00fchl\", \"Leuchtturm Kiel\", \"K\\u00f6ln-Stammheim\", \"Lichtenhain-Mittelndorf\", \"Lindenberg\", \"Lippspringe, Bad\", \"Lippstadt-B\\u00f6kenf\\u00f6rde\", \"List auf Sylt\", \"Lobenstein, Bad\", \"L\\u00f6hnberg-Obershausen\", \"L\\u00fcbben-Blumenfelde\", \"L\\u00fcbeck-Blankensee\", \"L\\u00fcchow\", \"L\\u00fcdenscheid\", \"Magdeburg\", \"Mainz-Lerchenberg (ZDF)\", \"Manderscheid-Sonnenhof\", \"Manschnow\", \"C\\u00f6lbe, Kr. Marburg-Biedenkopf\", \"Marienberg\", \"Marienberg, Bad\", \"Marnitz\", \"Martinroda\", \"Aschersleben-Mehringen\", \"Meiningen\", \"Garsebach bei Mei\\u00dfen\", \"Memmingen\", \"Meppen\", \"Mergentheim, Bad-Neunkirchen\", \"Me\\u00dfstetten-Appental\", \"Metten\", \"Metzingen\", \"Michelstadt\", \"Michelstadt-Vielbrunn\", \"Schmieritz-Weltwitz\", \"Mittenwald-Buckelwiesen\", \"R\\u00f6llbach\", \"Montabaur\", \"Moringen-Lutterbeck\", \"M\\u00fchlacker\", \"M\\u00fchldorf\", \"M\\u00fcncheberg\", \"M\\u00fcnchen-Stadt\", \"M\\u00fcnsingen-Apfelstetten\", \"Muskau, Bad\", \"Nauheim, Bad\", \"Neuburg/Donau (Flugplatz)\", \"Neuburg/Kammel-Langenhaslach\", \"Neuenahr, Bad-Ahrweiler\", \"Menz\", \"Neuhaus am Rennweg\", \"Neukirchen-Hauptschwenda\", \"Neunkirchen-Seelscheid-Krawinkel\", \"Neunkirchen-Wellesweiler\", \"Neustadt am Kulm-Filchendorf\", \"Nideggen-Schmidt\", \"Niederstetten\", \"Nienburg\", \"Reimlingen\", \"N\\u00f6rvenich (Flugplatz)\", \"Norderney\", \"Nordholz (Flugplatz)\", \"N\\u00fcrburg-Barweiler\", \"N\\u00fcrnberg-Netzstall\", \"N\\u00fcrnberg\", \"Kiefersfelden-Gach\", \"Oberstdorf\", \"Obersulm-Willsbach\", \"Oberviechtach\", \"\\u00d6hringen\", \"Oschatz\", \"Osterfeld\", \"Ostheim v.d. Rh\\u00f6n\", \"Oy-Mittelberg-Petersthal\", \"Parsberg/Oberpfalz-Eglwang\", \"Pelzerhaken\", \"Perl-Nennig\", \"Pforzheim-Ispringen\", \"Pfullendorf\", \"Pirmasens\", \"Plauen\", \"Pommelsbrunn-Mittelburg\", \"Potsdam\", \"Putbus\", \"Quedlinburg\", \"Querfurt-M\\u00fchle Lodersleben\", \"Quickborn\", \"Rahden-Kleinendorf\", \"Weingarten, Kr. Ravensburg\", \"Regensburg\", \"Reichshof-Eckenhagen\", \"Renningen-Ihinger Hof\", \"Rheinau-Memprechtshofen\", \"Rheinfelden\", \"Rheinstetten\", \"Altheim, Kreis Biberach\", \"Rosenheim\", \"Rostock-Warnem\\u00fcnde\", \"Rotenburg (W\\u00fcmme)\", \"Roth\", \"Rothenburg ob der Tauber\", \"Rottweil\", \"Kreuznach, Bad\", \"Ruppertsecken\", \"Saarbr\\u00fccken-Ensheim\", \"Sachsenheim\", \"Saldenburg-Entschenreuth\", \"Salzuflen, Bad\", \"Sandberg\", \"Sankt Peter-Ording\", \"Schaafheim-Schlierbach\", \"Wernigerode-Schierke\", \"Schleiz\", \"Schleswig\", \"Schl\\u00fcchtern-Herolz\", \"Schm\\u00fccke\", \"Schneifelforsthaus\", \"Sch\\u00f6nwald/Ofr.-Brunn\", \"Schorndorf-Kn\\u00f6bling\", \"Schotten\", \"Schwandorf\", \"Schwarzburg\", \"Schwerin\", \"Seehausen\", \"Seesen\", \"Sigmaringen-Laiz\", \"Sigmarszell-Zeisertsweiler\", \"Simbach/Inn\", \"Simmern-Wahlbach\", \"Soltau\", \"Sontra\", \"Steinau, Kr. Cuxhaven\", \"Mittelnkirchen-Hohenfelde\", \"Oberharz am Brocken-Stiege\", \"St\\u00f6tten\", \"Wagersrott\", \"Straubing\", \"Stuttgart (Schnarrenberg)\", \"Stuttgart-Echterdingen\", \"Tann/Rh\\u00f6n\", \"Starkenberg-Tegkwitz\", \"Teterow\", \"Worpswede-H\\u00fcttenbusch\", \"Teuschnitz\", \"Tholey\", \"Tirschenreuth-Loderm\\u00fchl\", \"T\\u00f6nisvorst\", \"Tribsees\", \"Trier-Zewen\", \"Trier-Petrisberg\", \"Trollenhagen\", \"Trostberg\", \"Twistetal-M\\u00fchlhausen\", \"Ueckerm\\u00fcnde\", \"Uelzen\", \"Gollhofen\", \"Ummendorf\", \"Villingen-Schwenningen\", \"Wagh\\u00e4usel-Kirrlach\", \"Wesertal-Lippoldsberg\", \"Wittenborn\", \"Waldems-Reinborn\", \"Waltershausen\", \"Warburg\", \"Waren (M\\u00fcritz)\", \"Wasserkuppe\", \"Weiden\", \"Weihenstephan-D\\u00fcrnast\", \"Weimar-Sch\\u00f6ndorf\", \"Weinbiet\", \"Weiskirchen/Saar\", \"Wei\\u00dfenburg-Emetzheim\", \"Werl\", \"Wernigerode\", \"Fehmarn\", \"Wielenbach (Demollstr.)\", \"Wiesbaden-Auringen\", \"Wiesenburg\", \"Neubulach-Oberhaugstett\", \"Wittenberg\", \"Wittmundhafen\", \"Wittstock-Rote M\\u00fchle\", \"Wolfach\", \"Wolfsburg (S\\u00fcdwest)\", \"Dachsberg-Wolpadingen\", \"Worms\", \"W\\u00fcrzburg\", \"Wunstorf\", \"Wuppertal-Buchenhofen\", \"Wut\\u00f6schingen-Ofteringen\", \"Zehdenick\", \"Zeitz\", \"Zinnwald-Georgenfeld\", \"Zugspitze\", \"Lichtentanne\", \"Zwiesel\", \"Bassum\", \"Berge\", \"Emden\", \"F\\u00fcrstenzell\", \"Hahn\", \"Mannheim\", \"Sch\\u00f6nhagen (Ostseebad)\", \"Reit im Winkl\", \"Wendisch Evern\", \"Ostenfeld (Rendsburg)\", \"Grambow-Schwennenz\", \"Sohland/Spree\", \"Wangerland-Hooksiel\", \"Weidenbach-Weiherschneidbach\", \"D\\u00f6rpen\", \"D\\u00f6rnick\", \"Coschen\", \"L\\u00fcgde-Paenbruch\", \"Steinhagen-Negast\", \"Saarbr\\u00fccken-Burbach\", \"Friedrichshafen-Unterraderach\", \"Gro\\u00dferlach-Mannenweiler\", \"Ingelfingen-Stachenhausen\", \"Schw\\u00e4bisch Gm\\u00fcnd-Weiler\", \"Singen\", \"Brilon-Th\\u00fclen\", \"Wusterwitz\", \"Huy-Pabstorf\", \"Moorgrund Gr\\u00e4fen-Nitzendorf\", \"Demker\", \"Notzingen\", \"M\\u00fchlhausen/Th\\u00fcringen-G\\u00f6rmar\", \"Karlshagen\", \"Markt Erlbach-Mosbach\", \"Nossen\", \"Lohr/Main-Halsbach\", \"L\\u00fcdinghausen-Brochtrup\", \"Runkel-Ennerich\", \"Maisach-Galgen\", \"Schonungen-Mainberg\", \"Elsendorf-Horneck\", \"Liebenburg-Othfresen\", \"Siegsdorf-H\\u00f6ll\", \"Bielefeld-Deppendorf\", \"Freudenberg/Main-Boxtal\", \"Hattstedt\", \"Donauw\\u00f6rth-Osterweiler\", \"Olbersleben\", \"Treuen\", \"Arnsberg-Neheim\", \"Hermaringen-Allewind\", \"Offenbach-Wetterpark\", \"Deutschneudorf-Br\\u00fcderwiese\", \"Prackenbach-Neuh\\u00e4usl\", \"Feldberg/Mecklenburg\", \"Je\\u00dfnitz\", \"Alfeld\", \"Eisenach\", \"Feuchtwangen-Heilbronn\", \"Waldm\\u00fcnchen\", \"Borkum-Flugplatz\", \"Ahaus\", \"Heckelberg\", \"Hoyerswerda\", \"Wunsiedel-Sch\\u00f6nbrunn\", \"Gottfrieding\", \"Hoherodskopf/Vogelsberg\", \"Leutkirch-Herlazhofen\", \"Neu-Ulrichstein\", \"Neuh\\u00fctten/Spessart\", \"Langenwetzendorf-G\\u00f6ttendorf\", \"Naumburg/Saale-Kreipitzsch\", \"Piding\", \"Padenstedt (Pony-Park)\", \"Veilsdorf\", \"Oberhaching-Laufzorn\", \"Wittingen-Vorhop\", \"Duisburg-Baerl\", \"Waibstadt\", \"Hameln-Hastenbeck\", \"Waltrop-Abdinghof\", \"Gevelsberg-Oberbr\\u00f6king\", \"Landshut-Reithof\", \"Kr\\u00f6lpa-Rockendorf\", \"Meinerzhagen-Redlendorf\", \"Helmstedt-Emmerstedt\", \"Balingen-Bronnhaupten\", \"Aachen-Orsbach\", \"Schauenburg-Elgershausen\", \"Ulm-M\\u00e4hringen\", \"Kaufbeuren-Oberbeuren\"], \"lat\": [52.9336, 48.6159, 52.4853, 50.7446, 52.9437, 53.8633, 47.8342, 51.0881, 48.406, 49.7273, 49.4691, 48.0197, 50.4237, 53.0316, 53.8412, 54.6792, 49.9694, 51.3745, 47.8774, 50.5908, 48.4253, 48.727, 47.8064, 49.8743, 52.3199, 54.3406, 52.0614, 51.1604, 49.9667, 49.5617, 52.317, 52.8152, 49.107, 50.9074, 50.9837, 52.6309, 52.4537, 52.5447, 52.3807, 52.5644, 52.4675, 51.8218, 49.2641, 50.0372, 53.3911, 54.0028, 50.7293, 51.873, 51.7234, 52.2915, 53.045, 53.5332, 53.4451, 51.7986, 49.5182, 47.9625, 53.3629, 50.1746, 52.2817, 51.0306, 50.4313, 52.5959, 50.7913, 47.8843, 50.3066, 51.776, 53.8713, 51.0778, 49.8809, 49.7619, 54.1796, 52.5881, 50.7364, 48.5562, 50.9116, 51.6451, 51.128, 51.0221, 51.0248, 52.2174, 49.4719, 51.296, 48.1003, 49.852, 48.8777, 48.9895, 54.0691, 50.2705, 48.2012, 48.1378, 54.1651, 51.8418, 48.3477, 54.2992, 50.9829, 49.6497, 51.2041, 51.254, 51.4041, 50.7119, 48.4832, 52.9157, 47.8749, 49.9807, 50.4283, 50.5309, 50.0259, 50.1269, 48.0232, 53.8277, 48.4538, 53.0643, 51.119, 50.5668, 52.5129, 47.483, 49.9859, 47.9242, 48.9481, 51.4942, 48.433, 52.3875, 50.8813, 50.6017, 50.9656, 54.8273, 51.1622, 51.5002, 53.606, 49.664, 48.7894, 53.5731, 54.0967, 54.2437, 52.1344, 54.0714, 49.1129, 50.2667, 53.3153, 48.4878, 49.9445, 53.6332, 53.4777, 52.4644, 48.7918, 51.9002, 51.652, 48.3752, 51.0411, 54.175, 50.852, 51.6255, 54.575, 50.7371, 50.899, 50.3123, 47.8009, 54.3146, 54.3194, 51.7657, 47.8823, 51.8529, 50.5651, 49.6927, 48.7112, 53.9897, 54.457, 50.9251, 50.0643, 51.1803, 48.917, 49.4262, 50.5014, 47.7233, 54.3776, 49.1804, 53.9995, 50.224, 49.7363, 50.2218, 50.8458, 51.5554, 51.7612, 48.1054, 51.5185, 50.8646, 50.284, 48.8302, 51.7511, 47.6652, 47.6952, 50.2523, 49.4283, 52.9363, 53.9156, 48.3647, 48.5121, 51.9173, 51.3909, 48.2176, 48.1849, 54.7903, 51.3933, 51.3151, 51.4348, 51.1333, 53.1007, 47.8597, 54.4996, 50.9894, 50.9383, 52.2085, 51.7854, 51.6336, 55.011, 50.4505, 50.5617, 51.9267, 53.8025, 52.9724, 51.2452, 52.1029, 49.9656, 50.1015, 52.5468, 50.8492, 50.651, 50.6621, 53.3223, 50.7335, 51.7259, 50.5612, 51.1294, 47.982, 52.7156, 49.4773, 48.1694, 48.8548, 48.5377, 49.6691, 49.7176, 50.7281, 47.4779, 49.7644, 50.4383, 51.7209, 48.9721, 48.279, 52.5176, 48.1632, 48.3851, 51.566, 50.3574, 48.7086, 48.3115, 50.5346, 53.102, 50.5002, 50.8923, 50.8446, 49.344, 49.8174, 50.6743, 49.3895, 52.6711, 48.8253, 50.8294, 53.7123, 53.7647, 50.3602, 49.4258, 49.503, 47.6187, 47.3984, 49.128, 49.4521, 49.207, 51.296, 51.0873, 50.4538, 47.6362, 49.151, 54.0893, 49.5354, 48.9329, 47.9345, 49.1912, 50.4819, 49.4777, 52.3813, 54.3643, 51.7953, 51.3895, 53.7331, 52.4461, 47.8062, 49.0425, 50.9906, 48.7425, 48.6703, 47.559, 48.9726, 48.1479, 47.8753, 54.1803, 53.1288, 49.2162, 49.3848, 48.1814, 49.8502, 49.6468, 49.2128, 48.9569, 48.7832, 52.1042, 50.3518, 54.3279, 49.9195, 51.7658, 50.5679, 54.5275, 50.3447, 50.6546, 50.2968, 50.1847, 49.1644, 50.4925, 49.3278, 50.6441, 53.6425, 52.8911, 51.904, 48.0719, 47.5776, 48.2718, 49.9996, 52.9604, 51.0607, 53.6946, 53.5534, 51.6646, 48.6656, 54.6654, 48.8275, 48.8281, 48.6883, 50.639, 50.9771, 53.761, 53.2758, 50.4002, 49.4737, 49.8576, 51.2897, 54.0661, 49.7326, 49.7479, 53.5997, 48.0311, 51.3344, 53.7444, 52.9414, 49.5741, 52.1601, 48.0453, 49.2445, 51.6194, 53.9224, 50.2596, 50.8963, 51.5039, 53.5196, 50.4973, 49.6663, 48.4024, 51.0177, 49.3758, 49.5534, 49.0115, 51.5763, 51.8454, 54.5283, 47.8827, 50.132, 52.1207, 48.6516, 51.8892, 53.5504, 53.1864, 48.2953, 52.3962, 47.7003, 49.6051, 49.7704, 52.4605, 51.2256, 47.6783, 52.9664, 51.0314, 50.7314, 47.421, 50.6879, 49.028, 52.863, 52.6198, 53.3881, 48.5451, 49.9462, 49.5062, 54.641, 47.6754, 53.2139, 54.3194, 53.3837, 51.0593, 53.641, 49.2247, 52.9542, 54.1654, 52.0192, 51.8664, 54.2484, 49.2406, 47.6845, 49.021, 49.3328, 48.7695, 47.7738, 51.414, 52.3613, 52.0304, 50.8426, 52.5075, 48.6705, 51.2061, 54.1049, 49.5314, 51.0507, 50.0132, 51.7663, 50.394, 48.207, 50.0579, 48.702, 52.0111, 47.835, 52.0714, 49.7636, 54.5268, 48.7374, 51.1507, 50.5467, 51.4633, 48.6099, 50.09, 50.6199, 49.1088, 53.3175, 51.682, 51.9643, 51.0007, 49.1623, 49.391, 53.5984, 52.0813, 52.7461, 51.4493, 50.0315, 48.6595, 50.5084, 47.7955, 50.7513, 50.0083, 50.661, 51.1044, 47.7724, 54.0188, 50.4167, 48.013, 52.6423, 51.5088, 49.2943, 52.0818, 51.5966, 51.3329, 48.5734, 50.682, 51.0899, 52.2467, 48.2639, 50.7983, 51.2835, 48.4418, 47.8761], \"legendgroup\": \"\", \"lon\": [8.237, 13.0506, 7.9126, 9.345, 12.8518, 8.1275, 10.8667, 12.9326, 11.3117, 8.1164, 11.8546, 12.2925, 7.4202, 13.9908, 13.6846, 13.4343, 9.9114, 11.292, 11.3643, 12.7139, 10.9417, 8.2457, 7.6387, 10.9206, 9.43, 12.7108, 13.4996, 14.5042, 11.5197, 8.9673, 8.1694, 9.9248, 7.9967, 11.2665, 8.3683, 13.5022, 13.3017, 13.5598, 13.5306, 13.3088, 13.4021, 11.711, 6.6868, 7.3079, 10.6878, 11.1908, 7.204, 6.8863, 10.6021, 10.4464, 8.7979, 8.5761, 9.139, 10.6183, 9.3213, 7.9983, 9.9435, 7.0595, 9.0889, 8.8146, 12.6114, 10.0296, 12.872, 12.5404, 10.9679, 14.3168, 8.7058, 10.8619, 8.6779, 7.0542, 7.4587, 8.3424, 8.2672, 10.5599, 13.7087, 13.5747, 13.7543, 13.847, 13.775, 12.1641, 8.1929, 6.7686, 11.9872, 10.4991, 11.2349, 10.1312, 9.0105, 12.2742, 8.1088, 7.8351, 6.346, 8.0607, 11.8134, 9.3162, 10.9608, 11.0074, 10.0138, 8.1565, 6.9677, 6.7905, 12.7241, 10.1885, 8.0038, 11.8376, 12.9535, 10.048, 8.5213, 8.6694, 7.8343, 9.2493, 8.409, 7.9022, 9.2799, 9.6533, 11.3941, 11.0621, 7.9548, 8.6473, 11.4289, 6.2463, 7.993, 12.1601, 12.1289, 8.6439, 9.05, 9.5058, 14.9506, 9.9507, 12.1033, 11.2239, 13.629, 10.6797, 13.4056, 13.9102, 7.6969, 12.3238, 13.1338, 9.1854, 13.9338, 10.2607, 6.3821, 9.9881, 9.8957, 9.6779, 10.7062, 10.5699, 11.1367, 8.98, 6.1042, 7.892, 9.7377, 10.3695, 13.1044, 7.6528, 14.7457, 11.876, 11.0108, 9.539, 10.6732, 13.1666, 11.6961, 9.4953, 7.4843, 7.3264, 11.5362, 9.5696, 9.5203, 11.583, 8.993, 8.4891, 9.6871, 7.7557, 6.5264, 10.3348, 10.1424, 9.98, 11.4341, 10.0792, 10.1781, 8.4469, 10.4803, 13.8845, 6.0954, 8.7548, 12.9065, 7.1575, 10.4456, 11.4872, 12.0094, 11.0805, 9.1307, 11.3209, 11.9016, 12.4093, 12.279, 7.828, 9.7645, 13.0878, 11.8786, 9.9097, 10.8507, 8.9514, 10.3123, 12.4462, 12.2396, 8.0348, 11.4864, 8.2308, 10.2737, 6.9777, 14.2093, 14.118, 8.8388, 8.3945, 8.4125, 11.635, 8.2386, 13.8797, 10.6989, 11.1374, 7.6425, 11.5827, 8.2139, 6.8009, 14.5452, 8.7746, 13.1469, 7.9603, 11.9319, 10.8815, 11.5109, 10.3771, 13.4328, 10.1384, 7.3176, 9.7622, 8.9433, 12.9189, 9.2734, 9.0085, 9.0997, 11.7838, 11.2653, 9.253, 7.8061, 9.8352, 8.8734, 12.5024, 14.1232, 11.5429, 9.4837, 14.7008, 8.7506, 11.2147, 10.3773, 7.0853, 13.0421, 11.1344, 9.405, 7.372, 7.2297, 11.8638, 6.424, 9.9667, 9.2229, 10.5067, 6.6602, 7.1519, 8.6583, 6.8697, 11.2538, 11.0549, 12.1665, 10.2759, 9.3525, 12.4365, 9.5176, 13.0928, 11.9292, 10.2211, 10.3892, 11.6896, 10.8773, 6.3789, 8.6973, 9.2869, 7.5879, 12.13, 11.5357, 13.0622, 13.4771, 11.132, 11.5412, 9.8776, 8.5906, 9.6206, 12.1019, 7.6958, 8.924, 7.9939, 7.7721, 8.3301, 9.4596, 12.128, 12.0808, 9.3398, 11.1035, 10.1732, 8.6356, 7.871, 7.8837, 7.1077, 9.071, 13.3146, 8.7521, 10.0034, 8.6031, 8.9671, 10.6533, 11.8041, 9.5487, 9.5534, 10.7693, 6.4194, 12.0791, 12.6175, 9.1226, 12.0871, 11.1936, 11.3872, 11.7297, 10.1885, 9.1943, 9.7404, 13.0273, 7.5981, 9.793, 9.9266, 8.8735, 9.6097, 10.8811, 9.8648, 9.805, 12.5597, 9.2, 9.2235, 10.0228, 12.3419, 12.5574, 8.9857, 11.3889, 7.0385, 12.3542, 6.4437, 12.7675, 6.6131, 6.6583, 13.3039, 12.5396, 8.9132, 14.0697, 10.5289, 10.1915, 11.1759, 8.4608, 8.5374, 9.5749, 10.2267, 8.3607, 10.5484, 9.1118, 12.6654, 9.9427, 12.1845, 11.6946, 11.3544, 8.1213, 6.812, 10.9308, 7.8879, 10.7686, 11.0606, 11.1576, 8.317, 12.4585, 8.6801, 12.6445, 7.6672, 12.4949, 8.2391, 10.6892, 8.1057, 8.3659, 9.9576, 9.4311, 7.1052, 8.3801, 13.3268, 12.1495, 13.7516, 10.9848, 12.4329, 13.2385, 8.6988, 12.7867, 7.2287, 13.3532, 7.2645, 8.5585, 10.0238, 12.4698, 10.4704, 9.8051, 14.3728, 14.4266, 8.0808, 10.6084, 7.3196, 10.3519, 14.7254, 9.271, 13.0418, 6.9351, 9.4409, 9.6033, 9.704, 9.8737, 8.8219, 8.65, 12.3867, 10.9626, 10.2518, 11.8551, 9.4627, 10.4978, 13.8239, 10.6418, 13.3003, 9.654, 7.5194, 8.1423, 11.2035, 10.2972, 11.8493, 10.3966, 12.6548, 8.4565, 9.4063, 9.0425, 10.7393, 11.3321, 12.2863, 7.978, 10.2674, 8.7862, 13.4816, 12.8231, 13.4175, 12.3042, 9.8072, 10.3621, 10.3661, 12.6838, 6.7024, 6.9409, 13.8427, 14.2533, 11.9745, 12.5388, 9.2247, 10.0324, 9.0224, 9.4238, 12.0756, 11.7112, 12.9073, 9.9255, 10.8156, 11.5524, 10.6627, 6.7018, 8.9053, 9.4077, 7.4048, 7.3411, 12.2576, 11.515, 7.6289, 10.9592, 8.8134, 6.0244, 9.359, 9.9216, 10.5849], \"marker\": {\"color\": [44.0, 340.0, 65.0, 300.0, 50.0, 32.0, 756.0, 296.0, 511.0, 215.0, 382.0, 516.0, 75.0, 54.0, 9.0, 42.0, 217.0, 164.0, 670.0, 393.0, 462.0, 240.0, 273.0, 240.0, 110.0, 3.0, 55.0, 234.0, 350.0, 455.0, 103.0, 70.0, 210.0, 303.0, 610.0, 60.0, 51.0, 60.0, 46.0, 36.0, 48.0, 85.0, 363.0, 417.0, 45.0, 15.0, 147.0, 47.0, 607.0, 81.0, 4.0, 7.0, 11.0, 1134.0, 340.0, 445.0, 82.0, 477.0, 68.0, 293.0, 897.0, 39.0, 418.0, 551.0, 344.0, 69.0, 5.0, 170.0, 162.0, 481.0, 0.0, 38.0, 314.0, 419.0, 359.0, 97.0, 227.0, 114.0, 120.0, 80.0, 107.0, 37.0, 592.0, 346.0, 384.0, 460.0, 3.0, 558.0, 431.0, 201.0, 0.0, 104.0, 446.0, 18.0, 316.0, 268.0, 156.0, 351.0, 150.0, 147.0, 471.0, 73.0, 1490.0, 654.0, 1213.0, 745.0, 100.0, 124.0, 237.0, 2.0, 797.0, 6.0, 172.0, 242.0, 47.0, 719.0, 110.0, 672.0, 536.0, 37.0, 177.0, 35.0, 311.0, 203.0, 340.0, 12.0, 238.0, 167.0, 58.0, 506.0, 628.0, 27.0, 2.0, 12.0, 48.0, 34.0, 1436.0, 258.0, 56.0, 444.0, 328.0, 14.0, 3.0, 59.0, 501.0, 201.0, 404.0, 518.0, 57.0, 4.0, 272.0, 238.0, 1.0, 295.0, 270.0, 565.0, 977.0, 10.0, 8.0, 81.0, 685.0, 110.0, 328.0, 376.0, 364.0, 21.0, 21.0, 155.0, 108.0, 839.0, 489.0, 271.0, 505.0, 705.0, 28.0, 426.0, 12.0, 282.0, 193.0, 826.0, 732.0, 128.0, 46.0, 974.0, 85.0, 92.0, 289.0, 416.0, 76.0, 742.0, 428.0, 312.0, 417.0, 40.0, 40.0, 156.0, 685.0, 91.0, 117.0, 539.0, 550.0, 7.0, 356.0, 138.0, 131.0, 286.0, 20.0, 852.0, 31.0, 43.0, 321.0, 98.0, 157.0, 92.0, 25.0, 496.0, 230.0, 57.0, 15.0, 16.0, 387.0, 79.0, 195.0, 413.0, 12.0, 187.0, 639.0, 547.0, 81.0, 429.0, 107.0, 450.0, 158.0, 615.0, 19.0, 250.0, 900.0, 314.0, 354.0, 240.0, 453.0, 356.0, 984.0, 239.0, 265.0, 240.0, 244.0, 406.0, 63.0, 515.0, 750.0, 127.0, 149.0, 380.0, 486.0, 111.0, 77.0, 845.0, 500.0, 195.0, 236.0, 452.0, 350.0, 459.0, 25.0, 435.0, 111.0, 12.0, 25.0, 485.0, 368.0, 314.0, 518.0, 806.0, 230.0, 596.0, 276.0, 150.0, 246.0, 314.0, 886.0, 549.0, 2.0, 152.0, 332.0, 630.0, 385.0, 386.0, 522.0, 81.0, 40.0, 142.0, 204.0, 11.0, 41.0, 440.0, 365.0, 347.0, 478.0, 131.0, 282.0, 116.0, 533.0, 442.0, 4.0, 32.0, 386.0, 415.0, 588.0, 102.0, 461.0, 320.0, 248.0, 457.0, 135.0, 518.0, 5.0, 155.0, 609.0, 501.0, 43.0, 230.0, 937.0, 649.0, 608.0, 398.0, 265.0, 356.0, 277.0, 59.0, 21.0, 186.0, 581.0, 507.0, 358.0, 445.0, 75.0, 265.0, 1.0, 1.0, 504.0, 734.0, 40.0, 351.0, 314.0, 371.0, 395.0, 196.0, 38.0, 7.0, 633.0, 386.0, 501.0, 37.0, 10.0, 132.0, 265.0, 69.0, 560.0, 295.0, 1.0, 50.0, 306.0, 162.0, 719.0, 105.0, 176.0, 35.0, 380.0, 348.0, 236.0, 73.0, 921.0, 440.0, 477.0, 328.0, 553.0, 380.0, 439.0, 85.0, 233.0, 3.0, 551.0, 263.0, 187.0, 570.0, 105.0, 8.0, 66.0, 296.0, 82.0, 880.0, 88.0, 268.0, 57.0, 134.0, 398.0, 51.0, 264.0, 877.0, 2965.0, 349.0, 615.0, 40.0, 40.0, -0.0, 476.0, 497.0, 98.0, 1.0, 686.0, 62.0, 14.0, 50.0, 290.0, 8.0, 455.0, 8.0, 27.0, 40.0, 258.0, 16.0, 190.0, 461.0, 524.0, 385.0, 413.0, 445.0, 457.0, 36.0, 112.0, 283.0, 36.0, 325.0, 193.0, 1.0, 362.0, 308.0, 288.0, 59.0, 168.0, 531.0, 304.0, 429.0, 187.0, 719.0, 105.0, 193.0, 5.0, 435.0, 160.0, 465.0, 159.0, 468.0, 119.0, 688.0, 585.0, 116.0, 74.0, 144.0, 312.0, 475.0, 499.0, 3.0, 46.0, 82.0, 116.0, 622.0, 351.0, 743.0, 672.0, 350.0, 340.0, 389.0, 246.0, 457.0, 17.0, 397.0, 604.0, 72.0, 24.0, 237.0, 77.0, 60.0, 205.0, 490.0, 289.0, 386.0, 110.0, 619.0, 231.0, 317.0, 593.0, 815.0], \"coloraxis\": \"coloraxis\"}, \"mode\": \"markers\", \"name\": \"\", \"showlegend\": false, \"subplot\": \"mapbox\", \"type\": \"scattermapbox\"}],                        {\"coloraxis\": {\"colorbar\": {\"title\": {\"text\": \"STATION_HEIGHT\"}}, \"colorscale\": [[0.0, \"#0d0887\"], [0.1111111111111111, \"#46039f\"], [0.2222222222222222, \"#7201a8\"], [0.3333333333333333, \"#9c179e\"], [0.4444444444444444, \"#bd3786\"], [0.5555555555555556, \"#d8576b\"], [0.6666666666666666, \"#ed7953\"], [0.7777777777777778, \"#fb9f3a\"], [0.8888888888888888, \"#fdca26\"], [1.0, \"#f0f921\"]]}, \"height\": 300, \"legend\": {\"tracegroupgap\": 0}, \"mapbox\": {\"center\": {\"lat\": 50.810584412955485, \"lon\": 10.267947975708493}, \"domain\": {\"x\": [0.0, 1.0], \"y\": [0.0, 1.0]}, \"style\": \"open-street-map\", \"zoom\": 4}, \"margin\": {\"b\": 0, \"l\": 0, \"r\": 0, \"t\": 0}, \"template\": {\"data\": {\"bar\": [{\"error_x\": {\"color\": \"#2a3f5f\"}, \"error_y\": {\"color\": \"#2a3f5f\"}, \"marker\": {\"line\": {\"color\": \"#E5ECF6\", \"width\": 0.5}}, \"type\": \"bar\"}], \"barpolar\": [{\"marker\": {\"line\": {\"color\": \"#E5ECF6\", \"width\": 0.5}}, \"type\": \"barpolar\"}], \"carpet\": [{\"aaxis\": {\"endlinecolor\": \"#2a3f5f\", \"gridcolor\": \"white\", \"linecolor\": \"white\", \"minorgridcolor\": \"white\", \"startlinecolor\": \"#2a3f5f\"}, \"baxis\": {\"endlinecolor\": \"#2a3f5f\", \"gridcolor\": \"white\", \"linecolor\": \"white\", \"minorgridcolor\": \"white\", \"startlinecolor\": \"#2a3f5f\"}, \"type\": \"carpet\"}], \"choropleth\": [{\"colorbar\": {\"outlinewidth\": 0, \"ticks\": \"\"}, \"type\": \"choropleth\"}], \"contour\": [{\"colorbar\": {\"outlinewidth\": 0, \"ticks\": \"\"}, \"colorscale\": [[0.0, \"#0d0887\"], [0.1111111111111111, \"#46039f\"], [0.2222222222222222, \"#7201a8\"], [0.3333333333333333, \"#9c179e\"], [0.4444444444444444, \"#bd3786\"], [0.5555555555555556, \"#d8576b\"], [0.6666666666666666, \"#ed7953\"], [0.7777777777777778, \"#fb9f3a\"], [0.8888888888888888, \"#fdca26\"], [1.0, \"#f0f921\"]], \"type\": \"contour\"}], \"contourcarpet\": [{\"colorbar\": {\"outlinewidth\": 0, \"ticks\": \"\"}, \"type\": \"contourcarpet\"}], \"heatmap\": [{\"colorbar\": {\"outlinewidth\": 0, \"ticks\": \"\"}, \"colorscale\": [[0.0, \"#0d0887\"], [0.1111111111111111, \"#46039f\"], [0.2222222222222222, \"#7201a8\"], [0.3333333333333333, \"#9c179e\"], [0.4444444444444444, \"#bd3786\"], [0.5555555555555556, \"#d8576b\"], [0.6666666666666666, \"#ed7953\"], [0.7777777777777778, \"#fb9f3a\"], [0.8888888888888888, \"#fdca26\"], [1.0, \"#f0f921\"]], \"type\": \"heatmap\"}], \"heatmapgl\": [{\"colorbar\": {\"outlinewidth\": 0, \"ticks\": \"\"}, \"colorscale\": [[0.0, \"#0d0887\"], [0.1111111111111111, \"#46039f\"], [0.2222222222222222, \"#7201a8\"], [0.3333333333333333, \"#9c179e\"], [0.4444444444444444, \"#bd3786\"], [0.5555555555555556, \"#d8576b\"], [0.6666666666666666, \"#ed7953\"], [0.7777777777777778, \"#fb9f3a\"], [0.8888888888888888, \"#fdca26\"], [1.0, \"#f0f921\"]], \"type\": \"heatmapgl\"}], \"histogram\": [{\"marker\": {\"colorbar\": {\"outlinewidth\": 0, \"ticks\": \"\"}}, \"type\": \"histogram\"}], \"histogram2d\": [{\"colorbar\": {\"outlinewidth\": 0, \"ticks\": \"\"}, \"colorscale\": [[0.0, \"#0d0887\"], [0.1111111111111111, \"#46039f\"], [0.2222222222222222, \"#7201a8\"], [0.3333333333333333, \"#9c179e\"], [0.4444444444444444, \"#bd3786\"], [0.5555555555555556, \"#d8576b\"], [0.6666666666666666, \"#ed7953\"], [0.7777777777777778, \"#fb9f3a\"], [0.8888888888888888, \"#fdca26\"], [1.0, \"#f0f921\"]], \"type\": \"histogram2d\"}], \"histogram2dcontour\": [{\"colorbar\": {\"outlinewidth\": 0, \"ticks\": \"\"}, \"colorscale\": [[0.0, \"#0d0887\"], [0.1111111111111111, \"#46039f\"], [0.2222222222222222, \"#7201a8\"], [0.3333333333333333, \"#9c179e\"], [0.4444444444444444, \"#bd3786\"], [0.5555555555555556, \"#d8576b\"], [0.6666666666666666, \"#ed7953\"], [0.7777777777777778, \"#fb9f3a\"], [0.8888888888888888, \"#fdca26\"], [1.0, \"#f0f921\"]], \"type\": \"histogram2dcontour\"}], \"mesh3d\": [{\"colorbar\": {\"outlinewidth\": 0, \"ticks\": \"\"}, \"type\": \"mesh3d\"}], \"parcoords\": [{\"line\": {\"colorbar\": {\"outlinewidth\": 0, \"ticks\": \"\"}}, \"type\": \"parcoords\"}], \"pie\": [{\"automargin\": true, \"type\": \"pie\"}], \"scatter\": [{\"marker\": {\"colorbar\": {\"outlinewidth\": 0, \"ticks\": \"\"}}, \"type\": \"scatter\"}], \"scatter3d\": [{\"line\": {\"colorbar\": {\"outlinewidth\": 0, \"ticks\": \"\"}}, \"marker\": {\"colorbar\": {\"outlinewidth\": 0, \"ticks\": \"\"}}, \"type\": \"scatter3d\"}], \"scattercarpet\": [{\"marker\": {\"colorbar\": {\"outlinewidth\": 0, \"ticks\": \"\"}}, \"type\": \"scattercarpet\"}], \"scattergeo\": [{\"marker\": {\"colorbar\": {\"outlinewidth\": 0, \"ticks\": \"\"}}, \"type\": \"scattergeo\"}], \"scattergl\": [{\"marker\": {\"colorbar\": {\"outlinewidth\": 0, \"ticks\": \"\"}}, \"type\": \"scattergl\"}], \"scattermapbox\": [{\"marker\": {\"colorbar\": {\"outlinewidth\": 0, \"ticks\": \"\"}}, \"type\": \"scattermapbox\"}], \"scatterpolar\": [{\"marker\": {\"colorbar\": {\"outlinewidth\": 0, \"ticks\": \"\"}}, \"type\": \"scatterpolar\"}], \"scatterpolargl\": [{\"marker\": {\"colorbar\": {\"outlinewidth\": 0, \"ticks\": \"\"}}, \"type\": \"scatterpolargl\"}], \"scatterternary\": [{\"marker\": {\"colorbar\": {\"outlinewidth\": 0, \"ticks\": \"\"}}, \"type\": \"scatterternary\"}], \"surface\": [{\"colorbar\": {\"outlinewidth\": 0, \"ticks\": \"\"}, \"colorscale\": [[0.0, \"#0d0887\"], [0.1111111111111111, \"#46039f\"], [0.2222222222222222, \"#7201a8\"], [0.3333333333333333, \"#9c179e\"], [0.4444444444444444, \"#bd3786\"], [0.5555555555555556, \"#d8576b\"], [0.6666666666666666, \"#ed7953\"], [0.7777777777777778, \"#fb9f3a\"], [0.8888888888888888, \"#fdca26\"], [1.0, \"#f0f921\"]], \"type\": \"surface\"}], \"table\": [{\"cells\": {\"fill\": {\"color\": \"#EBF0F8\"}, \"line\": {\"color\": \"white\"}}, \"header\": {\"fill\": {\"color\": \"#C8D4E3\"}, \"line\": {\"color\": \"white\"}}, \"type\": \"table\"}]}, \"layout\": {\"annotationdefaults\": {\"arrowcolor\": \"#2a3f5f\", \"arrowhead\": 0, \"arrowwidth\": 1}, \"coloraxis\": {\"colorbar\": {\"outlinewidth\": 0, \"ticks\": \"\"}}, \"colorscale\": {\"diverging\": [[0, \"#8e0152\"], [0.1, \"#c51b7d\"], [0.2, \"#de77ae\"], [0.3, \"#f1b6da\"], [0.4, \"#fde0ef\"], [0.5, \"#f7f7f7\"], [0.6, \"#e6f5d0\"], [0.7, \"#b8e186\"], [0.8, \"#7fbc41\"], [0.9, \"#4d9221\"], [1, \"#276419\"]], \"sequential\": [[0.0, \"#0d0887\"], [0.1111111111111111, \"#46039f\"], [0.2222222222222222, \"#7201a8\"], [0.3333333333333333, \"#9c179e\"], [0.4444444444444444, \"#bd3786\"], [0.5555555555555556, \"#d8576b\"], [0.6666666666666666, \"#ed7953\"], [0.7777777777777778, \"#fb9f3a\"], [0.8888888888888888, \"#fdca26\"], [1.0, \"#f0f921\"]], \"sequentialminus\": [[0.0, \"#0d0887\"], [0.1111111111111111, \"#46039f\"], [0.2222222222222222, \"#7201a8\"], [0.3333333333333333, \"#9c179e\"], [0.4444444444444444, \"#bd3786\"], [0.5555555555555556, \"#d8576b\"], [0.6666666666666666, \"#ed7953\"], [0.7777777777777778, \"#fb9f3a\"], [0.8888888888888888, \"#fdca26\"], [1.0, \"#f0f921\"]]}, \"colorway\": [\"#636efa\", \"#EF553B\", \"#00cc96\", \"#ab63fa\", \"#FFA15A\", \"#19d3f3\", \"#FF6692\", \"#B6E880\", \"#FF97FF\", \"#FECB52\"], \"font\": {\"color\": \"#2a3f5f\"}, \"geo\": {\"bgcolor\": \"white\", \"lakecolor\": \"white\", \"landcolor\": \"#E5ECF6\", \"showlakes\": true, \"showland\": true, \"subunitcolor\": \"white\"}, \"hoverlabel\": {\"align\": \"left\"}, \"hovermode\": \"closest\", \"mapbox\": {\"style\": \"light\"}, \"paper_bgcolor\": \"white\", \"plot_bgcolor\": \"#E5ECF6\", \"polar\": {\"angularaxis\": {\"gridcolor\": \"white\", \"linecolor\": \"white\", \"ticks\": \"\"}, \"bgcolor\": \"#E5ECF6\", \"radialaxis\": {\"gridcolor\": \"white\", \"linecolor\": \"white\", \"ticks\": \"\"}}, \"scene\": {\"xaxis\": {\"backgroundcolor\": \"#E5ECF6\", \"gridcolor\": \"white\", \"gridwidth\": 2, \"linecolor\": \"white\", \"showbackground\": true, \"ticks\": \"\", \"zerolinecolor\": \"white\"}, \"yaxis\": {\"backgroundcolor\": \"#E5ECF6\", \"gridcolor\": \"white\", \"gridwidth\": 2, \"linecolor\": \"white\", \"showbackground\": true, \"ticks\": \"\", \"zerolinecolor\": \"white\"}, \"zaxis\": {\"backgroundcolor\": \"#E5ECF6\", \"gridcolor\": \"white\", \"gridwidth\": 2, \"linecolor\": \"white\", \"showbackground\": true, \"ticks\": \"\", \"zerolinecolor\": \"white\"}}, \"shapedefaults\": {\"line\": {\"color\": \"#2a3f5f\"}}, \"ternary\": {\"aaxis\": {\"gridcolor\": \"white\", \"linecolor\": \"white\", \"ticks\": \"\"}, \"baxis\": {\"gridcolor\": \"white\", \"linecolor\": \"white\", \"ticks\": \"\"}, \"bgcolor\": \"#E5ECF6\", \"caxis\": {\"gridcolor\": \"white\", \"linecolor\": \"white\", \"ticks\": \"\"}}, \"title\": {\"x\": 0.05}, \"xaxis\": {\"automargin\": true, \"gridcolor\": \"white\", \"linecolor\": \"white\", \"ticks\": \"\", \"title\": {\"standoff\": 15}, \"zerolinecolor\": \"white\", \"zerolinewidth\": 2}, \"yaxis\": {\"automargin\": true, \"gridcolor\": \"white\", \"linecolor\": \"white\", \"ticks\": \"\", \"title\": {\"standoff\": 15}, \"zerolinecolor\": \"white\", \"zerolinewidth\": 2}}}},                        {\"responsive\": true}                    ).then(function(){\n",
       "                            \n",
       "var gd = document.getElementById('a6b30616-2c5d-47bb-866e-c8583b7d24b7');\n",
       "var x = new MutationObserver(function (mutations, observer) {{\n",
       "        var display = window.getComputedStyle(gd).display;\n",
       "        if (!display || display === 'none') {{\n",
       "            console.log([gd, 'removed!']);\n",
       "            Plotly.purge(gd);\n",
       "            observer.disconnect();\n",
       "        }}\n",
       "}});\n",
       "\n",
       "// Listen for the removal of the full notebook cells\n",
       "var notebookContainer = gd.closest('#notebook-container');\n",
       "if (notebookContainer) {{\n",
       "    x.observe(notebookContainer, {childList: true});\n",
       "}}\n",
       "\n",
       "// Listen for the clearing of the current output cell\n",
       "var outputEl = gd.closest('.output');\n",
       "if (outputEl) {{\n",
       "    x.observe(outputEl, {childList: true});\n",
       "}}\n",
       "\n",
       "                        })                };                });            </script>        </div>"
      ]
     },
     "metadata": {},
     "output_type": "display_data"
    }
   ],
   "source": [
    "fig = px.scatter_mapbox(stations_df, lat=\"LAT\", lon=\"LON\", hover_name=\"STATION_NAME\", hover_data=[\"STATION_ID\", \"STATE\", \"STATION_HEIGHT\"],\n",
    "                        color=\"STATION_HEIGHT\", zoom=4, height=300)\n",
    "fig.update_layout(mapbox_style=\"open-street-map\")\n",
    "fig.update_layout(margin={\"r\":0,\"t\":0,\"l\":0,\"b\":0})\n",
    "fig.show()"
   ]
  },
  {
   "cell_type": "code",
   "execution_count": 38,
   "metadata": {},
   "outputs": [
    {
     "data": {
      "text/html": [
       "<div>\n",
       "<style scoped>\n",
       "    .dataframe tbody tr th:only-of-type {\n",
       "        vertical-align: middle;\n",
       "    }\n",
       "\n",
       "    .dataframe tbody tr th {\n",
       "        vertical-align: top;\n",
       "    }\n",
       "\n",
       "    .dataframe thead th {\n",
       "        text-align: right;\n",
       "    }\n",
       "</style>\n",
       "<table border=\"1\" class=\"dataframe\">\n",
       "  <thead>\n",
       "    <tr style=\"text-align: right;\">\n",
       "      <th></th>\n",
       "      <th>_id</th>\n",
       "      <th>station_id</th>\n",
       "      <th>date</th>\n",
       "      <th>temperature</th>\n",
       "    </tr>\n",
       "  </thead>\n",
       "  <tbody>\n",
       "    <tr>\n",
       "      <th>0</th>\n",
       "      <td>5faaa32e2c9f790f334cc002</td>\n",
       "      <td>44</td>\n",
       "      <td>2020-07-01 00:00:00</td>\n",
       "      <td>14.1</td>\n",
       "    </tr>\n",
       "    <tr>\n",
       "      <th>1</th>\n",
       "      <td>5faaa32e2c9f790f334cc003</td>\n",
       "      <td>44</td>\n",
       "      <td>2020-07-01 01:00:00</td>\n",
       "      <td>13.7</td>\n",
       "    </tr>\n",
       "    <tr>\n",
       "      <th>2</th>\n",
       "      <td>5faaa32e2c9f790f334cc004</td>\n",
       "      <td>44</td>\n",
       "      <td>2020-07-01 02:00:00</td>\n",
       "      <td>13.8</td>\n",
       "    </tr>\n",
       "    <tr>\n",
       "      <th>3</th>\n",
       "      <td>5faaa32e2c9f790f334cc005</td>\n",
       "      <td>44</td>\n",
       "      <td>2020-07-01 03:00:00</td>\n",
       "      <td>13.8</td>\n",
       "    </tr>\n",
       "    <tr>\n",
       "      <th>4</th>\n",
       "      <td>5faaa32e2c9f790f334cc006</td>\n",
       "      <td>44</td>\n",
       "      <td>2020-07-01 04:00:00</td>\n",
       "      <td>14.0</td>\n",
       "    </tr>\n",
       "    <tr>\n",
       "      <th>...</th>\n",
       "      <td>...</td>\n",
       "      <td>...</td>\n",
       "      <td>...</td>\n",
       "      <td>...</td>\n",
       "    </tr>\n",
       "    <tr>\n",
       "      <th>717933</th>\n",
       "      <td>5faaa6892c9f790f3357b46f</td>\n",
       "      <td>15555</td>\n",
       "      <td>2020-08-30 20:00:00</td>\n",
       "      <td>9.0</td>\n",
       "    </tr>\n",
       "    <tr>\n",
       "      <th>717934</th>\n",
       "      <td>5faaa6892c9f790f3357b470</td>\n",
       "      <td>15555</td>\n",
       "      <td>2020-08-30 21:00:00</td>\n",
       "      <td>9.0</td>\n",
       "    </tr>\n",
       "    <tr>\n",
       "      <th>717935</th>\n",
       "      <td>5faaa6892c9f790f3357b471</td>\n",
       "      <td>15555</td>\n",
       "      <td>2020-08-30 22:00:00</td>\n",
       "      <td>9.0</td>\n",
       "    </tr>\n",
       "    <tr>\n",
       "      <th>717936</th>\n",
       "      <td>5faaa6892c9f790f3357b472</td>\n",
       "      <td>15555</td>\n",
       "      <td>2020-08-30 23:00:00</td>\n",
       "      <td>9.0</td>\n",
       "    </tr>\n",
       "    <tr>\n",
       "      <th>717937</th>\n",
       "      <td>5faaa6892c9f790f3357b473</td>\n",
       "      <td>15555</td>\n",
       "      <td>2020-08-31 00:00:00</td>\n",
       "      <td>9.1</td>\n",
       "    </tr>\n",
       "  </tbody>\n",
       "</table>\n",
       "<p>717938 rows × 4 columns</p>\n",
       "</div>"
      ],
      "text/plain": [
       "                             _id  station_id                date  temperature\n",
       "0       5faaa32e2c9f790f334cc002          44 2020-07-01 00:00:00         14.1\n",
       "1       5faaa32e2c9f790f334cc003          44 2020-07-01 01:00:00         13.7\n",
       "2       5faaa32e2c9f790f334cc004          44 2020-07-01 02:00:00         13.8\n",
       "3       5faaa32e2c9f790f334cc005          44 2020-07-01 03:00:00         13.8\n",
       "4       5faaa32e2c9f790f334cc006          44 2020-07-01 04:00:00         14.0\n",
       "...                          ...         ...                 ...          ...\n",
       "717933  5faaa6892c9f790f3357b46f       15555 2020-08-30 20:00:00          9.0\n",
       "717934  5faaa6892c9f790f3357b470       15555 2020-08-30 21:00:00          9.0\n",
       "717935  5faaa6892c9f790f3357b471       15555 2020-08-30 22:00:00          9.0\n",
       "717936  5faaa6892c9f790f3357b472       15555 2020-08-30 23:00:00          9.0\n",
       "717937  5faaa6892c9f790f3357b473       15555 2020-08-31 00:00:00          9.1\n",
       "\n",
       "[717938 rows x 4 columns]"
      ]
     },
     "execution_count": 38,
     "metadata": {},
     "output_type": "execute_result"
    }
   ],
   "source": [
    "weather_df = pd.DataFrame(get_collection(weather))\n",
    "weather_df"
   ]
  },
  {
   "cell_type": "code",
   "execution_count": 40,
   "metadata": {},
   "outputs": [],
   "source": [
    "def get_temp_for_date(weather, stations, date):\n",
    "    result = weather.loc[weather['date']==date]\n",
    "    return result"
   ]
  },
  {
   "cell_type": "code",
   "execution_count": 46,
   "metadata": {},
   "outputs": [],
   "source": [
    "weather_for_date = get_temp_for_date(weather_df, stations_df, '2020-08-31 00:00:00')"
   ]
  },
  {
   "cell_type": "code",
   "execution_count": 47,
   "metadata": {},
   "outputs": [
    {
     "data": {
      "text/html": [
       "<div>\n",
       "<style scoped>\n",
       "    .dataframe tbody tr th:only-of-type {\n",
       "        vertical-align: middle;\n",
       "    }\n",
       "\n",
       "    .dataframe tbody tr th {\n",
       "        vertical-align: top;\n",
       "    }\n",
       "\n",
       "    .dataframe thead th {\n",
       "        text-align: right;\n",
       "    }\n",
       "</style>\n",
       "<table border=\"1\" class=\"dataframe\">\n",
       "  <thead>\n",
       "    <tr style=\"text-align: right;\">\n",
       "      <th></th>\n",
       "      <th>_id</th>\n",
       "      <th>station_id</th>\n",
       "      <th>date</th>\n",
       "      <th>temperature</th>\n",
       "    </tr>\n",
       "  </thead>\n",
       "  <tbody>\n",
       "    <tr>\n",
       "      <th>1454</th>\n",
       "      <td>5faaa32e2c9f790f334cc5b0</td>\n",
       "      <td>44</td>\n",
       "      <td>2020-08-31</td>\n",
       "      <td>12.1</td>\n",
       "    </tr>\n",
       "    <tr>\n",
       "      <th>2882</th>\n",
       "      <td>5faaa32f2c9f790f334ccb44</td>\n",
       "      <td>73</td>\n",
       "      <td>2020-08-31</td>\n",
       "      <td>12.6</td>\n",
       "    </tr>\n",
       "    <tr>\n",
       "      <th>4347</th>\n",
       "      <td>5faaa3312c9f790f334cd0fd</td>\n",
       "      <td>78</td>\n",
       "      <td>2020-08-31</td>\n",
       "      <td>14.9</td>\n",
       "    </tr>\n",
       "    <tr>\n",
       "      <th>5812</th>\n",
       "      <td>5faaa3322c9f790f334cd6b6</td>\n",
       "      <td>91</td>\n",
       "      <td>2020-08-31</td>\n",
       "      <td>13.0</td>\n",
       "    </tr>\n",
       "    <tr>\n",
       "      <th>7277</th>\n",
       "      <td>5faaa3332c9f790f334cdc6f</td>\n",
       "      <td>96</td>\n",
       "      <td>2020-08-31</td>\n",
       "      <td>16.4</td>\n",
       "    </tr>\n",
       "    <tr>\n",
       "      <th>...</th>\n",
       "      <td>...</td>\n",
       "      <td>...</td>\n",
       "      <td>...</td>\n",
       "      <td>...</td>\n",
       "    </tr>\n",
       "    <tr>\n",
       "      <th>712156</th>\n",
       "      <td>5faaa6862c9f790f33579dde</td>\n",
       "      <td>13965</td>\n",
       "      <td>2020-08-31</td>\n",
       "      <td>10.7</td>\n",
       "    </tr>\n",
       "    <tr>\n",
       "      <th>713621</th>\n",
       "      <td>5faaa6872c9f790f3357a397</td>\n",
       "      <td>15000</td>\n",
       "      <td>2020-08-31</td>\n",
       "      <td>12.6</td>\n",
       "    </tr>\n",
       "    <tr>\n",
       "      <th>715086</th>\n",
       "      <td>5faaa6882c9f790f3357a950</td>\n",
       "      <td>15207</td>\n",
       "      <td>2020-08-31</td>\n",
       "      <td>13.7</td>\n",
       "    </tr>\n",
       "    <tr>\n",
       "      <th>716472</th>\n",
       "      <td>5faaa6892c9f790f3357aeba</td>\n",
       "      <td>15444</td>\n",
       "      <td>2020-08-31</td>\n",
       "      <td>10.0</td>\n",
       "    </tr>\n",
       "    <tr>\n",
       "      <th>717937</th>\n",
       "      <td>5faaa6892c9f790f3357b473</td>\n",
       "      <td>15555</td>\n",
       "      <td>2020-08-31</td>\n",
       "      <td>9.1</td>\n",
       "    </tr>\n",
       "  </tbody>\n",
       "</table>\n",
       "<p>491 rows × 4 columns</p>\n",
       "</div>"
      ],
      "text/plain": [
       "                             _id  station_id       date  temperature\n",
       "1454    5faaa32e2c9f790f334cc5b0          44 2020-08-31         12.1\n",
       "2882    5faaa32f2c9f790f334ccb44          73 2020-08-31         12.6\n",
       "4347    5faaa3312c9f790f334cd0fd          78 2020-08-31         14.9\n",
       "5812    5faaa3322c9f790f334cd6b6          91 2020-08-31         13.0\n",
       "7277    5faaa3332c9f790f334cdc6f          96 2020-08-31         16.4\n",
       "...                          ...         ...        ...          ...\n",
       "712156  5faaa6862c9f790f33579dde       13965 2020-08-31         10.7\n",
       "713621  5faaa6872c9f790f3357a397       15000 2020-08-31         12.6\n",
       "715086  5faaa6882c9f790f3357a950       15207 2020-08-31         13.7\n",
       "716472  5faaa6892c9f790f3357aeba       15444 2020-08-31         10.0\n",
       "717937  5faaa6892c9f790f3357b473       15555 2020-08-31          9.1\n",
       "\n",
       "[491 rows x 4 columns]"
      ]
     },
     "execution_count": 47,
     "metadata": {},
     "output_type": "execute_result"
    }
   ],
   "source": [
    "weather_for_date"
   ]
  },
  {
   "cell_type": "code",
   "execution_count": 48,
   "metadata": {},
   "outputs": [],
   "source": [
    "#ToDo weather_for_date und stations_df so zusammenführen, dass eine Tabelle \"station_id | date | temperature | lat | lon\" entsteht"
   ]
  },
  {
   "cell_type": "code",
   "execution_count": null,
   "metadata": {},
   "outputs": [],
   "source": []
  }
 ],
 "metadata": {
  "kernelspec": {
   "display_name": "Python 3",
   "language": "python",
   "name": "python3"
  },
  "language_info": {
   "codemirror_mode": {
    "name": "ipython",
    "version": 3
   },
   "file_extension": ".py",
   "mimetype": "text/x-python",
   "name": "python",
   "nbconvert_exporter": "python",
   "pygments_lexer": "ipython3",
   "version": "3.8.3"
  }
 },
 "nbformat": 4,
 "nbformat_minor": 4
}
