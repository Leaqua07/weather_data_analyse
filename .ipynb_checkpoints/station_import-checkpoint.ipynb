{
 "cells": [
  {
   "cell_type": "code",
   "execution_count": null,
   "metadata": {},
   "outputs": [],
   "source": [
    "from wetterdienst.dwd.observations import DWDObservationData, DWDObservationSites, DWDObservationParameterSet, DWDObservationPeriod, DWDObservationResolution\n",
    "from pymongo import MongoClient"
   ]
  },
  {
   "cell_type": "markdown",
   "metadata": {},
   "source": [
    "### Insert Station Data to MongoDB\n",
    "\n",
    "Abrufen aller Stationen mit stündlichen Wetterdaten zwischen dem 01.07.2020 und dem 31.08.2020 von der *wetterdienst*-API und speichern in der MongoDB"
   ]
  },
  {
   "cell_type": "code",
   "execution_count": null,
   "metadata": {},
   "outputs": [],
   "source": [
    "sites = DWDObservationSites(\n",
    "    parameter_set=DWDObservationParameterSet.TEMPERATURE_AIR,\n",
    "    resolution=DWDObservationResolution.HOURLY,\n",
    "    start_date=\"2020-07-01\",\n",
    "    end_date=\"2020_08-31\",\n",
    "    period=DWDObservationPeriod.HISTORICAL\n",
    ")\n",
    "df = sites.all()\n",
    "df.head()\n",
    "df_dict = df.to_dict(\"records\")\n",
    "\n",
    "client = MongoClient('mongodb://host.docker.internal:27017/')\n",
    "stations = client.bda.stations\n",
    "\n",
    "stations.insert_many(df_dict)"
   ]
  },
  {
   "cell_type": "code",
   "execution_count": null,
   "metadata": {},
   "outputs": [],
   "source": [
    "observations = DWDObservationData(\n",
    "    station_ids=[1587,1584,1586],\n",
    "    parameters=[DWDObservationParameterSet.TEMPERATURE_AIR],\n",
    "    resolution=DWDObservationResolution.HOURLY,\n",
    "    start_date=\"2020-01-01\",\n",
    "    end_date=\"2020-10-31\",\n",
    "    tidy_data=True,\n",
    "    humanize_column_names=True,\n",
    ")\n",
    "\n",
    "# Collect and analyse data here.\n",
    "for df in observations.collect_data():\n",
    "    print(df.head)"
   ]
  },
  {
   "cell_type": "code",
   "execution_count": null,
   "metadata": {},
   "outputs": [],
   "source": [
    "sites = DWDObservationSites(\n",
    "       parameter_set=DWDObservationParameterSet.PRECIPITATION_MORE,\n",
    "       resolution=DWDObservationResolution.DAILY,\n",
    "       period=DWDObservationPeriod.HISTORICAL\n",
    "  )\n",
    "df_stations = sites.all() #dfs = df-stations\n",
    "df_stations.head()"
   ]
  },
  {
   "cell_type": "code",
   "execution_count": null,
   "metadata": {},
   "outputs": [],
   "source": [
    "df.loc[df['STATION_ID'] == 3] #df-temperature"
   ]
  },
  {
   "cell_type": "code",
   "execution_count": null,
   "metadata": {},
   "outputs": [],
   "source": [
    "df_stations.loc[dfs['STATION_ID'] == 22]"
   ]
  },
  {
   "cell_type": "code",
   "execution_count": null,
   "metadata": {},
   "outputs": [],
   "source": [
    "df_join =df.join(df_stations.set_index('STATION_ID'), on='STATION_ID')\n",
    "\n",
    "# distancesDF.join(datesDF.set_index('flights'), on='names')"
   ]
  },
  {
   "cell_type": "code",
   "execution_count": null,
   "metadata": {},
   "outputs": [],
   "source": [
    "#get all stations that are in a radius of n\n",
    "# (x - center_x)^2 + (y - center_y)^2 < radius^2\n",
    "\n",
    "\n",
    "#center_x = lon, let\n",
    "def near_stations(radius, center_x, center_y,df):\n",
    "    #dx = abs(x-center_x) \n",
    "    #dy = abs(y-center_y)\n",
    "    \n",
    "    for d in range(len(df)):\n",
    "        x =df.loc[d].LAT #x and y are the coordinates of the current d\n",
    "        x = x.item()\n",
    "        y =df.loc[d].LON \n",
    "        y = y.item()\n",
    "        \n",
    "        if (x - center_x)**2 + (y - center_y)**2 < radius**2 : #points that are INSIDE of the circle, == points that are ON the circle, > point that are outside of the circle\n",
    "            print(d)\n",
    "            \n",
    "            \n",
    "            \n",
    "            "
   ]
  },
  {
   "cell_type": "code",
   "execution_count": null,
   "metadata": {},
   "outputs": [],
   "source": [
    "#df_stations = df_stations.reset_index()\n",
    "near_stations(0.2,49.878708,8.646927,df_stations) #alle wetterstationen rund um darmstadt"
   ]
  }
 ],
 "metadata": {
  "kernelspec": {
   "display_name": "Python 3",
   "language": "python",
   "name": "python3"
  },
  "language_info": {
   "codemirror_mode": {
    "name": "ipython",
    "version": 3
   },
   "file_extension": ".py",
   "mimetype": "text/x-python",
   "name": "python",
   "nbconvert_exporter": "python",
   "pygments_lexer": "ipython3",
   "version": "3.7.6"
  }
 },
 "nbformat": 4,
 "nbformat_minor": 2
}
