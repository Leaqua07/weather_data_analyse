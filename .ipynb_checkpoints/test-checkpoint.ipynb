{
 "cells": [
  {
   "cell_type": "code",
   "execution_count": 1,
   "metadata": {},
   "outputs": [
    {
     "ename": "ModuleNotFoundError",
     "evalue": "No module named 'wetterdienst'",
     "output_type": "error",
     "traceback": [
      "\u001b[1;31m---------------------------------------------------------------------------\u001b[0m",
      "\u001b[1;31mModuleNotFoundError\u001b[0m                       Traceback (most recent call last)",
      "\u001b[1;32m<ipython-input-1-82edaca65287>\u001b[0m in \u001b[0;36m<module>\u001b[1;34m\u001b[0m\n\u001b[1;32m----> 1\u001b[1;33m \u001b[1;32mfrom\u001b[0m \u001b[0mwetterdienst\u001b[0m\u001b[1;33m.\u001b[0m\u001b[0mdwd\u001b[0m\u001b[1;33m.\u001b[0m\u001b[0mobservations\u001b[0m \u001b[1;32mimport\u001b[0m \u001b[0mDWDObservationSites\u001b[0m\u001b[1;33m,\u001b[0m \u001b[0mDWDObservationData\u001b[0m\u001b[1;33m,\u001b[0m \u001b[0mDWDObservationParameterSet\u001b[0m\u001b[1;33m,\u001b[0m \u001b[0mDWDObservationPeriod\u001b[0m\u001b[1;33m,\u001b[0m \u001b[0mDWDObservationResolution\u001b[0m\u001b[1;33m\u001b[0m\u001b[1;33m\u001b[0m\u001b[0m\n\u001b[0m",
      "\u001b[1;31mModuleNotFoundError\u001b[0m: No module named 'wetterdienst'"
     ]
    }
   ],
   "source": [
    "from wetterdienst.dwd.observations import DWDObservationSites, DWDObservationData, DWDObservationParameterSet, DWDObservationPeriod, DWDObservationResolution"
   ]
  },
  {
   "cell_type": "code",
   "execution_count": 2,
   "metadata": {},
   "outputs": [
    {
     "ename": "NameError",
     "evalue": "name 'DWDObservationSites' is not defined",
     "output_type": "error",
     "traceback": [
      "\u001b[1;31m---------------------------------------------------------------------------\u001b[0m",
      "\u001b[1;31mNameError\u001b[0m                                 Traceback (most recent call last)",
      "\u001b[1;32m<ipython-input-2-8d90bdc1c5a5>\u001b[0m in \u001b[0;36m<module>\u001b[1;34m\u001b[0m\n\u001b[1;32m----> 1\u001b[1;33m sites = DWDObservationSites(\n\u001b[0m\u001b[0;32m      2\u001b[0m     \u001b[0mparameter_set\u001b[0m\u001b[1;33m=\u001b[0m\u001b[0mDWDObservationParameterSet\u001b[0m\u001b[1;33m.\u001b[0m\u001b[0mTEMPERATURE_AIR\u001b[0m\u001b[1;33m,\u001b[0m\u001b[1;33m\u001b[0m\u001b[1;33m\u001b[0m\u001b[0m\n\u001b[0;32m      3\u001b[0m     \u001b[0mresolution\u001b[0m\u001b[1;33m=\u001b[0m\u001b[0mDWDObservationResolution\u001b[0m\u001b[1;33m.\u001b[0m\u001b[0mHOURLY\u001b[0m\u001b[1;33m,\u001b[0m\u001b[1;33m\u001b[0m\u001b[1;33m\u001b[0m\u001b[0m\n\u001b[0;32m      4\u001b[0m     \u001b[0mstart_date\u001b[0m\u001b[1;33m=\u001b[0m\u001b[1;34m\"2020-07-01\"\u001b[0m\u001b[1;33m,\u001b[0m\u001b[1;33m\u001b[0m\u001b[1;33m\u001b[0m\u001b[0m\n\u001b[0;32m      5\u001b[0m     \u001b[0mend_date\u001b[0m\u001b[1;33m=\u001b[0m\u001b[1;34m\"2020_08-31\"\u001b[0m\u001b[1;33m,\u001b[0m\u001b[1;33m\u001b[0m\u001b[1;33m\u001b[0m\u001b[0m\n",
      "\u001b[1;31mNameError\u001b[0m: name 'DWDObservationSites' is not defined"
     ]
    }
   ],
   "source": [
    "sites = DWDObservationSites(\n",
    "    parameter_set=DWDObservationParameterSet.TEMPERATURE_AIR,\n",
    "    resolution=DWDObservationResolution.HOURLY,\n",
    "    start_date=\"2020-07-01\",\n",
    "    end_date=\"2020_08-31\",\n",
    "    period=DWDObservationPeriod.HISTORICAL\n",
    ")\n",
    "df = sites.all()\n",
    "df.head()"
   ]
  },
  {
   "cell_type": "code",
   "execution_count": 3,
   "metadata": {},
   "outputs": [
    {
     "ename": "NameError",
     "evalue": "name 'DWDObservationData' is not defined",
     "output_type": "error",
     "traceback": [
      "\u001b[1;31m---------------------------------------------------------------------------\u001b[0m",
      "\u001b[1;31mNameError\u001b[0m                                 Traceback (most recent call last)",
      "\u001b[1;32m<ipython-input-3-59c288d28d82>\u001b[0m in \u001b[0;36m<module>\u001b[1;34m\u001b[0m\n\u001b[1;32m----> 1\u001b[1;33m observations = DWDObservationData(\n\u001b[0m\u001b[0;32m      2\u001b[0m     \u001b[0mstation_ids\u001b[0m\u001b[1;33m=\u001b[0m\u001b[1;33m[\u001b[0m\u001b[1;36m5906\u001b[0m\u001b[1;33m,\u001b[0m \u001b[1;36m5692\u001b[0m\u001b[1;33m]\u001b[0m\u001b[1;33m,\u001b[0m\u001b[1;33m\u001b[0m\u001b[1;33m\u001b[0m\u001b[0m\n\u001b[0;32m      3\u001b[0m     \u001b[0mparameters\u001b[0m\u001b[1;33m=\u001b[0m\u001b[1;33m[\u001b[0m\u001b[0mDWDObservationParameterSet\u001b[0m\u001b[1;33m.\u001b[0m\u001b[0mTEMPERATURE_AIR\u001b[0m\u001b[1;33m]\u001b[0m\u001b[1;33m,\u001b[0m\u001b[1;33m\u001b[0m\u001b[1;33m\u001b[0m\u001b[0m\n\u001b[0;32m      4\u001b[0m     \u001b[0mresolution\u001b[0m\u001b[1;33m=\u001b[0m\u001b[0mDWDObservationResolution\u001b[0m\u001b[1;33m.\u001b[0m\u001b[0mHOURLY\u001b[0m\u001b[1;33m,\u001b[0m\u001b[1;33m\u001b[0m\u001b[1;33m\u001b[0m\u001b[0m\n\u001b[0;32m      5\u001b[0m     \u001b[0mstart_date\u001b[0m\u001b[1;33m=\u001b[0m\u001b[1;34m\"2020-01-01\"\u001b[0m\u001b[1;33m,\u001b[0m\u001b[1;33m\u001b[0m\u001b[1;33m\u001b[0m\u001b[0m\n",
      "\u001b[1;31mNameError\u001b[0m: name 'DWDObservationData' is not defined"
     ]
    }
   ],
   "source": [
    "observations = DWDObservationData(\n",
    "    station_ids=[5906, 5692],\n",
    "    parameters=[DWDObservationParameterSet.TEMPERATURE_AIR],\n",
    "    resolution=DWDObservationResolution.HOURLY,\n",
    "    start_date=\"2020-01-01\",\n",
    "    end_date=\"2020-10-31\",\n",
    "    tidy_data=True,\n",
    "    humanize_column_names=True,\n",
    ")\n",
    "\n",
    "# Collect and analyse data here.\n",
    "for df in observations.collect_data():\n",
    "    print(df.head)"
   ]
  },
  {
   "cell_type": "code",
   "execution_count": null,
   "metadata": {},
   "outputs": [],
   "source": []
  }
 ],
 "metadata": {
  "kernelspec": {
   "display_name": "Python 3",
   "language": "python",
   "name": "python3"
  },
  "language_info": {
   "codemirror_mode": {
    "name": "ipython",
    "version": 3
   },
   "file_extension": ".py",
   "mimetype": "text/x-python",
   "name": "python",
   "nbconvert_exporter": "python",
   "pygments_lexer": "ipython3",
   "version": "3.7.6"
  }
 },
 "nbformat": 4,
 "nbformat_minor": 2
}
