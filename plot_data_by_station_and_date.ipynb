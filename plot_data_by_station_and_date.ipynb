{
 "cells": [
  {
   "cell_type": "markdown",
   "metadata": {},
   "source": [
    "# Darstellung des Temperaturverlaufes von 24h an einer Wetterstation"
   ]
  },
  {
   "cell_type": "markdown",
   "metadata": {},
   "source": [
    "Von Lea Pellikan   |   Matrikel-Nr.: 3062311   |   Abgabe: 15.11.2020"
   ]
  },
  {
   "cell_type": "markdown",
   "metadata": {},
   "source": [
    "Im folgendem Jupyter Notebook soll ein Barchart erstellt werden, das den stündlichen Temperaturverlauf eines ausgewählten Tages an einer ausgewählten Wetterstation darstellt. Die dafür verwendeten Daten stammen von der Quelle *************** . Diese Quelle wird von ******+ gepflegt und stellt, unter anderem, die stündlich gemessenen Temperaturen von allen Wetterstationen in Deutschland da.  Die Daten wurden aus Performanzgründen nicht direkt von Kafka importiert, sondern per CSV-Datei in eine MongoDB gespeichert. Aus dieser werden die benötigten Daten ausgelesen."
   ]
  },
  {
   "cell_type": "markdown",
   "metadata": {},
   "source": [
    "## Import der Libraries"
   ]
  },
  {
   "cell_type": "markdown",
   "metadata": {},
   "source": [
    "Im folgendem wird die Library **pymongo** für die Verbindung zur MongoDB verwendet und **pandas** für das Verarbeiten der Collection. Außerdem wird **plotly.express** zur Darstellung der Daten verwendet. "
   ]
  },
  {
   "cell_type": "code",
   "execution_count": null,
   "metadata": {},
   "outputs": [],
   "source": [
    "import pandas as pd\n",
    "import plotly.express as px\n",
    "from pymongo import MongoClient"
   ]
  },
  {
   "cell_type": "markdown",
   "metadata": {},
   "source": [
    "## Verbindungsaufbau zur MongoDB"
   ]
  },
  {
   "cell_type": "code",
   "execution_count": null,
   "metadata": {},
   "outputs": [],
   "source": [
    "client = MongoClient('mongodb://localhost:27017/')\n",
    "stations = client.bda.stations\n",
    "weather = client.bda.weather"
   ]
  },
  {
   "cell_type": "code",
   "execution_count": null,
   "metadata": {},
   "outputs": [],
   "source": [
    "def get_collection(collection):\n",
    "    documents = []\n",
    "    cursor = collection.find({})\n",
    "    for document in cursor:\n",
    "        documents.append(document)\n",
    "    return documents"
   ]
  },
  {
   "cell_type": "code",
   "execution_count": null,
   "metadata": {},
   "outputs": [],
   "source": [
    "stations_df = pd.DataFrame(get_collection(stations))\n",
    "stations_df = stations_df.rename(columns={\"STATION_ID\": \"station_id\"})"
   ]
  },
  {
   "cell_type": "code",
   "execution_count": null,
   "metadata": {},
   "outputs": [],
   "source": [
    "weather_df = pd.DataFrame(get_collection(weather))"
   ]
  },
  {
   "cell_type": "code",
   "execution_count": null,
   "metadata": {},
   "outputs": [],
   "source": [
    "weather_stations = pd.merge(weather_df,stations_df, on=\"station_id\", how=\"left\")\n",
    "weather_stations"
   ]
  },
  {
   "cell_type": "code",
   "execution_count": null,
   "metadata": {},
   "outputs": [],
   "source": [
    "def temp_by_date(df,date,stationid):\n",
    "    result= df.loc[df['date'].dt.normalize() == date ]\n",
    "    result2 =  result.loc[result['station_id']== stationid ]\n",
    "    return result2"
   ]
  },
  {
   "cell_type": "code",
   "execution_count": null,
   "metadata": {},
   "outputs": [],
   "source": [
    "tempbydate = temp_by_date(weather_stations,\"2020-08-20 00:00:00\",917)\n",
    "tempbydate"
   ]
  },
  {
   "cell_type": "code",
   "execution_count": null,
   "metadata": {},
   "outputs": [],
   "source": [
    "def calculate_plot(tempbydate):\n",
    "    fig2 =  px.bar(tempbydate,\n",
    "             y= \"temperature\", #stunden\n",
    "             x= \"date\",#temperatur\n",
    "               title = 'Temperaturverlauf am ' + str(tempbydate[\"date\"].dt.date.iloc[0]) + ' in ' + str(tempbydate[\"STATION_NAME\"].iloc[0] ) ,\n",
    "                hover_data=['station_id', 'STATION_NAME'], color='temperature')\n",
    "    fig2.show()"
   ]
  },
  {
   "cell_type": "code",
   "execution_count": null,
   "metadata": {},
   "outputs": [],
   "source": [
    "calculate_plot(tempbydate)"
   ]
  },
  {
   "cell_type": "code",
   "execution_count": null,
   "metadata": {},
   "outputs": [],
   "source": []
  },
  {
   "cell_type": "code",
   "execution_count": null,
   "metadata": {},
   "outputs": [],
   "source": []
  }
 ],
 "metadata": {
  "kernelspec": {
   "display_name": "Python 3",
   "language": "python",
   "name": "python3"
  },
  "language_info": {
   "codemirror_mode": {
    "name": "ipython",
    "version": 3
   },
   "file_extension": ".py",
   "mimetype": "text/x-python",
   "name": "python",
   "nbconvert_exporter": "python",
   "pygments_lexer": "ipython3",
   "version": "3.7.6"
  }
 },
 "nbformat": 4,
 "nbformat_minor": 4
}
