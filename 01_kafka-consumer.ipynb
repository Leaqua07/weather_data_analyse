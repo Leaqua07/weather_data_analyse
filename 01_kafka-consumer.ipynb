{
 "cells": [
  {
   "source": [
    "*von Benedikt Funke*\n",
    "\n",
    "## Auslesen und Speichern der Daten von Kafka\n",
    "\n",
    "Um die an Kafka gesendeten Daten zu verarbeiten ist ein Consumer notwendig, der diese entgegennimmt und weiterverarbeitet. Hier wird dafür zunächst eine Subscription auf das Topic `weather` in Kafka mithilfe der `KafkaConsumer`-Klasse angelegt. Wie auch schon im `kafka-producer.ipynb` gilt auch hier, dass bei keinen weiteren Parameter versucht wird eine Verbindung mit Kafka auf `localhost` herzustellen.\n",
    "\n",
    "Außerdem wird eine Verbindung zu der `weather`-Collection in der MongoDB hergestellt und eventuell vorhandene alte Daten werden gelöscht, so dass vor dem Einfügen eine leere Collection vorhanden ist."
   ],
   "cell_type": "markdown",
   "metadata": {}
  },
  {
   "cell_type": "code",
   "execution_count": null,
   "metadata": {
    "tags": []
   },
   "outputs": [],
   "source": [
    "from kafka import KafkaConsumer\n",
    "from pymongo import MongoClient\n",
    "import datetime as dt\n",
    "\n",
    "consumer = KafkaConsumer('weather')\n",
    "\n",
    "client = MongoClient('mongodb://localhost:27017/')\n",
    "weather = client.bda.weather\n",
    "weather.delete_many({})"
   ]
  },
  {
   "source": [
    "Im Folgenden erfolgt die Auswertung der erhaltenen Nachrichten aus Kafka und die Aufbereitung für die Abspeicherung in der MongoDB.\n",
    "Dafür wird zunächst versucht, die Werte der CSV-Formatierten Zeile zu extrahieren. Anschließend wird die `station_id` in einen `Integer` und die Temperatur in ein `Float` konvertiert. Außerdem wird versucht das Datum aus dem String des 3. Wertes zu extrahieren und als Datumsobjekt abzuspeichern\n",
    "Falls eine dieser Konvertierungen fehlschlägt wird der Datensatz übersprungen und ein Fehler wird ausgegeben.\n",
    "\n",
    "Abschließend werden die konvertieren Werte in die `weather`-Collection der MongoDB abgespeichert."
   ],
   "cell_type": "markdown",
   "metadata": {}
  },
  {
   "cell_type": "code",
   "execution_count": null,
   "metadata": {},
   "outputs": [],
   "source": [
    "for message in consumer:\n",
    "    try:\n",
    "        values = message.value.decode('utf-8').split(', ')\n",
    "        station_id = int(values[1].strip(\"\\'\"))\n",
    "        temperature = float(values[5].strip(\"\\'\"))\n",
    "        date = dt.datetime.strptime(values[2].strip(\"\\'\"),\"%Y-%m-%d %H:%M:%S\")\n",
    "    except:\n",
    "        print('An Error occurred processing data. Skipping...')\n",
    "        continue\n",
    "\n",
    "    weather.insert_one({\n",
    "        'station_id': station_id,\n",
    "        'date': date,\n",
    "        'temperature': temperature\n",
    "        })"
   ]
  }
 ],
 "metadata": {
  "kernelspec": {
   "display_name": "Python 3",
   "language": "python",
   "name": "python3"
  },
  "language_info": {
   "codemirror_mode": {
    "name": "ipython",
    "version": 3
   },
   "file_extension": ".py",
   "mimetype": "text/x-python",
   "name": "python",
   "nbconvert_exporter": "python",
   "pygments_lexer": "ipython3",
   "version": "3.8.6-final"
  }
 },
 "nbformat": 4,
 "nbformat_minor": 2
}