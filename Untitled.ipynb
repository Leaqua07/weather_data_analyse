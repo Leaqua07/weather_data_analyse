{
 "cells": [
  {
   "cell_type": "code",
   "execution_count": 6,
   "metadata": {
    "scrolled": true
   },
   "outputs": [
    {
     "ename": "ModuleNotFoundError",
     "evalue": "No module named 'appdirs'",
     "output_type": "error",
     "traceback": [
      "\u001b[1;31m---------------------------------------------------------------------------\u001b[0m",
      "\u001b[1;31mModuleNotFoundError\u001b[0m                       Traceback (most recent call last)",
      "\u001b[1;32m<ipython-input-6-50f3733dd45d>\u001b[0m in \u001b[0;36m<module>\u001b[1;34m\u001b[0m\n\u001b[0;32m      2\u001b[0m \u001b[1;32mimport\u001b[0m \u001b[0mpandas\u001b[0m    \u001b[1;32mas\u001b[0m \u001b[0mpd\u001b[0m\u001b[1;33m\u001b[0m\u001b[1;33m\u001b[0m\u001b[0m\n\u001b[0;32m      3\u001b[0m \u001b[1;32mfrom\u001b[0m \u001b[0mvega\u001b[0m \u001b[1;32mimport\u001b[0m \u001b[0mVegaLite\u001b[0m\u001b[1;33m\u001b[0m\u001b[1;33m\u001b[0m\u001b[0m\n\u001b[1;32m----> 4\u001b[1;33m \u001b[1;32mimport\u001b[0m \u001b[0mwetterdienst\u001b[0m\u001b[1;33m\u001b[0m\u001b[1;33m\u001b[0m\u001b[0m\n\u001b[0m",
      "\u001b[1;32mD:\\entwicklung\\weather_data_analyse\\wetterdienst\\__init__.py\u001b[0m in \u001b[0;36m<module>\u001b[1;34m\u001b[0m\n\u001b[0;32m      2\u001b[0m \u001b[0m__appname__\u001b[0m \u001b[1;33m=\u001b[0m \u001b[1;34m\"wetterdienst\"\u001b[0m\u001b[1;33m\u001b[0m\u001b[1;33m\u001b[0m\u001b[0m\n\u001b[0;32m      3\u001b[0m \u001b[1;33m\u001b[0m\u001b[0m\n\u001b[1;32m----> 4\u001b[1;33m \u001b[1;32mfrom\u001b[0m \u001b[0mwetterdienst\u001b[0m \u001b[1;32mimport\u001b[0m \u001b[0mdwd\u001b[0m\u001b[1;33m\u001b[0m\u001b[1;33m\u001b[0m\u001b[0m\n\u001b[0m\u001b[0;32m      5\u001b[0m \u001b[1;33m\u001b[0m\u001b[0m\n\u001b[0;32m      6\u001b[0m \u001b[1;31m# Single-sourcing the package version\u001b[0m\u001b[1;33m\u001b[0m\u001b[1;33m\u001b[0m\u001b[1;33m\u001b[0m\u001b[0m\n",
      "\u001b[1;32mD:\\entwicklung\\weather_data_analyse\\wetterdienst\\dwd\\__init__.py\u001b[0m in \u001b[0;36m<module>\u001b[1;34m\u001b[0m\n\u001b[0;32m      1\u001b[0m \u001b[1;31m# Load Pandas DataFrame extension.\u001b[0m\u001b[1;33m\u001b[0m\u001b[1;33m\u001b[0m\u001b[1;33m\u001b[0m\u001b[0m\n\u001b[1;32m----> 2\u001b[1;33m \u001b[1;32mimport\u001b[0m \u001b[0mwetterdienst\u001b[0m\u001b[1;33m.\u001b[0m\u001b[0mdwd\u001b[0m\u001b[1;33m.\u001b[0m\u001b[0mpandas\u001b[0m\u001b[1;33m\u001b[0m\u001b[1;33m\u001b[0m\u001b[0m\n\u001b[0m\u001b[0;32m      3\u001b[0m \u001b[1;33m\u001b[0m\u001b[0m\n\u001b[0;32m      4\u001b[0m \u001b[1;32mfrom\u001b[0m \u001b[0mwetterdienst\u001b[0m\u001b[1;33m.\u001b[0m\u001b[0mdwd\u001b[0m \u001b[1;32mimport\u001b[0m \u001b[0mobservations\u001b[0m\u001b[1;33m,\u001b[0m \u001b[0mforecasts\u001b[0m\u001b[1;33m,\u001b[0m \u001b[0mradar\u001b[0m\u001b[1;33m\u001b[0m\u001b[1;33m\u001b[0m\u001b[0m\n",
      "\u001b[1;32mD:\\entwicklung\\weather_data_analyse\\wetterdienst\\dwd\\pandas.py\u001b[0m in \u001b[0;36m<module>\u001b[1;34m\u001b[0m\n\u001b[0;32m      5\u001b[0m \u001b[1;32mimport\u001b[0m \u001b[0mpandas\u001b[0m \u001b[1;32mas\u001b[0m \u001b[0mpd\u001b[0m\u001b[1;33m\u001b[0m\u001b[1;33m\u001b[0m\u001b[0m\n\u001b[0;32m      6\u001b[0m \u001b[1;33m\u001b[0m\u001b[0m\n\u001b[1;32m----> 7\u001b[1;33m \u001b[1;32mfrom\u001b[0m \u001b[0mwetterdienst\u001b[0m\u001b[1;33m.\u001b[0m\u001b[0mdwd\u001b[0m\u001b[1;33m.\u001b[0m\u001b[0mobservations\u001b[0m\u001b[1;33m.\u001b[0m\u001b[0mmetadata\u001b[0m \u001b[1;32mimport\u001b[0m \u001b[0mDWDObservationResolution\u001b[0m\u001b[1;33m\u001b[0m\u001b[1;33m\u001b[0m\u001b[0m\n\u001b[0m\u001b[0;32m      8\u001b[0m \u001b[1;32mfrom\u001b[0m \u001b[0mwetterdienst\u001b[0m\u001b[1;33m.\u001b[0m\u001b[0mdwd\u001b[0m\u001b[1;33m.\u001b[0m\u001b[0mmetadata\u001b[0m\u001b[1;33m.\u001b[0m\u001b[0mcolumn_names\u001b[0m \u001b[1;32mimport\u001b[0m \u001b[0mDWDMetaColumns\u001b[0m\u001b[1;33m\u001b[0m\u001b[1;33m\u001b[0m\u001b[0m\n\u001b[0;32m      9\u001b[0m \u001b[1;32mfrom\u001b[0m \u001b[0mwetterdienst\u001b[0m\u001b[1;33m.\u001b[0m\u001b[0mdwd\u001b[0m\u001b[1;33m.\u001b[0m\u001b[0mutil\u001b[0m \u001b[1;32mimport\u001b[0m \u001b[0mparse_datetime\u001b[0m\u001b[1;33m,\u001b[0m \u001b[0mmktimerange\u001b[0m\u001b[1;33m\u001b[0m\u001b[1;33m\u001b[0m\u001b[0m\n",
      "\u001b[1;32mD:\\entwicklung\\weather_data_analyse\\wetterdienst\\dwd\\observations\\__init__.py\u001b[0m in \u001b[0;36m<module>\u001b[1;34m\u001b[0m\n\u001b[1;32m----> 1\u001b[1;33m from wetterdienst.dwd.observations.api import (\n\u001b[0m\u001b[0;32m      2\u001b[0m     \u001b[0mDWDObservationMetadata\u001b[0m\u001b[1;33m,\u001b[0m\u001b[1;33m\u001b[0m\u001b[1;33m\u001b[0m\u001b[0m\n\u001b[0;32m      3\u001b[0m     \u001b[0mDWDObservationSites\u001b[0m\u001b[1;33m,\u001b[0m\u001b[1;33m\u001b[0m\u001b[1;33m\u001b[0m\u001b[0m\n\u001b[0;32m      4\u001b[0m     \u001b[0mDWDObservationData\u001b[0m\u001b[1;33m,\u001b[0m\u001b[1;33m\u001b[0m\u001b[1;33m\u001b[0m\u001b[0m\n\u001b[0;32m      5\u001b[0m )\n",
      "\u001b[1;32mD:\\entwicklung\\weather_data_analyse\\wetterdienst\\dwd\\observations\\api.py\u001b[0m in \u001b[0;36m<module>\u001b[1;34m\u001b[0m\n\u001b[0;32m      9\u001b[0m \u001b[1;32mfrom\u001b[0m \u001b[0mwetterdienst\u001b[0m\u001b[1;33m.\u001b[0m\u001b[0mcore\u001b[0m\u001b[1;33m.\u001b[0m\u001b[0mdata\u001b[0m \u001b[1;32mimport\u001b[0m \u001b[0mWDDataCore\u001b[0m\u001b[1;33m\u001b[0m\u001b[1;33m\u001b[0m\u001b[0m\n\u001b[0;32m     10\u001b[0m \u001b[1;32mfrom\u001b[0m \u001b[0mwetterdienst\u001b[0m\u001b[1;33m.\u001b[0m\u001b[0mcore\u001b[0m\u001b[1;33m.\u001b[0m\u001b[0msites\u001b[0m \u001b[1;32mimport\u001b[0m \u001b[0mWDSitesCore\u001b[0m\u001b[1;33m\u001b[0m\u001b[1;33m\u001b[0m\u001b[0m\n\u001b[1;32m---> 11\u001b[1;33m \u001b[1;32mfrom\u001b[0m \u001b[0mwetterdienst\u001b[0m\u001b[1;33m.\u001b[0m\u001b[0mdwd\u001b[0m\u001b[1;33m.\u001b[0m\u001b[0mindex\u001b[0m \u001b[1;32mimport\u001b[0m \u001b[0m_create_file_index_for_dwd_server\u001b[0m\u001b[1;33m\u001b[0m\u001b[1;33m\u001b[0m\u001b[0m\n\u001b[0m\u001b[0;32m     12\u001b[0m \u001b[1;32mfrom\u001b[0m \u001b[0mwetterdienst\u001b[0m\u001b[1;33m.\u001b[0m\u001b[0mdwd\u001b[0m\u001b[1;33m.\u001b[0m\u001b[0mmetadata\u001b[0m\u001b[1;33m.\u001b[0m\u001b[0mcolumn_map\u001b[0m \u001b[1;32mimport\u001b[0m \u001b[0mcreate_humanized_column_names_mapping\u001b[0m\u001b[1;33m\u001b[0m\u001b[1;33m\u001b[0m\u001b[0m\n\u001b[0;32m     13\u001b[0m \u001b[1;32mfrom\u001b[0m \u001b[0mwetterdienst\u001b[0m\u001b[1;33m.\u001b[0m\u001b[0mdwd\u001b[0m\u001b[1;33m.\u001b[0m\u001b[0mobservations\u001b[0m\u001b[1;33m.\u001b[0m\u001b[0maccess\u001b[0m \u001b[1;32mimport\u001b[0m \u001b[0mcollect_climate_observations_data\u001b[0m\u001b[1;33m\u001b[0m\u001b[1;33m\u001b[0m\u001b[0m\n",
      "\u001b[1;32mD:\\entwicklung\\weather_data_analyse\\wetterdienst\\dwd\\index.py\u001b[0m in \u001b[0;36m<module>\u001b[1;34m\u001b[0m\n\u001b[0;32m     11\u001b[0m \u001b[1;32mfrom\u001b[0m \u001b[0mwetterdienst\u001b[0m\u001b[1;33m.\u001b[0m\u001b[0mdwd\u001b[0m\u001b[1;33m.\u001b[0m\u001b[0mmetadata\u001b[0m\u001b[1;33m.\u001b[0m\u001b[0mconstants\u001b[0m \u001b[1;32mimport\u001b[0m \u001b[0mDWDCDCBase\u001b[0m\u001b[1;33m,\u001b[0m \u001b[0mDWD_SERVER\u001b[0m\u001b[1;33m,\u001b[0m \u001b[0mDWD_CDC_PATH\u001b[0m\u001b[1;33m\u001b[0m\u001b[1;33m\u001b[0m\u001b[0m\n\u001b[0;32m     12\u001b[0m \u001b[1;32mfrom\u001b[0m \u001b[0mwetterdienst\u001b[0m\u001b[1;33m.\u001b[0m\u001b[0mdwd\u001b[0m\u001b[1;33m.\u001b[0m\u001b[0mmetadata\u001b[0m\u001b[1;33m.\u001b[0m\u001b[0mcolumn_names\u001b[0m \u001b[1;32mimport\u001b[0m \u001b[0mDWDMetaColumns\u001b[0m\u001b[1;33m\u001b[0m\u001b[1;33m\u001b[0m\u001b[0m\n\u001b[1;32m---> 13\u001b[1;33m from wetterdienst.util.cache import (\n\u001b[0m\u001b[0;32m     14\u001b[0m     \u001b[0mfileindex_cache_five_minutes\u001b[0m\u001b[1;33m,\u001b[0m\u001b[1;33m\u001b[0m\u001b[1;33m\u001b[0m\u001b[0m\n\u001b[0;32m     15\u001b[0m     \u001b[0mfileindex_cache_one_hour\u001b[0m\u001b[1;33m,\u001b[0m\u001b[1;33m\u001b[0m\u001b[1;33m\u001b[0m\u001b[0m\n",
      "\u001b[1;32mD:\\entwicklung\\weather_data_analyse\\wetterdienst\\util\\cache.py\u001b[0m in \u001b[0;36m<module>\u001b[1;34m\u001b[0m\n\u001b[0;32m      3\u001b[0m \u001b[1;32mimport\u001b[0m \u001b[0mplatform\u001b[0m\u001b[1;33m\u001b[0m\u001b[1;33m\u001b[0m\u001b[0m\n\u001b[0;32m      4\u001b[0m \u001b[1;33m\u001b[0m\u001b[0m\n\u001b[1;32m----> 5\u001b[1;33m \u001b[1;32mimport\u001b[0m \u001b[0mappdirs\u001b[0m\u001b[1;33m\u001b[0m\u001b[1;33m\u001b[0m\u001b[0m\n\u001b[0m\u001b[0;32m      6\u001b[0m \u001b[1;32mfrom\u001b[0m \u001b[0mdogpile\u001b[0m\u001b[1;33m.\u001b[0m\u001b[0mcache\u001b[0m \u001b[1;32mimport\u001b[0m \u001b[0mmake_region\u001b[0m\u001b[1;33m\u001b[0m\u001b[1;33m\u001b[0m\u001b[0m\n\u001b[0;32m      7\u001b[0m \u001b[1;33m\u001b[0m\u001b[0m\n",
      "\u001b[1;31mModuleNotFoundError\u001b[0m: No module named 'appdirs'"
     ]
    }
   ],
   "source": [
    "from pymongo     import MongoClient \n",
    "import pandas    as pd  \n",
    "from vega import VegaLite\n",
    "import wetterdienst"
   ]
  },
  {
   "cell_type": "markdown",
   "metadata": {},
   "source": [
    "## Insert CSV-Data in a Collection "
   ]
  },
  {
   "cell_type": "code",
   "execution_count": 30,
   "metadata": {},
   "outputs": [],
   "source": [
    "connection_string      = \"mongodb://localhost:27017\"\n",
    "db                     = MongoClient(connection_string)\n",
    "weatherdata              = db.dw.weather\n",
    "weatherdata_preprocessed = db.dw.weatherdata_preprocessed"
   ]
  },
  {
   "cell_type": "code",
   "execution_count": 38,
   "metadata": {},
   "outputs": [],
   "source": [
    "weatherdata_csv = pd.read_csv ('weatherdata_germ.csv',  thousands=\",\")"
   ]
  },
  {
   "cell_type": "code",
   "execution_count": 39,
   "metadata": {},
   "outputs": [],
   "source": [
    "def save_to_mongo(collection, data, drop_collection):\n",
    "    if drop_collection:\n",
    "        collection.drop()\n",
    "    if isinstance(data, pd.DataFrame): data = data.to_dict('records')\n",
    "    result = collection.insert_many(data)\n",
    "    print('%d rows are saved to \"%s\" collection successfully!' % (len(result.inserted_ids), collection.name))"
   ]
  },
  {
   "cell_type": "code",
   "execution_count": 40,
   "metadata": {},
   "outputs": [
    {
     "name": "stdout",
     "output_type": "stream",
     "text": [
      "312 rows are saved to \"weather\" collection successfully!\n"
     ]
    }
   ],
   "source": [
    "save_to_mongo(weatherdata, weatherdata_csv, True)"
   ]
  },
  {
   "cell_type": "code",
   "execution_count": 47,
   "metadata": {},
   "outputs": [
    {
     "data": {
      "text/plain": [
       "Temperature - (Celsius)         1.48487\n",
       " Year                              1991\n",
       " Statistics                 Jan Average\n",
       " Country                        Germany\n",
       " ISO3                               DEU\n",
       "Name: 0, dtype: object"
      ]
     },
     "execution_count": 47,
     "metadata": {},
     "output_type": "execute_result"
    }
   ],
   "source": [
    "weatherdata_csv.loc[0]"
   ]
  },
  {
   "cell_type": "code",
   "execution_count": 48,
   "metadata": {},
   "outputs": [
    {
     "data": {
      "text/plain": [
       "312"
      ]
     },
     "execution_count": 48,
     "metadata": {},
     "output_type": "execute_result"
    }
   ],
   "source": [
    "weatherdata_csv.shape[0]"
   ]
  },
  {
   "cell_type": "code",
   "execution_count": null,
   "metadata": {},
   "outputs": [],
   "source": []
  },
  {
   "cell_type": "code",
   "execution_count": 56,
   "metadata": {},
   "outputs": [
    {
     "name": "stdout",
     "output_type": "stream",
     "text": [
      "0      1991\n",
      "1      1991\n",
      "2      1991\n",
      "3      1991\n",
      "4      1991\n",
      "       ... \n",
      "307    2016\n",
      "308    2016\n",
      "309    2016\n",
      "310    2016\n",
      "311    2016\n",
      "Name:  Year, Length: 312, dtype: int64\n",
      "0       1.48487\n",
      "1      -2.08190\n",
      "2       6.90307\n",
      "3       7.52542\n",
      "4       9.68688\n",
      "         ...   \n",
      "307    18.28810\n",
      "308    17.46070\n",
      "309     8.68213\n",
      "310     4.47020\n",
      "311     2.60080\n",
      "Name: Temperature - (Celsius), Length: 312, dtype: float64\n"
     ]
    }
   ],
   "source": [
    "year = weatherdata_csv[' Year']\n",
    "temp = weatherdata_csv['Temperature - (Celsius)']\n",
    "print(year)\n",
    "print(temp)"
   ]
  },
  {
   "cell_type": "code",
   "execution_count": 59,
   "metadata": {},
   "outputs": [
    {
     "ename": "MergeError",
     "evalue": "No common columns to perform merge on. Merge options: left_on=None, right_on=None, left_index=False, right_index=False",
     "output_type": "error",
     "traceback": [
      "\u001b[1;31m---------------------------------------------------------------------------\u001b[0m",
      "\u001b[1;31mMergeError\u001b[0m                                Traceback (most recent call last)",
      "\u001b[1;32m<ipython-input-59-bb47169afd64>\u001b[0m in \u001b[0;36m<module>\u001b[1;34m\u001b[0m\n\u001b[1;32m----> 1\u001b[1;33m \u001b[0mdata\u001b[0m \u001b[1;33m=\u001b[0m \u001b[0mpd\u001b[0m\u001b[1;33m.\u001b[0m\u001b[0mmerge\u001b[0m\u001b[1;33m(\u001b[0m\u001b[0myear\u001b[0m\u001b[1;33m,\u001b[0m \u001b[0mtemp\u001b[0m\u001b[1;33m)\u001b[0m\u001b[1;33m\u001b[0m\u001b[1;33m\u001b[0m\u001b[0m\n\u001b[0m",
      "\u001b[1;32mD:\\Anaconda64\\lib\\site-packages\\pandas\\core\\reshape\\merge.py\u001b[0m in \u001b[0;36mmerge\u001b[1;34m(left, right, how, on, left_on, right_on, left_index, right_index, sort, suffixes, copy, indicator, validate)\u001b[0m\n\u001b[0;32m     84\u001b[0m         \u001b[0mcopy\u001b[0m\u001b[1;33m=\u001b[0m\u001b[0mcopy\u001b[0m\u001b[1;33m,\u001b[0m\u001b[1;33m\u001b[0m\u001b[1;33m\u001b[0m\u001b[0m\n\u001b[0;32m     85\u001b[0m         \u001b[0mindicator\u001b[0m\u001b[1;33m=\u001b[0m\u001b[0mindicator\u001b[0m\u001b[1;33m,\u001b[0m\u001b[1;33m\u001b[0m\u001b[1;33m\u001b[0m\u001b[0m\n\u001b[1;32m---> 86\u001b[1;33m         \u001b[0mvalidate\u001b[0m\u001b[1;33m=\u001b[0m\u001b[0mvalidate\u001b[0m\u001b[1;33m,\u001b[0m\u001b[1;33m\u001b[0m\u001b[1;33m\u001b[0m\u001b[0m\n\u001b[0m\u001b[0;32m     87\u001b[0m     )\n\u001b[0;32m     88\u001b[0m     \u001b[1;32mreturn\u001b[0m \u001b[0mop\u001b[0m\u001b[1;33m.\u001b[0m\u001b[0mget_result\u001b[0m\u001b[1;33m(\u001b[0m\u001b[1;33m)\u001b[0m\u001b[1;33m\u001b[0m\u001b[1;33m\u001b[0m\u001b[0m\n",
      "\u001b[1;32mD:\\Anaconda64\\lib\\site-packages\\pandas\\core\\reshape\\merge.py\u001b[0m in \u001b[0;36m__init__\u001b[1;34m(self, left, right, how, on, left_on, right_on, axis, left_index, right_index, sort, suffixes, copy, indicator, validate)\u001b[0m\n\u001b[0;32m    618\u001b[0m             \u001b[0mwarnings\u001b[0m\u001b[1;33m.\u001b[0m\u001b[0mwarn\u001b[0m\u001b[1;33m(\u001b[0m\u001b[0mmsg\u001b[0m\u001b[1;33m,\u001b[0m \u001b[0mUserWarning\u001b[0m\u001b[1;33m)\u001b[0m\u001b[1;33m\u001b[0m\u001b[1;33m\u001b[0m\u001b[0m\n\u001b[0;32m    619\u001b[0m \u001b[1;33m\u001b[0m\u001b[0m\n\u001b[1;32m--> 620\u001b[1;33m         \u001b[0mself\u001b[0m\u001b[1;33m.\u001b[0m\u001b[0m_validate_specification\u001b[0m\u001b[1;33m(\u001b[0m\u001b[1;33m)\u001b[0m\u001b[1;33m\u001b[0m\u001b[1;33m\u001b[0m\u001b[0m\n\u001b[0m\u001b[0;32m    621\u001b[0m \u001b[1;33m\u001b[0m\u001b[0m\n\u001b[0;32m    622\u001b[0m         \u001b[1;31m# note this function has side effects\u001b[0m\u001b[1;33m\u001b[0m\u001b[1;33m\u001b[0m\u001b[1;33m\u001b[0m\u001b[0m\n",
      "\u001b[1;32mD:\\Anaconda64\\lib\\site-packages\\pandas\\core\\reshape\\merge.py\u001b[0m in \u001b[0;36m_validate_specification\u001b[1;34m(self)\u001b[0m\n\u001b[0;32m   1196\u001b[0m                             \u001b[0mron\u001b[0m\u001b[1;33m=\u001b[0m\u001b[0mself\u001b[0m\u001b[1;33m.\u001b[0m\u001b[0mright_on\u001b[0m\u001b[1;33m,\u001b[0m\u001b[1;33m\u001b[0m\u001b[1;33m\u001b[0m\u001b[0m\n\u001b[0;32m   1197\u001b[0m                             \u001b[0mlidx\u001b[0m\u001b[1;33m=\u001b[0m\u001b[0mself\u001b[0m\u001b[1;33m.\u001b[0m\u001b[0mleft_index\u001b[0m\u001b[1;33m,\u001b[0m\u001b[1;33m\u001b[0m\u001b[1;33m\u001b[0m\u001b[0m\n\u001b[1;32m-> 1198\u001b[1;33m                             \u001b[0mridx\u001b[0m\u001b[1;33m=\u001b[0m\u001b[0mself\u001b[0m\u001b[1;33m.\u001b[0m\u001b[0mright_index\u001b[0m\u001b[1;33m,\u001b[0m\u001b[1;33m\u001b[0m\u001b[1;33m\u001b[0m\u001b[0m\n\u001b[0m\u001b[0;32m   1199\u001b[0m                         )\n\u001b[0;32m   1200\u001b[0m                     )\n",
      "\u001b[1;31mMergeError\u001b[0m: No common columns to perform merge on. Merge options: left_on=None, right_on=None, left_index=False, right_index=False"
     ]
    }
   ],
   "source": [
    "data = pd.merge(year, temp)\n"
   ]
  },
  {
   "cell_type": "code",
   "execution_count": 57,
   "metadata": {},
   "outputs": [
    {
     "data": {
      "application/javascript": [
       "const spec = {\"$schema\": \"https://vega.github.io/schema/vega-lite/v3.json\", \"mark\": \"point\", \"encoding\": {\"y\": {\"type\": \"quantitative\", \"field\": \"Life Expect\", \"scale\": {\"domain\": [70, 90]}}, \"x\": {\"type\": \"quantitative\", \"field\": \"Income\"}, \"tooltip\": {\"field\": \"Country\"}}, \"data\": {\"values\": [{\"Temperature - (Celsius)\": 1.4848700000000001}, {\"Temperature - (Celsius)\": -2.0819}, {\"Temperature - (Celsius)\": 6.90307}, {\"Temperature - (Celsius)\": 7.5254199999999996}, {\"Temperature - (Celsius)\": 9.68688}, {\"Temperature - (Celsius)\": 13.6634}, {\"Temperature - (Celsius)\": 19.3736}, {\"Temperature - (Celsius)\": 18.4503}, {\"Temperature - (Celsius)\": 15.5177}, {\"Temperature - (Celsius)\": 8.65508}, {\"Temperature - (Celsius)\": 4.15534}, {\"Temperature - (Celsius)\": 0.8443}, {\"Temperature - (Celsius)\": 0.98231}, {\"Temperature - (Celsius)\": 2.95}, {\"Temperature - (Celsius)\": 5.2333099999999995}, {\"Temperature - (Celsius)\": 8.23376}, {\"Temperature - (Celsius)\": 14.6344}, {\"Temperature - (Celsius)\": 17.4033}, {\"Temperature - (Celsius)\": 18.9612}, {\"Temperature - (Celsius)\": 19.5091}, {\"Temperature - (Celsius)\": 14.0234}, {\"Temperature - (Celsius)\": 6.828239999999999}, {\"Temperature - (Celsius)\": 5.5534300000000005}, {\"Temperature - (Celsius)\": 1.42945}, {\"Temperature - (Celsius)\": 2.32586}, {\"Temperature - (Celsius)\": -0.2317}, {\"Temperature - (Celsius)\": 4.07958}, {\"Temperature - (Celsius)\": 10.5163}, {\"Temperature - (Celsius)\": 14.758}, {\"Temperature - (Celsius)\": 15.8322}, {\"Temperature - (Celsius)\": 16.3125}, {\"Temperature - (Celsius)\": 16.3155}, {\"Temperature - (Celsius)\": 12.665999999999999}, {\"Temperature - (Celsius)\": 8.27415}, {\"Temperature - (Celsius)\": 0.7578699999999999}, {\"Temperature - (Celsius)\": 3.00126}, {\"Temperature - (Celsius)\": 2.75442}, {\"Temperature - (Celsius)\": -0.0078}, {\"Temperature - (Celsius)\": 6.61274}, {\"Temperature - (Celsius)\": 8.32127}, {\"Temperature - (Celsius)\": 12.6663}, {\"Temperature - (Celsius)\": 15.963}, {\"Temperature - (Celsius)\": 21.4451}, {\"Temperature - (Celsius)\": 18.336}, {\"Temperature - (Celsius)\": 13.7396}, {\"Temperature - (Celsius)\": 8.14592}, {\"Temperature - (Celsius)\": 7.08438}, {\"Temperature - (Celsius)\": 3.50984}, {\"Temperature - (Celsius)\": 0.192}, {\"Temperature - (Celsius)\": 4.56621}, {\"Temperature - (Celsius)\": 3.5203300000000004}, {\"Temperature - (Celsius)\": 8.61766}, {\"Temperature - (Celsius)\": 12.4538}, {\"Temperature - (Celsius)\": 14.4846}, {\"Temperature - (Celsius)\": 20.309}, {\"Temperature - (Celsius)\": 18.7654}, {\"Temperature - (Celsius)\": 13.038}, {\"Temperature - (Celsius)\": 12.1808}, {\"Temperature - (Celsius)\": 3.29941}, {\"Temperature - (Celsius)\": -1.7944}, {\"Temperature - (Celsius)\": -2.5147}, {\"Temperature - (Celsius)\": -2.0752}, {\"Temperature - (Celsius)\": 1.34697}, {\"Temperature - (Celsius)\": 8.878810000000001}, {\"Temperature - (Celsius)\": 11.2354}, {\"Temperature - (Celsius)\": 15.7454}, {\"Temperature - (Celsius)\": 16.1285}, {\"Temperature - (Celsius)\": 17.5631}, {\"Temperature - (Celsius)\": 11.3604}, {\"Temperature - (Celsius)\": 9.57887}, {\"Temperature - (Celsius)\": 4.6401900000000005}, {\"Temperature - (Celsius)\": -1.9799}, {\"Temperature - (Celsius)\": -2.2574}, {\"Temperature - (Celsius)\": 4.09781}, {\"Temperature - (Celsius)\": 6.15298}, {\"Temperature - (Celsius)\": 6.7102}, {\"Temperature - (Celsius)\": 12.7419}, {\"Temperature - (Celsius)\": 15.9529}, {\"Temperature - (Celsius)\": 17.3742}, {\"Temperature - (Celsius)\": 20.0751}, {\"Temperature - (Celsius)\": 14.5392}, {\"Temperature - (Celsius)\": 8.11686}, {\"Temperature - (Celsius)\": 4.233969999999999}, {\"Temperature - (Celsius)\": 2.1884799999999998}, {\"Temperature - (Celsius)\": 2.32611}, {\"Temperature - (Celsius)\": 4.64229}, {\"Temperature - (Celsius)\": 5.21223}, {\"Temperature - (Celsius)\": 9.1235}, {\"Temperature - (Celsius)\": 14.1495}, {\"Temperature - (Celsius)\": 16.5592}, {\"Temperature - (Celsius)\": 16.6749}, {\"Temperature - (Celsius)\": 17.2113}, {\"Temperature - (Celsius)\": 13.832}, {\"Temperature - (Celsius)\": 8.85469}, {\"Temperature - (Celsius)\": 1.63799}, {\"Temperature - (Celsius)\": 1.03189}, {\"Temperature - (Celsius)\": 2.5505400000000003}, {\"Temperature - (Celsius)\": 0.48871000000000003}, {\"Temperature - (Celsius)\": 5.7500800000000005}, {\"Temperature - (Celsius)\": 9.22247}, {\"Temperature - (Celsius)\": 13.8271}, {\"Temperature - (Celsius)\": 15.3925}, {\"Temperature - (Celsius)\": 19.2112}, {\"Temperature - (Celsius)\": 17.6556}, {\"Temperature - (Celsius)\": 17.2506}, {\"Temperature - (Celsius)\": 9.42738}, {\"Temperature - (Celsius)\": 3.7531800000000004}, {\"Temperature - (Celsius)\": 2.08065}, {\"Temperature - (Celsius)\": 0.99116}, {\"Temperature - (Celsius)\": 3.84975}, {\"Temperature - (Celsius)\": 5.3741900000000005}, {\"Temperature - (Celsius)\": 10.5112}, {\"Temperature - (Celsius)\": 14.8349}, {\"Temperature - (Celsius)\": 17.0415}, {\"Temperature - (Celsius)\": 15.4879}, {\"Temperature - (Celsius)\": 18.121}, {\"Temperature - (Celsius)\": 14.4642}, {\"Temperature - (Celsius)\": 10.9491}, {\"Temperature - (Celsius)\": 6.34026}, {\"Temperature - (Celsius)\": 3.22687}, {\"Temperature - (Celsius)\": 0.85336}, {\"Temperature - (Celsius)\": 2.25805}, {\"Temperature - (Celsius)\": 4.46286}, {\"Temperature - (Celsius)\": 7.351430000000001}, {\"Temperature - (Celsius)\": 14.3456}, {\"Temperature - (Celsius)\": 14.3906}, {\"Temperature - (Celsius)\": 18.6713}, {\"Temperature - (Celsius)\": 18.965999999999998}, {\"Temperature - (Celsius)\": 12.2053}, {\"Temperature - (Celsius)\": 12.8681}, {\"Temperature - (Celsius)\": 4.06855}, {\"Temperature - (Celsius)\": -0.213}, {\"Temperature - (Celsius)\": 1.3282399999999999}, {\"Temperature - (Celsius)\": 5.07068}, {\"Temperature - (Celsius)\": 5.85789}, {\"Temperature - (Celsius)\": 8.287139999999999}, {\"Temperature - (Celsius)\": 13.8723}, {\"Temperature - (Celsius)\": 17.3874}, {\"Temperature - (Celsius)\": 17.9755}, {\"Temperature - (Celsius)\": 19.1303}, {\"Temperature - (Celsius)\": 13.7999}, {\"Temperature - (Celsius)\": 8.5067}, {\"Temperature - (Celsius)\": 5.57759}, {\"Temperature - (Celsius)\": 0.26687}, {\"Temperature - (Celsius)\": -0.3802}, {\"Temperature - (Celsius)\": -1.5355}, {\"Temperature - (Celsius)\": 5.70674}, {\"Temperature - (Celsius)\": 8.67057}, {\"Temperature - (Celsius)\": 14.2349}, {\"Temperature - (Celsius)\": 18.7076}, {\"Temperature - (Celsius)\": 19.2196}, {\"Temperature - (Celsius)\": 20.3726}, {\"Temperature - (Celsius)\": 14.5926}, {\"Temperature - (Celsius)\": 6.3234699999999995}, {\"Temperature - (Celsius)\": 6.323230000000001}, {\"Temperature - (Celsius)\": 2.02609}, {\"Temperature - (Celsius)\": -0.4646}, {\"Temperature - (Celsius)\": 2.45376}, {\"Temperature - (Celsius)\": 4.5469800000000005}, {\"Temperature - (Celsius)\": 9.53915}, {\"Temperature - (Celsius)\": 11.7282}, {\"Temperature - (Celsius)\": 15.3851}, {\"Temperature - (Celsius)\": 16.9573}, {\"Temperature - (Celsius)\": 18.7985}, {\"Temperature - (Celsius)\": 14.605}, {\"Temperature - (Celsius)\": 10.4812}, {\"Temperature - (Celsius)\": 4.442419999999999}, {\"Temperature - (Celsius)\": 1.37016}, {\"Temperature - (Celsius)\": 1.871}, {\"Temperature - (Celsius)\": -0.9179}, {\"Temperature - (Celsius)\": 3.96434}, {\"Temperature - (Celsius)\": 9.53416}, {\"Temperature - (Celsius)\": 12.9716}, {\"Temperature - (Celsius)\": 16.4949}, {\"Temperature - (Celsius)\": 18.2616}, {\"Temperature - (Celsius)\": 16.1995}, {\"Temperature - (Celsius)\": 15.6133}, {\"Temperature - (Celsius)\": 11.5465}, {\"Temperature - (Celsius)\": 4.52576}, {\"Temperature - (Celsius)\": 0.77854}, {\"Temperature - (Celsius)\": -2.4018}, {\"Temperature - (Celsius)\": -0.1917}, {\"Temperature - (Celsius)\": 1.95718}, {\"Temperature - (Celsius)\": 8.38739}, {\"Temperature - (Celsius)\": 13.2208}, {\"Temperature - (Celsius)\": 17.0143}, {\"Temperature - (Celsius)\": 21.5847}, {\"Temperature - (Celsius)\": 15.9788}, {\"Temperature - (Celsius)\": 17.4446}, {\"Temperature - (Celsius)\": 12.5353}, {\"Temperature - (Celsius)\": 7.380780000000001}, {\"Temperature - (Celsius)\": 4.585319999999999}, {\"Temperature - (Celsius)\": 4.549580000000001}, {\"Temperature - (Celsius)\": 3.9122199999999996}, {\"Temperature - (Celsius)\": 6.592169999999999}, {\"Temperature - (Celsius)\": 11.7634}, {\"Temperature - (Celsius)\": 14.3444}, {\"Temperature - (Celsius)\": 17.5587}, {\"Temperature - (Celsius)\": 17.5163}, {\"Temperature - (Celsius)\": 17.3788}, {\"Temperature - (Celsius)\": 13.0917}, {\"Temperature - (Celsius)\": 8.79166}, {\"Temperature - (Celsius)\": 3.9106300000000003}, {\"Temperature - (Celsius)\": 1.59801}, {\"Temperature - (Celsius)\": 3.51969}, {\"Temperature - (Celsius)\": 3.99911}, {\"Temperature - (Celsius)\": 4.52641}, {\"Temperature - (Celsius)\": 8.04192}, {\"Temperature - (Celsius)\": 14.7398}, {\"Temperature - (Celsius)\": 17.1685}, {\"Temperature - (Celsius)\": 18.3056}, {\"Temperature - (Celsius)\": 17.8396}, {\"Temperature - (Celsius)\": 13.0559}, {\"Temperature - (Celsius)\": 9.52568}, {\"Temperature - (Celsius)\": 5.31386}, {\"Temperature - (Celsius)\": 1.13794}, {\"Temperature - (Celsius)\": -1.7876}, {\"Temperature - (Celsius)\": 0.68681}, {\"Temperature - (Celsius)\": 4.6636}, {\"Temperature - (Celsius)\": 11.9525}, {\"Temperature - (Celsius)\": 13.9082}, {\"Temperature - (Celsius)\": 15.1022}, {\"Temperature - (Celsius)\": 18.4188}, {\"Temperature - (Celsius)\": 19.2911}, {\"Temperature - (Celsius)\": 15.3077}, {\"Temperature - (Celsius)\": 8.505360000000001}, {\"Temperature - (Celsius)\": 7.569189999999999}, {\"Temperature - (Celsius)\": 0.26605999999999996}, {\"Temperature - (Celsius)\": -3.635}, {\"Temperature - (Celsius)\": -0.2801}, {\"Temperature - (Celsius)\": 4.55701}, {\"Temperature - (Celsius)\": 9.17569}, {\"Temperature - (Celsius)\": 10.6928}, {\"Temperature - (Celsius)\": 16.6074}, {\"Temperature - (Celsius)\": 20.7175}, {\"Temperature - (Celsius)\": 17.2285}, {\"Temperature - (Celsius)\": 13.0015}, {\"Temperature - (Celsius)\": 8.50877}, {\"Temperature - (Celsius)\": 4.81819}, {\"Temperature - (Celsius)\": -3.4803}, {\"Temperature - (Celsius)\": 0.9319799999999999}, {\"Temperature - (Celsius)\": 1.09535}, {\"Temperature - (Celsius)\": 5.38851}, {\"Temperature - (Celsius)\": 11.9437}, {\"Temperature - (Celsius)\": 14.2335}, {\"Temperature - (Celsius)\": 16.8458}, {\"Temperature - (Celsius)\": 16.458}, {\"Temperature - (Celsius)\": 18.1577}, {\"Temperature - (Celsius)\": 15.8767}, {\"Temperature - (Celsius)\": 9.915339999999999}, {\"Temperature - (Celsius)\": 5.29363}, {\"Temperature - (Celsius)\": 3.73693}, {\"Temperature - (Celsius)\": 1.74032}, {\"Temperature - (Celsius)\": -2.3142}, {\"Temperature - (Celsius)\": 7.4173}, {\"Temperature - (Celsius)\": 8.5375}, {\"Temperature - (Celsius)\": 14.3825}, {\"Temperature - (Celsius)\": 15.798}, {\"Temperature - (Celsius)\": 17.7462}, {\"Temperature - (Celsius)\": 19.0026}, {\"Temperature - (Celsius)\": 14.3637}, {\"Temperature - (Celsius)\": 9.30844}, {\"Temperature - (Celsius)\": 5.61228}, {\"Temperature - (Celsius)\": 1.37571}, {\"Temperature - (Celsius)\": 0.035660000000000004}, {\"Temperature - (Celsius)\": -0.6108}, {\"Temperature - (Celsius)\": 0.61037}, {\"Temperature - (Celsius)\": 8.58867}, {\"Temperature - (Celsius)\": 12.0077}, {\"Temperature - (Celsius)\": 15.9493}, {\"Temperature - (Celsius)\": 19.8658}, {\"Temperature - (Celsius)\": 18.5311}, {\"Temperature - (Celsius)\": 13.7436}, {\"Temperature - (Celsius)\": 11.0472}, {\"Temperature - (Celsius)\": 4.83365}, {\"Temperature - (Celsius)\": 3.6905099999999997}, {\"Temperature - (Celsius)\": 1.9974}, {\"Temperature - (Celsius)\": 4.47936}, {\"Temperature - (Celsius)\": 7.51255}, {\"Temperature - (Celsius)\": 11.1613}, {\"Temperature - (Celsius)\": 12.6388}, {\"Temperature - (Celsius)\": 16.4959}, {\"Temperature - (Celsius)\": 19.6139}, {\"Temperature - (Celsius)\": 16.4512}, {\"Temperature - (Celsius)\": 15.4692}, {\"Temperature - (Celsius)\": 12.2244}, {\"Temperature - (Celsius)\": 6.94718}, {\"Temperature - (Celsius)\": 2.63425}, {\"Temperature - (Celsius)\": 2.02066}, {\"Temperature - (Celsius)\": 1.23194}, {\"Temperature - (Celsius)\": 5.65541}, {\"Temperature - (Celsius)\": 8.948789999999999}, {\"Temperature - (Celsius)\": 12.6669}, {\"Temperature - (Celsius)\": 16.13}, {\"Temperature - (Celsius)\": 19.7285}, {\"Temperature - (Celsius)\": 20.1928}, {\"Temperature - (Celsius)\": 13.5237}, {\"Temperature - (Celsius)\": 8.831760000000001}, {\"Temperature - (Celsius)\": 7.7607800000000005}, {\"Temperature - (Celsius)\": 6.5727199999999995}, {\"Temperature - (Celsius)\": 0.9028299999999999}, {\"Temperature - (Celsius)\": 3.35926}, {\"Temperature - (Celsius)\": 4.4341}, {\"Temperature - (Celsius)\": 8.43469}, {\"Temperature - (Celsius)\": 13.9283}, {\"Temperature - (Celsius)\": 17.0835}, {\"Temperature - (Celsius)\": 18.9488}, {\"Temperature - (Celsius)\": 18.2881}, {\"Temperature - (Celsius)\": 17.4607}, {\"Temperature - (Celsius)\": 8.68213}, {\"Temperature - (Celsius)\": 4.4702}, {\"Temperature - (Celsius)\": 2.6008}]}};\n",
       "const opt = {};\n",
       "const type = \"vega-lite\";\n",
       "const id = \"822c50dd-6a9c-4b9a-9a3c-84ea21649774\";\n",
       "\n",
       "const output_area = this;\n",
       "\n",
       "require([\"nbextensions/jupyter-vega/index\"], function(vega) {\n",
       "  const target = document.createElement(\"div\");\n",
       "  target.id = id;\n",
       "  target.className = \"vega-embed\";\n",
       "\n",
       "  const style = document.createElement(\"style\");\n",
       "  style.textContent = [\n",
       "    \".vega-embed .error p {\",\n",
       "    \"  color: firebrick;\",\n",
       "    \"  font-size: 14px;\",\n",
       "    \"}\",\n",
       "  ].join(\"\\\\n\");\n",
       "\n",
       "  // element is a jQuery wrapped DOM element inside the output area\n",
       "  // see http://ipython.readthedocs.io/en/stable/api/generated/\\\n",
       "  // IPython.display.html#IPython.display.Javascript.__init__\n",
       "  element[0].appendChild(target);\n",
       "  element[0].appendChild(style);\n",
       "\n",
       "  vega.render(\"#\" + id, spec, type, opt, output_area);\n",
       "}, function (err) {\n",
       "  if (err.requireType !== \"scripterror\") {\n",
       "    throw(err);\n",
       "  }\n",
       "});\n"
      ],
      "text/plain": [
       "<vega.vegalite.VegaLite at 0x1e40983b688>"
      ]
     },
     "execution_count": 57,
     "metadata": {
      "jupyter-vega": "#822c50dd-6a9c-4b9a-9a3c-84ea21649774"
     },
     "output_type": "execute_result"
    }
   ],
   "source": [
    "VegaLite({\n",
    "\"$schema\": \"https://vega.github.io/schema/vega-lite/v3.json\",\n",
    "\"mark\": \"point\",\n",
    "\"encoding\": {\n",
    "\"y\": {\"type\": \"quantitative\", \"field\": \"Life Expect\", \"scale\": {\"domain\": [70, 90]}},\n",
    "\"x\": {\"type\": \"quantitative\", \"field\": \"Income\"},\n",
    "\"tooltip\": {\"field\": \"Country\"}\n",
    "}\n",
    "}, temp)"
   ]
  },
  {
   "cell_type": "code",
   "execution_count": null,
   "metadata": {},
   "outputs": [],
   "source": [
    "data.rename(columns={'Value_x': 'Income', 'Value_y': 'Satisfaction'}, inplace=True)\n",
    "data.sort_values(by='Income', inplace=True)"
   ]
  },
  {
   "cell_type": "code",
   "execution_count": null,
   "metadata": {},
   "outputs": [],
   "source": []
  },
  {
   "cell_type": "code",
   "execution_count": 8,
   "metadata": {},
   "outputs": [],
   "source": [
    "import matplotlib as plt"
   ]
  },
  {
   "cell_type": "code",
   "execution_count": null,
   "metadata": {},
   "outputs": [],
   "source": []
  },
  {
   "cell_type": "code",
   "execution_count": null,
   "metadata": {},
   "outputs": [],
   "source": []
  },
  {
   "cell_type": "code",
   "execution_count": null,
   "metadata": {},
   "outputs": [],
   "source": []
  },
  {
   "cell_type": "code",
   "execution_count": null,
   "metadata": {},
   "outputs": [],
   "source": []
  },
  {
   "cell_type": "code",
   "execution_count": null,
   "metadata": {},
   "outputs": [],
   "source": []
  }
 ],
 "metadata": {
  "kernelspec": {
   "display_name": "Python 3",
   "language": "python",
   "name": "python3"
  },
  "language_info": {
   "codemirror_mode": {
    "name": "ipython",
    "version": 3
   },
   "file_extension": ".py",
   "mimetype": "text/x-python",
   "name": "python",
   "nbconvert_exporter": "python",
   "pygments_lexer": "ipython3",
   "version": "3.7.6"
  }
 },
 "nbformat": 4,
 "nbformat_minor": 4
}
