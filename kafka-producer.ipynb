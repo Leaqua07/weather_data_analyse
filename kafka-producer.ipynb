{
 "cells": [
  {
   "cell_type": "code",
   "execution_count": null,
   "metadata": {},
   "outputs": [],
   "source": [
    "from kafka import KafkaProducer\n",
    "from wetterdienst.dwd.observations import DWDObservationData, DWDObservationParameterSet, DWDObservationResolution\n",
    "from pymongo import MongoClient\n",
    "import csv\n",
    "\n",
    "client = MongoClient('mongodb://localhost:27017/')\n",
    "stations = client.bda.stations.find({}, {'STATION_ID':1, \"_id\":0})\n"
   ]
  },
  {
   "cell_type": "code",
   "execution_count": null,
   "metadata": {
    "tags": []
   },
   "outputs": [],
   "source": [
    "producer = KafkaProducer()\n",
    "\n",
    "def on_send_success(record_metadata):\n",
    "    j = 0\n",
    "    print(record_metadata.topic)\n",
    "    print(record_metadata.partition)\n",
    "    print(record_metadata.offset)\n",
    "\n",
    "def on_send_error(excp):\n",
    "    log.error('I am an errback', exc_info=excp)\n",
    "    # handle exception\n",
    "\n",
    "for station in stations:\n",
    "    station_id = station['STATION_ID']\n",
    "\n",
    "    observations = DWDObservationData(\n",
    "    station_ids=[station_id],\n",
    "    parameters=[DWDObservationParameterSet.TEMPERATURE_AIR],\n",
    "    resolution=DWDObservationResolution.HOURLY,\n",
    "    start_date=\"2020-07-01\",\n",
    "    end_date=\"2020-08-31\",\n",
    "    tidy_data=True,\n",
    "    humanize_column_names=True,\n",
    "    )\n",
    "\n",
    "    print(type(DWDObservationParameterSet.TEMPERATURE_AIR))\n",
    "\n",
    "    for df in observations.collect_data():\n",
    "        df = df[df['ELEMENT'].str.match('TEMPERATURE_AIR_200')]\n",
    "        raw = df.to_csv()\n",
    "        lines = csv.reader(raw.splitlines()[1:])\n",
    "\n",
    "        for i, line in enumerate(lines):\n",
    "            producer.send('weather', value=bytearray(str(line).strip('[]'), encoding='utf-8'), key=bytearray(str(i), encoding='utf-8')).add_callback(on_send_success).add_errback(on_send_error)"
   ]
  },
  {
   "cell_type": "code",
   "execution_count": null,
   "metadata": {},
   "outputs": [],
   "source": []
  }
 ],
 "metadata": {
  "kernelspec": {
   "name": "Python 3.8.6 64-bit ('bda_weather': conda)",
   "display_name": "Python 3.8.6 64-bit ('bda_weather': conda)",
   "metadata": {
    "interpreter": {
     "hash": "1a2011855963c8613e8c769dacfcfe20b6ba1ba0a6cae430e4e70958e468a68e"
    }
   }
  },
  "language_info": {
   "codemirror_mode": {
    "name": "ipython",
    "version": 3
   },
   "file_extension": ".py",
   "mimetype": "text/x-python",
   "name": "python",
   "nbconvert_exporter": "python",
   "pygments_lexer": "ipython3",
   "version": "3.8.6-final"
  }
 },
 "nbformat": 4,
 "nbformat_minor": 2
}