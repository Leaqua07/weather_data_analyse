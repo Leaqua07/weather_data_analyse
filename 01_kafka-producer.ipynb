{
 "cells": [
  {
   "cell_type": "code",
   "execution_count": null,
   "metadata": {
    "tags": []
   },
   "outputs": [],
   "source": [
    "from kafka import KafkaConsumer\n",
    "from pymongo import MongoClient\n",
    "import datetime as dt\n",
    "\n",
    "consumer = KafkaConsumer('weather')\n",
    "\n",
    "client = MongoClient('mongodb://localhost:27017/')\n",
    "weather = client.bda.weather\n",
    "weather.delete_many({})\n",
    "\n",
    "for message in consumer:\n",
    "    try:\n",
    "        values = message.value.decode('utf-8').split(', ')\n",
    "        station_id = int(values[1].strip(\"\\'\"))\n",
    "        temperature = float(values[5].strip(\"\\'\"))\n",
    "        date = dt.datetime.strptime(values[2].strip(\"\\'\"),\"%Y-%m-%d %H:%M:%S\")\n",
    "    except:\n",
    "        print('An Error occurred processing data. Skipping...')\n",
    "        continue\n",
    "\n",
    "    weather.insert_one({\n",
    "        'station_id': station_id,\n",
    "        'date': date,\n",
    "        'temperature': temperature\n",
    "        })"
   ]
  },
  {
   "cell_type": "code",
   "execution_count": null,
   "metadata": {},
   "outputs": [],
   "source": []
  }
 ],
 "metadata": {
  "kernelspec": {
   "display_name": "Python 3",
   "language": "python",
   "name": "python3"
  },
  "language_info": {
   "codemirror_mode": {
    "name": "ipython",
    "version": 3
   },
   "file_extension": ".py",
   "mimetype": "text/x-python",
   "name": "python",
   "nbconvert_exporter": "python",
   "pygments_lexer": "ipython3",
   "version": "3.7.6"
  }
 },
 "nbformat": 4,
 "nbformat_minor": 2
}
