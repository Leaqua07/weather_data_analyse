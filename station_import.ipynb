{
 "cells": [
  {
   "source": [
    "*von Benedikt Funke*\n",
    "\n",
    "### Einfügen von Stationsdaten in die MongoDB\n",
    "\n",
    "Eine entscheidende Datengrundlage bilden die Stationsdaten der einzelnen Wetterstationen. Anhand derer Koordinaten werden beipsi"
   ],
   "cell_type": "markdown",
   "metadata": {}
  },
  {
   "cell_type": "code",
   "execution_count": 2,
   "metadata": {},
   "outputs": [],
   "source": [
    "from wetterdienst.dwd.observations import DWDObservationSites, DWDObservationParameterSet, DWDObservationPeriod, DWDObservationResolution\n",
    "from pymongo import MongoClient\n",
    "\n",
    "sites = DWDObservationSites(\n",
    "    parameter_set=DWDObservationParameterSet.TEMPERATURE_AIR,\n",
    "    resolution=DWDObservationResolution.HOURLY,\n",
    "    start_date=\"2020-07-01\",\n",
    "    end_date=\"2020_08-31\",\n",
    "    period=DWDObservationPeriod.HISTORICAL\n",
    ")\n",
    "df = sites.all()\n",
    "df.head()\n",
    "df_dict = df.to_dict(\"records\")\n",
    "\n",
    "client = MongoClient('mongodb://localhost:27017/')\n",
    "stations = client.bda.stations\n",
    "stations.delete_many({})\n",
    "\n",
    "stations.insert_many(df_dict)\n",
    "client.close()"
   ]
  },
  {
   "cell_type": "code",
   "execution_count": null,
   "metadata": {},
   "outputs": [],
   "source": []
  }
 ],
 "metadata": {
  "kernelspec": {
   "name": "Python 3.8.6 64-bit",
   "display_name": "Python 3.8.6 64-bit",
   "metadata": {
    "interpreter": {
     "hash": "2db524e06e9f5f4ffedc911c917cb75e12dbc923643829bf417064a77eb14d37"
    }
   }
  },
  "language_info": {
   "codemirror_mode": {
    "name": "ipython",
    "version": 3
   },
   "file_extension": ".py",
   "mimetype": "text/x-python",
   "name": "python",
   "nbconvert_exporter": "python",
   "pygments_lexer": "ipython3",
   "version": "3.8.6-final"
  }
 },
 "nbformat": 4,
 "nbformat_minor": 2
}