{
 "cells": [
  {
   "cell_type": "code",
   "execution_count": null,
   "metadata": {},
   "outputs": [],
   "source": [
    "from wetterdienst.dwd.observations import DWDObservationSites, DWDObservationParameterSet, DWDObservationPeriod, DWDObservationResolution\n",
    "from pymongo import MongoClient"
   ]
  },
  {
   "source": [
    "### Insert Station Data to MongoDB\n",
    "\n",
    "Abrufen aller Stationen mit stündlichen Wetterdaten zwischen dem 01.07.2020 und dem 31.08.2020 von der *wetterdienst*-API und speichern in der MongoDB"
   ],
   "cell_type": "markdown",
   "metadata": {}
  },
  {
   "cell_type": "code",
   "execution_count": null,
   "metadata": {},
   "outputs": [],
   "source": [
    "sites = DWDObservationSites(\n",
    "    parameter_set=DWDObservationParameterSet.TEMPERATURE_AIR,\n",
    "    resolution=DWDObservationResolution.HOURLY,\n",
    "    start_date=\"2020-07-01\",\n",
    "    end_date=\"2020_08-31\",\n",
    "    period=DWDObservationPeriod.HISTORICAL\n",
    ")\n",
    "df = sites.all()\n",
    "df.head()\n",
    "df_dict = df.to_dict(\"records\")\n",
    "\n",
    "client = MongoClient('mongodb://localhost:27017/')\n",
    "stations = client.bda.stations\n",
    "\n",
    "stations.insert_many(df_dict)"
   ]
  }
 ],
 "metadata": {
  "kernelspec": {
   "name": "Python 3.7.6 64-bit ('base': conda)",
   "display_name": "Python 3.7.6 64-bit ('base': conda)",
   "metadata": {
    "interpreter": {
     "hash": "98b0a9b7b4eaaa670588a142fd0a9b87eaafe866f1db4228be72b4211d12040f"
    }
   }
  },
  "language_info": {
   "codemirror_mode": {
    "name": "ipython",
    "version": 3
   },
   "file_extension": ".py",
   "mimetype": "text/x-python",
   "name": "python",
   "nbconvert_exporter": "python",
   "pygments_lexer": "ipython3",
   "version": "3.7.6-final"
  }
 },
 "nbformat": 4,
 "nbformat_minor": 2
}