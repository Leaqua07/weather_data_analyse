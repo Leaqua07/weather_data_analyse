{
 "cells": [
  {
   "cell_type": "markdown",
   "metadata": {},
   "source": [
    "# Darstellung des Temperaturverlaufes von 24h an einer Wetterstation"
   ]
  },
  {
   "cell_type": "markdown",
   "metadata": {},
   "source": [
    "Von Lea Pellikan   |   Matrikel-Nr.: 3062311   |   Abgabe: 15.11.2020"
   ]
  },
  {
   "cell_type": "markdown",
   "metadata": {},
   "source": [
    "Im folgendem Jupyter Notebook soll ein Balkendiagramm erstellt werden, das den stündlichen Temperaturverlauf eines ausgewählten Tages an einer ausgewählten Wetterstation darstellt. \n",
    "\n",
    "Die dafür verwendeten Daten stammen von der Quelle https://wetterdienst.readthedocs.io/en/latest/pages/api.html. Diese Quelle wird vom Deutschen Wetterdienst (DWD) gepflegt und stellt, unter anderem, die stündlich gemessenen Temperaturen von allen Wetterstationen in Deutschland zur Verfügung.  \n",
    "\n",
    "Die Daten wurden aus Performanz Gründen nicht direkt von Kafka importiert, sondern per CSV-Datei in einer MongoDB gespeichert. Aus der Datenbank werden die benötigten Daten ausgelesen."
   ]
  },
  {
   "cell_type": "markdown",
   "metadata": {},
   "source": [
    "## 1. Import der Libraries"
   ]
  },
  {
   "cell_type": "markdown",
   "metadata": {},
   "source": [
    "Im Folgenden wird die Library `pymongo` für die Verbindung zur MongoDB verwendet und `pandas` für das Verarbeiten der Collection. Außerdem wird `plotly.express` zur Darstellung der Daten verwendet. "
   ]
  },
  {
   "cell_type": "code",
   "execution_count": 26,
   "metadata": {},
   "outputs": [],
   "source": [
    "import pandas as pd\n",
    "import plotly.express as px\n",
    "from pymongo import MongoClient"
   ]
  },
  {
   "cell_type": "markdown",
   "metadata": {},
   "source": [
    "## 2. Verbindungsaufbau und Datenauslesung der MongoDB"
   ]
  },
  {
   "cell_type": "markdown",
   "metadata": {},
   "source": [
    "Der folgende Code baut die Verbindung zur MongoDB auf, wobei die Library `pymongo` verwendet wird, die durch Docker realisiert ist."
   ]
  },
  {
   "cell_type": "code",
   "execution_count": 27,
   "metadata": {},
   "outputs": [],
   "source": [
    "client = MongoClient('mongodb://localhost:27017/')\n",
    "stations = client.bda.stations\n",
    "weather = client.bda.weather"
   ]
  },
  {
   "cell_type": "markdown",
   "metadata": {},
   "source": [
    "Die Methode **get_collection** erstellt ein Dictionary aus der Collection, die ausgelesen wurde."
   ]
  },
  {
   "cell_type": "code",
   "execution_count": 28,
   "metadata": {},
   "outputs": [],
   "source": [
    "def get_collection(collection):\n",
    "    documents = []\n",
    "    cursor = collection.find({})\n",
    "    for document in cursor:\n",
    "        documents.append(document)\n",
    "    return documents"
   ]
  },
  {
   "cell_type": "markdown",
   "metadata": {},
   "source": [
    "Im Folgenden wird die Methode **get_collection** verwendet, um mit Hilfe von `pandas` das Dataframe *stations_df* mit den Informationen der Wetterstationen und das Dataframe *weather_df* mit den Wetterinformationen zu füllen. Außerdem wird die Spalte *STATION_ID* zu *station_id* umbenannt, um eine einheitliche Benennung zu erhalten."
   ]
  },
  {
   "cell_type": "code",
   "execution_count": 29,
   "metadata": {},
   "outputs": [],
   "source": [
    "stations_df = pd.DataFrame(get_collection(stations))\n",
    "stations_df = stations_df.rename(columns={\"STATION_ID\": \"station_id\"})"
   ]
  },
  {
   "cell_type": "code",
   "execution_count": 30,
   "metadata": {},
   "outputs": [],
   "source": [
    "weather_df = pd.DataFrame(get_collection(weather))"
   ]
  },
  {
   "cell_type": "markdown",
   "metadata": {},
   "source": [
    "## 3. Mergen und Erläuterung der Daten"
   ]
  },
  {
   "cell_type": "markdown",
   "metadata": {},
   "source": [
    "Danach erfolgt die Zusammenführung der oben erwähnten Dataframes, wobei die station_id das gemeinsame Attribut ist. Wie in der Ausgabe zu sehen ist, enthält das Dataframe jetzt folgende Daten:\n",
    "* die IDs der Wetterstationen (station_id), \n",
    "* das Datum inklusive Uhrzeit, zu dem die folgende Temperatur gemessen wurde (date), \n",
    "* die Zeitspanne des Datensatzes (FROM_DATE, TO_DATE), \n",
    "* das in diesem Beispiel vernachlässigt werden kann, \n",
    "* die Höhe der Messstation (STATION_HEIGHT), \n",
    "* die Koordinaten der Wetterstation (LAT,LON), \n",
    "* den Namen der Station (STATION_NAME) und \n",
    "* das Bundesland, in der die Wetterstation sich befindet (STATE)."
   ]
  },
  {
   "cell_type": "code",
   "execution_count": 31,
   "metadata": {},
   "outputs": [
    {
     "data": {
      "text/html": [
       "<div>\n",
       "<style scoped>\n",
       "    .dataframe tbody tr th:only-of-type {\n",
       "        vertical-align: middle;\n",
       "    }\n",
       "\n",
       "    .dataframe tbody tr th {\n",
       "        vertical-align: top;\n",
       "    }\n",
       "\n",
       "    .dataframe thead th {\n",
       "        text-align: right;\n",
       "    }\n",
       "</style>\n",
       "<table border=\"1\" class=\"dataframe\">\n",
       "  <thead>\n",
       "    <tr style=\"text-align: right;\">\n",
       "      <th></th>\n",
       "      <th>_id_x</th>\n",
       "      <th>station_id</th>\n",
       "      <th>date</th>\n",
       "      <th>temperature</th>\n",
       "      <th>_id_y</th>\n",
       "      <th>FROM_DATE</th>\n",
       "      <th>TO_DATE</th>\n",
       "      <th>STATION_HEIGHT</th>\n",
       "      <th>LAT</th>\n",
       "      <th>LON</th>\n",
       "      <th>STATION_NAME</th>\n",
       "      <th>STATE</th>\n",
       "    </tr>\n",
       "  </thead>\n",
       "  <tbody>\n",
       "    <tr>\n",
       "      <th>0</th>\n",
       "      <td>5faaa32e2c9f790f334cc002</td>\n",
       "      <td>44</td>\n",
       "      <td>2020-07-01 00:00:00</td>\n",
       "      <td>14.1</td>\n",
       "      <td>5fac44ab08a1e8a529a9cab2</td>\n",
       "      <td>2007-04-01</td>\n",
       "      <td>2020-11-10</td>\n",
       "      <td>44.0</td>\n",
       "      <td>52.9336</td>\n",
       "      <td>8.2370</td>\n",
       "      <td>Großenkneten</td>\n",
       "      <td>Niedersachsen</td>\n",
       "    </tr>\n",
       "    <tr>\n",
       "      <th>1</th>\n",
       "      <td>5faaa32e2c9f790f334cc003</td>\n",
       "      <td>44</td>\n",
       "      <td>2020-07-01 01:00:00</td>\n",
       "      <td>13.7</td>\n",
       "      <td>5fac44ab08a1e8a529a9cab2</td>\n",
       "      <td>2007-04-01</td>\n",
       "      <td>2020-11-10</td>\n",
       "      <td>44.0</td>\n",
       "      <td>52.9336</td>\n",
       "      <td>8.2370</td>\n",
       "      <td>Großenkneten</td>\n",
       "      <td>Niedersachsen</td>\n",
       "    </tr>\n",
       "    <tr>\n",
       "      <th>2</th>\n",
       "      <td>5faaa32e2c9f790f334cc004</td>\n",
       "      <td>44</td>\n",
       "      <td>2020-07-01 02:00:00</td>\n",
       "      <td>13.8</td>\n",
       "      <td>5fac44ab08a1e8a529a9cab2</td>\n",
       "      <td>2007-04-01</td>\n",
       "      <td>2020-11-10</td>\n",
       "      <td>44.0</td>\n",
       "      <td>52.9336</td>\n",
       "      <td>8.2370</td>\n",
       "      <td>Großenkneten</td>\n",
       "      <td>Niedersachsen</td>\n",
       "    </tr>\n",
       "    <tr>\n",
       "      <th>3</th>\n",
       "      <td>5faaa32e2c9f790f334cc005</td>\n",
       "      <td>44</td>\n",
       "      <td>2020-07-01 03:00:00</td>\n",
       "      <td>13.8</td>\n",
       "      <td>5fac44ab08a1e8a529a9cab2</td>\n",
       "      <td>2007-04-01</td>\n",
       "      <td>2020-11-10</td>\n",
       "      <td>44.0</td>\n",
       "      <td>52.9336</td>\n",
       "      <td>8.2370</td>\n",
       "      <td>Großenkneten</td>\n",
       "      <td>Niedersachsen</td>\n",
       "    </tr>\n",
       "    <tr>\n",
       "      <th>4</th>\n",
       "      <td>5faaa32e2c9f790f334cc006</td>\n",
       "      <td>44</td>\n",
       "      <td>2020-07-01 04:00:00</td>\n",
       "      <td>14.0</td>\n",
       "      <td>5fac44ab08a1e8a529a9cab2</td>\n",
       "      <td>2007-04-01</td>\n",
       "      <td>2020-11-10</td>\n",
       "      <td>44.0</td>\n",
       "      <td>52.9336</td>\n",
       "      <td>8.2370</td>\n",
       "      <td>Großenkneten</td>\n",
       "      <td>Niedersachsen</td>\n",
       "    </tr>\n",
       "    <tr>\n",
       "      <th>...</th>\n",
       "      <td>...</td>\n",
       "      <td>...</td>\n",
       "      <td>...</td>\n",
       "      <td>...</td>\n",
       "      <td>...</td>\n",
       "      <td>...</td>\n",
       "      <td>...</td>\n",
       "      <td>...</td>\n",
       "      <td>...</td>\n",
       "      <td>...</td>\n",
       "      <td>...</td>\n",
       "      <td>...</td>\n",
       "    </tr>\n",
       "    <tr>\n",
       "      <th>717933</th>\n",
       "      <td>5faaa6892c9f790f3357b46f</td>\n",
       "      <td>15555</td>\n",
       "      <td>2020-08-30 20:00:00</td>\n",
       "      <td>9.0</td>\n",
       "      <td>5fac44ab08a1e8a529a9cc9f</td>\n",
       "      <td>2016-05-01</td>\n",
       "      <td>2020-11-10</td>\n",
       "      <td>815.0</td>\n",
       "      <td>47.8761</td>\n",
       "      <td>10.5849</td>\n",
       "      <td>Kaufbeuren-Oberbeuren</td>\n",
       "      <td>Bayern</td>\n",
       "    </tr>\n",
       "    <tr>\n",
       "      <th>717934</th>\n",
       "      <td>5faaa6892c9f790f3357b470</td>\n",
       "      <td>15555</td>\n",
       "      <td>2020-08-30 21:00:00</td>\n",
       "      <td>9.0</td>\n",
       "      <td>5fac44ab08a1e8a529a9cc9f</td>\n",
       "      <td>2016-05-01</td>\n",
       "      <td>2020-11-10</td>\n",
       "      <td>815.0</td>\n",
       "      <td>47.8761</td>\n",
       "      <td>10.5849</td>\n",
       "      <td>Kaufbeuren-Oberbeuren</td>\n",
       "      <td>Bayern</td>\n",
       "    </tr>\n",
       "    <tr>\n",
       "      <th>717935</th>\n",
       "      <td>5faaa6892c9f790f3357b471</td>\n",
       "      <td>15555</td>\n",
       "      <td>2020-08-30 22:00:00</td>\n",
       "      <td>9.0</td>\n",
       "      <td>5fac44ab08a1e8a529a9cc9f</td>\n",
       "      <td>2016-05-01</td>\n",
       "      <td>2020-11-10</td>\n",
       "      <td>815.0</td>\n",
       "      <td>47.8761</td>\n",
       "      <td>10.5849</td>\n",
       "      <td>Kaufbeuren-Oberbeuren</td>\n",
       "      <td>Bayern</td>\n",
       "    </tr>\n",
       "    <tr>\n",
       "      <th>717936</th>\n",
       "      <td>5faaa6892c9f790f3357b472</td>\n",
       "      <td>15555</td>\n",
       "      <td>2020-08-30 23:00:00</td>\n",
       "      <td>9.0</td>\n",
       "      <td>5fac44ab08a1e8a529a9cc9f</td>\n",
       "      <td>2016-05-01</td>\n",
       "      <td>2020-11-10</td>\n",
       "      <td>815.0</td>\n",
       "      <td>47.8761</td>\n",
       "      <td>10.5849</td>\n",
       "      <td>Kaufbeuren-Oberbeuren</td>\n",
       "      <td>Bayern</td>\n",
       "    </tr>\n",
       "    <tr>\n",
       "      <th>717937</th>\n",
       "      <td>5faaa6892c9f790f3357b473</td>\n",
       "      <td>15555</td>\n",
       "      <td>2020-08-31 00:00:00</td>\n",
       "      <td>9.1</td>\n",
       "      <td>5fac44ab08a1e8a529a9cc9f</td>\n",
       "      <td>2016-05-01</td>\n",
       "      <td>2020-11-10</td>\n",
       "      <td>815.0</td>\n",
       "      <td>47.8761</td>\n",
       "      <td>10.5849</td>\n",
       "      <td>Kaufbeuren-Oberbeuren</td>\n",
       "      <td>Bayern</td>\n",
       "    </tr>\n",
       "  </tbody>\n",
       "</table>\n",
       "<p>717938 rows × 12 columns</p>\n",
       "</div>"
      ],
      "text/plain": [
       "                           _id_x  station_id                date  temperature  \\\n",
       "0       5faaa32e2c9f790f334cc002          44 2020-07-01 00:00:00         14.1   \n",
       "1       5faaa32e2c9f790f334cc003          44 2020-07-01 01:00:00         13.7   \n",
       "2       5faaa32e2c9f790f334cc004          44 2020-07-01 02:00:00         13.8   \n",
       "3       5faaa32e2c9f790f334cc005          44 2020-07-01 03:00:00         13.8   \n",
       "4       5faaa32e2c9f790f334cc006          44 2020-07-01 04:00:00         14.0   \n",
       "...                          ...         ...                 ...          ...   \n",
       "717933  5faaa6892c9f790f3357b46f       15555 2020-08-30 20:00:00          9.0   \n",
       "717934  5faaa6892c9f790f3357b470       15555 2020-08-30 21:00:00          9.0   \n",
       "717935  5faaa6892c9f790f3357b471       15555 2020-08-30 22:00:00          9.0   \n",
       "717936  5faaa6892c9f790f3357b472       15555 2020-08-30 23:00:00          9.0   \n",
       "717937  5faaa6892c9f790f3357b473       15555 2020-08-31 00:00:00          9.1   \n",
       "\n",
       "                           _id_y  FROM_DATE    TO_DATE  STATION_HEIGHT  \\\n",
       "0       5fac44ab08a1e8a529a9cab2 2007-04-01 2020-11-10            44.0   \n",
       "1       5fac44ab08a1e8a529a9cab2 2007-04-01 2020-11-10            44.0   \n",
       "2       5fac44ab08a1e8a529a9cab2 2007-04-01 2020-11-10            44.0   \n",
       "3       5fac44ab08a1e8a529a9cab2 2007-04-01 2020-11-10            44.0   \n",
       "4       5fac44ab08a1e8a529a9cab2 2007-04-01 2020-11-10            44.0   \n",
       "...                          ...        ...        ...             ...   \n",
       "717933  5fac44ab08a1e8a529a9cc9f 2016-05-01 2020-11-10           815.0   \n",
       "717934  5fac44ab08a1e8a529a9cc9f 2016-05-01 2020-11-10           815.0   \n",
       "717935  5fac44ab08a1e8a529a9cc9f 2016-05-01 2020-11-10           815.0   \n",
       "717936  5fac44ab08a1e8a529a9cc9f 2016-05-01 2020-11-10           815.0   \n",
       "717937  5fac44ab08a1e8a529a9cc9f 2016-05-01 2020-11-10           815.0   \n",
       "\n",
       "            LAT      LON           STATION_NAME          STATE  \n",
       "0       52.9336   8.2370           Großenkneten  Niedersachsen  \n",
       "1       52.9336   8.2370           Großenkneten  Niedersachsen  \n",
       "2       52.9336   8.2370           Großenkneten  Niedersachsen  \n",
       "3       52.9336   8.2370           Großenkneten  Niedersachsen  \n",
       "4       52.9336   8.2370           Großenkneten  Niedersachsen  \n",
       "...         ...      ...                    ...            ...  \n",
       "717933  47.8761  10.5849  Kaufbeuren-Oberbeuren         Bayern  \n",
       "717934  47.8761  10.5849  Kaufbeuren-Oberbeuren         Bayern  \n",
       "717935  47.8761  10.5849  Kaufbeuren-Oberbeuren         Bayern  \n",
       "717936  47.8761  10.5849  Kaufbeuren-Oberbeuren         Bayern  \n",
       "717937  47.8761  10.5849  Kaufbeuren-Oberbeuren         Bayern  \n",
       "\n",
       "[717938 rows x 12 columns]"
      ]
     },
     "execution_count": 31,
     "metadata": {},
     "output_type": "execute_result"
    }
   ],
   "source": [
    "weather_stations = pd.merge(weather_df,stations_df, on=\"station_id\", how=\"left\")\n",
    "weather_stations"
   ]
  },
  {
   "cell_type": "markdown",
   "metadata": {},
   "source": [
    "In der Methode *temp_by_date* wird nach den Temperaturen des übergebenden Datums an der Station, dessen ID übergeben wurde, gefiltert. In der 1. Zeile der Methode wird die Spalte *date* des Dataframes mit dem übergebenen Datum abgeglichen. Da dort die Uhrzeit mit hinterlegt ist, wird diese auf 00:00:00 gesetzt, damit nur nach dem Datum selektiert wird. Das Ergebnis wird danach auf die übergebenen WetterstationsID geprüft."
   ]
  },
  {
   "cell_type": "code",
   "execution_count": 36,
   "metadata": {},
   "outputs": [],
   "source": [
    "def temp_by_date(df,date,stationid):\n",
    "    result = df.loc[df['date'].dt.normalize() == date ]\n",
    "    result2 =  result.loc[result['station_id']== stationid ]\n",
    "   \n",
    "    return result2"
   ]
  },
  {
   "cell_type": "markdown",
   "metadata": {},
   "source": [
    "Hier kommt die Methode *temp_by_date* zur Verwendung. Als Beispielparameter wird hier die ID der Wetterstation in Darmstadt (917) und das Datum 20.08.2020 übergeben.\n",
    "In der Ausgabe ist zu sehen, dass nur noch die Informationen dieser Wetterstation an diesem Datum abgebildet werden. \n",
    "\n",
    "(Als alternatives Beispiel empfehle ich Ihnen das Datum des \"2020-08-30 00:00:00\" zu wählen. Daran ist zu sehen, dass die Höchsttemperatur in den 10 Tagen um ca. 10 Grad gesunken ist.)"
   ]
  },
  {
   "cell_type": "code",
   "execution_count": 37,
   "metadata": {},
   "outputs": [
    {
     "data": {
      "text/html": [
       "<div>\n",
       "<style scoped>\n",
       "    .dataframe tbody tr th:only-of-type {\n",
       "        vertical-align: middle;\n",
       "    }\n",
       "\n",
       "    .dataframe tbody tr th {\n",
       "        vertical-align: top;\n",
       "    }\n",
       "\n",
       "    .dataframe thead th {\n",
       "        text-align: right;\n",
       "    }\n",
       "</style>\n",
       "<table border=\"1\" class=\"dataframe\">\n",
       "  <thead>\n",
       "    <tr style=\"text-align: right;\">\n",
       "      <th></th>\n",
       "      <th>_id_x</th>\n",
       "      <th>station_id</th>\n",
       "      <th>date</th>\n",
       "      <th>temperature</th>\n",
       "      <th>_id_y</th>\n",
       "      <th>FROM_DATE</th>\n",
       "      <th>TO_DATE</th>\n",
       "      <th>STATION_HEIGHT</th>\n",
       "      <th>LAT</th>\n",
       "      <th>LON</th>\n",
       "      <th>STATION_NAME</th>\n",
       "      <th>STATE</th>\n",
       "    </tr>\n",
       "  </thead>\n",
       "  <tbody>\n",
       "    <tr>\n",
       "      <th>100247</th>\n",
       "      <td>5faaa3b32c9f790f334e4799</td>\n",
       "      <td>917</td>\n",
       "      <td>2020-08-20 00:00:00</td>\n",
       "      <td>17.9</td>\n",
       "      <td>5fac44ab08a1e8a529a9caf6</td>\n",
       "      <td>2004-09-01</td>\n",
       "      <td>2020-11-10</td>\n",
       "      <td>162.0</td>\n",
       "      <td>49.8809</td>\n",
       "      <td>8.6779</td>\n",
       "      <td>Darmstadt</td>\n",
       "      <td>Hessen</td>\n",
       "    </tr>\n",
       "    <tr>\n",
       "      <th>100248</th>\n",
       "      <td>5faaa3b32c9f790f334e479a</td>\n",
       "      <td>917</td>\n",
       "      <td>2020-08-20 01:00:00</td>\n",
       "      <td>18.1</td>\n",
       "      <td>5fac44ab08a1e8a529a9caf6</td>\n",
       "      <td>2004-09-01</td>\n",
       "      <td>2020-11-10</td>\n",
       "      <td>162.0</td>\n",
       "      <td>49.8809</td>\n",
       "      <td>8.6779</td>\n",
       "      <td>Darmstadt</td>\n",
       "      <td>Hessen</td>\n",
       "    </tr>\n",
       "    <tr>\n",
       "      <th>100249</th>\n",
       "      <td>5faaa3b32c9f790f334e479b</td>\n",
       "      <td>917</td>\n",
       "      <td>2020-08-20 02:00:00</td>\n",
       "      <td>18.1</td>\n",
       "      <td>5fac44ab08a1e8a529a9caf6</td>\n",
       "      <td>2004-09-01</td>\n",
       "      <td>2020-11-10</td>\n",
       "      <td>162.0</td>\n",
       "      <td>49.8809</td>\n",
       "      <td>8.6779</td>\n",
       "      <td>Darmstadt</td>\n",
       "      <td>Hessen</td>\n",
       "    </tr>\n",
       "    <tr>\n",
       "      <th>100250</th>\n",
       "      <td>5faaa3b32c9f790f334e479c</td>\n",
       "      <td>917</td>\n",
       "      <td>2020-08-20 03:00:00</td>\n",
       "      <td>17.7</td>\n",
       "      <td>5fac44ab08a1e8a529a9caf6</td>\n",
       "      <td>2004-09-01</td>\n",
       "      <td>2020-11-10</td>\n",
       "      <td>162.0</td>\n",
       "      <td>49.8809</td>\n",
       "      <td>8.6779</td>\n",
       "      <td>Darmstadt</td>\n",
       "      <td>Hessen</td>\n",
       "    </tr>\n",
       "    <tr>\n",
       "      <th>100251</th>\n",
       "      <td>5faaa3b32c9f790f334e479d</td>\n",
       "      <td>917</td>\n",
       "      <td>2020-08-20 04:00:00</td>\n",
       "      <td>18.2</td>\n",
       "      <td>5fac44ab08a1e8a529a9caf6</td>\n",
       "      <td>2004-09-01</td>\n",
       "      <td>2020-11-10</td>\n",
       "      <td>162.0</td>\n",
       "      <td>49.8809</td>\n",
       "      <td>8.6779</td>\n",
       "      <td>Darmstadt</td>\n",
       "      <td>Hessen</td>\n",
       "    </tr>\n",
       "    <tr>\n",
       "      <th>100252</th>\n",
       "      <td>5faaa3b32c9f790f334e479e</td>\n",
       "      <td>917</td>\n",
       "      <td>2020-08-20 05:00:00</td>\n",
       "      <td>17.9</td>\n",
       "      <td>5fac44ab08a1e8a529a9caf6</td>\n",
       "      <td>2004-09-01</td>\n",
       "      <td>2020-11-10</td>\n",
       "      <td>162.0</td>\n",
       "      <td>49.8809</td>\n",
       "      <td>8.6779</td>\n",
       "      <td>Darmstadt</td>\n",
       "      <td>Hessen</td>\n",
       "    </tr>\n",
       "    <tr>\n",
       "      <th>100253</th>\n",
       "      <td>5faaa3b32c9f790f334e479f</td>\n",
       "      <td>917</td>\n",
       "      <td>2020-08-20 06:00:00</td>\n",
       "      <td>18.0</td>\n",
       "      <td>5fac44ab08a1e8a529a9caf6</td>\n",
       "      <td>2004-09-01</td>\n",
       "      <td>2020-11-10</td>\n",
       "      <td>162.0</td>\n",
       "      <td>49.8809</td>\n",
       "      <td>8.6779</td>\n",
       "      <td>Darmstadt</td>\n",
       "      <td>Hessen</td>\n",
       "    </tr>\n",
       "    <tr>\n",
       "      <th>100254</th>\n",
       "      <td>5faaa3b32c9f790f334e47a0</td>\n",
       "      <td>917</td>\n",
       "      <td>2020-08-20 07:00:00</td>\n",
       "      <td>19.2</td>\n",
       "      <td>5fac44ab08a1e8a529a9caf6</td>\n",
       "      <td>2004-09-01</td>\n",
       "      <td>2020-11-10</td>\n",
       "      <td>162.0</td>\n",
       "      <td>49.8809</td>\n",
       "      <td>8.6779</td>\n",
       "      <td>Darmstadt</td>\n",
       "      <td>Hessen</td>\n",
       "    </tr>\n",
       "    <tr>\n",
       "      <th>100255</th>\n",
       "      <td>5faaa3b32c9f790f334e47a1</td>\n",
       "      <td>917</td>\n",
       "      <td>2020-08-20 08:00:00</td>\n",
       "      <td>22.3</td>\n",
       "      <td>5fac44ab08a1e8a529a9caf6</td>\n",
       "      <td>2004-09-01</td>\n",
       "      <td>2020-11-10</td>\n",
       "      <td>162.0</td>\n",
       "      <td>49.8809</td>\n",
       "      <td>8.6779</td>\n",
       "      <td>Darmstadt</td>\n",
       "      <td>Hessen</td>\n",
       "    </tr>\n",
       "    <tr>\n",
       "      <th>100256</th>\n",
       "      <td>5faaa3b32c9f790f334e47a2</td>\n",
       "      <td>917</td>\n",
       "      <td>2020-08-20 09:00:00</td>\n",
       "      <td>25.0</td>\n",
       "      <td>5fac44ab08a1e8a529a9caf6</td>\n",
       "      <td>2004-09-01</td>\n",
       "      <td>2020-11-10</td>\n",
       "      <td>162.0</td>\n",
       "      <td>49.8809</td>\n",
       "      <td>8.6779</td>\n",
       "      <td>Darmstadt</td>\n",
       "      <td>Hessen</td>\n",
       "    </tr>\n",
       "    <tr>\n",
       "      <th>100257</th>\n",
       "      <td>5faaa3b32c9f790f334e47a3</td>\n",
       "      <td>917</td>\n",
       "      <td>2020-08-20 10:00:00</td>\n",
       "      <td>27.1</td>\n",
       "      <td>5fac44ab08a1e8a529a9caf6</td>\n",
       "      <td>2004-09-01</td>\n",
       "      <td>2020-11-10</td>\n",
       "      <td>162.0</td>\n",
       "      <td>49.8809</td>\n",
       "      <td>8.6779</td>\n",
       "      <td>Darmstadt</td>\n",
       "      <td>Hessen</td>\n",
       "    </tr>\n",
       "    <tr>\n",
       "      <th>100258</th>\n",
       "      <td>5faaa3b32c9f790f334e47a4</td>\n",
       "      <td>917</td>\n",
       "      <td>2020-08-20 11:00:00</td>\n",
       "      <td>28.5</td>\n",
       "      <td>5fac44ab08a1e8a529a9caf6</td>\n",
       "      <td>2004-09-01</td>\n",
       "      <td>2020-11-10</td>\n",
       "      <td>162.0</td>\n",
       "      <td>49.8809</td>\n",
       "      <td>8.6779</td>\n",
       "      <td>Darmstadt</td>\n",
       "      <td>Hessen</td>\n",
       "    </tr>\n",
       "    <tr>\n",
       "      <th>100259</th>\n",
       "      <td>5faaa3b32c9f790f334e47a5</td>\n",
       "      <td>917</td>\n",
       "      <td>2020-08-20 12:00:00</td>\n",
       "      <td>29.4</td>\n",
       "      <td>5fac44ab08a1e8a529a9caf6</td>\n",
       "      <td>2004-09-01</td>\n",
       "      <td>2020-11-10</td>\n",
       "      <td>162.0</td>\n",
       "      <td>49.8809</td>\n",
       "      <td>8.6779</td>\n",
       "      <td>Darmstadt</td>\n",
       "      <td>Hessen</td>\n",
       "    </tr>\n",
       "    <tr>\n",
       "      <th>100260</th>\n",
       "      <td>5faaa3b32c9f790f334e47a6</td>\n",
       "      <td>917</td>\n",
       "      <td>2020-08-20 13:00:00</td>\n",
       "      <td>30.0</td>\n",
       "      <td>5fac44ab08a1e8a529a9caf6</td>\n",
       "      <td>2004-09-01</td>\n",
       "      <td>2020-11-10</td>\n",
       "      <td>162.0</td>\n",
       "      <td>49.8809</td>\n",
       "      <td>8.6779</td>\n",
       "      <td>Darmstadt</td>\n",
       "      <td>Hessen</td>\n",
       "    </tr>\n",
       "    <tr>\n",
       "      <th>100261</th>\n",
       "      <td>5faaa3b32c9f790f334e47a7</td>\n",
       "      <td>917</td>\n",
       "      <td>2020-08-20 14:00:00</td>\n",
       "      <td>31.0</td>\n",
       "      <td>5fac44ab08a1e8a529a9caf6</td>\n",
       "      <td>2004-09-01</td>\n",
       "      <td>2020-11-10</td>\n",
       "      <td>162.0</td>\n",
       "      <td>49.8809</td>\n",
       "      <td>8.6779</td>\n",
       "      <td>Darmstadt</td>\n",
       "      <td>Hessen</td>\n",
       "    </tr>\n",
       "    <tr>\n",
       "      <th>100262</th>\n",
       "      <td>5faaa3b32c9f790f334e47a8</td>\n",
       "      <td>917</td>\n",
       "      <td>2020-08-20 15:00:00</td>\n",
       "      <td>31.9</td>\n",
       "      <td>5fac44ab08a1e8a529a9caf6</td>\n",
       "      <td>2004-09-01</td>\n",
       "      <td>2020-11-10</td>\n",
       "      <td>162.0</td>\n",
       "      <td>49.8809</td>\n",
       "      <td>8.6779</td>\n",
       "      <td>Darmstadt</td>\n",
       "      <td>Hessen</td>\n",
       "    </tr>\n",
       "    <tr>\n",
       "      <th>100263</th>\n",
       "      <td>5faaa3b32c9f790f334e47a9</td>\n",
       "      <td>917</td>\n",
       "      <td>2020-08-20 16:00:00</td>\n",
       "      <td>31.1</td>\n",
       "      <td>5fac44ab08a1e8a529a9caf6</td>\n",
       "      <td>2004-09-01</td>\n",
       "      <td>2020-11-10</td>\n",
       "      <td>162.0</td>\n",
       "      <td>49.8809</td>\n",
       "      <td>8.6779</td>\n",
       "      <td>Darmstadt</td>\n",
       "      <td>Hessen</td>\n",
       "    </tr>\n",
       "    <tr>\n",
       "      <th>100264</th>\n",
       "      <td>5faaa3b32c9f790f334e47aa</td>\n",
       "      <td>917</td>\n",
       "      <td>2020-08-20 17:00:00</td>\n",
       "      <td>29.6</td>\n",
       "      <td>5fac44ab08a1e8a529a9caf6</td>\n",
       "      <td>2004-09-01</td>\n",
       "      <td>2020-11-10</td>\n",
       "      <td>162.0</td>\n",
       "      <td>49.8809</td>\n",
       "      <td>8.6779</td>\n",
       "      <td>Darmstadt</td>\n",
       "      <td>Hessen</td>\n",
       "    </tr>\n",
       "    <tr>\n",
       "      <th>100265</th>\n",
       "      <td>5faaa3b32c9f790f334e47ab</td>\n",
       "      <td>917</td>\n",
       "      <td>2020-08-20 18:00:00</td>\n",
       "      <td>26.9</td>\n",
       "      <td>5fac44ab08a1e8a529a9caf6</td>\n",
       "      <td>2004-09-01</td>\n",
       "      <td>2020-11-10</td>\n",
       "      <td>162.0</td>\n",
       "      <td>49.8809</td>\n",
       "      <td>8.6779</td>\n",
       "      <td>Darmstadt</td>\n",
       "      <td>Hessen</td>\n",
       "    </tr>\n",
       "    <tr>\n",
       "      <th>100266</th>\n",
       "      <td>5faaa3b32c9f790f334e47ac</td>\n",
       "      <td>917</td>\n",
       "      <td>2020-08-20 19:00:00</td>\n",
       "      <td>23.0</td>\n",
       "      <td>5fac44ab08a1e8a529a9caf6</td>\n",
       "      <td>2004-09-01</td>\n",
       "      <td>2020-11-10</td>\n",
       "      <td>162.0</td>\n",
       "      <td>49.8809</td>\n",
       "      <td>8.6779</td>\n",
       "      <td>Darmstadt</td>\n",
       "      <td>Hessen</td>\n",
       "    </tr>\n",
       "    <tr>\n",
       "      <th>100267</th>\n",
       "      <td>5faaa3b32c9f790f334e47ad</td>\n",
       "      <td>917</td>\n",
       "      <td>2020-08-20 20:00:00</td>\n",
       "      <td>21.1</td>\n",
       "      <td>5fac44ab08a1e8a529a9caf6</td>\n",
       "      <td>2004-09-01</td>\n",
       "      <td>2020-11-10</td>\n",
       "      <td>162.0</td>\n",
       "      <td>49.8809</td>\n",
       "      <td>8.6779</td>\n",
       "      <td>Darmstadt</td>\n",
       "      <td>Hessen</td>\n",
       "    </tr>\n",
       "    <tr>\n",
       "      <th>100268</th>\n",
       "      <td>5faaa3b32c9f790f334e47ae</td>\n",
       "      <td>917</td>\n",
       "      <td>2020-08-20 21:00:00</td>\n",
       "      <td>20.4</td>\n",
       "      <td>5fac44ab08a1e8a529a9caf6</td>\n",
       "      <td>2004-09-01</td>\n",
       "      <td>2020-11-10</td>\n",
       "      <td>162.0</td>\n",
       "      <td>49.8809</td>\n",
       "      <td>8.6779</td>\n",
       "      <td>Darmstadt</td>\n",
       "      <td>Hessen</td>\n",
       "    </tr>\n",
       "    <tr>\n",
       "      <th>100269</th>\n",
       "      <td>5faaa3b32c9f790f334e47af</td>\n",
       "      <td>917</td>\n",
       "      <td>2020-08-20 22:00:00</td>\n",
       "      <td>20.3</td>\n",
       "      <td>5fac44ab08a1e8a529a9caf6</td>\n",
       "      <td>2004-09-01</td>\n",
       "      <td>2020-11-10</td>\n",
       "      <td>162.0</td>\n",
       "      <td>49.8809</td>\n",
       "      <td>8.6779</td>\n",
       "      <td>Darmstadt</td>\n",
       "      <td>Hessen</td>\n",
       "    </tr>\n",
       "    <tr>\n",
       "      <th>100270</th>\n",
       "      <td>5faaa3b32c9f790f334e47b0</td>\n",
       "      <td>917</td>\n",
       "      <td>2020-08-20 23:00:00</td>\n",
       "      <td>19.8</td>\n",
       "      <td>5fac44ab08a1e8a529a9caf6</td>\n",
       "      <td>2004-09-01</td>\n",
       "      <td>2020-11-10</td>\n",
       "      <td>162.0</td>\n",
       "      <td>49.8809</td>\n",
       "      <td>8.6779</td>\n",
       "      <td>Darmstadt</td>\n",
       "      <td>Hessen</td>\n",
       "    </tr>\n",
       "  </tbody>\n",
       "</table>\n",
       "</div>"
      ],
      "text/plain": [
       "                           _id_x  station_id                date  temperature  \\\n",
       "100247  5faaa3b32c9f790f334e4799         917 2020-08-20 00:00:00         17.9   \n",
       "100248  5faaa3b32c9f790f334e479a         917 2020-08-20 01:00:00         18.1   \n",
       "100249  5faaa3b32c9f790f334e479b         917 2020-08-20 02:00:00         18.1   \n",
       "100250  5faaa3b32c9f790f334e479c         917 2020-08-20 03:00:00         17.7   \n",
       "100251  5faaa3b32c9f790f334e479d         917 2020-08-20 04:00:00         18.2   \n",
       "100252  5faaa3b32c9f790f334e479e         917 2020-08-20 05:00:00         17.9   \n",
       "100253  5faaa3b32c9f790f334e479f         917 2020-08-20 06:00:00         18.0   \n",
       "100254  5faaa3b32c9f790f334e47a0         917 2020-08-20 07:00:00         19.2   \n",
       "100255  5faaa3b32c9f790f334e47a1         917 2020-08-20 08:00:00         22.3   \n",
       "100256  5faaa3b32c9f790f334e47a2         917 2020-08-20 09:00:00         25.0   \n",
       "100257  5faaa3b32c9f790f334e47a3         917 2020-08-20 10:00:00         27.1   \n",
       "100258  5faaa3b32c9f790f334e47a4         917 2020-08-20 11:00:00         28.5   \n",
       "100259  5faaa3b32c9f790f334e47a5         917 2020-08-20 12:00:00         29.4   \n",
       "100260  5faaa3b32c9f790f334e47a6         917 2020-08-20 13:00:00         30.0   \n",
       "100261  5faaa3b32c9f790f334e47a7         917 2020-08-20 14:00:00         31.0   \n",
       "100262  5faaa3b32c9f790f334e47a8         917 2020-08-20 15:00:00         31.9   \n",
       "100263  5faaa3b32c9f790f334e47a9         917 2020-08-20 16:00:00         31.1   \n",
       "100264  5faaa3b32c9f790f334e47aa         917 2020-08-20 17:00:00         29.6   \n",
       "100265  5faaa3b32c9f790f334e47ab         917 2020-08-20 18:00:00         26.9   \n",
       "100266  5faaa3b32c9f790f334e47ac         917 2020-08-20 19:00:00         23.0   \n",
       "100267  5faaa3b32c9f790f334e47ad         917 2020-08-20 20:00:00         21.1   \n",
       "100268  5faaa3b32c9f790f334e47ae         917 2020-08-20 21:00:00         20.4   \n",
       "100269  5faaa3b32c9f790f334e47af         917 2020-08-20 22:00:00         20.3   \n",
       "100270  5faaa3b32c9f790f334e47b0         917 2020-08-20 23:00:00         19.8   \n",
       "\n",
       "                           _id_y  FROM_DATE    TO_DATE  STATION_HEIGHT  \\\n",
       "100247  5fac44ab08a1e8a529a9caf6 2004-09-01 2020-11-10           162.0   \n",
       "100248  5fac44ab08a1e8a529a9caf6 2004-09-01 2020-11-10           162.0   \n",
       "100249  5fac44ab08a1e8a529a9caf6 2004-09-01 2020-11-10           162.0   \n",
       "100250  5fac44ab08a1e8a529a9caf6 2004-09-01 2020-11-10           162.0   \n",
       "100251  5fac44ab08a1e8a529a9caf6 2004-09-01 2020-11-10           162.0   \n",
       "100252  5fac44ab08a1e8a529a9caf6 2004-09-01 2020-11-10           162.0   \n",
       "100253  5fac44ab08a1e8a529a9caf6 2004-09-01 2020-11-10           162.0   \n",
       "100254  5fac44ab08a1e8a529a9caf6 2004-09-01 2020-11-10           162.0   \n",
       "100255  5fac44ab08a1e8a529a9caf6 2004-09-01 2020-11-10           162.0   \n",
       "100256  5fac44ab08a1e8a529a9caf6 2004-09-01 2020-11-10           162.0   \n",
       "100257  5fac44ab08a1e8a529a9caf6 2004-09-01 2020-11-10           162.0   \n",
       "100258  5fac44ab08a1e8a529a9caf6 2004-09-01 2020-11-10           162.0   \n",
       "100259  5fac44ab08a1e8a529a9caf6 2004-09-01 2020-11-10           162.0   \n",
       "100260  5fac44ab08a1e8a529a9caf6 2004-09-01 2020-11-10           162.0   \n",
       "100261  5fac44ab08a1e8a529a9caf6 2004-09-01 2020-11-10           162.0   \n",
       "100262  5fac44ab08a1e8a529a9caf6 2004-09-01 2020-11-10           162.0   \n",
       "100263  5fac44ab08a1e8a529a9caf6 2004-09-01 2020-11-10           162.0   \n",
       "100264  5fac44ab08a1e8a529a9caf6 2004-09-01 2020-11-10           162.0   \n",
       "100265  5fac44ab08a1e8a529a9caf6 2004-09-01 2020-11-10           162.0   \n",
       "100266  5fac44ab08a1e8a529a9caf6 2004-09-01 2020-11-10           162.0   \n",
       "100267  5fac44ab08a1e8a529a9caf6 2004-09-01 2020-11-10           162.0   \n",
       "100268  5fac44ab08a1e8a529a9caf6 2004-09-01 2020-11-10           162.0   \n",
       "100269  5fac44ab08a1e8a529a9caf6 2004-09-01 2020-11-10           162.0   \n",
       "100270  5fac44ab08a1e8a529a9caf6 2004-09-01 2020-11-10           162.0   \n",
       "\n",
       "            LAT     LON STATION_NAME   STATE  \n",
       "100247  49.8809  8.6779    Darmstadt  Hessen  \n",
       "100248  49.8809  8.6779    Darmstadt  Hessen  \n",
       "100249  49.8809  8.6779    Darmstadt  Hessen  \n",
       "100250  49.8809  8.6779    Darmstadt  Hessen  \n",
       "100251  49.8809  8.6779    Darmstadt  Hessen  \n",
       "100252  49.8809  8.6779    Darmstadt  Hessen  \n",
       "100253  49.8809  8.6779    Darmstadt  Hessen  \n",
       "100254  49.8809  8.6779    Darmstadt  Hessen  \n",
       "100255  49.8809  8.6779    Darmstadt  Hessen  \n",
       "100256  49.8809  8.6779    Darmstadt  Hessen  \n",
       "100257  49.8809  8.6779    Darmstadt  Hessen  \n",
       "100258  49.8809  8.6779    Darmstadt  Hessen  \n",
       "100259  49.8809  8.6779    Darmstadt  Hessen  \n",
       "100260  49.8809  8.6779    Darmstadt  Hessen  \n",
       "100261  49.8809  8.6779    Darmstadt  Hessen  \n",
       "100262  49.8809  8.6779    Darmstadt  Hessen  \n",
       "100263  49.8809  8.6779    Darmstadt  Hessen  \n",
       "100264  49.8809  8.6779    Darmstadt  Hessen  \n",
       "100265  49.8809  8.6779    Darmstadt  Hessen  \n",
       "100266  49.8809  8.6779    Darmstadt  Hessen  \n",
       "100267  49.8809  8.6779    Darmstadt  Hessen  \n",
       "100268  49.8809  8.6779    Darmstadt  Hessen  \n",
       "100269  49.8809  8.6779    Darmstadt  Hessen  \n",
       "100270  49.8809  8.6779    Darmstadt  Hessen  "
      ]
     },
     "execution_count": 37,
     "metadata": {},
     "output_type": "execute_result"
    }
   ],
   "source": [
    "tempbydate = temp_by_date(weather_stations,\"2020-08-20 00:00:00\",917)\n",
    "tempbydate"
   ]
  },
  {
   "cell_type": "markdown",
   "metadata": {},
   "source": [
    "## 4. Konfiguration des Diagramms"
   ]
  },
  {
   "cell_type": "markdown",
   "metadata": {},
   "source": [
    "In der Methode *calculate_plot* werden die Daten des oben abgebildete Dataframes in ein Balkendiagram transformiert. Hierbei stellt die X-Achse die Uhrzeit und die Y-Achse die Temperatur der jeweiligen Stunde dar. In der Überschrift wird sowohl das Datum als auch der Name der ausgewählten Wetterstation angezeigt. Die Farbe der Balken ist an die Höhe der Temperatur angepasst. Durch Hovern über die einzelnen Balken wird das Datum, die Temperatur, die StationsID und der Stationsname angezeigt."
   ]
  },
  {
   "cell_type": "code",
   "execution_count": 38,
   "metadata": {},
   "outputs": [],
   "source": [
    "def calculate_plot(tempbydate):\n",
    "    fig =  px.bar(tempbydate,\n",
    "             y= \"temperature\", \n",
    "             x= \"date\",\n",
    "               title = 'Temperaturverlauf am ' + str(tempbydate[\"date\"].dt.date.iloc[0]) +\n",
    "                ' in ' + str(tempbydate[\"STATION_NAME\"].iloc[0] ) ,\n",
    "                hover_data=['station_id', 'STATION_NAME'],\n",
    "                color='temperature')\n",
    "   \n",
    "    fig.show()"
   ]
  },
  {
   "cell_type": "code",
   "execution_count": 39,
   "metadata": {},
   "outputs": [
    {
     "data": {
      "application/vnd.plotly.v1+json": {
       "config": {
        "plotlyServerURL": "https://plot.ly"
       },
       "data": [
        {
         "alignmentgroup": "True",
         "customdata": [
          [
           917,
           "Darmstadt"
          ],
          [
           917,
           "Darmstadt"
          ],
          [
           917,
           "Darmstadt"
          ],
          [
           917,
           "Darmstadt"
          ],
          [
           917,
           "Darmstadt"
          ],
          [
           917,
           "Darmstadt"
          ],
          [
           917,
           "Darmstadt"
          ],
          [
           917,
           "Darmstadt"
          ],
          [
           917,
           "Darmstadt"
          ],
          [
           917,
           "Darmstadt"
          ],
          [
           917,
           "Darmstadt"
          ],
          [
           917,
           "Darmstadt"
          ],
          [
           917,
           "Darmstadt"
          ],
          [
           917,
           "Darmstadt"
          ],
          [
           917,
           "Darmstadt"
          ],
          [
           917,
           "Darmstadt"
          ],
          [
           917,
           "Darmstadt"
          ],
          [
           917,
           "Darmstadt"
          ],
          [
           917,
           "Darmstadt"
          ],
          [
           917,
           "Darmstadt"
          ],
          [
           917,
           "Darmstadt"
          ],
          [
           917,
           "Darmstadt"
          ],
          [
           917,
           "Darmstadt"
          ],
          [
           917,
           "Darmstadt"
          ]
         ],
         "hovertemplate": "date=%{x}<br>temperature=%{marker.color}<br>station_id=%{customdata[0]}<br>STATION_NAME=%{customdata[1]}<extra></extra>",
         "legendgroup": "",
         "marker": {
          "color": [
           17.9,
           18.1,
           18.1,
           17.7,
           18.2,
           17.9,
           18,
           19.2,
           22.3,
           25,
           27.1,
           28.5,
           29.4,
           30,
           31,
           31.9,
           31.1,
           29.6,
           26.9,
           23,
           21.1,
           20.4,
           20.3,
           19.8
          ],
          "coloraxis": "coloraxis"
         },
         "name": "",
         "offsetgroup": "",
         "orientation": "v",
         "showlegend": false,
         "textposition": "auto",
         "type": "bar",
         "x": [
          "2020-08-20T00:00:00",
          "2020-08-20T01:00:00",
          "2020-08-20T02:00:00",
          "2020-08-20T03:00:00",
          "2020-08-20T04:00:00",
          "2020-08-20T05:00:00",
          "2020-08-20T06:00:00",
          "2020-08-20T07:00:00",
          "2020-08-20T08:00:00",
          "2020-08-20T09:00:00",
          "2020-08-20T10:00:00",
          "2020-08-20T11:00:00",
          "2020-08-20T12:00:00",
          "2020-08-20T13:00:00",
          "2020-08-20T14:00:00",
          "2020-08-20T15:00:00",
          "2020-08-20T16:00:00",
          "2020-08-20T17:00:00",
          "2020-08-20T18:00:00",
          "2020-08-20T19:00:00",
          "2020-08-20T20:00:00",
          "2020-08-20T21:00:00",
          "2020-08-20T22:00:00",
          "2020-08-20T23:00:00"
         ],
         "xaxis": "x",
         "y": [
          17.9,
          18.1,
          18.1,
          17.7,
          18.2,
          17.9,
          18,
          19.2,
          22.3,
          25,
          27.1,
          28.5,
          29.4,
          30,
          31,
          31.9,
          31.1,
          29.6,
          26.9,
          23,
          21.1,
          20.4,
          20.3,
          19.8
         ],
         "yaxis": "y"
        }
       ],
       "layout": {
        "barmode": "relative",
        "coloraxis": {
         "colorbar": {
          "title": {
           "text": "temperature"
          }
         },
         "colorscale": [
          [
           0,
           "#0d0887"
          ],
          [
           0.1111111111111111,
           "#46039f"
          ],
          [
           0.2222222222222222,
           "#7201a8"
          ],
          [
           0.3333333333333333,
           "#9c179e"
          ],
          [
           0.4444444444444444,
           "#bd3786"
          ],
          [
           0.5555555555555556,
           "#d8576b"
          ],
          [
           0.6666666666666666,
           "#ed7953"
          ],
          [
           0.7777777777777778,
           "#fb9f3a"
          ],
          [
           0.8888888888888888,
           "#fdca26"
          ],
          [
           1,
           "#f0f921"
          ]
         ]
        },
        "legend": {
         "tracegroupgap": 0
        },
        "template": {
         "data": {
          "bar": [
           {
            "error_x": {
             "color": "#2a3f5f"
            },
            "error_y": {
             "color": "#2a3f5f"
            },
            "marker": {
             "line": {
              "color": "#E5ECF6",
              "width": 0.5
             }
            },
            "type": "bar"
           }
          ],
          "barpolar": [
           {
            "marker": {
             "line": {
              "color": "#E5ECF6",
              "width": 0.5
             }
            },
            "type": "barpolar"
           }
          ],
          "carpet": [
           {
            "aaxis": {
             "endlinecolor": "#2a3f5f",
             "gridcolor": "white",
             "linecolor": "white",
             "minorgridcolor": "white",
             "startlinecolor": "#2a3f5f"
            },
            "baxis": {
             "endlinecolor": "#2a3f5f",
             "gridcolor": "white",
             "linecolor": "white",
             "minorgridcolor": "white",
             "startlinecolor": "#2a3f5f"
            },
            "type": "carpet"
           }
          ],
          "choropleth": [
           {
            "colorbar": {
             "outlinewidth": 0,
             "ticks": ""
            },
            "type": "choropleth"
           }
          ],
          "contour": [
           {
            "colorbar": {
             "outlinewidth": 0,
             "ticks": ""
            },
            "colorscale": [
             [
              0,
              "#0d0887"
             ],
             [
              0.1111111111111111,
              "#46039f"
             ],
             [
              0.2222222222222222,
              "#7201a8"
             ],
             [
              0.3333333333333333,
              "#9c179e"
             ],
             [
              0.4444444444444444,
              "#bd3786"
             ],
             [
              0.5555555555555556,
              "#d8576b"
             ],
             [
              0.6666666666666666,
              "#ed7953"
             ],
             [
              0.7777777777777778,
              "#fb9f3a"
             ],
             [
              0.8888888888888888,
              "#fdca26"
             ],
             [
              1,
              "#f0f921"
             ]
            ],
            "type": "contour"
           }
          ],
          "contourcarpet": [
           {
            "colorbar": {
             "outlinewidth": 0,
             "ticks": ""
            },
            "type": "contourcarpet"
           }
          ],
          "heatmap": [
           {
            "colorbar": {
             "outlinewidth": 0,
             "ticks": ""
            },
            "colorscale": [
             [
              0,
              "#0d0887"
             ],
             [
              0.1111111111111111,
              "#46039f"
             ],
             [
              0.2222222222222222,
              "#7201a8"
             ],
             [
              0.3333333333333333,
              "#9c179e"
             ],
             [
              0.4444444444444444,
              "#bd3786"
             ],
             [
              0.5555555555555556,
              "#d8576b"
             ],
             [
              0.6666666666666666,
              "#ed7953"
             ],
             [
              0.7777777777777778,
              "#fb9f3a"
             ],
             [
              0.8888888888888888,
              "#fdca26"
             ],
             [
              1,
              "#f0f921"
             ]
            ],
            "type": "heatmap"
           }
          ],
          "heatmapgl": [
           {
            "colorbar": {
             "outlinewidth": 0,
             "ticks": ""
            },
            "colorscale": [
             [
              0,
              "#0d0887"
             ],
             [
              0.1111111111111111,
              "#46039f"
             ],
             [
              0.2222222222222222,
              "#7201a8"
             ],
             [
              0.3333333333333333,
              "#9c179e"
             ],
             [
              0.4444444444444444,
              "#bd3786"
             ],
             [
              0.5555555555555556,
              "#d8576b"
             ],
             [
              0.6666666666666666,
              "#ed7953"
             ],
             [
              0.7777777777777778,
              "#fb9f3a"
             ],
             [
              0.8888888888888888,
              "#fdca26"
             ],
             [
              1,
              "#f0f921"
             ]
            ],
            "type": "heatmapgl"
           }
          ],
          "histogram": [
           {
            "marker": {
             "colorbar": {
              "outlinewidth": 0,
              "ticks": ""
             }
            },
            "type": "histogram"
           }
          ],
          "histogram2d": [
           {
            "colorbar": {
             "outlinewidth": 0,
             "ticks": ""
            },
            "colorscale": [
             [
              0,
              "#0d0887"
             ],
             [
              0.1111111111111111,
              "#46039f"
             ],
             [
              0.2222222222222222,
              "#7201a8"
             ],
             [
              0.3333333333333333,
              "#9c179e"
             ],
             [
              0.4444444444444444,
              "#bd3786"
             ],
             [
              0.5555555555555556,
              "#d8576b"
             ],
             [
              0.6666666666666666,
              "#ed7953"
             ],
             [
              0.7777777777777778,
              "#fb9f3a"
             ],
             [
              0.8888888888888888,
              "#fdca26"
             ],
             [
              1,
              "#f0f921"
             ]
            ],
            "type": "histogram2d"
           }
          ],
          "histogram2dcontour": [
           {
            "colorbar": {
             "outlinewidth": 0,
             "ticks": ""
            },
            "colorscale": [
             [
              0,
              "#0d0887"
             ],
             [
              0.1111111111111111,
              "#46039f"
             ],
             [
              0.2222222222222222,
              "#7201a8"
             ],
             [
              0.3333333333333333,
              "#9c179e"
             ],
             [
              0.4444444444444444,
              "#bd3786"
             ],
             [
              0.5555555555555556,
              "#d8576b"
             ],
             [
              0.6666666666666666,
              "#ed7953"
             ],
             [
              0.7777777777777778,
              "#fb9f3a"
             ],
             [
              0.8888888888888888,
              "#fdca26"
             ],
             [
              1,
              "#f0f921"
             ]
            ],
            "type": "histogram2dcontour"
           }
          ],
          "mesh3d": [
           {
            "colorbar": {
             "outlinewidth": 0,
             "ticks": ""
            },
            "type": "mesh3d"
           }
          ],
          "parcoords": [
           {
            "line": {
             "colorbar": {
              "outlinewidth": 0,
              "ticks": ""
             }
            },
            "type": "parcoords"
           }
          ],
          "pie": [
           {
            "automargin": true,
            "type": "pie"
           }
          ],
          "scatter": [
           {
            "marker": {
             "colorbar": {
              "outlinewidth": 0,
              "ticks": ""
             }
            },
            "type": "scatter"
           }
          ],
          "scatter3d": [
           {
            "line": {
             "colorbar": {
              "outlinewidth": 0,
              "ticks": ""
             }
            },
            "marker": {
             "colorbar": {
              "outlinewidth": 0,
              "ticks": ""
             }
            },
            "type": "scatter3d"
           }
          ],
          "scattercarpet": [
           {
            "marker": {
             "colorbar": {
              "outlinewidth": 0,
              "ticks": ""
             }
            },
            "type": "scattercarpet"
           }
          ],
          "scattergeo": [
           {
            "marker": {
             "colorbar": {
              "outlinewidth": 0,
              "ticks": ""
             }
            },
            "type": "scattergeo"
           }
          ],
          "scattergl": [
           {
            "marker": {
             "colorbar": {
              "outlinewidth": 0,
              "ticks": ""
             }
            },
            "type": "scattergl"
           }
          ],
          "scattermapbox": [
           {
            "marker": {
             "colorbar": {
              "outlinewidth": 0,
              "ticks": ""
             }
            },
            "type": "scattermapbox"
           }
          ],
          "scatterpolar": [
           {
            "marker": {
             "colorbar": {
              "outlinewidth": 0,
              "ticks": ""
             }
            },
            "type": "scatterpolar"
           }
          ],
          "scatterpolargl": [
           {
            "marker": {
             "colorbar": {
              "outlinewidth": 0,
              "ticks": ""
             }
            },
            "type": "scatterpolargl"
           }
          ],
          "scatterternary": [
           {
            "marker": {
             "colorbar": {
              "outlinewidth": 0,
              "ticks": ""
             }
            },
            "type": "scatterternary"
           }
          ],
          "surface": [
           {
            "colorbar": {
             "outlinewidth": 0,
             "ticks": ""
            },
            "colorscale": [
             [
              0,
              "#0d0887"
             ],
             [
              0.1111111111111111,
              "#46039f"
             ],
             [
              0.2222222222222222,
              "#7201a8"
             ],
             [
              0.3333333333333333,
              "#9c179e"
             ],
             [
              0.4444444444444444,
              "#bd3786"
             ],
             [
              0.5555555555555556,
              "#d8576b"
             ],
             [
              0.6666666666666666,
              "#ed7953"
             ],
             [
              0.7777777777777778,
              "#fb9f3a"
             ],
             [
              0.8888888888888888,
              "#fdca26"
             ],
             [
              1,
              "#f0f921"
             ]
            ],
            "type": "surface"
           }
          ],
          "table": [
           {
            "cells": {
             "fill": {
              "color": "#EBF0F8"
             },
             "line": {
              "color": "white"
             }
            },
            "header": {
             "fill": {
              "color": "#C8D4E3"
             },
             "line": {
              "color": "white"
             }
            },
            "type": "table"
           }
          ]
         },
         "layout": {
          "annotationdefaults": {
           "arrowcolor": "#2a3f5f",
           "arrowhead": 0,
           "arrowwidth": 1
          },
          "coloraxis": {
           "colorbar": {
            "outlinewidth": 0,
            "ticks": ""
           }
          },
          "colorscale": {
           "diverging": [
            [
             0,
             "#8e0152"
            ],
            [
             0.1,
             "#c51b7d"
            ],
            [
             0.2,
             "#de77ae"
            ],
            [
             0.3,
             "#f1b6da"
            ],
            [
             0.4,
             "#fde0ef"
            ],
            [
             0.5,
             "#f7f7f7"
            ],
            [
             0.6,
             "#e6f5d0"
            ],
            [
             0.7,
             "#b8e186"
            ],
            [
             0.8,
             "#7fbc41"
            ],
            [
             0.9,
             "#4d9221"
            ],
            [
             1,
             "#276419"
            ]
           ],
           "sequential": [
            [
             0,
             "#0d0887"
            ],
            [
             0.1111111111111111,
             "#46039f"
            ],
            [
             0.2222222222222222,
             "#7201a8"
            ],
            [
             0.3333333333333333,
             "#9c179e"
            ],
            [
             0.4444444444444444,
             "#bd3786"
            ],
            [
             0.5555555555555556,
             "#d8576b"
            ],
            [
             0.6666666666666666,
             "#ed7953"
            ],
            [
             0.7777777777777778,
             "#fb9f3a"
            ],
            [
             0.8888888888888888,
             "#fdca26"
            ],
            [
             1,
             "#f0f921"
            ]
           ],
           "sequentialminus": [
            [
             0,
             "#0d0887"
            ],
            [
             0.1111111111111111,
             "#46039f"
            ],
            [
             0.2222222222222222,
             "#7201a8"
            ],
            [
             0.3333333333333333,
             "#9c179e"
            ],
            [
             0.4444444444444444,
             "#bd3786"
            ],
            [
             0.5555555555555556,
             "#d8576b"
            ],
            [
             0.6666666666666666,
             "#ed7953"
            ],
            [
             0.7777777777777778,
             "#fb9f3a"
            ],
            [
             0.8888888888888888,
             "#fdca26"
            ],
            [
             1,
             "#f0f921"
            ]
           ]
          },
          "colorway": [
           "#636efa",
           "#EF553B",
           "#00cc96",
           "#ab63fa",
           "#FFA15A",
           "#19d3f3",
           "#FF6692",
           "#B6E880",
           "#FF97FF",
           "#FECB52"
          ],
          "font": {
           "color": "#2a3f5f"
          },
          "geo": {
           "bgcolor": "white",
           "lakecolor": "white",
           "landcolor": "#E5ECF6",
           "showlakes": true,
           "showland": true,
           "subunitcolor": "white"
          },
          "hoverlabel": {
           "align": "left"
          },
          "hovermode": "closest",
          "mapbox": {
           "style": "light"
          },
          "paper_bgcolor": "white",
          "plot_bgcolor": "#E5ECF6",
          "polar": {
           "angularaxis": {
            "gridcolor": "white",
            "linecolor": "white",
            "ticks": ""
           },
           "bgcolor": "#E5ECF6",
           "radialaxis": {
            "gridcolor": "white",
            "linecolor": "white",
            "ticks": ""
           }
          },
          "scene": {
           "xaxis": {
            "backgroundcolor": "#E5ECF6",
            "gridcolor": "white",
            "gridwidth": 2,
            "linecolor": "white",
            "showbackground": true,
            "ticks": "",
            "zerolinecolor": "white"
           },
           "yaxis": {
            "backgroundcolor": "#E5ECF6",
            "gridcolor": "white",
            "gridwidth": 2,
            "linecolor": "white",
            "showbackground": true,
            "ticks": "",
            "zerolinecolor": "white"
           },
           "zaxis": {
            "backgroundcolor": "#E5ECF6",
            "gridcolor": "white",
            "gridwidth": 2,
            "linecolor": "white",
            "showbackground": true,
            "ticks": "",
            "zerolinecolor": "white"
           }
          },
          "shapedefaults": {
           "line": {
            "color": "#2a3f5f"
           }
          },
          "ternary": {
           "aaxis": {
            "gridcolor": "white",
            "linecolor": "white",
            "ticks": ""
           },
           "baxis": {
            "gridcolor": "white",
            "linecolor": "white",
            "ticks": ""
           },
           "bgcolor": "#E5ECF6",
           "caxis": {
            "gridcolor": "white",
            "linecolor": "white",
            "ticks": ""
           }
          },
          "title": {
           "x": 0.05
          },
          "xaxis": {
           "automargin": true,
           "gridcolor": "white",
           "linecolor": "white",
           "ticks": "",
           "title": {
            "standoff": 15
           },
           "zerolinecolor": "white",
           "zerolinewidth": 2
          },
          "yaxis": {
           "automargin": true,
           "gridcolor": "white",
           "linecolor": "white",
           "ticks": "",
           "title": {
            "standoff": 15
           },
           "zerolinecolor": "white",
           "zerolinewidth": 2
          }
         }
        },
        "title": {
         "text": "Temperaturverlauf am 2020-08-20 in Darmstadt"
        },
        "xaxis": {
         "anchor": "y",
         "domain": [
          0,
          1
         ],
         "title": {
          "text": "date"
         }
        },
        "yaxis": {
         "anchor": "x",
         "domain": [
          0,
          1
         ],
         "title": {
          "text": "temperature"
         }
        }
       }
      },
      "text/html": [
       "<div>                            <div id=\"33051c5f-07ff-4c64-816a-a4dc50c3d761\" class=\"plotly-graph-div\" style=\"height:525px; width:100%;\"></div>            <script type=\"text/javascript\">                require([\"plotly\"], function(Plotly) {                    window.PLOTLYENV=window.PLOTLYENV || {};                                    if (document.getElementById(\"33051c5f-07ff-4c64-816a-a4dc50c3d761\")) {                    Plotly.newPlot(                        \"33051c5f-07ff-4c64-816a-a4dc50c3d761\",                        [{\"alignmentgroup\": \"True\", \"customdata\": [[917, \"Darmstadt\"], [917, \"Darmstadt\"], [917, \"Darmstadt\"], [917, \"Darmstadt\"], [917, \"Darmstadt\"], [917, \"Darmstadt\"], [917, \"Darmstadt\"], [917, \"Darmstadt\"], [917, \"Darmstadt\"], [917, \"Darmstadt\"], [917, \"Darmstadt\"], [917, \"Darmstadt\"], [917, \"Darmstadt\"], [917, \"Darmstadt\"], [917, \"Darmstadt\"], [917, \"Darmstadt\"], [917, \"Darmstadt\"], [917, \"Darmstadt\"], [917, \"Darmstadt\"], [917, \"Darmstadt\"], [917, \"Darmstadt\"], [917, \"Darmstadt\"], [917, \"Darmstadt\"], [917, \"Darmstadt\"]], \"hovertemplate\": \"date=%{x}<br>temperature=%{marker.color}<br>station_id=%{customdata[0]}<br>STATION_NAME=%{customdata[1]}<extra></extra>\", \"legendgroup\": \"\", \"marker\": {\"color\": [17.9, 18.1, 18.1, 17.7, 18.2, 17.9, 18.0, 19.2, 22.3, 25.0, 27.1, 28.5, 29.4, 30.0, 31.0, 31.9, 31.1, 29.6, 26.9, 23.0, 21.1, 20.4, 20.3, 19.8], \"coloraxis\": \"coloraxis\"}, \"name\": \"\", \"offsetgroup\": \"\", \"orientation\": \"v\", \"showlegend\": false, \"textposition\": \"auto\", \"type\": \"bar\", \"x\": [\"2020-08-20T00:00:00\", \"2020-08-20T01:00:00\", \"2020-08-20T02:00:00\", \"2020-08-20T03:00:00\", \"2020-08-20T04:00:00\", \"2020-08-20T05:00:00\", \"2020-08-20T06:00:00\", \"2020-08-20T07:00:00\", \"2020-08-20T08:00:00\", \"2020-08-20T09:00:00\", \"2020-08-20T10:00:00\", \"2020-08-20T11:00:00\", \"2020-08-20T12:00:00\", \"2020-08-20T13:00:00\", \"2020-08-20T14:00:00\", \"2020-08-20T15:00:00\", \"2020-08-20T16:00:00\", \"2020-08-20T17:00:00\", \"2020-08-20T18:00:00\", \"2020-08-20T19:00:00\", \"2020-08-20T20:00:00\", \"2020-08-20T21:00:00\", \"2020-08-20T22:00:00\", \"2020-08-20T23:00:00\"], \"xaxis\": \"x\", \"y\": [17.9, 18.1, 18.1, 17.7, 18.2, 17.9, 18.0, 19.2, 22.3, 25.0, 27.1, 28.5, 29.4, 30.0, 31.0, 31.9, 31.1, 29.6, 26.9, 23.0, 21.1, 20.4, 20.3, 19.8], \"yaxis\": \"y\"}],                        {\"barmode\": \"relative\", \"coloraxis\": {\"colorbar\": {\"title\": {\"text\": \"temperature\"}}, \"colorscale\": [[0.0, \"#0d0887\"], [0.1111111111111111, \"#46039f\"], [0.2222222222222222, \"#7201a8\"], [0.3333333333333333, \"#9c179e\"], [0.4444444444444444, \"#bd3786\"], [0.5555555555555556, \"#d8576b\"], [0.6666666666666666, \"#ed7953\"], [0.7777777777777778, \"#fb9f3a\"], [0.8888888888888888, \"#fdca26\"], [1.0, \"#f0f921\"]]}, \"legend\": {\"tracegroupgap\": 0}, \"template\": {\"data\": {\"bar\": [{\"error_x\": {\"color\": \"#2a3f5f\"}, \"error_y\": {\"color\": \"#2a3f5f\"}, \"marker\": {\"line\": {\"color\": \"#E5ECF6\", \"width\": 0.5}}, \"type\": \"bar\"}], \"barpolar\": [{\"marker\": {\"line\": {\"color\": \"#E5ECF6\", \"width\": 0.5}}, \"type\": \"barpolar\"}], \"carpet\": [{\"aaxis\": {\"endlinecolor\": \"#2a3f5f\", \"gridcolor\": \"white\", \"linecolor\": \"white\", \"minorgridcolor\": \"white\", \"startlinecolor\": \"#2a3f5f\"}, \"baxis\": {\"endlinecolor\": \"#2a3f5f\", \"gridcolor\": \"white\", \"linecolor\": \"white\", \"minorgridcolor\": \"white\", \"startlinecolor\": \"#2a3f5f\"}, \"type\": \"carpet\"}], \"choropleth\": [{\"colorbar\": {\"outlinewidth\": 0, \"ticks\": \"\"}, \"type\": \"choropleth\"}], \"contour\": [{\"colorbar\": {\"outlinewidth\": 0, \"ticks\": \"\"}, \"colorscale\": [[0.0, \"#0d0887\"], [0.1111111111111111, \"#46039f\"], [0.2222222222222222, \"#7201a8\"], [0.3333333333333333, \"#9c179e\"], [0.4444444444444444, \"#bd3786\"], [0.5555555555555556, \"#d8576b\"], [0.6666666666666666, \"#ed7953\"], [0.7777777777777778, \"#fb9f3a\"], [0.8888888888888888, \"#fdca26\"], [1.0, \"#f0f921\"]], \"type\": \"contour\"}], \"contourcarpet\": [{\"colorbar\": {\"outlinewidth\": 0, \"ticks\": \"\"}, \"type\": \"contourcarpet\"}], \"heatmap\": [{\"colorbar\": {\"outlinewidth\": 0, \"ticks\": \"\"}, \"colorscale\": [[0.0, \"#0d0887\"], [0.1111111111111111, \"#46039f\"], [0.2222222222222222, \"#7201a8\"], [0.3333333333333333, \"#9c179e\"], [0.4444444444444444, \"#bd3786\"], [0.5555555555555556, \"#d8576b\"], [0.6666666666666666, \"#ed7953\"], [0.7777777777777778, \"#fb9f3a\"], [0.8888888888888888, \"#fdca26\"], [1.0, \"#f0f921\"]], \"type\": \"heatmap\"}], \"heatmapgl\": [{\"colorbar\": {\"outlinewidth\": 0, \"ticks\": \"\"}, \"colorscale\": [[0.0, \"#0d0887\"], [0.1111111111111111, \"#46039f\"], [0.2222222222222222, \"#7201a8\"], [0.3333333333333333, \"#9c179e\"], [0.4444444444444444, \"#bd3786\"], [0.5555555555555556, \"#d8576b\"], [0.6666666666666666, \"#ed7953\"], [0.7777777777777778, \"#fb9f3a\"], [0.8888888888888888, \"#fdca26\"], [1.0, \"#f0f921\"]], \"type\": \"heatmapgl\"}], \"histogram\": [{\"marker\": {\"colorbar\": {\"outlinewidth\": 0, \"ticks\": \"\"}}, \"type\": \"histogram\"}], \"histogram2d\": [{\"colorbar\": {\"outlinewidth\": 0, \"ticks\": \"\"}, \"colorscale\": [[0.0, \"#0d0887\"], [0.1111111111111111, \"#46039f\"], [0.2222222222222222, \"#7201a8\"], [0.3333333333333333, \"#9c179e\"], [0.4444444444444444, \"#bd3786\"], [0.5555555555555556, \"#d8576b\"], [0.6666666666666666, \"#ed7953\"], [0.7777777777777778, \"#fb9f3a\"], [0.8888888888888888, \"#fdca26\"], [1.0, \"#f0f921\"]], \"type\": \"histogram2d\"}], \"histogram2dcontour\": [{\"colorbar\": {\"outlinewidth\": 0, \"ticks\": \"\"}, \"colorscale\": [[0.0, \"#0d0887\"], [0.1111111111111111, \"#46039f\"], [0.2222222222222222, \"#7201a8\"], [0.3333333333333333, \"#9c179e\"], [0.4444444444444444, \"#bd3786\"], [0.5555555555555556, \"#d8576b\"], [0.6666666666666666, \"#ed7953\"], [0.7777777777777778, \"#fb9f3a\"], [0.8888888888888888, \"#fdca26\"], [1.0, \"#f0f921\"]], \"type\": \"histogram2dcontour\"}], \"mesh3d\": [{\"colorbar\": {\"outlinewidth\": 0, \"ticks\": \"\"}, \"type\": \"mesh3d\"}], \"parcoords\": [{\"line\": {\"colorbar\": {\"outlinewidth\": 0, \"ticks\": \"\"}}, \"type\": \"parcoords\"}], \"pie\": [{\"automargin\": true, \"type\": \"pie\"}], \"scatter\": [{\"marker\": {\"colorbar\": {\"outlinewidth\": 0, \"ticks\": \"\"}}, \"type\": \"scatter\"}], \"scatter3d\": [{\"line\": {\"colorbar\": {\"outlinewidth\": 0, \"ticks\": \"\"}}, \"marker\": {\"colorbar\": {\"outlinewidth\": 0, \"ticks\": \"\"}}, \"type\": \"scatter3d\"}], \"scattercarpet\": [{\"marker\": {\"colorbar\": {\"outlinewidth\": 0, \"ticks\": \"\"}}, \"type\": \"scattercarpet\"}], \"scattergeo\": [{\"marker\": {\"colorbar\": {\"outlinewidth\": 0, \"ticks\": \"\"}}, \"type\": \"scattergeo\"}], \"scattergl\": [{\"marker\": {\"colorbar\": {\"outlinewidth\": 0, \"ticks\": \"\"}}, \"type\": \"scattergl\"}], \"scattermapbox\": [{\"marker\": {\"colorbar\": {\"outlinewidth\": 0, \"ticks\": \"\"}}, \"type\": \"scattermapbox\"}], \"scatterpolar\": [{\"marker\": {\"colorbar\": {\"outlinewidth\": 0, \"ticks\": \"\"}}, \"type\": \"scatterpolar\"}], \"scatterpolargl\": [{\"marker\": {\"colorbar\": {\"outlinewidth\": 0, \"ticks\": \"\"}}, \"type\": \"scatterpolargl\"}], \"scatterternary\": [{\"marker\": {\"colorbar\": {\"outlinewidth\": 0, \"ticks\": \"\"}}, \"type\": \"scatterternary\"}], \"surface\": [{\"colorbar\": {\"outlinewidth\": 0, \"ticks\": \"\"}, \"colorscale\": [[0.0, \"#0d0887\"], [0.1111111111111111, \"#46039f\"], [0.2222222222222222, \"#7201a8\"], [0.3333333333333333, \"#9c179e\"], [0.4444444444444444, \"#bd3786\"], [0.5555555555555556, \"#d8576b\"], [0.6666666666666666, \"#ed7953\"], [0.7777777777777778, \"#fb9f3a\"], [0.8888888888888888, \"#fdca26\"], [1.0, \"#f0f921\"]], \"type\": \"surface\"}], \"table\": [{\"cells\": {\"fill\": {\"color\": \"#EBF0F8\"}, \"line\": {\"color\": \"white\"}}, \"header\": {\"fill\": {\"color\": \"#C8D4E3\"}, \"line\": {\"color\": \"white\"}}, \"type\": \"table\"}]}, \"layout\": {\"annotationdefaults\": {\"arrowcolor\": \"#2a3f5f\", \"arrowhead\": 0, \"arrowwidth\": 1}, \"coloraxis\": {\"colorbar\": {\"outlinewidth\": 0, \"ticks\": \"\"}}, \"colorscale\": {\"diverging\": [[0, \"#8e0152\"], [0.1, \"#c51b7d\"], [0.2, \"#de77ae\"], [0.3, \"#f1b6da\"], [0.4, \"#fde0ef\"], [0.5, \"#f7f7f7\"], [0.6, \"#e6f5d0\"], [0.7, \"#b8e186\"], [0.8, \"#7fbc41\"], [0.9, \"#4d9221\"], [1, \"#276419\"]], \"sequential\": [[0.0, \"#0d0887\"], [0.1111111111111111, \"#46039f\"], [0.2222222222222222, \"#7201a8\"], [0.3333333333333333, \"#9c179e\"], [0.4444444444444444, \"#bd3786\"], [0.5555555555555556, \"#d8576b\"], [0.6666666666666666, \"#ed7953\"], [0.7777777777777778, \"#fb9f3a\"], [0.8888888888888888, \"#fdca26\"], [1.0, \"#f0f921\"]], \"sequentialminus\": [[0.0, \"#0d0887\"], [0.1111111111111111, \"#46039f\"], [0.2222222222222222, \"#7201a8\"], [0.3333333333333333, \"#9c179e\"], [0.4444444444444444, \"#bd3786\"], [0.5555555555555556, \"#d8576b\"], [0.6666666666666666, \"#ed7953\"], [0.7777777777777778, \"#fb9f3a\"], [0.8888888888888888, \"#fdca26\"], [1.0, \"#f0f921\"]]}, \"colorway\": [\"#636efa\", \"#EF553B\", \"#00cc96\", \"#ab63fa\", \"#FFA15A\", \"#19d3f3\", \"#FF6692\", \"#B6E880\", \"#FF97FF\", \"#FECB52\"], \"font\": {\"color\": \"#2a3f5f\"}, \"geo\": {\"bgcolor\": \"white\", \"lakecolor\": \"white\", \"landcolor\": \"#E5ECF6\", \"showlakes\": true, \"showland\": true, \"subunitcolor\": \"white\"}, \"hoverlabel\": {\"align\": \"left\"}, \"hovermode\": \"closest\", \"mapbox\": {\"style\": \"light\"}, \"paper_bgcolor\": \"white\", \"plot_bgcolor\": \"#E5ECF6\", \"polar\": {\"angularaxis\": {\"gridcolor\": \"white\", \"linecolor\": \"white\", \"ticks\": \"\"}, \"bgcolor\": \"#E5ECF6\", \"radialaxis\": {\"gridcolor\": \"white\", \"linecolor\": \"white\", \"ticks\": \"\"}}, \"scene\": {\"xaxis\": {\"backgroundcolor\": \"#E5ECF6\", \"gridcolor\": \"white\", \"gridwidth\": 2, \"linecolor\": \"white\", \"showbackground\": true, \"ticks\": \"\", \"zerolinecolor\": \"white\"}, \"yaxis\": {\"backgroundcolor\": \"#E5ECF6\", \"gridcolor\": \"white\", \"gridwidth\": 2, \"linecolor\": \"white\", \"showbackground\": true, \"ticks\": \"\", \"zerolinecolor\": \"white\"}, \"zaxis\": {\"backgroundcolor\": \"#E5ECF6\", \"gridcolor\": \"white\", \"gridwidth\": 2, \"linecolor\": \"white\", \"showbackground\": true, \"ticks\": \"\", \"zerolinecolor\": \"white\"}}, \"shapedefaults\": {\"line\": {\"color\": \"#2a3f5f\"}}, \"ternary\": {\"aaxis\": {\"gridcolor\": \"white\", \"linecolor\": \"white\", \"ticks\": \"\"}, \"baxis\": {\"gridcolor\": \"white\", \"linecolor\": \"white\", \"ticks\": \"\"}, \"bgcolor\": \"#E5ECF6\", \"caxis\": {\"gridcolor\": \"white\", \"linecolor\": \"white\", \"ticks\": \"\"}}, \"title\": {\"x\": 0.05}, \"xaxis\": {\"automargin\": true, \"gridcolor\": \"white\", \"linecolor\": \"white\", \"ticks\": \"\", \"title\": {\"standoff\": 15}, \"zerolinecolor\": \"white\", \"zerolinewidth\": 2}, \"yaxis\": {\"automargin\": true, \"gridcolor\": \"white\", \"linecolor\": \"white\", \"ticks\": \"\", \"title\": {\"standoff\": 15}, \"zerolinecolor\": \"white\", \"zerolinewidth\": 2}}}, \"title\": {\"text\": \"Temperaturverlauf am 2020-08-20 in Darmstadt\"}, \"xaxis\": {\"anchor\": \"y\", \"domain\": [0.0, 1.0], \"title\": {\"text\": \"date\"}}, \"yaxis\": {\"anchor\": \"x\", \"domain\": [0.0, 1.0], \"title\": {\"text\": \"temperature\"}}},                        {\"responsive\": true}                    ).then(function(){\n",
       "                            \n",
       "var gd = document.getElementById('33051c5f-07ff-4c64-816a-a4dc50c3d761');\n",
       "var x = new MutationObserver(function (mutations, observer) {{\n",
       "        var display = window.getComputedStyle(gd).display;\n",
       "        if (!display || display === 'none') {{\n",
       "            console.log([gd, 'removed!']);\n",
       "            Plotly.purge(gd);\n",
       "            observer.disconnect();\n",
       "        }}\n",
       "}});\n",
       "\n",
       "// Listen for the removal of the full notebook cells\n",
       "var notebookContainer = gd.closest('#notebook-container');\n",
       "if (notebookContainer) {{\n",
       "    x.observe(notebookContainer, {childList: true});\n",
       "}}\n",
       "\n",
       "// Listen for the clearing of the current output cell\n",
       "var outputEl = gd.closest('.output');\n",
       "if (outputEl) {{\n",
       "    x.observe(outputEl, {childList: true});\n",
       "}}\n",
       "\n",
       "                        })                };                });            </script>        </div>"
      ]
     },
     "metadata": {},
     "output_type": "display_data"
    }
   ],
   "source": [
    "\n",
    "calculate_plot(tempbydate)\n"
   ]
  },
  {
   "cell_type": "markdown",
   "metadata": {},
   "source": [
    "## Anhang: Buggy-Slidy"
   ]
  },
  {
   "cell_type": "markdown",
   "metadata": {},
   "source": [
    "Bei dem Versuch das obige Diagramm mit einem Slider zu versehen, stieß ich auf mir unerklärliche Probleme: Der Silder tat was er sollte, die Daten wurde trotzdem nur zufällig angezeigt. Es wurde Daten angezeigt, wenn mit dem Slider lange hin und her gewackelt wurde. Zeitbedingt konnte dieses Problem nicht mehr gelöst werden. (Eventuell ist mein Rechner zu schlecht, versuchen Sie es doch mal.)"
   ]
  },
  {
   "cell_type": "code",
   "execution_count": 60,
   "metadata": {},
   "outputs": [],
   "source": [
    "def temp_by_date_buggy(df,stationid):\n",
    "  \n",
    "    result =  df.loc[df['station_id']== stationid ]\n",
    "    return result"
   ]
  },
  {
   "cell_type": "code",
   "execution_count": 61,
   "metadata": {},
   "outputs": [],
   "source": [
    "tempbydate = temp_by_date_buggy(weather_stations,917)"
   ]
  },
  {
   "cell_type": "code",
   "execution_count": 64,
   "metadata": {},
   "outputs": [
    {
     "name": "stderr",
     "output_type": "stream",
     "text": [
      "D:\\Anaconda64\\lib\\site-packages\\ipykernel_launcher.py:1: SettingWithCopyWarning:\n",
      "\n",
      "\n",
      "A value is trying to be set on a copy of a slice from a DataFrame.\n",
      "Try using .loc[row_indexer,col_indexer] = value instead\n",
      "\n",
      "See the caveats in the documentation: https://pandas.pydata.org/pandas-docs/stable/user_guide/indexing.html#returning-a-view-versus-a-copy\n",
      "\n"
     ]
    }
   ],
   "source": [
    "tempbydate['date2']=tempbydate['date'].dt.normalize().astype(str)"
   ]
  },
  {
   "cell_type": "code",
   "execution_count": 65,
   "metadata": {},
   "outputs": [],
   "source": [
    "def calculate_plot2(tempbydate):\n",
    "    fig2 =  px.bar(tempbydate,\n",
    "             y= \"temperature\", \n",
    "             x= \"date\",\n",
    "                   title = 'Temperaturverlauf am ' + str(tempbydate[\"date\"].dt.date.iloc[0]) + ' in ' + str(tempbydate[\"STATION_NAME\"].iloc[0]),\n",
    "                   hover_data=['station_id', 'STATION_NAME'], \n",
    "                   color='temperature', \n",
    "                   animation_frame='date2')\n",
    "    #fig2[\"layout\"].pop(\"updatemenus\") \n",
    "    fig2.show()"
   ]
  },
  {
   "cell_type": "code",
   "execution_count": 66,
   "metadata": {},
   "outputs": [
    {
     "data": {
      "application/vnd.plotly.v1+json": {
       "config": {
        "plotlyServerURL": "https://plot.ly"
       },
       "data": [
        {
         "alignmentgroup": "True",
         "customdata": [
          [
           917,
           "Darmstadt"
          ],
          [
           917,
           "Darmstadt"
          ],
          [
           917,
           "Darmstadt"
          ],
          [
           917,
           "Darmstadt"
          ],
          [
           917,
           "Darmstadt"
          ],
          [
           917,
           "Darmstadt"
          ],
          [
           917,
           "Darmstadt"
          ],
          [
           917,
           "Darmstadt"
          ],
          [
           917,
           "Darmstadt"
          ],
          [
           917,
           "Darmstadt"
          ],
          [
           917,
           "Darmstadt"
          ],
          [
           917,
           "Darmstadt"
          ],
          [
           917,
           "Darmstadt"
          ],
          [
           917,
           "Darmstadt"
          ],
          [
           917,
           "Darmstadt"
          ],
          [
           917,
           "Darmstadt"
          ],
          [
           917,
           "Darmstadt"
          ],
          [
           917,
           "Darmstadt"
          ],
          [
           917,
           "Darmstadt"
          ],
          [
           917,
           "Darmstadt"
          ],
          [
           917,
           "Darmstadt"
          ],
          [
           917,
           "Darmstadt"
          ],
          [
           917,
           "Darmstadt"
          ],
          [
           917,
           "Darmstadt"
          ]
         ],
         "hovertemplate": "date2=2020-07-01<br>date=%{x}<br>temperature=%{marker.color}<br>station_id=%{customdata[0]}<br>STATION_NAME=%{customdata[1]}<extra></extra>",
         "legendgroup": "",
         "marker": {
          "color": [
           17,
           16.8,
           16.4,
           16,
           15.3,
           16.4,
           18.3,
           19.5,
           20.6,
           23.3,
           23.8,
           25.8,
           27.6,
           28.3,
           28.2,
           28,
           27.2,
           25.5,
           24.7,
           24.5,
           22.7,
           21.9,
           21,
           21.1
          ],
          "coloraxis": "coloraxis"
         },
         "name": "",
         "offsetgroup": "",
         "orientation": "v",
         "showlegend": false,
         "textposition": "auto",
         "type": "bar",
         "x": [
          "2020-07-01T00:00:00",
          "2020-07-01T01:00:00",
          "2020-07-01T02:00:00",
          "2020-07-01T03:00:00",
          "2020-07-01T04:00:00",
          "2020-07-01T05:00:00",
          "2020-07-01T06:00:00",
          "2020-07-01T07:00:00",
          "2020-07-01T08:00:00",
          "2020-07-01T09:00:00",
          "2020-07-01T10:00:00",
          "2020-07-01T11:00:00",
          "2020-07-01T12:00:00",
          "2020-07-01T13:00:00",
          "2020-07-01T14:00:00",
          "2020-07-01T15:00:00",
          "2020-07-01T16:00:00",
          "2020-07-01T17:00:00",
          "2020-07-01T18:00:00",
          "2020-07-01T19:00:00",
          "2020-07-01T20:00:00",
          "2020-07-01T21:00:00",
          "2020-07-01T22:00:00",
          "2020-07-01T23:00:00"
         ],
         "xaxis": "x",
         "y": [
          17,
          16.8,
          16.4,
          16,
          15.3,
          16.4,
          18.3,
          19.5,
          20.6,
          23.3,
          23.8,
          25.8,
          27.6,
          28.3,
          28.2,
          28,
          27.2,
          25.5,
          24.7,
          24.5,
          22.7,
          21.9,
          21,
          21.1
         ],
         "yaxis": "y"
        }
       ],
       "frames": [
        {
         "data": [
          {
           "alignmentgroup": "True",
           "customdata": [
            [
             917,
             "Darmstadt"
            ],
            [
             917,
             "Darmstadt"
            ],
            [
             917,
             "Darmstadt"
            ],
            [
             917,
             "Darmstadt"
            ],
            [
             917,
             "Darmstadt"
            ],
            [
             917,
             "Darmstadt"
            ],
            [
             917,
             "Darmstadt"
            ],
            [
             917,
             "Darmstadt"
            ],
            [
             917,
             "Darmstadt"
            ],
            [
             917,
             "Darmstadt"
            ],
            [
             917,
             "Darmstadt"
            ],
            [
             917,
             "Darmstadt"
            ],
            [
             917,
             "Darmstadt"
            ],
            [
             917,
             "Darmstadt"
            ],
            [
             917,
             "Darmstadt"
            ],
            [
             917,
             "Darmstadt"
            ],
            [
             917,
             "Darmstadt"
            ],
            [
             917,
             "Darmstadt"
            ],
            [
             917,
             "Darmstadt"
            ],
            [
             917,
             "Darmstadt"
            ],
            [
             917,
             "Darmstadt"
            ],
            [
             917,
             "Darmstadt"
            ],
            [
             917,
             "Darmstadt"
            ],
            [
             917,
             "Darmstadt"
            ]
           ],
           "hovertemplate": "date2=2020-07-01<br>date=%{x}<br>temperature=%{marker.color}<br>station_id=%{customdata[0]}<br>STATION_NAME=%{customdata[1]}<extra></extra>",
           "legendgroup": "",
           "marker": {
            "color": [
             17,
             16.8,
             16.4,
             16,
             15.3,
             16.4,
             18.3,
             19.5,
             20.6,
             23.3,
             23.8,
             25.8,
             27.6,
             28.3,
             28.2,
             28,
             27.2,
             25.5,
             24.7,
             24.5,
             22.7,
             21.9,
             21,
             21.1
            ],
            "coloraxis": "coloraxis"
           },
           "name": "",
           "offsetgroup": "",
           "orientation": "v",
           "showlegend": false,
           "textposition": "auto",
           "type": "bar",
           "x": [
            "2020-07-01T00:00:00",
            "2020-07-01T01:00:00",
            "2020-07-01T02:00:00",
            "2020-07-01T03:00:00",
            "2020-07-01T04:00:00",
            "2020-07-01T05:00:00",
            "2020-07-01T06:00:00",
            "2020-07-01T07:00:00",
            "2020-07-01T08:00:00",
            "2020-07-01T09:00:00",
            "2020-07-01T10:00:00",
            "2020-07-01T11:00:00",
            "2020-07-01T12:00:00",
            "2020-07-01T13:00:00",
            "2020-07-01T14:00:00",
            "2020-07-01T15:00:00",
            "2020-07-01T16:00:00",
            "2020-07-01T17:00:00",
            "2020-07-01T18:00:00",
            "2020-07-01T19:00:00",
            "2020-07-01T20:00:00",
            "2020-07-01T21:00:00",
            "2020-07-01T22:00:00",
            "2020-07-01T23:00:00"
           ],
           "xaxis": "x",
           "y": [
            17,
            16.8,
            16.4,
            16,
            15.3,
            16.4,
            18.3,
            19.5,
            20.6,
            23.3,
            23.8,
            25.8,
            27.6,
            28.3,
            28.2,
            28,
            27.2,
            25.5,
            24.7,
            24.5,
            22.7,
            21.9,
            21,
            21.1
           ],
           "yaxis": "y"
          }
         ],
         "name": "2020-07-01"
        },
        {
         "data": [
          {
           "alignmentgroup": "True",
           "customdata": [
            [
             917,
             "Darmstadt"
            ],
            [
             917,
             "Darmstadt"
            ],
            [
             917,
             "Darmstadt"
            ],
            [
             917,
             "Darmstadt"
            ],
            [
             917,
             "Darmstadt"
            ],
            [
             917,
             "Darmstadt"
            ],
            [
             917,
             "Darmstadt"
            ],
            [
             917,
             "Darmstadt"
            ],
            [
             917,
             "Darmstadt"
            ],
            [
             917,
             "Darmstadt"
            ],
            [
             917,
             "Darmstadt"
            ],
            [
             917,
             "Darmstadt"
            ],
            [
             917,
             "Darmstadt"
            ],
            [
             917,
             "Darmstadt"
            ],
            [
             917,
             "Darmstadt"
            ],
            [
             917,
             "Darmstadt"
            ],
            [
             917,
             "Darmstadt"
            ],
            [
             917,
             "Darmstadt"
            ],
            [
             917,
             "Darmstadt"
            ],
            [
             917,
             "Darmstadt"
            ],
            [
             917,
             "Darmstadt"
            ],
            [
             917,
             "Darmstadt"
            ],
            [
             917,
             "Darmstadt"
            ],
            [
             917,
             "Darmstadt"
            ]
           ],
           "hovertemplate": "date2=2020-07-02<br>date=%{x}<br>temperature=%{marker.color}<br>station_id=%{customdata[0]}<br>STATION_NAME=%{customdata[1]}<extra></extra>",
           "legendgroup": "",
           "marker": {
            "color": [
             21.4,
             18.9,
             17.9,
             17.3,
             16.7,
             16.6,
             17.7,
             18.1,
             21.1,
             21.9,
             24.8,
             23.6,
             23.3,
             25.8,
             25.8,
             24.2,
             24.3,
             23.6,
             19.8,
             17.7,
             17,
             16.5,
             16.9,
             14.9
            ],
            "coloraxis": "coloraxis"
           },
           "name": "",
           "offsetgroup": "",
           "orientation": "v",
           "showlegend": false,
           "textposition": "auto",
           "type": "bar",
           "x": [
            "2020-07-02T00:00:00",
            "2020-07-02T01:00:00",
            "2020-07-02T02:00:00",
            "2020-07-02T03:00:00",
            "2020-07-02T04:00:00",
            "2020-07-02T05:00:00",
            "2020-07-02T06:00:00",
            "2020-07-02T07:00:00",
            "2020-07-02T08:00:00",
            "2020-07-02T09:00:00",
            "2020-07-02T10:00:00",
            "2020-07-02T11:00:00",
            "2020-07-02T12:00:00",
            "2020-07-02T13:00:00",
            "2020-07-02T14:00:00",
            "2020-07-02T15:00:00",
            "2020-07-02T16:00:00",
            "2020-07-02T17:00:00",
            "2020-07-02T18:00:00",
            "2020-07-02T19:00:00",
            "2020-07-02T20:00:00",
            "2020-07-02T21:00:00",
            "2020-07-02T22:00:00",
            "2020-07-02T23:00:00"
           ],
           "xaxis": "x",
           "y": [
            21.4,
            18.9,
            17.9,
            17.3,
            16.7,
            16.6,
            17.7,
            18.1,
            21.1,
            21.9,
            24.8,
            23.6,
            23.3,
            25.8,
            25.8,
            24.2,
            24.3,
            23.6,
            19.8,
            17.7,
            17,
            16.5,
            16.9,
            14.9
           ],
           "yaxis": "y"
          }
         ],
         "name": "2020-07-02"
        },
        {
         "data": [
          {
           "alignmentgroup": "True",
           "customdata": [
            [
             917,
             "Darmstadt"
            ],
            [
             917,
             "Darmstadt"
            ],
            [
             917,
             "Darmstadt"
            ],
            [
             917,
             "Darmstadt"
            ],
            [
             917,
             "Darmstadt"
            ],
            [
             917,
             "Darmstadt"
            ],
            [
             917,
             "Darmstadt"
            ],
            [
             917,
             "Darmstadt"
            ],
            [
             917,
             "Darmstadt"
            ],
            [
             917,
             "Darmstadt"
            ],
            [
             917,
             "Darmstadt"
            ],
            [
             917,
             "Darmstadt"
            ],
            [
             917,
             "Darmstadt"
            ],
            [
             917,
             "Darmstadt"
            ],
            [
             917,
             "Darmstadt"
            ],
            [
             917,
             "Darmstadt"
            ],
            [
             917,
             "Darmstadt"
            ],
            [
             917,
             "Darmstadt"
            ],
            [
             917,
             "Darmstadt"
            ],
            [
             917,
             "Darmstadt"
            ],
            [
             917,
             "Darmstadt"
            ],
            [
             917,
             "Darmstadt"
            ],
            [
             917,
             "Darmstadt"
            ],
            [
             917,
             "Darmstadt"
            ]
           ],
           "hovertemplate": "date2=2020-07-03<br>date=%{x}<br>temperature=%{marker.color}<br>station_id=%{customdata[0]}<br>STATION_NAME=%{customdata[1]}<extra></extra>",
           "legendgroup": "",
           "marker": {
            "color": [
             15.7,
             13.8,
             13.4,
             11.5,
             10.5,
             13,
             15.6,
             18,
             19.2,
             20.4,
             22.2,
             21.3,
             22.5,
             24.8,
             23,
             24.1,
             23.3,
             23.2,
             22.2,
             21.1,
             18.1,
             15.3,
             13.1,
             12.1
            ],
            "coloraxis": "coloraxis"
           },
           "name": "",
           "offsetgroup": "",
           "orientation": "v",
           "showlegend": false,
           "textposition": "auto",
           "type": "bar",
           "x": [
            "2020-07-03T00:00:00",
            "2020-07-03T01:00:00",
            "2020-07-03T02:00:00",
            "2020-07-03T03:00:00",
            "2020-07-03T04:00:00",
            "2020-07-03T05:00:00",
            "2020-07-03T06:00:00",
            "2020-07-03T07:00:00",
            "2020-07-03T08:00:00",
            "2020-07-03T09:00:00",
            "2020-07-03T10:00:00",
            "2020-07-03T11:00:00",
            "2020-07-03T12:00:00",
            "2020-07-03T13:00:00",
            "2020-07-03T14:00:00",
            "2020-07-03T15:00:00",
            "2020-07-03T16:00:00",
            "2020-07-03T17:00:00",
            "2020-07-03T18:00:00",
            "2020-07-03T19:00:00",
            "2020-07-03T20:00:00",
            "2020-07-03T21:00:00",
            "2020-07-03T22:00:00",
            "2020-07-03T23:00:00"
           ],
           "xaxis": "x",
           "y": [
            15.7,
            13.8,
            13.4,
            11.5,
            10.5,
            13,
            15.6,
            18,
            19.2,
            20.4,
            22.2,
            21.3,
            22.5,
            24.8,
            23,
            24.1,
            23.3,
            23.2,
            22.2,
            21.1,
            18.1,
            15.3,
            13.1,
            12.1
           ],
           "yaxis": "y"
          }
         ],
         "name": "2020-07-03"
        },
        {
         "data": [
          {
           "alignmentgroup": "True",
           "customdata": [
            [
             917,
             "Darmstadt"
            ],
            [
             917,
             "Darmstadt"
            ],
            [
             917,
             "Darmstadt"
            ],
            [
             917,
             "Darmstadt"
            ],
            [
             917,
             "Darmstadt"
            ],
            [
             917,
             "Darmstadt"
            ],
            [
             917,
             "Darmstadt"
            ],
            [
             917,
             "Darmstadt"
            ],
            [
             917,
             "Darmstadt"
            ],
            [
             917,
             "Darmstadt"
            ],
            [
             917,
             "Darmstadt"
            ],
            [
             917,
             "Darmstadt"
            ],
            [
             917,
             "Darmstadt"
            ],
            [
             917,
             "Darmstadt"
            ],
            [
             917,
             "Darmstadt"
            ],
            [
             917,
             "Darmstadt"
            ],
            [
             917,
             "Darmstadt"
            ],
            [
             917,
             "Darmstadt"
            ],
            [
             917,
             "Darmstadt"
            ],
            [
             917,
             "Darmstadt"
            ],
            [
             917,
             "Darmstadt"
            ],
            [
             917,
             "Darmstadt"
            ],
            [
             917,
             "Darmstadt"
            ],
            [
             917,
             "Darmstadt"
            ]
           ],
           "hovertemplate": "date2=2020-07-04<br>date=%{x}<br>temperature=%{marker.color}<br>station_id=%{customdata[0]}<br>STATION_NAME=%{customdata[1]}<extra></extra>",
           "legendgroup": "",
           "marker": {
            "color": [
             12.7,
             11.7,
             10.5,
             10,
             11,
             14.3,
             16.5,
             18.6,
             20.8,
             21.5,
             22.4,
             23.3,
             25.9,
             26.5,
             26,
             24.3,
             24.9,
             25.4,
             24.4,
             23.3,
             22.9,
             22.1,
             22,
             21.5
            ],
            "coloraxis": "coloraxis"
           },
           "name": "",
           "offsetgroup": "",
           "orientation": "v",
           "showlegend": false,
           "textposition": "auto",
           "type": "bar",
           "x": [
            "2020-07-04T00:00:00",
            "2020-07-04T01:00:00",
            "2020-07-04T02:00:00",
            "2020-07-04T03:00:00",
            "2020-07-04T04:00:00",
            "2020-07-04T05:00:00",
            "2020-07-04T06:00:00",
            "2020-07-04T07:00:00",
            "2020-07-04T08:00:00",
            "2020-07-04T09:00:00",
            "2020-07-04T10:00:00",
            "2020-07-04T11:00:00",
            "2020-07-04T12:00:00",
            "2020-07-04T13:00:00",
            "2020-07-04T14:00:00",
            "2020-07-04T15:00:00",
            "2020-07-04T16:00:00",
            "2020-07-04T17:00:00",
            "2020-07-04T18:00:00",
            "2020-07-04T19:00:00",
            "2020-07-04T20:00:00",
            "2020-07-04T21:00:00",
            "2020-07-04T22:00:00",
            "2020-07-04T23:00:00"
           ],
           "xaxis": "x",
           "y": [
            12.7,
            11.7,
            10.5,
            10,
            11,
            14.3,
            16.5,
            18.6,
            20.8,
            21.5,
            22.4,
            23.3,
            25.9,
            26.5,
            26,
            24.3,
            24.9,
            25.4,
            24.4,
            23.3,
            22.9,
            22.1,
            22,
            21.5
           ],
           "yaxis": "y"
          }
         ],
         "name": "2020-07-04"
        },
        {
         "data": [
          {
           "alignmentgroup": "True",
           "customdata": [
            [
             917,
             "Darmstadt"
            ],
            [
             917,
             "Darmstadt"
            ],
            [
             917,
             "Darmstadt"
            ],
            [
             917,
             "Darmstadt"
            ],
            [
             917,
             "Darmstadt"
            ],
            [
             917,
             "Darmstadt"
            ],
            [
             917,
             "Darmstadt"
            ],
            [
             917,
             "Darmstadt"
            ],
            [
             917,
             "Darmstadt"
            ],
            [
             917,
             "Darmstadt"
            ],
            [
             917,
             "Darmstadt"
            ],
            [
             917,
             "Darmstadt"
            ],
            [
             917,
             "Darmstadt"
            ],
            [
             917,
             "Darmstadt"
            ],
            [
             917,
             "Darmstadt"
            ],
            [
             917,
             "Darmstadt"
            ],
            [
             917,
             "Darmstadt"
            ],
            [
             917,
             "Darmstadt"
            ],
            [
             917,
             "Darmstadt"
            ],
            [
             917,
             "Darmstadt"
            ],
            [
             917,
             "Darmstadt"
            ],
            [
             917,
             "Darmstadt"
            ],
            [
             917,
             "Darmstadt"
            ],
            [
             917,
             "Darmstadt"
            ]
           ],
           "hovertemplate": "date2=2020-07-05<br>date=%{x}<br>temperature=%{marker.color}<br>station_id=%{customdata[0]}<br>STATION_NAME=%{customdata[1]}<extra></extra>",
           "legendgroup": "",
           "marker": {
            "color": [
             21.2,
             21.2,
             21.2,
             21,
             20.6,
             20.8,
             21,
             21.3,
             21.1,
             21.8,
             24,
             23.4,
             24,
             25,
             26.7,
             25.4,
             26.6,
             25.8,
             24.4,
             24,
             23.8,
             22.7,
             21.7,
             21.5
            ],
            "coloraxis": "coloraxis"
           },
           "name": "",
           "offsetgroup": "",
           "orientation": "v",
           "showlegend": false,
           "textposition": "auto",
           "type": "bar",
           "x": [
            "2020-07-05T00:00:00",
            "2020-07-05T01:00:00",
            "2020-07-05T02:00:00",
            "2020-07-05T03:00:00",
            "2020-07-05T04:00:00",
            "2020-07-05T05:00:00",
            "2020-07-05T06:00:00",
            "2020-07-05T07:00:00",
            "2020-07-05T08:00:00",
            "2020-07-05T09:00:00",
            "2020-07-05T10:00:00",
            "2020-07-05T11:00:00",
            "2020-07-05T12:00:00",
            "2020-07-05T13:00:00",
            "2020-07-05T14:00:00",
            "2020-07-05T15:00:00",
            "2020-07-05T16:00:00",
            "2020-07-05T17:00:00",
            "2020-07-05T18:00:00",
            "2020-07-05T19:00:00",
            "2020-07-05T20:00:00",
            "2020-07-05T21:00:00",
            "2020-07-05T22:00:00",
            "2020-07-05T23:00:00"
           ],
           "xaxis": "x",
           "y": [
            21.2,
            21.2,
            21.2,
            21,
            20.6,
            20.8,
            21,
            21.3,
            21.1,
            21.8,
            24,
            23.4,
            24,
            25,
            26.7,
            25.4,
            26.6,
            25.8,
            24.4,
            24,
            23.8,
            22.7,
            21.7,
            21.5
           ],
           "yaxis": "y"
          }
         ],
         "name": "2020-07-05"
        },
        {
         "data": [
          {
           "alignmentgroup": "True",
           "customdata": [
            [
             917,
             "Darmstadt"
            ],
            [
             917,
             "Darmstadt"
            ],
            [
             917,
             "Darmstadt"
            ],
            [
             917,
             "Darmstadt"
            ],
            [
             917,
             "Darmstadt"
            ],
            [
             917,
             "Darmstadt"
            ],
            [
             917,
             "Darmstadt"
            ],
            [
             917,
             "Darmstadt"
            ],
            [
             917,
             "Darmstadt"
            ],
            [
             917,
             "Darmstadt"
            ],
            [
             917,
             "Darmstadt"
            ],
            [
             917,
             "Darmstadt"
            ],
            [
             917,
             "Darmstadt"
            ],
            [
             917,
             "Darmstadt"
            ],
            [
             917,
             "Darmstadt"
            ],
            [
             917,
             "Darmstadt"
            ],
            [
             917,
             "Darmstadt"
            ],
            [
             917,
             "Darmstadt"
            ],
            [
             917,
             "Darmstadt"
            ],
            [
             917,
             "Darmstadt"
            ],
            [
             917,
             "Darmstadt"
            ],
            [
             917,
             "Darmstadt"
            ],
            [
             917,
             "Darmstadt"
            ],
            [
             917,
             "Darmstadt"
            ]
           ],
           "hovertemplate": "date2=2020-07-06<br>date=%{x}<br>temperature=%{marker.color}<br>station_id=%{customdata[0]}<br>STATION_NAME=%{customdata[1]}<extra></extra>",
           "legendgroup": "",
           "marker": {
            "color": [
             20.3,
             19.9,
             19.5,
             18.4,
             16.4,
             14.9,
             15.5,
             16.1,
             16,
             18.3,
             19.8,
             18.3,
             18.6,
             20.2,
             21.4,
             20.4,
             18.9,
             18.4,
             17.3,
             16.8,
             14.8,
             13.2,
             13,
             10.1
            ],
            "coloraxis": "coloraxis"
           },
           "name": "",
           "offsetgroup": "",
           "orientation": "v",
           "showlegend": false,
           "textposition": "auto",
           "type": "bar",
           "x": [
            "2020-07-06T00:00:00",
            "2020-07-06T01:00:00",
            "2020-07-06T02:00:00",
            "2020-07-06T03:00:00",
            "2020-07-06T04:00:00",
            "2020-07-06T05:00:00",
            "2020-07-06T06:00:00",
            "2020-07-06T07:00:00",
            "2020-07-06T08:00:00",
            "2020-07-06T09:00:00",
            "2020-07-06T10:00:00",
            "2020-07-06T11:00:00",
            "2020-07-06T12:00:00",
            "2020-07-06T13:00:00",
            "2020-07-06T14:00:00",
            "2020-07-06T15:00:00",
            "2020-07-06T16:00:00",
            "2020-07-06T17:00:00",
            "2020-07-06T18:00:00",
            "2020-07-06T19:00:00",
            "2020-07-06T20:00:00",
            "2020-07-06T21:00:00",
            "2020-07-06T22:00:00",
            "2020-07-06T23:00:00"
           ],
           "xaxis": "x",
           "y": [
            20.3,
            19.9,
            19.5,
            18.4,
            16.4,
            14.9,
            15.5,
            16.1,
            16,
            18.3,
            19.8,
            18.3,
            18.6,
            20.2,
            21.4,
            20.4,
            18.9,
            18.4,
            17.3,
            16.8,
            14.8,
            13.2,
            13,
            10.1
           ],
           "yaxis": "y"
          }
         ],
         "name": "2020-07-06"
        },
        {
         "data": [
          {
           "alignmentgroup": "True",
           "customdata": [
            [
             917,
             "Darmstadt"
            ],
            [
             917,
             "Darmstadt"
            ],
            [
             917,
             "Darmstadt"
            ],
            [
             917,
             "Darmstadt"
            ],
            [
             917,
             "Darmstadt"
            ],
            [
             917,
             "Darmstadt"
            ],
            [
             917,
             "Darmstadt"
            ],
            [
             917,
             "Darmstadt"
            ],
            [
             917,
             "Darmstadt"
            ],
            [
             917,
             "Darmstadt"
            ],
            [
             917,
             "Darmstadt"
            ],
            [
             917,
             "Darmstadt"
            ],
            [
             917,
             "Darmstadt"
            ],
            [
             917,
             "Darmstadt"
            ],
            [
             917,
             "Darmstadt"
            ],
            [
             917,
             "Darmstadt"
            ],
            [
             917,
             "Darmstadt"
            ],
            [
             917,
             "Darmstadt"
            ],
            [
             917,
             "Darmstadt"
            ],
            [
             917,
             "Darmstadt"
            ],
            [
             917,
             "Darmstadt"
            ],
            [
             917,
             "Darmstadt"
            ],
            [
             917,
             "Darmstadt"
            ],
            [
             917,
             "Darmstadt"
            ]
           ],
           "hovertemplate": "date2=2020-07-07<br>date=%{x}<br>temperature=%{marker.color}<br>station_id=%{customdata[0]}<br>STATION_NAME=%{customdata[1]}<extra></extra>",
           "legendgroup": "",
           "marker": {
            "color": [
             8.6,
             7.7,
             6.9,
             6.2,
             5.9,
             7.7,
             12.9,
             15.5,
             16.2,
             18.1,
             18.8,
             19.7,
             20.5,
             20.3,
             21.2,
             20.9,
             21.2,
             21,
             20,
             19.8,
             17.3,
             14.3,
             13.4,
             12.7
            ],
            "coloraxis": "coloraxis"
           },
           "name": "",
           "offsetgroup": "",
           "orientation": "v",
           "showlegend": false,
           "textposition": "auto",
           "type": "bar",
           "x": [
            "2020-07-07T00:00:00",
            "2020-07-07T01:00:00",
            "2020-07-07T02:00:00",
            "2020-07-07T03:00:00",
            "2020-07-07T04:00:00",
            "2020-07-07T05:00:00",
            "2020-07-07T06:00:00",
            "2020-07-07T07:00:00",
            "2020-07-07T08:00:00",
            "2020-07-07T09:00:00",
            "2020-07-07T10:00:00",
            "2020-07-07T11:00:00",
            "2020-07-07T12:00:00",
            "2020-07-07T13:00:00",
            "2020-07-07T14:00:00",
            "2020-07-07T15:00:00",
            "2020-07-07T16:00:00",
            "2020-07-07T17:00:00",
            "2020-07-07T18:00:00",
            "2020-07-07T19:00:00",
            "2020-07-07T20:00:00",
            "2020-07-07T21:00:00",
            "2020-07-07T22:00:00",
            "2020-07-07T23:00:00"
           ],
           "xaxis": "x",
           "y": [
            8.6,
            7.7,
            6.9,
            6.2,
            5.9,
            7.7,
            12.9,
            15.5,
            16.2,
            18.1,
            18.8,
            19.7,
            20.5,
            20.3,
            21.2,
            20.9,
            21.2,
            21,
            20,
            19.8,
            17.3,
            14.3,
            13.4,
            12.7
           ],
           "yaxis": "y"
          }
         ],
         "name": "2020-07-07"
        },
        {
         "data": [
          {
           "alignmentgroup": "True",
           "customdata": [
            [
             917,
             "Darmstadt"
            ],
            [
             917,
             "Darmstadt"
            ],
            [
             917,
             "Darmstadt"
            ],
            [
             917,
             "Darmstadt"
            ],
            [
             917,
             "Darmstadt"
            ],
            [
             917,
             "Darmstadt"
            ],
            [
             917,
             "Darmstadt"
            ],
            [
             917,
             "Darmstadt"
            ],
            [
             917,
             "Darmstadt"
            ],
            [
             917,
             "Darmstadt"
            ],
            [
             917,
             "Darmstadt"
            ],
            [
             917,
             "Darmstadt"
            ],
            [
             917,
             "Darmstadt"
            ],
            [
             917,
             "Darmstadt"
            ],
            [
             917,
             "Darmstadt"
            ],
            [
             917,
             "Darmstadt"
            ],
            [
             917,
             "Darmstadt"
            ],
            [
             917,
             "Darmstadt"
            ],
            [
             917,
             "Darmstadt"
            ],
            [
             917,
             "Darmstadt"
            ],
            [
             917,
             "Darmstadt"
            ],
            [
             917,
             "Darmstadt"
            ],
            [
             917,
             "Darmstadt"
            ],
            [
             917,
             "Darmstadt"
            ]
           ],
           "hovertemplate": "date2=2020-07-08<br>date=%{x}<br>temperature=%{marker.color}<br>station_id=%{customdata[0]}<br>STATION_NAME=%{customdata[1]}<extra></extra>",
           "legendgroup": "",
           "marker": {
            "color": [
             13.2,
             13.7,
             15.1,
             15.5,
             16.1,
             15.4,
             15.1,
             16.1,
             17.6,
             17.9,
             16,
             16.1,
             16.1,
             16.1,
             15.7,
             15.5,
             16,
             15.9,
             15.7,
             15.5,
             15.2,
             15.2,
             15.2,
             15.2
            ],
            "coloraxis": "coloraxis"
           },
           "name": "",
           "offsetgroup": "",
           "orientation": "v",
           "showlegend": false,
           "textposition": "auto",
           "type": "bar",
           "x": [
            "2020-07-08T00:00:00",
            "2020-07-08T01:00:00",
            "2020-07-08T02:00:00",
            "2020-07-08T03:00:00",
            "2020-07-08T04:00:00",
            "2020-07-08T05:00:00",
            "2020-07-08T06:00:00",
            "2020-07-08T07:00:00",
            "2020-07-08T08:00:00",
            "2020-07-08T09:00:00",
            "2020-07-08T10:00:00",
            "2020-07-08T11:00:00",
            "2020-07-08T12:00:00",
            "2020-07-08T13:00:00",
            "2020-07-08T14:00:00",
            "2020-07-08T15:00:00",
            "2020-07-08T16:00:00",
            "2020-07-08T17:00:00",
            "2020-07-08T18:00:00",
            "2020-07-08T19:00:00",
            "2020-07-08T20:00:00",
            "2020-07-08T21:00:00",
            "2020-07-08T22:00:00",
            "2020-07-08T23:00:00"
           ],
           "xaxis": "x",
           "y": [
            13.2,
            13.7,
            15.1,
            15.5,
            16.1,
            15.4,
            15.1,
            16.1,
            17.6,
            17.9,
            16,
            16.1,
            16.1,
            16.1,
            15.7,
            15.5,
            16,
            15.9,
            15.7,
            15.5,
            15.2,
            15.2,
            15.2,
            15.2
           ],
           "yaxis": "y"
          }
         ],
         "name": "2020-07-08"
        },
        {
         "data": [
          {
           "alignmentgroup": "True",
           "customdata": [
            [
             917,
             "Darmstadt"
            ],
            [
             917,
             "Darmstadt"
            ],
            [
             917,
             "Darmstadt"
            ],
            [
             917,
             "Darmstadt"
            ],
            [
             917,
             "Darmstadt"
            ],
            [
             917,
             "Darmstadt"
            ],
            [
             917,
             "Darmstadt"
            ],
            [
             917,
             "Darmstadt"
            ],
            [
             917,
             "Darmstadt"
            ],
            [
             917,
             "Darmstadt"
            ],
            [
             917,
             "Darmstadt"
            ],
            [
             917,
             "Darmstadt"
            ],
            [
             917,
             "Darmstadt"
            ],
            [
             917,
             "Darmstadt"
            ],
            [
             917,
             "Darmstadt"
            ],
            [
             917,
             "Darmstadt"
            ],
            [
             917,
             "Darmstadt"
            ],
            [
             917,
             "Darmstadt"
            ],
            [
             917,
             "Darmstadt"
            ],
            [
             917,
             "Darmstadt"
            ],
            [
             917,
             "Darmstadt"
            ],
            [
             917,
             "Darmstadt"
            ],
            [
             917,
             "Darmstadt"
            ],
            [
             917,
             "Darmstadt"
            ]
           ],
           "hovertemplate": "date2=2020-07-09<br>date=%{x}<br>temperature=%{marker.color}<br>station_id=%{customdata[0]}<br>STATION_NAME=%{customdata[1]}<extra></extra>",
           "legendgroup": "",
           "marker": {
            "color": [
             15.6,
             15.6,
             15.5,
             15.4,
             15.3,
             16.1,
             17.1,
             18.7,
             20.3,
             22.9,
             23.9,
             25.2,
             27.3,
             28.1,
             29.4,
             29.5,
             28.4,
             29,
             27.1,
             24.2,
             21,
             18.6,
             17.5,
             16.6
            ],
            "coloraxis": "coloraxis"
           },
           "name": "",
           "offsetgroup": "",
           "orientation": "v",
           "showlegend": false,
           "textposition": "auto",
           "type": "bar",
           "x": [
            "2020-07-09T00:00:00",
            "2020-07-09T01:00:00",
            "2020-07-09T02:00:00",
            "2020-07-09T03:00:00",
            "2020-07-09T04:00:00",
            "2020-07-09T05:00:00",
            "2020-07-09T06:00:00",
            "2020-07-09T07:00:00",
            "2020-07-09T08:00:00",
            "2020-07-09T09:00:00",
            "2020-07-09T10:00:00",
            "2020-07-09T11:00:00",
            "2020-07-09T12:00:00",
            "2020-07-09T13:00:00",
            "2020-07-09T14:00:00",
            "2020-07-09T15:00:00",
            "2020-07-09T16:00:00",
            "2020-07-09T17:00:00",
            "2020-07-09T18:00:00",
            "2020-07-09T19:00:00",
            "2020-07-09T20:00:00",
            "2020-07-09T21:00:00",
            "2020-07-09T22:00:00",
            "2020-07-09T23:00:00"
           ],
           "xaxis": "x",
           "y": [
            15.6,
            15.6,
            15.5,
            15.4,
            15.3,
            16.1,
            17.1,
            18.7,
            20.3,
            22.9,
            23.9,
            25.2,
            27.3,
            28.1,
            29.4,
            29.5,
            28.4,
            29,
            27.1,
            24.2,
            21,
            18.6,
            17.5,
            16.6
           ],
           "yaxis": "y"
          }
         ],
         "name": "2020-07-09"
        },
        {
         "data": [
          {
           "alignmentgroup": "True",
           "customdata": [
            [
             917,
             "Darmstadt"
            ],
            [
             917,
             "Darmstadt"
            ],
            [
             917,
             "Darmstadt"
            ],
            [
             917,
             "Darmstadt"
            ],
            [
             917,
             "Darmstadt"
            ],
            [
             917,
             "Darmstadt"
            ],
            [
             917,
             "Darmstadt"
            ],
            [
             917,
             "Darmstadt"
            ],
            [
             917,
             "Darmstadt"
            ],
            [
             917,
             "Darmstadt"
            ],
            [
             917,
             "Darmstadt"
            ],
            [
             917,
             "Darmstadt"
            ],
            [
             917,
             "Darmstadt"
            ],
            [
             917,
             "Darmstadt"
            ],
            [
             917,
             "Darmstadt"
            ],
            [
             917,
             "Darmstadt"
            ],
            [
             917,
             "Darmstadt"
            ],
            [
             917,
             "Darmstadt"
            ],
            [
             917,
             "Darmstadt"
            ],
            [
             917,
             "Darmstadt"
            ],
            [
             917,
             "Darmstadt"
            ],
            [
             917,
             "Darmstadt"
            ],
            [
             917,
             "Darmstadt"
            ],
            [
             917,
             "Darmstadt"
            ]
           ],
           "hovertemplate": "date2=2020-07-10<br>date=%{x}<br>temperature=%{marker.color}<br>station_id=%{customdata[0]}<br>STATION_NAME=%{customdata[1]}<extra></extra>",
           "legendgroup": "",
           "marker": {
            "color": [
             17.2,
             15.8,
             15.2,
             17.4,
             21.3,
             21.4,
             22.5,
             23.4,
             23.5,
             23.1,
             22.9,
             23.4,
             23,
             23.2,
             23.4,
             22.3,
             21.5,
             21.2,
             20.1,
             19,
             18.3,
             17.4,
             17.6,
             17
            ],
            "coloraxis": "coloraxis"
           },
           "name": "",
           "offsetgroup": "",
           "orientation": "v",
           "showlegend": false,
           "textposition": "auto",
           "type": "bar",
           "x": [
            "2020-07-10T00:00:00",
            "2020-07-10T01:00:00",
            "2020-07-10T02:00:00",
            "2020-07-10T03:00:00",
            "2020-07-10T04:00:00",
            "2020-07-10T05:00:00",
            "2020-07-10T06:00:00",
            "2020-07-10T07:00:00",
            "2020-07-10T08:00:00",
            "2020-07-10T09:00:00",
            "2020-07-10T10:00:00",
            "2020-07-10T11:00:00",
            "2020-07-10T12:00:00",
            "2020-07-10T13:00:00",
            "2020-07-10T14:00:00",
            "2020-07-10T15:00:00",
            "2020-07-10T16:00:00",
            "2020-07-10T17:00:00",
            "2020-07-10T18:00:00",
            "2020-07-10T19:00:00",
            "2020-07-10T20:00:00",
            "2020-07-10T21:00:00",
            "2020-07-10T22:00:00",
            "2020-07-10T23:00:00"
           ],
           "xaxis": "x",
           "y": [
            17.2,
            15.8,
            15.2,
            17.4,
            21.3,
            21.4,
            22.5,
            23.4,
            23.5,
            23.1,
            22.9,
            23.4,
            23,
            23.2,
            23.4,
            22.3,
            21.5,
            21.2,
            20.1,
            19,
            18.3,
            17.4,
            17.6,
            17
           ],
           "yaxis": "y"
          }
         ],
         "name": "2020-07-10"
        },
        {
         "data": [
          {
           "alignmentgroup": "True",
           "customdata": [
            [
             917,
             "Darmstadt"
            ],
            [
             917,
             "Darmstadt"
            ],
            [
             917,
             "Darmstadt"
            ],
            [
             917,
             "Darmstadt"
            ],
            [
             917,
             "Darmstadt"
            ],
            [
             917,
             "Darmstadt"
            ],
            [
             917,
             "Darmstadt"
            ],
            [
             917,
             "Darmstadt"
            ],
            [
             917,
             "Darmstadt"
            ],
            [
             917,
             "Darmstadt"
            ],
            [
             917,
             "Darmstadt"
            ],
            [
             917,
             "Darmstadt"
            ],
            [
             917,
             "Darmstadt"
            ],
            [
             917,
             "Darmstadt"
            ],
            [
             917,
             "Darmstadt"
            ],
            [
             917,
             "Darmstadt"
            ],
            [
             917,
             "Darmstadt"
            ],
            [
             917,
             "Darmstadt"
            ],
            [
             917,
             "Darmstadt"
            ],
            [
             917,
             "Darmstadt"
            ],
            [
             917,
             "Darmstadt"
            ],
            [
             917,
             "Darmstadt"
            ],
            [
             917,
             "Darmstadt"
            ],
            [
             917,
             "Darmstadt"
            ]
           ],
           "hovertemplate": "date2=2020-07-11<br>date=%{x}<br>temperature=%{marker.color}<br>station_id=%{customdata[0]}<br>STATION_NAME=%{customdata[1]}<extra></extra>",
           "legendgroup": "",
           "marker": {
            "color": [
             14.7,
             13.8,
             12.3,
             11.6,
             10.7,
             11.5,
             13.7,
             15.8,
             17.8,
             18.3,
             18.7,
             19.1,
             19.8,
             20.1,
             20,
             20.9,
             21.5,
             20,
             19.2,
             17.6,
             14.1,
             11.4,
             9.8,
             8.9
            ],
            "coloraxis": "coloraxis"
           },
           "name": "",
           "offsetgroup": "",
           "orientation": "v",
           "showlegend": false,
           "textposition": "auto",
           "type": "bar",
           "x": [
            "2020-07-11T00:00:00",
            "2020-07-11T01:00:00",
            "2020-07-11T02:00:00",
            "2020-07-11T03:00:00",
            "2020-07-11T04:00:00",
            "2020-07-11T05:00:00",
            "2020-07-11T06:00:00",
            "2020-07-11T07:00:00",
            "2020-07-11T08:00:00",
            "2020-07-11T09:00:00",
            "2020-07-11T10:00:00",
            "2020-07-11T11:00:00",
            "2020-07-11T12:00:00",
            "2020-07-11T13:00:00",
            "2020-07-11T14:00:00",
            "2020-07-11T15:00:00",
            "2020-07-11T16:00:00",
            "2020-07-11T17:00:00",
            "2020-07-11T18:00:00",
            "2020-07-11T19:00:00",
            "2020-07-11T20:00:00",
            "2020-07-11T21:00:00",
            "2020-07-11T22:00:00",
            "2020-07-11T23:00:00"
           ],
           "xaxis": "x",
           "y": [
            14.7,
            13.8,
            12.3,
            11.6,
            10.7,
            11.5,
            13.7,
            15.8,
            17.8,
            18.3,
            18.7,
            19.1,
            19.8,
            20.1,
            20,
            20.9,
            21.5,
            20,
            19.2,
            17.6,
            14.1,
            11.4,
            9.8,
            8.9
           ],
           "yaxis": "y"
          }
         ],
         "name": "2020-07-11"
        },
        {
         "data": [
          {
           "alignmentgroup": "True",
           "customdata": [
            [
             917,
             "Darmstadt"
            ],
            [
             917,
             "Darmstadt"
            ],
            [
             917,
             "Darmstadt"
            ],
            [
             917,
             "Darmstadt"
            ],
            [
             917,
             "Darmstadt"
            ],
            [
             917,
             "Darmstadt"
            ],
            [
             917,
             "Darmstadt"
            ],
            [
             917,
             "Darmstadt"
            ],
            [
             917,
             "Darmstadt"
            ],
            [
             917,
             "Darmstadt"
            ],
            [
             917,
             "Darmstadt"
            ],
            [
             917,
             "Darmstadt"
            ],
            [
             917,
             "Darmstadt"
            ],
            [
             917,
             "Darmstadt"
            ],
            [
             917,
             "Darmstadt"
            ],
            [
             917,
             "Darmstadt"
            ],
            [
             917,
             "Darmstadt"
            ],
            [
             917,
             "Darmstadt"
            ],
            [
             917,
             "Darmstadt"
            ],
            [
             917,
             "Darmstadt"
            ],
            [
             917,
             "Darmstadt"
            ],
            [
             917,
             "Darmstadt"
            ],
            [
             917,
             "Darmstadt"
            ],
            [
             917,
             "Darmstadt"
            ]
           ],
           "hovertemplate": "date2=2020-07-12<br>date=%{x}<br>temperature=%{marker.color}<br>station_id=%{customdata[0]}<br>STATION_NAME=%{customdata[1]}<extra></extra>",
           "legendgroup": "",
           "marker": {
            "color": [
             7.9,
             7.6,
             7.1,
             6.6,
             7.3,
             9.2,
             12.3,
             15.1,
             17.8,
             21.4,
             22,
             22.9,
             23.8,
             24,
             24.8,
             22.7,
             24.4,
             23.8,
             21.6,
             19.2,
             15.7,
             15.1,
             12.9,
             11.8
            ],
            "coloraxis": "coloraxis"
           },
           "name": "",
           "offsetgroup": "",
           "orientation": "v",
           "showlegend": false,
           "textposition": "auto",
           "type": "bar",
           "x": [
            "2020-07-12T00:00:00",
            "2020-07-12T01:00:00",
            "2020-07-12T02:00:00",
            "2020-07-12T03:00:00",
            "2020-07-12T04:00:00",
            "2020-07-12T05:00:00",
            "2020-07-12T06:00:00",
            "2020-07-12T07:00:00",
            "2020-07-12T08:00:00",
            "2020-07-12T09:00:00",
            "2020-07-12T10:00:00",
            "2020-07-12T11:00:00",
            "2020-07-12T12:00:00",
            "2020-07-12T13:00:00",
            "2020-07-12T14:00:00",
            "2020-07-12T15:00:00",
            "2020-07-12T16:00:00",
            "2020-07-12T17:00:00",
            "2020-07-12T18:00:00",
            "2020-07-12T19:00:00",
            "2020-07-12T20:00:00",
            "2020-07-12T21:00:00",
            "2020-07-12T22:00:00",
            "2020-07-12T23:00:00"
           ],
           "xaxis": "x",
           "y": [
            7.9,
            7.6,
            7.1,
            6.6,
            7.3,
            9.2,
            12.3,
            15.1,
            17.8,
            21.4,
            22,
            22.9,
            23.8,
            24,
            24.8,
            22.7,
            24.4,
            23.8,
            21.6,
            19.2,
            15.7,
            15.1,
            12.9,
            11.8
           ],
           "yaxis": "y"
          }
         ],
         "name": "2020-07-12"
        },
        {
         "data": [
          {
           "alignmentgroup": "True",
           "customdata": [
            [
             917,
             "Darmstadt"
            ],
            [
             917,
             "Darmstadt"
            ],
            [
             917,
             "Darmstadt"
            ],
            [
             917,
             "Darmstadt"
            ],
            [
             917,
             "Darmstadt"
            ],
            [
             917,
             "Darmstadt"
            ],
            [
             917,
             "Darmstadt"
            ],
            [
             917,
             "Darmstadt"
            ],
            [
             917,
             "Darmstadt"
            ],
            [
             917,
             "Darmstadt"
            ],
            [
             917,
             "Darmstadt"
            ],
            [
             917,
             "Darmstadt"
            ],
            [
             917,
             "Darmstadt"
            ],
            [
             917,
             "Darmstadt"
            ],
            [
             917,
             "Darmstadt"
            ],
            [
             917,
             "Darmstadt"
            ],
            [
             917,
             "Darmstadt"
            ],
            [
             917,
             "Darmstadt"
            ],
            [
             917,
             "Darmstadt"
            ],
            [
             917,
             "Darmstadt"
            ],
            [
             917,
             "Darmstadt"
            ],
            [
             917,
             "Darmstadt"
            ],
            [
             917,
             "Darmstadt"
            ],
            [
             917,
             "Darmstadt"
            ]
           ],
           "hovertemplate": "date2=2020-07-13<br>date=%{x}<br>temperature=%{marker.color}<br>station_id=%{customdata[0]}<br>STATION_NAME=%{customdata[1]}<extra></extra>",
           "legendgroup": "",
           "marker": {
            "color": [
             11.2,
             11.4,
             11,
             9.9,
             9.6,
             11.1,
             14.2,
             17.6,
             19.9,
             22.8,
             24.6,
             24.1,
             25.8,
             26.3,
             26.9,
             25.1,
             27.1,
             25.3,
             22.5,
             20.8,
             16.5,
             14.4,
             12.9,
             12.2
            ],
            "coloraxis": "coloraxis"
           },
           "name": "",
           "offsetgroup": "",
           "orientation": "v",
           "showlegend": false,
           "textposition": "auto",
           "type": "bar",
           "x": [
            "2020-07-13T00:00:00",
            "2020-07-13T01:00:00",
            "2020-07-13T02:00:00",
            "2020-07-13T03:00:00",
            "2020-07-13T04:00:00",
            "2020-07-13T05:00:00",
            "2020-07-13T06:00:00",
            "2020-07-13T07:00:00",
            "2020-07-13T08:00:00",
            "2020-07-13T09:00:00",
            "2020-07-13T10:00:00",
            "2020-07-13T11:00:00",
            "2020-07-13T12:00:00",
            "2020-07-13T13:00:00",
            "2020-07-13T14:00:00",
            "2020-07-13T15:00:00",
            "2020-07-13T16:00:00",
            "2020-07-13T17:00:00",
            "2020-07-13T18:00:00",
            "2020-07-13T19:00:00",
            "2020-07-13T20:00:00",
            "2020-07-13T21:00:00",
            "2020-07-13T22:00:00",
            "2020-07-13T23:00:00"
           ],
           "xaxis": "x",
           "y": [
            11.2,
            11.4,
            11,
            9.9,
            9.6,
            11.1,
            14.2,
            17.6,
            19.9,
            22.8,
            24.6,
            24.1,
            25.8,
            26.3,
            26.9,
            25.1,
            27.1,
            25.3,
            22.5,
            20.8,
            16.5,
            14.4,
            12.9,
            12.2
           ],
           "yaxis": "y"
          }
         ],
         "name": "2020-07-13"
        },
        {
         "data": [
          {
           "alignmentgroup": "True",
           "customdata": [
            [
             917,
             "Darmstadt"
            ],
            [
             917,
             "Darmstadt"
            ],
            [
             917,
             "Darmstadt"
            ],
            [
             917,
             "Darmstadt"
            ],
            [
             917,
             "Darmstadt"
            ],
            [
             917,
             "Darmstadt"
            ],
            [
             917,
             "Darmstadt"
            ],
            [
             917,
             "Darmstadt"
            ],
            [
             917,
             "Darmstadt"
            ],
            [
             917,
             "Darmstadt"
            ],
            [
             917,
             "Darmstadt"
            ],
            [
             917,
             "Darmstadt"
            ],
            [
             917,
             "Darmstadt"
            ],
            [
             917,
             "Darmstadt"
            ],
            [
             917,
             "Darmstadt"
            ],
            [
             917,
             "Darmstadt"
            ],
            [
             917,
             "Darmstadt"
            ],
            [
             917,
             "Darmstadt"
            ],
            [
             917,
             "Darmstadt"
            ],
            [
             917,
             "Darmstadt"
            ],
            [
             917,
             "Darmstadt"
            ],
            [
             917,
             "Darmstadt"
            ],
            [
             917,
             "Darmstadt"
            ],
            [
             917,
             "Darmstadt"
            ]
           ],
           "hovertemplate": "date2=2020-07-14<br>date=%{x}<br>temperature=%{marker.color}<br>station_id=%{customdata[0]}<br>STATION_NAME=%{customdata[1]}<extra></extra>",
           "legendgroup": "",
           "marker": {
            "color": [
             11.3,
             10.7,
             10.4,
             10.3,
             9.5,
             10.3,
             14.6,
             20.3,
             22.9,
             24.3,
             25.8,
             25.3,
             26.8,
             27.3,
             28.5,
             26.2,
             25.5,
             25,
             24.4,
             22.8,
             19.7,
             18.5,
             16.2,
             15.3
            ],
            "coloraxis": "coloraxis"
           },
           "name": "",
           "offsetgroup": "",
           "orientation": "v",
           "showlegend": false,
           "textposition": "auto",
           "type": "bar",
           "x": [
            "2020-07-14T00:00:00",
            "2020-07-14T01:00:00",
            "2020-07-14T02:00:00",
            "2020-07-14T03:00:00",
            "2020-07-14T04:00:00",
            "2020-07-14T05:00:00",
            "2020-07-14T06:00:00",
            "2020-07-14T07:00:00",
            "2020-07-14T08:00:00",
            "2020-07-14T09:00:00",
            "2020-07-14T10:00:00",
            "2020-07-14T11:00:00",
            "2020-07-14T12:00:00",
            "2020-07-14T13:00:00",
            "2020-07-14T14:00:00",
            "2020-07-14T15:00:00",
            "2020-07-14T16:00:00",
            "2020-07-14T17:00:00",
            "2020-07-14T18:00:00",
            "2020-07-14T19:00:00",
            "2020-07-14T20:00:00",
            "2020-07-14T21:00:00",
            "2020-07-14T22:00:00",
            "2020-07-14T23:00:00"
           ],
           "xaxis": "x",
           "y": [
            11.3,
            10.7,
            10.4,
            10.3,
            9.5,
            10.3,
            14.6,
            20.3,
            22.9,
            24.3,
            25.8,
            25.3,
            26.8,
            27.3,
            28.5,
            26.2,
            25.5,
            25,
            24.4,
            22.8,
            19.7,
            18.5,
            16.2,
            15.3
           ],
           "yaxis": "y"
          }
         ],
         "name": "2020-07-14"
        },
        {
         "data": [
          {
           "alignmentgroup": "True",
           "customdata": [
            [
             917,
             "Darmstadt"
            ],
            [
             917,
             "Darmstadt"
            ],
            [
             917,
             "Darmstadt"
            ],
            [
             917,
             "Darmstadt"
            ],
            [
             917,
             "Darmstadt"
            ],
            [
             917,
             "Darmstadt"
            ],
            [
             917,
             "Darmstadt"
            ],
            [
             917,
             "Darmstadt"
            ],
            [
             917,
             "Darmstadt"
            ],
            [
             917,
             "Darmstadt"
            ],
            [
             917,
             "Darmstadt"
            ],
            [
             917,
             "Darmstadt"
            ],
            [
             917,
             "Darmstadt"
            ],
            [
             917,
             "Darmstadt"
            ],
            [
             917,
             "Darmstadt"
            ],
            [
             917,
             "Darmstadt"
            ],
            [
             917,
             "Darmstadt"
            ],
            [
             917,
             "Darmstadt"
            ],
            [
             917,
             "Darmstadt"
            ],
            [
             917,
             "Darmstadt"
            ],
            [
             917,
             "Darmstadt"
            ],
            [
             917,
             "Darmstadt"
            ],
            [
             917,
             "Darmstadt"
            ],
            [
             917,
             "Darmstadt"
            ]
           ],
           "hovertemplate": "date2=2020-07-15<br>date=%{x}<br>temperature=%{marker.color}<br>station_id=%{customdata[0]}<br>STATION_NAME=%{customdata[1]}<extra></extra>",
           "legendgroup": "",
           "marker": {
            "color": [
             14.8,
             14.4,
             15,
             14.6,
             14.3,
             14.4,
             14,
             14.3,
             15.2,
             15.1,
             15.9,
             15.9,
             16.7,
             19.2,
             20.6,
             20.7,
             20.5,
             21.4,
             18.7,
             16.6,
             15.9,
             15.6,
             15.5,
             15.1
            ],
            "coloraxis": "coloraxis"
           },
           "name": "",
           "offsetgroup": "",
           "orientation": "v",
           "showlegend": false,
           "textposition": "auto",
           "type": "bar",
           "x": [
            "2020-07-15T00:00:00",
            "2020-07-15T01:00:00",
            "2020-07-15T02:00:00",
            "2020-07-15T03:00:00",
            "2020-07-15T04:00:00",
            "2020-07-15T05:00:00",
            "2020-07-15T06:00:00",
            "2020-07-15T07:00:00",
            "2020-07-15T08:00:00",
            "2020-07-15T09:00:00",
            "2020-07-15T10:00:00",
            "2020-07-15T11:00:00",
            "2020-07-15T12:00:00",
            "2020-07-15T13:00:00",
            "2020-07-15T14:00:00",
            "2020-07-15T15:00:00",
            "2020-07-15T16:00:00",
            "2020-07-15T17:00:00",
            "2020-07-15T18:00:00",
            "2020-07-15T19:00:00",
            "2020-07-15T20:00:00",
            "2020-07-15T21:00:00",
            "2020-07-15T22:00:00",
            "2020-07-15T23:00:00"
           ],
           "xaxis": "x",
           "y": [
            14.8,
            14.4,
            15,
            14.6,
            14.3,
            14.4,
            14,
            14.3,
            15.2,
            15.1,
            15.9,
            15.9,
            16.7,
            19.2,
            20.6,
            20.7,
            20.5,
            21.4,
            18.7,
            16.6,
            15.9,
            15.6,
            15.5,
            15.1
           ],
           "yaxis": "y"
          }
         ],
         "name": "2020-07-15"
        },
        {
         "data": [
          {
           "alignmentgroup": "True",
           "customdata": [
            [
             917,
             "Darmstadt"
            ],
            [
             917,
             "Darmstadt"
            ],
            [
             917,
             "Darmstadt"
            ],
            [
             917,
             "Darmstadt"
            ],
            [
             917,
             "Darmstadt"
            ],
            [
             917,
             "Darmstadt"
            ],
            [
             917,
             "Darmstadt"
            ],
            [
             917,
             "Darmstadt"
            ],
            [
             917,
             "Darmstadt"
            ],
            [
             917,
             "Darmstadt"
            ],
            [
             917,
             "Darmstadt"
            ],
            [
             917,
             "Darmstadt"
            ],
            [
             917,
             "Darmstadt"
            ],
            [
             917,
             "Darmstadt"
            ],
            [
             917,
             "Darmstadt"
            ],
            [
             917,
             "Darmstadt"
            ],
            [
             917,
             "Darmstadt"
            ],
            [
             917,
             "Darmstadt"
            ],
            [
             917,
             "Darmstadt"
            ],
            [
             917,
             "Darmstadt"
            ],
            [
             917,
             "Darmstadt"
            ],
            [
             917,
             "Darmstadt"
            ],
            [
             917,
             "Darmstadt"
            ],
            [
             917,
             "Darmstadt"
            ]
           ],
           "hovertemplate": "date2=2020-07-16<br>date=%{x}<br>temperature=%{marker.color}<br>station_id=%{customdata[0]}<br>STATION_NAME=%{customdata[1]}<extra></extra>",
           "legendgroup": "",
           "marker": {
            "color": [
             13.9,
             13.5,
             13.5,
             13.7,
             14.1,
             14.7,
             14.9,
             15.5,
             15.3,
             14.8,
             15.8,
             16.6,
             16.8,
             16.2,
             16.8,
             16.3,
             16.6,
             16.7,
             15.8,
             15.6,
             15.3,
             15.1,
             15.2,
             14.9
            ],
            "coloraxis": "coloraxis"
           },
           "name": "",
           "offsetgroup": "",
           "orientation": "v",
           "showlegend": false,
           "textposition": "auto",
           "type": "bar",
           "x": [
            "2020-07-16T00:00:00",
            "2020-07-16T01:00:00",
            "2020-07-16T02:00:00",
            "2020-07-16T03:00:00",
            "2020-07-16T04:00:00",
            "2020-07-16T05:00:00",
            "2020-07-16T06:00:00",
            "2020-07-16T07:00:00",
            "2020-07-16T08:00:00",
            "2020-07-16T09:00:00",
            "2020-07-16T10:00:00",
            "2020-07-16T11:00:00",
            "2020-07-16T12:00:00",
            "2020-07-16T13:00:00",
            "2020-07-16T14:00:00",
            "2020-07-16T15:00:00",
            "2020-07-16T16:00:00",
            "2020-07-16T17:00:00",
            "2020-07-16T18:00:00",
            "2020-07-16T19:00:00",
            "2020-07-16T20:00:00",
            "2020-07-16T21:00:00",
            "2020-07-16T22:00:00",
            "2020-07-16T23:00:00"
           ],
           "xaxis": "x",
           "y": [
            13.9,
            13.5,
            13.5,
            13.7,
            14.1,
            14.7,
            14.9,
            15.5,
            15.3,
            14.8,
            15.8,
            16.6,
            16.8,
            16.2,
            16.8,
            16.3,
            16.6,
            16.7,
            15.8,
            15.6,
            15.3,
            15.1,
            15.2,
            14.9
           ],
           "yaxis": "y"
          }
         ],
         "name": "2020-07-16"
        },
        {
         "data": [
          {
           "alignmentgroup": "True",
           "customdata": [
            [
             917,
             "Darmstadt"
            ],
            [
             917,
             "Darmstadt"
            ],
            [
             917,
             "Darmstadt"
            ],
            [
             917,
             "Darmstadt"
            ],
            [
             917,
             "Darmstadt"
            ],
            [
             917,
             "Darmstadt"
            ],
            [
             917,
             "Darmstadt"
            ],
            [
             917,
             "Darmstadt"
            ],
            [
             917,
             "Darmstadt"
            ],
            [
             917,
             "Darmstadt"
            ],
            [
             917,
             "Darmstadt"
            ],
            [
             917,
             "Darmstadt"
            ],
            [
             917,
             "Darmstadt"
            ],
            [
             917,
             "Darmstadt"
            ],
            [
             917,
             "Darmstadt"
            ],
            [
             917,
             "Darmstadt"
            ],
            [
             917,
             "Darmstadt"
            ],
            [
             917,
             "Darmstadt"
            ],
            [
             917,
             "Darmstadt"
            ],
            [
             917,
             "Darmstadt"
            ],
            [
             917,
             "Darmstadt"
            ],
            [
             917,
             "Darmstadt"
            ],
            [
             917,
             "Darmstadt"
            ],
            [
             917,
             "Darmstadt"
            ]
           ],
           "hovertemplate": "date2=2020-07-17<br>date=%{x}<br>temperature=%{marker.color}<br>station_id=%{customdata[0]}<br>STATION_NAME=%{customdata[1]}<extra></extra>",
           "legendgroup": "",
           "marker": {
            "color": [
             15,
             14.9,
             14.9,
             14.4,
             14.1,
             14.4,
             14.4,
             14.7,
             16,
             16.3,
             18.4,
             20.2,
             22.4,
             23.3,
             23.9,
             22.1,
             21.8,
             21.5,
             20.5,
             19.8,
             18.2,
             17.2,
             16.7,
             16.3
            ],
            "coloraxis": "coloraxis"
           },
           "name": "",
           "offsetgroup": "",
           "orientation": "v",
           "showlegend": false,
           "textposition": "auto",
           "type": "bar",
           "x": [
            "2020-07-17T00:00:00",
            "2020-07-17T01:00:00",
            "2020-07-17T02:00:00",
            "2020-07-17T03:00:00",
            "2020-07-17T04:00:00",
            "2020-07-17T05:00:00",
            "2020-07-17T06:00:00",
            "2020-07-17T07:00:00",
            "2020-07-17T08:00:00",
            "2020-07-17T09:00:00",
            "2020-07-17T10:00:00",
            "2020-07-17T11:00:00",
            "2020-07-17T12:00:00",
            "2020-07-17T13:00:00",
            "2020-07-17T14:00:00",
            "2020-07-17T15:00:00",
            "2020-07-17T16:00:00",
            "2020-07-17T17:00:00",
            "2020-07-17T18:00:00",
            "2020-07-17T19:00:00",
            "2020-07-17T20:00:00",
            "2020-07-17T21:00:00",
            "2020-07-17T22:00:00",
            "2020-07-17T23:00:00"
           ],
           "xaxis": "x",
           "y": [
            15,
            14.9,
            14.9,
            14.4,
            14.1,
            14.4,
            14.4,
            14.7,
            16,
            16.3,
            18.4,
            20.2,
            22.4,
            23.3,
            23.9,
            22.1,
            21.8,
            21.5,
            20.5,
            19.8,
            18.2,
            17.2,
            16.7,
            16.3
           ],
           "yaxis": "y"
          }
         ],
         "name": "2020-07-17"
        },
        {
         "data": [
          {
           "alignmentgroup": "True",
           "customdata": [
            [
             917,
             "Darmstadt"
            ],
            [
             917,
             "Darmstadt"
            ],
            [
             917,
             "Darmstadt"
            ],
            [
             917,
             "Darmstadt"
            ],
            [
             917,
             "Darmstadt"
            ],
            [
             917,
             "Darmstadt"
            ],
            [
             917,
             "Darmstadt"
            ],
            [
             917,
             "Darmstadt"
            ],
            [
             917,
             "Darmstadt"
            ],
            [
             917,
             "Darmstadt"
            ],
            [
             917,
             "Darmstadt"
            ],
            [
             917,
             "Darmstadt"
            ],
            [
             917,
             "Darmstadt"
            ],
            [
             917,
             "Darmstadt"
            ],
            [
             917,
             "Darmstadt"
            ],
            [
             917,
             "Darmstadt"
            ],
            [
             917,
             "Darmstadt"
            ],
            [
             917,
             "Darmstadt"
            ],
            [
             917,
             "Darmstadt"
            ],
            [
             917,
             "Darmstadt"
            ],
            [
             917,
             "Darmstadt"
            ],
            [
             917,
             "Darmstadt"
            ],
            [
             917,
             "Darmstadt"
            ],
            [
             917,
             "Darmstadt"
            ]
           ],
           "hovertemplate": "date2=2020-07-18<br>date=%{x}<br>temperature=%{marker.color}<br>station_id=%{customdata[0]}<br>STATION_NAME=%{customdata[1]}<extra></extra>",
           "legendgroup": "",
           "marker": {
            "color": [
             15.8,
             15.3,
             14.2,
             13.7,
             13.9,
             15.1,
             18.7,
             20.2,
             20.8,
             23.6,
             24.3,
             24.6,
             25.4,
             26,
             24.5,
             26.6,
             25.8,
             24.8,
             23.6,
             21.6,
             17.8,
             15.3,
             13.8,
             13.1
            ],
            "coloraxis": "coloraxis"
           },
           "name": "",
           "offsetgroup": "",
           "orientation": "v",
           "showlegend": false,
           "textposition": "auto",
           "type": "bar",
           "x": [
            "2020-07-18T00:00:00",
            "2020-07-18T01:00:00",
            "2020-07-18T02:00:00",
            "2020-07-18T03:00:00",
            "2020-07-18T04:00:00",
            "2020-07-18T05:00:00",
            "2020-07-18T06:00:00",
            "2020-07-18T07:00:00",
            "2020-07-18T08:00:00",
            "2020-07-18T09:00:00",
            "2020-07-18T10:00:00",
            "2020-07-18T11:00:00",
            "2020-07-18T12:00:00",
            "2020-07-18T13:00:00",
            "2020-07-18T14:00:00",
            "2020-07-18T15:00:00",
            "2020-07-18T16:00:00",
            "2020-07-18T17:00:00",
            "2020-07-18T18:00:00",
            "2020-07-18T19:00:00",
            "2020-07-18T20:00:00",
            "2020-07-18T21:00:00",
            "2020-07-18T22:00:00",
            "2020-07-18T23:00:00"
           ],
           "xaxis": "x",
           "y": [
            15.8,
            15.3,
            14.2,
            13.7,
            13.9,
            15.1,
            18.7,
            20.2,
            20.8,
            23.6,
            24.3,
            24.6,
            25.4,
            26,
            24.5,
            26.6,
            25.8,
            24.8,
            23.6,
            21.6,
            17.8,
            15.3,
            13.8,
            13.1
           ],
           "yaxis": "y"
          }
         ],
         "name": "2020-07-18"
        },
        {
         "data": [
          {
           "alignmentgroup": "True",
           "customdata": [
            [
             917,
             "Darmstadt"
            ],
            [
             917,
             "Darmstadt"
            ],
            [
             917,
             "Darmstadt"
            ],
            [
             917,
             "Darmstadt"
            ],
            [
             917,
             "Darmstadt"
            ],
            [
             917,
             "Darmstadt"
            ],
            [
             917,
             "Darmstadt"
            ],
            [
             917,
             "Darmstadt"
            ],
            [
             917,
             "Darmstadt"
            ],
            [
             917,
             "Darmstadt"
            ],
            [
             917,
             "Darmstadt"
            ],
            [
             917,
             "Darmstadt"
            ],
            [
             917,
             "Darmstadt"
            ],
            [
             917,
             "Darmstadt"
            ],
            [
             917,
             "Darmstadt"
            ],
            [
             917,
             "Darmstadt"
            ],
            [
             917,
             "Darmstadt"
            ],
            [
             917,
             "Darmstadt"
            ],
            [
             917,
             "Darmstadt"
            ],
            [
             917,
             "Darmstadt"
            ],
            [
             917,
             "Darmstadt"
            ],
            [
             917,
             "Darmstadt"
            ],
            [
             917,
             "Darmstadt"
            ],
            [
             917,
             "Darmstadt"
            ]
           ],
           "hovertemplate": "date2=2020-07-19<br>date=%{x}<br>temperature=%{marker.color}<br>station_id=%{customdata[0]}<br>STATION_NAME=%{customdata[1]}<extra></extra>",
           "legendgroup": "",
           "marker": {
            "color": [
             12.6,
             11.9,
             11.4,
             10.6,
             10.2,
             11,
             15,
             19.8,
             23.2,
             25.5,
             26.7,
             27,
             27.4,
             27.2,
             27.5,
             27.4,
             28.7,
             27.5,
             24.7,
             22.4,
             18.7,
             17.3,
             16.3,
             16.8
            ],
            "coloraxis": "coloraxis"
           },
           "name": "",
           "offsetgroup": "",
           "orientation": "v",
           "showlegend": false,
           "textposition": "auto",
           "type": "bar",
           "x": [
            "2020-07-19T00:00:00",
            "2020-07-19T01:00:00",
            "2020-07-19T02:00:00",
            "2020-07-19T03:00:00",
            "2020-07-19T04:00:00",
            "2020-07-19T05:00:00",
            "2020-07-19T06:00:00",
            "2020-07-19T07:00:00",
            "2020-07-19T08:00:00",
            "2020-07-19T09:00:00",
            "2020-07-19T10:00:00",
            "2020-07-19T11:00:00",
            "2020-07-19T12:00:00",
            "2020-07-19T13:00:00",
            "2020-07-19T14:00:00",
            "2020-07-19T15:00:00",
            "2020-07-19T16:00:00",
            "2020-07-19T17:00:00",
            "2020-07-19T18:00:00",
            "2020-07-19T19:00:00",
            "2020-07-19T20:00:00",
            "2020-07-19T21:00:00",
            "2020-07-19T22:00:00",
            "2020-07-19T23:00:00"
           ],
           "xaxis": "x",
           "y": [
            12.6,
            11.9,
            11.4,
            10.6,
            10.2,
            11,
            15,
            19.8,
            23.2,
            25.5,
            26.7,
            27,
            27.4,
            27.2,
            27.5,
            27.4,
            28.7,
            27.5,
            24.7,
            22.4,
            18.7,
            17.3,
            16.3,
            16.8
           ],
           "yaxis": "y"
          }
         ],
         "name": "2020-07-19"
        },
        {
         "data": [
          {
           "alignmentgroup": "True",
           "customdata": [
            [
             917,
             "Darmstadt"
            ],
            [
             917,
             "Darmstadt"
            ],
            [
             917,
             "Darmstadt"
            ],
            [
             917,
             "Darmstadt"
            ],
            [
             917,
             "Darmstadt"
            ],
            [
             917,
             "Darmstadt"
            ],
            [
             917,
             "Darmstadt"
            ],
            [
             917,
             "Darmstadt"
            ],
            [
             917,
             "Darmstadt"
            ],
            [
             917,
             "Darmstadt"
            ],
            [
             917,
             "Darmstadt"
            ],
            [
             917,
             "Darmstadt"
            ],
            [
             917,
             "Darmstadt"
            ],
            [
             917,
             "Darmstadt"
            ],
            [
             917,
             "Darmstadt"
            ],
            [
             917,
             "Darmstadt"
            ],
            [
             917,
             "Darmstadt"
            ],
            [
             917,
             "Darmstadt"
            ],
            [
             917,
             "Darmstadt"
            ],
            [
             917,
             "Darmstadt"
            ],
            [
             917,
             "Darmstadt"
            ],
            [
             917,
             "Darmstadt"
            ],
            [
             917,
             "Darmstadt"
            ],
            [
             917,
             "Darmstadt"
            ]
           ],
           "hovertemplate": "date2=2020-07-20<br>date=%{x}<br>temperature=%{marker.color}<br>station_id=%{customdata[0]}<br>STATION_NAME=%{customdata[1]}<extra></extra>",
           "legendgroup": "",
           "marker": {
            "color": [
             18.3,
             16.5,
             15,
             14.1,
             13.5,
             13.2,
             16.4,
             20.4,
             22.4,
             23.6,
             25.2,
             24.4,
             26,
             26.6,
             27.8,
             27.1,
             26.5,
             25.4,
             23,
             21.8,
             20.2,
             19.1,
             17.4,
             16.1
            ],
            "coloraxis": "coloraxis"
           },
           "name": "",
           "offsetgroup": "",
           "orientation": "v",
           "showlegend": false,
           "textposition": "auto",
           "type": "bar",
           "x": [
            "2020-07-20T00:00:00",
            "2020-07-20T01:00:00",
            "2020-07-20T02:00:00",
            "2020-07-20T03:00:00",
            "2020-07-20T04:00:00",
            "2020-07-20T05:00:00",
            "2020-07-20T06:00:00",
            "2020-07-20T07:00:00",
            "2020-07-20T08:00:00",
            "2020-07-20T09:00:00",
            "2020-07-20T10:00:00",
            "2020-07-20T11:00:00",
            "2020-07-20T12:00:00",
            "2020-07-20T13:00:00",
            "2020-07-20T14:00:00",
            "2020-07-20T15:00:00",
            "2020-07-20T16:00:00",
            "2020-07-20T17:00:00",
            "2020-07-20T18:00:00",
            "2020-07-20T19:00:00",
            "2020-07-20T20:00:00",
            "2020-07-20T21:00:00",
            "2020-07-20T22:00:00",
            "2020-07-20T23:00:00"
           ],
           "xaxis": "x",
           "y": [
            18.3,
            16.5,
            15,
            14.1,
            13.5,
            13.2,
            16.4,
            20.4,
            22.4,
            23.6,
            25.2,
            24.4,
            26,
            26.6,
            27.8,
            27.1,
            26.5,
            25.4,
            23,
            21.8,
            20.2,
            19.1,
            17.4,
            16.1
           ],
           "yaxis": "y"
          }
         ],
         "name": "2020-07-20"
        },
        {
         "data": [
          {
           "alignmentgroup": "True",
           "customdata": [
            [
             917,
             "Darmstadt"
            ],
            [
             917,
             "Darmstadt"
            ],
            [
             917,
             "Darmstadt"
            ],
            [
             917,
             "Darmstadt"
            ],
            [
             917,
             "Darmstadt"
            ],
            [
             917,
             "Darmstadt"
            ],
            [
             917,
             "Darmstadt"
            ],
            [
             917,
             "Darmstadt"
            ],
            [
             917,
             "Darmstadt"
            ],
            [
             917,
             "Darmstadt"
            ],
            [
             917,
             "Darmstadt"
            ],
            [
             917,
             "Darmstadt"
            ],
            [
             917,
             "Darmstadt"
            ],
            [
             917,
             "Darmstadt"
            ],
            [
             917,
             "Darmstadt"
            ],
            [
             917,
             "Darmstadt"
            ],
            [
             917,
             "Darmstadt"
            ],
            [
             917,
             "Darmstadt"
            ],
            [
             917,
             "Darmstadt"
            ],
            [
             917,
             "Darmstadt"
            ],
            [
             917,
             "Darmstadt"
            ],
            [
             917,
             "Darmstadt"
            ],
            [
             917,
             "Darmstadt"
            ],
            [
             917,
             "Darmstadt"
            ]
           ],
           "hovertemplate": "date2=2020-07-21<br>date=%{x}<br>temperature=%{marker.color}<br>station_id=%{customdata[0]}<br>STATION_NAME=%{customdata[1]}<extra></extra>",
           "legendgroup": "",
           "marker": {
            "color": [
             14.7,
             14.3,
             13.7,
             11.9,
             14,
             14.4,
             14.7,
             16.6,
             20.4,
             22.2,
             23.5,
             23.6,
             24.7,
             25.5,
             26.8,
             26.4,
             26.1,
             23.9,
             22.2,
             20.1,
             17.2,
             14.9,
             14.6,
             12.3
            ],
            "coloraxis": "coloraxis"
           },
           "name": "",
           "offsetgroup": "",
           "orientation": "v",
           "showlegend": false,
           "textposition": "auto",
           "type": "bar",
           "x": [
            "2020-07-21T00:00:00",
            "2020-07-21T01:00:00",
            "2020-07-21T02:00:00",
            "2020-07-21T03:00:00",
            "2020-07-21T04:00:00",
            "2020-07-21T05:00:00",
            "2020-07-21T06:00:00",
            "2020-07-21T07:00:00",
            "2020-07-21T08:00:00",
            "2020-07-21T09:00:00",
            "2020-07-21T10:00:00",
            "2020-07-21T11:00:00",
            "2020-07-21T12:00:00",
            "2020-07-21T13:00:00",
            "2020-07-21T14:00:00",
            "2020-07-21T15:00:00",
            "2020-07-21T16:00:00",
            "2020-07-21T17:00:00",
            "2020-07-21T18:00:00",
            "2020-07-21T19:00:00",
            "2020-07-21T20:00:00",
            "2020-07-21T21:00:00",
            "2020-07-21T22:00:00",
            "2020-07-21T23:00:00"
           ],
           "xaxis": "x",
           "y": [
            14.7,
            14.3,
            13.7,
            11.9,
            14,
            14.4,
            14.7,
            16.6,
            20.4,
            22.2,
            23.5,
            23.6,
            24.7,
            25.5,
            26.8,
            26.4,
            26.1,
            23.9,
            22.2,
            20.1,
            17.2,
            14.9,
            14.6,
            12.3
           ],
           "yaxis": "y"
          }
         ],
         "name": "2020-07-21"
        },
        {
         "data": [
          {
           "alignmentgroup": "True",
           "customdata": [
            [
             917,
             "Darmstadt"
            ],
            [
             917,
             "Darmstadt"
            ],
            [
             917,
             "Darmstadt"
            ],
            [
             917,
             "Darmstadt"
            ],
            [
             917,
             "Darmstadt"
            ],
            [
             917,
             "Darmstadt"
            ],
            [
             917,
             "Darmstadt"
            ],
            [
             917,
             "Darmstadt"
            ],
            [
             917,
             "Darmstadt"
            ],
            [
             917,
             "Darmstadt"
            ],
            [
             917,
             "Darmstadt"
            ],
            [
             917,
             "Darmstadt"
            ],
            [
             917,
             "Darmstadt"
            ],
            [
             917,
             "Darmstadt"
            ],
            [
             917,
             "Darmstadt"
            ],
            [
             917,
             "Darmstadt"
            ],
            [
             917,
             "Darmstadt"
            ],
            [
             917,
             "Darmstadt"
            ],
            [
             917,
             "Darmstadt"
            ],
            [
             917,
             "Darmstadt"
            ],
            [
             917,
             "Darmstadt"
            ],
            [
             917,
             "Darmstadt"
            ],
            [
             917,
             "Darmstadt"
            ],
            [
             917,
             "Darmstadt"
            ]
           ],
           "hovertemplate": "date2=2020-07-22<br>date=%{x}<br>temperature=%{marker.color}<br>station_id=%{customdata[0]}<br>STATION_NAME=%{customdata[1]}<extra></extra>",
           "legendgroup": "",
           "marker": {
            "color": [
             10.7,
             9.9,
             9.2,
             8.7,
             8.5,
             9.8,
             13.4,
             16.3,
             19.1,
             21.6,
             23.6,
             24.5,
             24.9,
             25.7,
             26,
             26.8,
             26.8,
             25.3,
             24,
             21.8,
             17.7,
             14.8,
             16.8,
             16.5
            ],
            "coloraxis": "coloraxis"
           },
           "name": "",
           "offsetgroup": "",
           "orientation": "v",
           "showlegend": false,
           "textposition": "auto",
           "type": "bar",
           "x": [
            "2020-07-22T00:00:00",
            "2020-07-22T01:00:00",
            "2020-07-22T02:00:00",
            "2020-07-22T03:00:00",
            "2020-07-22T04:00:00",
            "2020-07-22T05:00:00",
            "2020-07-22T06:00:00",
            "2020-07-22T07:00:00",
            "2020-07-22T08:00:00",
            "2020-07-22T09:00:00",
            "2020-07-22T10:00:00",
            "2020-07-22T11:00:00",
            "2020-07-22T12:00:00",
            "2020-07-22T13:00:00",
            "2020-07-22T14:00:00",
            "2020-07-22T15:00:00",
            "2020-07-22T16:00:00",
            "2020-07-22T17:00:00",
            "2020-07-22T18:00:00",
            "2020-07-22T19:00:00",
            "2020-07-22T20:00:00",
            "2020-07-22T21:00:00",
            "2020-07-22T22:00:00",
            "2020-07-22T23:00:00"
           ],
           "xaxis": "x",
           "y": [
            10.7,
            9.9,
            9.2,
            8.7,
            8.5,
            9.8,
            13.4,
            16.3,
            19.1,
            21.6,
            23.6,
            24.5,
            24.9,
            25.7,
            26,
            26.8,
            26.8,
            25.3,
            24,
            21.8,
            17.7,
            14.8,
            16.8,
            16.5
           ],
           "yaxis": "y"
          }
         ],
         "name": "2020-07-22"
        },
        {
         "data": [
          {
           "alignmentgroup": "True",
           "customdata": [
            [
             917,
             "Darmstadt"
            ],
            [
             917,
             "Darmstadt"
            ],
            [
             917,
             "Darmstadt"
            ],
            [
             917,
             "Darmstadt"
            ],
            [
             917,
             "Darmstadt"
            ],
            [
             917,
             "Darmstadt"
            ],
            [
             917,
             "Darmstadt"
            ],
            [
             917,
             "Darmstadt"
            ],
            [
             917,
             "Darmstadt"
            ],
            [
             917,
             "Darmstadt"
            ],
            [
             917,
             "Darmstadt"
            ],
            [
             917,
             "Darmstadt"
            ],
            [
             917,
             "Darmstadt"
            ],
            [
             917,
             "Darmstadt"
            ],
            [
             917,
             "Darmstadt"
            ],
            [
             917,
             "Darmstadt"
            ],
            [
             917,
             "Darmstadt"
            ],
            [
             917,
             "Darmstadt"
            ],
            [
             917,
             "Darmstadt"
            ],
            [
             917,
             "Darmstadt"
            ],
            [
             917,
             "Darmstadt"
            ],
            [
             917,
             "Darmstadt"
            ],
            [
             917,
             "Darmstadt"
            ],
            [
             917,
             "Darmstadt"
            ]
           ],
           "hovertemplate": "date2=2020-07-23<br>date=%{x}<br>temperature=%{marker.color}<br>station_id=%{customdata[0]}<br>STATION_NAME=%{customdata[1]}<extra></extra>",
           "legendgroup": "",
           "marker": {
            "color": [
             15.5,
             14.5,
             13,
             12.3,
             10.5,
             10.7,
             14.7,
             17.1,
             19.7,
             22.3,
             23,
             23.8,
             25.3,
             25.8,
             25.9,
             26.3,
             26.9,
             25.4,
             23.3,
             20.9,
             18.1,
             17.6,
             16.8,
             16.3
            ],
            "coloraxis": "coloraxis"
           },
           "name": "",
           "offsetgroup": "",
           "orientation": "v",
           "showlegend": false,
           "textposition": "auto",
           "type": "bar",
           "x": [
            "2020-07-23T00:00:00",
            "2020-07-23T01:00:00",
            "2020-07-23T02:00:00",
            "2020-07-23T03:00:00",
            "2020-07-23T04:00:00",
            "2020-07-23T05:00:00",
            "2020-07-23T06:00:00",
            "2020-07-23T07:00:00",
            "2020-07-23T08:00:00",
            "2020-07-23T09:00:00",
            "2020-07-23T10:00:00",
            "2020-07-23T11:00:00",
            "2020-07-23T12:00:00",
            "2020-07-23T13:00:00",
            "2020-07-23T14:00:00",
            "2020-07-23T15:00:00",
            "2020-07-23T16:00:00",
            "2020-07-23T17:00:00",
            "2020-07-23T18:00:00",
            "2020-07-23T19:00:00",
            "2020-07-23T20:00:00",
            "2020-07-23T21:00:00",
            "2020-07-23T22:00:00",
            "2020-07-23T23:00:00"
           ],
           "xaxis": "x",
           "y": [
            15.5,
            14.5,
            13,
            12.3,
            10.5,
            10.7,
            14.7,
            17.1,
            19.7,
            22.3,
            23,
            23.8,
            25.3,
            25.8,
            25.9,
            26.3,
            26.9,
            25.4,
            23.3,
            20.9,
            18.1,
            17.6,
            16.8,
            16.3
           ],
           "yaxis": "y"
          }
         ],
         "name": "2020-07-23"
        },
        {
         "data": [
          {
           "alignmentgroup": "True",
           "customdata": [
            [
             917,
             "Darmstadt"
            ],
            [
             917,
             "Darmstadt"
            ],
            [
             917,
             "Darmstadt"
            ],
            [
             917,
             "Darmstadt"
            ],
            [
             917,
             "Darmstadt"
            ],
            [
             917,
             "Darmstadt"
            ],
            [
             917,
             "Darmstadt"
            ],
            [
             917,
             "Darmstadt"
            ],
            [
             917,
             "Darmstadt"
            ],
            [
             917,
             "Darmstadt"
            ],
            [
             917,
             "Darmstadt"
            ],
            [
             917,
             "Darmstadt"
            ],
            [
             917,
             "Darmstadt"
            ],
            [
             917,
             "Darmstadt"
            ],
            [
             917,
             "Darmstadt"
            ],
            [
             917,
             "Darmstadt"
            ],
            [
             917,
             "Darmstadt"
            ],
            [
             917,
             "Darmstadt"
            ],
            [
             917,
             "Darmstadt"
            ],
            [
             917,
             "Darmstadt"
            ],
            [
             917,
             "Darmstadt"
            ],
            [
             917,
             "Darmstadt"
            ],
            [
             917,
             "Darmstadt"
            ],
            [
             917,
             "Darmstadt"
            ]
           ],
           "hovertemplate": "date2=2020-07-24<br>date=%{x}<br>temperature=%{marker.color}<br>station_id=%{customdata[0]}<br>STATION_NAME=%{customdata[1]}<extra></extra>",
           "legendgroup": "",
           "marker": {
            "color": [
             15.7,
             15,
             14.3,
             13.9,
             14,
             14.7,
             17.6,
             20,
             21,
             24.7,
             26.4,
             26.3,
             26.2,
             28.8,
             28,
             26.6,
             25.8,
             25.3,
             24.8,
             22.9,
             21,
             18.9,
             17.6,
             17.6
            ],
            "coloraxis": "coloraxis"
           },
           "name": "",
           "offsetgroup": "",
           "orientation": "v",
           "showlegend": false,
           "textposition": "auto",
           "type": "bar",
           "x": [
            "2020-07-24T00:00:00",
            "2020-07-24T01:00:00",
            "2020-07-24T02:00:00",
            "2020-07-24T03:00:00",
            "2020-07-24T04:00:00",
            "2020-07-24T05:00:00",
            "2020-07-24T06:00:00",
            "2020-07-24T07:00:00",
            "2020-07-24T08:00:00",
            "2020-07-24T09:00:00",
            "2020-07-24T10:00:00",
            "2020-07-24T11:00:00",
            "2020-07-24T12:00:00",
            "2020-07-24T13:00:00",
            "2020-07-24T14:00:00",
            "2020-07-24T15:00:00",
            "2020-07-24T16:00:00",
            "2020-07-24T17:00:00",
            "2020-07-24T18:00:00",
            "2020-07-24T19:00:00",
            "2020-07-24T20:00:00",
            "2020-07-24T21:00:00",
            "2020-07-24T22:00:00",
            "2020-07-24T23:00:00"
           ],
           "xaxis": "x",
           "y": [
            15.7,
            15,
            14.3,
            13.9,
            14,
            14.7,
            17.6,
            20,
            21,
            24.7,
            26.4,
            26.3,
            26.2,
            28.8,
            28,
            26.6,
            25.8,
            25.3,
            24.8,
            22.9,
            21,
            18.9,
            17.6,
            17.6
           ],
           "yaxis": "y"
          }
         ],
         "name": "2020-07-24"
        },
        {
         "data": [
          {
           "alignmentgroup": "True",
           "customdata": [
            [
             917,
             "Darmstadt"
            ],
            [
             917,
             "Darmstadt"
            ],
            [
             917,
             "Darmstadt"
            ],
            [
             917,
             "Darmstadt"
            ],
            [
             917,
             "Darmstadt"
            ],
            [
             917,
             "Darmstadt"
            ],
            [
             917,
             "Darmstadt"
            ],
            [
             917,
             "Darmstadt"
            ],
            [
             917,
             "Darmstadt"
            ],
            [
             917,
             "Darmstadt"
            ],
            [
             917,
             "Darmstadt"
            ],
            [
             917,
             "Darmstadt"
            ],
            [
             917,
             "Darmstadt"
            ],
            [
             917,
             "Darmstadt"
            ],
            [
             917,
             "Darmstadt"
            ],
            [
             917,
             "Darmstadt"
            ],
            [
             917,
             "Darmstadt"
            ],
            [
             917,
             "Darmstadt"
            ],
            [
             917,
             "Darmstadt"
            ],
            [
             917,
             "Darmstadt"
            ],
            [
             917,
             "Darmstadt"
            ],
            [
             917,
             "Darmstadt"
            ],
            [
             917,
             "Darmstadt"
            ],
            [
             917,
             "Darmstadt"
            ]
           ],
           "hovertemplate": "date2=2020-07-25<br>date=%{x}<br>temperature=%{marker.color}<br>station_id=%{customdata[0]}<br>STATION_NAME=%{customdata[1]}<extra></extra>",
           "legendgroup": "",
           "marker": {
            "color": [
             17.3,
             17.5,
             16.3,
             16.7,
             15.3,
             15.5,
             18.8,
             20.5,
             23,
             23.6,
             25.2,
             27.3,
             24.9,
             26.8,
             26.3,
             27.2,
             27.9,
             25.5,
             24.7,
             23,
             21.1,
             20.4,
             20.7,
             20.7
            ],
            "coloraxis": "coloraxis"
           },
           "name": "",
           "offsetgroup": "",
           "orientation": "v",
           "showlegend": false,
           "textposition": "auto",
           "type": "bar",
           "x": [
            "2020-07-25T00:00:00",
            "2020-07-25T01:00:00",
            "2020-07-25T02:00:00",
            "2020-07-25T03:00:00",
            "2020-07-25T04:00:00",
            "2020-07-25T05:00:00",
            "2020-07-25T06:00:00",
            "2020-07-25T07:00:00",
            "2020-07-25T08:00:00",
            "2020-07-25T09:00:00",
            "2020-07-25T10:00:00",
            "2020-07-25T11:00:00",
            "2020-07-25T12:00:00",
            "2020-07-25T13:00:00",
            "2020-07-25T14:00:00",
            "2020-07-25T15:00:00",
            "2020-07-25T16:00:00",
            "2020-07-25T17:00:00",
            "2020-07-25T18:00:00",
            "2020-07-25T19:00:00",
            "2020-07-25T20:00:00",
            "2020-07-25T21:00:00",
            "2020-07-25T22:00:00",
            "2020-07-25T23:00:00"
           ],
           "xaxis": "x",
           "y": [
            17.3,
            17.5,
            16.3,
            16.7,
            15.3,
            15.5,
            18.8,
            20.5,
            23,
            23.6,
            25.2,
            27.3,
            24.9,
            26.8,
            26.3,
            27.2,
            27.9,
            25.5,
            24.7,
            23,
            21.1,
            20.4,
            20.7,
            20.7
           ],
           "yaxis": "y"
          }
         ],
         "name": "2020-07-25"
        },
        {
         "data": [
          {
           "alignmentgroup": "True",
           "customdata": [
            [
             917,
             "Darmstadt"
            ],
            [
             917,
             "Darmstadt"
            ],
            [
             917,
             "Darmstadt"
            ],
            [
             917,
             "Darmstadt"
            ],
            [
             917,
             "Darmstadt"
            ],
            [
             917,
             "Darmstadt"
            ],
            [
             917,
             "Darmstadt"
            ],
            [
             917,
             "Darmstadt"
            ],
            [
             917,
             "Darmstadt"
            ],
            [
             917,
             "Darmstadt"
            ],
            [
             917,
             "Darmstadt"
            ],
            [
             917,
             "Darmstadt"
            ],
            [
             917,
             "Darmstadt"
            ],
            [
             917,
             "Darmstadt"
            ],
            [
             917,
             "Darmstadt"
            ],
            [
             917,
             "Darmstadt"
            ],
            [
             917,
             "Darmstadt"
            ],
            [
             917,
             "Darmstadt"
            ],
            [
             917,
             "Darmstadt"
            ],
            [
             917,
             "Darmstadt"
            ],
            [
             917,
             "Darmstadt"
            ],
            [
             917,
             "Darmstadt"
            ],
            [
             917,
             "Darmstadt"
            ],
            [
             917,
             "Darmstadt"
            ]
           ],
           "hovertemplate": "date2=2020-07-26<br>date=%{x}<br>temperature=%{marker.color}<br>station_id=%{customdata[0]}<br>STATION_NAME=%{customdata[1]}<extra></extra>",
           "legendgroup": "",
           "marker": {
            "color": [
             22.5,
             21.7,
             18.6,
             17.5,
             17.1,
             17.1,
             17.4,
             18.7,
             21.1,
             20.7,
             18.9,
             22.1,
             20,
             22.9,
             23.4,
             23.2,
             25.8,
             24.6,
             23.8,
             20.3,
             17.6,
             16.2,
             14.6,
             13.5
            ],
            "coloraxis": "coloraxis"
           },
           "name": "",
           "offsetgroup": "",
           "orientation": "v",
           "showlegend": false,
           "textposition": "auto",
           "type": "bar",
           "x": [
            "2020-07-26T00:00:00",
            "2020-07-26T01:00:00",
            "2020-07-26T02:00:00",
            "2020-07-26T03:00:00",
            "2020-07-26T04:00:00",
            "2020-07-26T05:00:00",
            "2020-07-26T06:00:00",
            "2020-07-26T07:00:00",
            "2020-07-26T08:00:00",
            "2020-07-26T09:00:00",
            "2020-07-26T10:00:00",
            "2020-07-26T11:00:00",
            "2020-07-26T12:00:00",
            "2020-07-26T13:00:00",
            "2020-07-26T14:00:00",
            "2020-07-26T15:00:00",
            "2020-07-26T16:00:00",
            "2020-07-26T17:00:00",
            "2020-07-26T18:00:00",
            "2020-07-26T19:00:00",
            "2020-07-26T20:00:00",
            "2020-07-26T21:00:00",
            "2020-07-26T22:00:00",
            "2020-07-26T23:00:00"
           ],
           "xaxis": "x",
           "y": [
            22.5,
            21.7,
            18.6,
            17.5,
            17.1,
            17.1,
            17.4,
            18.7,
            21.1,
            20.7,
            18.9,
            22.1,
            20,
            22.9,
            23.4,
            23.2,
            25.8,
            24.6,
            23.8,
            20.3,
            17.6,
            16.2,
            14.6,
            13.5
           ],
           "yaxis": "y"
          }
         ],
         "name": "2020-07-26"
        },
        {
         "data": [
          {
           "alignmentgroup": "True",
           "customdata": [
            [
             917,
             "Darmstadt"
            ],
            [
             917,
             "Darmstadt"
            ],
            [
             917,
             "Darmstadt"
            ],
            [
             917,
             "Darmstadt"
            ],
            [
             917,
             "Darmstadt"
            ],
            [
             917,
             "Darmstadt"
            ],
            [
             917,
             "Darmstadt"
            ],
            [
             917,
             "Darmstadt"
            ],
            [
             917,
             "Darmstadt"
            ],
            [
             917,
             "Darmstadt"
            ],
            [
             917,
             "Darmstadt"
            ],
            [
             917,
             "Darmstadt"
            ],
            [
             917,
             "Darmstadt"
            ],
            [
             917,
             "Darmstadt"
            ],
            [
             917,
             "Darmstadt"
            ],
            [
             917,
             "Darmstadt"
            ],
            [
             917,
             "Darmstadt"
            ],
            [
             917,
             "Darmstadt"
            ],
            [
             917,
             "Darmstadt"
            ],
            [
             917,
             "Darmstadt"
            ],
            [
             917,
             "Darmstadt"
            ],
            [
             917,
             "Darmstadt"
            ],
            [
             917,
             "Darmstadt"
            ],
            [
             917,
             "Darmstadt"
            ]
           ],
           "hovertemplate": "date2=2020-07-27<br>date=%{x}<br>temperature=%{marker.color}<br>station_id=%{customdata[0]}<br>STATION_NAME=%{customdata[1]}<extra></extra>",
           "legendgroup": "",
           "marker": {
            "color": [
             12.5,
             11.8,
             11.4,
             12.2,
             12.2,
             12.5,
             15.5,
             20.2,
             20.9,
             23.3,
             25.8,
             25.8,
             26,
             26.3,
             28.4,
             28.8,
             28.2,
             27.9,
             26.9,
             24.4,
             22.1,
             21.8,
             21.1,
             20.2
            ],
            "coloraxis": "coloraxis"
           },
           "name": "",
           "offsetgroup": "",
           "orientation": "v",
           "showlegend": false,
           "textposition": "auto",
           "type": "bar",
           "x": [
            "2020-07-27T00:00:00",
            "2020-07-27T01:00:00",
            "2020-07-27T02:00:00",
            "2020-07-27T03:00:00",
            "2020-07-27T04:00:00",
            "2020-07-27T05:00:00",
            "2020-07-27T06:00:00",
            "2020-07-27T07:00:00",
            "2020-07-27T08:00:00",
            "2020-07-27T09:00:00",
            "2020-07-27T10:00:00",
            "2020-07-27T11:00:00",
            "2020-07-27T12:00:00",
            "2020-07-27T13:00:00",
            "2020-07-27T14:00:00",
            "2020-07-27T15:00:00",
            "2020-07-27T16:00:00",
            "2020-07-27T17:00:00",
            "2020-07-27T18:00:00",
            "2020-07-27T19:00:00",
            "2020-07-27T20:00:00",
            "2020-07-27T21:00:00",
            "2020-07-27T22:00:00",
            "2020-07-27T23:00:00"
           ],
           "xaxis": "x",
           "y": [
            12.5,
            11.8,
            11.4,
            12.2,
            12.2,
            12.5,
            15.5,
            20.2,
            20.9,
            23.3,
            25.8,
            25.8,
            26,
            26.3,
            28.4,
            28.8,
            28.2,
            27.9,
            26.9,
            24.4,
            22.1,
            21.8,
            21.1,
            20.2
           ],
           "yaxis": "y"
          }
         ],
         "name": "2020-07-27"
        },
        {
         "data": [
          {
           "alignmentgroup": "True",
           "customdata": [
            [
             917,
             "Darmstadt"
            ],
            [
             917,
             "Darmstadt"
            ],
            [
             917,
             "Darmstadt"
            ],
            [
             917,
             "Darmstadt"
            ],
            [
             917,
             "Darmstadt"
            ],
            [
             917,
             "Darmstadt"
            ],
            [
             917,
             "Darmstadt"
            ],
            [
             917,
             "Darmstadt"
            ],
            [
             917,
             "Darmstadt"
            ],
            [
             917,
             "Darmstadt"
            ],
            [
             917,
             "Darmstadt"
            ],
            [
             917,
             "Darmstadt"
            ],
            [
             917,
             "Darmstadt"
            ],
            [
             917,
             "Darmstadt"
            ],
            [
             917,
             "Darmstadt"
            ],
            [
             917,
             "Darmstadt"
            ],
            [
             917,
             "Darmstadt"
            ],
            [
             917,
             "Darmstadt"
            ],
            [
             917,
             "Darmstadt"
            ],
            [
             917,
             "Darmstadt"
            ],
            [
             917,
             "Darmstadt"
            ],
            [
             917,
             "Darmstadt"
            ],
            [
             917,
             "Darmstadt"
            ],
            [
             917,
             "Darmstadt"
            ]
           ],
           "hovertemplate": "date2=2020-07-28<br>date=%{x}<br>temperature=%{marker.color}<br>station_id=%{customdata[0]}<br>STATION_NAME=%{customdata[1]}<extra></extra>",
           "legendgroup": "",
           "marker": {
            "color": [
             21.3,
             21.5,
             21.7,
             20.8,
             19.6,
             21,
             21.4,
             22.2,
             24.2,
             24.9,
             25.5,
             24.9,
             25.7,
             28.5,
             27.8,
             26,
             25.7,
             24.6,
             23.7,
             22.8,
             21.1,
             17.8,
             15.4,
             13.6
            ],
            "coloraxis": "coloraxis"
           },
           "name": "",
           "offsetgroup": "",
           "orientation": "v",
           "showlegend": false,
           "textposition": "auto",
           "type": "bar",
           "x": [
            "2020-07-28T00:00:00",
            "2020-07-28T01:00:00",
            "2020-07-28T02:00:00",
            "2020-07-28T03:00:00",
            "2020-07-28T04:00:00",
            "2020-07-28T05:00:00",
            "2020-07-28T06:00:00",
            "2020-07-28T07:00:00",
            "2020-07-28T08:00:00",
            "2020-07-28T09:00:00",
            "2020-07-28T10:00:00",
            "2020-07-28T11:00:00",
            "2020-07-28T12:00:00",
            "2020-07-28T13:00:00",
            "2020-07-28T14:00:00",
            "2020-07-28T15:00:00",
            "2020-07-28T16:00:00",
            "2020-07-28T17:00:00",
            "2020-07-28T18:00:00",
            "2020-07-28T19:00:00",
            "2020-07-28T20:00:00",
            "2020-07-28T21:00:00",
            "2020-07-28T22:00:00",
            "2020-07-28T23:00:00"
           ],
           "xaxis": "x",
           "y": [
            21.3,
            21.5,
            21.7,
            20.8,
            19.6,
            21,
            21.4,
            22.2,
            24.2,
            24.9,
            25.5,
            24.9,
            25.7,
            28.5,
            27.8,
            26,
            25.7,
            24.6,
            23.7,
            22.8,
            21.1,
            17.8,
            15.4,
            13.6
           ],
           "yaxis": "y"
          }
         ],
         "name": "2020-07-28"
        },
        {
         "data": [
          {
           "alignmentgroup": "True",
           "customdata": [
            [
             917,
             "Darmstadt"
            ],
            [
             917,
             "Darmstadt"
            ],
            [
             917,
             "Darmstadt"
            ],
            [
             917,
             "Darmstadt"
            ],
            [
             917,
             "Darmstadt"
            ],
            [
             917,
             "Darmstadt"
            ],
            [
             917,
             "Darmstadt"
            ],
            [
             917,
             "Darmstadt"
            ],
            [
             917,
             "Darmstadt"
            ],
            [
             917,
             "Darmstadt"
            ],
            [
             917,
             "Darmstadt"
            ],
            [
             917,
             "Darmstadt"
            ],
            [
             917,
             "Darmstadt"
            ],
            [
             917,
             "Darmstadt"
            ],
            [
             917,
             "Darmstadt"
            ],
            [
             917,
             "Darmstadt"
            ],
            [
             917,
             "Darmstadt"
            ],
            [
             917,
             "Darmstadt"
            ],
            [
             917,
             "Darmstadt"
            ],
            [
             917,
             "Darmstadt"
            ],
            [
             917,
             "Darmstadt"
            ],
            [
             917,
             "Darmstadt"
            ],
            [
             917,
             "Darmstadt"
            ],
            [
             917,
             "Darmstadt"
            ]
           ],
           "hovertemplate": "date2=2020-07-29<br>date=%{x}<br>temperature=%{marker.color}<br>station_id=%{customdata[0]}<br>STATION_NAME=%{customdata[1]}<extra></extra>",
           "legendgroup": "",
           "marker": {
            "color": [
             12,
             10.9,
             10.2,
             9.4,
             8.7,
             9.3,
             13.6,
             17.4,
             20.1,
             20.8,
             22.8,
             23.8,
             25.2,
             26,
             26.9,
             26.5,
             26.7,
             25.3,
             23.3,
             20,
             16.8,
             15,
             14,
             13.4
            ],
            "coloraxis": "coloraxis"
           },
           "name": "",
           "offsetgroup": "",
           "orientation": "v",
           "showlegend": false,
           "textposition": "auto",
           "type": "bar",
           "x": [
            "2020-07-29T00:00:00",
            "2020-07-29T01:00:00",
            "2020-07-29T02:00:00",
            "2020-07-29T03:00:00",
            "2020-07-29T04:00:00",
            "2020-07-29T05:00:00",
            "2020-07-29T06:00:00",
            "2020-07-29T07:00:00",
            "2020-07-29T08:00:00",
            "2020-07-29T09:00:00",
            "2020-07-29T10:00:00",
            "2020-07-29T11:00:00",
            "2020-07-29T12:00:00",
            "2020-07-29T13:00:00",
            "2020-07-29T14:00:00",
            "2020-07-29T15:00:00",
            "2020-07-29T16:00:00",
            "2020-07-29T17:00:00",
            "2020-07-29T18:00:00",
            "2020-07-29T19:00:00",
            "2020-07-29T20:00:00",
            "2020-07-29T21:00:00",
            "2020-07-29T22:00:00",
            "2020-07-29T23:00:00"
           ],
           "xaxis": "x",
           "y": [
            12,
            10.9,
            10.2,
            9.4,
            8.7,
            9.3,
            13.6,
            17.4,
            20.1,
            20.8,
            22.8,
            23.8,
            25.2,
            26,
            26.9,
            26.5,
            26.7,
            25.3,
            23.3,
            20,
            16.8,
            15,
            14,
            13.4
           ],
           "yaxis": "y"
          }
         ],
         "name": "2020-07-29"
        },
        {
         "data": [
          {
           "alignmentgroup": "True",
           "customdata": [
            [
             917,
             "Darmstadt"
            ],
            [
             917,
             "Darmstadt"
            ],
            [
             917,
             "Darmstadt"
            ],
            [
             917,
             "Darmstadt"
            ],
            [
             917,
             "Darmstadt"
            ],
            [
             917,
             "Darmstadt"
            ],
            [
             917,
             "Darmstadt"
            ],
            [
             917,
             "Darmstadt"
            ],
            [
             917,
             "Darmstadt"
            ],
            [
             917,
             "Darmstadt"
            ],
            [
             917,
             "Darmstadt"
            ],
            [
             917,
             "Darmstadt"
            ],
            [
             917,
             "Darmstadt"
            ],
            [
             917,
             "Darmstadt"
            ],
            [
             917,
             "Darmstadt"
            ],
            [
             917,
             "Darmstadt"
            ],
            [
             917,
             "Darmstadt"
            ],
            [
             917,
             "Darmstadt"
            ],
            [
             917,
             "Darmstadt"
            ],
            [
             917,
             "Darmstadt"
            ],
            [
             917,
             "Darmstadt"
            ],
            [
             917,
             "Darmstadt"
            ],
            [
             917,
             "Darmstadt"
            ],
            [
             917,
             "Darmstadt"
            ]
           ],
           "hovertemplate": "date2=2020-07-30<br>date=%{x}<br>temperature=%{marker.color}<br>station_id=%{customdata[0]}<br>STATION_NAME=%{customdata[1]}<extra></extra>",
           "legendgroup": "",
           "marker": {
            "color": [
             12.3,
             11.2,
             10.4,
             10.3,
             10.5,
             11.8,
             15,
             17.5,
             20.6,
             23.7,
             25.6,
             27,
             28.4,
             29.5,
             29.9,
             29.8,
             30.4,
             28.4,
             26.6,
             23.3,
             19.4,
             17.1,
             16,
             15
            ],
            "coloraxis": "coloraxis"
           },
           "name": "",
           "offsetgroup": "",
           "orientation": "v",
           "showlegend": false,
           "textposition": "auto",
           "type": "bar",
           "x": [
            "2020-07-30T00:00:00",
            "2020-07-30T01:00:00",
            "2020-07-30T02:00:00",
            "2020-07-30T03:00:00",
            "2020-07-30T04:00:00",
            "2020-07-30T05:00:00",
            "2020-07-30T06:00:00",
            "2020-07-30T07:00:00",
            "2020-07-30T08:00:00",
            "2020-07-30T09:00:00",
            "2020-07-30T10:00:00",
            "2020-07-30T11:00:00",
            "2020-07-30T12:00:00",
            "2020-07-30T13:00:00",
            "2020-07-30T14:00:00",
            "2020-07-30T15:00:00",
            "2020-07-30T16:00:00",
            "2020-07-30T17:00:00",
            "2020-07-30T18:00:00",
            "2020-07-30T19:00:00",
            "2020-07-30T20:00:00",
            "2020-07-30T21:00:00",
            "2020-07-30T22:00:00",
            "2020-07-30T23:00:00"
           ],
           "xaxis": "x",
           "y": [
            12.3,
            11.2,
            10.4,
            10.3,
            10.5,
            11.8,
            15,
            17.5,
            20.6,
            23.7,
            25.6,
            27,
            28.4,
            29.5,
            29.9,
            29.8,
            30.4,
            28.4,
            26.6,
            23.3,
            19.4,
            17.1,
            16,
            15
           ],
           "yaxis": "y"
          }
         ],
         "name": "2020-07-30"
        },
        {
         "data": [
          {
           "alignmentgroup": "True",
           "customdata": [
            [
             917,
             "Darmstadt"
            ],
            [
             917,
             "Darmstadt"
            ],
            [
             917,
             "Darmstadt"
            ],
            [
             917,
             "Darmstadt"
            ],
            [
             917,
             "Darmstadt"
            ],
            [
             917,
             "Darmstadt"
            ],
            [
             917,
             "Darmstadt"
            ],
            [
             917,
             "Darmstadt"
            ],
            [
             917,
             "Darmstadt"
            ],
            [
             917,
             "Darmstadt"
            ],
            [
             917,
             "Darmstadt"
            ],
            [
             917,
             "Darmstadt"
            ],
            [
             917,
             "Darmstadt"
            ],
            [
             917,
             "Darmstadt"
            ],
            [
             917,
             "Darmstadt"
            ],
            [
             917,
             "Darmstadt"
            ],
            [
             917,
             "Darmstadt"
            ],
            [
             917,
             "Darmstadt"
            ],
            [
             917,
             "Darmstadt"
            ],
            [
             917,
             "Darmstadt"
            ],
            [
             917,
             "Darmstadt"
            ],
            [
             917,
             "Darmstadt"
            ],
            [
             917,
             "Darmstadt"
            ],
            [
             917,
             "Darmstadt"
            ]
           ],
           "hovertemplate": "date2=2020-07-31<br>date=%{x}<br>temperature=%{marker.color}<br>station_id=%{customdata[0]}<br>STATION_NAME=%{customdata[1]}<extra></extra>",
           "legendgroup": "",
           "marker": {
            "color": [
             14.2,
             14.5,
             14.3,
             13.9,
             13.4,
             14.5,
             17,
             20.5,
             24.1,
             27,
             30,
             31.2,
             33,
             33.2,
             34.5,
             34.7,
             34.1,
             32.7,
             30.5,
             25.7,
             22.1,
             20.2,
             18.9,
             18.7
            ],
            "coloraxis": "coloraxis"
           },
           "name": "",
           "offsetgroup": "",
           "orientation": "v",
           "showlegend": false,
           "textposition": "auto",
           "type": "bar",
           "x": [
            "2020-07-31T00:00:00",
            "2020-07-31T01:00:00",
            "2020-07-31T02:00:00",
            "2020-07-31T03:00:00",
            "2020-07-31T04:00:00",
            "2020-07-31T05:00:00",
            "2020-07-31T06:00:00",
            "2020-07-31T07:00:00",
            "2020-07-31T08:00:00",
            "2020-07-31T09:00:00",
            "2020-07-31T10:00:00",
            "2020-07-31T11:00:00",
            "2020-07-31T12:00:00",
            "2020-07-31T13:00:00",
            "2020-07-31T14:00:00",
            "2020-07-31T15:00:00",
            "2020-07-31T16:00:00",
            "2020-07-31T17:00:00",
            "2020-07-31T18:00:00",
            "2020-07-31T19:00:00",
            "2020-07-31T20:00:00",
            "2020-07-31T21:00:00",
            "2020-07-31T22:00:00",
            "2020-07-31T23:00:00"
           ],
           "xaxis": "x",
           "y": [
            14.2,
            14.5,
            14.3,
            13.9,
            13.4,
            14.5,
            17,
            20.5,
            24.1,
            27,
            30,
            31.2,
            33,
            33.2,
            34.5,
            34.7,
            34.1,
            32.7,
            30.5,
            25.7,
            22.1,
            20.2,
            18.9,
            18.7
           ],
           "yaxis": "y"
          }
         ],
         "name": "2020-07-31"
        },
        {
         "data": [
          {
           "alignmentgroup": "True",
           "customdata": [
            [
             917,
             "Darmstadt"
            ],
            [
             917,
             "Darmstadt"
            ],
            [
             917,
             "Darmstadt"
            ],
            [
             917,
             "Darmstadt"
            ],
            [
             917,
             "Darmstadt"
            ],
            [
             917,
             "Darmstadt"
            ],
            [
             917,
             "Darmstadt"
            ],
            [
             917,
             "Darmstadt"
            ],
            [
             917,
             "Darmstadt"
            ],
            [
             917,
             "Darmstadt"
            ],
            [
             917,
             "Darmstadt"
            ],
            [
             917,
             "Darmstadt"
            ],
            [
             917,
             "Darmstadt"
            ],
            [
             917,
             "Darmstadt"
            ],
            [
             917,
             "Darmstadt"
            ],
            [
             917,
             "Darmstadt"
            ],
            [
             917,
             "Darmstadt"
            ],
            [
             917,
             "Darmstadt"
            ],
            [
             917,
             "Darmstadt"
            ],
            [
             917,
             "Darmstadt"
            ],
            [
             917,
             "Darmstadt"
            ],
            [
             917,
             "Darmstadt"
            ],
            [
             917,
             "Darmstadt"
            ],
            [
             917,
             "Darmstadt"
            ]
           ],
           "hovertemplate": "date2=2020-08-01<br>date=%{x}<br>temperature=%{marker.color}<br>station_id=%{customdata[0]}<br>STATION_NAME=%{customdata[1]}<extra></extra>",
           "legendgroup": "",
           "marker": {
            "color": [
             18.7,
             18.9,
             16.7,
             17.1,
             17.2,
             17.6,
             20,
             24.3,
             26.1,
             28.2,
             30.7,
             29.5,
             28.6,
             29.4,
             26.5,
             27.8,
             30.5,
             29.1,
             26.7,
             24.3,
             22.1,
             21.5,
             20.6,
             19.5
            ],
            "coloraxis": "coloraxis"
           },
           "name": "",
           "offsetgroup": "",
           "orientation": "v",
           "showlegend": false,
           "textposition": "auto",
           "type": "bar",
           "x": [
            "2020-08-01T00:00:00",
            "2020-08-01T01:00:00",
            "2020-08-01T02:00:00",
            "2020-08-01T03:00:00",
            "2020-08-01T04:00:00",
            "2020-08-01T05:00:00",
            "2020-08-01T06:00:00",
            "2020-08-01T07:00:00",
            "2020-08-01T08:00:00",
            "2020-08-01T09:00:00",
            "2020-08-01T10:00:00",
            "2020-08-01T11:00:00",
            "2020-08-01T12:00:00",
            "2020-08-01T13:00:00",
            "2020-08-01T14:00:00",
            "2020-08-01T15:00:00",
            "2020-08-01T16:00:00",
            "2020-08-01T17:00:00",
            "2020-08-01T18:00:00",
            "2020-08-01T19:00:00",
            "2020-08-01T20:00:00",
            "2020-08-01T21:00:00",
            "2020-08-01T22:00:00",
            "2020-08-01T23:00:00"
           ],
           "xaxis": "x",
           "y": [
            18.7,
            18.9,
            16.7,
            17.1,
            17.2,
            17.6,
            20,
            24.3,
            26.1,
            28.2,
            30.7,
            29.5,
            28.6,
            29.4,
            26.5,
            27.8,
            30.5,
            29.1,
            26.7,
            24.3,
            22.1,
            21.5,
            20.6,
            19.5
           ],
           "yaxis": "y"
          }
         ],
         "name": "2020-08-01"
        },
        {
         "data": [
          {
           "alignmentgroup": "True",
           "customdata": [
            [
             917,
             "Darmstadt"
            ],
            [
             917,
             "Darmstadt"
            ],
            [
             917,
             "Darmstadt"
            ],
            [
             917,
             "Darmstadt"
            ],
            [
             917,
             "Darmstadt"
            ],
            [
             917,
             "Darmstadt"
            ],
            [
             917,
             "Darmstadt"
            ],
            [
             917,
             "Darmstadt"
            ],
            [
             917,
             "Darmstadt"
            ],
            [
             917,
             "Darmstadt"
            ],
            [
             917,
             "Darmstadt"
            ],
            [
             917,
             "Darmstadt"
            ],
            [
             917,
             "Darmstadt"
            ],
            [
             917,
             "Darmstadt"
            ],
            [
             917,
             "Darmstadt"
            ],
            [
             917,
             "Darmstadt"
            ],
            [
             917,
             "Darmstadt"
            ],
            [
             917,
             "Darmstadt"
            ],
            [
             917,
             "Darmstadt"
            ],
            [
             917,
             "Darmstadt"
            ],
            [
             917,
             "Darmstadt"
            ],
            [
             917,
             "Darmstadt"
            ],
            [
             917,
             "Darmstadt"
            ],
            [
             917,
             "Darmstadt"
            ]
           ],
           "hovertemplate": "date2=2020-08-02<br>date=%{x}<br>temperature=%{marker.color}<br>station_id=%{customdata[0]}<br>STATION_NAME=%{customdata[1]}<extra></extra>",
           "legendgroup": "",
           "marker": {
            "color": [
             19.4,
             19.7,
             20.6,
             21.1,
             19.5,
             19.2,
             21.1,
             21.7,
             22.1,
             22.1,
             21.8,
             24.2,
             25.1,
             25.2,
             25.6,
             28.3,
             25.8,
             25.7,
             23.9,
             21.3,
             18.1,
             16.9,
             15.9,
             16.4
            ],
            "coloraxis": "coloraxis"
           },
           "name": "",
           "offsetgroup": "",
           "orientation": "v",
           "showlegend": false,
           "textposition": "auto",
           "type": "bar",
           "x": [
            "2020-08-02T00:00:00",
            "2020-08-02T01:00:00",
            "2020-08-02T02:00:00",
            "2020-08-02T03:00:00",
            "2020-08-02T04:00:00",
            "2020-08-02T05:00:00",
            "2020-08-02T06:00:00",
            "2020-08-02T07:00:00",
            "2020-08-02T08:00:00",
            "2020-08-02T09:00:00",
            "2020-08-02T10:00:00",
            "2020-08-02T11:00:00",
            "2020-08-02T12:00:00",
            "2020-08-02T13:00:00",
            "2020-08-02T14:00:00",
            "2020-08-02T15:00:00",
            "2020-08-02T16:00:00",
            "2020-08-02T17:00:00",
            "2020-08-02T18:00:00",
            "2020-08-02T19:00:00",
            "2020-08-02T20:00:00",
            "2020-08-02T21:00:00",
            "2020-08-02T22:00:00",
            "2020-08-02T23:00:00"
           ],
           "xaxis": "x",
           "y": [
            19.4,
            19.7,
            20.6,
            21.1,
            19.5,
            19.2,
            21.1,
            21.7,
            22.1,
            22.1,
            21.8,
            24.2,
            25.1,
            25.2,
            25.6,
            28.3,
            25.8,
            25.7,
            23.9,
            21.3,
            18.1,
            16.9,
            15.9,
            16.4
           ],
           "yaxis": "y"
          }
         ],
         "name": "2020-08-02"
        },
        {
         "data": [
          {
           "alignmentgroup": "True",
           "customdata": [
            [
             917,
             "Darmstadt"
            ],
            [
             917,
             "Darmstadt"
            ],
            [
             917,
             "Darmstadt"
            ],
            [
             917,
             "Darmstadt"
            ],
            [
             917,
             "Darmstadt"
            ],
            [
             917,
             "Darmstadt"
            ],
            [
             917,
             "Darmstadt"
            ],
            [
             917,
             "Darmstadt"
            ],
            [
             917,
             "Darmstadt"
            ],
            [
             917,
             "Darmstadt"
            ],
            [
             917,
             "Darmstadt"
            ],
            [
             917,
             "Darmstadt"
            ],
            [
             917,
             "Darmstadt"
            ],
            [
             917,
             "Darmstadt"
            ],
            [
             917,
             "Darmstadt"
            ],
            [
             917,
             "Darmstadt"
            ],
            [
             917,
             "Darmstadt"
            ],
            [
             917,
             "Darmstadt"
            ],
            [
             917,
             "Darmstadt"
            ],
            [
             917,
             "Darmstadt"
            ],
            [
             917,
             "Darmstadt"
            ],
            [
             917,
             "Darmstadt"
            ],
            [
             917,
             "Darmstadt"
            ],
            [
             917,
             "Darmstadt"
            ]
           ],
           "hovertemplate": "date2=2020-08-03<br>date=%{x}<br>temperature=%{marker.color}<br>station_id=%{customdata[0]}<br>STATION_NAME=%{customdata[1]}<extra></extra>",
           "legendgroup": "",
           "marker": {
            "color": [
             17.6,
             17,
             15.3,
             14.7,
             14.8,
             15.6,
             16.7,
             18.7,
             18.8,
             19.8,
             20.3,
             21.3,
             21.8,
             22.3,
             22.3,
             22.8,
             22.3,
             21.1,
             19.5,
             17.2,
             16.7,
             16.2,
             15.3,
             15
            ],
            "coloraxis": "coloraxis"
           },
           "name": "",
           "offsetgroup": "",
           "orientation": "v",
           "showlegend": false,
           "textposition": "auto",
           "type": "bar",
           "x": [
            "2020-08-03T00:00:00",
            "2020-08-03T01:00:00",
            "2020-08-03T02:00:00",
            "2020-08-03T03:00:00",
            "2020-08-03T04:00:00",
            "2020-08-03T05:00:00",
            "2020-08-03T06:00:00",
            "2020-08-03T07:00:00",
            "2020-08-03T08:00:00",
            "2020-08-03T09:00:00",
            "2020-08-03T10:00:00",
            "2020-08-03T11:00:00",
            "2020-08-03T12:00:00",
            "2020-08-03T13:00:00",
            "2020-08-03T14:00:00",
            "2020-08-03T15:00:00",
            "2020-08-03T16:00:00",
            "2020-08-03T17:00:00",
            "2020-08-03T18:00:00",
            "2020-08-03T19:00:00",
            "2020-08-03T20:00:00",
            "2020-08-03T21:00:00",
            "2020-08-03T22:00:00",
            "2020-08-03T23:00:00"
           ],
           "xaxis": "x",
           "y": [
            17.6,
            17,
            15.3,
            14.7,
            14.8,
            15.6,
            16.7,
            18.7,
            18.8,
            19.8,
            20.3,
            21.3,
            21.8,
            22.3,
            22.3,
            22.8,
            22.3,
            21.1,
            19.5,
            17.2,
            16.7,
            16.2,
            15.3,
            15
           ],
           "yaxis": "y"
          }
         ],
         "name": "2020-08-03"
        },
        {
         "data": [
          {
           "alignmentgroup": "True",
           "customdata": [
            [
             917,
             "Darmstadt"
            ],
            [
             917,
             "Darmstadt"
            ],
            [
             917,
             "Darmstadt"
            ],
            [
             917,
             "Darmstadt"
            ],
            [
             917,
             "Darmstadt"
            ],
            [
             917,
             "Darmstadt"
            ],
            [
             917,
             "Darmstadt"
            ],
            [
             917,
             "Darmstadt"
            ],
            [
             917,
             "Darmstadt"
            ],
            [
             917,
             "Darmstadt"
            ],
            [
             917,
             "Darmstadt"
            ],
            [
             917,
             "Darmstadt"
            ],
            [
             917,
             "Darmstadt"
            ],
            [
             917,
             "Darmstadt"
            ],
            [
             917,
             "Darmstadt"
            ],
            [
             917,
             "Darmstadt"
            ],
            [
             917,
             "Darmstadt"
            ],
            [
             917,
             "Darmstadt"
            ],
            [
             917,
             "Darmstadt"
            ],
            [
             917,
             "Darmstadt"
            ],
            [
             917,
             "Darmstadt"
            ],
            [
             917,
             "Darmstadt"
            ],
            [
             917,
             "Darmstadt"
            ],
            [
             917,
             "Darmstadt"
            ]
           ],
           "hovertemplate": "date2=2020-08-04<br>date=%{x}<br>temperature=%{marker.color}<br>station_id=%{customdata[0]}<br>STATION_NAME=%{customdata[1]}<extra></extra>",
           "legendgroup": "",
           "marker": {
            "color": [
             15.8,
             15.5,
             14.3,
             12.9,
             11.5,
             11.6,
             14,
             17.4,
             18.1,
             21.2,
             21.8,
             23.8,
             21.8,
             21.9,
             22.6,
             25.4,
             23.4,
             23.2,
             22,
             21.1,
             18.3,
             15.7,
             13.9,
             13.7
            ],
            "coloraxis": "coloraxis"
           },
           "name": "",
           "offsetgroup": "",
           "orientation": "v",
           "showlegend": false,
           "textposition": "auto",
           "type": "bar",
           "x": [
            "2020-08-04T00:00:00",
            "2020-08-04T01:00:00",
            "2020-08-04T02:00:00",
            "2020-08-04T03:00:00",
            "2020-08-04T04:00:00",
            "2020-08-04T05:00:00",
            "2020-08-04T06:00:00",
            "2020-08-04T07:00:00",
            "2020-08-04T08:00:00",
            "2020-08-04T09:00:00",
            "2020-08-04T10:00:00",
            "2020-08-04T11:00:00",
            "2020-08-04T12:00:00",
            "2020-08-04T13:00:00",
            "2020-08-04T14:00:00",
            "2020-08-04T15:00:00",
            "2020-08-04T16:00:00",
            "2020-08-04T17:00:00",
            "2020-08-04T18:00:00",
            "2020-08-04T19:00:00",
            "2020-08-04T20:00:00",
            "2020-08-04T21:00:00",
            "2020-08-04T22:00:00",
            "2020-08-04T23:00:00"
           ],
           "xaxis": "x",
           "y": [
            15.8,
            15.5,
            14.3,
            12.9,
            11.5,
            11.6,
            14,
            17.4,
            18.1,
            21.2,
            21.8,
            23.8,
            21.8,
            21.9,
            22.6,
            25.4,
            23.4,
            23.2,
            22,
            21.1,
            18.3,
            15.7,
            13.9,
            13.7
           ],
           "yaxis": "y"
          }
         ],
         "name": "2020-08-04"
        },
        {
         "data": [
          {
           "alignmentgroup": "True",
           "customdata": [
            [
             917,
             "Darmstadt"
            ],
            [
             917,
             "Darmstadt"
            ],
            [
             917,
             "Darmstadt"
            ],
            [
             917,
             "Darmstadt"
            ],
            [
             917,
             "Darmstadt"
            ],
            [
             917,
             "Darmstadt"
            ],
            [
             917,
             "Darmstadt"
            ],
            [
             917,
             "Darmstadt"
            ],
            [
             917,
             "Darmstadt"
            ],
            [
             917,
             "Darmstadt"
            ],
            [
             917,
             "Darmstadt"
            ],
            [
             917,
             "Darmstadt"
            ],
            [
             917,
             "Darmstadt"
            ],
            [
             917,
             "Darmstadt"
            ],
            [
             917,
             "Darmstadt"
            ],
            [
             917,
             "Darmstadt"
            ],
            [
             917,
             "Darmstadt"
            ],
            [
             917,
             "Darmstadt"
            ],
            [
             917,
             "Darmstadt"
            ],
            [
             917,
             "Darmstadt"
            ],
            [
             917,
             "Darmstadt"
            ],
            [
             917,
             "Darmstadt"
            ],
            [
             917,
             "Darmstadt"
            ],
            [
             917,
             "Darmstadt"
            ]
           ],
           "hovertemplate": "date2=2020-08-05<br>date=%{x}<br>temperature=%{marker.color}<br>station_id=%{customdata[0]}<br>STATION_NAME=%{customdata[1]}<extra></extra>",
           "legendgroup": "",
           "marker": {
            "color": [
             12.2,
             11.2,
             13.4,
             12.8,
             11.2,
             10.6,
             13.8,
             17.9,
             21,
             23.3,
             25.2,
             25.1,
             24.2,
             27,
             25.8,
             28.3,
             27.8,
             26,
             24.5,
             20.7,
             17.4,
             15.7,
             14.2,
             13.1
            ],
            "coloraxis": "coloraxis"
           },
           "name": "",
           "offsetgroup": "",
           "orientation": "v",
           "showlegend": false,
           "textposition": "auto",
           "type": "bar",
           "x": [
            "2020-08-05T00:00:00",
            "2020-08-05T01:00:00",
            "2020-08-05T02:00:00",
            "2020-08-05T03:00:00",
            "2020-08-05T04:00:00",
            "2020-08-05T05:00:00",
            "2020-08-05T06:00:00",
            "2020-08-05T07:00:00",
            "2020-08-05T08:00:00",
            "2020-08-05T09:00:00",
            "2020-08-05T10:00:00",
            "2020-08-05T11:00:00",
            "2020-08-05T12:00:00",
            "2020-08-05T13:00:00",
            "2020-08-05T14:00:00",
            "2020-08-05T15:00:00",
            "2020-08-05T16:00:00",
            "2020-08-05T17:00:00",
            "2020-08-05T18:00:00",
            "2020-08-05T19:00:00",
            "2020-08-05T20:00:00",
            "2020-08-05T21:00:00",
            "2020-08-05T22:00:00",
            "2020-08-05T23:00:00"
           ],
           "xaxis": "x",
           "y": [
            12.2,
            11.2,
            13.4,
            12.8,
            11.2,
            10.6,
            13.8,
            17.9,
            21,
            23.3,
            25.2,
            25.1,
            24.2,
            27,
            25.8,
            28.3,
            27.8,
            26,
            24.5,
            20.7,
            17.4,
            15.7,
            14.2,
            13.1
           ],
           "yaxis": "y"
          }
         ],
         "name": "2020-08-05"
        },
        {
         "data": [
          {
           "alignmentgroup": "True",
           "customdata": [
            [
             917,
             "Darmstadt"
            ],
            [
             917,
             "Darmstadt"
            ],
            [
             917,
             "Darmstadt"
            ],
            [
             917,
             "Darmstadt"
            ],
            [
             917,
             "Darmstadt"
            ],
            [
             917,
             "Darmstadt"
            ],
            [
             917,
             "Darmstadt"
            ],
            [
             917,
             "Darmstadt"
            ],
            [
             917,
             "Darmstadt"
            ],
            [
             917,
             "Darmstadt"
            ],
            [
             917,
             "Darmstadt"
            ],
            [
             917,
             "Darmstadt"
            ],
            [
             917,
             "Darmstadt"
            ],
            [
             917,
             "Darmstadt"
            ],
            [
             917,
             "Darmstadt"
            ],
            [
             917,
             "Darmstadt"
            ],
            [
             917,
             "Darmstadt"
            ],
            [
             917,
             "Darmstadt"
            ],
            [
             917,
             "Darmstadt"
            ],
            [
             917,
             "Darmstadt"
            ],
            [
             917,
             "Darmstadt"
            ],
            [
             917,
             "Darmstadt"
            ],
            [
             917,
             "Darmstadt"
            ],
            [
             917,
             "Darmstadt"
            ]
           ],
           "hovertemplate": "date2=2020-08-06<br>date=%{x}<br>temperature=%{marker.color}<br>station_id=%{customdata[0]}<br>STATION_NAME=%{customdata[1]}<extra></extra>",
           "legendgroup": "",
           "marker": {
            "color": [
             12.3,
             11.4,
             10.8,
             10.8,
             11,
             11.5,
             15.8,
             20.1,
             23.1,
             24.8,
             27,
             28,
             29.2,
             30.1,
             30.1,
             30.7,
             30.5,
             29,
             27.5,
             23.3,
             20.3,
             18.3,
             16.9,
             16.1
            ],
            "coloraxis": "coloraxis"
           },
           "name": "",
           "offsetgroup": "",
           "orientation": "v",
           "showlegend": false,
           "textposition": "auto",
           "type": "bar",
           "x": [
            "2020-08-06T00:00:00",
            "2020-08-06T01:00:00",
            "2020-08-06T02:00:00",
            "2020-08-06T03:00:00",
            "2020-08-06T04:00:00",
            "2020-08-06T05:00:00",
            "2020-08-06T06:00:00",
            "2020-08-06T07:00:00",
            "2020-08-06T08:00:00",
            "2020-08-06T09:00:00",
            "2020-08-06T10:00:00",
            "2020-08-06T11:00:00",
            "2020-08-06T12:00:00",
            "2020-08-06T13:00:00",
            "2020-08-06T14:00:00",
            "2020-08-06T15:00:00",
            "2020-08-06T16:00:00",
            "2020-08-06T17:00:00",
            "2020-08-06T18:00:00",
            "2020-08-06T19:00:00",
            "2020-08-06T20:00:00",
            "2020-08-06T21:00:00",
            "2020-08-06T22:00:00",
            "2020-08-06T23:00:00"
           ],
           "xaxis": "x",
           "y": [
            12.3,
            11.4,
            10.8,
            10.8,
            11,
            11.5,
            15.8,
            20.1,
            23.1,
            24.8,
            27,
            28,
            29.2,
            30.1,
            30.1,
            30.7,
            30.5,
            29,
            27.5,
            23.3,
            20.3,
            18.3,
            16.9,
            16.1
           ],
           "yaxis": "y"
          }
         ],
         "name": "2020-08-06"
        },
        {
         "data": [
          {
           "alignmentgroup": "True",
           "customdata": [
            [
             917,
             "Darmstadt"
            ],
            [
             917,
             "Darmstadt"
            ],
            [
             917,
             "Darmstadt"
            ],
            [
             917,
             "Darmstadt"
            ],
            [
             917,
             "Darmstadt"
            ],
            [
             917,
             "Darmstadt"
            ],
            [
             917,
             "Darmstadt"
            ],
            [
             917,
             "Darmstadt"
            ],
            [
             917,
             "Darmstadt"
            ],
            [
             917,
             "Darmstadt"
            ],
            [
             917,
             "Darmstadt"
            ],
            [
             917,
             "Darmstadt"
            ],
            [
             917,
             "Darmstadt"
            ],
            [
             917,
             "Darmstadt"
            ],
            [
             917,
             "Darmstadt"
            ],
            [
             917,
             "Darmstadt"
            ],
            [
             917,
             "Darmstadt"
            ],
            [
             917,
             "Darmstadt"
            ],
            [
             917,
             "Darmstadt"
            ],
            [
             917,
             "Darmstadt"
            ],
            [
             917,
             "Darmstadt"
            ],
            [
             917,
             "Darmstadt"
            ],
            [
             917,
             "Darmstadt"
            ],
            [
             917,
             "Darmstadt"
            ]
           ],
           "hovertemplate": "date2=2020-08-07<br>date=%{x}<br>temperature=%{marker.color}<br>station_id=%{customdata[0]}<br>STATION_NAME=%{customdata[1]}<extra></extra>",
           "legendgroup": "",
           "marker": {
            "color": [
             15.2,
             15.5,
             15.8,
             15.4,
             14.3,
             15.3,
             17.5,
             21.4,
             25.2,
             28.3,
             30,
             31.4,
             32.3,
             33.5,
             33.3,
             33.7,
             33.6,
             31.7,
             29.7,
             26.1,
             23.1,
             21.3,
             20.2,
             19.2
            ],
            "coloraxis": "coloraxis"
           },
           "name": "",
           "offsetgroup": "",
           "orientation": "v",
           "showlegend": false,
           "textposition": "auto",
           "type": "bar",
           "x": [
            "2020-08-07T00:00:00",
            "2020-08-07T01:00:00",
            "2020-08-07T02:00:00",
            "2020-08-07T03:00:00",
            "2020-08-07T04:00:00",
            "2020-08-07T05:00:00",
            "2020-08-07T06:00:00",
            "2020-08-07T07:00:00",
            "2020-08-07T08:00:00",
            "2020-08-07T09:00:00",
            "2020-08-07T10:00:00",
            "2020-08-07T11:00:00",
            "2020-08-07T12:00:00",
            "2020-08-07T13:00:00",
            "2020-08-07T14:00:00",
            "2020-08-07T15:00:00",
            "2020-08-07T16:00:00",
            "2020-08-07T17:00:00",
            "2020-08-07T18:00:00",
            "2020-08-07T19:00:00",
            "2020-08-07T20:00:00",
            "2020-08-07T21:00:00",
            "2020-08-07T22:00:00",
            "2020-08-07T23:00:00"
           ],
           "xaxis": "x",
           "y": [
            15.2,
            15.5,
            15.8,
            15.4,
            14.3,
            15.3,
            17.5,
            21.4,
            25.2,
            28.3,
            30,
            31.4,
            32.3,
            33.5,
            33.3,
            33.7,
            33.6,
            31.7,
            29.7,
            26.1,
            23.1,
            21.3,
            20.2,
            19.2
           ],
           "yaxis": "y"
          }
         ],
         "name": "2020-08-07"
        },
        {
         "data": [
          {
           "alignmentgroup": "True",
           "customdata": [
            [
             917,
             "Darmstadt"
            ],
            [
             917,
             "Darmstadt"
            ],
            [
             917,
             "Darmstadt"
            ],
            [
             917,
             "Darmstadt"
            ],
            [
             917,
             "Darmstadt"
            ],
            [
             917,
             "Darmstadt"
            ],
            [
             917,
             "Darmstadt"
            ],
            [
             917,
             "Darmstadt"
            ],
            [
             917,
             "Darmstadt"
            ],
            [
             917,
             "Darmstadt"
            ],
            [
             917,
             "Darmstadt"
            ],
            [
             917,
             "Darmstadt"
            ],
            [
             917,
             "Darmstadt"
            ],
            [
             917,
             "Darmstadt"
            ],
            [
             917,
             "Darmstadt"
            ],
            [
             917,
             "Darmstadt"
            ],
            [
             917,
             "Darmstadt"
            ],
            [
             917,
             "Darmstadt"
            ],
            [
             917,
             "Darmstadt"
            ],
            [
             917,
             "Darmstadt"
            ],
            [
             917,
             "Darmstadt"
            ],
            [
             917,
             "Darmstadt"
            ],
            [
             917,
             "Darmstadt"
            ],
            [
             917,
             "Darmstadt"
            ]
           ],
           "hovertemplate": "date2=2020-08-08<br>date=%{x}<br>temperature=%{marker.color}<br>station_id=%{customdata[0]}<br>STATION_NAME=%{customdata[1]}<extra></extra>",
           "legendgroup": "",
           "marker": {
            "color": [
             18.7,
             17.8,
             17.2,
             16.6,
             16.2,
             16.6,
             20.5,
             25.5,
             29.6,
             31.5,
             32.8,
             32.7,
             34.5,
             35.7,
             35.8,
             34.5,
             35.1,
             33.1,
             30.2,
             26.2,
             22.9,
             21.8,
             20.6,
             19.8
            ],
            "coloraxis": "coloraxis"
           },
           "name": "",
           "offsetgroup": "",
           "orientation": "v",
           "showlegend": false,
           "textposition": "auto",
           "type": "bar",
           "x": [
            "2020-08-08T00:00:00",
            "2020-08-08T01:00:00",
            "2020-08-08T02:00:00",
            "2020-08-08T03:00:00",
            "2020-08-08T04:00:00",
            "2020-08-08T05:00:00",
            "2020-08-08T06:00:00",
            "2020-08-08T07:00:00",
            "2020-08-08T08:00:00",
            "2020-08-08T09:00:00",
            "2020-08-08T10:00:00",
            "2020-08-08T11:00:00",
            "2020-08-08T12:00:00",
            "2020-08-08T13:00:00",
            "2020-08-08T14:00:00",
            "2020-08-08T15:00:00",
            "2020-08-08T16:00:00",
            "2020-08-08T17:00:00",
            "2020-08-08T18:00:00",
            "2020-08-08T19:00:00",
            "2020-08-08T20:00:00",
            "2020-08-08T21:00:00",
            "2020-08-08T22:00:00",
            "2020-08-08T23:00:00"
           ],
           "xaxis": "x",
           "y": [
            18.7,
            17.8,
            17.2,
            16.6,
            16.2,
            16.6,
            20.5,
            25.5,
            29.6,
            31.5,
            32.8,
            32.7,
            34.5,
            35.7,
            35.8,
            34.5,
            35.1,
            33.1,
            30.2,
            26.2,
            22.9,
            21.8,
            20.6,
            19.8
           ],
           "yaxis": "y"
          }
         ],
         "name": "2020-08-08"
        },
        {
         "data": [
          {
           "alignmentgroup": "True",
           "customdata": [
            [
             917,
             "Darmstadt"
            ],
            [
             917,
             "Darmstadt"
            ],
            [
             917,
             "Darmstadt"
            ],
            [
             917,
             "Darmstadt"
            ],
            [
             917,
             "Darmstadt"
            ],
            [
             917,
             "Darmstadt"
            ],
            [
             917,
             "Darmstadt"
            ],
            [
             917,
             "Darmstadt"
            ],
            [
             917,
             "Darmstadt"
            ],
            [
             917,
             "Darmstadt"
            ],
            [
             917,
             "Darmstadt"
            ],
            [
             917,
             "Darmstadt"
            ],
            [
             917,
             "Darmstadt"
            ],
            [
             917,
             "Darmstadt"
            ],
            [
             917,
             "Darmstadt"
            ],
            [
             917,
             "Darmstadt"
            ],
            [
             917,
             "Darmstadt"
            ],
            [
             917,
             "Darmstadt"
            ],
            [
             917,
             "Darmstadt"
            ],
            [
             917,
             "Darmstadt"
            ],
            [
             917,
             "Darmstadt"
            ],
            [
             917,
             "Darmstadt"
            ],
            [
             917,
             "Darmstadt"
            ],
            [
             917,
             "Darmstadt"
            ]
           ],
           "hovertemplate": "date2=2020-08-09<br>date=%{x}<br>temperature=%{marker.color}<br>station_id=%{customdata[0]}<br>STATION_NAME=%{customdata[1]}<extra></extra>",
           "legendgroup": "",
           "marker": {
            "color": [
             19.4,
             18.5,
             17.8,
             17,
             16.6,
             17,
             19.6,
             24.3,
             27.8,
             30.7,
             33.3,
             34.9,
             35.8,
             33.3,
             36.2,
             35.9,
             34.2,
             28.7,
             25.1,
             25.9,
             23.6,
             23.8,
             21,
             19.6
            ],
            "coloraxis": "coloraxis"
           },
           "name": "",
           "offsetgroup": "",
           "orientation": "v",
           "showlegend": false,
           "textposition": "auto",
           "type": "bar",
           "x": [
            "2020-08-09T00:00:00",
            "2020-08-09T01:00:00",
            "2020-08-09T02:00:00",
            "2020-08-09T03:00:00",
            "2020-08-09T04:00:00",
            "2020-08-09T05:00:00",
            "2020-08-09T06:00:00",
            "2020-08-09T07:00:00",
            "2020-08-09T08:00:00",
            "2020-08-09T09:00:00",
            "2020-08-09T10:00:00",
            "2020-08-09T11:00:00",
            "2020-08-09T12:00:00",
            "2020-08-09T13:00:00",
            "2020-08-09T14:00:00",
            "2020-08-09T15:00:00",
            "2020-08-09T16:00:00",
            "2020-08-09T17:00:00",
            "2020-08-09T18:00:00",
            "2020-08-09T19:00:00",
            "2020-08-09T20:00:00",
            "2020-08-09T21:00:00",
            "2020-08-09T22:00:00",
            "2020-08-09T23:00:00"
           ],
           "xaxis": "x",
           "y": [
            19.4,
            18.5,
            17.8,
            17,
            16.6,
            17,
            19.6,
            24.3,
            27.8,
            30.7,
            33.3,
            34.9,
            35.8,
            33.3,
            36.2,
            35.9,
            34.2,
            28.7,
            25.1,
            25.9,
            23.6,
            23.8,
            21,
            19.6
           ],
           "yaxis": "y"
          }
         ],
         "name": "2020-08-09"
        },
        {
         "data": [
          {
           "alignmentgroup": "True",
           "customdata": [
            [
             917,
             "Darmstadt"
            ],
            [
             917,
             "Darmstadt"
            ],
            [
             917,
             "Darmstadt"
            ],
            [
             917,
             "Darmstadt"
            ],
            [
             917,
             "Darmstadt"
            ],
            [
             917,
             "Darmstadt"
            ],
            [
             917,
             "Darmstadt"
            ],
            [
             917,
             "Darmstadt"
            ],
            [
             917,
             "Darmstadt"
            ],
            [
             917,
             "Darmstadt"
            ],
            [
             917,
             "Darmstadt"
            ],
            [
             917,
             "Darmstadt"
            ],
            [
             917,
             "Darmstadt"
            ],
            [
             917,
             "Darmstadt"
            ],
            [
             917,
             "Darmstadt"
            ],
            [
             917,
             "Darmstadt"
            ],
            [
             917,
             "Darmstadt"
            ],
            [
             917,
             "Darmstadt"
            ],
            [
             917,
             "Darmstadt"
            ],
            [
             917,
             "Darmstadt"
            ],
            [
             917,
             "Darmstadt"
            ],
            [
             917,
             "Darmstadt"
            ],
            [
             917,
             "Darmstadt"
            ],
            [
             917,
             "Darmstadt"
            ]
           ],
           "hovertemplate": "date2=2020-08-10<br>date=%{x}<br>temperature=%{marker.color}<br>station_id=%{customdata[0]}<br>STATION_NAME=%{customdata[1]}<extra></extra>",
           "legendgroup": "",
           "marker": {
            "color": [
             19.5,
             19.2,
             18.7,
             17.9,
             16.9,
             18.1,
             20.6,
             22.7,
             25.8,
             27.8,
             30.7,
             32.4,
             33.2,
             32.6,
             33.7,
             32.3,
             33.2,
             31.9,
             30.1,
             26.9,
             24.9,
             24.4,
             23.9,
             23.6
            ],
            "coloraxis": "coloraxis"
           },
           "name": "",
           "offsetgroup": "",
           "orientation": "v",
           "showlegend": false,
           "textposition": "auto",
           "type": "bar",
           "x": [
            "2020-08-10T00:00:00",
            "2020-08-10T01:00:00",
            "2020-08-10T02:00:00",
            "2020-08-10T03:00:00",
            "2020-08-10T04:00:00",
            "2020-08-10T05:00:00",
            "2020-08-10T06:00:00",
            "2020-08-10T07:00:00",
            "2020-08-10T08:00:00",
            "2020-08-10T09:00:00",
            "2020-08-10T10:00:00",
            "2020-08-10T11:00:00",
            "2020-08-10T12:00:00",
            "2020-08-10T13:00:00",
            "2020-08-10T14:00:00",
            "2020-08-10T15:00:00",
            "2020-08-10T16:00:00",
            "2020-08-10T17:00:00",
            "2020-08-10T18:00:00",
            "2020-08-10T19:00:00",
            "2020-08-10T20:00:00",
            "2020-08-10T21:00:00",
            "2020-08-10T22:00:00",
            "2020-08-10T23:00:00"
           ],
           "xaxis": "x",
           "y": [
            19.5,
            19.2,
            18.7,
            17.9,
            16.9,
            18.1,
            20.6,
            22.7,
            25.8,
            27.8,
            30.7,
            32.4,
            33.2,
            32.6,
            33.7,
            32.3,
            33.2,
            31.9,
            30.1,
            26.9,
            24.9,
            24.4,
            23.9,
            23.6
           ],
           "yaxis": "y"
          }
         ],
         "name": "2020-08-10"
        },
        {
         "data": [
          {
           "alignmentgroup": "True",
           "customdata": [
            [
             917,
             "Darmstadt"
            ],
            [
             917,
             "Darmstadt"
            ],
            [
             917,
             "Darmstadt"
            ],
            [
             917,
             "Darmstadt"
            ],
            [
             917,
             "Darmstadt"
            ],
            [
             917,
             "Darmstadt"
            ],
            [
             917,
             "Darmstadt"
            ],
            [
             917,
             "Darmstadt"
            ],
            [
             917,
             "Darmstadt"
            ],
            [
             917,
             "Darmstadt"
            ],
            [
             917,
             "Darmstadt"
            ],
            [
             917,
             "Darmstadt"
            ],
            [
             917,
             "Darmstadt"
            ],
            [
             917,
             "Darmstadt"
            ],
            [
             917,
             "Darmstadt"
            ],
            [
             917,
             "Darmstadt"
            ],
            [
             917,
             "Darmstadt"
            ],
            [
             917,
             "Darmstadt"
            ],
            [
             917,
             "Darmstadt"
            ],
            [
             917,
             "Darmstadt"
            ],
            [
             917,
             "Darmstadt"
            ],
            [
             917,
             "Darmstadt"
            ],
            [
             917,
             "Darmstadt"
            ],
            [
             917,
             "Darmstadt"
            ]
           ],
           "hovertemplate": "date2=2020-08-11<br>date=%{x}<br>temperature=%{marker.color}<br>station_id=%{customdata[0]}<br>STATION_NAME=%{customdata[1]}<extra></extra>",
           "legendgroup": "",
           "marker": {
            "color": [
             24.1,
             23.5,
             21.3,
             20.3,
             19.8,
             20.8,
             22.4,
             24.4,
             26.6,
             28.1,
             31.4,
             32.3,
             33.4,
             35.5,
             34.7,
             28.3,
             28.8,
             26.8,
             25.1,
             25.2,
             25.4,
             23.7,
             22.9,
             23.8
            ],
            "coloraxis": "coloraxis"
           },
           "name": "",
           "offsetgroup": "",
           "orientation": "v",
           "showlegend": false,
           "textposition": "auto",
           "type": "bar",
           "x": [
            "2020-08-11T00:00:00",
            "2020-08-11T01:00:00",
            "2020-08-11T02:00:00",
            "2020-08-11T03:00:00",
            "2020-08-11T04:00:00",
            "2020-08-11T05:00:00",
            "2020-08-11T06:00:00",
            "2020-08-11T07:00:00",
            "2020-08-11T08:00:00",
            "2020-08-11T09:00:00",
            "2020-08-11T10:00:00",
            "2020-08-11T11:00:00",
            "2020-08-11T12:00:00",
            "2020-08-11T13:00:00",
            "2020-08-11T14:00:00",
            "2020-08-11T15:00:00",
            "2020-08-11T16:00:00",
            "2020-08-11T17:00:00",
            "2020-08-11T18:00:00",
            "2020-08-11T19:00:00",
            "2020-08-11T20:00:00",
            "2020-08-11T21:00:00",
            "2020-08-11T22:00:00",
            "2020-08-11T23:00:00"
           ],
           "xaxis": "x",
           "y": [
            24.1,
            23.5,
            21.3,
            20.3,
            19.8,
            20.8,
            22.4,
            24.4,
            26.6,
            28.1,
            31.4,
            32.3,
            33.4,
            35.5,
            34.7,
            28.3,
            28.8,
            26.8,
            25.1,
            25.2,
            25.4,
            23.7,
            22.9,
            23.8
           ],
           "yaxis": "y"
          }
         ],
         "name": "2020-08-11"
        },
        {
         "data": [
          {
           "alignmentgroup": "True",
           "customdata": [
            [
             917,
             "Darmstadt"
            ],
            [
             917,
             "Darmstadt"
            ],
            [
             917,
             "Darmstadt"
            ],
            [
             917,
             "Darmstadt"
            ],
            [
             917,
             "Darmstadt"
            ],
            [
             917,
             "Darmstadt"
            ],
            [
             917,
             "Darmstadt"
            ],
            [
             917,
             "Darmstadt"
            ],
            [
             917,
             "Darmstadt"
            ],
            [
             917,
             "Darmstadt"
            ],
            [
             917,
             "Darmstadt"
            ],
            [
             917,
             "Darmstadt"
            ],
            [
             917,
             "Darmstadt"
            ],
            [
             917,
             "Darmstadt"
            ],
            [
             917,
             "Darmstadt"
            ],
            [
             917,
             "Darmstadt"
            ],
            [
             917,
             "Darmstadt"
            ],
            [
             917,
             "Darmstadt"
            ],
            [
             917,
             "Darmstadt"
            ],
            [
             917,
             "Darmstadt"
            ],
            [
             917,
             "Darmstadt"
            ],
            [
             917,
             "Darmstadt"
            ],
            [
             917,
             "Darmstadt"
            ],
            [
             917,
             "Darmstadt"
            ]
           ],
           "hovertemplate": "date2=2020-08-12<br>date=%{x}<br>temperature=%{marker.color}<br>station_id=%{customdata[0]}<br>STATION_NAME=%{customdata[1]}<extra></extra>",
           "legendgroup": "",
           "marker": {
            "color": [
             22.1,
             21.6,
             21.2,
             21.1,
             21.4,
             21,
             21.1,
             23.3,
             25.8,
             28.4,
             30.1,
             31.8,
             33.3,
             34.5,
             34.5,
             35,
             31.9,
             29.5,
             22,
             21.1,
             21,
             20.7,
             20.2,
             20
            ],
            "coloraxis": "coloraxis"
           },
           "name": "",
           "offsetgroup": "",
           "orientation": "v",
           "showlegend": false,
           "textposition": "auto",
           "type": "bar",
           "x": [
            "2020-08-12T00:00:00",
            "2020-08-12T01:00:00",
            "2020-08-12T02:00:00",
            "2020-08-12T03:00:00",
            "2020-08-12T04:00:00",
            "2020-08-12T05:00:00",
            "2020-08-12T06:00:00",
            "2020-08-12T07:00:00",
            "2020-08-12T08:00:00",
            "2020-08-12T09:00:00",
            "2020-08-12T10:00:00",
            "2020-08-12T11:00:00",
            "2020-08-12T12:00:00",
            "2020-08-12T13:00:00",
            "2020-08-12T14:00:00",
            "2020-08-12T15:00:00",
            "2020-08-12T16:00:00",
            "2020-08-12T17:00:00",
            "2020-08-12T18:00:00",
            "2020-08-12T19:00:00",
            "2020-08-12T20:00:00",
            "2020-08-12T21:00:00",
            "2020-08-12T22:00:00",
            "2020-08-12T23:00:00"
           ],
           "xaxis": "x",
           "y": [
            22.1,
            21.6,
            21.2,
            21.1,
            21.4,
            21,
            21.1,
            23.3,
            25.8,
            28.4,
            30.1,
            31.8,
            33.3,
            34.5,
            34.5,
            35,
            31.9,
            29.5,
            22,
            21.1,
            21,
            20.7,
            20.2,
            20
           ],
           "yaxis": "y"
          }
         ],
         "name": "2020-08-12"
        },
        {
         "data": [
          {
           "alignmentgroup": "True",
           "customdata": [
            [
             917,
             "Darmstadt"
            ],
            [
             917,
             "Darmstadt"
            ],
            [
             917,
             "Darmstadt"
            ],
            [
             917,
             "Darmstadt"
            ],
            [
             917,
             "Darmstadt"
            ],
            [
             917,
             "Darmstadt"
            ],
            [
             917,
             "Darmstadt"
            ],
            [
             917,
             "Darmstadt"
            ],
            [
             917,
             "Darmstadt"
            ],
            [
             917,
             "Darmstadt"
            ],
            [
             917,
             "Darmstadt"
            ],
            [
             917,
             "Darmstadt"
            ],
            [
             917,
             "Darmstadt"
            ],
            [
             917,
             "Darmstadt"
            ],
            [
             917,
             "Darmstadt"
            ],
            [
             917,
             "Darmstadt"
            ],
            [
             917,
             "Darmstadt"
            ],
            [
             917,
             "Darmstadt"
            ],
            [
             917,
             "Darmstadt"
            ],
            [
             917,
             "Darmstadt"
            ],
            [
             917,
             "Darmstadt"
            ],
            [
             917,
             "Darmstadt"
            ],
            [
             917,
             "Darmstadt"
            ],
            [
             917,
             "Darmstadt"
            ]
           ],
           "hovertemplate": "date2=2020-08-13<br>date=%{x}<br>temperature=%{marker.color}<br>station_id=%{customdata[0]}<br>STATION_NAME=%{customdata[1]}<extra></extra>",
           "legendgroup": "",
           "marker": {
            "color": [
             19.2,
             18.9,
             18.9,
             19.3,
             18.9,
             19.2,
             20,
             20.2,
             19.9,
             20.2,
             22.1,
             22.6,
             22.5,
             22.9,
             22.5,
             23.1,
             22.9,
             23.1,
             22.4,
             21.3,
             20.2,
             20,
             19.6,
             19.6
            ],
            "coloraxis": "coloraxis"
           },
           "name": "",
           "offsetgroup": "",
           "orientation": "v",
           "showlegend": false,
           "textposition": "auto",
           "type": "bar",
           "x": [
            "2020-08-13T00:00:00",
            "2020-08-13T01:00:00",
            "2020-08-13T02:00:00",
            "2020-08-13T03:00:00",
            "2020-08-13T04:00:00",
            "2020-08-13T05:00:00",
            "2020-08-13T06:00:00",
            "2020-08-13T07:00:00",
            "2020-08-13T08:00:00",
            "2020-08-13T09:00:00",
            "2020-08-13T10:00:00",
            "2020-08-13T11:00:00",
            "2020-08-13T12:00:00",
            "2020-08-13T13:00:00",
            "2020-08-13T14:00:00",
            "2020-08-13T15:00:00",
            "2020-08-13T16:00:00",
            "2020-08-13T17:00:00",
            "2020-08-13T18:00:00",
            "2020-08-13T19:00:00",
            "2020-08-13T20:00:00",
            "2020-08-13T21:00:00",
            "2020-08-13T22:00:00",
            "2020-08-13T23:00:00"
           ],
           "xaxis": "x",
           "y": [
            19.2,
            18.9,
            18.9,
            19.3,
            18.9,
            19.2,
            20,
            20.2,
            19.9,
            20.2,
            22.1,
            22.6,
            22.5,
            22.9,
            22.5,
            23.1,
            22.9,
            23.1,
            22.4,
            21.3,
            20.2,
            20,
            19.6,
            19.6
           ],
           "yaxis": "y"
          }
         ],
         "name": "2020-08-13"
        },
        {
         "data": [
          {
           "alignmentgroup": "True",
           "customdata": [
            [
             917,
             "Darmstadt"
            ],
            [
             917,
             "Darmstadt"
            ],
            [
             917,
             "Darmstadt"
            ],
            [
             917,
             "Darmstadt"
            ],
            [
             917,
             "Darmstadt"
            ],
            [
             917,
             "Darmstadt"
            ],
            [
             917,
             "Darmstadt"
            ],
            [
             917,
             "Darmstadt"
            ],
            [
             917,
             "Darmstadt"
            ],
            [
             917,
             "Darmstadt"
            ],
            [
             917,
             "Darmstadt"
            ],
            [
             917,
             "Darmstadt"
            ],
            [
             917,
             "Darmstadt"
            ],
            [
             917,
             "Darmstadt"
            ],
            [
             917,
             "Darmstadt"
            ],
            [
             917,
             "Darmstadt"
            ],
            [
             917,
             "Darmstadt"
            ],
            [
             917,
             "Darmstadt"
            ],
            [
             917,
             "Darmstadt"
            ],
            [
             917,
             "Darmstadt"
            ],
            [
             917,
             "Darmstadt"
            ],
            [
             917,
             "Darmstadt"
            ],
            [
             917,
             "Darmstadt"
            ],
            [
             917,
             "Darmstadt"
            ]
           ],
           "hovertemplate": "date2=2020-08-14<br>date=%{x}<br>temperature=%{marker.color}<br>station_id=%{customdata[0]}<br>STATION_NAME=%{customdata[1]}<extra></extra>",
           "legendgroup": "",
           "marker": {
            "color": [
             19.5,
             19.3,
             18.9,
             18.7,
             18.4,
             18.7,
             19.3,
             20.2,
             23,
             22.2,
             22.6,
             23.6,
             24.3,
             24.3,
             24.2,
             22,
             21,
             21.3,
             20.7,
             19.8,
             19.6,
             18.7,
             19.1,
             19
            ],
            "coloraxis": "coloraxis"
           },
           "name": "",
           "offsetgroup": "",
           "orientation": "v",
           "showlegend": false,
           "textposition": "auto",
           "type": "bar",
           "x": [
            "2020-08-14T00:00:00",
            "2020-08-14T01:00:00",
            "2020-08-14T02:00:00",
            "2020-08-14T03:00:00",
            "2020-08-14T04:00:00",
            "2020-08-14T05:00:00",
            "2020-08-14T06:00:00",
            "2020-08-14T07:00:00",
            "2020-08-14T08:00:00",
            "2020-08-14T09:00:00",
            "2020-08-14T10:00:00",
            "2020-08-14T11:00:00",
            "2020-08-14T12:00:00",
            "2020-08-14T13:00:00",
            "2020-08-14T14:00:00",
            "2020-08-14T15:00:00",
            "2020-08-14T16:00:00",
            "2020-08-14T17:00:00",
            "2020-08-14T18:00:00",
            "2020-08-14T19:00:00",
            "2020-08-14T20:00:00",
            "2020-08-14T21:00:00",
            "2020-08-14T22:00:00",
            "2020-08-14T23:00:00"
           ],
           "xaxis": "x",
           "y": [
            19.5,
            19.3,
            18.9,
            18.7,
            18.4,
            18.7,
            19.3,
            20.2,
            23,
            22.2,
            22.6,
            23.6,
            24.3,
            24.3,
            24.2,
            22,
            21,
            21.3,
            20.7,
            19.8,
            19.6,
            18.7,
            19.1,
            19
           ],
           "yaxis": "y"
          }
         ],
         "name": "2020-08-14"
        },
        {
         "data": [
          {
           "alignmentgroup": "True",
           "customdata": [
            [
             917,
             "Darmstadt"
            ],
            [
             917,
             "Darmstadt"
            ],
            [
             917,
             "Darmstadt"
            ],
            [
             917,
             "Darmstadt"
            ],
            [
             917,
             "Darmstadt"
            ],
            [
             917,
             "Darmstadt"
            ],
            [
             917,
             "Darmstadt"
            ],
            [
             917,
             "Darmstadt"
            ],
            [
             917,
             "Darmstadt"
            ],
            [
             917,
             "Darmstadt"
            ],
            [
             917,
             "Darmstadt"
            ],
            [
             917,
             "Darmstadt"
            ],
            [
             917,
             "Darmstadt"
            ],
            [
             917,
             "Darmstadt"
            ],
            [
             917,
             "Darmstadt"
            ],
            [
             917,
             "Darmstadt"
            ],
            [
             917,
             "Darmstadt"
            ],
            [
             917,
             "Darmstadt"
            ],
            [
             917,
             "Darmstadt"
            ],
            [
             917,
             "Darmstadt"
            ],
            [
             917,
             "Darmstadt"
            ],
            [
             917,
             "Darmstadt"
            ],
            [
             917,
             "Darmstadt"
            ],
            [
             917,
             "Darmstadt"
            ]
           ],
           "hovertemplate": "date2=2020-08-15<br>date=%{x}<br>temperature=%{marker.color}<br>station_id=%{customdata[0]}<br>STATION_NAME=%{customdata[1]}<extra></extra>",
           "legendgroup": "",
           "marker": {
            "color": [
             18.5,
             17.7,
             17.2,
             17.1,
             16.7,
             17.1,
             18.3,
             20,
             21.2,
             24.3,
             24.6,
             26.6,
             25.9,
             26.2,
             26.5,
             28.1,
             26.1,
             25.4,
             24.2,
             22,
             20.5,
             19.8,
             19.2,
             18.5
            ],
            "coloraxis": "coloraxis"
           },
           "name": "",
           "offsetgroup": "",
           "orientation": "v",
           "showlegend": false,
           "textposition": "auto",
           "type": "bar",
           "x": [
            "2020-08-15T00:00:00",
            "2020-08-15T01:00:00",
            "2020-08-15T02:00:00",
            "2020-08-15T03:00:00",
            "2020-08-15T04:00:00",
            "2020-08-15T05:00:00",
            "2020-08-15T06:00:00",
            "2020-08-15T07:00:00",
            "2020-08-15T08:00:00",
            "2020-08-15T09:00:00",
            "2020-08-15T10:00:00",
            "2020-08-15T11:00:00",
            "2020-08-15T12:00:00",
            "2020-08-15T13:00:00",
            "2020-08-15T14:00:00",
            "2020-08-15T15:00:00",
            "2020-08-15T16:00:00",
            "2020-08-15T17:00:00",
            "2020-08-15T18:00:00",
            "2020-08-15T19:00:00",
            "2020-08-15T20:00:00",
            "2020-08-15T21:00:00",
            "2020-08-15T22:00:00",
            "2020-08-15T23:00:00"
           ],
           "xaxis": "x",
           "y": [
            18.5,
            17.7,
            17.2,
            17.1,
            16.7,
            17.1,
            18.3,
            20,
            21.2,
            24.3,
            24.6,
            26.6,
            25.9,
            26.2,
            26.5,
            28.1,
            26.1,
            25.4,
            24.2,
            22,
            20.5,
            19.8,
            19.2,
            18.5
           ],
           "yaxis": "y"
          }
         ],
         "name": "2020-08-15"
        },
        {
         "data": [
          {
           "alignmentgroup": "True",
           "customdata": [
            [
             917,
             "Darmstadt"
            ],
            [
             917,
             "Darmstadt"
            ],
            [
             917,
             "Darmstadt"
            ],
            [
             917,
             "Darmstadt"
            ],
            [
             917,
             "Darmstadt"
            ],
            [
             917,
             "Darmstadt"
            ],
            [
             917,
             "Darmstadt"
            ],
            [
             917,
             "Darmstadt"
            ],
            [
             917,
             "Darmstadt"
            ],
            [
             917,
             "Darmstadt"
            ],
            [
             917,
             "Darmstadt"
            ],
            [
             917,
             "Darmstadt"
            ],
            [
             917,
             "Darmstadt"
            ],
            [
             917,
             "Darmstadt"
            ],
            [
             917,
             "Darmstadt"
            ],
            [
             917,
             "Darmstadt"
            ],
            [
             917,
             "Darmstadt"
            ],
            [
             917,
             "Darmstadt"
            ],
            [
             917,
             "Darmstadt"
            ],
            [
             917,
             "Darmstadt"
            ],
            [
             917,
             "Darmstadt"
            ],
            [
             917,
             "Darmstadt"
            ],
            [
             917,
             "Darmstadt"
            ],
            [
             917,
             "Darmstadt"
            ]
           ],
           "hovertemplate": "date2=2020-08-16<br>date=%{x}<br>temperature=%{marker.color}<br>station_id=%{customdata[0]}<br>STATION_NAME=%{customdata[1]}<extra></extra>",
           "legendgroup": "",
           "marker": {
            "color": [
             18.2,
             17.9,
             17.2,
             16.6,
             16.4,
             16.6,
             18.5,
             20.8,
             23.6,
             26.1,
             27.6,
             29.1,
             29.8,
             30.5,
             28.4,
             29.6,
             30.5,
             28.3,
             26.4,
             23.4,
             22.1,
             21.5,
             22.1,
             19.5
            ],
            "coloraxis": "coloraxis"
           },
           "name": "",
           "offsetgroup": "",
           "orientation": "v",
           "showlegend": false,
           "textposition": "auto",
           "type": "bar",
           "x": [
            "2020-08-16T00:00:00",
            "2020-08-16T01:00:00",
            "2020-08-16T02:00:00",
            "2020-08-16T03:00:00",
            "2020-08-16T04:00:00",
            "2020-08-16T05:00:00",
            "2020-08-16T06:00:00",
            "2020-08-16T07:00:00",
            "2020-08-16T08:00:00",
            "2020-08-16T09:00:00",
            "2020-08-16T10:00:00",
            "2020-08-16T11:00:00",
            "2020-08-16T12:00:00",
            "2020-08-16T13:00:00",
            "2020-08-16T14:00:00",
            "2020-08-16T15:00:00",
            "2020-08-16T16:00:00",
            "2020-08-16T17:00:00",
            "2020-08-16T18:00:00",
            "2020-08-16T19:00:00",
            "2020-08-16T20:00:00",
            "2020-08-16T21:00:00",
            "2020-08-16T22:00:00",
            "2020-08-16T23:00:00"
           ],
           "xaxis": "x",
           "y": [
            18.2,
            17.9,
            17.2,
            16.6,
            16.4,
            16.6,
            18.5,
            20.8,
            23.6,
            26.1,
            27.6,
            29.1,
            29.8,
            30.5,
            28.4,
            29.6,
            30.5,
            28.3,
            26.4,
            23.4,
            22.1,
            21.5,
            22.1,
            19.5
           ],
           "yaxis": "y"
          }
         ],
         "name": "2020-08-16"
        },
        {
         "data": [
          {
           "alignmentgroup": "True",
           "customdata": [
            [
             917,
             "Darmstadt"
            ],
            [
             917,
             "Darmstadt"
            ],
            [
             917,
             "Darmstadt"
            ],
            [
             917,
             "Darmstadt"
            ],
            [
             917,
             "Darmstadt"
            ],
            [
             917,
             "Darmstadt"
            ],
            [
             917,
             "Darmstadt"
            ],
            [
             917,
             "Darmstadt"
            ],
            [
             917,
             "Darmstadt"
            ],
            [
             917,
             "Darmstadt"
            ],
            [
             917,
             "Darmstadt"
            ],
            [
             917,
             "Darmstadt"
            ],
            [
             917,
             "Darmstadt"
            ],
            [
             917,
             "Darmstadt"
            ],
            [
             917,
             "Darmstadt"
            ],
            [
             917,
             "Darmstadt"
            ],
            [
             917,
             "Darmstadt"
            ],
            [
             917,
             "Darmstadt"
            ],
            [
             917,
             "Darmstadt"
            ],
            [
             917,
             "Darmstadt"
            ],
            [
             917,
             "Darmstadt"
            ],
            [
             917,
             "Darmstadt"
            ],
            [
             917,
             "Darmstadt"
            ],
            [
             917,
             "Darmstadt"
            ]
           ],
           "hovertemplate": "date2=2020-08-17<br>date=%{x}<br>temperature=%{marker.color}<br>station_id=%{customdata[0]}<br>STATION_NAME=%{customdata[1]}<extra></extra>",
           "legendgroup": "",
           "marker": {
            "color": [
             18.2,
             18.6,
             18.6,
             18.2,
             17.3,
             17.5,
             17.8,
             18.1,
             18.5,
             19.6,
             20.6,
             22.9,
             24.2,
             23.9,
             23.8,
             25.1,
             25.7,
             24.2,
             22,
             19.6,
             18.2,
             17.3,
             16.6,
             16.3
            ],
            "coloraxis": "coloraxis"
           },
           "name": "",
           "offsetgroup": "",
           "orientation": "v",
           "showlegend": false,
           "textposition": "auto",
           "type": "bar",
           "x": [
            "2020-08-17T00:00:00",
            "2020-08-17T01:00:00",
            "2020-08-17T02:00:00",
            "2020-08-17T03:00:00",
            "2020-08-17T04:00:00",
            "2020-08-17T05:00:00",
            "2020-08-17T06:00:00",
            "2020-08-17T07:00:00",
            "2020-08-17T08:00:00",
            "2020-08-17T09:00:00",
            "2020-08-17T10:00:00",
            "2020-08-17T11:00:00",
            "2020-08-17T12:00:00",
            "2020-08-17T13:00:00",
            "2020-08-17T14:00:00",
            "2020-08-17T15:00:00",
            "2020-08-17T16:00:00",
            "2020-08-17T17:00:00",
            "2020-08-17T18:00:00",
            "2020-08-17T19:00:00",
            "2020-08-17T20:00:00",
            "2020-08-17T21:00:00",
            "2020-08-17T22:00:00",
            "2020-08-17T23:00:00"
           ],
           "xaxis": "x",
           "y": [
            18.2,
            18.6,
            18.6,
            18.2,
            17.3,
            17.5,
            17.8,
            18.1,
            18.5,
            19.6,
            20.6,
            22.9,
            24.2,
            23.9,
            23.8,
            25.1,
            25.7,
            24.2,
            22,
            19.6,
            18.2,
            17.3,
            16.6,
            16.3
           ],
           "yaxis": "y"
          }
         ],
         "name": "2020-08-17"
        },
        {
         "data": [
          {
           "alignmentgroup": "True",
           "customdata": [
            [
             917,
             "Darmstadt"
            ],
            [
             917,
             "Darmstadt"
            ],
            [
             917,
             "Darmstadt"
            ],
            [
             917,
             "Darmstadt"
            ],
            [
             917,
             "Darmstadt"
            ],
            [
             917,
             "Darmstadt"
            ],
            [
             917,
             "Darmstadt"
            ],
            [
             917,
             "Darmstadt"
            ],
            [
             917,
             "Darmstadt"
            ],
            [
             917,
             "Darmstadt"
            ],
            [
             917,
             "Darmstadt"
            ],
            [
             917,
             "Darmstadt"
            ],
            [
             917,
             "Darmstadt"
            ],
            [
             917,
             "Darmstadt"
            ],
            [
             917,
             "Darmstadt"
            ],
            [
             917,
             "Darmstadt"
            ],
            [
             917,
             "Darmstadt"
            ],
            [
             917,
             "Darmstadt"
            ],
            [
             917,
             "Darmstadt"
            ],
            [
             917,
             "Darmstadt"
            ],
            [
             917,
             "Darmstadt"
            ],
            [
             917,
             "Darmstadt"
            ],
            [
             917,
             "Darmstadt"
            ],
            [
             917,
             "Darmstadt"
            ]
           ],
           "hovertemplate": "date2=2020-08-18<br>date=%{x}<br>temperature=%{marker.color}<br>station_id=%{customdata[0]}<br>STATION_NAME=%{customdata[1]}<extra></extra>",
           "legendgroup": "",
           "marker": {
            "color": [
             16.3,
             16,
             17.6,
             16.4,
             16.6,
             17.3,
             17.7,
             19.2,
             21.6,
             23.7,
             24.4,
             25.4,
             25.9,
             26.5,
             26.8,
             21.8,
             20.1,
             18.8,
             17.8,
             16.9,
             16.2,
             15.3,
             15.6,
             15.8
            ],
            "coloraxis": "coloraxis"
           },
           "name": "",
           "offsetgroup": "",
           "orientation": "v",
           "showlegend": false,
           "textposition": "auto",
           "type": "bar",
           "x": [
            "2020-08-18T00:00:00",
            "2020-08-18T01:00:00",
            "2020-08-18T02:00:00",
            "2020-08-18T03:00:00",
            "2020-08-18T04:00:00",
            "2020-08-18T05:00:00",
            "2020-08-18T06:00:00",
            "2020-08-18T07:00:00",
            "2020-08-18T08:00:00",
            "2020-08-18T09:00:00",
            "2020-08-18T10:00:00",
            "2020-08-18T11:00:00",
            "2020-08-18T12:00:00",
            "2020-08-18T13:00:00",
            "2020-08-18T14:00:00",
            "2020-08-18T15:00:00",
            "2020-08-18T16:00:00",
            "2020-08-18T17:00:00",
            "2020-08-18T18:00:00",
            "2020-08-18T19:00:00",
            "2020-08-18T20:00:00",
            "2020-08-18T21:00:00",
            "2020-08-18T22:00:00",
            "2020-08-18T23:00:00"
           ],
           "xaxis": "x",
           "y": [
            16.3,
            16,
            17.6,
            16.4,
            16.6,
            17.3,
            17.7,
            19.2,
            21.6,
            23.7,
            24.4,
            25.4,
            25.9,
            26.5,
            26.8,
            21.8,
            20.1,
            18.8,
            17.8,
            16.9,
            16.2,
            15.3,
            15.6,
            15.8
           ],
           "yaxis": "y"
          }
         ],
         "name": "2020-08-18"
        },
        {
         "data": [
          {
           "alignmentgroup": "True",
           "customdata": [
            [
             917,
             "Darmstadt"
            ],
            [
             917,
             "Darmstadt"
            ],
            [
             917,
             "Darmstadt"
            ],
            [
             917,
             "Darmstadt"
            ],
            [
             917,
             "Darmstadt"
            ],
            [
             917,
             "Darmstadt"
            ],
            [
             917,
             "Darmstadt"
            ],
            [
             917,
             "Darmstadt"
            ],
            [
             917,
             "Darmstadt"
            ],
            [
             917,
             "Darmstadt"
            ],
            [
             917,
             "Darmstadt"
            ],
            [
             917,
             "Darmstadt"
            ],
            [
             917,
             "Darmstadt"
            ],
            [
             917,
             "Darmstadt"
            ],
            [
             917,
             "Darmstadt"
            ],
            [
             917,
             "Darmstadt"
            ],
            [
             917,
             "Darmstadt"
            ],
            [
             917,
             "Darmstadt"
            ],
            [
             917,
             "Darmstadt"
            ],
            [
             917,
             "Darmstadt"
            ],
            [
             917,
             "Darmstadt"
            ],
            [
             917,
             "Darmstadt"
            ],
            [
             917,
             "Darmstadt"
            ],
            [
             917,
             "Darmstadt"
            ]
           ],
           "hovertemplate": "date2=2020-08-19<br>date=%{x}<br>temperature=%{marker.color}<br>station_id=%{customdata[0]}<br>STATION_NAME=%{customdata[1]}<extra></extra>",
           "legendgroup": "",
           "marker": {
            "color": [
             15.6,
             14.8,
             14,
             13.4,
             12.7,
             12.3,
             14,
             17.2,
             20.6,
             22.9,
             24.2,
             24.9,
             25.5,
             26.3,
             26.1,
             25.6,
             26.4,
             24.7,
             23.1,
             20.3,
             18.4,
             17,
             17.8,
             17.8
            ],
            "coloraxis": "coloraxis"
           },
           "name": "",
           "offsetgroup": "",
           "orientation": "v",
           "showlegend": false,
           "textposition": "auto",
           "type": "bar",
           "x": [
            "2020-08-19T00:00:00",
            "2020-08-19T01:00:00",
            "2020-08-19T02:00:00",
            "2020-08-19T03:00:00",
            "2020-08-19T04:00:00",
            "2020-08-19T05:00:00",
            "2020-08-19T06:00:00",
            "2020-08-19T07:00:00",
            "2020-08-19T08:00:00",
            "2020-08-19T09:00:00",
            "2020-08-19T10:00:00",
            "2020-08-19T11:00:00",
            "2020-08-19T12:00:00",
            "2020-08-19T13:00:00",
            "2020-08-19T14:00:00",
            "2020-08-19T15:00:00",
            "2020-08-19T16:00:00",
            "2020-08-19T17:00:00",
            "2020-08-19T18:00:00",
            "2020-08-19T19:00:00",
            "2020-08-19T20:00:00",
            "2020-08-19T21:00:00",
            "2020-08-19T22:00:00",
            "2020-08-19T23:00:00"
           ],
           "xaxis": "x",
           "y": [
            15.6,
            14.8,
            14,
            13.4,
            12.7,
            12.3,
            14,
            17.2,
            20.6,
            22.9,
            24.2,
            24.9,
            25.5,
            26.3,
            26.1,
            25.6,
            26.4,
            24.7,
            23.1,
            20.3,
            18.4,
            17,
            17.8,
            17.8
           ],
           "yaxis": "y"
          }
         ],
         "name": "2020-08-19"
        },
        {
         "data": [
          {
           "alignmentgroup": "True",
           "customdata": [
            [
             917,
             "Darmstadt"
            ],
            [
             917,
             "Darmstadt"
            ],
            [
             917,
             "Darmstadt"
            ],
            [
             917,
             "Darmstadt"
            ],
            [
             917,
             "Darmstadt"
            ],
            [
             917,
             "Darmstadt"
            ],
            [
             917,
             "Darmstadt"
            ],
            [
             917,
             "Darmstadt"
            ],
            [
             917,
             "Darmstadt"
            ],
            [
             917,
             "Darmstadt"
            ],
            [
             917,
             "Darmstadt"
            ],
            [
             917,
             "Darmstadt"
            ],
            [
             917,
             "Darmstadt"
            ],
            [
             917,
             "Darmstadt"
            ],
            [
             917,
             "Darmstadt"
            ],
            [
             917,
             "Darmstadt"
            ],
            [
             917,
             "Darmstadt"
            ],
            [
             917,
             "Darmstadt"
            ],
            [
             917,
             "Darmstadt"
            ],
            [
             917,
             "Darmstadt"
            ],
            [
             917,
             "Darmstadt"
            ],
            [
             917,
             "Darmstadt"
            ],
            [
             917,
             "Darmstadt"
            ],
            [
             917,
             "Darmstadt"
            ]
           ],
           "hovertemplate": "date2=2020-08-20<br>date=%{x}<br>temperature=%{marker.color}<br>station_id=%{customdata[0]}<br>STATION_NAME=%{customdata[1]}<extra></extra>",
           "legendgroup": "",
           "marker": {
            "color": [
             17.9,
             18.1,
             18.1,
             17.7,
             18.2,
             17.9,
             18,
             19.2,
             22.3,
             25,
             27.1,
             28.5,
             29.4,
             30,
             31,
             31.9,
             31.1,
             29.6,
             26.9,
             23,
             21.1,
             20.4,
             20.3,
             19.8
            ],
            "coloraxis": "coloraxis"
           },
           "name": "",
           "offsetgroup": "",
           "orientation": "v",
           "showlegend": false,
           "textposition": "auto",
           "type": "bar",
           "x": [
            "2020-08-20T00:00:00",
            "2020-08-20T01:00:00",
            "2020-08-20T02:00:00",
            "2020-08-20T03:00:00",
            "2020-08-20T04:00:00",
            "2020-08-20T05:00:00",
            "2020-08-20T06:00:00",
            "2020-08-20T07:00:00",
            "2020-08-20T08:00:00",
            "2020-08-20T09:00:00",
            "2020-08-20T10:00:00",
            "2020-08-20T11:00:00",
            "2020-08-20T12:00:00",
            "2020-08-20T13:00:00",
            "2020-08-20T14:00:00",
            "2020-08-20T15:00:00",
            "2020-08-20T16:00:00",
            "2020-08-20T17:00:00",
            "2020-08-20T18:00:00",
            "2020-08-20T19:00:00",
            "2020-08-20T20:00:00",
            "2020-08-20T21:00:00",
            "2020-08-20T22:00:00",
            "2020-08-20T23:00:00"
           ],
           "xaxis": "x",
           "y": [
            17.9,
            18.1,
            18.1,
            17.7,
            18.2,
            17.9,
            18,
            19.2,
            22.3,
            25,
            27.1,
            28.5,
            29.4,
            30,
            31,
            31.9,
            31.1,
            29.6,
            26.9,
            23,
            21.1,
            20.4,
            20.3,
            19.8
           ],
           "yaxis": "y"
          }
         ],
         "name": "2020-08-20"
        },
        {
         "data": [
          {
           "alignmentgroup": "True",
           "customdata": [
            [
             917,
             "Darmstadt"
            ],
            [
             917,
             "Darmstadt"
            ],
            [
             917,
             "Darmstadt"
            ],
            [
             917,
             "Darmstadt"
            ],
            [
             917,
             "Darmstadt"
            ],
            [
             917,
             "Darmstadt"
            ],
            [
             917,
             "Darmstadt"
            ],
            [
             917,
             "Darmstadt"
            ],
            [
             917,
             "Darmstadt"
            ],
            [
             917,
             "Darmstadt"
            ],
            [
             917,
             "Darmstadt"
            ],
            [
             917,
             "Darmstadt"
            ],
            [
             917,
             "Darmstadt"
            ],
            [
             917,
             "Darmstadt"
            ],
            [
             917,
             "Darmstadt"
            ],
            [
             917,
             "Darmstadt"
            ],
            [
             917,
             "Darmstadt"
            ],
            [
             917,
             "Darmstadt"
            ],
            [
             917,
             "Darmstadt"
            ],
            [
             917,
             "Darmstadt"
            ],
            [
             917,
             "Darmstadt"
            ],
            [
             917,
             "Darmstadt"
            ],
            [
             917,
             "Darmstadt"
            ],
            [
             917,
             "Darmstadt"
            ]
           ],
           "hovertemplate": "date2=2020-08-21<br>date=%{x}<br>temperature=%{marker.color}<br>station_id=%{customdata[0]}<br>STATION_NAME=%{customdata[1]}<extra></extra>",
           "legendgroup": "",
           "marker": {
            "color": [
             19.8,
             18.4,
             18.1,
             17.8,
             17,
             17.3,
             19.8,
             22.7,
             27.2,
             29.4,
             31.1,
             31.4,
             32.1,
             30.6,
             30,
             28.8,
             28.3,
             28.1,
             27.5,
             25.4,
             24,
             22.9,
             24.6,
             23.9
            ],
            "coloraxis": "coloraxis"
           },
           "name": "",
           "offsetgroup": "",
           "orientation": "v",
           "showlegend": false,
           "textposition": "auto",
           "type": "bar",
           "x": [
            "2020-08-21T00:00:00",
            "2020-08-21T01:00:00",
            "2020-08-21T02:00:00",
            "2020-08-21T03:00:00",
            "2020-08-21T04:00:00",
            "2020-08-21T05:00:00",
            "2020-08-21T06:00:00",
            "2020-08-21T07:00:00",
            "2020-08-21T08:00:00",
            "2020-08-21T09:00:00",
            "2020-08-21T10:00:00",
            "2020-08-21T11:00:00",
            "2020-08-21T12:00:00",
            "2020-08-21T13:00:00",
            "2020-08-21T14:00:00",
            "2020-08-21T15:00:00",
            "2020-08-21T16:00:00",
            "2020-08-21T17:00:00",
            "2020-08-21T18:00:00",
            "2020-08-21T19:00:00",
            "2020-08-21T20:00:00",
            "2020-08-21T21:00:00",
            "2020-08-21T22:00:00",
            "2020-08-21T23:00:00"
           ],
           "xaxis": "x",
           "y": [
            19.8,
            18.4,
            18.1,
            17.8,
            17,
            17.3,
            19.8,
            22.7,
            27.2,
            29.4,
            31.1,
            31.4,
            32.1,
            30.6,
            30,
            28.8,
            28.3,
            28.1,
            27.5,
            25.4,
            24,
            22.9,
            24.6,
            23.9
           ],
           "yaxis": "y"
          }
         ],
         "name": "2020-08-21"
        },
        {
         "data": [
          {
           "alignmentgroup": "True",
           "customdata": [
            [
             917,
             "Darmstadt"
            ],
            [
             917,
             "Darmstadt"
            ],
            [
             917,
             "Darmstadt"
            ],
            [
             917,
             "Darmstadt"
            ],
            [
             917,
             "Darmstadt"
            ],
            [
             917,
             "Darmstadt"
            ],
            [
             917,
             "Darmstadt"
            ],
            [
             917,
             "Darmstadt"
            ],
            [
             917,
             "Darmstadt"
            ],
            [
             917,
             "Darmstadt"
            ],
            [
             917,
             "Darmstadt"
            ],
            [
             917,
             "Darmstadt"
            ],
            [
             917,
             "Darmstadt"
            ],
            [
             917,
             "Darmstadt"
            ],
            [
             917,
             "Darmstadt"
            ],
            [
             917,
             "Darmstadt"
            ],
            [
             917,
             "Darmstadt"
            ],
            [
             917,
             "Darmstadt"
            ],
            [
             917,
             "Darmstadt"
            ],
            [
             917,
             "Darmstadt"
            ],
            [
             917,
             "Darmstadt"
            ],
            [
             917,
             "Darmstadt"
            ],
            [
             917,
             "Darmstadt"
            ],
            [
             917,
             "Darmstadt"
            ]
           ],
           "hovertemplate": "date2=2020-08-22<br>date=%{x}<br>temperature=%{marker.color}<br>station_id=%{customdata[0]}<br>STATION_NAME=%{customdata[1]}<extra></extra>",
           "legendgroup": "",
           "marker": {
            "color": [
             24.2,
             20.8,
             19.9,
             19.5,
             19.3,
             18.8,
             18.9,
             19.3,
             19.5,
             20.4,
             21.4,
             23.6,
             24.2,
             24.7,
             24.7,
             25.4,
             24.5,
             23.1,
             22.6,
             21.3,
             20.9,
             20.1,
             19.8,
             19
            ],
            "coloraxis": "coloraxis"
           },
           "name": "",
           "offsetgroup": "",
           "orientation": "v",
           "showlegend": false,
           "textposition": "auto",
           "type": "bar",
           "x": [
            "2020-08-22T00:00:00",
            "2020-08-22T01:00:00",
            "2020-08-22T02:00:00",
            "2020-08-22T03:00:00",
            "2020-08-22T04:00:00",
            "2020-08-22T05:00:00",
            "2020-08-22T06:00:00",
            "2020-08-22T07:00:00",
            "2020-08-22T08:00:00",
            "2020-08-22T09:00:00",
            "2020-08-22T10:00:00",
            "2020-08-22T11:00:00",
            "2020-08-22T12:00:00",
            "2020-08-22T13:00:00",
            "2020-08-22T14:00:00",
            "2020-08-22T15:00:00",
            "2020-08-22T16:00:00",
            "2020-08-22T17:00:00",
            "2020-08-22T18:00:00",
            "2020-08-22T19:00:00",
            "2020-08-22T20:00:00",
            "2020-08-22T21:00:00",
            "2020-08-22T22:00:00",
            "2020-08-22T23:00:00"
           ],
           "xaxis": "x",
           "y": [
            24.2,
            20.8,
            19.9,
            19.5,
            19.3,
            18.8,
            18.9,
            19.3,
            19.5,
            20.4,
            21.4,
            23.6,
            24.2,
            24.7,
            24.7,
            25.4,
            24.5,
            23.1,
            22.6,
            21.3,
            20.9,
            20.1,
            19.8,
            19
           ],
           "yaxis": "y"
          }
         ],
         "name": "2020-08-22"
        },
        {
         "data": [
          {
           "alignmentgroup": "True",
           "customdata": [
            [
             917,
             "Darmstadt"
            ],
            [
             917,
             "Darmstadt"
            ],
            [
             917,
             "Darmstadt"
            ],
            [
             917,
             "Darmstadt"
            ],
            [
             917,
             "Darmstadt"
            ],
            [
             917,
             "Darmstadt"
            ],
            [
             917,
             "Darmstadt"
            ],
            [
             917,
             "Darmstadt"
            ],
            [
             917,
             "Darmstadt"
            ],
            [
             917,
             "Darmstadt"
            ],
            [
             917,
             "Darmstadt"
            ],
            [
             917,
             "Darmstadt"
            ],
            [
             917,
             "Darmstadt"
            ],
            [
             917,
             "Darmstadt"
            ],
            [
             917,
             "Darmstadt"
            ],
            [
             917,
             "Darmstadt"
            ],
            [
             917,
             "Darmstadt"
            ],
            [
             917,
             "Darmstadt"
            ],
            [
             917,
             "Darmstadt"
            ],
            [
             917,
             "Darmstadt"
            ],
            [
             917,
             "Darmstadt"
            ],
            [
             917,
             "Darmstadt"
            ],
            [
             917,
             "Darmstadt"
            ],
            [
             917,
             "Darmstadt"
            ]
           ],
           "hovertemplate": "date2=2020-08-23<br>date=%{x}<br>temperature=%{marker.color}<br>station_id=%{customdata[0]}<br>STATION_NAME=%{customdata[1]}<extra></extra>",
           "legendgroup": "",
           "marker": {
            "color": [
             19.1,
             19,
             18.7,
             18.4,
             17.6,
             17.5,
             18.2,
             19.3,
             20.1,
             21.4,
             22.3,
             23.6,
             23.2,
             22.9,
             22.9,
             23.9,
             23.3,
             22,
             21,
             19.3,
             17.6,
             16.9,
             17.4,
             16.8
            ],
            "coloraxis": "coloraxis"
           },
           "name": "",
           "offsetgroup": "",
           "orientation": "v",
           "showlegend": false,
           "textposition": "auto",
           "type": "bar",
           "x": [
            "2020-08-23T00:00:00",
            "2020-08-23T01:00:00",
            "2020-08-23T02:00:00",
            "2020-08-23T03:00:00",
            "2020-08-23T04:00:00",
            "2020-08-23T05:00:00",
            "2020-08-23T06:00:00",
            "2020-08-23T07:00:00",
            "2020-08-23T08:00:00",
            "2020-08-23T09:00:00",
            "2020-08-23T10:00:00",
            "2020-08-23T11:00:00",
            "2020-08-23T12:00:00",
            "2020-08-23T13:00:00",
            "2020-08-23T14:00:00",
            "2020-08-23T15:00:00",
            "2020-08-23T16:00:00",
            "2020-08-23T17:00:00",
            "2020-08-23T18:00:00",
            "2020-08-23T19:00:00",
            "2020-08-23T20:00:00",
            "2020-08-23T21:00:00",
            "2020-08-23T22:00:00",
            "2020-08-23T23:00:00"
           ],
           "xaxis": "x",
           "y": [
            19.1,
            19,
            18.7,
            18.4,
            17.6,
            17.5,
            18.2,
            19.3,
            20.1,
            21.4,
            22.3,
            23.6,
            23.2,
            22.9,
            22.9,
            23.9,
            23.3,
            22,
            21,
            19.3,
            17.6,
            16.9,
            17.4,
            16.8
           ],
           "yaxis": "y"
          }
         ],
         "name": "2020-08-23"
        },
        {
         "data": [
          {
           "alignmentgroup": "True",
           "customdata": [
            [
             917,
             "Darmstadt"
            ],
            [
             917,
             "Darmstadt"
            ],
            [
             917,
             "Darmstadt"
            ],
            [
             917,
             "Darmstadt"
            ],
            [
             917,
             "Darmstadt"
            ],
            [
             917,
             "Darmstadt"
            ],
            [
             917,
             "Darmstadt"
            ],
            [
             917,
             "Darmstadt"
            ],
            [
             917,
             "Darmstadt"
            ],
            [
             917,
             "Darmstadt"
            ],
            [
             917,
             "Darmstadt"
            ],
            [
             917,
             "Darmstadt"
            ],
            [
             917,
             "Darmstadt"
            ],
            [
             917,
             "Darmstadt"
            ],
            [
             917,
             "Darmstadt"
            ],
            [
             917,
             "Darmstadt"
            ],
            [
             917,
             "Darmstadt"
            ],
            [
             917,
             "Darmstadt"
            ],
            [
             917,
             "Darmstadt"
            ],
            [
             917,
             "Darmstadt"
            ],
            [
             917,
             "Darmstadt"
            ],
            [
             917,
             "Darmstadt"
            ],
            [
             917,
             "Darmstadt"
            ],
            [
             917,
             "Darmstadt"
            ]
           ],
           "hovertemplate": "date2=2020-08-24<br>date=%{x}<br>temperature=%{marker.color}<br>station_id=%{customdata[0]}<br>STATION_NAME=%{customdata[1]}<extra></extra>",
           "legendgroup": "",
           "marker": {
            "color": [
             15.5,
             15.7,
             15.7,
             15.7,
             15.4,
             15.4,
             16,
             17,
             17.5,
             17.4,
             19.6,
             20.9,
             21.5,
             22.6,
             23.6,
             22.1,
             21.8,
             21.2,
             19.5,
             17.6,
             14.4,
             12.9,
             12.7,
             12.6
            ],
            "coloraxis": "coloraxis"
           },
           "name": "",
           "offsetgroup": "",
           "orientation": "v",
           "showlegend": false,
           "textposition": "auto",
           "type": "bar",
           "x": [
            "2020-08-24T00:00:00",
            "2020-08-24T01:00:00",
            "2020-08-24T02:00:00",
            "2020-08-24T03:00:00",
            "2020-08-24T04:00:00",
            "2020-08-24T05:00:00",
            "2020-08-24T06:00:00",
            "2020-08-24T07:00:00",
            "2020-08-24T08:00:00",
            "2020-08-24T09:00:00",
            "2020-08-24T10:00:00",
            "2020-08-24T11:00:00",
            "2020-08-24T12:00:00",
            "2020-08-24T13:00:00",
            "2020-08-24T14:00:00",
            "2020-08-24T15:00:00",
            "2020-08-24T16:00:00",
            "2020-08-24T17:00:00",
            "2020-08-24T18:00:00",
            "2020-08-24T19:00:00",
            "2020-08-24T20:00:00",
            "2020-08-24T21:00:00",
            "2020-08-24T22:00:00",
            "2020-08-24T23:00:00"
           ],
           "xaxis": "x",
           "y": [
            15.5,
            15.7,
            15.7,
            15.7,
            15.4,
            15.4,
            16,
            17,
            17.5,
            17.4,
            19.6,
            20.9,
            21.5,
            22.6,
            23.6,
            22.1,
            21.8,
            21.2,
            19.5,
            17.6,
            14.4,
            12.9,
            12.7,
            12.6
           ],
           "yaxis": "y"
          }
         ],
         "name": "2020-08-24"
        },
        {
         "data": [
          {
           "alignmentgroup": "True",
           "customdata": [
            [
             917,
             "Darmstadt"
            ],
            [
             917,
             "Darmstadt"
            ],
            [
             917,
             "Darmstadt"
            ],
            [
             917,
             "Darmstadt"
            ],
            [
             917,
             "Darmstadt"
            ],
            [
             917,
             "Darmstadt"
            ],
            [
             917,
             "Darmstadt"
            ],
            [
             917,
             "Darmstadt"
            ],
            [
             917,
             "Darmstadt"
            ],
            [
             917,
             "Darmstadt"
            ],
            [
             917,
             "Darmstadt"
            ],
            [
             917,
             "Darmstadt"
            ],
            [
             917,
             "Darmstadt"
            ],
            [
             917,
             "Darmstadt"
            ],
            [
             917,
             "Darmstadt"
            ],
            [
             917,
             "Darmstadt"
            ],
            [
             917,
             "Darmstadt"
            ],
            [
             917,
             "Darmstadt"
            ],
            [
             917,
             "Darmstadt"
            ],
            [
             917,
             "Darmstadt"
            ],
            [
             917,
             "Darmstadt"
            ],
            [
             917,
             "Darmstadt"
            ],
            [
             917,
             "Darmstadt"
            ],
            [
             917,
             "Darmstadt"
            ]
           ],
           "hovertemplate": "date2=2020-08-25<br>date=%{x}<br>temperature=%{marker.color}<br>station_id=%{customdata[0]}<br>STATION_NAME=%{customdata[1]}<extra></extra>",
           "legendgroup": "",
           "marker": {
            "color": [
             12,
             12.8,
             13.4,
             12.6,
             11.2,
             10.4,
             12.5,
             17,
             18.3,
             18.8,
             21.4,
             20.9,
             20.8,
             21.9,
             21.3,
             21,
             21.5,
             21,
             20.6,
             18.5,
             20.4,
             22.1,
             22.3,
             21.5
            ],
            "coloraxis": "coloraxis"
           },
           "name": "",
           "offsetgroup": "",
           "orientation": "v",
           "showlegend": false,
           "textposition": "auto",
           "type": "bar",
           "x": [
            "2020-08-25T00:00:00",
            "2020-08-25T01:00:00",
            "2020-08-25T02:00:00",
            "2020-08-25T03:00:00",
            "2020-08-25T04:00:00",
            "2020-08-25T05:00:00",
            "2020-08-25T06:00:00",
            "2020-08-25T07:00:00",
            "2020-08-25T08:00:00",
            "2020-08-25T09:00:00",
            "2020-08-25T10:00:00",
            "2020-08-25T11:00:00",
            "2020-08-25T12:00:00",
            "2020-08-25T13:00:00",
            "2020-08-25T14:00:00",
            "2020-08-25T15:00:00",
            "2020-08-25T16:00:00",
            "2020-08-25T17:00:00",
            "2020-08-25T18:00:00",
            "2020-08-25T19:00:00",
            "2020-08-25T20:00:00",
            "2020-08-25T21:00:00",
            "2020-08-25T22:00:00",
            "2020-08-25T23:00:00"
           ],
           "xaxis": "x",
           "y": [
            12,
            12.8,
            13.4,
            12.6,
            11.2,
            10.4,
            12.5,
            17,
            18.3,
            18.8,
            21.4,
            20.9,
            20.8,
            21.9,
            21.3,
            21,
            21.5,
            21,
            20.6,
            18.5,
            20.4,
            22.1,
            22.3,
            21.5
           ],
           "yaxis": "y"
          }
         ],
         "name": "2020-08-25"
        },
        {
         "data": [
          {
           "alignmentgroup": "True",
           "customdata": [
            [
             917,
             "Darmstadt"
            ],
            [
             917,
             "Darmstadt"
            ],
            [
             917,
             "Darmstadt"
            ],
            [
             917,
             "Darmstadt"
            ],
            [
             917,
             "Darmstadt"
            ],
            [
             917,
             "Darmstadt"
            ],
            [
             917,
             "Darmstadt"
            ],
            [
             917,
             "Darmstadt"
            ],
            [
             917,
             "Darmstadt"
            ],
            [
             917,
             "Darmstadt"
            ],
            [
             917,
             "Darmstadt"
            ],
            [
             917,
             "Darmstadt"
            ],
            [
             917,
             "Darmstadt"
            ],
            [
             917,
             "Darmstadt"
            ],
            [
             917,
             "Darmstadt"
            ],
            [
             917,
             "Darmstadt"
            ],
            [
             917,
             "Darmstadt"
            ],
            [
             917,
             "Darmstadt"
            ],
            [
             917,
             "Darmstadt"
            ],
            [
             917,
             "Darmstadt"
            ],
            [
             917,
             "Darmstadt"
            ],
            [
             917,
             "Darmstadt"
            ],
            [
             917,
             "Darmstadt"
            ],
            [
             917,
             "Darmstadt"
            ]
           ],
           "hovertemplate": "date2=2020-08-26<br>date=%{x}<br>temperature=%{marker.color}<br>station_id=%{customdata[0]}<br>STATION_NAME=%{customdata[1]}<extra></extra>",
           "legendgroup": "",
           "marker": {
            "color": [
             21.7,
             21.2,
             21.4,
             21,
             20.3,
             19.6,
             19.2,
             19.9,
             19.6,
             20.6,
             20.2,
             20.4,
             21,
             21.3,
             22.8,
             22.5,
             22.3,
             22.4,
             22,
             20.9,
             20.5,
             17.7,
             17.7,
             16.7
            ],
            "coloraxis": "coloraxis"
           },
           "name": "",
           "offsetgroup": "",
           "orientation": "v",
           "showlegend": false,
           "textposition": "auto",
           "type": "bar",
           "x": [
            "2020-08-26T00:00:00",
            "2020-08-26T01:00:00",
            "2020-08-26T02:00:00",
            "2020-08-26T03:00:00",
            "2020-08-26T04:00:00",
            "2020-08-26T05:00:00",
            "2020-08-26T06:00:00",
            "2020-08-26T07:00:00",
            "2020-08-26T08:00:00",
            "2020-08-26T09:00:00",
            "2020-08-26T10:00:00",
            "2020-08-26T11:00:00",
            "2020-08-26T12:00:00",
            "2020-08-26T13:00:00",
            "2020-08-26T14:00:00",
            "2020-08-26T15:00:00",
            "2020-08-26T16:00:00",
            "2020-08-26T17:00:00",
            "2020-08-26T18:00:00",
            "2020-08-26T19:00:00",
            "2020-08-26T20:00:00",
            "2020-08-26T21:00:00",
            "2020-08-26T22:00:00",
            "2020-08-26T23:00:00"
           ],
           "xaxis": "x",
           "y": [
            21.7,
            21.2,
            21.4,
            21,
            20.3,
            19.6,
            19.2,
            19.9,
            19.6,
            20.6,
            20.2,
            20.4,
            21,
            21.3,
            22.8,
            22.5,
            22.3,
            22.4,
            22,
            20.9,
            20.5,
            17.7,
            17.7,
            16.7
           ],
           "yaxis": "y"
          }
         ],
         "name": "2020-08-26"
        },
        {
         "data": [
          {
           "alignmentgroup": "True",
           "customdata": [
            [
             917,
             "Darmstadt"
            ],
            [
             917,
             "Darmstadt"
            ],
            [
             917,
             "Darmstadt"
            ],
            [
             917,
             "Darmstadt"
            ],
            [
             917,
             "Darmstadt"
            ],
            [
             917,
             "Darmstadt"
            ],
            [
             917,
             "Darmstadt"
            ],
            [
             917,
             "Darmstadt"
            ],
            [
             917,
             "Darmstadt"
            ],
            [
             917,
             "Darmstadt"
            ],
            [
             917,
             "Darmstadt"
            ],
            [
             917,
             "Darmstadt"
            ],
            [
             917,
             "Darmstadt"
            ],
            [
             917,
             "Darmstadt"
            ],
            [
             917,
             "Darmstadt"
            ],
            [
             917,
             "Darmstadt"
            ],
            [
             917,
             "Darmstadt"
            ],
            [
             917,
             "Darmstadt"
            ],
            [
             917,
             "Darmstadt"
            ],
            [
             917,
             "Darmstadt"
            ],
            [
             917,
             "Darmstadt"
            ],
            [
             917,
             "Darmstadt"
            ],
            [
             917,
             "Darmstadt"
            ],
            [
             917,
             "Darmstadt"
            ]
           ],
           "hovertemplate": "date2=2020-08-27<br>date=%{x}<br>temperature=%{marker.color}<br>station_id=%{customdata[0]}<br>STATION_NAME=%{customdata[1]}<extra></extra>",
           "legendgroup": "",
           "marker": {
            "color": [
             14.8,
             13.6,
             11.8,
             11,
             10.2,
             10,
             12.6,
             16,
             17.9,
             18.8,
             19.4,
             20,
             20.6,
             21.3,
             22.5,
             23.1,
             23.1,
             21,
             18.6,
             15.5,
             13.9,
             14.8,
             15.2,
             16.3
            ],
            "coloraxis": "coloraxis"
           },
           "name": "",
           "offsetgroup": "",
           "orientation": "v",
           "showlegend": false,
           "textposition": "auto",
           "type": "bar",
           "x": [
            "2020-08-27T00:00:00",
            "2020-08-27T01:00:00",
            "2020-08-27T02:00:00",
            "2020-08-27T03:00:00",
            "2020-08-27T04:00:00",
            "2020-08-27T05:00:00",
            "2020-08-27T06:00:00",
            "2020-08-27T07:00:00",
            "2020-08-27T08:00:00",
            "2020-08-27T09:00:00",
            "2020-08-27T10:00:00",
            "2020-08-27T11:00:00",
            "2020-08-27T12:00:00",
            "2020-08-27T13:00:00",
            "2020-08-27T14:00:00",
            "2020-08-27T15:00:00",
            "2020-08-27T16:00:00",
            "2020-08-27T17:00:00",
            "2020-08-27T18:00:00",
            "2020-08-27T19:00:00",
            "2020-08-27T20:00:00",
            "2020-08-27T21:00:00",
            "2020-08-27T22:00:00",
            "2020-08-27T23:00:00"
           ],
           "xaxis": "x",
           "y": [
            14.8,
            13.6,
            11.8,
            11,
            10.2,
            10,
            12.6,
            16,
            17.9,
            18.8,
            19.4,
            20,
            20.6,
            21.3,
            22.5,
            23.1,
            23.1,
            21,
            18.6,
            15.5,
            13.9,
            14.8,
            15.2,
            16.3
           ],
           "yaxis": "y"
          }
         ],
         "name": "2020-08-27"
        },
        {
         "data": [
          {
           "alignmentgroup": "True",
           "customdata": [
            [
             917,
             "Darmstadt"
            ],
            [
             917,
             "Darmstadt"
            ],
            [
             917,
             "Darmstadt"
            ],
            [
             917,
             "Darmstadt"
            ],
            [
             917,
             "Darmstadt"
            ],
            [
             917,
             "Darmstadt"
            ],
            [
             917,
             "Darmstadt"
            ],
            [
             917,
             "Darmstadt"
            ],
            [
             917,
             "Darmstadt"
            ],
            [
             917,
             "Darmstadt"
            ],
            [
             917,
             "Darmstadt"
            ],
            [
             917,
             "Darmstadt"
            ],
            [
             917,
             "Darmstadt"
            ],
            [
             917,
             "Darmstadt"
            ],
            [
             917,
             "Darmstadt"
            ],
            [
             917,
             "Darmstadt"
            ],
            [
             917,
             "Darmstadt"
            ],
            [
             917,
             "Darmstadt"
            ],
            [
             917,
             "Darmstadt"
            ],
            [
             917,
             "Darmstadt"
            ],
            [
             917,
             "Darmstadt"
            ],
            [
             917,
             "Darmstadt"
            ],
            [
             917,
             "Darmstadt"
            ],
            [
             917,
             "Darmstadt"
            ]
           ],
           "hovertemplate": "date2=2020-08-28<br>date=%{x}<br>temperature=%{marker.color}<br>station_id=%{customdata[0]}<br>STATION_NAME=%{customdata[1]}<extra></extra>",
           "legendgroup": "",
           "marker": {
            "color": [
             15.9,
             14.6,
             15.7,
             14.9,
             14.9,
             14.8,
             16,
             17.2,
             20.1,
             19.4,
             20.4,
             20.1,
             20.2,
             21.4,
             20.8,
             20.3,
             19.6,
             19.2,
             18.5,
             17.3,
             17.5,
             15.2,
             13.7,
             14.2
            ],
            "coloraxis": "coloraxis"
           },
           "name": "",
           "offsetgroup": "",
           "orientation": "v",
           "showlegend": false,
           "textposition": "auto",
           "type": "bar",
           "x": [
            "2020-08-28T00:00:00",
            "2020-08-28T01:00:00",
            "2020-08-28T02:00:00",
            "2020-08-28T03:00:00",
            "2020-08-28T04:00:00",
            "2020-08-28T05:00:00",
            "2020-08-28T06:00:00",
            "2020-08-28T07:00:00",
            "2020-08-28T08:00:00",
            "2020-08-28T09:00:00",
            "2020-08-28T10:00:00",
            "2020-08-28T11:00:00",
            "2020-08-28T12:00:00",
            "2020-08-28T13:00:00",
            "2020-08-28T14:00:00",
            "2020-08-28T15:00:00",
            "2020-08-28T16:00:00",
            "2020-08-28T17:00:00",
            "2020-08-28T18:00:00",
            "2020-08-28T19:00:00",
            "2020-08-28T20:00:00",
            "2020-08-28T21:00:00",
            "2020-08-28T22:00:00",
            "2020-08-28T23:00:00"
           ],
           "xaxis": "x",
           "y": [
            15.9,
            14.6,
            15.7,
            14.9,
            14.9,
            14.8,
            16,
            17.2,
            20.1,
            19.4,
            20.4,
            20.1,
            20.2,
            21.4,
            20.8,
            20.3,
            19.6,
            19.2,
            18.5,
            17.3,
            17.5,
            15.2,
            13.7,
            14.2
           ],
           "yaxis": "y"
          }
         ],
         "name": "2020-08-28"
        },
        {
         "data": [
          {
           "alignmentgroup": "True",
           "customdata": [
            [
             917,
             "Darmstadt"
            ],
            [
             917,
             "Darmstadt"
            ],
            [
             917,
             "Darmstadt"
            ],
            [
             917,
             "Darmstadt"
            ],
            [
             917,
             "Darmstadt"
            ],
            [
             917,
             "Darmstadt"
            ],
            [
             917,
             "Darmstadt"
            ],
            [
             917,
             "Darmstadt"
            ],
            [
             917,
             "Darmstadt"
            ],
            [
             917,
             "Darmstadt"
            ],
            [
             917,
             "Darmstadt"
            ],
            [
             917,
             "Darmstadt"
            ],
            [
             917,
             "Darmstadt"
            ],
            [
             917,
             "Darmstadt"
            ],
            [
             917,
             "Darmstadt"
            ],
            [
             917,
             "Darmstadt"
            ],
            [
             917,
             "Darmstadt"
            ],
            [
             917,
             "Darmstadt"
            ],
            [
             917,
             "Darmstadt"
            ],
            [
             917,
             "Darmstadt"
            ],
            [
             917,
             "Darmstadt"
            ],
            [
             917,
             "Darmstadt"
            ],
            [
             917,
             "Darmstadt"
            ],
            [
             917,
             "Darmstadt"
            ]
           ],
           "hovertemplate": "date2=2020-08-29<br>date=%{x}<br>temperature=%{marker.color}<br>station_id=%{customdata[0]}<br>STATION_NAME=%{customdata[1]}<extra></extra>",
           "legendgroup": "",
           "marker": {
            "color": [
             14.6,
             14.6,
             13.5,
             13.4,
             13.2,
             13.2,
             14.2,
             15.3,
             16.3,
             17.3,
             18.1,
             18.5,
             19.7,
             19.6,
             20.8,
             20.7,
             19.8,
             18.8,
             16.9,
             15,
             13.6,
             13.1,
             12.6,
             11.8
            ],
            "coloraxis": "coloraxis"
           },
           "name": "",
           "offsetgroup": "",
           "orientation": "v",
           "showlegend": false,
           "textposition": "auto",
           "type": "bar",
           "x": [
            "2020-08-29T00:00:00",
            "2020-08-29T01:00:00",
            "2020-08-29T02:00:00",
            "2020-08-29T03:00:00",
            "2020-08-29T04:00:00",
            "2020-08-29T05:00:00",
            "2020-08-29T06:00:00",
            "2020-08-29T07:00:00",
            "2020-08-29T08:00:00",
            "2020-08-29T09:00:00",
            "2020-08-29T10:00:00",
            "2020-08-29T11:00:00",
            "2020-08-29T12:00:00",
            "2020-08-29T13:00:00",
            "2020-08-29T14:00:00",
            "2020-08-29T15:00:00",
            "2020-08-29T16:00:00",
            "2020-08-29T17:00:00",
            "2020-08-29T18:00:00",
            "2020-08-29T19:00:00",
            "2020-08-29T20:00:00",
            "2020-08-29T21:00:00",
            "2020-08-29T22:00:00",
            "2020-08-29T23:00:00"
           ],
           "xaxis": "x",
           "y": [
            14.6,
            14.6,
            13.5,
            13.4,
            13.2,
            13.2,
            14.2,
            15.3,
            16.3,
            17.3,
            18.1,
            18.5,
            19.7,
            19.6,
            20.8,
            20.7,
            19.8,
            18.8,
            16.9,
            15,
            13.6,
            13.1,
            12.6,
            11.8
           ],
           "yaxis": "y"
          }
         ],
         "name": "2020-08-29"
        },
        {
         "data": [
          {
           "alignmentgroup": "True",
           "customdata": [
            [
             917,
             "Darmstadt"
            ],
            [
             917,
             "Darmstadt"
            ],
            [
             917,
             "Darmstadt"
            ],
            [
             917,
             "Darmstadt"
            ],
            [
             917,
             "Darmstadt"
            ],
            [
             917,
             "Darmstadt"
            ],
            [
             917,
             "Darmstadt"
            ],
            [
             917,
             "Darmstadt"
            ],
            [
             917,
             "Darmstadt"
            ],
            [
             917,
             "Darmstadt"
            ],
            [
             917,
             "Darmstadt"
            ],
            [
             917,
             "Darmstadt"
            ],
            [
             917,
             "Darmstadt"
            ],
            [
             917,
             "Darmstadt"
            ],
            [
             917,
             "Darmstadt"
            ],
            [
             917,
             "Darmstadt"
            ],
            [
             917,
             "Darmstadt"
            ],
            [
             917,
             "Darmstadt"
            ],
            [
             917,
             "Darmstadt"
            ],
            [
             917,
             "Darmstadt"
            ],
            [
             917,
             "Darmstadt"
            ],
            [
             917,
             "Darmstadt"
            ],
            [
             917,
             "Darmstadt"
            ],
            [
             917,
             "Darmstadt"
            ]
           ],
           "hovertemplate": "date2=2020-08-30<br>date=%{x}<br>temperature=%{marker.color}<br>station_id=%{customdata[0]}<br>STATION_NAME=%{customdata[1]}<extra></extra>",
           "legendgroup": "",
           "marker": {
            "color": [
             11.6,
             11.4,
             11.2,
             10.9,
             10.7,
             10.9,
             11.8,
             13.4,
             14.6,
             16.4,
             17.1,
             18.1,
             19.2,
             19.4,
             19.1,
             18.4,
             17,
             15.1,
             13.7,
             13.6,
             13.4,
             13.2,
             13.5,
             13.4
            ],
            "coloraxis": "coloraxis"
           },
           "name": "",
           "offsetgroup": "",
           "orientation": "v",
           "showlegend": false,
           "textposition": "auto",
           "type": "bar",
           "x": [
            "2020-08-30T00:00:00",
            "2020-08-30T01:00:00",
            "2020-08-30T02:00:00",
            "2020-08-30T03:00:00",
            "2020-08-30T04:00:00",
            "2020-08-30T05:00:00",
            "2020-08-30T06:00:00",
            "2020-08-30T07:00:00",
            "2020-08-30T08:00:00",
            "2020-08-30T09:00:00",
            "2020-08-30T10:00:00",
            "2020-08-30T11:00:00",
            "2020-08-30T12:00:00",
            "2020-08-30T13:00:00",
            "2020-08-30T14:00:00",
            "2020-08-30T15:00:00",
            "2020-08-30T16:00:00",
            "2020-08-30T17:00:00",
            "2020-08-30T18:00:00",
            "2020-08-30T19:00:00",
            "2020-08-30T20:00:00",
            "2020-08-30T21:00:00",
            "2020-08-30T22:00:00",
            "2020-08-30T23:00:00"
           ],
           "xaxis": "x",
           "y": [
            11.6,
            11.4,
            11.2,
            10.9,
            10.7,
            10.9,
            11.8,
            13.4,
            14.6,
            16.4,
            17.1,
            18.1,
            19.2,
            19.4,
            19.1,
            18.4,
            17,
            15.1,
            13.7,
            13.6,
            13.4,
            13.2,
            13.5,
            13.4
           ],
           "yaxis": "y"
          }
         ],
         "name": "2020-08-30"
        },
        {
         "data": [
          {
           "alignmentgroup": "True",
           "customdata": [
            [
             917,
             "Darmstadt"
            ]
           ],
           "hovertemplate": "date2=2020-08-31<br>date=%{x}<br>temperature=%{marker.color}<br>station_id=%{customdata[0]}<br>STATION_NAME=%{customdata[1]}<extra></extra>",
           "legendgroup": "",
           "marker": {
            "color": [
             13.1
            ],
            "coloraxis": "coloraxis"
           },
           "name": "",
           "offsetgroup": "",
           "orientation": "v",
           "showlegend": false,
           "textposition": "auto",
           "type": "bar",
           "x": [
            "2020-08-31T00:00:00"
           ],
           "xaxis": "x",
           "y": [
            13.1
           ],
           "yaxis": "y"
          }
         ],
         "name": "2020-08-31"
        }
       ],
       "layout": {
        "barmode": "relative",
        "coloraxis": {
         "colorbar": {
          "title": {
           "text": "temperature"
          }
         },
         "colorscale": [
          [
           0,
           "#0d0887"
          ],
          [
           0.1111111111111111,
           "#46039f"
          ],
          [
           0.2222222222222222,
           "#7201a8"
          ],
          [
           0.3333333333333333,
           "#9c179e"
          ],
          [
           0.4444444444444444,
           "#bd3786"
          ],
          [
           0.5555555555555556,
           "#d8576b"
          ],
          [
           0.6666666666666666,
           "#ed7953"
          ],
          [
           0.7777777777777778,
           "#fb9f3a"
          ],
          [
           0.8888888888888888,
           "#fdca26"
          ],
          [
           1,
           "#f0f921"
          ]
         ]
        },
        "legend": {
         "tracegroupgap": 0
        },
        "sliders": [
         {
          "active": 0,
          "currentvalue": {
           "prefix": "date2="
          },
          "len": 0.9,
          "pad": {
           "b": 10,
           "t": 60
          },
          "steps": [
           {
            "args": [
             [
              "2020-07-01"
             ],
             {
              "frame": {
               "duration": 0,
               "redraw": true
              },
              "fromcurrent": true,
              "mode": "immediate",
              "transition": {
               "duration": 0,
               "easing": "linear"
              }
             }
            ],
            "label": "2020-07-01",
            "method": "animate"
           },
           {
            "args": [
             [
              "2020-07-02"
             ],
             {
              "frame": {
               "duration": 0,
               "redraw": true
              },
              "fromcurrent": true,
              "mode": "immediate",
              "transition": {
               "duration": 0,
               "easing": "linear"
              }
             }
            ],
            "label": "2020-07-02",
            "method": "animate"
           },
           {
            "args": [
             [
              "2020-07-03"
             ],
             {
              "frame": {
               "duration": 0,
               "redraw": true
              },
              "fromcurrent": true,
              "mode": "immediate",
              "transition": {
               "duration": 0,
               "easing": "linear"
              }
             }
            ],
            "label": "2020-07-03",
            "method": "animate"
           },
           {
            "args": [
             [
              "2020-07-04"
             ],
             {
              "frame": {
               "duration": 0,
               "redraw": true
              },
              "fromcurrent": true,
              "mode": "immediate",
              "transition": {
               "duration": 0,
               "easing": "linear"
              }
             }
            ],
            "label": "2020-07-04",
            "method": "animate"
           },
           {
            "args": [
             [
              "2020-07-05"
             ],
             {
              "frame": {
               "duration": 0,
               "redraw": true
              },
              "fromcurrent": true,
              "mode": "immediate",
              "transition": {
               "duration": 0,
               "easing": "linear"
              }
             }
            ],
            "label": "2020-07-05",
            "method": "animate"
           },
           {
            "args": [
             [
              "2020-07-06"
             ],
             {
              "frame": {
               "duration": 0,
               "redraw": true
              },
              "fromcurrent": true,
              "mode": "immediate",
              "transition": {
               "duration": 0,
               "easing": "linear"
              }
             }
            ],
            "label": "2020-07-06",
            "method": "animate"
           },
           {
            "args": [
             [
              "2020-07-07"
             ],
             {
              "frame": {
               "duration": 0,
               "redraw": true
              },
              "fromcurrent": true,
              "mode": "immediate",
              "transition": {
               "duration": 0,
               "easing": "linear"
              }
             }
            ],
            "label": "2020-07-07",
            "method": "animate"
           },
           {
            "args": [
             [
              "2020-07-08"
             ],
             {
              "frame": {
               "duration": 0,
               "redraw": true
              },
              "fromcurrent": true,
              "mode": "immediate",
              "transition": {
               "duration": 0,
               "easing": "linear"
              }
             }
            ],
            "label": "2020-07-08",
            "method": "animate"
           },
           {
            "args": [
             [
              "2020-07-09"
             ],
             {
              "frame": {
               "duration": 0,
               "redraw": true
              },
              "fromcurrent": true,
              "mode": "immediate",
              "transition": {
               "duration": 0,
               "easing": "linear"
              }
             }
            ],
            "label": "2020-07-09",
            "method": "animate"
           },
           {
            "args": [
             [
              "2020-07-10"
             ],
             {
              "frame": {
               "duration": 0,
               "redraw": true
              },
              "fromcurrent": true,
              "mode": "immediate",
              "transition": {
               "duration": 0,
               "easing": "linear"
              }
             }
            ],
            "label": "2020-07-10",
            "method": "animate"
           },
           {
            "args": [
             [
              "2020-07-11"
             ],
             {
              "frame": {
               "duration": 0,
               "redraw": true
              },
              "fromcurrent": true,
              "mode": "immediate",
              "transition": {
               "duration": 0,
               "easing": "linear"
              }
             }
            ],
            "label": "2020-07-11",
            "method": "animate"
           },
           {
            "args": [
             [
              "2020-07-12"
             ],
             {
              "frame": {
               "duration": 0,
               "redraw": true
              },
              "fromcurrent": true,
              "mode": "immediate",
              "transition": {
               "duration": 0,
               "easing": "linear"
              }
             }
            ],
            "label": "2020-07-12",
            "method": "animate"
           },
           {
            "args": [
             [
              "2020-07-13"
             ],
             {
              "frame": {
               "duration": 0,
               "redraw": true
              },
              "fromcurrent": true,
              "mode": "immediate",
              "transition": {
               "duration": 0,
               "easing": "linear"
              }
             }
            ],
            "label": "2020-07-13",
            "method": "animate"
           },
           {
            "args": [
             [
              "2020-07-14"
             ],
             {
              "frame": {
               "duration": 0,
               "redraw": true
              },
              "fromcurrent": true,
              "mode": "immediate",
              "transition": {
               "duration": 0,
               "easing": "linear"
              }
             }
            ],
            "label": "2020-07-14",
            "method": "animate"
           },
           {
            "args": [
             [
              "2020-07-15"
             ],
             {
              "frame": {
               "duration": 0,
               "redraw": true
              },
              "fromcurrent": true,
              "mode": "immediate",
              "transition": {
               "duration": 0,
               "easing": "linear"
              }
             }
            ],
            "label": "2020-07-15",
            "method": "animate"
           },
           {
            "args": [
             [
              "2020-07-16"
             ],
             {
              "frame": {
               "duration": 0,
               "redraw": true
              },
              "fromcurrent": true,
              "mode": "immediate",
              "transition": {
               "duration": 0,
               "easing": "linear"
              }
             }
            ],
            "label": "2020-07-16",
            "method": "animate"
           },
           {
            "args": [
             [
              "2020-07-17"
             ],
             {
              "frame": {
               "duration": 0,
               "redraw": true
              },
              "fromcurrent": true,
              "mode": "immediate",
              "transition": {
               "duration": 0,
               "easing": "linear"
              }
             }
            ],
            "label": "2020-07-17",
            "method": "animate"
           },
           {
            "args": [
             [
              "2020-07-18"
             ],
             {
              "frame": {
               "duration": 0,
               "redraw": true
              },
              "fromcurrent": true,
              "mode": "immediate",
              "transition": {
               "duration": 0,
               "easing": "linear"
              }
             }
            ],
            "label": "2020-07-18",
            "method": "animate"
           },
           {
            "args": [
             [
              "2020-07-19"
             ],
             {
              "frame": {
               "duration": 0,
               "redraw": true
              },
              "fromcurrent": true,
              "mode": "immediate",
              "transition": {
               "duration": 0,
               "easing": "linear"
              }
             }
            ],
            "label": "2020-07-19",
            "method": "animate"
           },
           {
            "args": [
             [
              "2020-07-20"
             ],
             {
              "frame": {
               "duration": 0,
               "redraw": true
              },
              "fromcurrent": true,
              "mode": "immediate",
              "transition": {
               "duration": 0,
               "easing": "linear"
              }
             }
            ],
            "label": "2020-07-20",
            "method": "animate"
           },
           {
            "args": [
             [
              "2020-07-21"
             ],
             {
              "frame": {
               "duration": 0,
               "redraw": true
              },
              "fromcurrent": true,
              "mode": "immediate",
              "transition": {
               "duration": 0,
               "easing": "linear"
              }
             }
            ],
            "label": "2020-07-21",
            "method": "animate"
           },
           {
            "args": [
             [
              "2020-07-22"
             ],
             {
              "frame": {
               "duration": 0,
               "redraw": true
              },
              "fromcurrent": true,
              "mode": "immediate",
              "transition": {
               "duration": 0,
               "easing": "linear"
              }
             }
            ],
            "label": "2020-07-22",
            "method": "animate"
           },
           {
            "args": [
             [
              "2020-07-23"
             ],
             {
              "frame": {
               "duration": 0,
               "redraw": true
              },
              "fromcurrent": true,
              "mode": "immediate",
              "transition": {
               "duration": 0,
               "easing": "linear"
              }
             }
            ],
            "label": "2020-07-23",
            "method": "animate"
           },
           {
            "args": [
             [
              "2020-07-24"
             ],
             {
              "frame": {
               "duration": 0,
               "redraw": true
              },
              "fromcurrent": true,
              "mode": "immediate",
              "transition": {
               "duration": 0,
               "easing": "linear"
              }
             }
            ],
            "label": "2020-07-24",
            "method": "animate"
           },
           {
            "args": [
             [
              "2020-07-25"
             ],
             {
              "frame": {
               "duration": 0,
               "redraw": true
              },
              "fromcurrent": true,
              "mode": "immediate",
              "transition": {
               "duration": 0,
               "easing": "linear"
              }
             }
            ],
            "label": "2020-07-25",
            "method": "animate"
           },
           {
            "args": [
             [
              "2020-07-26"
             ],
             {
              "frame": {
               "duration": 0,
               "redraw": true
              },
              "fromcurrent": true,
              "mode": "immediate",
              "transition": {
               "duration": 0,
               "easing": "linear"
              }
             }
            ],
            "label": "2020-07-26",
            "method": "animate"
           },
           {
            "args": [
             [
              "2020-07-27"
             ],
             {
              "frame": {
               "duration": 0,
               "redraw": true
              },
              "fromcurrent": true,
              "mode": "immediate",
              "transition": {
               "duration": 0,
               "easing": "linear"
              }
             }
            ],
            "label": "2020-07-27",
            "method": "animate"
           },
           {
            "args": [
             [
              "2020-07-28"
             ],
             {
              "frame": {
               "duration": 0,
               "redraw": true
              },
              "fromcurrent": true,
              "mode": "immediate",
              "transition": {
               "duration": 0,
               "easing": "linear"
              }
             }
            ],
            "label": "2020-07-28",
            "method": "animate"
           },
           {
            "args": [
             [
              "2020-07-29"
             ],
             {
              "frame": {
               "duration": 0,
               "redraw": true
              },
              "fromcurrent": true,
              "mode": "immediate",
              "transition": {
               "duration": 0,
               "easing": "linear"
              }
             }
            ],
            "label": "2020-07-29",
            "method": "animate"
           },
           {
            "args": [
             [
              "2020-07-30"
             ],
             {
              "frame": {
               "duration": 0,
               "redraw": true
              },
              "fromcurrent": true,
              "mode": "immediate",
              "transition": {
               "duration": 0,
               "easing": "linear"
              }
             }
            ],
            "label": "2020-07-30",
            "method": "animate"
           },
           {
            "args": [
             [
              "2020-07-31"
             ],
             {
              "frame": {
               "duration": 0,
               "redraw": true
              },
              "fromcurrent": true,
              "mode": "immediate",
              "transition": {
               "duration": 0,
               "easing": "linear"
              }
             }
            ],
            "label": "2020-07-31",
            "method": "animate"
           },
           {
            "args": [
             [
              "2020-08-01"
             ],
             {
              "frame": {
               "duration": 0,
               "redraw": true
              },
              "fromcurrent": true,
              "mode": "immediate",
              "transition": {
               "duration": 0,
               "easing": "linear"
              }
             }
            ],
            "label": "2020-08-01",
            "method": "animate"
           },
           {
            "args": [
             [
              "2020-08-02"
             ],
             {
              "frame": {
               "duration": 0,
               "redraw": true
              },
              "fromcurrent": true,
              "mode": "immediate",
              "transition": {
               "duration": 0,
               "easing": "linear"
              }
             }
            ],
            "label": "2020-08-02",
            "method": "animate"
           },
           {
            "args": [
             [
              "2020-08-03"
             ],
             {
              "frame": {
               "duration": 0,
               "redraw": true
              },
              "fromcurrent": true,
              "mode": "immediate",
              "transition": {
               "duration": 0,
               "easing": "linear"
              }
             }
            ],
            "label": "2020-08-03",
            "method": "animate"
           },
           {
            "args": [
             [
              "2020-08-04"
             ],
             {
              "frame": {
               "duration": 0,
               "redraw": true
              },
              "fromcurrent": true,
              "mode": "immediate",
              "transition": {
               "duration": 0,
               "easing": "linear"
              }
             }
            ],
            "label": "2020-08-04",
            "method": "animate"
           },
           {
            "args": [
             [
              "2020-08-05"
             ],
             {
              "frame": {
               "duration": 0,
               "redraw": true
              },
              "fromcurrent": true,
              "mode": "immediate",
              "transition": {
               "duration": 0,
               "easing": "linear"
              }
             }
            ],
            "label": "2020-08-05",
            "method": "animate"
           },
           {
            "args": [
             [
              "2020-08-06"
             ],
             {
              "frame": {
               "duration": 0,
               "redraw": true
              },
              "fromcurrent": true,
              "mode": "immediate",
              "transition": {
               "duration": 0,
               "easing": "linear"
              }
             }
            ],
            "label": "2020-08-06",
            "method": "animate"
           },
           {
            "args": [
             [
              "2020-08-07"
             ],
             {
              "frame": {
               "duration": 0,
               "redraw": true
              },
              "fromcurrent": true,
              "mode": "immediate",
              "transition": {
               "duration": 0,
               "easing": "linear"
              }
             }
            ],
            "label": "2020-08-07",
            "method": "animate"
           },
           {
            "args": [
             [
              "2020-08-08"
             ],
             {
              "frame": {
               "duration": 0,
               "redraw": true
              },
              "fromcurrent": true,
              "mode": "immediate",
              "transition": {
               "duration": 0,
               "easing": "linear"
              }
             }
            ],
            "label": "2020-08-08",
            "method": "animate"
           },
           {
            "args": [
             [
              "2020-08-09"
             ],
             {
              "frame": {
               "duration": 0,
               "redraw": true
              },
              "fromcurrent": true,
              "mode": "immediate",
              "transition": {
               "duration": 0,
               "easing": "linear"
              }
             }
            ],
            "label": "2020-08-09",
            "method": "animate"
           },
           {
            "args": [
             [
              "2020-08-10"
             ],
             {
              "frame": {
               "duration": 0,
               "redraw": true
              },
              "fromcurrent": true,
              "mode": "immediate",
              "transition": {
               "duration": 0,
               "easing": "linear"
              }
             }
            ],
            "label": "2020-08-10",
            "method": "animate"
           },
           {
            "args": [
             [
              "2020-08-11"
             ],
             {
              "frame": {
               "duration": 0,
               "redraw": true
              },
              "fromcurrent": true,
              "mode": "immediate",
              "transition": {
               "duration": 0,
               "easing": "linear"
              }
             }
            ],
            "label": "2020-08-11",
            "method": "animate"
           },
           {
            "args": [
             [
              "2020-08-12"
             ],
             {
              "frame": {
               "duration": 0,
               "redraw": true
              },
              "fromcurrent": true,
              "mode": "immediate",
              "transition": {
               "duration": 0,
               "easing": "linear"
              }
             }
            ],
            "label": "2020-08-12",
            "method": "animate"
           },
           {
            "args": [
             [
              "2020-08-13"
             ],
             {
              "frame": {
               "duration": 0,
               "redraw": true
              },
              "fromcurrent": true,
              "mode": "immediate",
              "transition": {
               "duration": 0,
               "easing": "linear"
              }
             }
            ],
            "label": "2020-08-13",
            "method": "animate"
           },
           {
            "args": [
             [
              "2020-08-14"
             ],
             {
              "frame": {
               "duration": 0,
               "redraw": true
              },
              "fromcurrent": true,
              "mode": "immediate",
              "transition": {
               "duration": 0,
               "easing": "linear"
              }
             }
            ],
            "label": "2020-08-14",
            "method": "animate"
           },
           {
            "args": [
             [
              "2020-08-15"
             ],
             {
              "frame": {
               "duration": 0,
               "redraw": true
              },
              "fromcurrent": true,
              "mode": "immediate",
              "transition": {
               "duration": 0,
               "easing": "linear"
              }
             }
            ],
            "label": "2020-08-15",
            "method": "animate"
           },
           {
            "args": [
             [
              "2020-08-16"
             ],
             {
              "frame": {
               "duration": 0,
               "redraw": true
              },
              "fromcurrent": true,
              "mode": "immediate",
              "transition": {
               "duration": 0,
               "easing": "linear"
              }
             }
            ],
            "label": "2020-08-16",
            "method": "animate"
           },
           {
            "args": [
             [
              "2020-08-17"
             ],
             {
              "frame": {
               "duration": 0,
               "redraw": true
              },
              "fromcurrent": true,
              "mode": "immediate",
              "transition": {
               "duration": 0,
               "easing": "linear"
              }
             }
            ],
            "label": "2020-08-17",
            "method": "animate"
           },
           {
            "args": [
             [
              "2020-08-18"
             ],
             {
              "frame": {
               "duration": 0,
               "redraw": true
              },
              "fromcurrent": true,
              "mode": "immediate",
              "transition": {
               "duration": 0,
               "easing": "linear"
              }
             }
            ],
            "label": "2020-08-18",
            "method": "animate"
           },
           {
            "args": [
             [
              "2020-08-19"
             ],
             {
              "frame": {
               "duration": 0,
               "redraw": true
              },
              "fromcurrent": true,
              "mode": "immediate",
              "transition": {
               "duration": 0,
               "easing": "linear"
              }
             }
            ],
            "label": "2020-08-19",
            "method": "animate"
           },
           {
            "args": [
             [
              "2020-08-20"
             ],
             {
              "frame": {
               "duration": 0,
               "redraw": true
              },
              "fromcurrent": true,
              "mode": "immediate",
              "transition": {
               "duration": 0,
               "easing": "linear"
              }
             }
            ],
            "label": "2020-08-20",
            "method": "animate"
           },
           {
            "args": [
             [
              "2020-08-21"
             ],
             {
              "frame": {
               "duration": 0,
               "redraw": true
              },
              "fromcurrent": true,
              "mode": "immediate",
              "transition": {
               "duration": 0,
               "easing": "linear"
              }
             }
            ],
            "label": "2020-08-21",
            "method": "animate"
           },
           {
            "args": [
             [
              "2020-08-22"
             ],
             {
              "frame": {
               "duration": 0,
               "redraw": true
              },
              "fromcurrent": true,
              "mode": "immediate",
              "transition": {
               "duration": 0,
               "easing": "linear"
              }
             }
            ],
            "label": "2020-08-22",
            "method": "animate"
           },
           {
            "args": [
             [
              "2020-08-23"
             ],
             {
              "frame": {
               "duration": 0,
               "redraw": true
              },
              "fromcurrent": true,
              "mode": "immediate",
              "transition": {
               "duration": 0,
               "easing": "linear"
              }
             }
            ],
            "label": "2020-08-23",
            "method": "animate"
           },
           {
            "args": [
             [
              "2020-08-24"
             ],
             {
              "frame": {
               "duration": 0,
               "redraw": true
              },
              "fromcurrent": true,
              "mode": "immediate",
              "transition": {
               "duration": 0,
               "easing": "linear"
              }
             }
            ],
            "label": "2020-08-24",
            "method": "animate"
           },
           {
            "args": [
             [
              "2020-08-25"
             ],
             {
              "frame": {
               "duration": 0,
               "redraw": true
              },
              "fromcurrent": true,
              "mode": "immediate",
              "transition": {
               "duration": 0,
               "easing": "linear"
              }
             }
            ],
            "label": "2020-08-25",
            "method": "animate"
           },
           {
            "args": [
             [
              "2020-08-26"
             ],
             {
              "frame": {
               "duration": 0,
               "redraw": true
              },
              "fromcurrent": true,
              "mode": "immediate",
              "transition": {
               "duration": 0,
               "easing": "linear"
              }
             }
            ],
            "label": "2020-08-26",
            "method": "animate"
           },
           {
            "args": [
             [
              "2020-08-27"
             ],
             {
              "frame": {
               "duration": 0,
               "redraw": true
              },
              "fromcurrent": true,
              "mode": "immediate",
              "transition": {
               "duration": 0,
               "easing": "linear"
              }
             }
            ],
            "label": "2020-08-27",
            "method": "animate"
           },
           {
            "args": [
             [
              "2020-08-28"
             ],
             {
              "frame": {
               "duration": 0,
               "redraw": true
              },
              "fromcurrent": true,
              "mode": "immediate",
              "transition": {
               "duration": 0,
               "easing": "linear"
              }
             }
            ],
            "label": "2020-08-28",
            "method": "animate"
           },
           {
            "args": [
             [
              "2020-08-29"
             ],
             {
              "frame": {
               "duration": 0,
               "redraw": true
              },
              "fromcurrent": true,
              "mode": "immediate",
              "transition": {
               "duration": 0,
               "easing": "linear"
              }
             }
            ],
            "label": "2020-08-29",
            "method": "animate"
           },
           {
            "args": [
             [
              "2020-08-30"
             ],
             {
              "frame": {
               "duration": 0,
               "redraw": true
              },
              "fromcurrent": true,
              "mode": "immediate",
              "transition": {
               "duration": 0,
               "easing": "linear"
              }
             }
            ],
            "label": "2020-08-30",
            "method": "animate"
           },
           {
            "args": [
             [
              "2020-08-31"
             ],
             {
              "frame": {
               "duration": 0,
               "redraw": true
              },
              "fromcurrent": true,
              "mode": "immediate",
              "transition": {
               "duration": 0,
               "easing": "linear"
              }
             }
            ],
            "label": "2020-08-31",
            "method": "animate"
           }
          ],
          "x": 0.1,
          "xanchor": "left",
          "y": 0,
          "yanchor": "top"
         }
        ],
        "template": {
         "data": {
          "bar": [
           {
            "error_x": {
             "color": "#2a3f5f"
            },
            "error_y": {
             "color": "#2a3f5f"
            },
            "marker": {
             "line": {
              "color": "#E5ECF6",
              "width": 0.5
             }
            },
            "type": "bar"
           }
          ],
          "barpolar": [
           {
            "marker": {
             "line": {
              "color": "#E5ECF6",
              "width": 0.5
             }
            },
            "type": "barpolar"
           }
          ],
          "carpet": [
           {
            "aaxis": {
             "endlinecolor": "#2a3f5f",
             "gridcolor": "white",
             "linecolor": "white",
             "minorgridcolor": "white",
             "startlinecolor": "#2a3f5f"
            },
            "baxis": {
             "endlinecolor": "#2a3f5f",
             "gridcolor": "white",
             "linecolor": "white",
             "minorgridcolor": "white",
             "startlinecolor": "#2a3f5f"
            },
            "type": "carpet"
           }
          ],
          "choropleth": [
           {
            "colorbar": {
             "outlinewidth": 0,
             "ticks": ""
            },
            "type": "choropleth"
           }
          ],
          "contour": [
           {
            "colorbar": {
             "outlinewidth": 0,
             "ticks": ""
            },
            "colorscale": [
             [
              0,
              "#0d0887"
             ],
             [
              0.1111111111111111,
              "#46039f"
             ],
             [
              0.2222222222222222,
              "#7201a8"
             ],
             [
              0.3333333333333333,
              "#9c179e"
             ],
             [
              0.4444444444444444,
              "#bd3786"
             ],
             [
              0.5555555555555556,
              "#d8576b"
             ],
             [
              0.6666666666666666,
              "#ed7953"
             ],
             [
              0.7777777777777778,
              "#fb9f3a"
             ],
             [
              0.8888888888888888,
              "#fdca26"
             ],
             [
              1,
              "#f0f921"
             ]
            ],
            "type": "contour"
           }
          ],
          "contourcarpet": [
           {
            "colorbar": {
             "outlinewidth": 0,
             "ticks": ""
            },
            "type": "contourcarpet"
           }
          ],
          "heatmap": [
           {
            "colorbar": {
             "outlinewidth": 0,
             "ticks": ""
            },
            "colorscale": [
             [
              0,
              "#0d0887"
             ],
             [
              0.1111111111111111,
              "#46039f"
             ],
             [
              0.2222222222222222,
              "#7201a8"
             ],
             [
              0.3333333333333333,
              "#9c179e"
             ],
             [
              0.4444444444444444,
              "#bd3786"
             ],
             [
              0.5555555555555556,
              "#d8576b"
             ],
             [
              0.6666666666666666,
              "#ed7953"
             ],
             [
              0.7777777777777778,
              "#fb9f3a"
             ],
             [
              0.8888888888888888,
              "#fdca26"
             ],
             [
              1,
              "#f0f921"
             ]
            ],
            "type": "heatmap"
           }
          ],
          "heatmapgl": [
           {
            "colorbar": {
             "outlinewidth": 0,
             "ticks": ""
            },
            "colorscale": [
             [
              0,
              "#0d0887"
             ],
             [
              0.1111111111111111,
              "#46039f"
             ],
             [
              0.2222222222222222,
              "#7201a8"
             ],
             [
              0.3333333333333333,
              "#9c179e"
             ],
             [
              0.4444444444444444,
              "#bd3786"
             ],
             [
              0.5555555555555556,
              "#d8576b"
             ],
             [
              0.6666666666666666,
              "#ed7953"
             ],
             [
              0.7777777777777778,
              "#fb9f3a"
             ],
             [
              0.8888888888888888,
              "#fdca26"
             ],
             [
              1,
              "#f0f921"
             ]
            ],
            "type": "heatmapgl"
           }
          ],
          "histogram": [
           {
            "marker": {
             "colorbar": {
              "outlinewidth": 0,
              "ticks": ""
             }
            },
            "type": "histogram"
           }
          ],
          "histogram2d": [
           {
            "colorbar": {
             "outlinewidth": 0,
             "ticks": ""
            },
            "colorscale": [
             [
              0,
              "#0d0887"
             ],
             [
              0.1111111111111111,
              "#46039f"
             ],
             [
              0.2222222222222222,
              "#7201a8"
             ],
             [
              0.3333333333333333,
              "#9c179e"
             ],
             [
              0.4444444444444444,
              "#bd3786"
             ],
             [
              0.5555555555555556,
              "#d8576b"
             ],
             [
              0.6666666666666666,
              "#ed7953"
             ],
             [
              0.7777777777777778,
              "#fb9f3a"
             ],
             [
              0.8888888888888888,
              "#fdca26"
             ],
             [
              1,
              "#f0f921"
             ]
            ],
            "type": "histogram2d"
           }
          ],
          "histogram2dcontour": [
           {
            "colorbar": {
             "outlinewidth": 0,
             "ticks": ""
            },
            "colorscale": [
             [
              0,
              "#0d0887"
             ],
             [
              0.1111111111111111,
              "#46039f"
             ],
             [
              0.2222222222222222,
              "#7201a8"
             ],
             [
              0.3333333333333333,
              "#9c179e"
             ],
             [
              0.4444444444444444,
              "#bd3786"
             ],
             [
              0.5555555555555556,
              "#d8576b"
             ],
             [
              0.6666666666666666,
              "#ed7953"
             ],
             [
              0.7777777777777778,
              "#fb9f3a"
             ],
             [
              0.8888888888888888,
              "#fdca26"
             ],
             [
              1,
              "#f0f921"
             ]
            ],
            "type": "histogram2dcontour"
           }
          ],
          "mesh3d": [
           {
            "colorbar": {
             "outlinewidth": 0,
             "ticks": ""
            },
            "type": "mesh3d"
           }
          ],
          "parcoords": [
           {
            "line": {
             "colorbar": {
              "outlinewidth": 0,
              "ticks": ""
             }
            },
            "type": "parcoords"
           }
          ],
          "pie": [
           {
            "automargin": true,
            "type": "pie"
           }
          ],
          "scatter": [
           {
            "marker": {
             "colorbar": {
              "outlinewidth": 0,
              "ticks": ""
             }
            },
            "type": "scatter"
           }
          ],
          "scatter3d": [
           {
            "line": {
             "colorbar": {
              "outlinewidth": 0,
              "ticks": ""
             }
            },
            "marker": {
             "colorbar": {
              "outlinewidth": 0,
              "ticks": ""
             }
            },
            "type": "scatter3d"
           }
          ],
          "scattercarpet": [
           {
            "marker": {
             "colorbar": {
              "outlinewidth": 0,
              "ticks": ""
             }
            },
            "type": "scattercarpet"
           }
          ],
          "scattergeo": [
           {
            "marker": {
             "colorbar": {
              "outlinewidth": 0,
              "ticks": ""
             }
            },
            "type": "scattergeo"
           }
          ],
          "scattergl": [
           {
            "marker": {
             "colorbar": {
              "outlinewidth": 0,
              "ticks": ""
             }
            },
            "type": "scattergl"
           }
          ],
          "scattermapbox": [
           {
            "marker": {
             "colorbar": {
              "outlinewidth": 0,
              "ticks": ""
             }
            },
            "type": "scattermapbox"
           }
          ],
          "scatterpolar": [
           {
            "marker": {
             "colorbar": {
              "outlinewidth": 0,
              "ticks": ""
             }
            },
            "type": "scatterpolar"
           }
          ],
          "scatterpolargl": [
           {
            "marker": {
             "colorbar": {
              "outlinewidth": 0,
              "ticks": ""
             }
            },
            "type": "scatterpolargl"
           }
          ],
          "scatterternary": [
           {
            "marker": {
             "colorbar": {
              "outlinewidth": 0,
              "ticks": ""
             }
            },
            "type": "scatterternary"
           }
          ],
          "surface": [
           {
            "colorbar": {
             "outlinewidth": 0,
             "ticks": ""
            },
            "colorscale": [
             [
              0,
              "#0d0887"
             ],
             [
              0.1111111111111111,
              "#46039f"
             ],
             [
              0.2222222222222222,
              "#7201a8"
             ],
             [
              0.3333333333333333,
              "#9c179e"
             ],
             [
              0.4444444444444444,
              "#bd3786"
             ],
             [
              0.5555555555555556,
              "#d8576b"
             ],
             [
              0.6666666666666666,
              "#ed7953"
             ],
             [
              0.7777777777777778,
              "#fb9f3a"
             ],
             [
              0.8888888888888888,
              "#fdca26"
             ],
             [
              1,
              "#f0f921"
             ]
            ],
            "type": "surface"
           }
          ],
          "table": [
           {
            "cells": {
             "fill": {
              "color": "#EBF0F8"
             },
             "line": {
              "color": "white"
             }
            },
            "header": {
             "fill": {
              "color": "#C8D4E3"
             },
             "line": {
              "color": "white"
             }
            },
            "type": "table"
           }
          ]
         },
         "layout": {
          "annotationdefaults": {
           "arrowcolor": "#2a3f5f",
           "arrowhead": 0,
           "arrowwidth": 1
          },
          "coloraxis": {
           "colorbar": {
            "outlinewidth": 0,
            "ticks": ""
           }
          },
          "colorscale": {
           "diverging": [
            [
             0,
             "#8e0152"
            ],
            [
             0.1,
             "#c51b7d"
            ],
            [
             0.2,
             "#de77ae"
            ],
            [
             0.3,
             "#f1b6da"
            ],
            [
             0.4,
             "#fde0ef"
            ],
            [
             0.5,
             "#f7f7f7"
            ],
            [
             0.6,
             "#e6f5d0"
            ],
            [
             0.7,
             "#b8e186"
            ],
            [
             0.8,
             "#7fbc41"
            ],
            [
             0.9,
             "#4d9221"
            ],
            [
             1,
             "#276419"
            ]
           ],
           "sequential": [
            [
             0,
             "#0d0887"
            ],
            [
             0.1111111111111111,
             "#46039f"
            ],
            [
             0.2222222222222222,
             "#7201a8"
            ],
            [
             0.3333333333333333,
             "#9c179e"
            ],
            [
             0.4444444444444444,
             "#bd3786"
            ],
            [
             0.5555555555555556,
             "#d8576b"
            ],
            [
             0.6666666666666666,
             "#ed7953"
            ],
            [
             0.7777777777777778,
             "#fb9f3a"
            ],
            [
             0.8888888888888888,
             "#fdca26"
            ],
            [
             1,
             "#f0f921"
            ]
           ],
           "sequentialminus": [
            [
             0,
             "#0d0887"
            ],
            [
             0.1111111111111111,
             "#46039f"
            ],
            [
             0.2222222222222222,
             "#7201a8"
            ],
            [
             0.3333333333333333,
             "#9c179e"
            ],
            [
             0.4444444444444444,
             "#bd3786"
            ],
            [
             0.5555555555555556,
             "#d8576b"
            ],
            [
             0.6666666666666666,
             "#ed7953"
            ],
            [
             0.7777777777777778,
             "#fb9f3a"
            ],
            [
             0.8888888888888888,
             "#fdca26"
            ],
            [
             1,
             "#f0f921"
            ]
           ]
          },
          "colorway": [
           "#636efa",
           "#EF553B",
           "#00cc96",
           "#ab63fa",
           "#FFA15A",
           "#19d3f3",
           "#FF6692",
           "#B6E880",
           "#FF97FF",
           "#FECB52"
          ],
          "font": {
           "color": "#2a3f5f"
          },
          "geo": {
           "bgcolor": "white",
           "lakecolor": "white",
           "landcolor": "#E5ECF6",
           "showlakes": true,
           "showland": true,
           "subunitcolor": "white"
          },
          "hoverlabel": {
           "align": "left"
          },
          "hovermode": "closest",
          "mapbox": {
           "style": "light"
          },
          "paper_bgcolor": "white",
          "plot_bgcolor": "#E5ECF6",
          "polar": {
           "angularaxis": {
            "gridcolor": "white",
            "linecolor": "white",
            "ticks": ""
           },
           "bgcolor": "#E5ECF6",
           "radialaxis": {
            "gridcolor": "white",
            "linecolor": "white",
            "ticks": ""
           }
          },
          "scene": {
           "xaxis": {
            "backgroundcolor": "#E5ECF6",
            "gridcolor": "white",
            "gridwidth": 2,
            "linecolor": "white",
            "showbackground": true,
            "ticks": "",
            "zerolinecolor": "white"
           },
           "yaxis": {
            "backgroundcolor": "#E5ECF6",
            "gridcolor": "white",
            "gridwidth": 2,
            "linecolor": "white",
            "showbackground": true,
            "ticks": "",
            "zerolinecolor": "white"
           },
           "zaxis": {
            "backgroundcolor": "#E5ECF6",
            "gridcolor": "white",
            "gridwidth": 2,
            "linecolor": "white",
            "showbackground": true,
            "ticks": "",
            "zerolinecolor": "white"
           }
          },
          "shapedefaults": {
           "line": {
            "color": "#2a3f5f"
           }
          },
          "ternary": {
           "aaxis": {
            "gridcolor": "white",
            "linecolor": "white",
            "ticks": ""
           },
           "baxis": {
            "gridcolor": "white",
            "linecolor": "white",
            "ticks": ""
           },
           "bgcolor": "#E5ECF6",
           "caxis": {
            "gridcolor": "white",
            "linecolor": "white",
            "ticks": ""
           }
          },
          "title": {
           "x": 0.05
          },
          "xaxis": {
           "automargin": true,
           "gridcolor": "white",
           "linecolor": "white",
           "ticks": "",
           "title": {
            "standoff": 15
           },
           "zerolinecolor": "white",
           "zerolinewidth": 2
          },
          "yaxis": {
           "automargin": true,
           "gridcolor": "white",
           "linecolor": "white",
           "ticks": "",
           "title": {
            "standoff": 15
           },
           "zerolinecolor": "white",
           "zerolinewidth": 2
          }
         }
        },
        "title": {
         "text": "Temperaturverlauf am 2020-07-01 in Darmstadt"
        },
        "updatemenus": [
         {
          "buttons": [
           {
            "args": [
             null,
             {
              "frame": {
               "duration": 500,
               "redraw": true
              },
              "fromcurrent": true,
              "mode": "immediate",
              "transition": {
               "duration": 500,
               "easing": "linear"
              }
             }
            ],
            "label": "&#9654;",
            "method": "animate"
           },
           {
            "args": [
             [
              null
             ],
             {
              "frame": {
               "duration": 0,
               "redraw": true
              },
              "fromcurrent": true,
              "mode": "immediate",
              "transition": {
               "duration": 0,
               "easing": "linear"
              }
             }
            ],
            "label": "&#9724;",
            "method": "animate"
           }
          ],
          "direction": "left",
          "pad": {
           "r": 10,
           "t": 70
          },
          "showactive": false,
          "type": "buttons",
          "x": 0.1,
          "xanchor": "right",
          "y": 0,
          "yanchor": "top"
         }
        ],
        "xaxis": {
         "anchor": "y",
         "domain": [
          0,
          1
         ],
         "title": {
          "text": "date"
         }
        },
        "yaxis": {
         "anchor": "x",
         "domain": [
          0,
          1
         ],
         "title": {
          "text": "temperature"
         }
        }
       }
      },
      "text/html": [
       "<div>                            <div id=\"fba9d30d-dfd4-4132-b290-f78e99dfe174\" class=\"plotly-graph-div\" style=\"height:525px; width:100%;\"></div>            <script type=\"text/javascript\">                require([\"plotly\"], function(Plotly) {                    window.PLOTLYENV=window.PLOTLYENV || {};                                    if (document.getElementById(\"fba9d30d-dfd4-4132-b290-f78e99dfe174\")) {                    Plotly.newPlot(                        \"fba9d30d-dfd4-4132-b290-f78e99dfe174\",                        [{\"alignmentgroup\": \"True\", \"customdata\": [[917, \"Darmstadt\"], [917, \"Darmstadt\"], [917, \"Darmstadt\"], [917, \"Darmstadt\"], [917, \"Darmstadt\"], [917, \"Darmstadt\"], [917, \"Darmstadt\"], [917, \"Darmstadt\"], [917, \"Darmstadt\"], [917, \"Darmstadt\"], [917, \"Darmstadt\"], [917, \"Darmstadt\"], [917, \"Darmstadt\"], [917, \"Darmstadt\"], [917, \"Darmstadt\"], [917, \"Darmstadt\"], [917, \"Darmstadt\"], [917, \"Darmstadt\"], [917, \"Darmstadt\"], [917, \"Darmstadt\"], [917, \"Darmstadt\"], [917, \"Darmstadt\"], [917, \"Darmstadt\"], [917, \"Darmstadt\"]], \"hovertemplate\": \"date2=2020-07-01<br>date=%{x}<br>temperature=%{marker.color}<br>station_id=%{customdata[0]}<br>STATION_NAME=%{customdata[1]}<extra></extra>\", \"legendgroup\": \"\", \"marker\": {\"color\": [17.0, 16.8, 16.4, 16.0, 15.3, 16.4, 18.3, 19.5, 20.6, 23.3, 23.8, 25.8, 27.6, 28.3, 28.2, 28.0, 27.2, 25.5, 24.7, 24.5, 22.7, 21.9, 21.0, 21.1], \"coloraxis\": \"coloraxis\"}, \"name\": \"\", \"offsetgroup\": \"\", \"orientation\": \"v\", \"showlegend\": false, \"textposition\": \"auto\", \"type\": \"bar\", \"x\": [\"2020-07-01T00:00:00\", \"2020-07-01T01:00:00\", \"2020-07-01T02:00:00\", \"2020-07-01T03:00:00\", \"2020-07-01T04:00:00\", \"2020-07-01T05:00:00\", \"2020-07-01T06:00:00\", \"2020-07-01T07:00:00\", \"2020-07-01T08:00:00\", \"2020-07-01T09:00:00\", \"2020-07-01T10:00:00\", \"2020-07-01T11:00:00\", \"2020-07-01T12:00:00\", \"2020-07-01T13:00:00\", \"2020-07-01T14:00:00\", \"2020-07-01T15:00:00\", \"2020-07-01T16:00:00\", \"2020-07-01T17:00:00\", \"2020-07-01T18:00:00\", \"2020-07-01T19:00:00\", \"2020-07-01T20:00:00\", \"2020-07-01T21:00:00\", \"2020-07-01T22:00:00\", \"2020-07-01T23:00:00\"], \"xaxis\": \"x\", \"y\": [17.0, 16.8, 16.4, 16.0, 15.3, 16.4, 18.3, 19.5, 20.6, 23.3, 23.8, 25.8, 27.6, 28.3, 28.2, 28.0, 27.2, 25.5, 24.7, 24.5, 22.7, 21.9, 21.0, 21.1], \"yaxis\": \"y\"}],                        {\"barmode\": \"relative\", \"coloraxis\": {\"colorbar\": {\"title\": {\"text\": \"temperature\"}}, \"colorscale\": [[0.0, \"#0d0887\"], [0.1111111111111111, \"#46039f\"], [0.2222222222222222, \"#7201a8\"], [0.3333333333333333, \"#9c179e\"], [0.4444444444444444, \"#bd3786\"], [0.5555555555555556, \"#d8576b\"], [0.6666666666666666, \"#ed7953\"], [0.7777777777777778, \"#fb9f3a\"], [0.8888888888888888, \"#fdca26\"], [1.0, \"#f0f921\"]]}, \"legend\": {\"tracegroupgap\": 0}, \"sliders\": [{\"active\": 0, \"currentvalue\": {\"prefix\": \"date2=\"}, \"len\": 0.9, \"pad\": {\"b\": 10, \"t\": 60}, \"steps\": [{\"args\": [[\"2020-07-01\"], {\"frame\": {\"duration\": 0, \"redraw\": true}, \"fromcurrent\": true, \"mode\": \"immediate\", \"transition\": {\"duration\": 0, \"easing\": \"linear\"}}], \"label\": \"2020-07-01\", \"method\": \"animate\"}, {\"args\": [[\"2020-07-02\"], {\"frame\": {\"duration\": 0, \"redraw\": true}, \"fromcurrent\": true, \"mode\": \"immediate\", \"transition\": {\"duration\": 0, \"easing\": \"linear\"}}], \"label\": \"2020-07-02\", \"method\": \"animate\"}, {\"args\": [[\"2020-07-03\"], {\"frame\": {\"duration\": 0, \"redraw\": true}, \"fromcurrent\": true, \"mode\": \"immediate\", \"transition\": {\"duration\": 0, \"easing\": \"linear\"}}], \"label\": \"2020-07-03\", \"method\": \"animate\"}, {\"args\": [[\"2020-07-04\"], {\"frame\": {\"duration\": 0, \"redraw\": true}, \"fromcurrent\": true, \"mode\": \"immediate\", \"transition\": {\"duration\": 0, \"easing\": \"linear\"}}], \"label\": \"2020-07-04\", \"method\": \"animate\"}, {\"args\": [[\"2020-07-05\"], {\"frame\": {\"duration\": 0, \"redraw\": true}, \"fromcurrent\": true, \"mode\": \"immediate\", \"transition\": {\"duration\": 0, \"easing\": \"linear\"}}], \"label\": \"2020-07-05\", \"method\": \"animate\"}, {\"args\": [[\"2020-07-06\"], {\"frame\": {\"duration\": 0, \"redraw\": true}, \"fromcurrent\": true, \"mode\": \"immediate\", \"transition\": {\"duration\": 0, \"easing\": \"linear\"}}], \"label\": \"2020-07-06\", \"method\": \"animate\"}, {\"args\": [[\"2020-07-07\"], {\"frame\": {\"duration\": 0, \"redraw\": true}, \"fromcurrent\": true, \"mode\": \"immediate\", \"transition\": {\"duration\": 0, \"easing\": \"linear\"}}], \"label\": \"2020-07-07\", \"method\": \"animate\"}, {\"args\": [[\"2020-07-08\"], {\"frame\": {\"duration\": 0, \"redraw\": true}, \"fromcurrent\": true, \"mode\": \"immediate\", \"transition\": {\"duration\": 0, \"easing\": \"linear\"}}], \"label\": \"2020-07-08\", \"method\": \"animate\"}, {\"args\": [[\"2020-07-09\"], {\"frame\": {\"duration\": 0, \"redraw\": true}, \"fromcurrent\": true, \"mode\": \"immediate\", \"transition\": {\"duration\": 0, \"easing\": \"linear\"}}], \"label\": \"2020-07-09\", \"method\": \"animate\"}, {\"args\": [[\"2020-07-10\"], {\"frame\": {\"duration\": 0, \"redraw\": true}, \"fromcurrent\": true, \"mode\": \"immediate\", \"transition\": {\"duration\": 0, \"easing\": \"linear\"}}], \"label\": \"2020-07-10\", \"method\": \"animate\"}, {\"args\": [[\"2020-07-11\"], {\"frame\": {\"duration\": 0, \"redraw\": true}, \"fromcurrent\": true, \"mode\": \"immediate\", \"transition\": {\"duration\": 0, \"easing\": \"linear\"}}], \"label\": \"2020-07-11\", \"method\": \"animate\"}, {\"args\": [[\"2020-07-12\"], {\"frame\": {\"duration\": 0, \"redraw\": true}, \"fromcurrent\": true, \"mode\": \"immediate\", \"transition\": {\"duration\": 0, \"easing\": \"linear\"}}], \"label\": \"2020-07-12\", \"method\": \"animate\"}, {\"args\": [[\"2020-07-13\"], {\"frame\": {\"duration\": 0, \"redraw\": true}, \"fromcurrent\": true, \"mode\": \"immediate\", \"transition\": {\"duration\": 0, \"easing\": \"linear\"}}], \"label\": \"2020-07-13\", \"method\": \"animate\"}, {\"args\": [[\"2020-07-14\"], {\"frame\": {\"duration\": 0, \"redraw\": true}, \"fromcurrent\": true, \"mode\": \"immediate\", \"transition\": {\"duration\": 0, \"easing\": \"linear\"}}], \"label\": \"2020-07-14\", \"method\": \"animate\"}, {\"args\": [[\"2020-07-15\"], {\"frame\": {\"duration\": 0, \"redraw\": true}, \"fromcurrent\": true, \"mode\": \"immediate\", \"transition\": {\"duration\": 0, \"easing\": \"linear\"}}], \"label\": \"2020-07-15\", \"method\": \"animate\"}, {\"args\": [[\"2020-07-16\"], {\"frame\": {\"duration\": 0, \"redraw\": true}, \"fromcurrent\": true, \"mode\": \"immediate\", \"transition\": {\"duration\": 0, \"easing\": \"linear\"}}], \"label\": \"2020-07-16\", \"method\": \"animate\"}, {\"args\": [[\"2020-07-17\"], {\"frame\": {\"duration\": 0, \"redraw\": true}, \"fromcurrent\": true, \"mode\": \"immediate\", \"transition\": {\"duration\": 0, \"easing\": \"linear\"}}], \"label\": \"2020-07-17\", \"method\": \"animate\"}, {\"args\": [[\"2020-07-18\"], {\"frame\": {\"duration\": 0, \"redraw\": true}, \"fromcurrent\": true, \"mode\": \"immediate\", \"transition\": {\"duration\": 0, \"easing\": \"linear\"}}], \"label\": \"2020-07-18\", \"method\": \"animate\"}, {\"args\": [[\"2020-07-19\"], {\"frame\": {\"duration\": 0, \"redraw\": true}, \"fromcurrent\": true, \"mode\": \"immediate\", \"transition\": {\"duration\": 0, \"easing\": \"linear\"}}], \"label\": \"2020-07-19\", \"method\": \"animate\"}, {\"args\": [[\"2020-07-20\"], {\"frame\": {\"duration\": 0, \"redraw\": true}, \"fromcurrent\": true, \"mode\": \"immediate\", \"transition\": {\"duration\": 0, \"easing\": \"linear\"}}], \"label\": \"2020-07-20\", \"method\": \"animate\"}, {\"args\": [[\"2020-07-21\"], {\"frame\": {\"duration\": 0, \"redraw\": true}, \"fromcurrent\": true, \"mode\": \"immediate\", \"transition\": {\"duration\": 0, \"easing\": \"linear\"}}], \"label\": \"2020-07-21\", \"method\": \"animate\"}, {\"args\": [[\"2020-07-22\"], {\"frame\": {\"duration\": 0, \"redraw\": true}, \"fromcurrent\": true, \"mode\": \"immediate\", \"transition\": {\"duration\": 0, \"easing\": \"linear\"}}], \"label\": \"2020-07-22\", \"method\": \"animate\"}, {\"args\": [[\"2020-07-23\"], {\"frame\": {\"duration\": 0, \"redraw\": true}, \"fromcurrent\": true, \"mode\": \"immediate\", \"transition\": {\"duration\": 0, \"easing\": \"linear\"}}], \"label\": \"2020-07-23\", \"method\": \"animate\"}, {\"args\": [[\"2020-07-24\"], {\"frame\": {\"duration\": 0, \"redraw\": true}, \"fromcurrent\": true, \"mode\": \"immediate\", \"transition\": {\"duration\": 0, \"easing\": \"linear\"}}], \"label\": \"2020-07-24\", \"method\": \"animate\"}, {\"args\": [[\"2020-07-25\"], {\"frame\": {\"duration\": 0, \"redraw\": true}, \"fromcurrent\": true, \"mode\": \"immediate\", \"transition\": {\"duration\": 0, \"easing\": \"linear\"}}], \"label\": \"2020-07-25\", \"method\": \"animate\"}, {\"args\": [[\"2020-07-26\"], {\"frame\": {\"duration\": 0, \"redraw\": true}, \"fromcurrent\": true, \"mode\": \"immediate\", \"transition\": {\"duration\": 0, \"easing\": \"linear\"}}], \"label\": \"2020-07-26\", \"method\": \"animate\"}, {\"args\": [[\"2020-07-27\"], {\"frame\": {\"duration\": 0, \"redraw\": true}, \"fromcurrent\": true, \"mode\": \"immediate\", \"transition\": {\"duration\": 0, \"easing\": \"linear\"}}], \"label\": \"2020-07-27\", \"method\": \"animate\"}, {\"args\": [[\"2020-07-28\"], {\"frame\": {\"duration\": 0, \"redraw\": true}, \"fromcurrent\": true, \"mode\": \"immediate\", \"transition\": {\"duration\": 0, \"easing\": \"linear\"}}], \"label\": \"2020-07-28\", \"method\": \"animate\"}, {\"args\": [[\"2020-07-29\"], {\"frame\": {\"duration\": 0, \"redraw\": true}, \"fromcurrent\": true, \"mode\": \"immediate\", \"transition\": {\"duration\": 0, \"easing\": \"linear\"}}], \"label\": \"2020-07-29\", \"method\": \"animate\"}, {\"args\": [[\"2020-07-30\"], {\"frame\": {\"duration\": 0, \"redraw\": true}, \"fromcurrent\": true, \"mode\": \"immediate\", \"transition\": {\"duration\": 0, \"easing\": \"linear\"}}], \"label\": \"2020-07-30\", \"method\": \"animate\"}, {\"args\": [[\"2020-07-31\"], {\"frame\": {\"duration\": 0, \"redraw\": true}, \"fromcurrent\": true, \"mode\": \"immediate\", \"transition\": {\"duration\": 0, \"easing\": \"linear\"}}], \"label\": \"2020-07-31\", \"method\": \"animate\"}, {\"args\": [[\"2020-08-01\"], {\"frame\": {\"duration\": 0, \"redraw\": true}, \"fromcurrent\": true, \"mode\": \"immediate\", \"transition\": {\"duration\": 0, \"easing\": \"linear\"}}], \"label\": \"2020-08-01\", \"method\": \"animate\"}, {\"args\": [[\"2020-08-02\"], {\"frame\": {\"duration\": 0, \"redraw\": true}, \"fromcurrent\": true, \"mode\": \"immediate\", \"transition\": {\"duration\": 0, \"easing\": \"linear\"}}], \"label\": \"2020-08-02\", \"method\": \"animate\"}, {\"args\": [[\"2020-08-03\"], {\"frame\": {\"duration\": 0, \"redraw\": true}, \"fromcurrent\": true, \"mode\": \"immediate\", \"transition\": {\"duration\": 0, \"easing\": \"linear\"}}], \"label\": \"2020-08-03\", \"method\": \"animate\"}, {\"args\": [[\"2020-08-04\"], {\"frame\": {\"duration\": 0, \"redraw\": true}, \"fromcurrent\": true, \"mode\": \"immediate\", \"transition\": {\"duration\": 0, \"easing\": \"linear\"}}], \"label\": \"2020-08-04\", \"method\": \"animate\"}, {\"args\": [[\"2020-08-05\"], {\"frame\": {\"duration\": 0, \"redraw\": true}, \"fromcurrent\": true, \"mode\": \"immediate\", \"transition\": {\"duration\": 0, \"easing\": \"linear\"}}], \"label\": \"2020-08-05\", \"method\": \"animate\"}, {\"args\": [[\"2020-08-06\"], {\"frame\": {\"duration\": 0, \"redraw\": true}, \"fromcurrent\": true, \"mode\": \"immediate\", \"transition\": {\"duration\": 0, \"easing\": \"linear\"}}], \"label\": \"2020-08-06\", \"method\": \"animate\"}, {\"args\": [[\"2020-08-07\"], {\"frame\": {\"duration\": 0, \"redraw\": true}, \"fromcurrent\": true, \"mode\": \"immediate\", \"transition\": {\"duration\": 0, \"easing\": \"linear\"}}], \"label\": \"2020-08-07\", \"method\": \"animate\"}, {\"args\": [[\"2020-08-08\"], {\"frame\": {\"duration\": 0, \"redraw\": true}, \"fromcurrent\": true, \"mode\": \"immediate\", \"transition\": {\"duration\": 0, \"easing\": \"linear\"}}], \"label\": \"2020-08-08\", \"method\": \"animate\"}, {\"args\": [[\"2020-08-09\"], {\"frame\": {\"duration\": 0, \"redraw\": true}, \"fromcurrent\": true, \"mode\": \"immediate\", \"transition\": {\"duration\": 0, \"easing\": \"linear\"}}], \"label\": \"2020-08-09\", \"method\": \"animate\"}, {\"args\": [[\"2020-08-10\"], {\"frame\": {\"duration\": 0, \"redraw\": true}, \"fromcurrent\": true, \"mode\": \"immediate\", \"transition\": {\"duration\": 0, \"easing\": \"linear\"}}], \"label\": \"2020-08-10\", \"method\": \"animate\"}, {\"args\": [[\"2020-08-11\"], {\"frame\": {\"duration\": 0, \"redraw\": true}, \"fromcurrent\": true, \"mode\": \"immediate\", \"transition\": {\"duration\": 0, \"easing\": \"linear\"}}], \"label\": \"2020-08-11\", \"method\": \"animate\"}, {\"args\": [[\"2020-08-12\"], {\"frame\": {\"duration\": 0, \"redraw\": true}, \"fromcurrent\": true, \"mode\": \"immediate\", \"transition\": {\"duration\": 0, \"easing\": \"linear\"}}], \"label\": \"2020-08-12\", \"method\": \"animate\"}, {\"args\": [[\"2020-08-13\"], {\"frame\": {\"duration\": 0, \"redraw\": true}, \"fromcurrent\": true, \"mode\": \"immediate\", \"transition\": {\"duration\": 0, \"easing\": \"linear\"}}], \"label\": \"2020-08-13\", \"method\": \"animate\"}, {\"args\": [[\"2020-08-14\"], {\"frame\": {\"duration\": 0, \"redraw\": true}, \"fromcurrent\": true, \"mode\": \"immediate\", \"transition\": {\"duration\": 0, \"easing\": \"linear\"}}], \"label\": \"2020-08-14\", \"method\": \"animate\"}, {\"args\": [[\"2020-08-15\"], {\"frame\": {\"duration\": 0, \"redraw\": true}, \"fromcurrent\": true, \"mode\": \"immediate\", \"transition\": {\"duration\": 0, \"easing\": \"linear\"}}], \"label\": \"2020-08-15\", \"method\": \"animate\"}, {\"args\": [[\"2020-08-16\"], {\"frame\": {\"duration\": 0, \"redraw\": true}, \"fromcurrent\": true, \"mode\": \"immediate\", \"transition\": {\"duration\": 0, \"easing\": \"linear\"}}], \"label\": \"2020-08-16\", \"method\": \"animate\"}, {\"args\": [[\"2020-08-17\"], {\"frame\": {\"duration\": 0, \"redraw\": true}, \"fromcurrent\": true, \"mode\": \"immediate\", \"transition\": {\"duration\": 0, \"easing\": \"linear\"}}], \"label\": \"2020-08-17\", \"method\": \"animate\"}, {\"args\": [[\"2020-08-18\"], {\"frame\": {\"duration\": 0, \"redraw\": true}, \"fromcurrent\": true, \"mode\": \"immediate\", \"transition\": {\"duration\": 0, \"easing\": \"linear\"}}], \"label\": \"2020-08-18\", \"method\": \"animate\"}, {\"args\": [[\"2020-08-19\"], {\"frame\": {\"duration\": 0, \"redraw\": true}, \"fromcurrent\": true, \"mode\": \"immediate\", \"transition\": {\"duration\": 0, \"easing\": \"linear\"}}], \"label\": \"2020-08-19\", \"method\": \"animate\"}, {\"args\": [[\"2020-08-20\"], {\"frame\": {\"duration\": 0, \"redraw\": true}, \"fromcurrent\": true, \"mode\": \"immediate\", \"transition\": {\"duration\": 0, \"easing\": \"linear\"}}], \"label\": \"2020-08-20\", \"method\": \"animate\"}, {\"args\": [[\"2020-08-21\"], {\"frame\": {\"duration\": 0, \"redraw\": true}, \"fromcurrent\": true, \"mode\": \"immediate\", \"transition\": {\"duration\": 0, \"easing\": \"linear\"}}], \"label\": \"2020-08-21\", \"method\": \"animate\"}, {\"args\": [[\"2020-08-22\"], {\"frame\": {\"duration\": 0, \"redraw\": true}, \"fromcurrent\": true, \"mode\": \"immediate\", \"transition\": {\"duration\": 0, \"easing\": \"linear\"}}], \"label\": \"2020-08-22\", \"method\": \"animate\"}, {\"args\": [[\"2020-08-23\"], {\"frame\": {\"duration\": 0, \"redraw\": true}, \"fromcurrent\": true, \"mode\": \"immediate\", \"transition\": {\"duration\": 0, \"easing\": \"linear\"}}], \"label\": \"2020-08-23\", \"method\": \"animate\"}, {\"args\": [[\"2020-08-24\"], {\"frame\": {\"duration\": 0, \"redraw\": true}, \"fromcurrent\": true, \"mode\": \"immediate\", \"transition\": {\"duration\": 0, \"easing\": \"linear\"}}], \"label\": \"2020-08-24\", \"method\": \"animate\"}, {\"args\": [[\"2020-08-25\"], {\"frame\": {\"duration\": 0, \"redraw\": true}, \"fromcurrent\": true, \"mode\": \"immediate\", \"transition\": {\"duration\": 0, \"easing\": \"linear\"}}], \"label\": \"2020-08-25\", \"method\": \"animate\"}, {\"args\": [[\"2020-08-26\"], {\"frame\": {\"duration\": 0, \"redraw\": true}, \"fromcurrent\": true, \"mode\": \"immediate\", \"transition\": {\"duration\": 0, \"easing\": \"linear\"}}], \"label\": \"2020-08-26\", \"method\": \"animate\"}, {\"args\": [[\"2020-08-27\"], {\"frame\": {\"duration\": 0, \"redraw\": true}, \"fromcurrent\": true, \"mode\": \"immediate\", \"transition\": {\"duration\": 0, \"easing\": \"linear\"}}], \"label\": \"2020-08-27\", \"method\": \"animate\"}, {\"args\": [[\"2020-08-28\"], {\"frame\": {\"duration\": 0, \"redraw\": true}, \"fromcurrent\": true, \"mode\": \"immediate\", \"transition\": {\"duration\": 0, \"easing\": \"linear\"}}], \"label\": \"2020-08-28\", \"method\": \"animate\"}, {\"args\": [[\"2020-08-29\"], {\"frame\": {\"duration\": 0, \"redraw\": true}, \"fromcurrent\": true, \"mode\": \"immediate\", \"transition\": {\"duration\": 0, \"easing\": \"linear\"}}], \"label\": \"2020-08-29\", \"method\": \"animate\"}, {\"args\": [[\"2020-08-30\"], {\"frame\": {\"duration\": 0, \"redraw\": true}, \"fromcurrent\": true, \"mode\": \"immediate\", \"transition\": {\"duration\": 0, \"easing\": \"linear\"}}], \"label\": \"2020-08-30\", \"method\": \"animate\"}, {\"args\": [[\"2020-08-31\"], {\"frame\": {\"duration\": 0, \"redraw\": true}, \"fromcurrent\": true, \"mode\": \"immediate\", \"transition\": {\"duration\": 0, \"easing\": \"linear\"}}], \"label\": \"2020-08-31\", \"method\": \"animate\"}], \"x\": 0.1, \"xanchor\": \"left\", \"y\": 0, \"yanchor\": \"top\"}], \"template\": {\"data\": {\"bar\": [{\"error_x\": {\"color\": \"#2a3f5f\"}, \"error_y\": {\"color\": \"#2a3f5f\"}, \"marker\": {\"line\": {\"color\": \"#E5ECF6\", \"width\": 0.5}}, \"type\": \"bar\"}], \"barpolar\": [{\"marker\": {\"line\": {\"color\": \"#E5ECF6\", \"width\": 0.5}}, \"type\": \"barpolar\"}], \"carpet\": [{\"aaxis\": {\"endlinecolor\": \"#2a3f5f\", \"gridcolor\": \"white\", \"linecolor\": \"white\", \"minorgridcolor\": \"white\", \"startlinecolor\": \"#2a3f5f\"}, \"baxis\": {\"endlinecolor\": \"#2a3f5f\", \"gridcolor\": \"white\", \"linecolor\": \"white\", \"minorgridcolor\": \"white\", \"startlinecolor\": \"#2a3f5f\"}, \"type\": \"carpet\"}], \"choropleth\": [{\"colorbar\": {\"outlinewidth\": 0, \"ticks\": \"\"}, \"type\": \"choropleth\"}], \"contour\": [{\"colorbar\": {\"outlinewidth\": 0, \"ticks\": \"\"}, \"colorscale\": [[0.0, \"#0d0887\"], [0.1111111111111111, \"#46039f\"], [0.2222222222222222, \"#7201a8\"], [0.3333333333333333, \"#9c179e\"], [0.4444444444444444, \"#bd3786\"], [0.5555555555555556, \"#d8576b\"], [0.6666666666666666, \"#ed7953\"], [0.7777777777777778, \"#fb9f3a\"], [0.8888888888888888, \"#fdca26\"], [1.0, \"#f0f921\"]], \"type\": \"contour\"}], \"contourcarpet\": [{\"colorbar\": {\"outlinewidth\": 0, \"ticks\": \"\"}, \"type\": \"contourcarpet\"}], \"heatmap\": [{\"colorbar\": {\"outlinewidth\": 0, \"ticks\": \"\"}, \"colorscale\": [[0.0, \"#0d0887\"], [0.1111111111111111, \"#46039f\"], [0.2222222222222222, \"#7201a8\"], [0.3333333333333333, \"#9c179e\"], [0.4444444444444444, \"#bd3786\"], [0.5555555555555556, \"#d8576b\"], [0.6666666666666666, \"#ed7953\"], [0.7777777777777778, \"#fb9f3a\"], [0.8888888888888888, \"#fdca26\"], [1.0, \"#f0f921\"]], \"type\": \"heatmap\"}], \"heatmapgl\": [{\"colorbar\": {\"outlinewidth\": 0, \"ticks\": \"\"}, \"colorscale\": [[0.0, \"#0d0887\"], [0.1111111111111111, \"#46039f\"], [0.2222222222222222, \"#7201a8\"], [0.3333333333333333, \"#9c179e\"], [0.4444444444444444, \"#bd3786\"], [0.5555555555555556, \"#d8576b\"], [0.6666666666666666, \"#ed7953\"], [0.7777777777777778, \"#fb9f3a\"], [0.8888888888888888, \"#fdca26\"], [1.0, \"#f0f921\"]], \"type\": \"heatmapgl\"}], \"histogram\": [{\"marker\": {\"colorbar\": {\"outlinewidth\": 0, \"ticks\": \"\"}}, \"type\": \"histogram\"}], \"histogram2d\": [{\"colorbar\": {\"outlinewidth\": 0, \"ticks\": \"\"}, \"colorscale\": [[0.0, \"#0d0887\"], [0.1111111111111111, \"#46039f\"], [0.2222222222222222, \"#7201a8\"], [0.3333333333333333, \"#9c179e\"], [0.4444444444444444, \"#bd3786\"], [0.5555555555555556, \"#d8576b\"], [0.6666666666666666, \"#ed7953\"], [0.7777777777777778, \"#fb9f3a\"], [0.8888888888888888, \"#fdca26\"], [1.0, \"#f0f921\"]], \"type\": \"histogram2d\"}], \"histogram2dcontour\": [{\"colorbar\": {\"outlinewidth\": 0, \"ticks\": \"\"}, \"colorscale\": [[0.0, \"#0d0887\"], [0.1111111111111111, \"#46039f\"], [0.2222222222222222, \"#7201a8\"], [0.3333333333333333, \"#9c179e\"], [0.4444444444444444, \"#bd3786\"], [0.5555555555555556, \"#d8576b\"], [0.6666666666666666, \"#ed7953\"], [0.7777777777777778, \"#fb9f3a\"], [0.8888888888888888, \"#fdca26\"], [1.0, \"#f0f921\"]], \"type\": \"histogram2dcontour\"}], \"mesh3d\": [{\"colorbar\": {\"outlinewidth\": 0, \"ticks\": \"\"}, \"type\": \"mesh3d\"}], \"parcoords\": [{\"line\": {\"colorbar\": {\"outlinewidth\": 0, \"ticks\": \"\"}}, \"type\": \"parcoords\"}], \"pie\": [{\"automargin\": true, \"type\": \"pie\"}], \"scatter\": [{\"marker\": {\"colorbar\": {\"outlinewidth\": 0, \"ticks\": \"\"}}, \"type\": \"scatter\"}], \"scatter3d\": [{\"line\": {\"colorbar\": {\"outlinewidth\": 0, \"ticks\": \"\"}}, \"marker\": {\"colorbar\": {\"outlinewidth\": 0, \"ticks\": \"\"}}, \"type\": \"scatter3d\"}], \"scattercarpet\": [{\"marker\": {\"colorbar\": {\"outlinewidth\": 0, \"ticks\": \"\"}}, \"type\": \"scattercarpet\"}], \"scattergeo\": [{\"marker\": {\"colorbar\": {\"outlinewidth\": 0, \"ticks\": \"\"}}, \"type\": \"scattergeo\"}], \"scattergl\": [{\"marker\": {\"colorbar\": {\"outlinewidth\": 0, \"ticks\": \"\"}}, \"type\": \"scattergl\"}], \"scattermapbox\": [{\"marker\": {\"colorbar\": {\"outlinewidth\": 0, \"ticks\": \"\"}}, \"type\": \"scattermapbox\"}], \"scatterpolar\": [{\"marker\": {\"colorbar\": {\"outlinewidth\": 0, \"ticks\": \"\"}}, \"type\": \"scatterpolar\"}], \"scatterpolargl\": [{\"marker\": {\"colorbar\": {\"outlinewidth\": 0, \"ticks\": \"\"}}, \"type\": \"scatterpolargl\"}], \"scatterternary\": [{\"marker\": {\"colorbar\": {\"outlinewidth\": 0, \"ticks\": \"\"}}, \"type\": \"scatterternary\"}], \"surface\": [{\"colorbar\": {\"outlinewidth\": 0, \"ticks\": \"\"}, \"colorscale\": [[0.0, \"#0d0887\"], [0.1111111111111111, \"#46039f\"], [0.2222222222222222, \"#7201a8\"], [0.3333333333333333, \"#9c179e\"], [0.4444444444444444, \"#bd3786\"], [0.5555555555555556, \"#d8576b\"], [0.6666666666666666, \"#ed7953\"], [0.7777777777777778, \"#fb9f3a\"], [0.8888888888888888, \"#fdca26\"], [1.0, \"#f0f921\"]], \"type\": \"surface\"}], \"table\": [{\"cells\": {\"fill\": {\"color\": \"#EBF0F8\"}, \"line\": {\"color\": \"white\"}}, \"header\": {\"fill\": {\"color\": \"#C8D4E3\"}, \"line\": {\"color\": \"white\"}}, \"type\": \"table\"}]}, \"layout\": {\"annotationdefaults\": {\"arrowcolor\": \"#2a3f5f\", \"arrowhead\": 0, \"arrowwidth\": 1}, \"coloraxis\": {\"colorbar\": {\"outlinewidth\": 0, \"ticks\": \"\"}}, \"colorscale\": {\"diverging\": [[0, \"#8e0152\"], [0.1, \"#c51b7d\"], [0.2, \"#de77ae\"], [0.3, \"#f1b6da\"], [0.4, \"#fde0ef\"], [0.5, \"#f7f7f7\"], [0.6, \"#e6f5d0\"], [0.7, \"#b8e186\"], [0.8, \"#7fbc41\"], [0.9, \"#4d9221\"], [1, \"#276419\"]], \"sequential\": [[0.0, \"#0d0887\"], [0.1111111111111111, \"#46039f\"], [0.2222222222222222, \"#7201a8\"], [0.3333333333333333, \"#9c179e\"], [0.4444444444444444, \"#bd3786\"], [0.5555555555555556, \"#d8576b\"], [0.6666666666666666, \"#ed7953\"], [0.7777777777777778, \"#fb9f3a\"], [0.8888888888888888, \"#fdca26\"], [1.0, \"#f0f921\"]], \"sequentialminus\": [[0.0, \"#0d0887\"], [0.1111111111111111, \"#46039f\"], [0.2222222222222222, \"#7201a8\"], [0.3333333333333333, \"#9c179e\"], [0.4444444444444444, \"#bd3786\"], [0.5555555555555556, \"#d8576b\"], [0.6666666666666666, \"#ed7953\"], [0.7777777777777778, \"#fb9f3a\"], [0.8888888888888888, \"#fdca26\"], [1.0, \"#f0f921\"]]}, \"colorway\": [\"#636efa\", \"#EF553B\", \"#00cc96\", \"#ab63fa\", \"#FFA15A\", \"#19d3f3\", \"#FF6692\", \"#B6E880\", \"#FF97FF\", \"#FECB52\"], \"font\": {\"color\": \"#2a3f5f\"}, \"geo\": {\"bgcolor\": \"white\", \"lakecolor\": \"white\", \"landcolor\": \"#E5ECF6\", \"showlakes\": true, \"showland\": true, \"subunitcolor\": \"white\"}, \"hoverlabel\": {\"align\": \"left\"}, \"hovermode\": \"closest\", \"mapbox\": {\"style\": \"light\"}, \"paper_bgcolor\": \"white\", \"plot_bgcolor\": \"#E5ECF6\", \"polar\": {\"angularaxis\": {\"gridcolor\": \"white\", \"linecolor\": \"white\", \"ticks\": \"\"}, \"bgcolor\": \"#E5ECF6\", \"radialaxis\": {\"gridcolor\": \"white\", \"linecolor\": \"white\", \"ticks\": \"\"}}, \"scene\": {\"xaxis\": {\"backgroundcolor\": \"#E5ECF6\", \"gridcolor\": \"white\", \"gridwidth\": 2, \"linecolor\": \"white\", \"showbackground\": true, \"ticks\": \"\", \"zerolinecolor\": \"white\"}, \"yaxis\": {\"backgroundcolor\": \"#E5ECF6\", \"gridcolor\": \"white\", \"gridwidth\": 2, \"linecolor\": \"white\", \"showbackground\": true, \"ticks\": \"\", \"zerolinecolor\": \"white\"}, \"zaxis\": {\"backgroundcolor\": \"#E5ECF6\", \"gridcolor\": \"white\", \"gridwidth\": 2, \"linecolor\": \"white\", \"showbackground\": true, \"ticks\": \"\", \"zerolinecolor\": \"white\"}}, \"shapedefaults\": {\"line\": {\"color\": \"#2a3f5f\"}}, \"ternary\": {\"aaxis\": {\"gridcolor\": \"white\", \"linecolor\": \"white\", \"ticks\": \"\"}, \"baxis\": {\"gridcolor\": \"white\", \"linecolor\": \"white\", \"ticks\": \"\"}, \"bgcolor\": \"#E5ECF6\", \"caxis\": {\"gridcolor\": \"white\", \"linecolor\": \"white\", \"ticks\": \"\"}}, \"title\": {\"x\": 0.05}, \"xaxis\": {\"automargin\": true, \"gridcolor\": \"white\", \"linecolor\": \"white\", \"ticks\": \"\", \"title\": {\"standoff\": 15}, \"zerolinecolor\": \"white\", \"zerolinewidth\": 2}, \"yaxis\": {\"automargin\": true, \"gridcolor\": \"white\", \"linecolor\": \"white\", \"ticks\": \"\", \"title\": {\"standoff\": 15}, \"zerolinecolor\": \"white\", \"zerolinewidth\": 2}}}, \"title\": {\"text\": \"Temperaturverlauf am 2020-07-01 in Darmstadt\"}, \"updatemenus\": [{\"buttons\": [{\"args\": [null, {\"frame\": {\"duration\": 500, \"redraw\": true}, \"fromcurrent\": true, \"mode\": \"immediate\", \"transition\": {\"duration\": 500, \"easing\": \"linear\"}}], \"label\": \"&#9654;\", \"method\": \"animate\"}, {\"args\": [[null], {\"frame\": {\"duration\": 0, \"redraw\": true}, \"fromcurrent\": true, \"mode\": \"immediate\", \"transition\": {\"duration\": 0, \"easing\": \"linear\"}}], \"label\": \"&#9724;\", \"method\": \"animate\"}], \"direction\": \"left\", \"pad\": {\"r\": 10, \"t\": 70}, \"showactive\": false, \"type\": \"buttons\", \"x\": 0.1, \"xanchor\": \"right\", \"y\": 0, \"yanchor\": \"top\"}], \"xaxis\": {\"anchor\": \"y\", \"domain\": [0.0, 1.0], \"title\": {\"text\": \"date\"}}, \"yaxis\": {\"anchor\": \"x\", \"domain\": [0.0, 1.0], \"title\": {\"text\": \"temperature\"}}},                        {\"responsive\": true}                    ).then(function(){\n",
       "                            Plotly.addFrames('fba9d30d-dfd4-4132-b290-f78e99dfe174', [{\"data\": [{\"alignmentgroup\": \"True\", \"customdata\": [[917, \"Darmstadt\"], [917, \"Darmstadt\"], [917, \"Darmstadt\"], [917, \"Darmstadt\"], [917, \"Darmstadt\"], [917, \"Darmstadt\"], [917, \"Darmstadt\"], [917, \"Darmstadt\"], [917, \"Darmstadt\"], [917, \"Darmstadt\"], [917, \"Darmstadt\"], [917, \"Darmstadt\"], [917, \"Darmstadt\"], [917, \"Darmstadt\"], [917, \"Darmstadt\"], [917, \"Darmstadt\"], [917, \"Darmstadt\"], [917, \"Darmstadt\"], [917, \"Darmstadt\"], [917, \"Darmstadt\"], [917, \"Darmstadt\"], [917, \"Darmstadt\"], [917, \"Darmstadt\"], [917, \"Darmstadt\"]], \"hovertemplate\": \"date2=2020-07-01<br>date=%{x}<br>temperature=%{marker.color}<br>station_id=%{customdata[0]}<br>STATION_NAME=%{customdata[1]}<extra></extra>\", \"legendgroup\": \"\", \"marker\": {\"color\": [17.0, 16.8, 16.4, 16.0, 15.3, 16.4, 18.3, 19.5, 20.6, 23.3, 23.8, 25.8, 27.6, 28.3, 28.2, 28.0, 27.2, 25.5, 24.7, 24.5, 22.7, 21.9, 21.0, 21.1], \"coloraxis\": \"coloraxis\"}, \"name\": \"\", \"offsetgroup\": \"\", \"orientation\": \"v\", \"showlegend\": false, \"textposition\": \"auto\", \"x\": [\"2020-07-01T00:00:00\", \"2020-07-01T01:00:00\", \"2020-07-01T02:00:00\", \"2020-07-01T03:00:00\", \"2020-07-01T04:00:00\", \"2020-07-01T05:00:00\", \"2020-07-01T06:00:00\", \"2020-07-01T07:00:00\", \"2020-07-01T08:00:00\", \"2020-07-01T09:00:00\", \"2020-07-01T10:00:00\", \"2020-07-01T11:00:00\", \"2020-07-01T12:00:00\", \"2020-07-01T13:00:00\", \"2020-07-01T14:00:00\", \"2020-07-01T15:00:00\", \"2020-07-01T16:00:00\", \"2020-07-01T17:00:00\", \"2020-07-01T18:00:00\", \"2020-07-01T19:00:00\", \"2020-07-01T20:00:00\", \"2020-07-01T21:00:00\", \"2020-07-01T22:00:00\", \"2020-07-01T23:00:00\"], \"xaxis\": \"x\", \"y\": [17.0, 16.8, 16.4, 16.0, 15.3, 16.4, 18.3, 19.5, 20.6, 23.3, 23.8, 25.8, 27.6, 28.3, 28.2, 28.0, 27.2, 25.5, 24.7, 24.5, 22.7, 21.9, 21.0, 21.1], \"yaxis\": \"y\", \"type\": \"bar\"}], \"name\": \"2020-07-01\"}, {\"data\": [{\"alignmentgroup\": \"True\", \"customdata\": [[917, \"Darmstadt\"], [917, \"Darmstadt\"], [917, \"Darmstadt\"], [917, \"Darmstadt\"], [917, \"Darmstadt\"], [917, \"Darmstadt\"], [917, \"Darmstadt\"], [917, \"Darmstadt\"], [917, \"Darmstadt\"], [917, \"Darmstadt\"], [917, \"Darmstadt\"], [917, \"Darmstadt\"], [917, \"Darmstadt\"], [917, \"Darmstadt\"], [917, \"Darmstadt\"], [917, \"Darmstadt\"], [917, \"Darmstadt\"], [917, \"Darmstadt\"], [917, \"Darmstadt\"], [917, \"Darmstadt\"], [917, \"Darmstadt\"], [917, \"Darmstadt\"], [917, \"Darmstadt\"], [917, \"Darmstadt\"]], \"hovertemplate\": \"date2=2020-07-02<br>date=%{x}<br>temperature=%{marker.color}<br>station_id=%{customdata[0]}<br>STATION_NAME=%{customdata[1]}<extra></extra>\", \"legendgroup\": \"\", \"marker\": {\"color\": [21.4, 18.9, 17.9, 17.3, 16.7, 16.6, 17.7, 18.1, 21.1, 21.9, 24.8, 23.6, 23.3, 25.8, 25.8, 24.2, 24.3, 23.6, 19.8, 17.7, 17.0, 16.5, 16.9, 14.9], \"coloraxis\": \"coloraxis\"}, \"name\": \"\", \"offsetgroup\": \"\", \"orientation\": \"v\", \"showlegend\": false, \"textposition\": \"auto\", \"x\": [\"2020-07-02T00:00:00\", \"2020-07-02T01:00:00\", \"2020-07-02T02:00:00\", \"2020-07-02T03:00:00\", \"2020-07-02T04:00:00\", \"2020-07-02T05:00:00\", \"2020-07-02T06:00:00\", \"2020-07-02T07:00:00\", \"2020-07-02T08:00:00\", \"2020-07-02T09:00:00\", \"2020-07-02T10:00:00\", \"2020-07-02T11:00:00\", \"2020-07-02T12:00:00\", \"2020-07-02T13:00:00\", \"2020-07-02T14:00:00\", \"2020-07-02T15:00:00\", \"2020-07-02T16:00:00\", \"2020-07-02T17:00:00\", \"2020-07-02T18:00:00\", \"2020-07-02T19:00:00\", \"2020-07-02T20:00:00\", \"2020-07-02T21:00:00\", \"2020-07-02T22:00:00\", \"2020-07-02T23:00:00\"], \"xaxis\": \"x\", \"y\": [21.4, 18.9, 17.9, 17.3, 16.7, 16.6, 17.7, 18.1, 21.1, 21.9, 24.8, 23.6, 23.3, 25.8, 25.8, 24.2, 24.3, 23.6, 19.8, 17.7, 17.0, 16.5, 16.9, 14.9], \"yaxis\": \"y\", \"type\": \"bar\"}], \"name\": \"2020-07-02\"}, {\"data\": [{\"alignmentgroup\": \"True\", \"customdata\": [[917, \"Darmstadt\"], [917, \"Darmstadt\"], [917, \"Darmstadt\"], [917, \"Darmstadt\"], [917, \"Darmstadt\"], [917, \"Darmstadt\"], [917, \"Darmstadt\"], [917, \"Darmstadt\"], [917, \"Darmstadt\"], [917, \"Darmstadt\"], [917, \"Darmstadt\"], [917, \"Darmstadt\"], [917, \"Darmstadt\"], [917, \"Darmstadt\"], [917, \"Darmstadt\"], [917, \"Darmstadt\"], [917, \"Darmstadt\"], [917, \"Darmstadt\"], [917, \"Darmstadt\"], [917, \"Darmstadt\"], [917, \"Darmstadt\"], [917, \"Darmstadt\"], [917, \"Darmstadt\"], [917, \"Darmstadt\"]], \"hovertemplate\": \"date2=2020-07-03<br>date=%{x}<br>temperature=%{marker.color}<br>station_id=%{customdata[0]}<br>STATION_NAME=%{customdata[1]}<extra></extra>\", \"legendgroup\": \"\", \"marker\": {\"color\": [15.7, 13.8, 13.4, 11.5, 10.5, 13.0, 15.6, 18.0, 19.2, 20.4, 22.2, 21.3, 22.5, 24.8, 23.0, 24.1, 23.3, 23.2, 22.2, 21.1, 18.1, 15.3, 13.1, 12.1], \"coloraxis\": \"coloraxis\"}, \"name\": \"\", \"offsetgroup\": \"\", \"orientation\": \"v\", \"showlegend\": false, \"textposition\": \"auto\", \"x\": [\"2020-07-03T00:00:00\", \"2020-07-03T01:00:00\", \"2020-07-03T02:00:00\", \"2020-07-03T03:00:00\", \"2020-07-03T04:00:00\", \"2020-07-03T05:00:00\", \"2020-07-03T06:00:00\", \"2020-07-03T07:00:00\", \"2020-07-03T08:00:00\", \"2020-07-03T09:00:00\", \"2020-07-03T10:00:00\", \"2020-07-03T11:00:00\", \"2020-07-03T12:00:00\", \"2020-07-03T13:00:00\", \"2020-07-03T14:00:00\", \"2020-07-03T15:00:00\", \"2020-07-03T16:00:00\", \"2020-07-03T17:00:00\", \"2020-07-03T18:00:00\", \"2020-07-03T19:00:00\", \"2020-07-03T20:00:00\", \"2020-07-03T21:00:00\", \"2020-07-03T22:00:00\", \"2020-07-03T23:00:00\"], \"xaxis\": \"x\", \"y\": [15.7, 13.8, 13.4, 11.5, 10.5, 13.0, 15.6, 18.0, 19.2, 20.4, 22.2, 21.3, 22.5, 24.8, 23.0, 24.1, 23.3, 23.2, 22.2, 21.1, 18.1, 15.3, 13.1, 12.1], \"yaxis\": \"y\", \"type\": \"bar\"}], \"name\": \"2020-07-03\"}, {\"data\": [{\"alignmentgroup\": \"True\", \"customdata\": [[917, \"Darmstadt\"], [917, \"Darmstadt\"], [917, \"Darmstadt\"], [917, \"Darmstadt\"], [917, \"Darmstadt\"], [917, \"Darmstadt\"], [917, \"Darmstadt\"], [917, \"Darmstadt\"], [917, \"Darmstadt\"], [917, \"Darmstadt\"], [917, \"Darmstadt\"], [917, \"Darmstadt\"], [917, \"Darmstadt\"], [917, \"Darmstadt\"], [917, \"Darmstadt\"], [917, \"Darmstadt\"], [917, \"Darmstadt\"], [917, \"Darmstadt\"], [917, \"Darmstadt\"], [917, \"Darmstadt\"], [917, \"Darmstadt\"], [917, \"Darmstadt\"], [917, \"Darmstadt\"], [917, \"Darmstadt\"]], \"hovertemplate\": \"date2=2020-07-04<br>date=%{x}<br>temperature=%{marker.color}<br>station_id=%{customdata[0]}<br>STATION_NAME=%{customdata[1]}<extra></extra>\", \"legendgroup\": \"\", \"marker\": {\"color\": [12.7, 11.7, 10.5, 10.0, 11.0, 14.3, 16.5, 18.6, 20.8, 21.5, 22.4, 23.3, 25.9, 26.5, 26.0, 24.3, 24.9, 25.4, 24.4, 23.3, 22.9, 22.1, 22.0, 21.5], \"coloraxis\": \"coloraxis\"}, \"name\": \"\", \"offsetgroup\": \"\", \"orientation\": \"v\", \"showlegend\": false, \"textposition\": \"auto\", \"x\": [\"2020-07-04T00:00:00\", \"2020-07-04T01:00:00\", \"2020-07-04T02:00:00\", \"2020-07-04T03:00:00\", \"2020-07-04T04:00:00\", \"2020-07-04T05:00:00\", \"2020-07-04T06:00:00\", \"2020-07-04T07:00:00\", \"2020-07-04T08:00:00\", \"2020-07-04T09:00:00\", \"2020-07-04T10:00:00\", \"2020-07-04T11:00:00\", \"2020-07-04T12:00:00\", \"2020-07-04T13:00:00\", \"2020-07-04T14:00:00\", \"2020-07-04T15:00:00\", \"2020-07-04T16:00:00\", \"2020-07-04T17:00:00\", \"2020-07-04T18:00:00\", \"2020-07-04T19:00:00\", \"2020-07-04T20:00:00\", \"2020-07-04T21:00:00\", \"2020-07-04T22:00:00\", \"2020-07-04T23:00:00\"], \"xaxis\": \"x\", \"y\": [12.7, 11.7, 10.5, 10.0, 11.0, 14.3, 16.5, 18.6, 20.8, 21.5, 22.4, 23.3, 25.9, 26.5, 26.0, 24.3, 24.9, 25.4, 24.4, 23.3, 22.9, 22.1, 22.0, 21.5], \"yaxis\": \"y\", \"type\": \"bar\"}], \"name\": \"2020-07-04\"}, {\"data\": [{\"alignmentgroup\": \"True\", \"customdata\": [[917, \"Darmstadt\"], [917, \"Darmstadt\"], [917, \"Darmstadt\"], [917, \"Darmstadt\"], [917, \"Darmstadt\"], [917, \"Darmstadt\"], [917, \"Darmstadt\"], [917, \"Darmstadt\"], [917, \"Darmstadt\"], [917, \"Darmstadt\"], [917, \"Darmstadt\"], [917, \"Darmstadt\"], [917, \"Darmstadt\"], [917, \"Darmstadt\"], [917, \"Darmstadt\"], [917, \"Darmstadt\"], [917, \"Darmstadt\"], [917, \"Darmstadt\"], [917, \"Darmstadt\"], [917, \"Darmstadt\"], [917, \"Darmstadt\"], [917, \"Darmstadt\"], [917, \"Darmstadt\"], [917, \"Darmstadt\"]], \"hovertemplate\": \"date2=2020-07-05<br>date=%{x}<br>temperature=%{marker.color}<br>station_id=%{customdata[0]}<br>STATION_NAME=%{customdata[1]}<extra></extra>\", \"legendgroup\": \"\", \"marker\": {\"color\": [21.2, 21.2, 21.2, 21.0, 20.6, 20.8, 21.0, 21.3, 21.1, 21.8, 24.0, 23.4, 24.0, 25.0, 26.7, 25.4, 26.6, 25.8, 24.4, 24.0, 23.8, 22.7, 21.7, 21.5], \"coloraxis\": \"coloraxis\"}, \"name\": \"\", \"offsetgroup\": \"\", \"orientation\": \"v\", \"showlegend\": false, \"textposition\": \"auto\", \"x\": [\"2020-07-05T00:00:00\", \"2020-07-05T01:00:00\", \"2020-07-05T02:00:00\", \"2020-07-05T03:00:00\", \"2020-07-05T04:00:00\", \"2020-07-05T05:00:00\", \"2020-07-05T06:00:00\", \"2020-07-05T07:00:00\", \"2020-07-05T08:00:00\", \"2020-07-05T09:00:00\", \"2020-07-05T10:00:00\", \"2020-07-05T11:00:00\", \"2020-07-05T12:00:00\", \"2020-07-05T13:00:00\", \"2020-07-05T14:00:00\", \"2020-07-05T15:00:00\", \"2020-07-05T16:00:00\", \"2020-07-05T17:00:00\", \"2020-07-05T18:00:00\", \"2020-07-05T19:00:00\", \"2020-07-05T20:00:00\", \"2020-07-05T21:00:00\", \"2020-07-05T22:00:00\", \"2020-07-05T23:00:00\"], \"xaxis\": \"x\", \"y\": [21.2, 21.2, 21.2, 21.0, 20.6, 20.8, 21.0, 21.3, 21.1, 21.8, 24.0, 23.4, 24.0, 25.0, 26.7, 25.4, 26.6, 25.8, 24.4, 24.0, 23.8, 22.7, 21.7, 21.5], \"yaxis\": \"y\", \"type\": \"bar\"}], \"name\": \"2020-07-05\"}, {\"data\": [{\"alignmentgroup\": \"True\", \"customdata\": [[917, \"Darmstadt\"], [917, \"Darmstadt\"], [917, \"Darmstadt\"], [917, \"Darmstadt\"], [917, \"Darmstadt\"], [917, \"Darmstadt\"], [917, \"Darmstadt\"], [917, \"Darmstadt\"], [917, \"Darmstadt\"], [917, \"Darmstadt\"], [917, \"Darmstadt\"], [917, \"Darmstadt\"], [917, \"Darmstadt\"], [917, \"Darmstadt\"], [917, \"Darmstadt\"], [917, \"Darmstadt\"], [917, \"Darmstadt\"], [917, \"Darmstadt\"], [917, \"Darmstadt\"], [917, \"Darmstadt\"], [917, \"Darmstadt\"], [917, \"Darmstadt\"], [917, \"Darmstadt\"], [917, \"Darmstadt\"]], \"hovertemplate\": \"date2=2020-07-06<br>date=%{x}<br>temperature=%{marker.color}<br>station_id=%{customdata[0]}<br>STATION_NAME=%{customdata[1]}<extra></extra>\", \"legendgroup\": \"\", \"marker\": {\"color\": [20.3, 19.9, 19.5, 18.4, 16.4, 14.9, 15.5, 16.1, 16.0, 18.3, 19.8, 18.3, 18.6, 20.2, 21.4, 20.4, 18.9, 18.4, 17.3, 16.8, 14.8, 13.2, 13.0, 10.1], \"coloraxis\": \"coloraxis\"}, \"name\": \"\", \"offsetgroup\": \"\", \"orientation\": \"v\", \"showlegend\": false, \"textposition\": \"auto\", \"x\": [\"2020-07-06T00:00:00\", \"2020-07-06T01:00:00\", \"2020-07-06T02:00:00\", \"2020-07-06T03:00:00\", \"2020-07-06T04:00:00\", \"2020-07-06T05:00:00\", \"2020-07-06T06:00:00\", \"2020-07-06T07:00:00\", \"2020-07-06T08:00:00\", \"2020-07-06T09:00:00\", \"2020-07-06T10:00:00\", \"2020-07-06T11:00:00\", \"2020-07-06T12:00:00\", \"2020-07-06T13:00:00\", \"2020-07-06T14:00:00\", \"2020-07-06T15:00:00\", \"2020-07-06T16:00:00\", \"2020-07-06T17:00:00\", \"2020-07-06T18:00:00\", \"2020-07-06T19:00:00\", \"2020-07-06T20:00:00\", \"2020-07-06T21:00:00\", \"2020-07-06T22:00:00\", \"2020-07-06T23:00:00\"], \"xaxis\": \"x\", \"y\": [20.3, 19.9, 19.5, 18.4, 16.4, 14.9, 15.5, 16.1, 16.0, 18.3, 19.8, 18.3, 18.6, 20.2, 21.4, 20.4, 18.9, 18.4, 17.3, 16.8, 14.8, 13.2, 13.0, 10.1], \"yaxis\": \"y\", \"type\": \"bar\"}], \"name\": \"2020-07-06\"}, {\"data\": [{\"alignmentgroup\": \"True\", \"customdata\": [[917, \"Darmstadt\"], [917, \"Darmstadt\"], [917, \"Darmstadt\"], [917, \"Darmstadt\"], [917, \"Darmstadt\"], [917, \"Darmstadt\"], [917, \"Darmstadt\"], [917, \"Darmstadt\"], [917, \"Darmstadt\"], [917, \"Darmstadt\"], [917, \"Darmstadt\"], [917, \"Darmstadt\"], [917, \"Darmstadt\"], [917, \"Darmstadt\"], [917, \"Darmstadt\"], [917, \"Darmstadt\"], [917, \"Darmstadt\"], [917, \"Darmstadt\"], [917, \"Darmstadt\"], [917, \"Darmstadt\"], [917, \"Darmstadt\"], [917, \"Darmstadt\"], [917, \"Darmstadt\"], [917, \"Darmstadt\"]], \"hovertemplate\": \"date2=2020-07-07<br>date=%{x}<br>temperature=%{marker.color}<br>station_id=%{customdata[0]}<br>STATION_NAME=%{customdata[1]}<extra></extra>\", \"legendgroup\": \"\", \"marker\": {\"color\": [8.6, 7.7, 6.9, 6.2, 5.9, 7.7, 12.9, 15.5, 16.2, 18.1, 18.8, 19.7, 20.5, 20.3, 21.2, 20.9, 21.2, 21.0, 20.0, 19.8, 17.3, 14.3, 13.4, 12.7], \"coloraxis\": \"coloraxis\"}, \"name\": \"\", \"offsetgroup\": \"\", \"orientation\": \"v\", \"showlegend\": false, \"textposition\": \"auto\", \"x\": [\"2020-07-07T00:00:00\", \"2020-07-07T01:00:00\", \"2020-07-07T02:00:00\", \"2020-07-07T03:00:00\", \"2020-07-07T04:00:00\", \"2020-07-07T05:00:00\", \"2020-07-07T06:00:00\", \"2020-07-07T07:00:00\", \"2020-07-07T08:00:00\", \"2020-07-07T09:00:00\", \"2020-07-07T10:00:00\", \"2020-07-07T11:00:00\", \"2020-07-07T12:00:00\", \"2020-07-07T13:00:00\", \"2020-07-07T14:00:00\", \"2020-07-07T15:00:00\", \"2020-07-07T16:00:00\", \"2020-07-07T17:00:00\", \"2020-07-07T18:00:00\", \"2020-07-07T19:00:00\", \"2020-07-07T20:00:00\", \"2020-07-07T21:00:00\", \"2020-07-07T22:00:00\", \"2020-07-07T23:00:00\"], \"xaxis\": \"x\", \"y\": [8.6, 7.7, 6.9, 6.2, 5.9, 7.7, 12.9, 15.5, 16.2, 18.1, 18.8, 19.7, 20.5, 20.3, 21.2, 20.9, 21.2, 21.0, 20.0, 19.8, 17.3, 14.3, 13.4, 12.7], \"yaxis\": \"y\", \"type\": \"bar\"}], \"name\": \"2020-07-07\"}, {\"data\": [{\"alignmentgroup\": \"True\", \"customdata\": [[917, \"Darmstadt\"], [917, \"Darmstadt\"], [917, \"Darmstadt\"], [917, \"Darmstadt\"], [917, \"Darmstadt\"], [917, \"Darmstadt\"], [917, \"Darmstadt\"], [917, \"Darmstadt\"], [917, \"Darmstadt\"], [917, \"Darmstadt\"], [917, \"Darmstadt\"], [917, \"Darmstadt\"], [917, \"Darmstadt\"], [917, \"Darmstadt\"], [917, \"Darmstadt\"], [917, \"Darmstadt\"], [917, \"Darmstadt\"], [917, \"Darmstadt\"], [917, \"Darmstadt\"], [917, \"Darmstadt\"], [917, \"Darmstadt\"], [917, \"Darmstadt\"], [917, \"Darmstadt\"], [917, \"Darmstadt\"]], \"hovertemplate\": \"date2=2020-07-08<br>date=%{x}<br>temperature=%{marker.color}<br>station_id=%{customdata[0]}<br>STATION_NAME=%{customdata[1]}<extra></extra>\", \"legendgroup\": \"\", \"marker\": {\"color\": [13.2, 13.7, 15.1, 15.5, 16.1, 15.4, 15.1, 16.1, 17.6, 17.9, 16.0, 16.1, 16.1, 16.1, 15.7, 15.5, 16.0, 15.9, 15.7, 15.5, 15.2, 15.2, 15.2, 15.2], \"coloraxis\": \"coloraxis\"}, \"name\": \"\", \"offsetgroup\": \"\", \"orientation\": \"v\", \"showlegend\": false, \"textposition\": \"auto\", \"x\": [\"2020-07-08T00:00:00\", \"2020-07-08T01:00:00\", \"2020-07-08T02:00:00\", \"2020-07-08T03:00:00\", \"2020-07-08T04:00:00\", \"2020-07-08T05:00:00\", \"2020-07-08T06:00:00\", \"2020-07-08T07:00:00\", \"2020-07-08T08:00:00\", \"2020-07-08T09:00:00\", \"2020-07-08T10:00:00\", \"2020-07-08T11:00:00\", \"2020-07-08T12:00:00\", \"2020-07-08T13:00:00\", \"2020-07-08T14:00:00\", \"2020-07-08T15:00:00\", \"2020-07-08T16:00:00\", \"2020-07-08T17:00:00\", \"2020-07-08T18:00:00\", \"2020-07-08T19:00:00\", \"2020-07-08T20:00:00\", \"2020-07-08T21:00:00\", \"2020-07-08T22:00:00\", \"2020-07-08T23:00:00\"], \"xaxis\": \"x\", \"y\": [13.2, 13.7, 15.1, 15.5, 16.1, 15.4, 15.1, 16.1, 17.6, 17.9, 16.0, 16.1, 16.1, 16.1, 15.7, 15.5, 16.0, 15.9, 15.7, 15.5, 15.2, 15.2, 15.2, 15.2], \"yaxis\": \"y\", \"type\": \"bar\"}], \"name\": \"2020-07-08\"}, {\"data\": [{\"alignmentgroup\": \"True\", \"customdata\": [[917, \"Darmstadt\"], [917, \"Darmstadt\"], [917, \"Darmstadt\"], [917, \"Darmstadt\"], [917, \"Darmstadt\"], [917, \"Darmstadt\"], [917, \"Darmstadt\"], [917, \"Darmstadt\"], [917, \"Darmstadt\"], [917, \"Darmstadt\"], [917, \"Darmstadt\"], [917, \"Darmstadt\"], [917, \"Darmstadt\"], [917, \"Darmstadt\"], [917, \"Darmstadt\"], [917, \"Darmstadt\"], [917, \"Darmstadt\"], [917, \"Darmstadt\"], [917, \"Darmstadt\"], [917, \"Darmstadt\"], [917, \"Darmstadt\"], [917, \"Darmstadt\"], [917, \"Darmstadt\"], [917, \"Darmstadt\"]], \"hovertemplate\": \"date2=2020-07-09<br>date=%{x}<br>temperature=%{marker.color}<br>station_id=%{customdata[0]}<br>STATION_NAME=%{customdata[1]}<extra></extra>\", \"legendgroup\": \"\", \"marker\": {\"color\": [15.6, 15.6, 15.5, 15.4, 15.3, 16.1, 17.1, 18.7, 20.3, 22.9, 23.9, 25.2, 27.3, 28.1, 29.4, 29.5, 28.4, 29.0, 27.1, 24.2, 21.0, 18.6, 17.5, 16.6], \"coloraxis\": \"coloraxis\"}, \"name\": \"\", \"offsetgroup\": \"\", \"orientation\": \"v\", \"showlegend\": false, \"textposition\": \"auto\", \"x\": [\"2020-07-09T00:00:00\", \"2020-07-09T01:00:00\", \"2020-07-09T02:00:00\", \"2020-07-09T03:00:00\", \"2020-07-09T04:00:00\", \"2020-07-09T05:00:00\", \"2020-07-09T06:00:00\", \"2020-07-09T07:00:00\", \"2020-07-09T08:00:00\", \"2020-07-09T09:00:00\", \"2020-07-09T10:00:00\", \"2020-07-09T11:00:00\", \"2020-07-09T12:00:00\", \"2020-07-09T13:00:00\", \"2020-07-09T14:00:00\", \"2020-07-09T15:00:00\", \"2020-07-09T16:00:00\", \"2020-07-09T17:00:00\", \"2020-07-09T18:00:00\", \"2020-07-09T19:00:00\", \"2020-07-09T20:00:00\", \"2020-07-09T21:00:00\", \"2020-07-09T22:00:00\", \"2020-07-09T23:00:00\"], \"xaxis\": \"x\", \"y\": [15.6, 15.6, 15.5, 15.4, 15.3, 16.1, 17.1, 18.7, 20.3, 22.9, 23.9, 25.2, 27.3, 28.1, 29.4, 29.5, 28.4, 29.0, 27.1, 24.2, 21.0, 18.6, 17.5, 16.6], \"yaxis\": \"y\", \"type\": \"bar\"}], \"name\": \"2020-07-09\"}, {\"data\": [{\"alignmentgroup\": \"True\", \"customdata\": [[917, \"Darmstadt\"], [917, \"Darmstadt\"], [917, \"Darmstadt\"], [917, \"Darmstadt\"], [917, \"Darmstadt\"], [917, \"Darmstadt\"], [917, \"Darmstadt\"], [917, \"Darmstadt\"], [917, \"Darmstadt\"], [917, \"Darmstadt\"], [917, \"Darmstadt\"], [917, \"Darmstadt\"], [917, \"Darmstadt\"], [917, \"Darmstadt\"], [917, \"Darmstadt\"], [917, \"Darmstadt\"], [917, \"Darmstadt\"], [917, \"Darmstadt\"], [917, \"Darmstadt\"], [917, \"Darmstadt\"], [917, \"Darmstadt\"], [917, \"Darmstadt\"], [917, \"Darmstadt\"], [917, \"Darmstadt\"]], \"hovertemplate\": \"date2=2020-07-10<br>date=%{x}<br>temperature=%{marker.color}<br>station_id=%{customdata[0]}<br>STATION_NAME=%{customdata[1]}<extra></extra>\", \"legendgroup\": \"\", \"marker\": {\"color\": [17.2, 15.8, 15.2, 17.4, 21.3, 21.4, 22.5, 23.4, 23.5, 23.1, 22.9, 23.4, 23.0, 23.2, 23.4, 22.3, 21.5, 21.2, 20.1, 19.0, 18.3, 17.4, 17.6, 17.0], \"coloraxis\": \"coloraxis\"}, \"name\": \"\", \"offsetgroup\": \"\", \"orientation\": \"v\", \"showlegend\": false, \"textposition\": \"auto\", \"x\": [\"2020-07-10T00:00:00\", \"2020-07-10T01:00:00\", \"2020-07-10T02:00:00\", \"2020-07-10T03:00:00\", \"2020-07-10T04:00:00\", \"2020-07-10T05:00:00\", \"2020-07-10T06:00:00\", \"2020-07-10T07:00:00\", \"2020-07-10T08:00:00\", \"2020-07-10T09:00:00\", \"2020-07-10T10:00:00\", \"2020-07-10T11:00:00\", \"2020-07-10T12:00:00\", \"2020-07-10T13:00:00\", \"2020-07-10T14:00:00\", \"2020-07-10T15:00:00\", \"2020-07-10T16:00:00\", \"2020-07-10T17:00:00\", \"2020-07-10T18:00:00\", \"2020-07-10T19:00:00\", \"2020-07-10T20:00:00\", \"2020-07-10T21:00:00\", \"2020-07-10T22:00:00\", \"2020-07-10T23:00:00\"], \"xaxis\": \"x\", \"y\": [17.2, 15.8, 15.2, 17.4, 21.3, 21.4, 22.5, 23.4, 23.5, 23.1, 22.9, 23.4, 23.0, 23.2, 23.4, 22.3, 21.5, 21.2, 20.1, 19.0, 18.3, 17.4, 17.6, 17.0], \"yaxis\": \"y\", \"type\": \"bar\"}], \"name\": \"2020-07-10\"}, {\"data\": [{\"alignmentgroup\": \"True\", \"customdata\": [[917, \"Darmstadt\"], [917, \"Darmstadt\"], [917, \"Darmstadt\"], [917, \"Darmstadt\"], [917, \"Darmstadt\"], [917, \"Darmstadt\"], [917, \"Darmstadt\"], [917, \"Darmstadt\"], [917, \"Darmstadt\"], [917, \"Darmstadt\"], [917, \"Darmstadt\"], [917, \"Darmstadt\"], [917, \"Darmstadt\"], [917, \"Darmstadt\"], [917, \"Darmstadt\"], [917, \"Darmstadt\"], [917, \"Darmstadt\"], [917, \"Darmstadt\"], [917, \"Darmstadt\"], [917, \"Darmstadt\"], [917, \"Darmstadt\"], [917, \"Darmstadt\"], [917, \"Darmstadt\"], [917, \"Darmstadt\"]], \"hovertemplate\": \"date2=2020-07-11<br>date=%{x}<br>temperature=%{marker.color}<br>station_id=%{customdata[0]}<br>STATION_NAME=%{customdata[1]}<extra></extra>\", \"legendgroup\": \"\", \"marker\": {\"color\": [14.7, 13.8, 12.3, 11.6, 10.7, 11.5, 13.7, 15.8, 17.8, 18.3, 18.7, 19.1, 19.8, 20.1, 20.0, 20.9, 21.5, 20.0, 19.2, 17.6, 14.1, 11.4, 9.8, 8.9], \"coloraxis\": \"coloraxis\"}, \"name\": \"\", \"offsetgroup\": \"\", \"orientation\": \"v\", \"showlegend\": false, \"textposition\": \"auto\", \"x\": [\"2020-07-11T00:00:00\", \"2020-07-11T01:00:00\", \"2020-07-11T02:00:00\", \"2020-07-11T03:00:00\", \"2020-07-11T04:00:00\", \"2020-07-11T05:00:00\", \"2020-07-11T06:00:00\", \"2020-07-11T07:00:00\", \"2020-07-11T08:00:00\", \"2020-07-11T09:00:00\", \"2020-07-11T10:00:00\", \"2020-07-11T11:00:00\", \"2020-07-11T12:00:00\", \"2020-07-11T13:00:00\", \"2020-07-11T14:00:00\", \"2020-07-11T15:00:00\", \"2020-07-11T16:00:00\", \"2020-07-11T17:00:00\", \"2020-07-11T18:00:00\", \"2020-07-11T19:00:00\", \"2020-07-11T20:00:00\", \"2020-07-11T21:00:00\", \"2020-07-11T22:00:00\", \"2020-07-11T23:00:00\"], \"xaxis\": \"x\", \"y\": [14.7, 13.8, 12.3, 11.6, 10.7, 11.5, 13.7, 15.8, 17.8, 18.3, 18.7, 19.1, 19.8, 20.1, 20.0, 20.9, 21.5, 20.0, 19.2, 17.6, 14.1, 11.4, 9.8, 8.9], \"yaxis\": \"y\", \"type\": \"bar\"}], \"name\": \"2020-07-11\"}, {\"data\": [{\"alignmentgroup\": \"True\", \"customdata\": [[917, \"Darmstadt\"], [917, \"Darmstadt\"], [917, \"Darmstadt\"], [917, \"Darmstadt\"], [917, \"Darmstadt\"], [917, \"Darmstadt\"], [917, \"Darmstadt\"], [917, \"Darmstadt\"], [917, \"Darmstadt\"], [917, \"Darmstadt\"], [917, \"Darmstadt\"], [917, \"Darmstadt\"], [917, \"Darmstadt\"], [917, \"Darmstadt\"], [917, \"Darmstadt\"], [917, \"Darmstadt\"], [917, \"Darmstadt\"], [917, \"Darmstadt\"], [917, \"Darmstadt\"], [917, \"Darmstadt\"], [917, \"Darmstadt\"], [917, \"Darmstadt\"], [917, \"Darmstadt\"], [917, \"Darmstadt\"]], \"hovertemplate\": \"date2=2020-07-12<br>date=%{x}<br>temperature=%{marker.color}<br>station_id=%{customdata[0]}<br>STATION_NAME=%{customdata[1]}<extra></extra>\", \"legendgroup\": \"\", \"marker\": {\"color\": [7.9, 7.6, 7.1, 6.6, 7.3, 9.2, 12.3, 15.1, 17.8, 21.4, 22.0, 22.9, 23.8, 24.0, 24.8, 22.7, 24.4, 23.8, 21.6, 19.2, 15.7, 15.1, 12.9, 11.8], \"coloraxis\": \"coloraxis\"}, \"name\": \"\", \"offsetgroup\": \"\", \"orientation\": \"v\", \"showlegend\": false, \"textposition\": \"auto\", \"x\": [\"2020-07-12T00:00:00\", \"2020-07-12T01:00:00\", \"2020-07-12T02:00:00\", \"2020-07-12T03:00:00\", \"2020-07-12T04:00:00\", \"2020-07-12T05:00:00\", \"2020-07-12T06:00:00\", \"2020-07-12T07:00:00\", \"2020-07-12T08:00:00\", \"2020-07-12T09:00:00\", \"2020-07-12T10:00:00\", \"2020-07-12T11:00:00\", \"2020-07-12T12:00:00\", \"2020-07-12T13:00:00\", \"2020-07-12T14:00:00\", \"2020-07-12T15:00:00\", \"2020-07-12T16:00:00\", \"2020-07-12T17:00:00\", \"2020-07-12T18:00:00\", \"2020-07-12T19:00:00\", \"2020-07-12T20:00:00\", \"2020-07-12T21:00:00\", \"2020-07-12T22:00:00\", \"2020-07-12T23:00:00\"], \"xaxis\": \"x\", \"y\": [7.9, 7.6, 7.1, 6.6, 7.3, 9.2, 12.3, 15.1, 17.8, 21.4, 22.0, 22.9, 23.8, 24.0, 24.8, 22.7, 24.4, 23.8, 21.6, 19.2, 15.7, 15.1, 12.9, 11.8], \"yaxis\": \"y\", \"type\": \"bar\"}], \"name\": \"2020-07-12\"}, {\"data\": [{\"alignmentgroup\": \"True\", \"customdata\": [[917, \"Darmstadt\"], [917, \"Darmstadt\"], [917, \"Darmstadt\"], [917, \"Darmstadt\"], [917, \"Darmstadt\"], [917, \"Darmstadt\"], [917, \"Darmstadt\"], [917, \"Darmstadt\"], [917, \"Darmstadt\"], [917, \"Darmstadt\"], [917, \"Darmstadt\"], [917, \"Darmstadt\"], [917, \"Darmstadt\"], [917, \"Darmstadt\"], [917, \"Darmstadt\"], [917, \"Darmstadt\"], [917, \"Darmstadt\"], [917, \"Darmstadt\"], [917, \"Darmstadt\"], [917, \"Darmstadt\"], [917, \"Darmstadt\"], [917, \"Darmstadt\"], [917, \"Darmstadt\"], [917, \"Darmstadt\"]], \"hovertemplate\": \"date2=2020-07-13<br>date=%{x}<br>temperature=%{marker.color}<br>station_id=%{customdata[0]}<br>STATION_NAME=%{customdata[1]}<extra></extra>\", \"legendgroup\": \"\", \"marker\": {\"color\": [11.2, 11.4, 11.0, 9.9, 9.6, 11.1, 14.2, 17.6, 19.9, 22.8, 24.6, 24.1, 25.8, 26.3, 26.9, 25.1, 27.1, 25.3, 22.5, 20.8, 16.5, 14.4, 12.9, 12.2], \"coloraxis\": \"coloraxis\"}, \"name\": \"\", \"offsetgroup\": \"\", \"orientation\": \"v\", \"showlegend\": false, \"textposition\": \"auto\", \"x\": [\"2020-07-13T00:00:00\", \"2020-07-13T01:00:00\", \"2020-07-13T02:00:00\", \"2020-07-13T03:00:00\", \"2020-07-13T04:00:00\", \"2020-07-13T05:00:00\", \"2020-07-13T06:00:00\", \"2020-07-13T07:00:00\", \"2020-07-13T08:00:00\", \"2020-07-13T09:00:00\", \"2020-07-13T10:00:00\", \"2020-07-13T11:00:00\", \"2020-07-13T12:00:00\", \"2020-07-13T13:00:00\", \"2020-07-13T14:00:00\", \"2020-07-13T15:00:00\", \"2020-07-13T16:00:00\", \"2020-07-13T17:00:00\", \"2020-07-13T18:00:00\", \"2020-07-13T19:00:00\", \"2020-07-13T20:00:00\", \"2020-07-13T21:00:00\", \"2020-07-13T22:00:00\", \"2020-07-13T23:00:00\"], \"xaxis\": \"x\", \"y\": [11.2, 11.4, 11.0, 9.9, 9.6, 11.1, 14.2, 17.6, 19.9, 22.8, 24.6, 24.1, 25.8, 26.3, 26.9, 25.1, 27.1, 25.3, 22.5, 20.8, 16.5, 14.4, 12.9, 12.2], \"yaxis\": \"y\", \"type\": \"bar\"}], \"name\": \"2020-07-13\"}, {\"data\": [{\"alignmentgroup\": \"True\", \"customdata\": [[917, \"Darmstadt\"], [917, \"Darmstadt\"], [917, \"Darmstadt\"], [917, \"Darmstadt\"], [917, \"Darmstadt\"], [917, \"Darmstadt\"], [917, \"Darmstadt\"], [917, \"Darmstadt\"], [917, \"Darmstadt\"], [917, \"Darmstadt\"], [917, \"Darmstadt\"], [917, \"Darmstadt\"], [917, \"Darmstadt\"], [917, \"Darmstadt\"], [917, \"Darmstadt\"], [917, \"Darmstadt\"], [917, \"Darmstadt\"], [917, \"Darmstadt\"], [917, \"Darmstadt\"], [917, \"Darmstadt\"], [917, \"Darmstadt\"], [917, \"Darmstadt\"], [917, \"Darmstadt\"], [917, \"Darmstadt\"]], \"hovertemplate\": \"date2=2020-07-14<br>date=%{x}<br>temperature=%{marker.color}<br>station_id=%{customdata[0]}<br>STATION_NAME=%{customdata[1]}<extra></extra>\", \"legendgroup\": \"\", \"marker\": {\"color\": [11.3, 10.7, 10.4, 10.3, 9.5, 10.3, 14.6, 20.3, 22.9, 24.3, 25.8, 25.3, 26.8, 27.3, 28.5, 26.2, 25.5, 25.0, 24.4, 22.8, 19.7, 18.5, 16.2, 15.3], \"coloraxis\": \"coloraxis\"}, \"name\": \"\", \"offsetgroup\": \"\", \"orientation\": \"v\", \"showlegend\": false, \"textposition\": \"auto\", \"x\": [\"2020-07-14T00:00:00\", \"2020-07-14T01:00:00\", \"2020-07-14T02:00:00\", \"2020-07-14T03:00:00\", \"2020-07-14T04:00:00\", \"2020-07-14T05:00:00\", \"2020-07-14T06:00:00\", \"2020-07-14T07:00:00\", \"2020-07-14T08:00:00\", \"2020-07-14T09:00:00\", \"2020-07-14T10:00:00\", \"2020-07-14T11:00:00\", \"2020-07-14T12:00:00\", \"2020-07-14T13:00:00\", \"2020-07-14T14:00:00\", \"2020-07-14T15:00:00\", \"2020-07-14T16:00:00\", \"2020-07-14T17:00:00\", \"2020-07-14T18:00:00\", \"2020-07-14T19:00:00\", \"2020-07-14T20:00:00\", \"2020-07-14T21:00:00\", \"2020-07-14T22:00:00\", \"2020-07-14T23:00:00\"], \"xaxis\": \"x\", \"y\": [11.3, 10.7, 10.4, 10.3, 9.5, 10.3, 14.6, 20.3, 22.9, 24.3, 25.8, 25.3, 26.8, 27.3, 28.5, 26.2, 25.5, 25.0, 24.4, 22.8, 19.7, 18.5, 16.2, 15.3], \"yaxis\": \"y\", \"type\": \"bar\"}], \"name\": \"2020-07-14\"}, {\"data\": [{\"alignmentgroup\": \"True\", \"customdata\": [[917, \"Darmstadt\"], [917, \"Darmstadt\"], [917, \"Darmstadt\"], [917, \"Darmstadt\"], [917, \"Darmstadt\"], [917, \"Darmstadt\"], [917, \"Darmstadt\"], [917, \"Darmstadt\"], [917, \"Darmstadt\"], [917, \"Darmstadt\"], [917, \"Darmstadt\"], [917, \"Darmstadt\"], [917, \"Darmstadt\"], [917, \"Darmstadt\"], [917, \"Darmstadt\"], [917, \"Darmstadt\"], [917, \"Darmstadt\"], [917, \"Darmstadt\"], [917, \"Darmstadt\"], [917, \"Darmstadt\"], [917, \"Darmstadt\"], [917, \"Darmstadt\"], [917, \"Darmstadt\"], [917, \"Darmstadt\"]], \"hovertemplate\": \"date2=2020-07-15<br>date=%{x}<br>temperature=%{marker.color}<br>station_id=%{customdata[0]}<br>STATION_NAME=%{customdata[1]}<extra></extra>\", \"legendgroup\": \"\", \"marker\": {\"color\": [14.8, 14.4, 15.0, 14.6, 14.3, 14.4, 14.0, 14.3, 15.2, 15.1, 15.9, 15.9, 16.7, 19.2, 20.6, 20.7, 20.5, 21.4, 18.7, 16.6, 15.9, 15.6, 15.5, 15.1], \"coloraxis\": \"coloraxis\"}, \"name\": \"\", \"offsetgroup\": \"\", \"orientation\": \"v\", \"showlegend\": false, \"textposition\": \"auto\", \"x\": [\"2020-07-15T00:00:00\", \"2020-07-15T01:00:00\", \"2020-07-15T02:00:00\", \"2020-07-15T03:00:00\", \"2020-07-15T04:00:00\", \"2020-07-15T05:00:00\", \"2020-07-15T06:00:00\", \"2020-07-15T07:00:00\", \"2020-07-15T08:00:00\", \"2020-07-15T09:00:00\", \"2020-07-15T10:00:00\", \"2020-07-15T11:00:00\", \"2020-07-15T12:00:00\", \"2020-07-15T13:00:00\", \"2020-07-15T14:00:00\", \"2020-07-15T15:00:00\", \"2020-07-15T16:00:00\", \"2020-07-15T17:00:00\", \"2020-07-15T18:00:00\", \"2020-07-15T19:00:00\", \"2020-07-15T20:00:00\", \"2020-07-15T21:00:00\", \"2020-07-15T22:00:00\", \"2020-07-15T23:00:00\"], \"xaxis\": \"x\", \"y\": [14.8, 14.4, 15.0, 14.6, 14.3, 14.4, 14.0, 14.3, 15.2, 15.1, 15.9, 15.9, 16.7, 19.2, 20.6, 20.7, 20.5, 21.4, 18.7, 16.6, 15.9, 15.6, 15.5, 15.1], \"yaxis\": \"y\", \"type\": \"bar\"}], \"name\": \"2020-07-15\"}, {\"data\": [{\"alignmentgroup\": \"True\", \"customdata\": [[917, \"Darmstadt\"], [917, \"Darmstadt\"], [917, \"Darmstadt\"], [917, \"Darmstadt\"], [917, \"Darmstadt\"], [917, \"Darmstadt\"], [917, \"Darmstadt\"], [917, \"Darmstadt\"], [917, \"Darmstadt\"], [917, \"Darmstadt\"], [917, \"Darmstadt\"], [917, \"Darmstadt\"], [917, \"Darmstadt\"], [917, \"Darmstadt\"], [917, \"Darmstadt\"], [917, \"Darmstadt\"], [917, \"Darmstadt\"], [917, \"Darmstadt\"], [917, \"Darmstadt\"], [917, \"Darmstadt\"], [917, \"Darmstadt\"], [917, \"Darmstadt\"], [917, \"Darmstadt\"], [917, \"Darmstadt\"]], \"hovertemplate\": \"date2=2020-07-16<br>date=%{x}<br>temperature=%{marker.color}<br>station_id=%{customdata[0]}<br>STATION_NAME=%{customdata[1]}<extra></extra>\", \"legendgroup\": \"\", \"marker\": {\"color\": [13.9, 13.5, 13.5, 13.7, 14.1, 14.7, 14.9, 15.5, 15.3, 14.8, 15.8, 16.6, 16.8, 16.2, 16.8, 16.3, 16.6, 16.7, 15.8, 15.6, 15.3, 15.1, 15.2, 14.9], \"coloraxis\": \"coloraxis\"}, \"name\": \"\", \"offsetgroup\": \"\", \"orientation\": \"v\", \"showlegend\": false, \"textposition\": \"auto\", \"x\": [\"2020-07-16T00:00:00\", \"2020-07-16T01:00:00\", \"2020-07-16T02:00:00\", \"2020-07-16T03:00:00\", \"2020-07-16T04:00:00\", \"2020-07-16T05:00:00\", \"2020-07-16T06:00:00\", \"2020-07-16T07:00:00\", \"2020-07-16T08:00:00\", \"2020-07-16T09:00:00\", \"2020-07-16T10:00:00\", \"2020-07-16T11:00:00\", \"2020-07-16T12:00:00\", \"2020-07-16T13:00:00\", \"2020-07-16T14:00:00\", \"2020-07-16T15:00:00\", \"2020-07-16T16:00:00\", \"2020-07-16T17:00:00\", \"2020-07-16T18:00:00\", \"2020-07-16T19:00:00\", \"2020-07-16T20:00:00\", \"2020-07-16T21:00:00\", \"2020-07-16T22:00:00\", \"2020-07-16T23:00:00\"], \"xaxis\": \"x\", \"y\": [13.9, 13.5, 13.5, 13.7, 14.1, 14.7, 14.9, 15.5, 15.3, 14.8, 15.8, 16.6, 16.8, 16.2, 16.8, 16.3, 16.6, 16.7, 15.8, 15.6, 15.3, 15.1, 15.2, 14.9], \"yaxis\": \"y\", \"type\": \"bar\"}], \"name\": \"2020-07-16\"}, {\"data\": [{\"alignmentgroup\": \"True\", \"customdata\": [[917, \"Darmstadt\"], [917, \"Darmstadt\"], [917, \"Darmstadt\"], [917, \"Darmstadt\"], [917, \"Darmstadt\"], [917, \"Darmstadt\"], [917, \"Darmstadt\"], [917, \"Darmstadt\"], [917, \"Darmstadt\"], [917, \"Darmstadt\"], [917, \"Darmstadt\"], [917, \"Darmstadt\"], [917, \"Darmstadt\"], [917, \"Darmstadt\"], [917, \"Darmstadt\"], [917, \"Darmstadt\"], [917, \"Darmstadt\"], [917, \"Darmstadt\"], [917, \"Darmstadt\"], [917, \"Darmstadt\"], [917, \"Darmstadt\"], [917, \"Darmstadt\"], [917, \"Darmstadt\"], [917, \"Darmstadt\"]], \"hovertemplate\": \"date2=2020-07-17<br>date=%{x}<br>temperature=%{marker.color}<br>station_id=%{customdata[0]}<br>STATION_NAME=%{customdata[1]}<extra></extra>\", \"legendgroup\": \"\", \"marker\": {\"color\": [15.0, 14.9, 14.9, 14.4, 14.1, 14.4, 14.4, 14.7, 16.0, 16.3, 18.4, 20.2, 22.4, 23.3, 23.9, 22.1, 21.8, 21.5, 20.5, 19.8, 18.2, 17.2, 16.7, 16.3], \"coloraxis\": \"coloraxis\"}, \"name\": \"\", \"offsetgroup\": \"\", \"orientation\": \"v\", \"showlegend\": false, \"textposition\": \"auto\", \"x\": [\"2020-07-17T00:00:00\", \"2020-07-17T01:00:00\", \"2020-07-17T02:00:00\", \"2020-07-17T03:00:00\", \"2020-07-17T04:00:00\", \"2020-07-17T05:00:00\", \"2020-07-17T06:00:00\", \"2020-07-17T07:00:00\", \"2020-07-17T08:00:00\", \"2020-07-17T09:00:00\", \"2020-07-17T10:00:00\", \"2020-07-17T11:00:00\", \"2020-07-17T12:00:00\", \"2020-07-17T13:00:00\", \"2020-07-17T14:00:00\", \"2020-07-17T15:00:00\", \"2020-07-17T16:00:00\", \"2020-07-17T17:00:00\", \"2020-07-17T18:00:00\", \"2020-07-17T19:00:00\", \"2020-07-17T20:00:00\", \"2020-07-17T21:00:00\", \"2020-07-17T22:00:00\", \"2020-07-17T23:00:00\"], \"xaxis\": \"x\", \"y\": [15.0, 14.9, 14.9, 14.4, 14.1, 14.4, 14.4, 14.7, 16.0, 16.3, 18.4, 20.2, 22.4, 23.3, 23.9, 22.1, 21.8, 21.5, 20.5, 19.8, 18.2, 17.2, 16.7, 16.3], \"yaxis\": \"y\", \"type\": \"bar\"}], \"name\": \"2020-07-17\"}, {\"data\": [{\"alignmentgroup\": \"True\", \"customdata\": [[917, \"Darmstadt\"], [917, \"Darmstadt\"], [917, \"Darmstadt\"], [917, \"Darmstadt\"], [917, \"Darmstadt\"], [917, \"Darmstadt\"], [917, \"Darmstadt\"], [917, \"Darmstadt\"], [917, \"Darmstadt\"], [917, \"Darmstadt\"], [917, \"Darmstadt\"], [917, \"Darmstadt\"], [917, \"Darmstadt\"], [917, \"Darmstadt\"], [917, \"Darmstadt\"], [917, \"Darmstadt\"], [917, \"Darmstadt\"], [917, \"Darmstadt\"], [917, \"Darmstadt\"], [917, \"Darmstadt\"], [917, \"Darmstadt\"], [917, \"Darmstadt\"], [917, \"Darmstadt\"], [917, \"Darmstadt\"]], \"hovertemplate\": \"date2=2020-07-18<br>date=%{x}<br>temperature=%{marker.color}<br>station_id=%{customdata[0]}<br>STATION_NAME=%{customdata[1]}<extra></extra>\", \"legendgroup\": \"\", \"marker\": {\"color\": [15.8, 15.3, 14.2, 13.7, 13.9, 15.1, 18.7, 20.2, 20.8, 23.6, 24.3, 24.6, 25.4, 26.0, 24.5, 26.6, 25.8, 24.8, 23.6, 21.6, 17.8, 15.3, 13.8, 13.1], \"coloraxis\": \"coloraxis\"}, \"name\": \"\", \"offsetgroup\": \"\", \"orientation\": \"v\", \"showlegend\": false, \"textposition\": \"auto\", \"x\": [\"2020-07-18T00:00:00\", \"2020-07-18T01:00:00\", \"2020-07-18T02:00:00\", \"2020-07-18T03:00:00\", \"2020-07-18T04:00:00\", \"2020-07-18T05:00:00\", \"2020-07-18T06:00:00\", \"2020-07-18T07:00:00\", \"2020-07-18T08:00:00\", \"2020-07-18T09:00:00\", \"2020-07-18T10:00:00\", \"2020-07-18T11:00:00\", \"2020-07-18T12:00:00\", \"2020-07-18T13:00:00\", \"2020-07-18T14:00:00\", \"2020-07-18T15:00:00\", \"2020-07-18T16:00:00\", \"2020-07-18T17:00:00\", \"2020-07-18T18:00:00\", \"2020-07-18T19:00:00\", \"2020-07-18T20:00:00\", \"2020-07-18T21:00:00\", \"2020-07-18T22:00:00\", \"2020-07-18T23:00:00\"], \"xaxis\": \"x\", \"y\": [15.8, 15.3, 14.2, 13.7, 13.9, 15.1, 18.7, 20.2, 20.8, 23.6, 24.3, 24.6, 25.4, 26.0, 24.5, 26.6, 25.8, 24.8, 23.6, 21.6, 17.8, 15.3, 13.8, 13.1], \"yaxis\": \"y\", \"type\": \"bar\"}], \"name\": \"2020-07-18\"}, {\"data\": [{\"alignmentgroup\": \"True\", \"customdata\": [[917, \"Darmstadt\"], [917, \"Darmstadt\"], [917, \"Darmstadt\"], [917, \"Darmstadt\"], [917, \"Darmstadt\"], [917, \"Darmstadt\"], [917, \"Darmstadt\"], [917, \"Darmstadt\"], [917, \"Darmstadt\"], [917, \"Darmstadt\"], [917, \"Darmstadt\"], [917, \"Darmstadt\"], [917, \"Darmstadt\"], [917, \"Darmstadt\"], [917, \"Darmstadt\"], [917, \"Darmstadt\"], [917, \"Darmstadt\"], [917, \"Darmstadt\"], [917, \"Darmstadt\"], [917, \"Darmstadt\"], [917, \"Darmstadt\"], [917, \"Darmstadt\"], [917, \"Darmstadt\"], [917, \"Darmstadt\"]], \"hovertemplate\": \"date2=2020-07-19<br>date=%{x}<br>temperature=%{marker.color}<br>station_id=%{customdata[0]}<br>STATION_NAME=%{customdata[1]}<extra></extra>\", \"legendgroup\": \"\", \"marker\": {\"color\": [12.6, 11.9, 11.4, 10.6, 10.2, 11.0, 15.0, 19.8, 23.2, 25.5, 26.7, 27.0, 27.4, 27.2, 27.5, 27.4, 28.7, 27.5, 24.7, 22.4, 18.7, 17.3, 16.3, 16.8], \"coloraxis\": \"coloraxis\"}, \"name\": \"\", \"offsetgroup\": \"\", \"orientation\": \"v\", \"showlegend\": false, \"textposition\": \"auto\", \"x\": [\"2020-07-19T00:00:00\", \"2020-07-19T01:00:00\", \"2020-07-19T02:00:00\", \"2020-07-19T03:00:00\", \"2020-07-19T04:00:00\", \"2020-07-19T05:00:00\", \"2020-07-19T06:00:00\", \"2020-07-19T07:00:00\", \"2020-07-19T08:00:00\", \"2020-07-19T09:00:00\", \"2020-07-19T10:00:00\", \"2020-07-19T11:00:00\", \"2020-07-19T12:00:00\", \"2020-07-19T13:00:00\", \"2020-07-19T14:00:00\", \"2020-07-19T15:00:00\", \"2020-07-19T16:00:00\", \"2020-07-19T17:00:00\", \"2020-07-19T18:00:00\", \"2020-07-19T19:00:00\", \"2020-07-19T20:00:00\", \"2020-07-19T21:00:00\", \"2020-07-19T22:00:00\", \"2020-07-19T23:00:00\"], \"xaxis\": \"x\", \"y\": [12.6, 11.9, 11.4, 10.6, 10.2, 11.0, 15.0, 19.8, 23.2, 25.5, 26.7, 27.0, 27.4, 27.2, 27.5, 27.4, 28.7, 27.5, 24.7, 22.4, 18.7, 17.3, 16.3, 16.8], \"yaxis\": \"y\", \"type\": \"bar\"}], \"name\": \"2020-07-19\"}, {\"data\": [{\"alignmentgroup\": \"True\", \"customdata\": [[917, \"Darmstadt\"], [917, \"Darmstadt\"], [917, \"Darmstadt\"], [917, \"Darmstadt\"], [917, \"Darmstadt\"], [917, \"Darmstadt\"], [917, \"Darmstadt\"], [917, \"Darmstadt\"], [917, \"Darmstadt\"], [917, \"Darmstadt\"], [917, \"Darmstadt\"], [917, \"Darmstadt\"], [917, \"Darmstadt\"], [917, \"Darmstadt\"], [917, \"Darmstadt\"], [917, \"Darmstadt\"], [917, \"Darmstadt\"], [917, \"Darmstadt\"], [917, \"Darmstadt\"], [917, \"Darmstadt\"], [917, \"Darmstadt\"], [917, \"Darmstadt\"], [917, \"Darmstadt\"], [917, \"Darmstadt\"]], \"hovertemplate\": \"date2=2020-07-20<br>date=%{x}<br>temperature=%{marker.color}<br>station_id=%{customdata[0]}<br>STATION_NAME=%{customdata[1]}<extra></extra>\", \"legendgroup\": \"\", \"marker\": {\"color\": [18.3, 16.5, 15.0, 14.1, 13.5, 13.2, 16.4, 20.4, 22.4, 23.6, 25.2, 24.4, 26.0, 26.6, 27.8, 27.1, 26.5, 25.4, 23.0, 21.8, 20.2, 19.1, 17.4, 16.1], \"coloraxis\": \"coloraxis\"}, \"name\": \"\", \"offsetgroup\": \"\", \"orientation\": \"v\", \"showlegend\": false, \"textposition\": \"auto\", \"x\": [\"2020-07-20T00:00:00\", \"2020-07-20T01:00:00\", \"2020-07-20T02:00:00\", \"2020-07-20T03:00:00\", \"2020-07-20T04:00:00\", \"2020-07-20T05:00:00\", \"2020-07-20T06:00:00\", \"2020-07-20T07:00:00\", \"2020-07-20T08:00:00\", \"2020-07-20T09:00:00\", \"2020-07-20T10:00:00\", \"2020-07-20T11:00:00\", \"2020-07-20T12:00:00\", \"2020-07-20T13:00:00\", \"2020-07-20T14:00:00\", \"2020-07-20T15:00:00\", \"2020-07-20T16:00:00\", \"2020-07-20T17:00:00\", \"2020-07-20T18:00:00\", \"2020-07-20T19:00:00\", \"2020-07-20T20:00:00\", \"2020-07-20T21:00:00\", \"2020-07-20T22:00:00\", \"2020-07-20T23:00:00\"], \"xaxis\": \"x\", \"y\": [18.3, 16.5, 15.0, 14.1, 13.5, 13.2, 16.4, 20.4, 22.4, 23.6, 25.2, 24.4, 26.0, 26.6, 27.8, 27.1, 26.5, 25.4, 23.0, 21.8, 20.2, 19.1, 17.4, 16.1], \"yaxis\": \"y\", \"type\": \"bar\"}], \"name\": \"2020-07-20\"}, {\"data\": [{\"alignmentgroup\": \"True\", \"customdata\": [[917, \"Darmstadt\"], [917, \"Darmstadt\"], [917, \"Darmstadt\"], [917, \"Darmstadt\"], [917, \"Darmstadt\"], [917, \"Darmstadt\"], [917, \"Darmstadt\"], [917, \"Darmstadt\"], [917, \"Darmstadt\"], [917, \"Darmstadt\"], [917, \"Darmstadt\"], [917, \"Darmstadt\"], [917, \"Darmstadt\"], [917, \"Darmstadt\"], [917, \"Darmstadt\"], [917, \"Darmstadt\"], [917, \"Darmstadt\"], [917, \"Darmstadt\"], [917, \"Darmstadt\"], [917, \"Darmstadt\"], [917, \"Darmstadt\"], [917, \"Darmstadt\"], [917, \"Darmstadt\"], [917, \"Darmstadt\"]], \"hovertemplate\": \"date2=2020-07-21<br>date=%{x}<br>temperature=%{marker.color}<br>station_id=%{customdata[0]}<br>STATION_NAME=%{customdata[1]}<extra></extra>\", \"legendgroup\": \"\", \"marker\": {\"color\": [14.7, 14.3, 13.7, 11.9, 14.0, 14.4, 14.7, 16.6, 20.4, 22.2, 23.5, 23.6, 24.7, 25.5, 26.8, 26.4, 26.1, 23.9, 22.2, 20.1, 17.2, 14.9, 14.6, 12.3], \"coloraxis\": \"coloraxis\"}, \"name\": \"\", \"offsetgroup\": \"\", \"orientation\": \"v\", \"showlegend\": false, \"textposition\": \"auto\", \"x\": [\"2020-07-21T00:00:00\", \"2020-07-21T01:00:00\", \"2020-07-21T02:00:00\", \"2020-07-21T03:00:00\", \"2020-07-21T04:00:00\", \"2020-07-21T05:00:00\", \"2020-07-21T06:00:00\", \"2020-07-21T07:00:00\", \"2020-07-21T08:00:00\", \"2020-07-21T09:00:00\", \"2020-07-21T10:00:00\", \"2020-07-21T11:00:00\", \"2020-07-21T12:00:00\", \"2020-07-21T13:00:00\", \"2020-07-21T14:00:00\", \"2020-07-21T15:00:00\", \"2020-07-21T16:00:00\", \"2020-07-21T17:00:00\", \"2020-07-21T18:00:00\", \"2020-07-21T19:00:00\", \"2020-07-21T20:00:00\", \"2020-07-21T21:00:00\", \"2020-07-21T22:00:00\", \"2020-07-21T23:00:00\"], \"xaxis\": \"x\", \"y\": [14.7, 14.3, 13.7, 11.9, 14.0, 14.4, 14.7, 16.6, 20.4, 22.2, 23.5, 23.6, 24.7, 25.5, 26.8, 26.4, 26.1, 23.9, 22.2, 20.1, 17.2, 14.9, 14.6, 12.3], \"yaxis\": \"y\", \"type\": \"bar\"}], \"name\": \"2020-07-21\"}, {\"data\": [{\"alignmentgroup\": \"True\", \"customdata\": [[917, \"Darmstadt\"], [917, \"Darmstadt\"], [917, \"Darmstadt\"], [917, \"Darmstadt\"], [917, \"Darmstadt\"], [917, \"Darmstadt\"], [917, \"Darmstadt\"], [917, \"Darmstadt\"], [917, \"Darmstadt\"], [917, \"Darmstadt\"], [917, \"Darmstadt\"], [917, \"Darmstadt\"], [917, \"Darmstadt\"], [917, \"Darmstadt\"], [917, \"Darmstadt\"], [917, \"Darmstadt\"], [917, \"Darmstadt\"], [917, \"Darmstadt\"], [917, \"Darmstadt\"], [917, \"Darmstadt\"], [917, \"Darmstadt\"], [917, \"Darmstadt\"], [917, \"Darmstadt\"], [917, \"Darmstadt\"]], \"hovertemplate\": \"date2=2020-07-22<br>date=%{x}<br>temperature=%{marker.color}<br>station_id=%{customdata[0]}<br>STATION_NAME=%{customdata[1]}<extra></extra>\", \"legendgroup\": \"\", \"marker\": {\"color\": [10.7, 9.9, 9.2, 8.7, 8.5, 9.8, 13.4, 16.3, 19.1, 21.6, 23.6, 24.5, 24.9, 25.7, 26.0, 26.8, 26.8, 25.3, 24.0, 21.8, 17.7, 14.8, 16.8, 16.5], \"coloraxis\": \"coloraxis\"}, \"name\": \"\", \"offsetgroup\": \"\", \"orientation\": \"v\", \"showlegend\": false, \"textposition\": \"auto\", \"x\": [\"2020-07-22T00:00:00\", \"2020-07-22T01:00:00\", \"2020-07-22T02:00:00\", \"2020-07-22T03:00:00\", \"2020-07-22T04:00:00\", \"2020-07-22T05:00:00\", \"2020-07-22T06:00:00\", \"2020-07-22T07:00:00\", \"2020-07-22T08:00:00\", \"2020-07-22T09:00:00\", \"2020-07-22T10:00:00\", \"2020-07-22T11:00:00\", \"2020-07-22T12:00:00\", \"2020-07-22T13:00:00\", \"2020-07-22T14:00:00\", \"2020-07-22T15:00:00\", \"2020-07-22T16:00:00\", \"2020-07-22T17:00:00\", \"2020-07-22T18:00:00\", \"2020-07-22T19:00:00\", \"2020-07-22T20:00:00\", \"2020-07-22T21:00:00\", \"2020-07-22T22:00:00\", \"2020-07-22T23:00:00\"], \"xaxis\": \"x\", \"y\": [10.7, 9.9, 9.2, 8.7, 8.5, 9.8, 13.4, 16.3, 19.1, 21.6, 23.6, 24.5, 24.9, 25.7, 26.0, 26.8, 26.8, 25.3, 24.0, 21.8, 17.7, 14.8, 16.8, 16.5], \"yaxis\": \"y\", \"type\": \"bar\"}], \"name\": \"2020-07-22\"}, {\"data\": [{\"alignmentgroup\": \"True\", \"customdata\": [[917, \"Darmstadt\"], [917, \"Darmstadt\"], [917, \"Darmstadt\"], [917, \"Darmstadt\"], [917, \"Darmstadt\"], [917, \"Darmstadt\"], [917, \"Darmstadt\"], [917, \"Darmstadt\"], [917, \"Darmstadt\"], [917, \"Darmstadt\"], [917, \"Darmstadt\"], [917, \"Darmstadt\"], [917, \"Darmstadt\"], [917, \"Darmstadt\"], [917, \"Darmstadt\"], [917, \"Darmstadt\"], [917, \"Darmstadt\"], [917, \"Darmstadt\"], [917, \"Darmstadt\"], [917, \"Darmstadt\"], [917, \"Darmstadt\"], [917, \"Darmstadt\"], [917, \"Darmstadt\"], [917, \"Darmstadt\"]], \"hovertemplate\": \"date2=2020-07-23<br>date=%{x}<br>temperature=%{marker.color}<br>station_id=%{customdata[0]}<br>STATION_NAME=%{customdata[1]}<extra></extra>\", \"legendgroup\": \"\", \"marker\": {\"color\": [15.5, 14.5, 13.0, 12.3, 10.5, 10.7, 14.7, 17.1, 19.7, 22.3, 23.0, 23.8, 25.3, 25.8, 25.9, 26.3, 26.9, 25.4, 23.3, 20.9, 18.1, 17.6, 16.8, 16.3], \"coloraxis\": \"coloraxis\"}, \"name\": \"\", \"offsetgroup\": \"\", \"orientation\": \"v\", \"showlegend\": false, \"textposition\": \"auto\", \"x\": [\"2020-07-23T00:00:00\", \"2020-07-23T01:00:00\", \"2020-07-23T02:00:00\", \"2020-07-23T03:00:00\", \"2020-07-23T04:00:00\", \"2020-07-23T05:00:00\", \"2020-07-23T06:00:00\", \"2020-07-23T07:00:00\", \"2020-07-23T08:00:00\", \"2020-07-23T09:00:00\", \"2020-07-23T10:00:00\", \"2020-07-23T11:00:00\", \"2020-07-23T12:00:00\", \"2020-07-23T13:00:00\", \"2020-07-23T14:00:00\", \"2020-07-23T15:00:00\", \"2020-07-23T16:00:00\", \"2020-07-23T17:00:00\", \"2020-07-23T18:00:00\", \"2020-07-23T19:00:00\", \"2020-07-23T20:00:00\", \"2020-07-23T21:00:00\", \"2020-07-23T22:00:00\", \"2020-07-23T23:00:00\"], \"xaxis\": \"x\", \"y\": [15.5, 14.5, 13.0, 12.3, 10.5, 10.7, 14.7, 17.1, 19.7, 22.3, 23.0, 23.8, 25.3, 25.8, 25.9, 26.3, 26.9, 25.4, 23.3, 20.9, 18.1, 17.6, 16.8, 16.3], \"yaxis\": \"y\", \"type\": \"bar\"}], \"name\": \"2020-07-23\"}, {\"data\": [{\"alignmentgroup\": \"True\", \"customdata\": [[917, \"Darmstadt\"], [917, \"Darmstadt\"], [917, \"Darmstadt\"], [917, \"Darmstadt\"], [917, \"Darmstadt\"], [917, \"Darmstadt\"], [917, \"Darmstadt\"], [917, \"Darmstadt\"], [917, \"Darmstadt\"], [917, \"Darmstadt\"], [917, \"Darmstadt\"], [917, \"Darmstadt\"], [917, \"Darmstadt\"], [917, \"Darmstadt\"], [917, \"Darmstadt\"], [917, \"Darmstadt\"], [917, \"Darmstadt\"], [917, \"Darmstadt\"], [917, \"Darmstadt\"], [917, \"Darmstadt\"], [917, \"Darmstadt\"], [917, \"Darmstadt\"], [917, \"Darmstadt\"], [917, \"Darmstadt\"]], \"hovertemplate\": \"date2=2020-07-24<br>date=%{x}<br>temperature=%{marker.color}<br>station_id=%{customdata[0]}<br>STATION_NAME=%{customdata[1]}<extra></extra>\", \"legendgroup\": \"\", \"marker\": {\"color\": [15.7, 15.0, 14.3, 13.9, 14.0, 14.7, 17.6, 20.0, 21.0, 24.7, 26.4, 26.3, 26.2, 28.8, 28.0, 26.6, 25.8, 25.3, 24.8, 22.9, 21.0, 18.9, 17.6, 17.6], \"coloraxis\": \"coloraxis\"}, \"name\": \"\", \"offsetgroup\": \"\", \"orientation\": \"v\", \"showlegend\": false, \"textposition\": \"auto\", \"x\": [\"2020-07-24T00:00:00\", \"2020-07-24T01:00:00\", \"2020-07-24T02:00:00\", \"2020-07-24T03:00:00\", \"2020-07-24T04:00:00\", \"2020-07-24T05:00:00\", \"2020-07-24T06:00:00\", \"2020-07-24T07:00:00\", \"2020-07-24T08:00:00\", \"2020-07-24T09:00:00\", \"2020-07-24T10:00:00\", \"2020-07-24T11:00:00\", \"2020-07-24T12:00:00\", \"2020-07-24T13:00:00\", \"2020-07-24T14:00:00\", \"2020-07-24T15:00:00\", \"2020-07-24T16:00:00\", \"2020-07-24T17:00:00\", \"2020-07-24T18:00:00\", \"2020-07-24T19:00:00\", \"2020-07-24T20:00:00\", \"2020-07-24T21:00:00\", \"2020-07-24T22:00:00\", \"2020-07-24T23:00:00\"], \"xaxis\": \"x\", \"y\": [15.7, 15.0, 14.3, 13.9, 14.0, 14.7, 17.6, 20.0, 21.0, 24.7, 26.4, 26.3, 26.2, 28.8, 28.0, 26.6, 25.8, 25.3, 24.8, 22.9, 21.0, 18.9, 17.6, 17.6], \"yaxis\": \"y\", \"type\": \"bar\"}], \"name\": \"2020-07-24\"}, {\"data\": [{\"alignmentgroup\": \"True\", \"customdata\": [[917, \"Darmstadt\"], [917, \"Darmstadt\"], [917, \"Darmstadt\"], [917, \"Darmstadt\"], [917, \"Darmstadt\"], [917, \"Darmstadt\"], [917, \"Darmstadt\"], [917, \"Darmstadt\"], [917, \"Darmstadt\"], [917, \"Darmstadt\"], [917, \"Darmstadt\"], [917, \"Darmstadt\"], [917, \"Darmstadt\"], [917, \"Darmstadt\"], [917, \"Darmstadt\"], [917, \"Darmstadt\"], [917, \"Darmstadt\"], [917, \"Darmstadt\"], [917, \"Darmstadt\"], [917, \"Darmstadt\"], [917, \"Darmstadt\"], [917, \"Darmstadt\"], [917, \"Darmstadt\"], [917, \"Darmstadt\"]], \"hovertemplate\": \"date2=2020-07-25<br>date=%{x}<br>temperature=%{marker.color}<br>station_id=%{customdata[0]}<br>STATION_NAME=%{customdata[1]}<extra></extra>\", \"legendgroup\": \"\", \"marker\": {\"color\": [17.3, 17.5, 16.3, 16.7, 15.3, 15.5, 18.8, 20.5, 23.0, 23.6, 25.2, 27.3, 24.9, 26.8, 26.3, 27.2, 27.9, 25.5, 24.7, 23.0, 21.1, 20.4, 20.7, 20.7], \"coloraxis\": \"coloraxis\"}, \"name\": \"\", \"offsetgroup\": \"\", \"orientation\": \"v\", \"showlegend\": false, \"textposition\": \"auto\", \"x\": [\"2020-07-25T00:00:00\", \"2020-07-25T01:00:00\", \"2020-07-25T02:00:00\", \"2020-07-25T03:00:00\", \"2020-07-25T04:00:00\", \"2020-07-25T05:00:00\", \"2020-07-25T06:00:00\", \"2020-07-25T07:00:00\", \"2020-07-25T08:00:00\", \"2020-07-25T09:00:00\", \"2020-07-25T10:00:00\", \"2020-07-25T11:00:00\", \"2020-07-25T12:00:00\", \"2020-07-25T13:00:00\", \"2020-07-25T14:00:00\", \"2020-07-25T15:00:00\", \"2020-07-25T16:00:00\", \"2020-07-25T17:00:00\", \"2020-07-25T18:00:00\", \"2020-07-25T19:00:00\", \"2020-07-25T20:00:00\", \"2020-07-25T21:00:00\", \"2020-07-25T22:00:00\", \"2020-07-25T23:00:00\"], \"xaxis\": \"x\", \"y\": [17.3, 17.5, 16.3, 16.7, 15.3, 15.5, 18.8, 20.5, 23.0, 23.6, 25.2, 27.3, 24.9, 26.8, 26.3, 27.2, 27.9, 25.5, 24.7, 23.0, 21.1, 20.4, 20.7, 20.7], \"yaxis\": \"y\", \"type\": \"bar\"}], \"name\": \"2020-07-25\"}, {\"data\": [{\"alignmentgroup\": \"True\", \"customdata\": [[917, \"Darmstadt\"], [917, \"Darmstadt\"], [917, \"Darmstadt\"], [917, \"Darmstadt\"], [917, \"Darmstadt\"], [917, \"Darmstadt\"], [917, \"Darmstadt\"], [917, \"Darmstadt\"], [917, \"Darmstadt\"], [917, \"Darmstadt\"], [917, \"Darmstadt\"], [917, \"Darmstadt\"], [917, \"Darmstadt\"], [917, \"Darmstadt\"], [917, \"Darmstadt\"], [917, \"Darmstadt\"], [917, \"Darmstadt\"], [917, \"Darmstadt\"], [917, \"Darmstadt\"], [917, \"Darmstadt\"], [917, \"Darmstadt\"], [917, \"Darmstadt\"], [917, \"Darmstadt\"], [917, \"Darmstadt\"]], \"hovertemplate\": \"date2=2020-07-26<br>date=%{x}<br>temperature=%{marker.color}<br>station_id=%{customdata[0]}<br>STATION_NAME=%{customdata[1]}<extra></extra>\", \"legendgroup\": \"\", \"marker\": {\"color\": [22.5, 21.7, 18.6, 17.5, 17.1, 17.1, 17.4, 18.7, 21.1, 20.7, 18.9, 22.1, 20.0, 22.9, 23.4, 23.2, 25.8, 24.6, 23.8, 20.3, 17.6, 16.2, 14.6, 13.5], \"coloraxis\": \"coloraxis\"}, \"name\": \"\", \"offsetgroup\": \"\", \"orientation\": \"v\", \"showlegend\": false, \"textposition\": \"auto\", \"x\": [\"2020-07-26T00:00:00\", \"2020-07-26T01:00:00\", \"2020-07-26T02:00:00\", \"2020-07-26T03:00:00\", \"2020-07-26T04:00:00\", \"2020-07-26T05:00:00\", \"2020-07-26T06:00:00\", \"2020-07-26T07:00:00\", \"2020-07-26T08:00:00\", \"2020-07-26T09:00:00\", \"2020-07-26T10:00:00\", \"2020-07-26T11:00:00\", \"2020-07-26T12:00:00\", \"2020-07-26T13:00:00\", \"2020-07-26T14:00:00\", \"2020-07-26T15:00:00\", \"2020-07-26T16:00:00\", \"2020-07-26T17:00:00\", \"2020-07-26T18:00:00\", \"2020-07-26T19:00:00\", \"2020-07-26T20:00:00\", \"2020-07-26T21:00:00\", \"2020-07-26T22:00:00\", \"2020-07-26T23:00:00\"], \"xaxis\": \"x\", \"y\": [22.5, 21.7, 18.6, 17.5, 17.1, 17.1, 17.4, 18.7, 21.1, 20.7, 18.9, 22.1, 20.0, 22.9, 23.4, 23.2, 25.8, 24.6, 23.8, 20.3, 17.6, 16.2, 14.6, 13.5], \"yaxis\": \"y\", \"type\": \"bar\"}], \"name\": \"2020-07-26\"}, {\"data\": [{\"alignmentgroup\": \"True\", \"customdata\": [[917, \"Darmstadt\"], [917, \"Darmstadt\"], [917, \"Darmstadt\"], [917, \"Darmstadt\"], [917, \"Darmstadt\"], [917, \"Darmstadt\"], [917, \"Darmstadt\"], [917, \"Darmstadt\"], [917, \"Darmstadt\"], [917, \"Darmstadt\"], [917, \"Darmstadt\"], [917, \"Darmstadt\"], [917, \"Darmstadt\"], [917, \"Darmstadt\"], [917, \"Darmstadt\"], [917, \"Darmstadt\"], [917, \"Darmstadt\"], [917, \"Darmstadt\"], [917, \"Darmstadt\"], [917, \"Darmstadt\"], [917, \"Darmstadt\"], [917, \"Darmstadt\"], [917, \"Darmstadt\"], [917, \"Darmstadt\"]], \"hovertemplate\": \"date2=2020-07-27<br>date=%{x}<br>temperature=%{marker.color}<br>station_id=%{customdata[0]}<br>STATION_NAME=%{customdata[1]}<extra></extra>\", \"legendgroup\": \"\", \"marker\": {\"color\": [12.5, 11.8, 11.4, 12.2, 12.2, 12.5, 15.5, 20.2, 20.9, 23.3, 25.8, 25.8, 26.0, 26.3, 28.4, 28.8, 28.2, 27.9, 26.9, 24.4, 22.1, 21.8, 21.1, 20.2], \"coloraxis\": \"coloraxis\"}, \"name\": \"\", \"offsetgroup\": \"\", \"orientation\": \"v\", \"showlegend\": false, \"textposition\": \"auto\", \"x\": [\"2020-07-27T00:00:00\", \"2020-07-27T01:00:00\", \"2020-07-27T02:00:00\", \"2020-07-27T03:00:00\", \"2020-07-27T04:00:00\", \"2020-07-27T05:00:00\", \"2020-07-27T06:00:00\", \"2020-07-27T07:00:00\", \"2020-07-27T08:00:00\", \"2020-07-27T09:00:00\", \"2020-07-27T10:00:00\", \"2020-07-27T11:00:00\", \"2020-07-27T12:00:00\", \"2020-07-27T13:00:00\", \"2020-07-27T14:00:00\", \"2020-07-27T15:00:00\", \"2020-07-27T16:00:00\", \"2020-07-27T17:00:00\", \"2020-07-27T18:00:00\", \"2020-07-27T19:00:00\", \"2020-07-27T20:00:00\", \"2020-07-27T21:00:00\", \"2020-07-27T22:00:00\", \"2020-07-27T23:00:00\"], \"xaxis\": \"x\", \"y\": [12.5, 11.8, 11.4, 12.2, 12.2, 12.5, 15.5, 20.2, 20.9, 23.3, 25.8, 25.8, 26.0, 26.3, 28.4, 28.8, 28.2, 27.9, 26.9, 24.4, 22.1, 21.8, 21.1, 20.2], \"yaxis\": \"y\", \"type\": \"bar\"}], \"name\": \"2020-07-27\"}, {\"data\": [{\"alignmentgroup\": \"True\", \"customdata\": [[917, \"Darmstadt\"], [917, \"Darmstadt\"], [917, \"Darmstadt\"], [917, \"Darmstadt\"], [917, \"Darmstadt\"], [917, \"Darmstadt\"], [917, \"Darmstadt\"], [917, \"Darmstadt\"], [917, \"Darmstadt\"], [917, \"Darmstadt\"], [917, \"Darmstadt\"], [917, \"Darmstadt\"], [917, \"Darmstadt\"], [917, \"Darmstadt\"], [917, \"Darmstadt\"], [917, \"Darmstadt\"], [917, \"Darmstadt\"], [917, \"Darmstadt\"], [917, \"Darmstadt\"], [917, \"Darmstadt\"], [917, \"Darmstadt\"], [917, \"Darmstadt\"], [917, \"Darmstadt\"], [917, \"Darmstadt\"]], \"hovertemplate\": \"date2=2020-07-28<br>date=%{x}<br>temperature=%{marker.color}<br>station_id=%{customdata[0]}<br>STATION_NAME=%{customdata[1]}<extra></extra>\", \"legendgroup\": \"\", \"marker\": {\"color\": [21.3, 21.5, 21.7, 20.8, 19.6, 21.0, 21.4, 22.2, 24.2, 24.9, 25.5, 24.9, 25.7, 28.5, 27.8, 26.0, 25.7, 24.6, 23.7, 22.8, 21.1, 17.8, 15.4, 13.6], \"coloraxis\": \"coloraxis\"}, \"name\": \"\", \"offsetgroup\": \"\", \"orientation\": \"v\", \"showlegend\": false, \"textposition\": \"auto\", \"x\": [\"2020-07-28T00:00:00\", \"2020-07-28T01:00:00\", \"2020-07-28T02:00:00\", \"2020-07-28T03:00:00\", \"2020-07-28T04:00:00\", \"2020-07-28T05:00:00\", \"2020-07-28T06:00:00\", \"2020-07-28T07:00:00\", \"2020-07-28T08:00:00\", \"2020-07-28T09:00:00\", \"2020-07-28T10:00:00\", \"2020-07-28T11:00:00\", \"2020-07-28T12:00:00\", \"2020-07-28T13:00:00\", \"2020-07-28T14:00:00\", \"2020-07-28T15:00:00\", \"2020-07-28T16:00:00\", \"2020-07-28T17:00:00\", \"2020-07-28T18:00:00\", \"2020-07-28T19:00:00\", \"2020-07-28T20:00:00\", \"2020-07-28T21:00:00\", \"2020-07-28T22:00:00\", \"2020-07-28T23:00:00\"], \"xaxis\": \"x\", \"y\": [21.3, 21.5, 21.7, 20.8, 19.6, 21.0, 21.4, 22.2, 24.2, 24.9, 25.5, 24.9, 25.7, 28.5, 27.8, 26.0, 25.7, 24.6, 23.7, 22.8, 21.1, 17.8, 15.4, 13.6], \"yaxis\": \"y\", \"type\": \"bar\"}], \"name\": \"2020-07-28\"}, {\"data\": [{\"alignmentgroup\": \"True\", \"customdata\": [[917, \"Darmstadt\"], [917, \"Darmstadt\"], [917, \"Darmstadt\"], [917, \"Darmstadt\"], [917, \"Darmstadt\"], [917, \"Darmstadt\"], [917, \"Darmstadt\"], [917, \"Darmstadt\"], [917, \"Darmstadt\"], [917, \"Darmstadt\"], [917, \"Darmstadt\"], [917, \"Darmstadt\"], [917, \"Darmstadt\"], [917, \"Darmstadt\"], [917, \"Darmstadt\"], [917, \"Darmstadt\"], [917, \"Darmstadt\"], [917, \"Darmstadt\"], [917, \"Darmstadt\"], [917, \"Darmstadt\"], [917, \"Darmstadt\"], [917, \"Darmstadt\"], [917, \"Darmstadt\"], [917, \"Darmstadt\"]], \"hovertemplate\": \"date2=2020-07-29<br>date=%{x}<br>temperature=%{marker.color}<br>station_id=%{customdata[0]}<br>STATION_NAME=%{customdata[1]}<extra></extra>\", \"legendgroup\": \"\", \"marker\": {\"color\": [12.0, 10.9, 10.2, 9.4, 8.7, 9.3, 13.6, 17.4, 20.1, 20.8, 22.8, 23.8, 25.2, 26.0, 26.9, 26.5, 26.7, 25.3, 23.3, 20.0, 16.8, 15.0, 14.0, 13.4], \"coloraxis\": \"coloraxis\"}, \"name\": \"\", \"offsetgroup\": \"\", \"orientation\": \"v\", \"showlegend\": false, \"textposition\": \"auto\", \"x\": [\"2020-07-29T00:00:00\", \"2020-07-29T01:00:00\", \"2020-07-29T02:00:00\", \"2020-07-29T03:00:00\", \"2020-07-29T04:00:00\", \"2020-07-29T05:00:00\", \"2020-07-29T06:00:00\", \"2020-07-29T07:00:00\", \"2020-07-29T08:00:00\", \"2020-07-29T09:00:00\", \"2020-07-29T10:00:00\", \"2020-07-29T11:00:00\", \"2020-07-29T12:00:00\", \"2020-07-29T13:00:00\", \"2020-07-29T14:00:00\", \"2020-07-29T15:00:00\", \"2020-07-29T16:00:00\", \"2020-07-29T17:00:00\", \"2020-07-29T18:00:00\", \"2020-07-29T19:00:00\", \"2020-07-29T20:00:00\", \"2020-07-29T21:00:00\", \"2020-07-29T22:00:00\", \"2020-07-29T23:00:00\"], \"xaxis\": \"x\", \"y\": [12.0, 10.9, 10.2, 9.4, 8.7, 9.3, 13.6, 17.4, 20.1, 20.8, 22.8, 23.8, 25.2, 26.0, 26.9, 26.5, 26.7, 25.3, 23.3, 20.0, 16.8, 15.0, 14.0, 13.4], \"yaxis\": \"y\", \"type\": \"bar\"}], \"name\": \"2020-07-29\"}, {\"data\": [{\"alignmentgroup\": \"True\", \"customdata\": [[917, \"Darmstadt\"], [917, \"Darmstadt\"], [917, \"Darmstadt\"], [917, \"Darmstadt\"], [917, \"Darmstadt\"], [917, \"Darmstadt\"], [917, \"Darmstadt\"], [917, \"Darmstadt\"], [917, \"Darmstadt\"], [917, \"Darmstadt\"], [917, \"Darmstadt\"], [917, \"Darmstadt\"], [917, \"Darmstadt\"], [917, \"Darmstadt\"], [917, \"Darmstadt\"], [917, \"Darmstadt\"], [917, \"Darmstadt\"], [917, \"Darmstadt\"], [917, \"Darmstadt\"], [917, \"Darmstadt\"], [917, \"Darmstadt\"], [917, \"Darmstadt\"], [917, \"Darmstadt\"], [917, \"Darmstadt\"]], \"hovertemplate\": \"date2=2020-07-30<br>date=%{x}<br>temperature=%{marker.color}<br>station_id=%{customdata[0]}<br>STATION_NAME=%{customdata[1]}<extra></extra>\", \"legendgroup\": \"\", \"marker\": {\"color\": [12.3, 11.2, 10.4, 10.3, 10.5, 11.8, 15.0, 17.5, 20.6, 23.7, 25.6, 27.0, 28.4, 29.5, 29.9, 29.8, 30.4, 28.4, 26.6, 23.3, 19.4, 17.1, 16.0, 15.0], \"coloraxis\": \"coloraxis\"}, \"name\": \"\", \"offsetgroup\": \"\", \"orientation\": \"v\", \"showlegend\": false, \"textposition\": \"auto\", \"x\": [\"2020-07-30T00:00:00\", \"2020-07-30T01:00:00\", \"2020-07-30T02:00:00\", \"2020-07-30T03:00:00\", \"2020-07-30T04:00:00\", \"2020-07-30T05:00:00\", \"2020-07-30T06:00:00\", \"2020-07-30T07:00:00\", \"2020-07-30T08:00:00\", \"2020-07-30T09:00:00\", \"2020-07-30T10:00:00\", \"2020-07-30T11:00:00\", \"2020-07-30T12:00:00\", \"2020-07-30T13:00:00\", \"2020-07-30T14:00:00\", \"2020-07-30T15:00:00\", \"2020-07-30T16:00:00\", \"2020-07-30T17:00:00\", \"2020-07-30T18:00:00\", \"2020-07-30T19:00:00\", \"2020-07-30T20:00:00\", \"2020-07-30T21:00:00\", \"2020-07-30T22:00:00\", \"2020-07-30T23:00:00\"], \"xaxis\": \"x\", \"y\": [12.3, 11.2, 10.4, 10.3, 10.5, 11.8, 15.0, 17.5, 20.6, 23.7, 25.6, 27.0, 28.4, 29.5, 29.9, 29.8, 30.4, 28.4, 26.6, 23.3, 19.4, 17.1, 16.0, 15.0], \"yaxis\": \"y\", \"type\": \"bar\"}], \"name\": \"2020-07-30\"}, {\"data\": [{\"alignmentgroup\": \"True\", \"customdata\": [[917, \"Darmstadt\"], [917, \"Darmstadt\"], [917, \"Darmstadt\"], [917, \"Darmstadt\"], [917, \"Darmstadt\"], [917, \"Darmstadt\"], [917, \"Darmstadt\"], [917, \"Darmstadt\"], [917, \"Darmstadt\"], [917, \"Darmstadt\"], [917, \"Darmstadt\"], [917, \"Darmstadt\"], [917, \"Darmstadt\"], [917, \"Darmstadt\"], [917, \"Darmstadt\"], [917, \"Darmstadt\"], [917, \"Darmstadt\"], [917, \"Darmstadt\"], [917, \"Darmstadt\"], [917, \"Darmstadt\"], [917, \"Darmstadt\"], [917, \"Darmstadt\"], [917, \"Darmstadt\"], [917, \"Darmstadt\"]], \"hovertemplate\": \"date2=2020-07-31<br>date=%{x}<br>temperature=%{marker.color}<br>station_id=%{customdata[0]}<br>STATION_NAME=%{customdata[1]}<extra></extra>\", \"legendgroup\": \"\", \"marker\": {\"color\": [14.2, 14.5, 14.3, 13.9, 13.4, 14.5, 17.0, 20.5, 24.1, 27.0, 30.0, 31.2, 33.0, 33.2, 34.5, 34.7, 34.1, 32.7, 30.5, 25.7, 22.1, 20.2, 18.9, 18.7], \"coloraxis\": \"coloraxis\"}, \"name\": \"\", \"offsetgroup\": \"\", \"orientation\": \"v\", \"showlegend\": false, \"textposition\": \"auto\", \"x\": [\"2020-07-31T00:00:00\", \"2020-07-31T01:00:00\", \"2020-07-31T02:00:00\", \"2020-07-31T03:00:00\", \"2020-07-31T04:00:00\", \"2020-07-31T05:00:00\", \"2020-07-31T06:00:00\", \"2020-07-31T07:00:00\", \"2020-07-31T08:00:00\", \"2020-07-31T09:00:00\", \"2020-07-31T10:00:00\", \"2020-07-31T11:00:00\", \"2020-07-31T12:00:00\", \"2020-07-31T13:00:00\", \"2020-07-31T14:00:00\", \"2020-07-31T15:00:00\", \"2020-07-31T16:00:00\", \"2020-07-31T17:00:00\", \"2020-07-31T18:00:00\", \"2020-07-31T19:00:00\", \"2020-07-31T20:00:00\", \"2020-07-31T21:00:00\", \"2020-07-31T22:00:00\", \"2020-07-31T23:00:00\"], \"xaxis\": \"x\", \"y\": [14.2, 14.5, 14.3, 13.9, 13.4, 14.5, 17.0, 20.5, 24.1, 27.0, 30.0, 31.2, 33.0, 33.2, 34.5, 34.7, 34.1, 32.7, 30.5, 25.7, 22.1, 20.2, 18.9, 18.7], \"yaxis\": \"y\", \"type\": \"bar\"}], \"name\": \"2020-07-31\"}, {\"data\": [{\"alignmentgroup\": \"True\", \"customdata\": [[917, \"Darmstadt\"], [917, \"Darmstadt\"], [917, \"Darmstadt\"], [917, \"Darmstadt\"], [917, \"Darmstadt\"], [917, \"Darmstadt\"], [917, \"Darmstadt\"], [917, \"Darmstadt\"], [917, \"Darmstadt\"], [917, \"Darmstadt\"], [917, \"Darmstadt\"], [917, \"Darmstadt\"], [917, \"Darmstadt\"], [917, \"Darmstadt\"], [917, \"Darmstadt\"], [917, \"Darmstadt\"], [917, \"Darmstadt\"], [917, \"Darmstadt\"], [917, \"Darmstadt\"], [917, \"Darmstadt\"], [917, \"Darmstadt\"], [917, \"Darmstadt\"], [917, \"Darmstadt\"], [917, \"Darmstadt\"]], \"hovertemplate\": \"date2=2020-08-01<br>date=%{x}<br>temperature=%{marker.color}<br>station_id=%{customdata[0]}<br>STATION_NAME=%{customdata[1]}<extra></extra>\", \"legendgroup\": \"\", \"marker\": {\"color\": [18.7, 18.9, 16.7, 17.1, 17.2, 17.6, 20.0, 24.3, 26.1, 28.2, 30.7, 29.5, 28.6, 29.4, 26.5, 27.8, 30.5, 29.1, 26.7, 24.3, 22.1, 21.5, 20.6, 19.5], \"coloraxis\": \"coloraxis\"}, \"name\": \"\", \"offsetgroup\": \"\", \"orientation\": \"v\", \"showlegend\": false, \"textposition\": \"auto\", \"x\": [\"2020-08-01T00:00:00\", \"2020-08-01T01:00:00\", \"2020-08-01T02:00:00\", \"2020-08-01T03:00:00\", \"2020-08-01T04:00:00\", \"2020-08-01T05:00:00\", \"2020-08-01T06:00:00\", \"2020-08-01T07:00:00\", \"2020-08-01T08:00:00\", \"2020-08-01T09:00:00\", \"2020-08-01T10:00:00\", \"2020-08-01T11:00:00\", \"2020-08-01T12:00:00\", \"2020-08-01T13:00:00\", \"2020-08-01T14:00:00\", \"2020-08-01T15:00:00\", \"2020-08-01T16:00:00\", \"2020-08-01T17:00:00\", \"2020-08-01T18:00:00\", \"2020-08-01T19:00:00\", \"2020-08-01T20:00:00\", \"2020-08-01T21:00:00\", \"2020-08-01T22:00:00\", \"2020-08-01T23:00:00\"], \"xaxis\": \"x\", \"y\": [18.7, 18.9, 16.7, 17.1, 17.2, 17.6, 20.0, 24.3, 26.1, 28.2, 30.7, 29.5, 28.6, 29.4, 26.5, 27.8, 30.5, 29.1, 26.7, 24.3, 22.1, 21.5, 20.6, 19.5], \"yaxis\": \"y\", \"type\": \"bar\"}], \"name\": \"2020-08-01\"}, {\"data\": [{\"alignmentgroup\": \"True\", \"customdata\": [[917, \"Darmstadt\"], [917, \"Darmstadt\"], [917, \"Darmstadt\"], [917, \"Darmstadt\"], [917, \"Darmstadt\"], [917, \"Darmstadt\"], [917, \"Darmstadt\"], [917, \"Darmstadt\"], [917, \"Darmstadt\"], [917, \"Darmstadt\"], [917, \"Darmstadt\"], [917, \"Darmstadt\"], [917, \"Darmstadt\"], [917, \"Darmstadt\"], [917, \"Darmstadt\"], [917, \"Darmstadt\"], [917, \"Darmstadt\"], [917, \"Darmstadt\"], [917, \"Darmstadt\"], [917, \"Darmstadt\"], [917, \"Darmstadt\"], [917, \"Darmstadt\"], [917, \"Darmstadt\"], [917, \"Darmstadt\"]], \"hovertemplate\": \"date2=2020-08-02<br>date=%{x}<br>temperature=%{marker.color}<br>station_id=%{customdata[0]}<br>STATION_NAME=%{customdata[1]}<extra></extra>\", \"legendgroup\": \"\", \"marker\": {\"color\": [19.4, 19.7, 20.6, 21.1, 19.5, 19.2, 21.1, 21.7, 22.1, 22.1, 21.8, 24.2, 25.1, 25.2, 25.6, 28.3, 25.8, 25.7, 23.9, 21.3, 18.1, 16.9, 15.9, 16.4], \"coloraxis\": \"coloraxis\"}, \"name\": \"\", \"offsetgroup\": \"\", \"orientation\": \"v\", \"showlegend\": false, \"textposition\": \"auto\", \"x\": [\"2020-08-02T00:00:00\", \"2020-08-02T01:00:00\", \"2020-08-02T02:00:00\", \"2020-08-02T03:00:00\", \"2020-08-02T04:00:00\", \"2020-08-02T05:00:00\", \"2020-08-02T06:00:00\", \"2020-08-02T07:00:00\", \"2020-08-02T08:00:00\", \"2020-08-02T09:00:00\", \"2020-08-02T10:00:00\", \"2020-08-02T11:00:00\", \"2020-08-02T12:00:00\", \"2020-08-02T13:00:00\", \"2020-08-02T14:00:00\", \"2020-08-02T15:00:00\", \"2020-08-02T16:00:00\", \"2020-08-02T17:00:00\", \"2020-08-02T18:00:00\", \"2020-08-02T19:00:00\", \"2020-08-02T20:00:00\", \"2020-08-02T21:00:00\", \"2020-08-02T22:00:00\", \"2020-08-02T23:00:00\"], \"xaxis\": \"x\", \"y\": [19.4, 19.7, 20.6, 21.1, 19.5, 19.2, 21.1, 21.7, 22.1, 22.1, 21.8, 24.2, 25.1, 25.2, 25.6, 28.3, 25.8, 25.7, 23.9, 21.3, 18.1, 16.9, 15.9, 16.4], \"yaxis\": \"y\", \"type\": \"bar\"}], \"name\": \"2020-08-02\"}, {\"data\": [{\"alignmentgroup\": \"True\", \"customdata\": [[917, \"Darmstadt\"], [917, \"Darmstadt\"], [917, \"Darmstadt\"], [917, \"Darmstadt\"], [917, \"Darmstadt\"], [917, \"Darmstadt\"], [917, \"Darmstadt\"], [917, \"Darmstadt\"], [917, \"Darmstadt\"], [917, \"Darmstadt\"], [917, \"Darmstadt\"], [917, \"Darmstadt\"], [917, \"Darmstadt\"], [917, \"Darmstadt\"], [917, \"Darmstadt\"], [917, \"Darmstadt\"], [917, \"Darmstadt\"], [917, \"Darmstadt\"], [917, \"Darmstadt\"], [917, \"Darmstadt\"], [917, \"Darmstadt\"], [917, \"Darmstadt\"], [917, \"Darmstadt\"], [917, \"Darmstadt\"]], \"hovertemplate\": \"date2=2020-08-03<br>date=%{x}<br>temperature=%{marker.color}<br>station_id=%{customdata[0]}<br>STATION_NAME=%{customdata[1]}<extra></extra>\", \"legendgroup\": \"\", \"marker\": {\"color\": [17.6, 17.0, 15.3, 14.7, 14.8, 15.6, 16.7, 18.7, 18.8, 19.8, 20.3, 21.3, 21.8, 22.3, 22.3, 22.8, 22.3, 21.1, 19.5, 17.2, 16.7, 16.2, 15.3, 15.0], \"coloraxis\": \"coloraxis\"}, \"name\": \"\", \"offsetgroup\": \"\", \"orientation\": \"v\", \"showlegend\": false, \"textposition\": \"auto\", \"x\": [\"2020-08-03T00:00:00\", \"2020-08-03T01:00:00\", \"2020-08-03T02:00:00\", \"2020-08-03T03:00:00\", \"2020-08-03T04:00:00\", \"2020-08-03T05:00:00\", \"2020-08-03T06:00:00\", \"2020-08-03T07:00:00\", \"2020-08-03T08:00:00\", \"2020-08-03T09:00:00\", \"2020-08-03T10:00:00\", \"2020-08-03T11:00:00\", \"2020-08-03T12:00:00\", \"2020-08-03T13:00:00\", \"2020-08-03T14:00:00\", \"2020-08-03T15:00:00\", \"2020-08-03T16:00:00\", \"2020-08-03T17:00:00\", \"2020-08-03T18:00:00\", \"2020-08-03T19:00:00\", \"2020-08-03T20:00:00\", \"2020-08-03T21:00:00\", \"2020-08-03T22:00:00\", \"2020-08-03T23:00:00\"], \"xaxis\": \"x\", \"y\": [17.6, 17.0, 15.3, 14.7, 14.8, 15.6, 16.7, 18.7, 18.8, 19.8, 20.3, 21.3, 21.8, 22.3, 22.3, 22.8, 22.3, 21.1, 19.5, 17.2, 16.7, 16.2, 15.3, 15.0], \"yaxis\": \"y\", \"type\": \"bar\"}], \"name\": \"2020-08-03\"}, {\"data\": [{\"alignmentgroup\": \"True\", \"customdata\": [[917, \"Darmstadt\"], [917, \"Darmstadt\"], [917, \"Darmstadt\"], [917, \"Darmstadt\"], [917, \"Darmstadt\"], [917, \"Darmstadt\"], [917, \"Darmstadt\"], [917, \"Darmstadt\"], [917, \"Darmstadt\"], [917, \"Darmstadt\"], [917, \"Darmstadt\"], [917, \"Darmstadt\"], [917, \"Darmstadt\"], [917, \"Darmstadt\"], [917, \"Darmstadt\"], [917, \"Darmstadt\"], [917, \"Darmstadt\"], [917, \"Darmstadt\"], [917, \"Darmstadt\"], [917, \"Darmstadt\"], [917, \"Darmstadt\"], [917, \"Darmstadt\"], [917, \"Darmstadt\"], [917, \"Darmstadt\"]], \"hovertemplate\": \"date2=2020-08-04<br>date=%{x}<br>temperature=%{marker.color}<br>station_id=%{customdata[0]}<br>STATION_NAME=%{customdata[1]}<extra></extra>\", \"legendgroup\": \"\", \"marker\": {\"color\": [15.8, 15.5, 14.3, 12.9, 11.5, 11.6, 14.0, 17.4, 18.1, 21.2, 21.8, 23.8, 21.8, 21.9, 22.6, 25.4, 23.4, 23.2, 22.0, 21.1, 18.3, 15.7, 13.9, 13.7], \"coloraxis\": \"coloraxis\"}, \"name\": \"\", \"offsetgroup\": \"\", \"orientation\": \"v\", \"showlegend\": false, \"textposition\": \"auto\", \"x\": [\"2020-08-04T00:00:00\", \"2020-08-04T01:00:00\", \"2020-08-04T02:00:00\", \"2020-08-04T03:00:00\", \"2020-08-04T04:00:00\", \"2020-08-04T05:00:00\", \"2020-08-04T06:00:00\", \"2020-08-04T07:00:00\", \"2020-08-04T08:00:00\", \"2020-08-04T09:00:00\", \"2020-08-04T10:00:00\", \"2020-08-04T11:00:00\", \"2020-08-04T12:00:00\", \"2020-08-04T13:00:00\", \"2020-08-04T14:00:00\", \"2020-08-04T15:00:00\", \"2020-08-04T16:00:00\", \"2020-08-04T17:00:00\", \"2020-08-04T18:00:00\", \"2020-08-04T19:00:00\", \"2020-08-04T20:00:00\", \"2020-08-04T21:00:00\", \"2020-08-04T22:00:00\", \"2020-08-04T23:00:00\"], \"xaxis\": \"x\", \"y\": [15.8, 15.5, 14.3, 12.9, 11.5, 11.6, 14.0, 17.4, 18.1, 21.2, 21.8, 23.8, 21.8, 21.9, 22.6, 25.4, 23.4, 23.2, 22.0, 21.1, 18.3, 15.7, 13.9, 13.7], \"yaxis\": \"y\", \"type\": \"bar\"}], \"name\": \"2020-08-04\"}, {\"data\": [{\"alignmentgroup\": \"True\", \"customdata\": [[917, \"Darmstadt\"], [917, \"Darmstadt\"], [917, \"Darmstadt\"], [917, \"Darmstadt\"], [917, \"Darmstadt\"], [917, \"Darmstadt\"], [917, \"Darmstadt\"], [917, \"Darmstadt\"], [917, \"Darmstadt\"], [917, \"Darmstadt\"], [917, \"Darmstadt\"], [917, \"Darmstadt\"], [917, \"Darmstadt\"], [917, \"Darmstadt\"], [917, \"Darmstadt\"], [917, \"Darmstadt\"], [917, \"Darmstadt\"], [917, \"Darmstadt\"], [917, \"Darmstadt\"], [917, \"Darmstadt\"], [917, \"Darmstadt\"], [917, \"Darmstadt\"], [917, \"Darmstadt\"], [917, \"Darmstadt\"]], \"hovertemplate\": \"date2=2020-08-05<br>date=%{x}<br>temperature=%{marker.color}<br>station_id=%{customdata[0]}<br>STATION_NAME=%{customdata[1]}<extra></extra>\", \"legendgroup\": \"\", \"marker\": {\"color\": [12.2, 11.2, 13.4, 12.8, 11.2, 10.6, 13.8, 17.9, 21.0, 23.3, 25.2, 25.1, 24.2, 27.0, 25.8, 28.3, 27.8, 26.0, 24.5, 20.7, 17.4, 15.7, 14.2, 13.1], \"coloraxis\": \"coloraxis\"}, \"name\": \"\", \"offsetgroup\": \"\", \"orientation\": \"v\", \"showlegend\": false, \"textposition\": \"auto\", \"x\": [\"2020-08-05T00:00:00\", \"2020-08-05T01:00:00\", \"2020-08-05T02:00:00\", \"2020-08-05T03:00:00\", \"2020-08-05T04:00:00\", \"2020-08-05T05:00:00\", \"2020-08-05T06:00:00\", \"2020-08-05T07:00:00\", \"2020-08-05T08:00:00\", \"2020-08-05T09:00:00\", \"2020-08-05T10:00:00\", \"2020-08-05T11:00:00\", \"2020-08-05T12:00:00\", \"2020-08-05T13:00:00\", \"2020-08-05T14:00:00\", \"2020-08-05T15:00:00\", \"2020-08-05T16:00:00\", \"2020-08-05T17:00:00\", \"2020-08-05T18:00:00\", \"2020-08-05T19:00:00\", \"2020-08-05T20:00:00\", \"2020-08-05T21:00:00\", \"2020-08-05T22:00:00\", \"2020-08-05T23:00:00\"], \"xaxis\": \"x\", \"y\": [12.2, 11.2, 13.4, 12.8, 11.2, 10.6, 13.8, 17.9, 21.0, 23.3, 25.2, 25.1, 24.2, 27.0, 25.8, 28.3, 27.8, 26.0, 24.5, 20.7, 17.4, 15.7, 14.2, 13.1], \"yaxis\": \"y\", \"type\": \"bar\"}], \"name\": \"2020-08-05\"}, {\"data\": [{\"alignmentgroup\": \"True\", \"customdata\": [[917, \"Darmstadt\"], [917, \"Darmstadt\"], [917, \"Darmstadt\"], [917, \"Darmstadt\"], [917, \"Darmstadt\"], [917, \"Darmstadt\"], [917, \"Darmstadt\"], [917, \"Darmstadt\"], [917, \"Darmstadt\"], [917, \"Darmstadt\"], [917, \"Darmstadt\"], [917, \"Darmstadt\"], [917, \"Darmstadt\"], [917, \"Darmstadt\"], [917, \"Darmstadt\"], [917, \"Darmstadt\"], [917, \"Darmstadt\"], [917, \"Darmstadt\"], [917, \"Darmstadt\"], [917, \"Darmstadt\"], [917, \"Darmstadt\"], [917, \"Darmstadt\"], [917, \"Darmstadt\"], [917, \"Darmstadt\"]], \"hovertemplate\": \"date2=2020-08-06<br>date=%{x}<br>temperature=%{marker.color}<br>station_id=%{customdata[0]}<br>STATION_NAME=%{customdata[1]}<extra></extra>\", \"legendgroup\": \"\", \"marker\": {\"color\": [12.3, 11.4, 10.8, 10.8, 11.0, 11.5, 15.8, 20.1, 23.1, 24.8, 27.0, 28.0, 29.2, 30.1, 30.1, 30.7, 30.5, 29.0, 27.5, 23.3, 20.3, 18.3, 16.9, 16.1], \"coloraxis\": \"coloraxis\"}, \"name\": \"\", \"offsetgroup\": \"\", \"orientation\": \"v\", \"showlegend\": false, \"textposition\": \"auto\", \"x\": [\"2020-08-06T00:00:00\", \"2020-08-06T01:00:00\", \"2020-08-06T02:00:00\", \"2020-08-06T03:00:00\", \"2020-08-06T04:00:00\", \"2020-08-06T05:00:00\", \"2020-08-06T06:00:00\", \"2020-08-06T07:00:00\", \"2020-08-06T08:00:00\", \"2020-08-06T09:00:00\", \"2020-08-06T10:00:00\", \"2020-08-06T11:00:00\", \"2020-08-06T12:00:00\", \"2020-08-06T13:00:00\", \"2020-08-06T14:00:00\", \"2020-08-06T15:00:00\", \"2020-08-06T16:00:00\", \"2020-08-06T17:00:00\", \"2020-08-06T18:00:00\", \"2020-08-06T19:00:00\", \"2020-08-06T20:00:00\", \"2020-08-06T21:00:00\", \"2020-08-06T22:00:00\", \"2020-08-06T23:00:00\"], \"xaxis\": \"x\", \"y\": [12.3, 11.4, 10.8, 10.8, 11.0, 11.5, 15.8, 20.1, 23.1, 24.8, 27.0, 28.0, 29.2, 30.1, 30.1, 30.7, 30.5, 29.0, 27.5, 23.3, 20.3, 18.3, 16.9, 16.1], \"yaxis\": \"y\", \"type\": \"bar\"}], \"name\": \"2020-08-06\"}, {\"data\": [{\"alignmentgroup\": \"True\", \"customdata\": [[917, \"Darmstadt\"], [917, \"Darmstadt\"], [917, \"Darmstadt\"], [917, \"Darmstadt\"], [917, \"Darmstadt\"], [917, \"Darmstadt\"], [917, \"Darmstadt\"], [917, \"Darmstadt\"], [917, \"Darmstadt\"], [917, \"Darmstadt\"], [917, \"Darmstadt\"], [917, \"Darmstadt\"], [917, \"Darmstadt\"], [917, \"Darmstadt\"], [917, \"Darmstadt\"], [917, \"Darmstadt\"], [917, \"Darmstadt\"], [917, \"Darmstadt\"], [917, \"Darmstadt\"], [917, \"Darmstadt\"], [917, \"Darmstadt\"], [917, \"Darmstadt\"], [917, \"Darmstadt\"], [917, \"Darmstadt\"]], \"hovertemplate\": \"date2=2020-08-07<br>date=%{x}<br>temperature=%{marker.color}<br>station_id=%{customdata[0]}<br>STATION_NAME=%{customdata[1]}<extra></extra>\", \"legendgroup\": \"\", \"marker\": {\"color\": [15.2, 15.5, 15.8, 15.4, 14.3, 15.3, 17.5, 21.4, 25.2, 28.3, 30.0, 31.4, 32.3, 33.5, 33.3, 33.7, 33.6, 31.7, 29.7, 26.1, 23.1, 21.3, 20.2, 19.2], \"coloraxis\": \"coloraxis\"}, \"name\": \"\", \"offsetgroup\": \"\", \"orientation\": \"v\", \"showlegend\": false, \"textposition\": \"auto\", \"x\": [\"2020-08-07T00:00:00\", \"2020-08-07T01:00:00\", \"2020-08-07T02:00:00\", \"2020-08-07T03:00:00\", \"2020-08-07T04:00:00\", \"2020-08-07T05:00:00\", \"2020-08-07T06:00:00\", \"2020-08-07T07:00:00\", \"2020-08-07T08:00:00\", \"2020-08-07T09:00:00\", \"2020-08-07T10:00:00\", \"2020-08-07T11:00:00\", \"2020-08-07T12:00:00\", \"2020-08-07T13:00:00\", \"2020-08-07T14:00:00\", \"2020-08-07T15:00:00\", \"2020-08-07T16:00:00\", \"2020-08-07T17:00:00\", \"2020-08-07T18:00:00\", \"2020-08-07T19:00:00\", \"2020-08-07T20:00:00\", \"2020-08-07T21:00:00\", \"2020-08-07T22:00:00\", \"2020-08-07T23:00:00\"], \"xaxis\": \"x\", \"y\": [15.2, 15.5, 15.8, 15.4, 14.3, 15.3, 17.5, 21.4, 25.2, 28.3, 30.0, 31.4, 32.3, 33.5, 33.3, 33.7, 33.6, 31.7, 29.7, 26.1, 23.1, 21.3, 20.2, 19.2], \"yaxis\": \"y\", \"type\": \"bar\"}], \"name\": \"2020-08-07\"}, {\"data\": [{\"alignmentgroup\": \"True\", \"customdata\": [[917, \"Darmstadt\"], [917, \"Darmstadt\"], [917, \"Darmstadt\"], [917, \"Darmstadt\"], [917, \"Darmstadt\"], [917, \"Darmstadt\"], [917, \"Darmstadt\"], [917, \"Darmstadt\"], [917, \"Darmstadt\"], [917, \"Darmstadt\"], [917, \"Darmstadt\"], [917, \"Darmstadt\"], [917, \"Darmstadt\"], [917, \"Darmstadt\"], [917, \"Darmstadt\"], [917, \"Darmstadt\"], [917, \"Darmstadt\"], [917, \"Darmstadt\"], [917, \"Darmstadt\"], [917, \"Darmstadt\"], [917, \"Darmstadt\"], [917, \"Darmstadt\"], [917, \"Darmstadt\"], [917, \"Darmstadt\"]], \"hovertemplate\": \"date2=2020-08-08<br>date=%{x}<br>temperature=%{marker.color}<br>station_id=%{customdata[0]}<br>STATION_NAME=%{customdata[1]}<extra></extra>\", \"legendgroup\": \"\", \"marker\": {\"color\": [18.7, 17.8, 17.2, 16.6, 16.2, 16.6, 20.5, 25.5, 29.6, 31.5, 32.8, 32.7, 34.5, 35.7, 35.8, 34.5, 35.1, 33.1, 30.2, 26.2, 22.9, 21.8, 20.6, 19.8], \"coloraxis\": \"coloraxis\"}, \"name\": \"\", \"offsetgroup\": \"\", \"orientation\": \"v\", \"showlegend\": false, \"textposition\": \"auto\", \"x\": [\"2020-08-08T00:00:00\", \"2020-08-08T01:00:00\", \"2020-08-08T02:00:00\", \"2020-08-08T03:00:00\", \"2020-08-08T04:00:00\", \"2020-08-08T05:00:00\", \"2020-08-08T06:00:00\", \"2020-08-08T07:00:00\", \"2020-08-08T08:00:00\", \"2020-08-08T09:00:00\", \"2020-08-08T10:00:00\", \"2020-08-08T11:00:00\", \"2020-08-08T12:00:00\", \"2020-08-08T13:00:00\", \"2020-08-08T14:00:00\", \"2020-08-08T15:00:00\", \"2020-08-08T16:00:00\", \"2020-08-08T17:00:00\", \"2020-08-08T18:00:00\", \"2020-08-08T19:00:00\", \"2020-08-08T20:00:00\", \"2020-08-08T21:00:00\", \"2020-08-08T22:00:00\", \"2020-08-08T23:00:00\"], \"xaxis\": \"x\", \"y\": [18.7, 17.8, 17.2, 16.6, 16.2, 16.6, 20.5, 25.5, 29.6, 31.5, 32.8, 32.7, 34.5, 35.7, 35.8, 34.5, 35.1, 33.1, 30.2, 26.2, 22.9, 21.8, 20.6, 19.8], \"yaxis\": \"y\", \"type\": \"bar\"}], \"name\": \"2020-08-08\"}, {\"data\": [{\"alignmentgroup\": \"True\", \"customdata\": [[917, \"Darmstadt\"], [917, \"Darmstadt\"], [917, \"Darmstadt\"], [917, \"Darmstadt\"], [917, \"Darmstadt\"], [917, \"Darmstadt\"], [917, \"Darmstadt\"], [917, \"Darmstadt\"], [917, \"Darmstadt\"], [917, \"Darmstadt\"], [917, \"Darmstadt\"], [917, \"Darmstadt\"], [917, \"Darmstadt\"], [917, \"Darmstadt\"], [917, \"Darmstadt\"], [917, \"Darmstadt\"], [917, \"Darmstadt\"], [917, \"Darmstadt\"], [917, \"Darmstadt\"], [917, \"Darmstadt\"], [917, \"Darmstadt\"], [917, \"Darmstadt\"], [917, \"Darmstadt\"], [917, \"Darmstadt\"]], \"hovertemplate\": \"date2=2020-08-09<br>date=%{x}<br>temperature=%{marker.color}<br>station_id=%{customdata[0]}<br>STATION_NAME=%{customdata[1]}<extra></extra>\", \"legendgroup\": \"\", \"marker\": {\"color\": [19.4, 18.5, 17.8, 17.0, 16.6, 17.0, 19.6, 24.3, 27.8, 30.7, 33.3, 34.9, 35.8, 33.3, 36.2, 35.9, 34.2, 28.7, 25.1, 25.9, 23.6, 23.8, 21.0, 19.6], \"coloraxis\": \"coloraxis\"}, \"name\": \"\", \"offsetgroup\": \"\", \"orientation\": \"v\", \"showlegend\": false, \"textposition\": \"auto\", \"x\": [\"2020-08-09T00:00:00\", \"2020-08-09T01:00:00\", \"2020-08-09T02:00:00\", \"2020-08-09T03:00:00\", \"2020-08-09T04:00:00\", \"2020-08-09T05:00:00\", \"2020-08-09T06:00:00\", \"2020-08-09T07:00:00\", \"2020-08-09T08:00:00\", \"2020-08-09T09:00:00\", \"2020-08-09T10:00:00\", \"2020-08-09T11:00:00\", \"2020-08-09T12:00:00\", \"2020-08-09T13:00:00\", \"2020-08-09T14:00:00\", \"2020-08-09T15:00:00\", \"2020-08-09T16:00:00\", \"2020-08-09T17:00:00\", \"2020-08-09T18:00:00\", \"2020-08-09T19:00:00\", \"2020-08-09T20:00:00\", \"2020-08-09T21:00:00\", \"2020-08-09T22:00:00\", \"2020-08-09T23:00:00\"], \"xaxis\": \"x\", \"y\": [19.4, 18.5, 17.8, 17.0, 16.6, 17.0, 19.6, 24.3, 27.8, 30.7, 33.3, 34.9, 35.8, 33.3, 36.2, 35.9, 34.2, 28.7, 25.1, 25.9, 23.6, 23.8, 21.0, 19.6], \"yaxis\": \"y\", \"type\": \"bar\"}], \"name\": \"2020-08-09\"}, {\"data\": [{\"alignmentgroup\": \"True\", \"customdata\": [[917, \"Darmstadt\"], [917, \"Darmstadt\"], [917, \"Darmstadt\"], [917, \"Darmstadt\"], [917, \"Darmstadt\"], [917, \"Darmstadt\"], [917, \"Darmstadt\"], [917, \"Darmstadt\"], [917, \"Darmstadt\"], [917, \"Darmstadt\"], [917, \"Darmstadt\"], [917, \"Darmstadt\"], [917, \"Darmstadt\"], [917, \"Darmstadt\"], [917, \"Darmstadt\"], [917, \"Darmstadt\"], [917, \"Darmstadt\"], [917, \"Darmstadt\"], [917, \"Darmstadt\"], [917, \"Darmstadt\"], [917, \"Darmstadt\"], [917, \"Darmstadt\"], [917, \"Darmstadt\"], [917, \"Darmstadt\"]], \"hovertemplate\": \"date2=2020-08-10<br>date=%{x}<br>temperature=%{marker.color}<br>station_id=%{customdata[0]}<br>STATION_NAME=%{customdata[1]}<extra></extra>\", \"legendgroup\": \"\", \"marker\": {\"color\": [19.5, 19.2, 18.7, 17.9, 16.9, 18.1, 20.6, 22.7, 25.8, 27.8, 30.7, 32.4, 33.2, 32.6, 33.7, 32.3, 33.2, 31.9, 30.1, 26.9, 24.9, 24.4, 23.9, 23.6], \"coloraxis\": \"coloraxis\"}, \"name\": \"\", \"offsetgroup\": \"\", \"orientation\": \"v\", \"showlegend\": false, \"textposition\": \"auto\", \"x\": [\"2020-08-10T00:00:00\", \"2020-08-10T01:00:00\", \"2020-08-10T02:00:00\", \"2020-08-10T03:00:00\", \"2020-08-10T04:00:00\", \"2020-08-10T05:00:00\", \"2020-08-10T06:00:00\", \"2020-08-10T07:00:00\", \"2020-08-10T08:00:00\", \"2020-08-10T09:00:00\", \"2020-08-10T10:00:00\", \"2020-08-10T11:00:00\", \"2020-08-10T12:00:00\", \"2020-08-10T13:00:00\", \"2020-08-10T14:00:00\", \"2020-08-10T15:00:00\", \"2020-08-10T16:00:00\", \"2020-08-10T17:00:00\", \"2020-08-10T18:00:00\", \"2020-08-10T19:00:00\", \"2020-08-10T20:00:00\", \"2020-08-10T21:00:00\", \"2020-08-10T22:00:00\", \"2020-08-10T23:00:00\"], \"xaxis\": \"x\", \"y\": [19.5, 19.2, 18.7, 17.9, 16.9, 18.1, 20.6, 22.7, 25.8, 27.8, 30.7, 32.4, 33.2, 32.6, 33.7, 32.3, 33.2, 31.9, 30.1, 26.9, 24.9, 24.4, 23.9, 23.6], \"yaxis\": \"y\", \"type\": \"bar\"}], \"name\": \"2020-08-10\"}, {\"data\": [{\"alignmentgroup\": \"True\", \"customdata\": [[917, \"Darmstadt\"], [917, \"Darmstadt\"], [917, \"Darmstadt\"], [917, \"Darmstadt\"], [917, \"Darmstadt\"], [917, \"Darmstadt\"], [917, \"Darmstadt\"], [917, \"Darmstadt\"], [917, \"Darmstadt\"], [917, \"Darmstadt\"], [917, \"Darmstadt\"], [917, \"Darmstadt\"], [917, \"Darmstadt\"], [917, \"Darmstadt\"], [917, \"Darmstadt\"], [917, \"Darmstadt\"], [917, \"Darmstadt\"], [917, \"Darmstadt\"], [917, \"Darmstadt\"], [917, \"Darmstadt\"], [917, \"Darmstadt\"], [917, \"Darmstadt\"], [917, \"Darmstadt\"], [917, \"Darmstadt\"]], \"hovertemplate\": \"date2=2020-08-11<br>date=%{x}<br>temperature=%{marker.color}<br>station_id=%{customdata[0]}<br>STATION_NAME=%{customdata[1]}<extra></extra>\", \"legendgroup\": \"\", \"marker\": {\"color\": [24.1, 23.5, 21.3, 20.3, 19.8, 20.8, 22.4, 24.4, 26.6, 28.1, 31.4, 32.3, 33.4, 35.5, 34.7, 28.3, 28.8, 26.8, 25.1, 25.2, 25.4, 23.7, 22.9, 23.8], \"coloraxis\": \"coloraxis\"}, \"name\": \"\", \"offsetgroup\": \"\", \"orientation\": \"v\", \"showlegend\": false, \"textposition\": \"auto\", \"x\": [\"2020-08-11T00:00:00\", \"2020-08-11T01:00:00\", \"2020-08-11T02:00:00\", \"2020-08-11T03:00:00\", \"2020-08-11T04:00:00\", \"2020-08-11T05:00:00\", \"2020-08-11T06:00:00\", \"2020-08-11T07:00:00\", \"2020-08-11T08:00:00\", \"2020-08-11T09:00:00\", \"2020-08-11T10:00:00\", \"2020-08-11T11:00:00\", \"2020-08-11T12:00:00\", \"2020-08-11T13:00:00\", \"2020-08-11T14:00:00\", \"2020-08-11T15:00:00\", \"2020-08-11T16:00:00\", \"2020-08-11T17:00:00\", \"2020-08-11T18:00:00\", \"2020-08-11T19:00:00\", \"2020-08-11T20:00:00\", \"2020-08-11T21:00:00\", \"2020-08-11T22:00:00\", \"2020-08-11T23:00:00\"], \"xaxis\": \"x\", \"y\": [24.1, 23.5, 21.3, 20.3, 19.8, 20.8, 22.4, 24.4, 26.6, 28.1, 31.4, 32.3, 33.4, 35.5, 34.7, 28.3, 28.8, 26.8, 25.1, 25.2, 25.4, 23.7, 22.9, 23.8], \"yaxis\": \"y\", \"type\": \"bar\"}], \"name\": \"2020-08-11\"}, {\"data\": [{\"alignmentgroup\": \"True\", \"customdata\": [[917, \"Darmstadt\"], [917, \"Darmstadt\"], [917, \"Darmstadt\"], [917, \"Darmstadt\"], [917, \"Darmstadt\"], [917, \"Darmstadt\"], [917, \"Darmstadt\"], [917, \"Darmstadt\"], [917, \"Darmstadt\"], [917, \"Darmstadt\"], [917, \"Darmstadt\"], [917, \"Darmstadt\"], [917, \"Darmstadt\"], [917, \"Darmstadt\"], [917, \"Darmstadt\"], [917, \"Darmstadt\"], [917, \"Darmstadt\"], [917, \"Darmstadt\"], [917, \"Darmstadt\"], [917, \"Darmstadt\"], [917, \"Darmstadt\"], [917, \"Darmstadt\"], [917, \"Darmstadt\"], [917, \"Darmstadt\"]], \"hovertemplate\": \"date2=2020-08-12<br>date=%{x}<br>temperature=%{marker.color}<br>station_id=%{customdata[0]}<br>STATION_NAME=%{customdata[1]}<extra></extra>\", \"legendgroup\": \"\", \"marker\": {\"color\": [22.1, 21.6, 21.2, 21.1, 21.4, 21.0, 21.1, 23.3, 25.8, 28.4, 30.1, 31.8, 33.3, 34.5, 34.5, 35.0, 31.9, 29.5, 22.0, 21.1, 21.0, 20.7, 20.2, 20.0], \"coloraxis\": \"coloraxis\"}, \"name\": \"\", \"offsetgroup\": \"\", \"orientation\": \"v\", \"showlegend\": false, \"textposition\": \"auto\", \"x\": [\"2020-08-12T00:00:00\", \"2020-08-12T01:00:00\", \"2020-08-12T02:00:00\", \"2020-08-12T03:00:00\", \"2020-08-12T04:00:00\", \"2020-08-12T05:00:00\", \"2020-08-12T06:00:00\", \"2020-08-12T07:00:00\", \"2020-08-12T08:00:00\", \"2020-08-12T09:00:00\", \"2020-08-12T10:00:00\", \"2020-08-12T11:00:00\", \"2020-08-12T12:00:00\", \"2020-08-12T13:00:00\", \"2020-08-12T14:00:00\", \"2020-08-12T15:00:00\", \"2020-08-12T16:00:00\", \"2020-08-12T17:00:00\", \"2020-08-12T18:00:00\", \"2020-08-12T19:00:00\", \"2020-08-12T20:00:00\", \"2020-08-12T21:00:00\", \"2020-08-12T22:00:00\", \"2020-08-12T23:00:00\"], \"xaxis\": \"x\", \"y\": [22.1, 21.6, 21.2, 21.1, 21.4, 21.0, 21.1, 23.3, 25.8, 28.4, 30.1, 31.8, 33.3, 34.5, 34.5, 35.0, 31.9, 29.5, 22.0, 21.1, 21.0, 20.7, 20.2, 20.0], \"yaxis\": \"y\", \"type\": \"bar\"}], \"name\": \"2020-08-12\"}, {\"data\": [{\"alignmentgroup\": \"True\", \"customdata\": [[917, \"Darmstadt\"], [917, \"Darmstadt\"], [917, \"Darmstadt\"], [917, \"Darmstadt\"], [917, \"Darmstadt\"], [917, \"Darmstadt\"], [917, \"Darmstadt\"], [917, \"Darmstadt\"], [917, \"Darmstadt\"], [917, \"Darmstadt\"], [917, \"Darmstadt\"], [917, \"Darmstadt\"], [917, \"Darmstadt\"], [917, \"Darmstadt\"], [917, \"Darmstadt\"], [917, \"Darmstadt\"], [917, \"Darmstadt\"], [917, \"Darmstadt\"], [917, \"Darmstadt\"], [917, \"Darmstadt\"], [917, \"Darmstadt\"], [917, \"Darmstadt\"], [917, \"Darmstadt\"], [917, \"Darmstadt\"]], \"hovertemplate\": \"date2=2020-08-13<br>date=%{x}<br>temperature=%{marker.color}<br>station_id=%{customdata[0]}<br>STATION_NAME=%{customdata[1]}<extra></extra>\", \"legendgroup\": \"\", \"marker\": {\"color\": [19.2, 18.9, 18.9, 19.3, 18.9, 19.2, 20.0, 20.2, 19.9, 20.2, 22.1, 22.6, 22.5, 22.9, 22.5, 23.1, 22.9, 23.1, 22.4, 21.3, 20.2, 20.0, 19.6, 19.6], \"coloraxis\": \"coloraxis\"}, \"name\": \"\", \"offsetgroup\": \"\", \"orientation\": \"v\", \"showlegend\": false, \"textposition\": \"auto\", \"x\": [\"2020-08-13T00:00:00\", \"2020-08-13T01:00:00\", \"2020-08-13T02:00:00\", \"2020-08-13T03:00:00\", \"2020-08-13T04:00:00\", \"2020-08-13T05:00:00\", \"2020-08-13T06:00:00\", \"2020-08-13T07:00:00\", \"2020-08-13T08:00:00\", \"2020-08-13T09:00:00\", \"2020-08-13T10:00:00\", \"2020-08-13T11:00:00\", \"2020-08-13T12:00:00\", \"2020-08-13T13:00:00\", \"2020-08-13T14:00:00\", \"2020-08-13T15:00:00\", \"2020-08-13T16:00:00\", \"2020-08-13T17:00:00\", \"2020-08-13T18:00:00\", \"2020-08-13T19:00:00\", \"2020-08-13T20:00:00\", \"2020-08-13T21:00:00\", \"2020-08-13T22:00:00\", \"2020-08-13T23:00:00\"], \"xaxis\": \"x\", \"y\": [19.2, 18.9, 18.9, 19.3, 18.9, 19.2, 20.0, 20.2, 19.9, 20.2, 22.1, 22.6, 22.5, 22.9, 22.5, 23.1, 22.9, 23.1, 22.4, 21.3, 20.2, 20.0, 19.6, 19.6], \"yaxis\": \"y\", \"type\": \"bar\"}], \"name\": \"2020-08-13\"}, {\"data\": [{\"alignmentgroup\": \"True\", \"customdata\": [[917, \"Darmstadt\"], [917, \"Darmstadt\"], [917, \"Darmstadt\"], [917, \"Darmstadt\"], [917, \"Darmstadt\"], [917, \"Darmstadt\"], [917, \"Darmstadt\"], [917, \"Darmstadt\"], [917, \"Darmstadt\"], [917, \"Darmstadt\"], [917, \"Darmstadt\"], [917, \"Darmstadt\"], [917, \"Darmstadt\"], [917, \"Darmstadt\"], [917, \"Darmstadt\"], [917, \"Darmstadt\"], [917, \"Darmstadt\"], [917, \"Darmstadt\"], [917, \"Darmstadt\"], [917, \"Darmstadt\"], [917, \"Darmstadt\"], [917, \"Darmstadt\"], [917, \"Darmstadt\"], [917, \"Darmstadt\"]], \"hovertemplate\": \"date2=2020-08-14<br>date=%{x}<br>temperature=%{marker.color}<br>station_id=%{customdata[0]}<br>STATION_NAME=%{customdata[1]}<extra></extra>\", \"legendgroup\": \"\", \"marker\": {\"color\": [19.5, 19.3, 18.9, 18.7, 18.4, 18.7, 19.3, 20.2, 23.0, 22.2, 22.6, 23.6, 24.3, 24.3, 24.2, 22.0, 21.0, 21.3, 20.7, 19.8, 19.6, 18.7, 19.1, 19.0], \"coloraxis\": \"coloraxis\"}, \"name\": \"\", \"offsetgroup\": \"\", \"orientation\": \"v\", \"showlegend\": false, \"textposition\": \"auto\", \"x\": [\"2020-08-14T00:00:00\", \"2020-08-14T01:00:00\", \"2020-08-14T02:00:00\", \"2020-08-14T03:00:00\", \"2020-08-14T04:00:00\", \"2020-08-14T05:00:00\", \"2020-08-14T06:00:00\", \"2020-08-14T07:00:00\", \"2020-08-14T08:00:00\", \"2020-08-14T09:00:00\", \"2020-08-14T10:00:00\", \"2020-08-14T11:00:00\", \"2020-08-14T12:00:00\", \"2020-08-14T13:00:00\", \"2020-08-14T14:00:00\", \"2020-08-14T15:00:00\", \"2020-08-14T16:00:00\", \"2020-08-14T17:00:00\", \"2020-08-14T18:00:00\", \"2020-08-14T19:00:00\", \"2020-08-14T20:00:00\", \"2020-08-14T21:00:00\", \"2020-08-14T22:00:00\", \"2020-08-14T23:00:00\"], \"xaxis\": \"x\", \"y\": [19.5, 19.3, 18.9, 18.7, 18.4, 18.7, 19.3, 20.2, 23.0, 22.2, 22.6, 23.6, 24.3, 24.3, 24.2, 22.0, 21.0, 21.3, 20.7, 19.8, 19.6, 18.7, 19.1, 19.0], \"yaxis\": \"y\", \"type\": \"bar\"}], \"name\": \"2020-08-14\"}, {\"data\": [{\"alignmentgroup\": \"True\", \"customdata\": [[917, \"Darmstadt\"], [917, \"Darmstadt\"], [917, \"Darmstadt\"], [917, \"Darmstadt\"], [917, \"Darmstadt\"], [917, \"Darmstadt\"], [917, \"Darmstadt\"], [917, \"Darmstadt\"], [917, \"Darmstadt\"], [917, \"Darmstadt\"], [917, \"Darmstadt\"], [917, \"Darmstadt\"], [917, \"Darmstadt\"], [917, \"Darmstadt\"], [917, \"Darmstadt\"], [917, \"Darmstadt\"], [917, \"Darmstadt\"], [917, \"Darmstadt\"], [917, \"Darmstadt\"], [917, \"Darmstadt\"], [917, \"Darmstadt\"], [917, \"Darmstadt\"], [917, \"Darmstadt\"], [917, \"Darmstadt\"]], \"hovertemplate\": \"date2=2020-08-15<br>date=%{x}<br>temperature=%{marker.color}<br>station_id=%{customdata[0]}<br>STATION_NAME=%{customdata[1]}<extra></extra>\", \"legendgroup\": \"\", \"marker\": {\"color\": [18.5, 17.7, 17.2, 17.1, 16.7, 17.1, 18.3, 20.0, 21.2, 24.3, 24.6, 26.6, 25.9, 26.2, 26.5, 28.1, 26.1, 25.4, 24.2, 22.0, 20.5, 19.8, 19.2, 18.5], \"coloraxis\": \"coloraxis\"}, \"name\": \"\", \"offsetgroup\": \"\", \"orientation\": \"v\", \"showlegend\": false, \"textposition\": \"auto\", \"x\": [\"2020-08-15T00:00:00\", \"2020-08-15T01:00:00\", \"2020-08-15T02:00:00\", \"2020-08-15T03:00:00\", \"2020-08-15T04:00:00\", \"2020-08-15T05:00:00\", \"2020-08-15T06:00:00\", \"2020-08-15T07:00:00\", \"2020-08-15T08:00:00\", \"2020-08-15T09:00:00\", \"2020-08-15T10:00:00\", \"2020-08-15T11:00:00\", \"2020-08-15T12:00:00\", \"2020-08-15T13:00:00\", \"2020-08-15T14:00:00\", \"2020-08-15T15:00:00\", \"2020-08-15T16:00:00\", \"2020-08-15T17:00:00\", \"2020-08-15T18:00:00\", \"2020-08-15T19:00:00\", \"2020-08-15T20:00:00\", \"2020-08-15T21:00:00\", \"2020-08-15T22:00:00\", \"2020-08-15T23:00:00\"], \"xaxis\": \"x\", \"y\": [18.5, 17.7, 17.2, 17.1, 16.7, 17.1, 18.3, 20.0, 21.2, 24.3, 24.6, 26.6, 25.9, 26.2, 26.5, 28.1, 26.1, 25.4, 24.2, 22.0, 20.5, 19.8, 19.2, 18.5], \"yaxis\": \"y\", \"type\": \"bar\"}], \"name\": \"2020-08-15\"}, {\"data\": [{\"alignmentgroup\": \"True\", \"customdata\": [[917, \"Darmstadt\"], [917, \"Darmstadt\"], [917, \"Darmstadt\"], [917, \"Darmstadt\"], [917, \"Darmstadt\"], [917, \"Darmstadt\"], [917, \"Darmstadt\"], [917, \"Darmstadt\"], [917, \"Darmstadt\"], [917, \"Darmstadt\"], [917, \"Darmstadt\"], [917, \"Darmstadt\"], [917, \"Darmstadt\"], [917, \"Darmstadt\"], [917, \"Darmstadt\"], [917, \"Darmstadt\"], [917, \"Darmstadt\"], [917, \"Darmstadt\"], [917, \"Darmstadt\"], [917, \"Darmstadt\"], [917, \"Darmstadt\"], [917, \"Darmstadt\"], [917, \"Darmstadt\"], [917, \"Darmstadt\"]], \"hovertemplate\": \"date2=2020-08-16<br>date=%{x}<br>temperature=%{marker.color}<br>station_id=%{customdata[0]}<br>STATION_NAME=%{customdata[1]}<extra></extra>\", \"legendgroup\": \"\", \"marker\": {\"color\": [18.2, 17.9, 17.2, 16.6, 16.4, 16.6, 18.5, 20.8, 23.6, 26.1, 27.6, 29.1, 29.8, 30.5, 28.4, 29.6, 30.5, 28.3, 26.4, 23.4, 22.1, 21.5, 22.1, 19.5], \"coloraxis\": \"coloraxis\"}, \"name\": \"\", \"offsetgroup\": \"\", \"orientation\": \"v\", \"showlegend\": false, \"textposition\": \"auto\", \"x\": [\"2020-08-16T00:00:00\", \"2020-08-16T01:00:00\", \"2020-08-16T02:00:00\", \"2020-08-16T03:00:00\", \"2020-08-16T04:00:00\", \"2020-08-16T05:00:00\", \"2020-08-16T06:00:00\", \"2020-08-16T07:00:00\", \"2020-08-16T08:00:00\", \"2020-08-16T09:00:00\", \"2020-08-16T10:00:00\", \"2020-08-16T11:00:00\", \"2020-08-16T12:00:00\", \"2020-08-16T13:00:00\", \"2020-08-16T14:00:00\", \"2020-08-16T15:00:00\", \"2020-08-16T16:00:00\", \"2020-08-16T17:00:00\", \"2020-08-16T18:00:00\", \"2020-08-16T19:00:00\", \"2020-08-16T20:00:00\", \"2020-08-16T21:00:00\", \"2020-08-16T22:00:00\", \"2020-08-16T23:00:00\"], \"xaxis\": \"x\", \"y\": [18.2, 17.9, 17.2, 16.6, 16.4, 16.6, 18.5, 20.8, 23.6, 26.1, 27.6, 29.1, 29.8, 30.5, 28.4, 29.6, 30.5, 28.3, 26.4, 23.4, 22.1, 21.5, 22.1, 19.5], \"yaxis\": \"y\", \"type\": \"bar\"}], \"name\": \"2020-08-16\"}, {\"data\": [{\"alignmentgroup\": \"True\", \"customdata\": [[917, \"Darmstadt\"], [917, \"Darmstadt\"], [917, \"Darmstadt\"], [917, \"Darmstadt\"], [917, \"Darmstadt\"], [917, \"Darmstadt\"], [917, \"Darmstadt\"], [917, \"Darmstadt\"], [917, \"Darmstadt\"], [917, \"Darmstadt\"], [917, \"Darmstadt\"], [917, \"Darmstadt\"], [917, \"Darmstadt\"], [917, \"Darmstadt\"], [917, \"Darmstadt\"], [917, \"Darmstadt\"], [917, \"Darmstadt\"], [917, \"Darmstadt\"], [917, \"Darmstadt\"], [917, \"Darmstadt\"], [917, \"Darmstadt\"], [917, \"Darmstadt\"], [917, \"Darmstadt\"], [917, \"Darmstadt\"]], \"hovertemplate\": \"date2=2020-08-17<br>date=%{x}<br>temperature=%{marker.color}<br>station_id=%{customdata[0]}<br>STATION_NAME=%{customdata[1]}<extra></extra>\", \"legendgroup\": \"\", \"marker\": {\"color\": [18.2, 18.6, 18.6, 18.2, 17.3, 17.5, 17.8, 18.1, 18.5, 19.6, 20.6, 22.9, 24.2, 23.9, 23.8, 25.1, 25.7, 24.2, 22.0, 19.6, 18.2, 17.3, 16.6, 16.3], \"coloraxis\": \"coloraxis\"}, \"name\": \"\", \"offsetgroup\": \"\", \"orientation\": \"v\", \"showlegend\": false, \"textposition\": \"auto\", \"x\": [\"2020-08-17T00:00:00\", \"2020-08-17T01:00:00\", \"2020-08-17T02:00:00\", \"2020-08-17T03:00:00\", \"2020-08-17T04:00:00\", \"2020-08-17T05:00:00\", \"2020-08-17T06:00:00\", \"2020-08-17T07:00:00\", \"2020-08-17T08:00:00\", \"2020-08-17T09:00:00\", \"2020-08-17T10:00:00\", \"2020-08-17T11:00:00\", \"2020-08-17T12:00:00\", \"2020-08-17T13:00:00\", \"2020-08-17T14:00:00\", \"2020-08-17T15:00:00\", \"2020-08-17T16:00:00\", \"2020-08-17T17:00:00\", \"2020-08-17T18:00:00\", \"2020-08-17T19:00:00\", \"2020-08-17T20:00:00\", \"2020-08-17T21:00:00\", \"2020-08-17T22:00:00\", \"2020-08-17T23:00:00\"], \"xaxis\": \"x\", \"y\": [18.2, 18.6, 18.6, 18.2, 17.3, 17.5, 17.8, 18.1, 18.5, 19.6, 20.6, 22.9, 24.2, 23.9, 23.8, 25.1, 25.7, 24.2, 22.0, 19.6, 18.2, 17.3, 16.6, 16.3], \"yaxis\": \"y\", \"type\": \"bar\"}], \"name\": \"2020-08-17\"}, {\"data\": [{\"alignmentgroup\": \"True\", \"customdata\": [[917, \"Darmstadt\"], [917, \"Darmstadt\"], [917, \"Darmstadt\"], [917, \"Darmstadt\"], [917, \"Darmstadt\"], [917, \"Darmstadt\"], [917, \"Darmstadt\"], [917, \"Darmstadt\"], [917, \"Darmstadt\"], [917, \"Darmstadt\"], [917, \"Darmstadt\"], [917, \"Darmstadt\"], [917, \"Darmstadt\"], [917, \"Darmstadt\"], [917, \"Darmstadt\"], [917, \"Darmstadt\"], [917, \"Darmstadt\"], [917, \"Darmstadt\"], [917, \"Darmstadt\"], [917, \"Darmstadt\"], [917, \"Darmstadt\"], [917, \"Darmstadt\"], [917, \"Darmstadt\"], [917, \"Darmstadt\"]], \"hovertemplate\": \"date2=2020-08-18<br>date=%{x}<br>temperature=%{marker.color}<br>station_id=%{customdata[0]}<br>STATION_NAME=%{customdata[1]}<extra></extra>\", \"legendgroup\": \"\", \"marker\": {\"color\": [16.3, 16.0, 17.6, 16.4, 16.6, 17.3, 17.7, 19.2, 21.6, 23.7, 24.4, 25.4, 25.9, 26.5, 26.8, 21.8, 20.1, 18.8, 17.8, 16.9, 16.2, 15.3, 15.6, 15.8], \"coloraxis\": \"coloraxis\"}, \"name\": \"\", \"offsetgroup\": \"\", \"orientation\": \"v\", \"showlegend\": false, \"textposition\": \"auto\", \"x\": [\"2020-08-18T00:00:00\", \"2020-08-18T01:00:00\", \"2020-08-18T02:00:00\", \"2020-08-18T03:00:00\", \"2020-08-18T04:00:00\", \"2020-08-18T05:00:00\", \"2020-08-18T06:00:00\", \"2020-08-18T07:00:00\", \"2020-08-18T08:00:00\", \"2020-08-18T09:00:00\", \"2020-08-18T10:00:00\", \"2020-08-18T11:00:00\", \"2020-08-18T12:00:00\", \"2020-08-18T13:00:00\", \"2020-08-18T14:00:00\", \"2020-08-18T15:00:00\", \"2020-08-18T16:00:00\", \"2020-08-18T17:00:00\", \"2020-08-18T18:00:00\", \"2020-08-18T19:00:00\", \"2020-08-18T20:00:00\", \"2020-08-18T21:00:00\", \"2020-08-18T22:00:00\", \"2020-08-18T23:00:00\"], \"xaxis\": \"x\", \"y\": [16.3, 16.0, 17.6, 16.4, 16.6, 17.3, 17.7, 19.2, 21.6, 23.7, 24.4, 25.4, 25.9, 26.5, 26.8, 21.8, 20.1, 18.8, 17.8, 16.9, 16.2, 15.3, 15.6, 15.8], \"yaxis\": \"y\", \"type\": \"bar\"}], \"name\": \"2020-08-18\"}, {\"data\": [{\"alignmentgroup\": \"True\", \"customdata\": [[917, \"Darmstadt\"], [917, \"Darmstadt\"], [917, \"Darmstadt\"], [917, \"Darmstadt\"], [917, \"Darmstadt\"], [917, \"Darmstadt\"], [917, \"Darmstadt\"], [917, \"Darmstadt\"], [917, \"Darmstadt\"], [917, \"Darmstadt\"], [917, \"Darmstadt\"], [917, \"Darmstadt\"], [917, \"Darmstadt\"], [917, \"Darmstadt\"], [917, \"Darmstadt\"], [917, \"Darmstadt\"], [917, \"Darmstadt\"], [917, \"Darmstadt\"], [917, \"Darmstadt\"], [917, \"Darmstadt\"], [917, \"Darmstadt\"], [917, \"Darmstadt\"], [917, \"Darmstadt\"], [917, \"Darmstadt\"]], \"hovertemplate\": \"date2=2020-08-19<br>date=%{x}<br>temperature=%{marker.color}<br>station_id=%{customdata[0]}<br>STATION_NAME=%{customdata[1]}<extra></extra>\", \"legendgroup\": \"\", \"marker\": {\"color\": [15.6, 14.8, 14.0, 13.4, 12.7, 12.3, 14.0, 17.2, 20.6, 22.9, 24.2, 24.9, 25.5, 26.3, 26.1, 25.6, 26.4, 24.7, 23.1, 20.3, 18.4, 17.0, 17.8, 17.8], \"coloraxis\": \"coloraxis\"}, \"name\": \"\", \"offsetgroup\": \"\", \"orientation\": \"v\", \"showlegend\": false, \"textposition\": \"auto\", \"x\": [\"2020-08-19T00:00:00\", \"2020-08-19T01:00:00\", \"2020-08-19T02:00:00\", \"2020-08-19T03:00:00\", \"2020-08-19T04:00:00\", \"2020-08-19T05:00:00\", \"2020-08-19T06:00:00\", \"2020-08-19T07:00:00\", \"2020-08-19T08:00:00\", \"2020-08-19T09:00:00\", \"2020-08-19T10:00:00\", \"2020-08-19T11:00:00\", \"2020-08-19T12:00:00\", \"2020-08-19T13:00:00\", \"2020-08-19T14:00:00\", \"2020-08-19T15:00:00\", \"2020-08-19T16:00:00\", \"2020-08-19T17:00:00\", \"2020-08-19T18:00:00\", \"2020-08-19T19:00:00\", \"2020-08-19T20:00:00\", \"2020-08-19T21:00:00\", \"2020-08-19T22:00:00\", \"2020-08-19T23:00:00\"], \"xaxis\": \"x\", \"y\": [15.6, 14.8, 14.0, 13.4, 12.7, 12.3, 14.0, 17.2, 20.6, 22.9, 24.2, 24.9, 25.5, 26.3, 26.1, 25.6, 26.4, 24.7, 23.1, 20.3, 18.4, 17.0, 17.8, 17.8], \"yaxis\": \"y\", \"type\": \"bar\"}], \"name\": \"2020-08-19\"}, {\"data\": [{\"alignmentgroup\": \"True\", \"customdata\": [[917, \"Darmstadt\"], [917, \"Darmstadt\"], [917, \"Darmstadt\"], [917, \"Darmstadt\"], [917, \"Darmstadt\"], [917, \"Darmstadt\"], [917, \"Darmstadt\"], [917, \"Darmstadt\"], [917, \"Darmstadt\"], [917, \"Darmstadt\"], [917, \"Darmstadt\"], [917, \"Darmstadt\"], [917, \"Darmstadt\"], [917, \"Darmstadt\"], [917, \"Darmstadt\"], [917, \"Darmstadt\"], [917, \"Darmstadt\"], [917, \"Darmstadt\"], [917, \"Darmstadt\"], [917, \"Darmstadt\"], [917, \"Darmstadt\"], [917, \"Darmstadt\"], [917, \"Darmstadt\"], [917, \"Darmstadt\"]], \"hovertemplate\": \"date2=2020-08-20<br>date=%{x}<br>temperature=%{marker.color}<br>station_id=%{customdata[0]}<br>STATION_NAME=%{customdata[1]}<extra></extra>\", \"legendgroup\": \"\", \"marker\": {\"color\": [17.9, 18.1, 18.1, 17.7, 18.2, 17.9, 18.0, 19.2, 22.3, 25.0, 27.1, 28.5, 29.4, 30.0, 31.0, 31.9, 31.1, 29.6, 26.9, 23.0, 21.1, 20.4, 20.3, 19.8], \"coloraxis\": \"coloraxis\"}, \"name\": \"\", \"offsetgroup\": \"\", \"orientation\": \"v\", \"showlegend\": false, \"textposition\": \"auto\", \"x\": [\"2020-08-20T00:00:00\", \"2020-08-20T01:00:00\", \"2020-08-20T02:00:00\", \"2020-08-20T03:00:00\", \"2020-08-20T04:00:00\", \"2020-08-20T05:00:00\", \"2020-08-20T06:00:00\", \"2020-08-20T07:00:00\", \"2020-08-20T08:00:00\", \"2020-08-20T09:00:00\", \"2020-08-20T10:00:00\", \"2020-08-20T11:00:00\", \"2020-08-20T12:00:00\", \"2020-08-20T13:00:00\", \"2020-08-20T14:00:00\", \"2020-08-20T15:00:00\", \"2020-08-20T16:00:00\", \"2020-08-20T17:00:00\", \"2020-08-20T18:00:00\", \"2020-08-20T19:00:00\", \"2020-08-20T20:00:00\", \"2020-08-20T21:00:00\", \"2020-08-20T22:00:00\", \"2020-08-20T23:00:00\"], \"xaxis\": \"x\", \"y\": [17.9, 18.1, 18.1, 17.7, 18.2, 17.9, 18.0, 19.2, 22.3, 25.0, 27.1, 28.5, 29.4, 30.0, 31.0, 31.9, 31.1, 29.6, 26.9, 23.0, 21.1, 20.4, 20.3, 19.8], \"yaxis\": \"y\", \"type\": \"bar\"}], \"name\": \"2020-08-20\"}, {\"data\": [{\"alignmentgroup\": \"True\", \"customdata\": [[917, \"Darmstadt\"], [917, \"Darmstadt\"], [917, \"Darmstadt\"], [917, \"Darmstadt\"], [917, \"Darmstadt\"], [917, \"Darmstadt\"], [917, \"Darmstadt\"], [917, \"Darmstadt\"], [917, \"Darmstadt\"], [917, \"Darmstadt\"], [917, \"Darmstadt\"], [917, \"Darmstadt\"], [917, \"Darmstadt\"], [917, \"Darmstadt\"], [917, \"Darmstadt\"], [917, \"Darmstadt\"], [917, \"Darmstadt\"], [917, \"Darmstadt\"], [917, \"Darmstadt\"], [917, \"Darmstadt\"], [917, \"Darmstadt\"], [917, \"Darmstadt\"], [917, \"Darmstadt\"], [917, \"Darmstadt\"]], \"hovertemplate\": \"date2=2020-08-21<br>date=%{x}<br>temperature=%{marker.color}<br>station_id=%{customdata[0]}<br>STATION_NAME=%{customdata[1]}<extra></extra>\", \"legendgroup\": \"\", \"marker\": {\"color\": [19.8, 18.4, 18.1, 17.8, 17.0, 17.3, 19.8, 22.7, 27.2, 29.4, 31.1, 31.4, 32.1, 30.6, 30.0, 28.8, 28.3, 28.1, 27.5, 25.4, 24.0, 22.9, 24.6, 23.9], \"coloraxis\": \"coloraxis\"}, \"name\": \"\", \"offsetgroup\": \"\", \"orientation\": \"v\", \"showlegend\": false, \"textposition\": \"auto\", \"x\": [\"2020-08-21T00:00:00\", \"2020-08-21T01:00:00\", \"2020-08-21T02:00:00\", \"2020-08-21T03:00:00\", \"2020-08-21T04:00:00\", \"2020-08-21T05:00:00\", \"2020-08-21T06:00:00\", \"2020-08-21T07:00:00\", \"2020-08-21T08:00:00\", \"2020-08-21T09:00:00\", \"2020-08-21T10:00:00\", \"2020-08-21T11:00:00\", \"2020-08-21T12:00:00\", \"2020-08-21T13:00:00\", \"2020-08-21T14:00:00\", \"2020-08-21T15:00:00\", \"2020-08-21T16:00:00\", \"2020-08-21T17:00:00\", \"2020-08-21T18:00:00\", \"2020-08-21T19:00:00\", \"2020-08-21T20:00:00\", \"2020-08-21T21:00:00\", \"2020-08-21T22:00:00\", \"2020-08-21T23:00:00\"], \"xaxis\": \"x\", \"y\": [19.8, 18.4, 18.1, 17.8, 17.0, 17.3, 19.8, 22.7, 27.2, 29.4, 31.1, 31.4, 32.1, 30.6, 30.0, 28.8, 28.3, 28.1, 27.5, 25.4, 24.0, 22.9, 24.6, 23.9], \"yaxis\": \"y\", \"type\": \"bar\"}], \"name\": \"2020-08-21\"}, {\"data\": [{\"alignmentgroup\": \"True\", \"customdata\": [[917, \"Darmstadt\"], [917, \"Darmstadt\"], [917, \"Darmstadt\"], [917, \"Darmstadt\"], [917, \"Darmstadt\"], [917, \"Darmstadt\"], [917, \"Darmstadt\"], [917, \"Darmstadt\"], [917, \"Darmstadt\"], [917, \"Darmstadt\"], [917, \"Darmstadt\"], [917, \"Darmstadt\"], [917, \"Darmstadt\"], [917, \"Darmstadt\"], [917, \"Darmstadt\"], [917, \"Darmstadt\"], [917, \"Darmstadt\"], [917, \"Darmstadt\"], [917, \"Darmstadt\"], [917, \"Darmstadt\"], [917, \"Darmstadt\"], [917, \"Darmstadt\"], [917, \"Darmstadt\"], [917, \"Darmstadt\"]], \"hovertemplate\": \"date2=2020-08-22<br>date=%{x}<br>temperature=%{marker.color}<br>station_id=%{customdata[0]}<br>STATION_NAME=%{customdata[1]}<extra></extra>\", \"legendgroup\": \"\", \"marker\": {\"color\": [24.2, 20.8, 19.9, 19.5, 19.3, 18.8, 18.9, 19.3, 19.5, 20.4, 21.4, 23.6, 24.2, 24.7, 24.7, 25.4, 24.5, 23.1, 22.6, 21.3, 20.9, 20.1, 19.8, 19.0], \"coloraxis\": \"coloraxis\"}, \"name\": \"\", \"offsetgroup\": \"\", \"orientation\": \"v\", \"showlegend\": false, \"textposition\": \"auto\", \"x\": [\"2020-08-22T00:00:00\", \"2020-08-22T01:00:00\", \"2020-08-22T02:00:00\", \"2020-08-22T03:00:00\", \"2020-08-22T04:00:00\", \"2020-08-22T05:00:00\", \"2020-08-22T06:00:00\", \"2020-08-22T07:00:00\", \"2020-08-22T08:00:00\", \"2020-08-22T09:00:00\", \"2020-08-22T10:00:00\", \"2020-08-22T11:00:00\", \"2020-08-22T12:00:00\", \"2020-08-22T13:00:00\", \"2020-08-22T14:00:00\", \"2020-08-22T15:00:00\", \"2020-08-22T16:00:00\", \"2020-08-22T17:00:00\", \"2020-08-22T18:00:00\", \"2020-08-22T19:00:00\", \"2020-08-22T20:00:00\", \"2020-08-22T21:00:00\", \"2020-08-22T22:00:00\", \"2020-08-22T23:00:00\"], \"xaxis\": \"x\", \"y\": [24.2, 20.8, 19.9, 19.5, 19.3, 18.8, 18.9, 19.3, 19.5, 20.4, 21.4, 23.6, 24.2, 24.7, 24.7, 25.4, 24.5, 23.1, 22.6, 21.3, 20.9, 20.1, 19.8, 19.0], \"yaxis\": \"y\", \"type\": \"bar\"}], \"name\": \"2020-08-22\"}, {\"data\": [{\"alignmentgroup\": \"True\", \"customdata\": [[917, \"Darmstadt\"], [917, \"Darmstadt\"], [917, \"Darmstadt\"], [917, \"Darmstadt\"], [917, \"Darmstadt\"], [917, \"Darmstadt\"], [917, \"Darmstadt\"], [917, \"Darmstadt\"], [917, \"Darmstadt\"], [917, \"Darmstadt\"], [917, \"Darmstadt\"], [917, \"Darmstadt\"], [917, \"Darmstadt\"], [917, \"Darmstadt\"], [917, \"Darmstadt\"], [917, \"Darmstadt\"], [917, \"Darmstadt\"], [917, \"Darmstadt\"], [917, \"Darmstadt\"], [917, \"Darmstadt\"], [917, \"Darmstadt\"], [917, \"Darmstadt\"], [917, \"Darmstadt\"], [917, \"Darmstadt\"]], \"hovertemplate\": \"date2=2020-08-23<br>date=%{x}<br>temperature=%{marker.color}<br>station_id=%{customdata[0]}<br>STATION_NAME=%{customdata[1]}<extra></extra>\", \"legendgroup\": \"\", \"marker\": {\"color\": [19.1, 19.0, 18.7, 18.4, 17.6, 17.5, 18.2, 19.3, 20.1, 21.4, 22.3, 23.6, 23.2, 22.9, 22.9, 23.9, 23.3, 22.0, 21.0, 19.3, 17.6, 16.9, 17.4, 16.8], \"coloraxis\": \"coloraxis\"}, \"name\": \"\", \"offsetgroup\": \"\", \"orientation\": \"v\", \"showlegend\": false, \"textposition\": \"auto\", \"x\": [\"2020-08-23T00:00:00\", \"2020-08-23T01:00:00\", \"2020-08-23T02:00:00\", \"2020-08-23T03:00:00\", \"2020-08-23T04:00:00\", \"2020-08-23T05:00:00\", \"2020-08-23T06:00:00\", \"2020-08-23T07:00:00\", \"2020-08-23T08:00:00\", \"2020-08-23T09:00:00\", \"2020-08-23T10:00:00\", \"2020-08-23T11:00:00\", \"2020-08-23T12:00:00\", \"2020-08-23T13:00:00\", \"2020-08-23T14:00:00\", \"2020-08-23T15:00:00\", \"2020-08-23T16:00:00\", \"2020-08-23T17:00:00\", \"2020-08-23T18:00:00\", \"2020-08-23T19:00:00\", \"2020-08-23T20:00:00\", \"2020-08-23T21:00:00\", \"2020-08-23T22:00:00\", \"2020-08-23T23:00:00\"], \"xaxis\": \"x\", \"y\": [19.1, 19.0, 18.7, 18.4, 17.6, 17.5, 18.2, 19.3, 20.1, 21.4, 22.3, 23.6, 23.2, 22.9, 22.9, 23.9, 23.3, 22.0, 21.0, 19.3, 17.6, 16.9, 17.4, 16.8], \"yaxis\": \"y\", \"type\": \"bar\"}], \"name\": \"2020-08-23\"}, {\"data\": [{\"alignmentgroup\": \"True\", \"customdata\": [[917, \"Darmstadt\"], [917, \"Darmstadt\"], [917, \"Darmstadt\"], [917, \"Darmstadt\"], [917, \"Darmstadt\"], [917, \"Darmstadt\"], [917, \"Darmstadt\"], [917, \"Darmstadt\"], [917, \"Darmstadt\"], [917, \"Darmstadt\"], [917, \"Darmstadt\"], [917, \"Darmstadt\"], [917, \"Darmstadt\"], [917, \"Darmstadt\"], [917, \"Darmstadt\"], [917, \"Darmstadt\"], [917, \"Darmstadt\"], [917, \"Darmstadt\"], [917, \"Darmstadt\"], [917, \"Darmstadt\"], [917, \"Darmstadt\"], [917, \"Darmstadt\"], [917, \"Darmstadt\"], [917, \"Darmstadt\"]], \"hovertemplate\": \"date2=2020-08-24<br>date=%{x}<br>temperature=%{marker.color}<br>station_id=%{customdata[0]}<br>STATION_NAME=%{customdata[1]}<extra></extra>\", \"legendgroup\": \"\", \"marker\": {\"color\": [15.5, 15.7, 15.7, 15.7, 15.4, 15.4, 16.0, 17.0, 17.5, 17.4, 19.6, 20.9, 21.5, 22.6, 23.6, 22.1, 21.8, 21.2, 19.5, 17.6, 14.4, 12.9, 12.7, 12.6], \"coloraxis\": \"coloraxis\"}, \"name\": \"\", \"offsetgroup\": \"\", \"orientation\": \"v\", \"showlegend\": false, \"textposition\": \"auto\", \"x\": [\"2020-08-24T00:00:00\", \"2020-08-24T01:00:00\", \"2020-08-24T02:00:00\", \"2020-08-24T03:00:00\", \"2020-08-24T04:00:00\", \"2020-08-24T05:00:00\", \"2020-08-24T06:00:00\", \"2020-08-24T07:00:00\", \"2020-08-24T08:00:00\", \"2020-08-24T09:00:00\", \"2020-08-24T10:00:00\", \"2020-08-24T11:00:00\", \"2020-08-24T12:00:00\", \"2020-08-24T13:00:00\", \"2020-08-24T14:00:00\", \"2020-08-24T15:00:00\", \"2020-08-24T16:00:00\", \"2020-08-24T17:00:00\", \"2020-08-24T18:00:00\", \"2020-08-24T19:00:00\", \"2020-08-24T20:00:00\", \"2020-08-24T21:00:00\", \"2020-08-24T22:00:00\", \"2020-08-24T23:00:00\"], \"xaxis\": \"x\", \"y\": [15.5, 15.7, 15.7, 15.7, 15.4, 15.4, 16.0, 17.0, 17.5, 17.4, 19.6, 20.9, 21.5, 22.6, 23.6, 22.1, 21.8, 21.2, 19.5, 17.6, 14.4, 12.9, 12.7, 12.6], \"yaxis\": \"y\", \"type\": \"bar\"}], \"name\": \"2020-08-24\"}, {\"data\": [{\"alignmentgroup\": \"True\", \"customdata\": [[917, \"Darmstadt\"], [917, \"Darmstadt\"], [917, \"Darmstadt\"], [917, \"Darmstadt\"], [917, \"Darmstadt\"], [917, \"Darmstadt\"], [917, \"Darmstadt\"], [917, \"Darmstadt\"], [917, \"Darmstadt\"], [917, \"Darmstadt\"], [917, \"Darmstadt\"], [917, \"Darmstadt\"], [917, \"Darmstadt\"], [917, \"Darmstadt\"], [917, \"Darmstadt\"], [917, \"Darmstadt\"], [917, \"Darmstadt\"], [917, \"Darmstadt\"], [917, \"Darmstadt\"], [917, \"Darmstadt\"], [917, \"Darmstadt\"], [917, \"Darmstadt\"], [917, \"Darmstadt\"], [917, \"Darmstadt\"]], \"hovertemplate\": \"date2=2020-08-25<br>date=%{x}<br>temperature=%{marker.color}<br>station_id=%{customdata[0]}<br>STATION_NAME=%{customdata[1]}<extra></extra>\", \"legendgroup\": \"\", \"marker\": {\"color\": [12.0, 12.8, 13.4, 12.6, 11.2, 10.4, 12.5, 17.0, 18.3, 18.8, 21.4, 20.9, 20.8, 21.9, 21.3, 21.0, 21.5, 21.0, 20.6, 18.5, 20.4, 22.1, 22.3, 21.5], \"coloraxis\": \"coloraxis\"}, \"name\": \"\", \"offsetgroup\": \"\", \"orientation\": \"v\", \"showlegend\": false, \"textposition\": \"auto\", \"x\": [\"2020-08-25T00:00:00\", \"2020-08-25T01:00:00\", \"2020-08-25T02:00:00\", \"2020-08-25T03:00:00\", \"2020-08-25T04:00:00\", \"2020-08-25T05:00:00\", \"2020-08-25T06:00:00\", \"2020-08-25T07:00:00\", \"2020-08-25T08:00:00\", \"2020-08-25T09:00:00\", \"2020-08-25T10:00:00\", \"2020-08-25T11:00:00\", \"2020-08-25T12:00:00\", \"2020-08-25T13:00:00\", \"2020-08-25T14:00:00\", \"2020-08-25T15:00:00\", \"2020-08-25T16:00:00\", \"2020-08-25T17:00:00\", \"2020-08-25T18:00:00\", \"2020-08-25T19:00:00\", \"2020-08-25T20:00:00\", \"2020-08-25T21:00:00\", \"2020-08-25T22:00:00\", \"2020-08-25T23:00:00\"], \"xaxis\": \"x\", \"y\": [12.0, 12.8, 13.4, 12.6, 11.2, 10.4, 12.5, 17.0, 18.3, 18.8, 21.4, 20.9, 20.8, 21.9, 21.3, 21.0, 21.5, 21.0, 20.6, 18.5, 20.4, 22.1, 22.3, 21.5], \"yaxis\": \"y\", \"type\": \"bar\"}], \"name\": \"2020-08-25\"}, {\"data\": [{\"alignmentgroup\": \"True\", \"customdata\": [[917, \"Darmstadt\"], [917, \"Darmstadt\"], [917, \"Darmstadt\"], [917, \"Darmstadt\"], [917, \"Darmstadt\"], [917, \"Darmstadt\"], [917, \"Darmstadt\"], [917, \"Darmstadt\"], [917, \"Darmstadt\"], [917, \"Darmstadt\"], [917, \"Darmstadt\"], [917, \"Darmstadt\"], [917, \"Darmstadt\"], [917, \"Darmstadt\"], [917, \"Darmstadt\"], [917, \"Darmstadt\"], [917, \"Darmstadt\"], [917, \"Darmstadt\"], [917, \"Darmstadt\"], [917, \"Darmstadt\"], [917, \"Darmstadt\"], [917, \"Darmstadt\"], [917, \"Darmstadt\"], [917, \"Darmstadt\"]], \"hovertemplate\": \"date2=2020-08-26<br>date=%{x}<br>temperature=%{marker.color}<br>station_id=%{customdata[0]}<br>STATION_NAME=%{customdata[1]}<extra></extra>\", \"legendgroup\": \"\", \"marker\": {\"color\": [21.7, 21.2, 21.4, 21.0, 20.3, 19.6, 19.2, 19.9, 19.6, 20.6, 20.2, 20.4, 21.0, 21.3, 22.8, 22.5, 22.3, 22.4, 22.0, 20.9, 20.5, 17.7, 17.7, 16.7], \"coloraxis\": \"coloraxis\"}, \"name\": \"\", \"offsetgroup\": \"\", \"orientation\": \"v\", \"showlegend\": false, \"textposition\": \"auto\", \"x\": [\"2020-08-26T00:00:00\", \"2020-08-26T01:00:00\", \"2020-08-26T02:00:00\", \"2020-08-26T03:00:00\", \"2020-08-26T04:00:00\", \"2020-08-26T05:00:00\", \"2020-08-26T06:00:00\", \"2020-08-26T07:00:00\", \"2020-08-26T08:00:00\", \"2020-08-26T09:00:00\", \"2020-08-26T10:00:00\", \"2020-08-26T11:00:00\", \"2020-08-26T12:00:00\", \"2020-08-26T13:00:00\", \"2020-08-26T14:00:00\", \"2020-08-26T15:00:00\", \"2020-08-26T16:00:00\", \"2020-08-26T17:00:00\", \"2020-08-26T18:00:00\", \"2020-08-26T19:00:00\", \"2020-08-26T20:00:00\", \"2020-08-26T21:00:00\", \"2020-08-26T22:00:00\", \"2020-08-26T23:00:00\"], \"xaxis\": \"x\", \"y\": [21.7, 21.2, 21.4, 21.0, 20.3, 19.6, 19.2, 19.9, 19.6, 20.6, 20.2, 20.4, 21.0, 21.3, 22.8, 22.5, 22.3, 22.4, 22.0, 20.9, 20.5, 17.7, 17.7, 16.7], \"yaxis\": \"y\", \"type\": \"bar\"}], \"name\": \"2020-08-26\"}, {\"data\": [{\"alignmentgroup\": \"True\", \"customdata\": [[917, \"Darmstadt\"], [917, \"Darmstadt\"], [917, \"Darmstadt\"], [917, \"Darmstadt\"], [917, \"Darmstadt\"], [917, \"Darmstadt\"], [917, \"Darmstadt\"], [917, \"Darmstadt\"], [917, \"Darmstadt\"], [917, \"Darmstadt\"], [917, \"Darmstadt\"], [917, \"Darmstadt\"], [917, \"Darmstadt\"], [917, \"Darmstadt\"], [917, \"Darmstadt\"], [917, \"Darmstadt\"], [917, \"Darmstadt\"], [917, \"Darmstadt\"], [917, \"Darmstadt\"], [917, \"Darmstadt\"], [917, \"Darmstadt\"], [917, \"Darmstadt\"], [917, \"Darmstadt\"], [917, \"Darmstadt\"]], \"hovertemplate\": \"date2=2020-08-27<br>date=%{x}<br>temperature=%{marker.color}<br>station_id=%{customdata[0]}<br>STATION_NAME=%{customdata[1]}<extra></extra>\", \"legendgroup\": \"\", \"marker\": {\"color\": [14.8, 13.6, 11.8, 11.0, 10.2, 10.0, 12.6, 16.0, 17.9, 18.8, 19.4, 20.0, 20.6, 21.3, 22.5, 23.1, 23.1, 21.0, 18.6, 15.5, 13.9, 14.8, 15.2, 16.3], \"coloraxis\": \"coloraxis\"}, \"name\": \"\", \"offsetgroup\": \"\", \"orientation\": \"v\", \"showlegend\": false, \"textposition\": \"auto\", \"x\": [\"2020-08-27T00:00:00\", \"2020-08-27T01:00:00\", \"2020-08-27T02:00:00\", \"2020-08-27T03:00:00\", \"2020-08-27T04:00:00\", \"2020-08-27T05:00:00\", \"2020-08-27T06:00:00\", \"2020-08-27T07:00:00\", \"2020-08-27T08:00:00\", \"2020-08-27T09:00:00\", \"2020-08-27T10:00:00\", \"2020-08-27T11:00:00\", \"2020-08-27T12:00:00\", \"2020-08-27T13:00:00\", \"2020-08-27T14:00:00\", \"2020-08-27T15:00:00\", \"2020-08-27T16:00:00\", \"2020-08-27T17:00:00\", \"2020-08-27T18:00:00\", \"2020-08-27T19:00:00\", \"2020-08-27T20:00:00\", \"2020-08-27T21:00:00\", \"2020-08-27T22:00:00\", \"2020-08-27T23:00:00\"], \"xaxis\": \"x\", \"y\": [14.8, 13.6, 11.8, 11.0, 10.2, 10.0, 12.6, 16.0, 17.9, 18.8, 19.4, 20.0, 20.6, 21.3, 22.5, 23.1, 23.1, 21.0, 18.6, 15.5, 13.9, 14.8, 15.2, 16.3], \"yaxis\": \"y\", \"type\": \"bar\"}], \"name\": \"2020-08-27\"}, {\"data\": [{\"alignmentgroup\": \"True\", \"customdata\": [[917, \"Darmstadt\"], [917, \"Darmstadt\"], [917, \"Darmstadt\"], [917, \"Darmstadt\"], [917, \"Darmstadt\"], [917, \"Darmstadt\"], [917, \"Darmstadt\"], [917, \"Darmstadt\"], [917, \"Darmstadt\"], [917, \"Darmstadt\"], [917, \"Darmstadt\"], [917, \"Darmstadt\"], [917, \"Darmstadt\"], [917, \"Darmstadt\"], [917, \"Darmstadt\"], [917, \"Darmstadt\"], [917, \"Darmstadt\"], [917, \"Darmstadt\"], [917, \"Darmstadt\"], [917, \"Darmstadt\"], [917, \"Darmstadt\"], [917, \"Darmstadt\"], [917, \"Darmstadt\"], [917, \"Darmstadt\"]], \"hovertemplate\": \"date2=2020-08-28<br>date=%{x}<br>temperature=%{marker.color}<br>station_id=%{customdata[0]}<br>STATION_NAME=%{customdata[1]}<extra></extra>\", \"legendgroup\": \"\", \"marker\": {\"color\": [15.9, 14.6, 15.7, 14.9, 14.9, 14.8, 16.0, 17.2, 20.1, 19.4, 20.4, 20.1, 20.2, 21.4, 20.8, 20.3, 19.6, 19.2, 18.5, 17.3, 17.5, 15.2, 13.7, 14.2], \"coloraxis\": \"coloraxis\"}, \"name\": \"\", \"offsetgroup\": \"\", \"orientation\": \"v\", \"showlegend\": false, \"textposition\": \"auto\", \"x\": [\"2020-08-28T00:00:00\", \"2020-08-28T01:00:00\", \"2020-08-28T02:00:00\", \"2020-08-28T03:00:00\", \"2020-08-28T04:00:00\", \"2020-08-28T05:00:00\", \"2020-08-28T06:00:00\", \"2020-08-28T07:00:00\", \"2020-08-28T08:00:00\", \"2020-08-28T09:00:00\", \"2020-08-28T10:00:00\", \"2020-08-28T11:00:00\", \"2020-08-28T12:00:00\", \"2020-08-28T13:00:00\", \"2020-08-28T14:00:00\", \"2020-08-28T15:00:00\", \"2020-08-28T16:00:00\", \"2020-08-28T17:00:00\", \"2020-08-28T18:00:00\", \"2020-08-28T19:00:00\", \"2020-08-28T20:00:00\", \"2020-08-28T21:00:00\", \"2020-08-28T22:00:00\", \"2020-08-28T23:00:00\"], \"xaxis\": \"x\", \"y\": [15.9, 14.6, 15.7, 14.9, 14.9, 14.8, 16.0, 17.2, 20.1, 19.4, 20.4, 20.1, 20.2, 21.4, 20.8, 20.3, 19.6, 19.2, 18.5, 17.3, 17.5, 15.2, 13.7, 14.2], \"yaxis\": \"y\", \"type\": \"bar\"}], \"name\": \"2020-08-28\"}, {\"data\": [{\"alignmentgroup\": \"True\", \"customdata\": [[917, \"Darmstadt\"], [917, \"Darmstadt\"], [917, \"Darmstadt\"], [917, \"Darmstadt\"], [917, \"Darmstadt\"], [917, \"Darmstadt\"], [917, \"Darmstadt\"], [917, \"Darmstadt\"], [917, \"Darmstadt\"], [917, \"Darmstadt\"], [917, \"Darmstadt\"], [917, \"Darmstadt\"], [917, \"Darmstadt\"], [917, \"Darmstadt\"], [917, \"Darmstadt\"], [917, \"Darmstadt\"], [917, \"Darmstadt\"], [917, \"Darmstadt\"], [917, \"Darmstadt\"], [917, \"Darmstadt\"], [917, \"Darmstadt\"], [917, \"Darmstadt\"], [917, \"Darmstadt\"], [917, \"Darmstadt\"]], \"hovertemplate\": \"date2=2020-08-29<br>date=%{x}<br>temperature=%{marker.color}<br>station_id=%{customdata[0]}<br>STATION_NAME=%{customdata[1]}<extra></extra>\", \"legendgroup\": \"\", \"marker\": {\"color\": [14.6, 14.6, 13.5, 13.4, 13.2, 13.2, 14.2, 15.3, 16.3, 17.3, 18.1, 18.5, 19.7, 19.6, 20.8, 20.7, 19.8, 18.8, 16.9, 15.0, 13.6, 13.1, 12.6, 11.8], \"coloraxis\": \"coloraxis\"}, \"name\": \"\", \"offsetgroup\": \"\", \"orientation\": \"v\", \"showlegend\": false, \"textposition\": \"auto\", \"x\": [\"2020-08-29T00:00:00\", \"2020-08-29T01:00:00\", \"2020-08-29T02:00:00\", \"2020-08-29T03:00:00\", \"2020-08-29T04:00:00\", \"2020-08-29T05:00:00\", \"2020-08-29T06:00:00\", \"2020-08-29T07:00:00\", \"2020-08-29T08:00:00\", \"2020-08-29T09:00:00\", \"2020-08-29T10:00:00\", \"2020-08-29T11:00:00\", \"2020-08-29T12:00:00\", \"2020-08-29T13:00:00\", \"2020-08-29T14:00:00\", \"2020-08-29T15:00:00\", \"2020-08-29T16:00:00\", \"2020-08-29T17:00:00\", \"2020-08-29T18:00:00\", \"2020-08-29T19:00:00\", \"2020-08-29T20:00:00\", \"2020-08-29T21:00:00\", \"2020-08-29T22:00:00\", \"2020-08-29T23:00:00\"], \"xaxis\": \"x\", \"y\": [14.6, 14.6, 13.5, 13.4, 13.2, 13.2, 14.2, 15.3, 16.3, 17.3, 18.1, 18.5, 19.7, 19.6, 20.8, 20.7, 19.8, 18.8, 16.9, 15.0, 13.6, 13.1, 12.6, 11.8], \"yaxis\": \"y\", \"type\": \"bar\"}], \"name\": \"2020-08-29\"}, {\"data\": [{\"alignmentgroup\": \"True\", \"customdata\": [[917, \"Darmstadt\"], [917, \"Darmstadt\"], [917, \"Darmstadt\"], [917, \"Darmstadt\"], [917, \"Darmstadt\"], [917, \"Darmstadt\"], [917, \"Darmstadt\"], [917, \"Darmstadt\"], [917, \"Darmstadt\"], [917, \"Darmstadt\"], [917, \"Darmstadt\"], [917, \"Darmstadt\"], [917, \"Darmstadt\"], [917, \"Darmstadt\"], [917, \"Darmstadt\"], [917, \"Darmstadt\"], [917, \"Darmstadt\"], [917, \"Darmstadt\"], [917, \"Darmstadt\"], [917, \"Darmstadt\"], [917, \"Darmstadt\"], [917, \"Darmstadt\"], [917, \"Darmstadt\"], [917, \"Darmstadt\"]], \"hovertemplate\": \"date2=2020-08-30<br>date=%{x}<br>temperature=%{marker.color}<br>station_id=%{customdata[0]}<br>STATION_NAME=%{customdata[1]}<extra></extra>\", \"legendgroup\": \"\", \"marker\": {\"color\": [11.6, 11.4, 11.2, 10.9, 10.7, 10.9, 11.8, 13.4, 14.6, 16.4, 17.1, 18.1, 19.2, 19.4, 19.1, 18.4, 17.0, 15.1, 13.7, 13.6, 13.4, 13.2, 13.5, 13.4], \"coloraxis\": \"coloraxis\"}, \"name\": \"\", \"offsetgroup\": \"\", \"orientation\": \"v\", \"showlegend\": false, \"textposition\": \"auto\", \"x\": [\"2020-08-30T00:00:00\", \"2020-08-30T01:00:00\", \"2020-08-30T02:00:00\", \"2020-08-30T03:00:00\", \"2020-08-30T04:00:00\", \"2020-08-30T05:00:00\", \"2020-08-30T06:00:00\", \"2020-08-30T07:00:00\", \"2020-08-30T08:00:00\", \"2020-08-30T09:00:00\", \"2020-08-30T10:00:00\", \"2020-08-30T11:00:00\", \"2020-08-30T12:00:00\", \"2020-08-30T13:00:00\", \"2020-08-30T14:00:00\", \"2020-08-30T15:00:00\", \"2020-08-30T16:00:00\", \"2020-08-30T17:00:00\", \"2020-08-30T18:00:00\", \"2020-08-30T19:00:00\", \"2020-08-30T20:00:00\", \"2020-08-30T21:00:00\", \"2020-08-30T22:00:00\", \"2020-08-30T23:00:00\"], \"xaxis\": \"x\", \"y\": [11.6, 11.4, 11.2, 10.9, 10.7, 10.9, 11.8, 13.4, 14.6, 16.4, 17.1, 18.1, 19.2, 19.4, 19.1, 18.4, 17.0, 15.1, 13.7, 13.6, 13.4, 13.2, 13.5, 13.4], \"yaxis\": \"y\", \"type\": \"bar\"}], \"name\": \"2020-08-30\"}, {\"data\": [{\"alignmentgroup\": \"True\", \"customdata\": [[917, \"Darmstadt\"]], \"hovertemplate\": \"date2=2020-08-31<br>date=%{x}<br>temperature=%{marker.color}<br>station_id=%{customdata[0]}<br>STATION_NAME=%{customdata[1]}<extra></extra>\", \"legendgroup\": \"\", \"marker\": {\"color\": [13.1], \"coloraxis\": \"coloraxis\"}, \"name\": \"\", \"offsetgroup\": \"\", \"orientation\": \"v\", \"showlegend\": false, \"textposition\": \"auto\", \"x\": [\"2020-08-31T00:00:00\"], \"xaxis\": \"x\", \"y\": [13.1], \"yaxis\": \"y\", \"type\": \"bar\"}], \"name\": \"2020-08-31\"}]);\n",
       "                        }).then(function(){\n",
       "                            \n",
       "var gd = document.getElementById('fba9d30d-dfd4-4132-b290-f78e99dfe174');\n",
       "var x = new MutationObserver(function (mutations, observer) {{\n",
       "        var display = window.getComputedStyle(gd).display;\n",
       "        if (!display || display === 'none') {{\n",
       "            console.log([gd, 'removed!']);\n",
       "            Plotly.purge(gd);\n",
       "            observer.disconnect();\n",
       "        }}\n",
       "}});\n",
       "\n",
       "// Listen for the removal of the full notebook cells\n",
       "var notebookContainer = gd.closest('#notebook-container');\n",
       "if (notebookContainer) {{\n",
       "    x.observe(notebookContainer, {childList: true});\n",
       "}}\n",
       "\n",
       "// Listen for the clearing of the current output cell\n",
       "var outputEl = gd.closest('.output');\n",
       "if (outputEl) {{\n",
       "    x.observe(outputEl, {childList: true});\n",
       "}}\n",
       "\n",
       "                        })                };                });            </script>        </div>"
      ]
     },
     "metadata": {},
     "output_type": "display_data"
    }
   ],
   "source": [
    "calculate_plot2(tempbydate)"
   ]
  }
 ],
 "metadata": {
  "kernelspec": {
   "display_name": "Python 3",
   "language": "python",
   "name": "python3"
  },
  "language_info": {
   "codemirror_mode": {
    "name": "ipython",
    "version": 3
   },
   "file_extension": ".py",
   "mimetype": "text/x-python",
   "name": "python",
   "nbconvert_exporter": "python",
   "pygments_lexer": "ipython3",
   "version": "3.7.6"
  }
 },
 "nbformat": 4,
 "nbformat_minor": 4
}
