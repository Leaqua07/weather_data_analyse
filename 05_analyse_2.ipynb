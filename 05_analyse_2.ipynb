{
 "cells": [
  {
   "cell_type": "markdown",
   "metadata": {},
   "source": [
    "# Darstellung des Temperaturverlaufes von 24h an einer Wetterstation"
   ]
  },
  {
   "cell_type": "markdown",
   "metadata": {},
   "source": [
    "Von Lea Pellikan   |   Matrikel-Nr.: 3062311   |   Abgabe: 15.11.2020"
   ]
  },
  {
   "cell_type": "markdown",
   "metadata": {},
   "source": [
    "Im folgendem Jupyter Notebook soll ein Balkendiagram erstellt werden, das den stündlichen Temperaturverlauf eines ausgewählten Tages an einer ausgewählten Wetterstation darstellt. \n",
    "\n",
    "Die dafür verwendeten Daten stammen von der Quelle https://wetterdienst.readthedocs.io/en/latest/pages/api.html. Diese Quelle wird vom Deutschen Wetterdienst (DWD) gepflegt und stellt, unter anderem, die stündlich gemessenen Temperaturen von allen Wetterstationen in Deutschland zur Verfügung.  \n",
    "\n",
    "Die Daten wurden aus Performanzgründen nicht direkt von Kafka importiert, sondern per CSV-Datei in einer MongoDB gespeichert. Aus der Datenbank werden die benötigten Daten ausgelesen."
   ]
  },
  {
   "cell_type": "markdown",
   "metadata": {},
   "source": [
    "## 1. Import der Libraries"
   ]
  },
  {
   "cell_type": "markdown",
   "metadata": {},
   "source": [
    "Im Folgenden wird die Library `pymongo` für die Verbindung zur MongoDB verwendet und `pandas` für das Verarbeiten der Collection. Außerdem wird `plotly.express` zur Darstellung der Daten verwendet. "
   ]
  },
  {
   "cell_type": "code",
   "execution_count": 5,
   "metadata": {},
   "outputs": [],
   "source": [
    "import pandas as pd\n",
    "import plotly.express as px\n",
    "from pymongo import MongoClient"
   ]
  },
  {
   "cell_type": "markdown",
   "metadata": {},
   "source": [
    "## 2. Verbindungsaufbau und Datenauslesung der MongoDB"
   ]
  },
  {
   "cell_type": "markdown",
   "metadata": {},
   "source": [
    "Der folgende Code baut die Verbindung zur MongoDB auf, wobei die Library `pymongo` verwendet wird, dei Durch Docker realisiert ist."
   ]
  },
  {
   "cell_type": "code",
   "execution_count": 6,
   "metadata": {},
   "outputs": [],
   "source": [
    "client = MongoClient('mongodb://localhost:27017/')\n",
    "stations = client.bda.stations\n",
    "weather = client.bda.weather"
   ]
  },
  {
   "cell_type": "markdown",
   "metadata": {},
   "source": [
    "Die methode **get_collection** erstellt ein Dictonary aus der Collection die ausgelesen wurde."
   ]
  },
  {
   "cell_type": "code",
   "execution_count": 7,
   "metadata": {},
   "outputs": [],
   "source": [
    "def get_collection(collection):\n",
    "    documents = []\n",
    "    cursor = collection.find({})\n",
    "    for document in cursor:\n",
    "        documents.append(document)\n",
    "    return documents"
   ]
  },
  {
   "cell_type": "markdown",
   "metadata": {},
   "source": [
    "Im Folgenden wird die Methode **get_collection** verwendet, um mit Hilfe von `pandas` das Dataframe *stations_df* mit den Informationen der Wetterstationen und das Dataframe *weather_df* mit den Wetterinformationen zufüllen. Außerdem wird die Spalte *STATION_ID* zu *station_id* umbenannt, um eine einheitliche Benennung zu erhalten."
   ]
  },
  {
   "cell_type": "code",
   "execution_count": 8,
   "metadata": {},
   "outputs": [],
   "source": [
    "stations_df = pd.DataFrame(get_collection(stations))\n",
    "stations_df = stations_df.rename(columns={\"STATION_ID\": \"station_id\"})"
   ]
  },
  {
   "cell_type": "code",
   "execution_count": 9,
   "metadata": {},
   "outputs": [],
   "source": [
    "weather_df = pd.DataFrame(get_collection(weather))"
   ]
  },
  {
   "cell_type": "markdown",
   "metadata": {},
   "source": [
    "## 3. Mergen und Erläuterung der Daten"
   ]
  },
  {
   "cell_type": "markdown",
   "metadata": {},
   "source": [
    "Danach erfolgt die Zusammenführung der oben erwähnten Dataframes, wobei die station_id das gemeinsamme Attribut ist. Wie in der Ausgabe zu sehen ist, enthält das Dataframe jetzt folgende Daten:\n",
    "* die IDs der Wetterstationen (station_id), \n",
    "* das Datum inklusive Uhrzeit, zu dem die folgende Temperatur gemessen wurde (date), \n",
    "* die Zeitspanne des Datensatzes (FROM_DATE, TO_DATE), \n",
    "* das in diesem Beispiel vernachlässigt werden kann, \n",
    "* die Höhe der Messstation (STATION_HEIGHT), \n",
    "* die Koordinaten der Wetterstation (LAT,LON), \n",
    "* den Namen der Station (STATION_NAME) und \n",
    "* das Bundesland, in der die Wetterstation sich befindet (STATE)."
   ]
  },
  {
   "cell_type": "code",
   "execution_count": 11,
   "metadata": {},
   "outputs": [
    {
     "data": {
      "text/html": [
       "<div>\n",
       "<style scoped>\n",
       "    .dataframe tbody tr th:only-of-type {\n",
       "        vertical-align: middle;\n",
       "    }\n",
       "\n",
       "    .dataframe tbody tr th {\n",
       "        vertical-align: top;\n",
       "    }\n",
       "\n",
       "    .dataframe thead th {\n",
       "        text-align: right;\n",
       "    }\n",
       "</style>\n",
       "<table border=\"1\" class=\"dataframe\">\n",
       "  <thead>\n",
       "    <tr style=\"text-align: right;\">\n",
       "      <th></th>\n",
       "      <th>_id_x</th>\n",
       "      <th>station_id</th>\n",
       "      <th>date</th>\n",
       "      <th>temperature</th>\n",
       "      <th>_id_y</th>\n",
       "      <th>FROM_DATE</th>\n",
       "      <th>TO_DATE</th>\n",
       "      <th>STATION_HEIGHT</th>\n",
       "      <th>LAT</th>\n",
       "      <th>LON</th>\n",
       "      <th>STATION_NAME</th>\n",
       "      <th>STATE</th>\n",
       "    </tr>\n",
       "  </thead>\n",
       "  <tbody>\n",
       "    <tr>\n",
       "      <th>0</th>\n",
       "      <td>5faaa32e2c9f790f334cc002</td>\n",
       "      <td>44</td>\n",
       "      <td>2020-07-01 00:00:00</td>\n",
       "      <td>14.1</td>\n",
       "      <td>5fac44ab08a1e8a529a9cab2</td>\n",
       "      <td>2007-04-01</td>\n",
       "      <td>2020-11-10</td>\n",
       "      <td>44.0</td>\n",
       "      <td>52.9336</td>\n",
       "      <td>8.2370</td>\n",
       "      <td>Großenkneten</td>\n",
       "      <td>Niedersachsen</td>\n",
       "    </tr>\n",
       "    <tr>\n",
       "      <th>1</th>\n",
       "      <td>5faaa32e2c9f790f334cc003</td>\n",
       "      <td>44</td>\n",
       "      <td>2020-07-01 01:00:00</td>\n",
       "      <td>13.7</td>\n",
       "      <td>5fac44ab08a1e8a529a9cab2</td>\n",
       "      <td>2007-04-01</td>\n",
       "      <td>2020-11-10</td>\n",
       "      <td>44.0</td>\n",
       "      <td>52.9336</td>\n",
       "      <td>8.2370</td>\n",
       "      <td>Großenkneten</td>\n",
       "      <td>Niedersachsen</td>\n",
       "    </tr>\n",
       "    <tr>\n",
       "      <th>2</th>\n",
       "      <td>5faaa32e2c9f790f334cc004</td>\n",
       "      <td>44</td>\n",
       "      <td>2020-07-01 02:00:00</td>\n",
       "      <td>13.8</td>\n",
       "      <td>5fac44ab08a1e8a529a9cab2</td>\n",
       "      <td>2007-04-01</td>\n",
       "      <td>2020-11-10</td>\n",
       "      <td>44.0</td>\n",
       "      <td>52.9336</td>\n",
       "      <td>8.2370</td>\n",
       "      <td>Großenkneten</td>\n",
       "      <td>Niedersachsen</td>\n",
       "    </tr>\n",
       "    <tr>\n",
       "      <th>3</th>\n",
       "      <td>5faaa32e2c9f790f334cc005</td>\n",
       "      <td>44</td>\n",
       "      <td>2020-07-01 03:00:00</td>\n",
       "      <td>13.8</td>\n",
       "      <td>5fac44ab08a1e8a529a9cab2</td>\n",
       "      <td>2007-04-01</td>\n",
       "      <td>2020-11-10</td>\n",
       "      <td>44.0</td>\n",
       "      <td>52.9336</td>\n",
       "      <td>8.2370</td>\n",
       "      <td>Großenkneten</td>\n",
       "      <td>Niedersachsen</td>\n",
       "    </tr>\n",
       "    <tr>\n",
       "      <th>4</th>\n",
       "      <td>5faaa32e2c9f790f334cc006</td>\n",
       "      <td>44</td>\n",
       "      <td>2020-07-01 04:00:00</td>\n",
       "      <td>14.0</td>\n",
       "      <td>5fac44ab08a1e8a529a9cab2</td>\n",
       "      <td>2007-04-01</td>\n",
       "      <td>2020-11-10</td>\n",
       "      <td>44.0</td>\n",
       "      <td>52.9336</td>\n",
       "      <td>8.2370</td>\n",
       "      <td>Großenkneten</td>\n",
       "      <td>Niedersachsen</td>\n",
       "    </tr>\n",
       "    <tr>\n",
       "      <th>...</th>\n",
       "      <td>...</td>\n",
       "      <td>...</td>\n",
       "      <td>...</td>\n",
       "      <td>...</td>\n",
       "      <td>...</td>\n",
       "      <td>...</td>\n",
       "      <td>...</td>\n",
       "      <td>...</td>\n",
       "      <td>...</td>\n",
       "      <td>...</td>\n",
       "      <td>...</td>\n",
       "      <td>...</td>\n",
       "    </tr>\n",
       "    <tr>\n",
       "      <th>717933</th>\n",
       "      <td>5faaa6892c9f790f3357b46f</td>\n",
       "      <td>15555</td>\n",
       "      <td>2020-08-30 20:00:00</td>\n",
       "      <td>9.0</td>\n",
       "      <td>5fac44ab08a1e8a529a9cc9f</td>\n",
       "      <td>2016-05-01</td>\n",
       "      <td>2020-11-10</td>\n",
       "      <td>815.0</td>\n",
       "      <td>47.8761</td>\n",
       "      <td>10.5849</td>\n",
       "      <td>Kaufbeuren-Oberbeuren</td>\n",
       "      <td>Bayern</td>\n",
       "    </tr>\n",
       "    <tr>\n",
       "      <th>717934</th>\n",
       "      <td>5faaa6892c9f790f3357b470</td>\n",
       "      <td>15555</td>\n",
       "      <td>2020-08-30 21:00:00</td>\n",
       "      <td>9.0</td>\n",
       "      <td>5fac44ab08a1e8a529a9cc9f</td>\n",
       "      <td>2016-05-01</td>\n",
       "      <td>2020-11-10</td>\n",
       "      <td>815.0</td>\n",
       "      <td>47.8761</td>\n",
       "      <td>10.5849</td>\n",
       "      <td>Kaufbeuren-Oberbeuren</td>\n",
       "      <td>Bayern</td>\n",
       "    </tr>\n",
       "    <tr>\n",
       "      <th>717935</th>\n",
       "      <td>5faaa6892c9f790f3357b471</td>\n",
       "      <td>15555</td>\n",
       "      <td>2020-08-30 22:00:00</td>\n",
       "      <td>9.0</td>\n",
       "      <td>5fac44ab08a1e8a529a9cc9f</td>\n",
       "      <td>2016-05-01</td>\n",
       "      <td>2020-11-10</td>\n",
       "      <td>815.0</td>\n",
       "      <td>47.8761</td>\n",
       "      <td>10.5849</td>\n",
       "      <td>Kaufbeuren-Oberbeuren</td>\n",
       "      <td>Bayern</td>\n",
       "    </tr>\n",
       "    <tr>\n",
       "      <th>717936</th>\n",
       "      <td>5faaa6892c9f790f3357b472</td>\n",
       "      <td>15555</td>\n",
       "      <td>2020-08-30 23:00:00</td>\n",
       "      <td>9.0</td>\n",
       "      <td>5fac44ab08a1e8a529a9cc9f</td>\n",
       "      <td>2016-05-01</td>\n",
       "      <td>2020-11-10</td>\n",
       "      <td>815.0</td>\n",
       "      <td>47.8761</td>\n",
       "      <td>10.5849</td>\n",
       "      <td>Kaufbeuren-Oberbeuren</td>\n",
       "      <td>Bayern</td>\n",
       "    </tr>\n",
       "    <tr>\n",
       "      <th>717937</th>\n",
       "      <td>5faaa6892c9f790f3357b473</td>\n",
       "      <td>15555</td>\n",
       "      <td>2020-08-31 00:00:00</td>\n",
       "      <td>9.1</td>\n",
       "      <td>5fac44ab08a1e8a529a9cc9f</td>\n",
       "      <td>2016-05-01</td>\n",
       "      <td>2020-11-10</td>\n",
       "      <td>815.0</td>\n",
       "      <td>47.8761</td>\n",
       "      <td>10.5849</td>\n",
       "      <td>Kaufbeuren-Oberbeuren</td>\n",
       "      <td>Bayern</td>\n",
       "    </tr>\n",
       "  </tbody>\n",
       "</table>\n",
       "<p>717938 rows × 12 columns</p>\n",
       "</div>"
      ],
      "text/plain": [
       "                           _id_x  station_id                date  temperature  \\\n",
       "0       5faaa32e2c9f790f334cc002          44 2020-07-01 00:00:00         14.1   \n",
       "1       5faaa32e2c9f790f334cc003          44 2020-07-01 01:00:00         13.7   \n",
       "2       5faaa32e2c9f790f334cc004          44 2020-07-01 02:00:00         13.8   \n",
       "3       5faaa32e2c9f790f334cc005          44 2020-07-01 03:00:00         13.8   \n",
       "4       5faaa32e2c9f790f334cc006          44 2020-07-01 04:00:00         14.0   \n",
       "...                          ...         ...                 ...          ...   \n",
       "717933  5faaa6892c9f790f3357b46f       15555 2020-08-30 20:00:00          9.0   \n",
       "717934  5faaa6892c9f790f3357b470       15555 2020-08-30 21:00:00          9.0   \n",
       "717935  5faaa6892c9f790f3357b471       15555 2020-08-30 22:00:00          9.0   \n",
       "717936  5faaa6892c9f790f3357b472       15555 2020-08-30 23:00:00          9.0   \n",
       "717937  5faaa6892c9f790f3357b473       15555 2020-08-31 00:00:00          9.1   \n",
       "\n",
       "                           _id_y  FROM_DATE    TO_DATE  STATION_HEIGHT  \\\n",
       "0       5fac44ab08a1e8a529a9cab2 2007-04-01 2020-11-10            44.0   \n",
       "1       5fac44ab08a1e8a529a9cab2 2007-04-01 2020-11-10            44.0   \n",
       "2       5fac44ab08a1e8a529a9cab2 2007-04-01 2020-11-10            44.0   \n",
       "3       5fac44ab08a1e8a529a9cab2 2007-04-01 2020-11-10            44.0   \n",
       "4       5fac44ab08a1e8a529a9cab2 2007-04-01 2020-11-10            44.0   \n",
       "...                          ...        ...        ...             ...   \n",
       "717933  5fac44ab08a1e8a529a9cc9f 2016-05-01 2020-11-10           815.0   \n",
       "717934  5fac44ab08a1e8a529a9cc9f 2016-05-01 2020-11-10           815.0   \n",
       "717935  5fac44ab08a1e8a529a9cc9f 2016-05-01 2020-11-10           815.0   \n",
       "717936  5fac44ab08a1e8a529a9cc9f 2016-05-01 2020-11-10           815.0   \n",
       "717937  5fac44ab08a1e8a529a9cc9f 2016-05-01 2020-11-10           815.0   \n",
       "\n",
       "            LAT      LON           STATION_NAME          STATE  \n",
       "0       52.9336   8.2370           Großenkneten  Niedersachsen  \n",
       "1       52.9336   8.2370           Großenkneten  Niedersachsen  \n",
       "2       52.9336   8.2370           Großenkneten  Niedersachsen  \n",
       "3       52.9336   8.2370           Großenkneten  Niedersachsen  \n",
       "4       52.9336   8.2370           Großenkneten  Niedersachsen  \n",
       "...         ...      ...                    ...            ...  \n",
       "717933  47.8761  10.5849  Kaufbeuren-Oberbeuren         Bayern  \n",
       "717934  47.8761  10.5849  Kaufbeuren-Oberbeuren         Bayern  \n",
       "717935  47.8761  10.5849  Kaufbeuren-Oberbeuren         Bayern  \n",
       "717936  47.8761  10.5849  Kaufbeuren-Oberbeuren         Bayern  \n",
       "717937  47.8761  10.5849  Kaufbeuren-Oberbeuren         Bayern  \n",
       "\n",
       "[717938 rows x 12 columns]"
      ]
     },
     "execution_count": 11,
     "metadata": {},
     "output_type": "execute_result"
    }
   ],
   "source": [
    "weather_stations = pd.merge(weather_df,stations_df, on=\"station_id\", how=\"left\")\n",
    "weather_stations"
   ]
  },
  {
   "cell_type": "markdown",
   "metadata": {},
   "source": [
    "In der Methode *temp_by_date* wird nach den Temperaturen des übergebenden Datums an der Station, dessen ID übergeben wurde, gefiltert. In der 1. Zeile der Methode wird die Spalte *date* des Daterframes mit dem übergebenen Datum abgeglichen. Da dort die Uhrzeit mit hinterlegt ist, wird diese auf 00:00:00 gesetzt, damit nur nach dem Datum selektiert wird. Das Ergebnis wird danach auf die übergebenen WetterstationsID geprüft."
   ]
  },
  {
   "cell_type": "code",
   "execution_count": 12,
   "metadata": {},
   "outputs": [],
   "source": [
    "def temp_by_date(df,date,stationid):\n",
    "    result= df.loc[df['date'].dt.normalize() == date ]\n",
    "    result2 =  result.loc[result['station_id']== stationid ]\n",
    "    return result2"
   ]
  },
  {
   "cell_type": "markdown",
   "metadata": {},
   "source": [
    "Hier kommt die Methode *temp_by_date* zur Verwendung. Als Beispielparameter wird hier die ID der Wetterstation in Darmstadt (917) und das Datum 20.08.2020 übergeben.\n",
    "In der Ausgabe ist zu sehen, dass nur noch die Informationen dieser Wetterstation an diesem Datum abgebildet werden. \n",
    "\n",
    "(Als alternatives Beispiel empfehle ich Ihnen das Datum des \"2020-08-30 00:00:00\" zu wählen. Daran ist zu sehen, dass die Höchsttemperatur in den 10 Tagen um ca. 10 Grad gesunken ist.)"
   ]
  },
  {
   "cell_type": "code",
   "execution_count": 24,
   "metadata": {},
   "outputs": [
    {
     "data": {
      "text/html": [
       "<div>\n",
       "<style scoped>\n",
       "    .dataframe tbody tr th:only-of-type {\n",
       "        vertical-align: middle;\n",
       "    }\n",
       "\n",
       "    .dataframe tbody tr th {\n",
       "        vertical-align: top;\n",
       "    }\n",
       "\n",
       "    .dataframe thead th {\n",
       "        text-align: right;\n",
       "    }\n",
       "</style>\n",
       "<table border=\"1\" class=\"dataframe\">\n",
       "  <thead>\n",
       "    <tr style=\"text-align: right;\">\n",
       "      <th></th>\n",
       "      <th>_id_x</th>\n",
       "      <th>station_id</th>\n",
       "      <th>date</th>\n",
       "      <th>temperature</th>\n",
       "      <th>_id_y</th>\n",
       "      <th>FROM_DATE</th>\n",
       "      <th>TO_DATE</th>\n",
       "      <th>STATION_HEIGHT</th>\n",
       "      <th>LAT</th>\n",
       "      <th>LON</th>\n",
       "      <th>STATION_NAME</th>\n",
       "      <th>STATE</th>\n",
       "    </tr>\n",
       "  </thead>\n",
       "  <tbody>\n",
       "    <tr>\n",
       "      <th>100247</th>\n",
       "      <td>5faaa3b32c9f790f334e4799</td>\n",
       "      <td>917</td>\n",
       "      <td>2020-08-20 00:00:00</td>\n",
       "      <td>17.9</td>\n",
       "      <td>5fac44ab08a1e8a529a9caf6</td>\n",
       "      <td>2004-09-01</td>\n",
       "      <td>2020-11-10</td>\n",
       "      <td>162.0</td>\n",
       "      <td>49.8809</td>\n",
       "      <td>8.6779</td>\n",
       "      <td>Darmstadt</td>\n",
       "      <td>Hessen</td>\n",
       "    </tr>\n",
       "    <tr>\n",
       "      <th>100248</th>\n",
       "      <td>5faaa3b32c9f790f334e479a</td>\n",
       "      <td>917</td>\n",
       "      <td>2020-08-20 01:00:00</td>\n",
       "      <td>18.1</td>\n",
       "      <td>5fac44ab08a1e8a529a9caf6</td>\n",
       "      <td>2004-09-01</td>\n",
       "      <td>2020-11-10</td>\n",
       "      <td>162.0</td>\n",
       "      <td>49.8809</td>\n",
       "      <td>8.6779</td>\n",
       "      <td>Darmstadt</td>\n",
       "      <td>Hessen</td>\n",
       "    </tr>\n",
       "    <tr>\n",
       "      <th>100249</th>\n",
       "      <td>5faaa3b32c9f790f334e479b</td>\n",
       "      <td>917</td>\n",
       "      <td>2020-08-20 02:00:00</td>\n",
       "      <td>18.1</td>\n",
       "      <td>5fac44ab08a1e8a529a9caf6</td>\n",
       "      <td>2004-09-01</td>\n",
       "      <td>2020-11-10</td>\n",
       "      <td>162.0</td>\n",
       "      <td>49.8809</td>\n",
       "      <td>8.6779</td>\n",
       "      <td>Darmstadt</td>\n",
       "      <td>Hessen</td>\n",
       "    </tr>\n",
       "    <tr>\n",
       "      <th>100250</th>\n",
       "      <td>5faaa3b32c9f790f334e479c</td>\n",
       "      <td>917</td>\n",
       "      <td>2020-08-20 03:00:00</td>\n",
       "      <td>17.7</td>\n",
       "      <td>5fac44ab08a1e8a529a9caf6</td>\n",
       "      <td>2004-09-01</td>\n",
       "      <td>2020-11-10</td>\n",
       "      <td>162.0</td>\n",
       "      <td>49.8809</td>\n",
       "      <td>8.6779</td>\n",
       "      <td>Darmstadt</td>\n",
       "      <td>Hessen</td>\n",
       "    </tr>\n",
       "    <tr>\n",
       "      <th>100251</th>\n",
       "      <td>5faaa3b32c9f790f334e479d</td>\n",
       "      <td>917</td>\n",
       "      <td>2020-08-20 04:00:00</td>\n",
       "      <td>18.2</td>\n",
       "      <td>5fac44ab08a1e8a529a9caf6</td>\n",
       "      <td>2004-09-01</td>\n",
       "      <td>2020-11-10</td>\n",
       "      <td>162.0</td>\n",
       "      <td>49.8809</td>\n",
       "      <td>8.6779</td>\n",
       "      <td>Darmstadt</td>\n",
       "      <td>Hessen</td>\n",
       "    </tr>\n",
       "    <tr>\n",
       "      <th>100252</th>\n",
       "      <td>5faaa3b32c9f790f334e479e</td>\n",
       "      <td>917</td>\n",
       "      <td>2020-08-20 05:00:00</td>\n",
       "      <td>17.9</td>\n",
       "      <td>5fac44ab08a1e8a529a9caf6</td>\n",
       "      <td>2004-09-01</td>\n",
       "      <td>2020-11-10</td>\n",
       "      <td>162.0</td>\n",
       "      <td>49.8809</td>\n",
       "      <td>8.6779</td>\n",
       "      <td>Darmstadt</td>\n",
       "      <td>Hessen</td>\n",
       "    </tr>\n",
       "    <tr>\n",
       "      <th>100253</th>\n",
       "      <td>5faaa3b32c9f790f334e479f</td>\n",
       "      <td>917</td>\n",
       "      <td>2020-08-20 06:00:00</td>\n",
       "      <td>18.0</td>\n",
       "      <td>5fac44ab08a1e8a529a9caf6</td>\n",
       "      <td>2004-09-01</td>\n",
       "      <td>2020-11-10</td>\n",
       "      <td>162.0</td>\n",
       "      <td>49.8809</td>\n",
       "      <td>8.6779</td>\n",
       "      <td>Darmstadt</td>\n",
       "      <td>Hessen</td>\n",
       "    </tr>\n",
       "    <tr>\n",
       "      <th>100254</th>\n",
       "      <td>5faaa3b32c9f790f334e47a0</td>\n",
       "      <td>917</td>\n",
       "      <td>2020-08-20 07:00:00</td>\n",
       "      <td>19.2</td>\n",
       "      <td>5fac44ab08a1e8a529a9caf6</td>\n",
       "      <td>2004-09-01</td>\n",
       "      <td>2020-11-10</td>\n",
       "      <td>162.0</td>\n",
       "      <td>49.8809</td>\n",
       "      <td>8.6779</td>\n",
       "      <td>Darmstadt</td>\n",
       "      <td>Hessen</td>\n",
       "    </tr>\n",
       "    <tr>\n",
       "      <th>100255</th>\n",
       "      <td>5faaa3b32c9f790f334e47a1</td>\n",
       "      <td>917</td>\n",
       "      <td>2020-08-20 08:00:00</td>\n",
       "      <td>22.3</td>\n",
       "      <td>5fac44ab08a1e8a529a9caf6</td>\n",
       "      <td>2004-09-01</td>\n",
       "      <td>2020-11-10</td>\n",
       "      <td>162.0</td>\n",
       "      <td>49.8809</td>\n",
       "      <td>8.6779</td>\n",
       "      <td>Darmstadt</td>\n",
       "      <td>Hessen</td>\n",
       "    </tr>\n",
       "    <tr>\n",
       "      <th>100256</th>\n",
       "      <td>5faaa3b32c9f790f334e47a2</td>\n",
       "      <td>917</td>\n",
       "      <td>2020-08-20 09:00:00</td>\n",
       "      <td>25.0</td>\n",
       "      <td>5fac44ab08a1e8a529a9caf6</td>\n",
       "      <td>2004-09-01</td>\n",
       "      <td>2020-11-10</td>\n",
       "      <td>162.0</td>\n",
       "      <td>49.8809</td>\n",
       "      <td>8.6779</td>\n",
       "      <td>Darmstadt</td>\n",
       "      <td>Hessen</td>\n",
       "    </tr>\n",
       "    <tr>\n",
       "      <th>100257</th>\n",
       "      <td>5faaa3b32c9f790f334e47a3</td>\n",
       "      <td>917</td>\n",
       "      <td>2020-08-20 10:00:00</td>\n",
       "      <td>27.1</td>\n",
       "      <td>5fac44ab08a1e8a529a9caf6</td>\n",
       "      <td>2004-09-01</td>\n",
       "      <td>2020-11-10</td>\n",
       "      <td>162.0</td>\n",
       "      <td>49.8809</td>\n",
       "      <td>8.6779</td>\n",
       "      <td>Darmstadt</td>\n",
       "      <td>Hessen</td>\n",
       "    </tr>\n",
       "    <tr>\n",
       "      <th>100258</th>\n",
       "      <td>5faaa3b32c9f790f334e47a4</td>\n",
       "      <td>917</td>\n",
       "      <td>2020-08-20 11:00:00</td>\n",
       "      <td>28.5</td>\n",
       "      <td>5fac44ab08a1e8a529a9caf6</td>\n",
       "      <td>2004-09-01</td>\n",
       "      <td>2020-11-10</td>\n",
       "      <td>162.0</td>\n",
       "      <td>49.8809</td>\n",
       "      <td>8.6779</td>\n",
       "      <td>Darmstadt</td>\n",
       "      <td>Hessen</td>\n",
       "    </tr>\n",
       "    <tr>\n",
       "      <th>100259</th>\n",
       "      <td>5faaa3b32c9f790f334e47a5</td>\n",
       "      <td>917</td>\n",
       "      <td>2020-08-20 12:00:00</td>\n",
       "      <td>29.4</td>\n",
       "      <td>5fac44ab08a1e8a529a9caf6</td>\n",
       "      <td>2004-09-01</td>\n",
       "      <td>2020-11-10</td>\n",
       "      <td>162.0</td>\n",
       "      <td>49.8809</td>\n",
       "      <td>8.6779</td>\n",
       "      <td>Darmstadt</td>\n",
       "      <td>Hessen</td>\n",
       "    </tr>\n",
       "    <tr>\n",
       "      <th>100260</th>\n",
       "      <td>5faaa3b32c9f790f334e47a6</td>\n",
       "      <td>917</td>\n",
       "      <td>2020-08-20 13:00:00</td>\n",
       "      <td>30.0</td>\n",
       "      <td>5fac44ab08a1e8a529a9caf6</td>\n",
       "      <td>2004-09-01</td>\n",
       "      <td>2020-11-10</td>\n",
       "      <td>162.0</td>\n",
       "      <td>49.8809</td>\n",
       "      <td>8.6779</td>\n",
       "      <td>Darmstadt</td>\n",
       "      <td>Hessen</td>\n",
       "    </tr>\n",
       "    <tr>\n",
       "      <th>100261</th>\n",
       "      <td>5faaa3b32c9f790f334e47a7</td>\n",
       "      <td>917</td>\n",
       "      <td>2020-08-20 14:00:00</td>\n",
       "      <td>31.0</td>\n",
       "      <td>5fac44ab08a1e8a529a9caf6</td>\n",
       "      <td>2004-09-01</td>\n",
       "      <td>2020-11-10</td>\n",
       "      <td>162.0</td>\n",
       "      <td>49.8809</td>\n",
       "      <td>8.6779</td>\n",
       "      <td>Darmstadt</td>\n",
       "      <td>Hessen</td>\n",
       "    </tr>\n",
       "    <tr>\n",
       "      <th>100262</th>\n",
       "      <td>5faaa3b32c9f790f334e47a8</td>\n",
       "      <td>917</td>\n",
       "      <td>2020-08-20 15:00:00</td>\n",
       "      <td>31.9</td>\n",
       "      <td>5fac44ab08a1e8a529a9caf6</td>\n",
       "      <td>2004-09-01</td>\n",
       "      <td>2020-11-10</td>\n",
       "      <td>162.0</td>\n",
       "      <td>49.8809</td>\n",
       "      <td>8.6779</td>\n",
       "      <td>Darmstadt</td>\n",
       "      <td>Hessen</td>\n",
       "    </tr>\n",
       "    <tr>\n",
       "      <th>100263</th>\n",
       "      <td>5faaa3b32c9f790f334e47a9</td>\n",
       "      <td>917</td>\n",
       "      <td>2020-08-20 16:00:00</td>\n",
       "      <td>31.1</td>\n",
       "      <td>5fac44ab08a1e8a529a9caf6</td>\n",
       "      <td>2004-09-01</td>\n",
       "      <td>2020-11-10</td>\n",
       "      <td>162.0</td>\n",
       "      <td>49.8809</td>\n",
       "      <td>8.6779</td>\n",
       "      <td>Darmstadt</td>\n",
       "      <td>Hessen</td>\n",
       "    </tr>\n",
       "    <tr>\n",
       "      <th>100264</th>\n",
       "      <td>5faaa3b32c9f790f334e47aa</td>\n",
       "      <td>917</td>\n",
       "      <td>2020-08-20 17:00:00</td>\n",
       "      <td>29.6</td>\n",
       "      <td>5fac44ab08a1e8a529a9caf6</td>\n",
       "      <td>2004-09-01</td>\n",
       "      <td>2020-11-10</td>\n",
       "      <td>162.0</td>\n",
       "      <td>49.8809</td>\n",
       "      <td>8.6779</td>\n",
       "      <td>Darmstadt</td>\n",
       "      <td>Hessen</td>\n",
       "    </tr>\n",
       "    <tr>\n",
       "      <th>100265</th>\n",
       "      <td>5faaa3b32c9f790f334e47ab</td>\n",
       "      <td>917</td>\n",
       "      <td>2020-08-20 18:00:00</td>\n",
       "      <td>26.9</td>\n",
       "      <td>5fac44ab08a1e8a529a9caf6</td>\n",
       "      <td>2004-09-01</td>\n",
       "      <td>2020-11-10</td>\n",
       "      <td>162.0</td>\n",
       "      <td>49.8809</td>\n",
       "      <td>8.6779</td>\n",
       "      <td>Darmstadt</td>\n",
       "      <td>Hessen</td>\n",
       "    </tr>\n",
       "    <tr>\n",
       "      <th>100266</th>\n",
       "      <td>5faaa3b32c9f790f334e47ac</td>\n",
       "      <td>917</td>\n",
       "      <td>2020-08-20 19:00:00</td>\n",
       "      <td>23.0</td>\n",
       "      <td>5fac44ab08a1e8a529a9caf6</td>\n",
       "      <td>2004-09-01</td>\n",
       "      <td>2020-11-10</td>\n",
       "      <td>162.0</td>\n",
       "      <td>49.8809</td>\n",
       "      <td>8.6779</td>\n",
       "      <td>Darmstadt</td>\n",
       "      <td>Hessen</td>\n",
       "    </tr>\n",
       "    <tr>\n",
       "      <th>100267</th>\n",
       "      <td>5faaa3b32c9f790f334e47ad</td>\n",
       "      <td>917</td>\n",
       "      <td>2020-08-20 20:00:00</td>\n",
       "      <td>21.1</td>\n",
       "      <td>5fac44ab08a1e8a529a9caf6</td>\n",
       "      <td>2004-09-01</td>\n",
       "      <td>2020-11-10</td>\n",
       "      <td>162.0</td>\n",
       "      <td>49.8809</td>\n",
       "      <td>8.6779</td>\n",
       "      <td>Darmstadt</td>\n",
       "      <td>Hessen</td>\n",
       "    </tr>\n",
       "    <tr>\n",
       "      <th>100268</th>\n",
       "      <td>5faaa3b32c9f790f334e47ae</td>\n",
       "      <td>917</td>\n",
       "      <td>2020-08-20 21:00:00</td>\n",
       "      <td>20.4</td>\n",
       "      <td>5fac44ab08a1e8a529a9caf6</td>\n",
       "      <td>2004-09-01</td>\n",
       "      <td>2020-11-10</td>\n",
       "      <td>162.0</td>\n",
       "      <td>49.8809</td>\n",
       "      <td>8.6779</td>\n",
       "      <td>Darmstadt</td>\n",
       "      <td>Hessen</td>\n",
       "    </tr>\n",
       "    <tr>\n",
       "      <th>100269</th>\n",
       "      <td>5faaa3b32c9f790f334e47af</td>\n",
       "      <td>917</td>\n",
       "      <td>2020-08-20 22:00:00</td>\n",
       "      <td>20.3</td>\n",
       "      <td>5fac44ab08a1e8a529a9caf6</td>\n",
       "      <td>2004-09-01</td>\n",
       "      <td>2020-11-10</td>\n",
       "      <td>162.0</td>\n",
       "      <td>49.8809</td>\n",
       "      <td>8.6779</td>\n",
       "      <td>Darmstadt</td>\n",
       "      <td>Hessen</td>\n",
       "    </tr>\n",
       "    <tr>\n",
       "      <th>100270</th>\n",
       "      <td>5faaa3b32c9f790f334e47b0</td>\n",
       "      <td>917</td>\n",
       "      <td>2020-08-20 23:00:00</td>\n",
       "      <td>19.8</td>\n",
       "      <td>5fac44ab08a1e8a529a9caf6</td>\n",
       "      <td>2004-09-01</td>\n",
       "      <td>2020-11-10</td>\n",
       "      <td>162.0</td>\n",
       "      <td>49.8809</td>\n",
       "      <td>8.6779</td>\n",
       "      <td>Darmstadt</td>\n",
       "      <td>Hessen</td>\n",
       "    </tr>\n",
       "  </tbody>\n",
       "</table>\n",
       "</div>"
      ],
      "text/plain": [
       "                           _id_x  station_id                date  temperature  \\\n",
       "100247  5faaa3b32c9f790f334e4799         917 2020-08-20 00:00:00         17.9   \n",
       "100248  5faaa3b32c9f790f334e479a         917 2020-08-20 01:00:00         18.1   \n",
       "100249  5faaa3b32c9f790f334e479b         917 2020-08-20 02:00:00         18.1   \n",
       "100250  5faaa3b32c9f790f334e479c         917 2020-08-20 03:00:00         17.7   \n",
       "100251  5faaa3b32c9f790f334e479d         917 2020-08-20 04:00:00         18.2   \n",
       "100252  5faaa3b32c9f790f334e479e         917 2020-08-20 05:00:00         17.9   \n",
       "100253  5faaa3b32c9f790f334e479f         917 2020-08-20 06:00:00         18.0   \n",
       "100254  5faaa3b32c9f790f334e47a0         917 2020-08-20 07:00:00         19.2   \n",
       "100255  5faaa3b32c9f790f334e47a1         917 2020-08-20 08:00:00         22.3   \n",
       "100256  5faaa3b32c9f790f334e47a2         917 2020-08-20 09:00:00         25.0   \n",
       "100257  5faaa3b32c9f790f334e47a3         917 2020-08-20 10:00:00         27.1   \n",
       "100258  5faaa3b32c9f790f334e47a4         917 2020-08-20 11:00:00         28.5   \n",
       "100259  5faaa3b32c9f790f334e47a5         917 2020-08-20 12:00:00         29.4   \n",
       "100260  5faaa3b32c9f790f334e47a6         917 2020-08-20 13:00:00         30.0   \n",
       "100261  5faaa3b32c9f790f334e47a7         917 2020-08-20 14:00:00         31.0   \n",
       "100262  5faaa3b32c9f790f334e47a8         917 2020-08-20 15:00:00         31.9   \n",
       "100263  5faaa3b32c9f790f334e47a9         917 2020-08-20 16:00:00         31.1   \n",
       "100264  5faaa3b32c9f790f334e47aa         917 2020-08-20 17:00:00         29.6   \n",
       "100265  5faaa3b32c9f790f334e47ab         917 2020-08-20 18:00:00         26.9   \n",
       "100266  5faaa3b32c9f790f334e47ac         917 2020-08-20 19:00:00         23.0   \n",
       "100267  5faaa3b32c9f790f334e47ad         917 2020-08-20 20:00:00         21.1   \n",
       "100268  5faaa3b32c9f790f334e47ae         917 2020-08-20 21:00:00         20.4   \n",
       "100269  5faaa3b32c9f790f334e47af         917 2020-08-20 22:00:00         20.3   \n",
       "100270  5faaa3b32c9f790f334e47b0         917 2020-08-20 23:00:00         19.8   \n",
       "\n",
       "                           _id_y  FROM_DATE    TO_DATE  STATION_HEIGHT  \\\n",
       "100247  5fac44ab08a1e8a529a9caf6 2004-09-01 2020-11-10           162.0   \n",
       "100248  5fac44ab08a1e8a529a9caf6 2004-09-01 2020-11-10           162.0   \n",
       "100249  5fac44ab08a1e8a529a9caf6 2004-09-01 2020-11-10           162.0   \n",
       "100250  5fac44ab08a1e8a529a9caf6 2004-09-01 2020-11-10           162.0   \n",
       "100251  5fac44ab08a1e8a529a9caf6 2004-09-01 2020-11-10           162.0   \n",
       "100252  5fac44ab08a1e8a529a9caf6 2004-09-01 2020-11-10           162.0   \n",
       "100253  5fac44ab08a1e8a529a9caf6 2004-09-01 2020-11-10           162.0   \n",
       "100254  5fac44ab08a1e8a529a9caf6 2004-09-01 2020-11-10           162.0   \n",
       "100255  5fac44ab08a1e8a529a9caf6 2004-09-01 2020-11-10           162.0   \n",
       "100256  5fac44ab08a1e8a529a9caf6 2004-09-01 2020-11-10           162.0   \n",
       "100257  5fac44ab08a1e8a529a9caf6 2004-09-01 2020-11-10           162.0   \n",
       "100258  5fac44ab08a1e8a529a9caf6 2004-09-01 2020-11-10           162.0   \n",
       "100259  5fac44ab08a1e8a529a9caf6 2004-09-01 2020-11-10           162.0   \n",
       "100260  5fac44ab08a1e8a529a9caf6 2004-09-01 2020-11-10           162.0   \n",
       "100261  5fac44ab08a1e8a529a9caf6 2004-09-01 2020-11-10           162.0   \n",
       "100262  5fac44ab08a1e8a529a9caf6 2004-09-01 2020-11-10           162.0   \n",
       "100263  5fac44ab08a1e8a529a9caf6 2004-09-01 2020-11-10           162.0   \n",
       "100264  5fac44ab08a1e8a529a9caf6 2004-09-01 2020-11-10           162.0   \n",
       "100265  5fac44ab08a1e8a529a9caf6 2004-09-01 2020-11-10           162.0   \n",
       "100266  5fac44ab08a1e8a529a9caf6 2004-09-01 2020-11-10           162.0   \n",
       "100267  5fac44ab08a1e8a529a9caf6 2004-09-01 2020-11-10           162.0   \n",
       "100268  5fac44ab08a1e8a529a9caf6 2004-09-01 2020-11-10           162.0   \n",
       "100269  5fac44ab08a1e8a529a9caf6 2004-09-01 2020-11-10           162.0   \n",
       "100270  5fac44ab08a1e8a529a9caf6 2004-09-01 2020-11-10           162.0   \n",
       "\n",
       "            LAT     LON STATION_NAME   STATE  \n",
       "100247  49.8809  8.6779    Darmstadt  Hessen  \n",
       "100248  49.8809  8.6779    Darmstadt  Hessen  \n",
       "100249  49.8809  8.6779    Darmstadt  Hessen  \n",
       "100250  49.8809  8.6779    Darmstadt  Hessen  \n",
       "100251  49.8809  8.6779    Darmstadt  Hessen  \n",
       "100252  49.8809  8.6779    Darmstadt  Hessen  \n",
       "100253  49.8809  8.6779    Darmstadt  Hessen  \n",
       "100254  49.8809  8.6779    Darmstadt  Hessen  \n",
       "100255  49.8809  8.6779    Darmstadt  Hessen  \n",
       "100256  49.8809  8.6779    Darmstadt  Hessen  \n",
       "100257  49.8809  8.6779    Darmstadt  Hessen  \n",
       "100258  49.8809  8.6779    Darmstadt  Hessen  \n",
       "100259  49.8809  8.6779    Darmstadt  Hessen  \n",
       "100260  49.8809  8.6779    Darmstadt  Hessen  \n",
       "100261  49.8809  8.6779    Darmstadt  Hessen  \n",
       "100262  49.8809  8.6779    Darmstadt  Hessen  \n",
       "100263  49.8809  8.6779    Darmstadt  Hessen  \n",
       "100264  49.8809  8.6779    Darmstadt  Hessen  \n",
       "100265  49.8809  8.6779    Darmstadt  Hessen  \n",
       "100266  49.8809  8.6779    Darmstadt  Hessen  \n",
       "100267  49.8809  8.6779    Darmstadt  Hessen  \n",
       "100268  49.8809  8.6779    Darmstadt  Hessen  \n",
       "100269  49.8809  8.6779    Darmstadt  Hessen  \n",
       "100270  49.8809  8.6779    Darmstadt  Hessen  "
      ]
     },
     "execution_count": 24,
     "metadata": {},
     "output_type": "execute_result"
    }
   ],
   "source": [
    "tempbydate = temp_by_date(weather_stations,\"2020-08-20 00:00:00\",917)\n",
    "tempbydate"
   ]
  },
  {
   "cell_type": "markdown",
   "metadata": {},
   "source": [
    "## 4. Konfiguration des Diagrams"
   ]
  },
  {
   "cell_type": "markdown",
   "metadata": {},
   "source": [
    "In der Methode *calculate_plot* werden die Daten des oben abgebildete Dataframes in ein Balkendiagram transformiert. Hierbei stellt die X-Achse die Uhrzeit und die Y-Achse die Temperatur der jeweiligen Stunde dar. In der Überschrift wird sowohl das Datum als auch der Name der ausgewählten Wetterstation angezeigt. Die Farbe der Balken ist an die Höhe der Temperatur angepasst. Durch Hovern über die einzelnen Balken wird das Datum, die Temperatur, die StationsID und der Stationsname angezeigt."
   ]
  },
  {
   "cell_type": "code",
   "execution_count": 22,
   "metadata": {},
   "outputs": [],
   "source": [
    "def calculate_plot(tempbydate):\n",
    "    fig =  px.bar(tempbydate,\n",
    "             y= \"temperature\", \n",
    "             x= \"date\",\n",
    "               title = 'Temperaturverlauf am ' + str(tempbydate[\"date\"].dt.date.iloc[0]) +\n",
    "                ' in ' + str(tempbydate[\"STATION_NAME\"].iloc[0] ) ,\n",
    "                hover_data=['station_id', 'STATION_NAME'], color='temperature')\n",
    "    fig.show()"
   ]
  },
  {
   "cell_type": "code",
   "execution_count": 23,
   "metadata": {},
   "outputs": [
    {
     "data": {
      "application/vnd.plotly.v1+json": {
       "config": {
        "plotlyServerURL": "https://plot.ly"
       },
       "data": [
        {
         "alignmentgroup": "True",
         "customdata": [
          [
           917,
           "Darmstadt"
          ],
          [
           917,
           "Darmstadt"
          ],
          [
           917,
           "Darmstadt"
          ],
          [
           917,
           "Darmstadt"
          ],
          [
           917,
           "Darmstadt"
          ],
          [
           917,
           "Darmstadt"
          ],
          [
           917,
           "Darmstadt"
          ],
          [
           917,
           "Darmstadt"
          ],
          [
           917,
           "Darmstadt"
          ],
          [
           917,
           "Darmstadt"
          ],
          [
           917,
           "Darmstadt"
          ],
          [
           917,
           "Darmstadt"
          ],
          [
           917,
           "Darmstadt"
          ],
          [
           917,
           "Darmstadt"
          ],
          [
           917,
           "Darmstadt"
          ],
          [
           917,
           "Darmstadt"
          ],
          [
           917,
           "Darmstadt"
          ],
          [
           917,
           "Darmstadt"
          ],
          [
           917,
           "Darmstadt"
          ],
          [
           917,
           "Darmstadt"
          ],
          [
           917,
           "Darmstadt"
          ],
          [
           917,
           "Darmstadt"
          ],
          [
           917,
           "Darmstadt"
          ],
          [
           917,
           "Darmstadt"
          ]
         ],
         "hovertemplate": "date=%{x}<br>temperature=%{marker.color}<br>station_id=%{customdata[0]}<br>STATION_NAME=%{customdata[1]}<extra></extra>",
         "legendgroup": "",
         "marker": {
          "color": [
           17.9,
           18.1,
           18.1,
           17.7,
           18.2,
           17.9,
           18,
           19.2,
           22.3,
           25,
           27.1,
           28.5,
           29.4,
           30,
           31,
           31.9,
           31.1,
           29.6,
           26.9,
           23,
           21.1,
           20.4,
           20.3,
           19.8
          ],
          "coloraxis": "coloraxis"
         },
         "name": "",
         "offsetgroup": "",
         "orientation": "v",
         "showlegend": false,
         "textposition": "auto",
         "type": "bar",
         "x": [
          "2020-08-20T00:00:00",
          "2020-08-20T01:00:00",
          "2020-08-20T02:00:00",
          "2020-08-20T03:00:00",
          "2020-08-20T04:00:00",
          "2020-08-20T05:00:00",
          "2020-08-20T06:00:00",
          "2020-08-20T07:00:00",
          "2020-08-20T08:00:00",
          "2020-08-20T09:00:00",
          "2020-08-20T10:00:00",
          "2020-08-20T11:00:00",
          "2020-08-20T12:00:00",
          "2020-08-20T13:00:00",
          "2020-08-20T14:00:00",
          "2020-08-20T15:00:00",
          "2020-08-20T16:00:00",
          "2020-08-20T17:00:00",
          "2020-08-20T18:00:00",
          "2020-08-20T19:00:00",
          "2020-08-20T20:00:00",
          "2020-08-20T21:00:00",
          "2020-08-20T22:00:00",
          "2020-08-20T23:00:00"
         ],
         "xaxis": "x",
         "y": [
          17.9,
          18.1,
          18.1,
          17.7,
          18.2,
          17.9,
          18,
          19.2,
          22.3,
          25,
          27.1,
          28.5,
          29.4,
          30,
          31,
          31.9,
          31.1,
          29.6,
          26.9,
          23,
          21.1,
          20.4,
          20.3,
          19.8
         ],
         "yaxis": "y"
        }
       ],
       "layout": {
        "barmode": "relative",
        "coloraxis": {
         "colorbar": {
          "title": {
           "text": "temperature"
          }
         },
         "colorscale": [
          [
           0,
           "#0d0887"
          ],
          [
           0.1111111111111111,
           "#46039f"
          ],
          [
           0.2222222222222222,
           "#7201a8"
          ],
          [
           0.3333333333333333,
           "#9c179e"
          ],
          [
           0.4444444444444444,
           "#bd3786"
          ],
          [
           0.5555555555555556,
           "#d8576b"
          ],
          [
           0.6666666666666666,
           "#ed7953"
          ],
          [
           0.7777777777777778,
           "#fb9f3a"
          ],
          [
           0.8888888888888888,
           "#fdca26"
          ],
          [
           1,
           "#f0f921"
          ]
         ]
        },
        "legend": {
         "tracegroupgap": 0
        },
        "template": {
         "data": {
          "bar": [
           {
            "error_x": {
             "color": "#2a3f5f"
            },
            "error_y": {
             "color": "#2a3f5f"
            },
            "marker": {
             "line": {
              "color": "#E5ECF6",
              "width": 0.5
             }
            },
            "type": "bar"
           }
          ],
          "barpolar": [
           {
            "marker": {
             "line": {
              "color": "#E5ECF6",
              "width": 0.5
             }
            },
            "type": "barpolar"
           }
          ],
          "carpet": [
           {
            "aaxis": {
             "endlinecolor": "#2a3f5f",
             "gridcolor": "white",
             "linecolor": "white",
             "minorgridcolor": "white",
             "startlinecolor": "#2a3f5f"
            },
            "baxis": {
             "endlinecolor": "#2a3f5f",
             "gridcolor": "white",
             "linecolor": "white",
             "minorgridcolor": "white",
             "startlinecolor": "#2a3f5f"
            },
            "type": "carpet"
           }
          ],
          "choropleth": [
           {
            "colorbar": {
             "outlinewidth": 0,
             "ticks": ""
            },
            "type": "choropleth"
           }
          ],
          "contour": [
           {
            "colorbar": {
             "outlinewidth": 0,
             "ticks": ""
            },
            "colorscale": [
             [
              0,
              "#0d0887"
             ],
             [
              0.1111111111111111,
              "#46039f"
             ],
             [
              0.2222222222222222,
              "#7201a8"
             ],
             [
              0.3333333333333333,
              "#9c179e"
             ],
             [
              0.4444444444444444,
              "#bd3786"
             ],
             [
              0.5555555555555556,
              "#d8576b"
             ],
             [
              0.6666666666666666,
              "#ed7953"
             ],
             [
              0.7777777777777778,
              "#fb9f3a"
             ],
             [
              0.8888888888888888,
              "#fdca26"
             ],
             [
              1,
              "#f0f921"
             ]
            ],
            "type": "contour"
           }
          ],
          "contourcarpet": [
           {
            "colorbar": {
             "outlinewidth": 0,
             "ticks": ""
            },
            "type": "contourcarpet"
           }
          ],
          "heatmap": [
           {
            "colorbar": {
             "outlinewidth": 0,
             "ticks": ""
            },
            "colorscale": [
             [
              0,
              "#0d0887"
             ],
             [
              0.1111111111111111,
              "#46039f"
             ],
             [
              0.2222222222222222,
              "#7201a8"
             ],
             [
              0.3333333333333333,
              "#9c179e"
             ],
             [
              0.4444444444444444,
              "#bd3786"
             ],
             [
              0.5555555555555556,
              "#d8576b"
             ],
             [
              0.6666666666666666,
              "#ed7953"
             ],
             [
              0.7777777777777778,
              "#fb9f3a"
             ],
             [
              0.8888888888888888,
              "#fdca26"
             ],
             [
              1,
              "#f0f921"
             ]
            ],
            "type": "heatmap"
           }
          ],
          "heatmapgl": [
           {
            "colorbar": {
             "outlinewidth": 0,
             "ticks": ""
            },
            "colorscale": [
             [
              0,
              "#0d0887"
             ],
             [
              0.1111111111111111,
              "#46039f"
             ],
             [
              0.2222222222222222,
              "#7201a8"
             ],
             [
              0.3333333333333333,
              "#9c179e"
             ],
             [
              0.4444444444444444,
              "#bd3786"
             ],
             [
              0.5555555555555556,
              "#d8576b"
             ],
             [
              0.6666666666666666,
              "#ed7953"
             ],
             [
              0.7777777777777778,
              "#fb9f3a"
             ],
             [
              0.8888888888888888,
              "#fdca26"
             ],
             [
              1,
              "#f0f921"
             ]
            ],
            "type": "heatmapgl"
           }
          ],
          "histogram": [
           {
            "marker": {
             "colorbar": {
              "outlinewidth": 0,
              "ticks": ""
             }
            },
            "type": "histogram"
           }
          ],
          "histogram2d": [
           {
            "colorbar": {
             "outlinewidth": 0,
             "ticks": ""
            },
            "colorscale": [
             [
              0,
              "#0d0887"
             ],
             [
              0.1111111111111111,
              "#46039f"
             ],
             [
              0.2222222222222222,
              "#7201a8"
             ],
             [
              0.3333333333333333,
              "#9c179e"
             ],
             [
              0.4444444444444444,
              "#bd3786"
             ],
             [
              0.5555555555555556,
              "#d8576b"
             ],
             [
              0.6666666666666666,
              "#ed7953"
             ],
             [
              0.7777777777777778,
              "#fb9f3a"
             ],
             [
              0.8888888888888888,
              "#fdca26"
             ],
             [
              1,
              "#f0f921"
             ]
            ],
            "type": "histogram2d"
           }
          ],
          "histogram2dcontour": [
           {
            "colorbar": {
             "outlinewidth": 0,
             "ticks": ""
            },
            "colorscale": [
             [
              0,
              "#0d0887"
             ],
             [
              0.1111111111111111,
              "#46039f"
             ],
             [
              0.2222222222222222,
              "#7201a8"
             ],
             [
              0.3333333333333333,
              "#9c179e"
             ],
             [
              0.4444444444444444,
              "#bd3786"
             ],
             [
              0.5555555555555556,
              "#d8576b"
             ],
             [
              0.6666666666666666,
              "#ed7953"
             ],
             [
              0.7777777777777778,
              "#fb9f3a"
             ],
             [
              0.8888888888888888,
              "#fdca26"
             ],
             [
              1,
              "#f0f921"
             ]
            ],
            "type": "histogram2dcontour"
           }
          ],
          "mesh3d": [
           {
            "colorbar": {
             "outlinewidth": 0,
             "ticks": ""
            },
            "type": "mesh3d"
           }
          ],
          "parcoords": [
           {
            "line": {
             "colorbar": {
              "outlinewidth": 0,
              "ticks": ""
             }
            },
            "type": "parcoords"
           }
          ],
          "pie": [
           {
            "automargin": true,
            "type": "pie"
           }
          ],
          "scatter": [
           {
            "marker": {
             "colorbar": {
              "outlinewidth": 0,
              "ticks": ""
             }
            },
            "type": "scatter"
           }
          ],
          "scatter3d": [
           {
            "line": {
             "colorbar": {
              "outlinewidth": 0,
              "ticks": ""
             }
            },
            "marker": {
             "colorbar": {
              "outlinewidth": 0,
              "ticks": ""
             }
            },
            "type": "scatter3d"
           }
          ],
          "scattercarpet": [
           {
            "marker": {
             "colorbar": {
              "outlinewidth": 0,
              "ticks": ""
             }
            },
            "type": "scattercarpet"
           }
          ],
          "scattergeo": [
           {
            "marker": {
             "colorbar": {
              "outlinewidth": 0,
              "ticks": ""
             }
            },
            "type": "scattergeo"
           }
          ],
          "scattergl": [
           {
            "marker": {
             "colorbar": {
              "outlinewidth": 0,
              "ticks": ""
             }
            },
            "type": "scattergl"
           }
          ],
          "scattermapbox": [
           {
            "marker": {
             "colorbar": {
              "outlinewidth": 0,
              "ticks": ""
             }
            },
            "type": "scattermapbox"
           }
          ],
          "scatterpolar": [
           {
            "marker": {
             "colorbar": {
              "outlinewidth": 0,
              "ticks": ""
             }
            },
            "type": "scatterpolar"
           }
          ],
          "scatterpolargl": [
           {
            "marker": {
             "colorbar": {
              "outlinewidth": 0,
              "ticks": ""
             }
            },
            "type": "scatterpolargl"
           }
          ],
          "scatterternary": [
           {
            "marker": {
             "colorbar": {
              "outlinewidth": 0,
              "ticks": ""
             }
            },
            "type": "scatterternary"
           }
          ],
          "surface": [
           {
            "colorbar": {
             "outlinewidth": 0,
             "ticks": ""
            },
            "colorscale": [
             [
              0,
              "#0d0887"
             ],
             [
              0.1111111111111111,
              "#46039f"
             ],
             [
              0.2222222222222222,
              "#7201a8"
             ],
             [
              0.3333333333333333,
              "#9c179e"
             ],
             [
              0.4444444444444444,
              "#bd3786"
             ],
             [
              0.5555555555555556,
              "#d8576b"
             ],
             [
              0.6666666666666666,
              "#ed7953"
             ],
             [
              0.7777777777777778,
              "#fb9f3a"
             ],
             [
              0.8888888888888888,
              "#fdca26"
             ],
             [
              1,
              "#f0f921"
             ]
            ],
            "type": "surface"
           }
          ],
          "table": [
           {
            "cells": {
             "fill": {
              "color": "#EBF0F8"
             },
             "line": {
              "color": "white"
             }
            },
            "header": {
             "fill": {
              "color": "#C8D4E3"
             },
             "line": {
              "color": "white"
             }
            },
            "type": "table"
           }
          ]
         },
         "layout": {
          "annotationdefaults": {
           "arrowcolor": "#2a3f5f",
           "arrowhead": 0,
           "arrowwidth": 1
          },
          "coloraxis": {
           "colorbar": {
            "outlinewidth": 0,
            "ticks": ""
           }
          },
          "colorscale": {
           "diverging": [
            [
             0,
             "#8e0152"
            ],
            [
             0.1,
             "#c51b7d"
            ],
            [
             0.2,
             "#de77ae"
            ],
            [
             0.3,
             "#f1b6da"
            ],
            [
             0.4,
             "#fde0ef"
            ],
            [
             0.5,
             "#f7f7f7"
            ],
            [
             0.6,
             "#e6f5d0"
            ],
            [
             0.7,
             "#b8e186"
            ],
            [
             0.8,
             "#7fbc41"
            ],
            [
             0.9,
             "#4d9221"
            ],
            [
             1,
             "#276419"
            ]
           ],
           "sequential": [
            [
             0,
             "#0d0887"
            ],
            [
             0.1111111111111111,
             "#46039f"
            ],
            [
             0.2222222222222222,
             "#7201a8"
            ],
            [
             0.3333333333333333,
             "#9c179e"
            ],
            [
             0.4444444444444444,
             "#bd3786"
            ],
            [
             0.5555555555555556,
             "#d8576b"
            ],
            [
             0.6666666666666666,
             "#ed7953"
            ],
            [
             0.7777777777777778,
             "#fb9f3a"
            ],
            [
             0.8888888888888888,
             "#fdca26"
            ],
            [
             1,
             "#f0f921"
            ]
           ],
           "sequentialminus": [
            [
             0,
             "#0d0887"
            ],
            [
             0.1111111111111111,
             "#46039f"
            ],
            [
             0.2222222222222222,
             "#7201a8"
            ],
            [
             0.3333333333333333,
             "#9c179e"
            ],
            [
             0.4444444444444444,
             "#bd3786"
            ],
            [
             0.5555555555555556,
             "#d8576b"
            ],
            [
             0.6666666666666666,
             "#ed7953"
            ],
            [
             0.7777777777777778,
             "#fb9f3a"
            ],
            [
             0.8888888888888888,
             "#fdca26"
            ],
            [
             1,
             "#f0f921"
            ]
           ]
          },
          "colorway": [
           "#636efa",
           "#EF553B",
           "#00cc96",
           "#ab63fa",
           "#FFA15A",
           "#19d3f3",
           "#FF6692",
           "#B6E880",
           "#FF97FF",
           "#FECB52"
          ],
          "font": {
           "color": "#2a3f5f"
          },
          "geo": {
           "bgcolor": "white",
           "lakecolor": "white",
           "landcolor": "#E5ECF6",
           "showlakes": true,
           "showland": true,
           "subunitcolor": "white"
          },
          "hoverlabel": {
           "align": "left"
          },
          "hovermode": "closest",
          "mapbox": {
           "style": "light"
          },
          "paper_bgcolor": "white",
          "plot_bgcolor": "#E5ECF6",
          "polar": {
           "angularaxis": {
            "gridcolor": "white",
            "linecolor": "white",
            "ticks": ""
           },
           "bgcolor": "#E5ECF6",
           "radialaxis": {
            "gridcolor": "white",
            "linecolor": "white",
            "ticks": ""
           }
          },
          "scene": {
           "xaxis": {
            "backgroundcolor": "#E5ECF6",
            "gridcolor": "white",
            "gridwidth": 2,
            "linecolor": "white",
            "showbackground": true,
            "ticks": "",
            "zerolinecolor": "white"
           },
           "yaxis": {
            "backgroundcolor": "#E5ECF6",
            "gridcolor": "white",
            "gridwidth": 2,
            "linecolor": "white",
            "showbackground": true,
            "ticks": "",
            "zerolinecolor": "white"
           },
           "zaxis": {
            "backgroundcolor": "#E5ECF6",
            "gridcolor": "white",
            "gridwidth": 2,
            "linecolor": "white",
            "showbackground": true,
            "ticks": "",
            "zerolinecolor": "white"
           }
          },
          "shapedefaults": {
           "line": {
            "color": "#2a3f5f"
           }
          },
          "ternary": {
           "aaxis": {
            "gridcolor": "white",
            "linecolor": "white",
            "ticks": ""
           },
           "baxis": {
            "gridcolor": "white",
            "linecolor": "white",
            "ticks": ""
           },
           "bgcolor": "#E5ECF6",
           "caxis": {
            "gridcolor": "white",
            "linecolor": "white",
            "ticks": ""
           }
          },
          "title": {
           "x": 0.05
          },
          "xaxis": {
           "automargin": true,
           "gridcolor": "white",
           "linecolor": "white",
           "ticks": "",
           "title": {
            "standoff": 15
           },
           "zerolinecolor": "white",
           "zerolinewidth": 2
          },
          "yaxis": {
           "automargin": true,
           "gridcolor": "white",
           "linecolor": "white",
           "ticks": "",
           "title": {
            "standoff": 15
           },
           "zerolinecolor": "white",
           "zerolinewidth": 2
          }
         }
        },
        "title": {
         "text": "Temperaturverlauf am 2020-08-20 in Darmstadt"
        },
        "xaxis": {
         "anchor": "y",
         "domain": [
          0,
          1
         ],
         "title": {
          "text": "date"
         }
        },
        "yaxis": {
         "anchor": "x",
         "domain": [
          0,
          1
         ],
         "title": {
          "text": "temperature"
         }
        }
       }
      },
      "text/html": [
       "<div>                            <div id=\"64b27c5b-542c-462d-901f-ab2e2ce264b3\" class=\"plotly-graph-div\" style=\"height:525px; width:100%;\"></div>            <script type=\"text/javascript\">                require([\"plotly\"], function(Plotly) {                    window.PLOTLYENV=window.PLOTLYENV || {};                                    if (document.getElementById(\"64b27c5b-542c-462d-901f-ab2e2ce264b3\")) {                    Plotly.newPlot(                        \"64b27c5b-542c-462d-901f-ab2e2ce264b3\",                        [{\"alignmentgroup\": \"True\", \"customdata\": [[917, \"Darmstadt\"], [917, \"Darmstadt\"], [917, \"Darmstadt\"], [917, \"Darmstadt\"], [917, \"Darmstadt\"], [917, \"Darmstadt\"], [917, \"Darmstadt\"], [917, \"Darmstadt\"], [917, \"Darmstadt\"], [917, \"Darmstadt\"], [917, \"Darmstadt\"], [917, \"Darmstadt\"], [917, \"Darmstadt\"], [917, \"Darmstadt\"], [917, \"Darmstadt\"], [917, \"Darmstadt\"], [917, \"Darmstadt\"], [917, \"Darmstadt\"], [917, \"Darmstadt\"], [917, \"Darmstadt\"], [917, \"Darmstadt\"], [917, \"Darmstadt\"], [917, \"Darmstadt\"], [917, \"Darmstadt\"]], \"hovertemplate\": \"date=%{x}<br>temperature=%{marker.color}<br>station_id=%{customdata[0]}<br>STATION_NAME=%{customdata[1]}<extra></extra>\", \"legendgroup\": \"\", \"marker\": {\"color\": [17.9, 18.1, 18.1, 17.7, 18.2, 17.9, 18.0, 19.2, 22.3, 25.0, 27.1, 28.5, 29.4, 30.0, 31.0, 31.9, 31.1, 29.6, 26.9, 23.0, 21.1, 20.4, 20.3, 19.8], \"coloraxis\": \"coloraxis\"}, \"name\": \"\", \"offsetgroup\": \"\", \"orientation\": \"v\", \"showlegend\": false, \"textposition\": \"auto\", \"type\": \"bar\", \"x\": [\"2020-08-20T00:00:00\", \"2020-08-20T01:00:00\", \"2020-08-20T02:00:00\", \"2020-08-20T03:00:00\", \"2020-08-20T04:00:00\", \"2020-08-20T05:00:00\", \"2020-08-20T06:00:00\", \"2020-08-20T07:00:00\", \"2020-08-20T08:00:00\", \"2020-08-20T09:00:00\", \"2020-08-20T10:00:00\", \"2020-08-20T11:00:00\", \"2020-08-20T12:00:00\", \"2020-08-20T13:00:00\", \"2020-08-20T14:00:00\", \"2020-08-20T15:00:00\", \"2020-08-20T16:00:00\", \"2020-08-20T17:00:00\", \"2020-08-20T18:00:00\", \"2020-08-20T19:00:00\", \"2020-08-20T20:00:00\", \"2020-08-20T21:00:00\", \"2020-08-20T22:00:00\", \"2020-08-20T23:00:00\"], \"xaxis\": \"x\", \"y\": [17.9, 18.1, 18.1, 17.7, 18.2, 17.9, 18.0, 19.2, 22.3, 25.0, 27.1, 28.5, 29.4, 30.0, 31.0, 31.9, 31.1, 29.6, 26.9, 23.0, 21.1, 20.4, 20.3, 19.8], \"yaxis\": \"y\"}],                        {\"barmode\": \"relative\", \"coloraxis\": {\"colorbar\": {\"title\": {\"text\": \"temperature\"}}, \"colorscale\": [[0.0, \"#0d0887\"], [0.1111111111111111, \"#46039f\"], [0.2222222222222222, \"#7201a8\"], [0.3333333333333333, \"#9c179e\"], [0.4444444444444444, \"#bd3786\"], [0.5555555555555556, \"#d8576b\"], [0.6666666666666666, \"#ed7953\"], [0.7777777777777778, \"#fb9f3a\"], [0.8888888888888888, \"#fdca26\"], [1.0, \"#f0f921\"]]}, \"legend\": {\"tracegroupgap\": 0}, \"template\": {\"data\": {\"bar\": [{\"error_x\": {\"color\": \"#2a3f5f\"}, \"error_y\": {\"color\": \"#2a3f5f\"}, \"marker\": {\"line\": {\"color\": \"#E5ECF6\", \"width\": 0.5}}, \"type\": \"bar\"}], \"barpolar\": [{\"marker\": {\"line\": {\"color\": \"#E5ECF6\", \"width\": 0.5}}, \"type\": \"barpolar\"}], \"carpet\": [{\"aaxis\": {\"endlinecolor\": \"#2a3f5f\", \"gridcolor\": \"white\", \"linecolor\": \"white\", \"minorgridcolor\": \"white\", \"startlinecolor\": \"#2a3f5f\"}, \"baxis\": {\"endlinecolor\": \"#2a3f5f\", \"gridcolor\": \"white\", \"linecolor\": \"white\", \"minorgridcolor\": \"white\", \"startlinecolor\": \"#2a3f5f\"}, \"type\": \"carpet\"}], \"choropleth\": [{\"colorbar\": {\"outlinewidth\": 0, \"ticks\": \"\"}, \"type\": \"choropleth\"}], \"contour\": [{\"colorbar\": {\"outlinewidth\": 0, \"ticks\": \"\"}, \"colorscale\": [[0.0, \"#0d0887\"], [0.1111111111111111, \"#46039f\"], [0.2222222222222222, \"#7201a8\"], [0.3333333333333333, \"#9c179e\"], [0.4444444444444444, \"#bd3786\"], [0.5555555555555556, \"#d8576b\"], [0.6666666666666666, \"#ed7953\"], [0.7777777777777778, \"#fb9f3a\"], [0.8888888888888888, \"#fdca26\"], [1.0, \"#f0f921\"]], \"type\": \"contour\"}], \"contourcarpet\": [{\"colorbar\": {\"outlinewidth\": 0, \"ticks\": \"\"}, \"type\": \"contourcarpet\"}], \"heatmap\": [{\"colorbar\": {\"outlinewidth\": 0, \"ticks\": \"\"}, \"colorscale\": [[0.0, \"#0d0887\"], [0.1111111111111111, \"#46039f\"], [0.2222222222222222, \"#7201a8\"], [0.3333333333333333, \"#9c179e\"], [0.4444444444444444, \"#bd3786\"], [0.5555555555555556, \"#d8576b\"], [0.6666666666666666, \"#ed7953\"], [0.7777777777777778, \"#fb9f3a\"], [0.8888888888888888, \"#fdca26\"], [1.0, \"#f0f921\"]], \"type\": \"heatmap\"}], \"heatmapgl\": [{\"colorbar\": {\"outlinewidth\": 0, \"ticks\": \"\"}, \"colorscale\": [[0.0, \"#0d0887\"], [0.1111111111111111, \"#46039f\"], [0.2222222222222222, \"#7201a8\"], [0.3333333333333333, \"#9c179e\"], [0.4444444444444444, \"#bd3786\"], [0.5555555555555556, \"#d8576b\"], [0.6666666666666666, \"#ed7953\"], [0.7777777777777778, \"#fb9f3a\"], [0.8888888888888888, \"#fdca26\"], [1.0, \"#f0f921\"]], \"type\": \"heatmapgl\"}], \"histogram\": [{\"marker\": {\"colorbar\": {\"outlinewidth\": 0, \"ticks\": \"\"}}, \"type\": \"histogram\"}], \"histogram2d\": [{\"colorbar\": {\"outlinewidth\": 0, \"ticks\": \"\"}, \"colorscale\": [[0.0, \"#0d0887\"], [0.1111111111111111, \"#46039f\"], [0.2222222222222222, \"#7201a8\"], [0.3333333333333333, \"#9c179e\"], [0.4444444444444444, \"#bd3786\"], [0.5555555555555556, \"#d8576b\"], [0.6666666666666666, \"#ed7953\"], [0.7777777777777778, \"#fb9f3a\"], [0.8888888888888888, \"#fdca26\"], [1.0, \"#f0f921\"]], \"type\": \"histogram2d\"}], \"histogram2dcontour\": [{\"colorbar\": {\"outlinewidth\": 0, \"ticks\": \"\"}, \"colorscale\": [[0.0, \"#0d0887\"], [0.1111111111111111, \"#46039f\"], [0.2222222222222222, \"#7201a8\"], [0.3333333333333333, \"#9c179e\"], [0.4444444444444444, \"#bd3786\"], [0.5555555555555556, \"#d8576b\"], [0.6666666666666666, \"#ed7953\"], [0.7777777777777778, \"#fb9f3a\"], [0.8888888888888888, \"#fdca26\"], [1.0, \"#f0f921\"]], \"type\": \"histogram2dcontour\"}], \"mesh3d\": [{\"colorbar\": {\"outlinewidth\": 0, \"ticks\": \"\"}, \"type\": \"mesh3d\"}], \"parcoords\": [{\"line\": {\"colorbar\": {\"outlinewidth\": 0, \"ticks\": \"\"}}, \"type\": \"parcoords\"}], \"pie\": [{\"automargin\": true, \"type\": \"pie\"}], \"scatter\": [{\"marker\": {\"colorbar\": {\"outlinewidth\": 0, \"ticks\": \"\"}}, \"type\": \"scatter\"}], \"scatter3d\": [{\"line\": {\"colorbar\": {\"outlinewidth\": 0, \"ticks\": \"\"}}, \"marker\": {\"colorbar\": {\"outlinewidth\": 0, \"ticks\": \"\"}}, \"type\": \"scatter3d\"}], \"scattercarpet\": [{\"marker\": {\"colorbar\": {\"outlinewidth\": 0, \"ticks\": \"\"}}, \"type\": \"scattercarpet\"}], \"scattergeo\": [{\"marker\": {\"colorbar\": {\"outlinewidth\": 0, \"ticks\": \"\"}}, \"type\": \"scattergeo\"}], \"scattergl\": [{\"marker\": {\"colorbar\": {\"outlinewidth\": 0, \"ticks\": \"\"}}, \"type\": \"scattergl\"}], \"scattermapbox\": [{\"marker\": {\"colorbar\": {\"outlinewidth\": 0, \"ticks\": \"\"}}, \"type\": \"scattermapbox\"}], \"scatterpolar\": [{\"marker\": {\"colorbar\": {\"outlinewidth\": 0, \"ticks\": \"\"}}, \"type\": \"scatterpolar\"}], \"scatterpolargl\": [{\"marker\": {\"colorbar\": {\"outlinewidth\": 0, \"ticks\": \"\"}}, \"type\": \"scatterpolargl\"}], \"scatterternary\": [{\"marker\": {\"colorbar\": {\"outlinewidth\": 0, \"ticks\": \"\"}}, \"type\": \"scatterternary\"}], \"surface\": [{\"colorbar\": {\"outlinewidth\": 0, \"ticks\": \"\"}, \"colorscale\": [[0.0, \"#0d0887\"], [0.1111111111111111, \"#46039f\"], [0.2222222222222222, \"#7201a8\"], [0.3333333333333333, \"#9c179e\"], [0.4444444444444444, \"#bd3786\"], [0.5555555555555556, \"#d8576b\"], [0.6666666666666666, \"#ed7953\"], [0.7777777777777778, \"#fb9f3a\"], [0.8888888888888888, \"#fdca26\"], [1.0, \"#f0f921\"]], \"type\": \"surface\"}], \"table\": [{\"cells\": {\"fill\": {\"color\": \"#EBF0F8\"}, \"line\": {\"color\": \"white\"}}, \"header\": {\"fill\": {\"color\": \"#C8D4E3\"}, \"line\": {\"color\": \"white\"}}, \"type\": \"table\"}]}, \"layout\": {\"annotationdefaults\": {\"arrowcolor\": \"#2a3f5f\", \"arrowhead\": 0, \"arrowwidth\": 1}, \"coloraxis\": {\"colorbar\": {\"outlinewidth\": 0, \"ticks\": \"\"}}, \"colorscale\": {\"diverging\": [[0, \"#8e0152\"], [0.1, \"#c51b7d\"], [0.2, \"#de77ae\"], [0.3, \"#f1b6da\"], [0.4, \"#fde0ef\"], [0.5, \"#f7f7f7\"], [0.6, \"#e6f5d0\"], [0.7, \"#b8e186\"], [0.8, \"#7fbc41\"], [0.9, \"#4d9221\"], [1, \"#276419\"]], \"sequential\": [[0.0, \"#0d0887\"], [0.1111111111111111, \"#46039f\"], [0.2222222222222222, \"#7201a8\"], [0.3333333333333333, \"#9c179e\"], [0.4444444444444444, \"#bd3786\"], [0.5555555555555556, \"#d8576b\"], [0.6666666666666666, \"#ed7953\"], [0.7777777777777778, \"#fb9f3a\"], [0.8888888888888888, \"#fdca26\"], [1.0, \"#f0f921\"]], \"sequentialminus\": [[0.0, \"#0d0887\"], [0.1111111111111111, \"#46039f\"], [0.2222222222222222, \"#7201a8\"], [0.3333333333333333, \"#9c179e\"], [0.4444444444444444, \"#bd3786\"], [0.5555555555555556, \"#d8576b\"], [0.6666666666666666, \"#ed7953\"], [0.7777777777777778, \"#fb9f3a\"], [0.8888888888888888, \"#fdca26\"], [1.0, \"#f0f921\"]]}, \"colorway\": [\"#636efa\", \"#EF553B\", \"#00cc96\", \"#ab63fa\", \"#FFA15A\", \"#19d3f3\", \"#FF6692\", \"#B6E880\", \"#FF97FF\", \"#FECB52\"], \"font\": {\"color\": \"#2a3f5f\"}, \"geo\": {\"bgcolor\": \"white\", \"lakecolor\": \"white\", \"landcolor\": \"#E5ECF6\", \"showlakes\": true, \"showland\": true, \"subunitcolor\": \"white\"}, \"hoverlabel\": {\"align\": \"left\"}, \"hovermode\": \"closest\", \"mapbox\": {\"style\": \"light\"}, \"paper_bgcolor\": \"white\", \"plot_bgcolor\": \"#E5ECF6\", \"polar\": {\"angularaxis\": {\"gridcolor\": \"white\", \"linecolor\": \"white\", \"ticks\": \"\"}, \"bgcolor\": \"#E5ECF6\", \"radialaxis\": {\"gridcolor\": \"white\", \"linecolor\": \"white\", \"ticks\": \"\"}}, \"scene\": {\"xaxis\": {\"backgroundcolor\": \"#E5ECF6\", \"gridcolor\": \"white\", \"gridwidth\": 2, \"linecolor\": \"white\", \"showbackground\": true, \"ticks\": \"\", \"zerolinecolor\": \"white\"}, \"yaxis\": {\"backgroundcolor\": \"#E5ECF6\", \"gridcolor\": \"white\", \"gridwidth\": 2, \"linecolor\": \"white\", \"showbackground\": true, \"ticks\": \"\", \"zerolinecolor\": \"white\"}, \"zaxis\": {\"backgroundcolor\": \"#E5ECF6\", \"gridcolor\": \"white\", \"gridwidth\": 2, \"linecolor\": \"white\", \"showbackground\": true, \"ticks\": \"\", \"zerolinecolor\": \"white\"}}, \"shapedefaults\": {\"line\": {\"color\": \"#2a3f5f\"}}, \"ternary\": {\"aaxis\": {\"gridcolor\": \"white\", \"linecolor\": \"white\", \"ticks\": \"\"}, \"baxis\": {\"gridcolor\": \"white\", \"linecolor\": \"white\", \"ticks\": \"\"}, \"bgcolor\": \"#E5ECF6\", \"caxis\": {\"gridcolor\": \"white\", \"linecolor\": \"white\", \"ticks\": \"\"}}, \"title\": {\"x\": 0.05}, \"xaxis\": {\"automargin\": true, \"gridcolor\": \"white\", \"linecolor\": \"white\", \"ticks\": \"\", \"title\": {\"standoff\": 15}, \"zerolinecolor\": \"white\", \"zerolinewidth\": 2}, \"yaxis\": {\"automargin\": true, \"gridcolor\": \"white\", \"linecolor\": \"white\", \"ticks\": \"\", \"title\": {\"standoff\": 15}, \"zerolinecolor\": \"white\", \"zerolinewidth\": 2}}}, \"title\": {\"text\": \"Temperaturverlauf am 2020-08-20 in Darmstadt\"}, \"xaxis\": {\"anchor\": \"y\", \"domain\": [0.0, 1.0], \"title\": {\"text\": \"date\"}}, \"yaxis\": {\"anchor\": \"x\", \"domain\": [0.0, 1.0], \"title\": {\"text\": \"temperature\"}}},                        {\"responsive\": true}                    ).then(function(){\n",
       "                            \n",
       "var gd = document.getElementById('64b27c5b-542c-462d-901f-ab2e2ce264b3');\n",
       "var x = new MutationObserver(function (mutations, observer) {{\n",
       "        var display = window.getComputedStyle(gd).display;\n",
       "        if (!display || display === 'none') {{\n",
       "            console.log([gd, 'removed!']);\n",
       "            Plotly.purge(gd);\n",
       "            observer.disconnect();\n",
       "        }}\n",
       "}});\n",
       "\n",
       "// Listen for the removal of the full notebook cells\n",
       "var notebookContainer = gd.closest('#notebook-container');\n",
       "if (notebookContainer) {{\n",
       "    x.observe(notebookContainer, {childList: true});\n",
       "}}\n",
       "\n",
       "// Listen for the clearing of the current output cell\n",
       "var outputEl = gd.closest('.output');\n",
       "if (outputEl) {{\n",
       "    x.observe(outputEl, {childList: true});\n",
       "}}\n",
       "\n",
       "                        })                };                });            </script>        </div>"
      ]
     },
     "metadata": {},
     "output_type": "display_data"
    }
   ],
   "source": [
    "calculate_plot(tempbydate)"
   ]
  },
  {
   "cell_type": "code",
   "execution_count": null,
   "metadata": {},
   "outputs": [],
   "source": []
  }
 ],
 "metadata": {
  "kernelspec": {
   "display_name": "Python 3",
   "language": "python",
   "name": "python3"
  },
  "language_info": {
   "codemirror_mode": {
    "name": "ipython",
    "version": 3
   },
   "file_extension": ".py",
   "mimetype": "text/x-python",
   "name": "python",
   "nbconvert_exporter": "python",
   "pygments_lexer": "ipython3",
   "version": "3.7.6"
  }
 },
 "nbformat": 4,
 "nbformat_minor": 4
}
