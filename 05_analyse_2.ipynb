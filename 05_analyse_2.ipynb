{
 "cells": [
  {
   "cell_type": "markdown",
   "metadata": {},
   "source": [
    "# Darstellung des Temperaturverlaufes von 24h an einer Wetterstation"
   ]
  },
  {
   "cell_type": "markdown",
   "metadata": {},
   "source": [
    "Von Lea Pellikan   |   Matrikel-Nr.: 3062311   |   Abgabe: 15.11.2020"
   ]
  },
  {
   "cell_type": "markdown",
   "metadata": {},
   "source": [
    "Im folgendem Jupyter Notebook soll ein Barchart erstellt werden, das den stündlichen Temperaturverlauf eines ausgewählten Tages an einer ausgewählten Wetterstation darstellt. Die dafür verwendeten Daten stammen von der Quelle *************** . Diese Quelle wird von ******+ gepflegt und stellt, unter anderem, die stündlich gemessenen Temperaturen von allen Wetterstationen in Deutschland da.  Die Daten wurden aus Performanzgründen nicht direkt von Kafka importiert, sondern per CSV-Datei in eine MongoDB gespeichert. Aus dieser werden die benötigten Daten ausgelesen."
   ]
  },
  {
   "cell_type": "markdown",
   "metadata": {},
   "source": [
    "## Import der Libraries"
   ]
  },
  {
   "cell_type": "markdown",
   "metadata": {},
   "source": [
    "Im folgendem wird die Library **pymongo** für die Verbindung zur MongoDB verwendet und **pandas** für das Verarbeiten der Collection. Außerdem wird **plotly.express** zur Darstellung der Daten verwendet. "
   ]
  },
  {
   "cell_type": "code",
   "execution_count": null,
   "metadata": {},
   "outputs": [],
   "source": [
    "import pandas as pd\n",
    "import plotly.express as px\n",
    "from pymongo import MongoClient"
   ]
  },
  {
   "cell_type": "markdown",
   "metadata": {},
   "source": [
    "## Verbindungsaufbau zur MongoDB"
   ]
  },
  {
   "cell_type": "markdown",
   "metadata": {},
   "source": [
    "Im Folgendem wird die Verbindung zur MongoDB aufgebaut, wobei die Library **pymongo** verwendet wird. In dieser Anwnedung läuft diese in Docker."
   ]
  },
  {
   "cell_type": "code",
   "execution_count": null,
   "metadata": {},
   "outputs": [],
   "source": [
    "client = MongoClient('mongodb://localhost:27017/')\n",
    "stations = client.bda.stations\n",
    "weather = client.bda.weather"
   ]
  },
  {
   "cell_type": "markdown",
   "metadata": {},
   "source": [
    "Die methode **get_collection** erstellt ein Dictonary aus der Collection die ausgelesen wurde."
   ]
  },
  {
   "cell_type": "code",
   "execution_count": null,
   "metadata": {},
   "outputs": [],
   "source": [
    "def get_collection(collection):\n",
    "    documents = []\n",
    "    cursor = collection.find({})\n",
    "    for document in cursor:\n",
    "        documents.append(document)\n",
    "    return documents"
   ]
  },
  {
   "cell_type": "markdown",
   "metadata": {},
   "source": [
    "Im folgendem wird die Methode **get_collection** verwendet um mit Hilfe von pandas das Dataframe *stations_df* mit den Informationen der Wetterstationen und das Dataframe *weather_df* mit den Wetterinformationen gefüllt wird. Außerdem wird die Spalte *STATION_ID* zu *station_id* umbenannt, um eine einheitliche Benennung zu erhalten."
   ]
  },
  {
   "cell_type": "code",
   "execution_count": null,
   "metadata": {},
   "outputs": [],
   "source": [
    "stations_df = pd.DataFrame(get_collection(stations))\n",
    "stations_df = stations_df.rename(columns={\"STATION_ID\": \"station_id\"})"
   ]
  },
  {
   "cell_type": "code",
   "execution_count": null,
   "metadata": {},
   "outputs": [],
   "source": [
    "weather_df = pd.DataFrame(get_collection(weather))"
   ]
  },
  {
   "cell_type": "markdown",
   "metadata": {},
   "source": [
    "## Erläuterung der Daten"
   ]
  },
  {
   "cell_type": "markdown",
   "metadata": {},
   "source": [
    "Danach erfolgt die Zusammenführung der oben erwähnten Dataframes, wobei die station_id das gemeinsamme Attribut ist. Wie in der Ausgabe zu sehen ist, enthält das Dataframe jetzt folgende Daten:\n",
    "* die IDs der Wetterstationen (station_id), \n",
    "* das Datum inklusive Uhrzeit, zu dem die folgende Temperatur gemessen wurde (date), \n",
    "* die Zeitspanne des Datensatzes (FROM_DATE, TO_DATE), \n",
    "* das in diesem Beispiel vernachlässigt werden kann, \n",
    "* die Höhe der Messstation (STATION_HEIGHT), \n",
    "* die Koordinaten der Wetterstation (LAT,LON), \n",
    "* den Namen der Station (STATION_NAME) und \n",
    "* das Bundesland, in der die Wetterstation sich befindet (STATE)."
   ]
  },
  {
   "cell_type": "code",
   "execution_count": null,
   "metadata": {},
   "outputs": [],
   "source": [
    "weather_stations = pd.merge(weather_df,stations_df, on=\"station_id\", how=\"left\")\n",
    "weather_stations"
   ]
  },
  {
   "cell_type": "markdown",
   "metadata": {},
   "source": [
    "In der Methode *temp_by_date()* wird nach die Temperaturen des übergebenden Datums an der Station, dessen ID übergeben wurde, gefiltert."
   ]
  },
  {
   "cell_type": "code",
   "execution_count": null,
   "metadata": {},
   "outputs": [],
   "source": [
    "def temp_by_date(df,date,stationid):\n",
    "    result= df.loc[df['date'].dt.normalize() == date ]\n",
    "    result2 =  result.loc[result['station_id']== stationid ]\n",
    "    return result2"
   ]
  },
  {
   "cell_type": "markdown",
   "metadata": {},
   "source": [
    "Hier kommt die Methode *temp_by_date* zur Verwendung. Als Beispielparameter wird hier die ID der Wetterstation in Darmstadt (917) und das Datum 20.08.2020 übergeben.\n",
    "In der Ausgabe ist zu sehen, dass nurnoch die Informationen dieser Wetterstation an diesem Datum abgebildet werden."
   ]
  },
  {
   "cell_type": "code",
   "execution_count": null,
   "metadata": {},
   "outputs": [],
   "source": [
    "tempbydate = temp_by_date(weather_stations,\"2020-08-20 00:00:00\",917)\n",
    "tempbydate"
   ]
  },
  {
   "cell_type": "markdown",
   "metadata": {},
   "source": [
    "## Konfiguration des Diagrams"
   ]
  },
  {
   "cell_type": "markdown",
   "metadata": {},
   "source": [
    "In der Methode *calculate_plot* werden die Daten des oben abgebildete Dataframes in ein Bar-Chart transformiert. Hierbei stellt die X-Achse die Uhrzeit da und die Y-Achse die Temperatur der jeweiligen Stunde. In der Überschrift wird sowohl das Datum als auch der Name der Wetterstation angezeigt. Die Farbe der Balken ist an die Höhe der Temperatur angepasst."
   ]
  },
  {
   "cell_type": "code",
   "execution_count": null,
   "metadata": {},
   "outputs": [],
   "source": [
    "def calculate_plot(tempbydate):\n",
    "    fig2 =  px.bar(tempbydate,\n",
    "             y= \"temperature\", \n",
    "             x= \"date\",\n",
    "               title = 'Temperaturverlauf am ' + str(tempbydate[\"date\"].dt.date.iloc[0]) +\n",
    "                ' in ' + str(tempbydate[\"STATION_NAME\"].iloc[0] ) ,\n",
    "                hover_data=['station_id', 'STATION_NAME'], color='temperature')\n",
    "    fig2.show()"
   ]
  },
  {
   "cell_type": "code",
   "execution_count": null,
   "metadata": {},
   "outputs": [],
   "source": [
    "calculate_plot(tempbydate)"
   ]
  },
  {
   "cell_type": "code",
   "execution_count": null,
   "metadata": {},
   "outputs": [],
   "source": []
  }
 ],
 "metadata": {
  "kernelspec": {
   "display_name": "Python 3",
   "language": "python",
   "name": "python3"
  },
  "language_info": {
   "codemirror_mode": {
    "name": "ipython",
    "version": 3
   },
   "file_extension": ".py",
   "mimetype": "text/x-python",
   "name": "python",
   "nbconvert_exporter": "python",
   "pygments_lexer": "ipython3",
   "version": "3.7.6"
  }
 },
 "nbformat": 4,
 "nbformat_minor": 4
}
